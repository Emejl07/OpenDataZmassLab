{
 "cells": [
  {
   "cell_type": "markdown",
   "metadata": {},
   "source": [
    "## <CENTER> [SWE] Labb: Mätning av $Z$-bosonens massa med data från ATLAS-experimentet\n",
    " ## <CENTER> [ENG] Lab: Measurement of the invariant mass of the $Z$ boson using data from the ATLAS experiment.\n",
    "<img src=\"https://cds.cern.ch/record/1631395/files/vp1_Htautau_1muon1electron_run204153_evt35369265.png\" style=\"width: 600px;\">"
   ]
  },
  {
   "cell_type": "markdown",
   "metadata": {},
   "source": [
    "## [SWE] Introduktion\n",
    "   \n",
    "I denna labb får ni titta på riktig data från ATLAS! Experimentet har gjort en liten del av datan insamlad under 2012 tillgänglig för allmänheten. Datan består av proton-proton-kollisioner med kollisionsenergi 8 TeV.\n",
    "Ni kommer att analysera data med python, interaktivt, i denna notebook-miljö.\n",
    "Målet är att mäta $Z$-bosonens massa genom att rekonstruera den *invarianta massan* av elektron-positron-par och myon-antimyon-par.\n",
    "\n",
    "_______________________________________________________\n",
    "\n",
    "## [ENG] Introduction\n",
    "   \n",
    "In this lab you'll be looking at real data from ATLAS! The experiment has made a small part of the data collected in 2012 available for the public. The data consists of proton proton collisions at a collision energy of 8 TeV. You'll be analysing the data with python, in this interactive python environment.\n",
    "The goal is to measure the $Z$ boson mass by reconstructing the *invariant mass* of electron-positron and muon-antimuon pairs."
   ]
  },
  {
   "cell_type": "markdown",
   "metadata": {},
   "source": [
    "## <CENTER> Händelser i ATLAS\n",
    "    \n",
    "Large Hadron Collider vid CERN-laboratoriet utanför Geneve accelerar protonhopar ($10^{11}$ protoner/hop) upp till nära ljusets hastighet i två strålar som går åt motsatta håll. Man pekar strålarna mot varandra på fyra olika kollisionspunkter, inuti vart och ett av de fyra experimententen längs ringen: ATLAS, CMS, LHCb och ALICE. Idag är vi intresserade av ATLAS. \n",
    "\n",
    "Varje gång två hopar korsar varandra i ATLAS (var 25:e nanosekund) kolliderar ca 40 par av protoner. Partiklar (t.ex. en $Z$-boson, mer info snart) kan skapas ur energin i krocken och sönderfaller sedan om de är instabila. De stabila partiklarna flyger sedan ut genom detektorn och registreras av ATLAS. Varje sådan \"bild\" är ca 1 MB och kallas för ett \"event\" eller på svenska en \"händelse\". Datafilerna ni ska analysera är organiserade som tabeller där varje rad motsvarar en händelse och varje kolumn innehåller någon särkild information, t.ex. antalet registrerade elektroner och deras respektive energi.\n",
    "\n",
    "Den stora ATLAS-detektorn visas i figuren nedan. I nästa sektion förklaras hur den används för att mäta olika partiklar.\n",
    "\n",
    "<img src=\"http://opendata.atlas.cern/books/current/get-started/_book/pictures/ATLASImage.jpg\" style=\"width: 700px;\">"
   ]
  },
  {
   "cell_type": "markdown",
   "metadata": {},
   "source": [
    "## <center> Partikel-identifikation i ATLAS\n",
    "    \n",
    "ATLAS är designad för att kunna skilja på olika partiklar som passerar igenom detektorn.\n",
    "Den består av fyra subsystem, placerade efter varandra om vi rör oss radiellt ut från kollisionspunkten:\n",
    "* <b> Spårdetektor. </b> Denna detektor består i huvudsak av flera lager tunn kisel, i vilken elektriskt laddade partiklar interagerar. Tack vare ett magnetfält från en solenoid som omsluter detektorn böjer partiklarna av i proportion till dess rörelsemängd. Spårdetektorns uppgift är att mäta spåren från partiklarna och uppskatta dess rörelsemängd från spårets krökning.\n",
    "* <b> Elektromagnetisk kalorimeter. </b> Denna detektor består huvudsakligen av flytande argon och koppar, och är designad för att mäta energin på elektroner och fotoner. Dessa partiklar ger upphov till \"skurar\" av energi när de stoppas av materialet, skurar som mäts och används till att uppskatta partiklarnas energi.\n",
    "* <b> Hadronisk kalorimeter. </b> Hadroner (partiklar uppbyggda av kvarkar, t.ex. protoner, neutroner och pioner) är tyngre än elektroner och lämnar typiskt bara en mindre del av sin energi i den elektromagnetiska kalorimetern. De stoppas istället i den hadroniska kalorimetern, som består av stål och plast-scintillatorer. \n",
    "* <b> Myonsystemet. </b> Myoner tar sig igenom alla ovan nämnda detektorer och åker sedan igenom myondetektorn. Det är det största systemet som i huvudsak består av drift-rör. Ett toroid-fält ger böjning av myonerna som kan användas i rörelsemängdsmätningen.\n",
    "\n",
    "Denna design ger upphov till olika signaturer för olika partiklar.\n",
    "De olika detektorerna och resulterande signaturer för olika partiklar visas i figuren nedan.\n",
    "\n",
    "<img src=\"http://inspirehep.net/record/884672/files/experiment.png\">\n"
   ]
  },
  {
   "cell_type": "markdown",
   "metadata": {},
   "source": [
    "## <CENTER> $Z$-bosonen\n",
    "\n",
    "I partikelfysikens Standardmodell finns *materiapartiklar*, fermioner, med halv-taligt s.k. \"spin\". Spin är intrinsiskt rörelsemängdsmoment, för fermioner lika med $\\hbar/2$.\n",
    "Partiklar med heltaliga spin ($n\\hbar$) kallas bosoner och fungerar som *kraftbärarpartiklar*, förmedlare av växelverkan. Fotonen är kraftbäraren för den elektromagnetiska kraften, gluoner för den starka kärnkraften som håller ihop en proton och atomkärnor.\n",
    "\n",
    "$Z$-bosonen och $W$-bosonen är förmedlare av den svaga kärnkraften (via vilken radiaktivt sönderfall sker).\n",
    "$Z$-bosonen upptäcktes vid CERN 1983 m.h.a. acceleratorn Super-Proton-Synchrotron (då den starkaste acceleratorn, idag används den används som \"föraccelerator\" till Large Hadron Collider). Det är en tung partikel (väger nästan lika mycket som en silveratom). \n",
    "Nedan får ni spara ett referensvärde på dess massa och osäkerhet, för att sedan kunna jämföra värdet det med ert uppmätta värde. \n",
    "Kolla upp värdena från Particle Data Group (de listar de bästa uppskattningarna vi har idag) och spara de här för senare användning."
   ]
  },
  {
   "cell_type": "code",
   "execution_count": null,
   "metadata": {},
   "outputs": [],
   "source": [
    "# referensvärden för Z-bosonens massa\n",
    "mZ_reference = ... # massa i GeV\n",
    "mZ_unc_reference = ... # osäkerhet"
   ]
  },
  {
   "cell_type": "markdown",
   "metadata": {},
   "source": [
    "Bosonen har kort livslängd ($3×10^{−25}$ s) och sönderfaller omedelbart till två fermioner, t.ex. till en elektron och en positron, vilket representeras i följande <a href=\"https://en.wikipedia.org/wiki/Feynman_diagram\">Feynmandiagram</a>\n",
    "<img src=\"http://atlas.physicsmasterclasses.org/zpath_files/img/highslide/feynman/Z_ElectronPositron.png\" style=\"width: 400px;\">\n",
    "Den kan också sönderfalla till ett myon-antimyon-par (Feynmandiagrammet ser då likadant ut förutom att vi har $\\mu$ istället för $e$ till höger).\n",
    "<b> Vi kan alltså leta efter $Z$-bosoner i data genom att filtrera data för händelser som innehåller elektron-positron- eller myon-antimyon-par. </b> Bosonen kan sönderfalla till kvark-antikvark-par, men dessa sluttillstånd är experimentellt krångligare då det är vanligt att producera ett sådant sluttillstånd utan att någon $Z$-boson producerats. Genom att använda elektroner och myoner får vi ett *renare* sluttillstånd utan så mycket bakgrund."
   ]
  },
  {
   "cell_type": "markdown",
   "metadata": {},
   "source": [
    "## <CENTER> Invariant massa"
   ]
  },
  {
   "cell_type": "markdown",
   "metadata": {},
   "source": [
    "Om en händelse innehåller t.ex. två elektroner, kan man beräkna den invarianta massan för dem. \n",
    "Om vi gör approximationen att elektronerna är masslösa fås invarianta massan som\n",
    "$$\n",
    "M^2 = E_1 E_2 - \\vec{p_1}\\cdot\\vec{p_2} \\approx 2 p_1 p_2 (1 - \\cos\\alpha),\n",
    "$$\n",
    "\n",
    "där 1 och 2 indexerar de två elektronerna, $p$ står för rörelsemängd och $\\alpha$ är vinkeln mellan elektronerna. \n",
    "\n",
    "Vi använder följande koordinat-system: $z$-axeln går längs med strålröret, $y$-axeln pekar uppåt och $x$-axeln pekar in mot mitten av acceleratorringen. I ATLAS mäts partiklars transversella rörelsemängd $p_\\rm{T}$ och färdriktning relativt $z$-axeln med vinkeln $\\theta$. Typiskt används dock \"pseudorapiditet\" $\\eta$ istället för $\\theta$, definierad enligt den övre figuren. Färdrikting i $xy$-planet definieras av vinkeln $\\phi$ mellan $p_\\rm{T}$ och $x$-axeln. I figurerna nedan visas hur de är definierade. Den transversella rörelsemängden är alltså rörelsemängden i det transversella planet. \n",
    "<img src=\"https://www.lhc-closer.es/webapp/files/1435504163_ad6fd1cc4163a3a2d3c54388c80c45ba.jpg\" style=\"width: 500px;\">\n",
    "\n",
    "Med dessa variabler ges invarianta massan av \n",
    "$$\n",
    "M^2 = 2 p_\\rm{T1} p_\\rm{T2} (\\cosh(\\eta_1 - \\eta_2) - \\cos(\\phi_1 - \\phi_2))\n",
    "$$\n",
    "\n"
   ]
  },
  {
   "cell_type": "markdown",
   "metadata": {},
   "source": [
    "## <CENTER> Dataanalys med ROOT"
   ]
  },
  {
   "cell_type": "markdown",
   "metadata": {},
   "source": [
    "Vi importerar C++-biblioteket ROOT som innehåller verktyg för att analysera och visualisera data."
   ]
  },
  {
   "cell_type": "code",
   "execution_count": null,
   "metadata": {},
   "outputs": [],
   "source": [
    "import ROOT"
   ]
  },
  {
   "cell_type": "markdown",
   "metadata": {},
   "source": [
    "## <CENTER> Data\n",
    "\n",
    "Vi hämtar ATLAS open data från internet och laddar in det i ett ROOT-träd. Vi börjar med simulerad data, där en $Z$-boson skapats och sönderfallit till ett elektron-positron-par. Läs igenom följande kod noggrant"
   ]
  },
  {
   "cell_type": "code",
   "execution_count": null,
   "metadata": {},
   "outputs": [],
   "source": [
    "# Öppna en fil med simulerad data, innehållandes Z-bosoner som sönderfaller till elektron-positron-par (därav \"Zee\" i namnet)\n",
    "f = ROOT.TFile.Open(\"http://opendata.atlas.cern/release/samples/MC/mc_147770.Zee.root\")\n",
    "tree = f.Get(\"mini\") # hämta trädet (det är döpt till \"mini\"). Varje \"rad\" i ett träd är en händelse\n",
    "\n",
    "# tree.Print(\"all\") # kör detta för att visa varje gren (\"kolumn\") i trädet, alltså de olika sorts data om en händelse som finns tillgänglig (t.ex. hur många elektroner eller transversell rörelsemängd för myoner...)\n",
    "for ievt in range(3): # kolla närmare på de tre första händelserna\n",
    "    tree.GetEntry(ievt) # ladda händelse nr ievt\n",
    "    print(\"Händelse {} :: Antalet leptoner = {}\".format(ievt, tree.lep_n)) # \"lep_n\" är antalet leptoner, med leptoner\n",
    "                                                                           # menar vi här elektroner eller myoner\n",
    "    for ilep in range(tree.lep_n): # loopa över leptonerna\n",
    "        print(\"        Lepton {} är av typ {} och har transversell rörelsemängd på {:.0f} GeV\".format(ilep+1, tree.lep_type[ilep], tree.lep_pt[ilep]*1e-3))"
   ]
  },
  {
   "cell_type": "code",
   "execution_count": null,
   "metadata": {},
   "outputs": [],
   "source": [
    "%run hints/tips1.py"
   ]
  },
  {
   "cell_type": "markdown",
   "metadata": {},
   "source": [
    "Nu testar vi att rita distributionen av den transversella rörelsemängden för elektroner i de första 1000 händelserna."
   ]
  },
  {
   "cell_type": "code",
   "execution_count": null,
   "metadata": {},
   "outputs": [],
   "source": [
    "# skapa ett histogram med 15 binnar\n",
    "h_pt = ROOT.TH1F(\"h_pt\", \"; Transverse momentum [GeV]; Number of electrons\", 15, 15., 90.) # från 15 till 90 GeV\n",
    "nevents=1000\n",
    "ievt=0\n",
    "for evt in tree: # loopa över händelser\n",
    "    ievt+=1\n",
    "    if ievt >= nevents: break\n",
    "    for ilep in range(evt.lep_n):\n",
    "        if evt.lep_type[ilep] == 11: # vi vill bara rita elektroner (typ=11)\n",
    "            h_pt.Fill(evt.lep_pt[ilep]*1e-3) # fyll histogram ()"
   ]
  },
  {
   "cell_type": "code",
   "execution_count": null,
   "metadata": {},
   "outputs": [],
   "source": [
    "# \"magic\"-kommando för interaktiv visualisering\n",
    "%jsroot on "
   ]
  },
  {
   "cell_type": "code",
   "execution_count": null,
   "metadata": {},
   "outputs": [],
   "source": [
    "# öppna en canvas att rita på\n",
    "canvas = ROOT.TCanvas(\"Canvas\",\"a first way to plot a variable\",800,600)\n",
    "# rita histogrammet\n",
    "h_pt.Draw(\"e1p\")\n",
    "# öppna canvasen\n",
    "canvas.Draw()"
   ]
  },
  {
   "cell_type": "markdown",
   "metadata": {},
   "source": [
    "Den uppritade figuren är interaktiv: testa att klicka runt (använd högerklick) och scrolla. Ni kan ändra stil och färg på histogrammet, titel på axlarna etc. Figuren kan sparas i png-format genom att högerklicka mitt på canvasen eller i godtyckligt format via `canvas.SaveAs(figure.pdf)`"
   ]
  },
  {
   "cell_type": "markdown",
   "metadata": {},
   "source": [
    "I nästa notebook ska vi lära oss lite mer om hur vi använder ROOT, specifikt om hur man gör anpassningar."
   ]
  }
 ],
 "metadata": {
  "kernelspec": {
   "display_name": "Python 3",
   "language": "python",
   "name": "python3"
  },
  "language_info": {
   "codemirror_mode": {
    "name": "ipython",
    "version": 3
   },
   "file_extension": ".py",
   "mimetype": "text/x-python",
   "name": "python",
   "nbconvert_exporter": "python",
   "pygments_lexer": "ipython3",
   "version": "3.7.0"
  }
 },
 "nbformat": 4,
 "nbformat_minor": 2
}
