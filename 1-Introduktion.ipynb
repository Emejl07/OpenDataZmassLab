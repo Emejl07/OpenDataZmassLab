{
 "cells": [
  {
   "cell_type": "markdown",
   "metadata": {},
   "source": [
    "# <CENTER> Labb SH1015: Mätning av Z-bosonens massa med data från ATLAS-experimentet\n",
    "<img src=\"https://cds.cern.ch/record/1631395/files/vp1_Htautau_1muon1electron_run204153_evt35369265.png\">"
   ]
  },
  {
   "cell_type": "markdown",
   "metadata": {},
   "source": [
    "## <CENTER> Introduktion\n",
    "   \n",
    "I denna labb får ni titta på riktig data från ATLAS! Experimentet har gjort en liten del av datan insamlad under 2012 tillgänglig för allmänheten. \n",
    "Ni kommer att analysera data med python, interaktivt, i denna notebook-miljö.\n",
    "Målet är att mäta $Z$-bosonens massa genom att rekonstruera den *invarianta massan* av elektron-positron-par och myon-antimyon-par."
   ]
  },
  {
   "cell_type": "markdown",
   "metadata": {},
   "source": [
    "## <CENTER> $Z$-bosonen\n",
    "\n",
    "Z-bosonen är en av Standardmodellens *kraftbärarpartiklar*, som tillsammans med $W$-bosonen förmedlar den svaga kärnkraften.\n",
    "Den upptäcktes vid CERN 1983 m.h.a. acceleratorn Super-Proton-Synchrotron (då den starkaste acceleratorn, idag används den används som \"föraccelerator\" till Large Hadron Collider).\n",
    "\n",
    "Det är en tung partikel (väger nästan lika mycket som en silveratom). \n",
    "Vi sparar ett referensvärde på dess massa (den bästa uppskattningen vi har idag), för att sedan kunna jämföra värdet det med ert uppmätta värde. \n",
    "Kolla upp värdena från Particle Data Group och spara de här för senare användning."
   ]
  },
  {
   "cell_type": "code",
   "execution_count": 3,
   "metadata": {},
   "outputs": [],
   "source": [
    "# referensvärden för Z-bosonens massa, från http://pdg.lbl.gov/2018/listings/rpp2018-list-z-boson.pdf\n",
    "mZ_reference = ... # massa i GeV\n",
    "mZ_unc_reference = ... # osäkerhet"
   ]
  },
  {
   "cell_type": "markdown",
   "metadata": {},
   "source": [
    "Bosonen sönderfaller till två fermioner, t.ex. till en elektron och en positron, vilket representeras i följande Feynmandiagram:"
   ]
  },
  {
   "cell_type": "markdown",
   "metadata": {},
   "source": [
    "## <CENTER> Händelser i ATLAS\n",
    "    \n",
    "Varje gång två protonhopar ($10^{11}$ protoner/hop) korsar varandra i ATLAS (var 25:e nanosekund) kolliderar ca 40 par. Partiklar (t.ex. en $Z$-boson) kan skapas ur energin i krocken och sönderfaller sedan om de är instabila. De stabila partiklarna flyger sedan ut genom detektorn och registreras av ATLAS. Varje sådan \"bild\" är ca 1 MB och kallas för ett \"event\" eller på svenska en \"händelse\". Datafilerna ni ska analysera är organiserade som tabeller där varje rad motsvarar en händelse och varje kolumn innehåller någon särkild information, t.ex. antalet registrerade elektroner och deras respektive energi."
   ]
  },
  {
   "cell_type": "markdown",
   "metadata": {},
   "source": [
    "## <CENTER> Invariant massa"
   ]
  },
  {
   "cell_type": "markdown",
   "metadata": {},
   "source": [
    "Om en händelse innehåller t.ex. två elektroner, kan man beräkna den invarianta massan för dem. \n",
    "Om vi gör approximationen att elektronerna är masslösa fås invarianta massan som\n",
    "$$\n",
    "M^2 = E_1 E_2 - \\vec{p_1}\\cdot\\vec{p_2} = 2 p_1 p_2 (1 - \\cos\\alpha),\n",
    "$$\n",
    "där $p$ står för rörelsemängd och $\\alpha$ är vinkeln mellan elektronerna. \n",
    "\n",
    "I ATLAS mäts partiklars transversella rörelsemängd $p_\\rm{T}$ och färdriktning relativt $z$-axeln (strålröret) med vinkeln $\\theta$ och i $x-y$-planet med vinkeln $\\phi$. Då ges invarianta massan av \n",
    "$$\n",
    "M^2 = 2 p_\\rm{T1} p_\\rm{T2} (\\cosh(\\eta_1 - \\eta_2) - \\cos(\\phi_1 - \\phi_2))\n",
    "$$\n",
    "där variabeln \"pseudorapiditet\" $\\eta = -\\ln(\\tan(\\theta/2))$ använts."
   ]
  },
  {
   "cell_type": "markdown",
   "metadata": {},
   "source": [
    "Vi importerar C++-biblioteket ROOT som innehåller verktyg för att analysera och visualisera data."
   ]
  },
  {
   "cell_type": "code",
   "execution_count": 2,
   "metadata": {},
   "outputs": [
    {
     "name": "stdout",
     "output_type": "stream",
     "text": [
      "Welcome to JupyROOT 6.14/04\n"
     ]
    }
   ],
   "source": [
    "import ROOT"
   ]
  },
  {
   "cell_type": "markdown",
   "metadata": {},
   "source": [
    "## <CENTER> Data\n",
    "\n",
    "Vi hämtar ATLAS open data från internet och laddar in det i ett ROOT-träd. Vi börjar med simulerad data, där en Z-boson skapats och sönderfallit till ett elektron-positron-par."
   ]
  },
  {
   "cell_type": "code",
   "execution_count": 24,
   "metadata": {},
   "outputs": [
    {
     "name": "stdout",
     "output_type": "stream",
     "text": [
      "Händelse 0 :: Antalet leptoner = 1\n",
      "        Lepton 1 är av typ 11 och har transversell rörelsemängd på 30 GeV\n",
      "Händelse 1 :: Antalet leptoner = 2\n",
      "        Lepton 1 är av typ 11 och har transversell rörelsemängd på 93 GeV\n",
      "        Lepton 2 är av typ 11 och har transversell rörelsemängd på 20 GeV\n",
      "Händelse 2 :: Antalet leptoner = 2\n",
      "        Lepton 1 är av typ 11 och har transversell rörelsemängd på 43 GeV\n",
      "        Lepton 2 är av typ 11 och har transversell rörelsemängd på 37 GeV\n",
      "******************************************************************************\n",
      "*Tree    :mini      : 4-vectors + variables required for scaling factors     *\n",
      "*Entries :  7500000 : Total =      2134734070 bytes  File  Size =  966057844 *\n",
      "*        :          : Tree compression factor =   2.21                       *\n",
      "******************************************************************************\n",
      "*Br    0 :runNumber : runNumber/I                                            *\n",
      "*Entries :  7500000 : Total  Size=   30006369 bytes  File Size  =     152653 *\n",
      "*Baskets :       63 : Basket Size=     808960 bytes  Compression= 196.56     *\n",
      "*............................................................................*\n",
      "*Br    1 :eventNumber : eventNumber/I                                        *\n",
      "*Entries :  7500000 : Total  Size=   30006503 bytes  File Size  =   16864535 *\n",
      "*Baskets :       63 : Basket Size=     808960 bytes  Compression=   1.78     *\n",
      "*............................................................................*\n",
      "*Br    2 :channelNumber : channelNumber/I                                    *\n",
      "*Entries :  7500000 : Total  Size=   30006637 bytes  File Size  =     152905 *\n",
      "*Baskets :       63 : Basket Size=     808960 bytes  Compression= 196.23     *\n",
      "*............................................................................*\n",
      "*Br    3 :mcWeight  : mcWeight/F                                             *\n",
      "*Entries :  7500000 : Total  Size=   30006302 bytes  File Size  =   17450564 *\n",
      "*Baskets :       63 : Basket Size=     808960 bytes  Compression=   1.72     *\n",
      "*............................................................................*\n",
      "*Br    4 :pvxp_n    : pvxp_n/I                                               *\n",
      "*Entries :  7500000 : Total  Size=   30006168 bytes  File Size  =    6797884 *\n",
      "*Baskets :       63 : Basket Size=     808960 bytes  Compression=   4.41     *\n",
      "*............................................................................*\n",
      "*Br    5 :vxp_z     : vxp_z/F                                                *\n",
      "*Entries :  7500000 : Total  Size=   30006101 bytes  File Size  =   27871732 *\n",
      "*Baskets :       63 : Basket Size=     808960 bytes  Compression=   1.08     *\n",
      "*............................................................................*\n",
      "*Br    6 :scaleFactor_PILEUP : scaleFactor_PILEUP/F                          *\n",
      "*Entries :  7500000 : Total  Size=   30006972 bytes  File Size  =    2007112 *\n",
      "*Baskets :       63 : Basket Size=     808960 bytes  Compression=  14.95     *\n",
      "*............................................................................*\n",
      "*Br    7 :scaleFactor_ELE : scaleFactor_ELE/F                                *\n",
      "*Entries :  7500000 : Total  Size=   30006771 bytes  File Size  =   18190282 *\n",
      "*Baskets :       63 : Basket Size=     808960 bytes  Compression=   1.65     *\n",
      "*............................................................................*\n",
      "*Br    8 :scaleFactor_MUON : scaleFactor_MUON/F                              *\n",
      "*Entries :  7500000 : Total  Size=   30006838 bytes  File Size  =     450217 *\n",
      "*Baskets :       63 : Basket Size=     808960 bytes  Compression=  66.65     *\n",
      "*............................................................................*\n",
      "*Br    9 :scaleFactor_BTAG : scaleFactor_BTAG/F                              *\n",
      "*Entries :  7500000 : Total  Size=   30006838 bytes  File Size  =   14053069 *\n",
      "*Baskets :       63 : Basket Size=     808960 bytes  Compression=   2.14     *\n",
      "*............................................................................*\n",
      "*Br   10 :scaleFactor_TRIGGER : scaleFactor_TRIGGER/F                        *\n",
      "*Entries :  7500000 : Total  Size=   30007039 bytes  File Size  =   18422368 *\n",
      "*Baskets :       63 : Basket Size=     808960 bytes  Compression=   1.63     *\n",
      "*............................................................................*\n",
      "*Br   11 :scaleFactor_JVFSF : scaleFactor_JVFSF/F                            *\n",
      "*Entries :  7500000 : Total  Size=   30006905 bytes  File Size  =     153032 *\n",
      "*Baskets :       63 : Basket Size=     808960 bytes  Compression= 196.07     *\n",
      "*............................................................................*\n",
      "*Br   12 :scaleFactor_ZVERTEX : scaleFactor_ZVERTEX/F                        *\n",
      "*Entries :  7500000 : Total  Size=   30007039 bytes  File Size  =   14123690 *\n",
      "*Baskets :       63 : Basket Size=     808960 bytes  Compression=   2.12     *\n",
      "*............................................................................*\n",
      "*Br   13 :trigE     : trigE/O                                                *\n",
      "*Entries :  7500000 : Total  Size=    7546023 bytes  File Size  =      85107 *\n",
      "*Baskets :      497 : Basket Size=      15872 bytes  Compression=  88.54     *\n",
      "*............................................................................*\n",
      "*Br   14 :trigM     : trigM/O                                                *\n",
      "*Entries :  7500000 : Total  Size=    7546023 bytes  File Size  =      89933 *\n",
      "*Baskets :      497 : Basket Size=      15872 bytes  Compression=  83.79     *\n",
      "*............................................................................*\n",
      "*Br   15 :passGRL   : passGRL/O                                              *\n",
      "*Entries :  7500000 : Total  Size=    7547025 bytes  File Size  =      85940 *\n",
      "*Baskets :      497 : Basket Size=      15872 bytes  Compression=  87.70     *\n",
      "*............................................................................*\n",
      "*Br   16 :hasGoodVertex : hasGoodVertex/O                                    *\n",
      "*Entries :  7500000 : Total  Size=    7550031 bytes  File Size  =     486816 *\n",
      "*Baskets :      497 : Basket Size=      15872 bytes  Compression=  15.49     *\n",
      "*............................................................................*\n",
      "*Br   17 :lep_n     : lep_n/i                                                *\n",
      "*Entries :  7500000 : Total  Size=   30006101 bytes  File Size  =    3118041 *\n",
      "*Baskets :       63 : Basket Size=     808960 bytes  Compression=   9.62     *\n",
      "*............................................................................*\n",
      "*Br   18 :lep_truthMatched : lep_truthMatched[lep_n]/O                       *\n",
      "*Entries :  7500000 : Total  Size=   41641777 bytes  File Size  =   12066422 *\n",
      "*Baskets :      125 : Basket Size=     808960 bytes  Compression=   3.45     *\n",
      "*............................................................................*\n",
      "*Br   19 :lep_trigMatched : lep_trigMatched[lep_n]/s                         *\n",
      "*Entries :  7500000 : Total  Size=   53269228 bytes  File Size  =   14640066 *\n",
      "*Baskets :      126 : Basket Size=     808960 bytes  Compression=   3.64     *\n",
      "*............................................................................*\n",
      "*Br   20 :lep_pt    : lep_pt[lep_n]/F                                        *\n",
      "*Entries :  7500000 : Total  Size=   76529260 bytes  File Size  =   51727096 *\n",
      "*Baskets :      188 : Basket Size=     808960 bytes  Compression=   1.48     *\n",
      "*............................................................................*\n",
      "*Br   21 :lep_eta   : lep_eta[lep_n]/F                                       *\n",
      "*Entries :  7500000 : Total  Size=   76529452 bytes  File Size  =   53826429 *\n",
      "*Baskets :      188 : Basket Size=     808960 bytes  Compression=   1.42     *\n",
      "*............................................................................*\n",
      "*Br   22 :lep_phi   : lep_phi[lep_n]/F                                       *\n",
      "*Entries :  7500000 : Total  Size=   76529452 bytes  File Size  =   53731856 *\n",
      "*Baskets :      188 : Basket Size=     808960 bytes  Compression=   1.42     *\n",
      "*............................................................................*\n",
      "*Br   23 :lep_E     : lep_E[lep_n]/F                                         *\n",
      "*Entries :  7500000 : Total  Size=   76529068 bytes  File Size  =   52157297 *\n",
      "*Baskets :      188 : Basket Size=     808960 bytes  Compression=   1.47     *\n",
      "*............................................................................*\n",
      "*Br   24 :lep_z0    : lep_z0[lep_n]/F                                        *\n",
      "*Entries :  7500000 : Total  Size=   76529260 bytes  File Size  =   54073355 *\n",
      "*Baskets :      188 : Basket Size=     808960 bytes  Compression=   1.42     *\n",
      "*............................................................................*\n",
      "*Br   25 :lep_charge : lep_charge[lep_n]/F                                   *\n",
      "*Entries :  7500000 : Total  Size=   76530028 bytes  File Size  =   15643819 *\n",
      "*Baskets :      188 : Basket Size=     808960 bytes  Compression=   4.89     *\n",
      "*............................................................................*\n",
      "*Br   26 :lep_type  : lep_type[lep_n]/i                                      *\n",
      "*Entries :  7500000 : Total  Size=   76529637 bytes  File Size  =   11046889 *\n",
      "*Baskets :      188 : Basket Size=     808960 bytes  Compression=   6.93     *\n",
      "*............................................................................*\n",
      "*Br   27 :lep_flag  : lep_flag[lep_n]/i                                      *\n",
      "*Entries :  7500000 : Total  Size=   76529637 bytes  File Size  =   21070837 *\n",
      "*Baskets :      188 : Basket Size=     808960 bytes  Compression=   3.63     *\n",
      "*............................................................................*\n",
      "*Br   28 :lep_ptcone30 : lep_ptcone30[lep_n]/F                               *\n",
      "*Entries :  7500000 : Total  Size=   76530412 bytes  File Size  =   26568297 *\n",
      "*Baskets :      188 : Basket Size=     808960 bytes  Compression=   2.88     *\n",
      "*............................................................................*\n",
      "*Br   29 :lep_etcone20 : lep_etcone20[lep_n]/F                               *\n",
      "*Entries :  7500000 : Total  Size=   76530412 bytes  File Size  =   53298378 *\n",
      "*Baskets :      188 : Basket Size=     808960 bytes  Compression=   1.44     *\n",
      "*............................................................................*\n",
      "*Br   30 :lep_trackd0pvunbiased : lep_trackd0pvunbiased[lep_n]/F             *\n",
      "*Entries :  7500000 : Total  Size=   76532140 bytes  File Size  =   54112082 *\n",
      "*Baskets :      188 : Basket Size=     808960 bytes  Compression=   1.41     *\n",
      "*............................................................................*\n",
      "*Br   31 :lep_tracksigd0pvunbiased : lep_tracksigd0pvunbiased[lep_n]/F       *\n",
      "*Entries :  7500000 : Total  Size=   76532716 bytes  File Size  =   51551681 *\n",
      "*Baskets :      188 : Basket Size=     808960 bytes  Compression=   1.48     *\n",
      "*............................................................................*\n",
      "*Br   32 :met_et    : met_et/F                                               *\n",
      "*Entries :  7500000 : Total  Size=   30006168 bytes  File Size  =   26919495 *\n",
      "*Baskets :       63 : Basket Size=     808960 bytes  Compression=   1.11     *\n",
      "*............................................................................*\n",
      "*Br   33 :met_phi   : met_phi/F                                              *\n",
      "*Entries :  7500000 : Total  Size=   30006235 bytes  File Size  =   27805880 *\n",
      "*Baskets :       63 : Basket Size=     808960 bytes  Compression=   1.08     *\n",
      "*............................................................................*\n",
      "*Br   34 :jet_n     : jet_n/i                                                *\n",
      "*Entries :  7500000 : Total  Size=   30006101 bytes  File Size  =    4188287 *\n",
      "*Baskets :       63 : Basket Size=     808960 bytes  Compression=   7.16     *\n",
      "*............................................................................*\n",
      "*Br   35 :alljet_n  : alljet_n/i                                             *\n",
      "*Entries :  7500000 : Total  Size=   30006302 bytes  File Size  =    4446992 *\n",
      "*Baskets :       63 : Basket Size=     808960 bytes  Compression=   6.75     *\n",
      "*............................................................................*\n",
      "*Br   36 :jet_pt    : jet_pt[alljet_n]/F                                     *\n",
      "*Entries :  7500000 : Total  Size=   55115322 bytes  File Size  =   30128817 *\n",
      "*Baskets :      126 : Basket Size=     808960 bytes  Compression=   1.83     *\n",
      "*............................................................................*\n",
      "*Br   37 :jet_eta   : jet_eta[alljet_n]/F                                    *\n",
      "*Entries :  7500000 : Total  Size=   55115452 bytes  File Size  =   31068560 *\n",
      "*Baskets :      126 : Basket Size=     808960 bytes  Compression=   1.77     *\n",
      "*............................................................................*\n",
      "*Br   38 :jet_phi   : jet_phi[alljet_n]/F                                    *\n",
      "*Entries :  7500000 : Total  Size=   55115452 bytes  File Size  =   31128460 *\n",
      "*Baskets :      126 : Basket Size=     808960 bytes  Compression=   1.77     *\n",
      "*............................................................................*\n",
      "*Br   39 :jet_E     : jet_E[alljet_n]/F                                      *\n",
      "*Entries :  7500000 : Total  Size=   55115192 bytes  File Size  =   30305052 *\n",
      "*Baskets :      126 : Basket Size=     808960 bytes  Compression=   1.82     *\n",
      "*............................................................................*\n",
      "*Br   40 :jet_m     : jet_m[alljet_n]/F                                      *\n",
      "*Entries :  7500000 : Total  Size=   55115192 bytes  File Size  =   30102708 *\n",
      "*Baskets :      126 : Basket Size=     808960 bytes  Compression=   1.83     *\n",
      "*............................................................................*\n",
      "*Br   41 :jet_jvf   : jet_jvf[alljet_n]/F                                    *\n",
      "*Entries :  7500000 : Total  Size=   55115452 bytes  File Size  =   26725836 *\n",
      "*Baskets :      126 : Basket Size=     808960 bytes  Compression=   2.06     *\n",
      "*............................................................................*\n",
      "*Br   42 :jet_trueflav : jet_trueflav[alljet_n]/I                            *\n",
      "*Entries :  7500000 : Total  Size=   55116095 bytes  File Size  =    9620773 *\n",
      "*Baskets :      126 : Basket Size=     808960 bytes  Compression=   5.73     *\n",
      "*............................................................................*\n",
      "*Br   43 :jet_truthMatched : jet_truthMatched[alljet_n]/I                    *\n",
      "*Entries :  7500000 : Total  Size=   55116615 bytes  File Size  =    9826796 *\n",
      "*Baskets :      126 : Basket Size=     808960 bytes  Compression=   5.61     *\n",
      "*............................................................................*\n",
      "*Br   44 :jet_SV0   : jet_SV0[alljet_n]/F                                    *\n",
      "*Entries :  7500000 : Total  Size=   55115452 bytes  File Size  =    9638925 *\n",
      "*Baskets :      126 : Basket Size=     808960 bytes  Compression=   5.72     *\n",
      "*............................................................................*\n",
      "*Br   45 :jet_MV1   : jet_MV1[alljet_n]/F                                    *\n",
      "*Entries :  7500000 : Total  Size=   55115452 bytes  File Size  =   28016793 *\n",
      "*Baskets :      126 : Basket Size=     808960 bytes  Compression=   1.97     *\n",
      "*............................................................................*\n"
     ]
    }
   ],
   "source": [
    "# Öppna en fil med simulerad data, innehållandes Z-bosoner som sönderfaller till elektron-positron-par (därav \"Zee\" i namnet)\n",
    "f = ROOT.TFile.Open(\"http://opendata.atlas.cern/release/samples/MC/mc_147770.Zee.root\")\n",
    "tree = f.Get(\"mini\") # hämta trädet. Varje \"rad\" i ett träd är en händelse\n",
    "\n",
    "tree.Print(\"all\") # denna rad visar varje gren (\"kolumn\") i trädet, alltså olika data som karakteriserar händelsen\n",
    "for ievt in range(3): # kolla närmare på de tre första händelserna\n",
    "    tree.GetEntry(ievt) # ladda händelse nr ievt\n",
    "    print(\"Händelse {} :: Antalet leptoner = {}\".format(ievt, tree.lep_n)) # \"lep_n\" är antalet leptoner, med leptoner\n",
    "                                                                           # menar vi här elektroner eller myoner\n",
    "    for ilep in range(tree.lep_n): # loopa över leptonerna\n",
    "        print(\"        Lepton {} är av typ {} och har transversell rörelsemängd på {:.0f} GeV\".format(ilep+1, tree.lep_type[ilep], tree.lep_pt[ilep]*1e-3))"
   ]
  },
  {
   "cell_type": "markdown",
   "metadata": {},
   "source": [
    "Nu testar vi att plotta distributionen av den transversella rörelsemängden för elektroner i de första 1000 händelserna."
   ]
  },
  {
   "cell_type": "code",
   "execution_count": 22,
   "metadata": {},
   "outputs": [
    {
     "name": "stderr",
     "output_type": "stream",
     "text": [
      "Warning in <TDavixFile::Append>: Replacing existing TH1: h_pt (Potential memory leak).\n"
     ]
    }
   ],
   "source": [
    "h_pt = ROOT.TH1F(\"h_pt\", \"; Transverse momentum [GeV]; Number of electrons\", 15, 15., 90.) # histogram med 15 binnar\n",
    "nevents=1000\n",
    "ievt=0\n",
    "for evt in tree: # loopa över händelser\n",
    "    ievt+=1\n",
    "    if ievt >= nevents: break\n",
    "    for ilep in range(evt.lep_n):\n",
    "        if evt.lep_type[ilep] == 11: # vi vill bara rita elektroner (typ=11)\n",
    "            h_pt.Fill(evt.lep_pt[ilep]*1e-3) # fyll histogram"
   ]
  },
  {
   "cell_type": "code",
   "execution_count": 16,
   "metadata": {},
   "outputs": [],
   "source": [
    "# \"magic\"-kommando för visualisering\n",
    "%jsroot on "
   ]
  },
  {
   "cell_type": "code",
   "execution_count": 23,
   "metadata": {
    "scrolled": true
   },
   "outputs": [
    {
     "name": "stderr",
     "output_type": "stream",
     "text": [
      "Warning in <TCanvas::Constructor>: Deleting canvas with same name: Canvas\n"
     ]
    },
    {
     "data": {
      "text/html": [
       "\n",
       "<div id=\"root_plot_4\"\n",
       "     style=\"width: 796px; height: 572px\">\n",
       "</div>\n",
       "\n",
       "<script>\n",
       " requirejs.config({\n",
       "     paths: {\n",
       "       'JSRootCore' : 'https://root.cern.ch/js/notebook//scripts/JSRootCore',\n",
       "     }\n",
       "   });\n",
       " require(['JSRootCore'],\n",
       "     function(Core) {\n",
       "       var obj = Core.JSONR_unref({\"_typename\":\"TCanvas\",\"fUniqueID\":0,\"fBits\":53673992,\"fLineColor\":1,\"fLineStyle\":1,\"fLineWidth\":1,\"fFillColor\":0,\"fFillStyle\":1001,\"fLeftMargin\":0.1,\"fRightMargin\":0.1,\"fBottomMargin\":0.1,\"fTopMargin\":0.1,\"fXfile\":2,\"fYfile\":2,\"fAfile\":1,\"fXstat\":0.99,\"fYstat\":0.99,\"fAstat\":2,\"fFrameFillColor\":0,\"fFrameLineColor\":1,\"fFrameFillStyle\":1001,\"fFrameLineStyle\":1,\"fFrameLineWidth\":1,\"fFrameBorderSize\":1,\"fFrameBorderMode\":0,\"fX1\":5.62499930150803,\"fY1\":-39.6220079729372,\"fX2\":99.375000698492,\"fY2\":356.598048139878,\"fXtoAbsPixelk\":-47.7599433576581,\"fXtoPixelk\":-47.7599433576581,\"fXtoPixel\":8.49066654014587,\"fYtoAbsPixelk\":514.800046590614,\"fYtoPixelk\":514.800046590614,\"fYtoPixel\":-1.44364221642817,\"fUtoAbsPixelk\":5e-5,\"fUtoPixelk\":5e-5,\"fUtoPixel\":796,\"fVtoAbsPixelk\":572.00005,\"fVtoPixelk\":572,\"fVtoPixel\":-572,\"fAbsPixeltoXk\":5.62499930150803,\"fPixeltoXk\":5.62499930150803,\"fPixeltoX\":0.117776383664553,\"fAbsPixeltoYk\":356.598048139878,\"fPixeltoYk\":-39.6220079729372,\"fPixeltoY\":-0.692692405791635,\"fXlowNDC\":0,\"fYlowNDC\":0,\"fXUpNDC\":0,\"fYUpNDC\":0,\"fWNDC\":1,\"fHNDC\":1,\"fAbsXlowNDC\":0,\"fAbsYlowNDC\":0,\"fAbsWNDC\":1,\"fAbsHNDC\":1,\"fUxmin\":15,\"fUymin\":0,\"fUxmax\":90,\"fUymax\":316.976040166941,\"fTheta\":30,\"fPhi\":30,\"fAspectRatio\":0,\"fNumber\":0,\"fTickx\":0,\"fTicky\":0,\"fLogx\":0,\"fLogy\":0,\"fLogz\":0,\"fPadPaint\":0,\"fCrosshair\":0,\"fCrosshairPos\":0,\"fBorderSize\":2,\"fBorderMode\":0,\"fModified\":false,\"fGridx\":false,\"fGridy\":false,\"fAbsCoord\":false,\"fEditable\":true,\"fFixedAspectRatio\":false,\"fPrimitives\":{\"_typename\":\"TList\",\"name\":\"TList\",\"arr\":[{\"_typename\":\"TFrame\",\"fUniqueID\":0,\"fBits\":50331656,\"fLineColor\":1,\"fLineStyle\":1,\"fLineWidth\":1,\"fFillColor\":0,\"fFillStyle\":1001,\"fX1\":15,\"fY1\":0,\"fX2\":90,\"fY2\":316.976040166941,\"fBorderSize\":1,\"fBorderMode\":0},{\"_typename\":\"TH1F\",\"fUniqueID\":0,\"fBits\":50331656,\"fName\":\"h_pt\",\"fTitle\":\"\",\"fLineColor\":602,\"fLineStyle\":1,\"fLineWidth\":1,\"fFillColor\":0,\"fFillStyle\":1001,\"fMarkerColor\":1,\"fMarkerStyle\":1,\"fMarkerSize\":1,\"fNcells\":17,\"fXaxis\":{\"_typename\":\"TAxis\",\"fUniqueID\":0,\"fBits\":50331648,\"fName\":\"xaxis\",\"fTitle\":\" Transverse momentum [GeV]\",\"fNdivisions\":510,\"fAxisColor\":1,\"fLabelColor\":1,\"fLabelFont\":42,\"fLabelOffset\":0.005,\"fLabelSize\":0.035,\"fTickLength\":0.03,\"fTitleOffset\":1,\"fTitleSize\":0.035,\"fTitleColor\":1,\"fTitleFont\":42,\"fNbins\":15,\"fXmin\":15,\"fXmax\":90,\"fXbins\":[],\"fFirst\":0,\"fLast\":0,\"fBits2\":0,\"fTimeDisplay\":false,\"fTimeFormat\":\"\",\"fLabels\":null,\"fModLabs\":null},\"fYaxis\":{\"_typename\":\"TAxis\",\"fUniqueID\":0,\"fBits\":50331648,\"fName\":\"yaxis\",\"fTitle\":\" Number of electrons\",\"fNdivisions\":510,\"fAxisColor\":1,\"fLabelColor\":1,\"fLabelFont\":42,\"fLabelOffset\":0.005,\"fLabelSize\":0.035,\"fTickLength\":0.03,\"fTitleOffset\":0,\"fTitleSize\":0.035,\"fTitleColor\":1,\"fTitleFont\":42,\"fNbins\":1,\"fXmin\":0,\"fXmax\":1,\"fXbins\":[],\"fFirst\":0,\"fLast\":0,\"fBits2\":0,\"fTimeDisplay\":false,\"fTimeFormat\":\"\",\"fLabels\":null,\"fModLabs\":null},\"fZaxis\":{\"_typename\":\"TAxis\",\"fUniqueID\":0,\"fBits\":50331648,\"fName\":\"zaxis\",\"fTitle\":\"\",\"fNdivisions\":510,\"fAxisColor\":1,\"fLabelColor\":1,\"fLabelFont\":42,\"fLabelOffset\":0.005,\"fLabelSize\":0.035,\"fTickLength\":0.03,\"fTitleOffset\":1,\"fTitleSize\":0.035,\"fTitleColor\":1,\"fTitleFont\":42,\"fNbins\":1,\"fXmin\":0,\"fXmax\":1,\"fXbins\":[],\"fFirst\":0,\"fLast\":0,\"fBits2\":0,\"fTimeDisplay\":false,\"fTimeFormat\":\"\",\"fLabels\":null,\"fModLabs\":null},\"fBarOffset\":0,\"fBarWidth\":1000,\"fEntries\":1578,\"fTsumw\":1516,\"fTsumw2\":1516,\"fTsumwx\":62280.4302529297,\"fTsumwx2\":2810609.02092064,\"fMaximum\":-1111,\"fMinimum\":-1111,\"fNormFactor\":0,\"fContour\":[],\"fSumw2\":[],\"fOption\":\"\",\"fFunctions\":{\"_typename\":\"TList\",\"name\":\"TList\",\"arr\":[{\"_typename\":\"TPaveStats\",\"fUniqueID\":0,\"fBits\":50331657,\"fLineColor\":1,\"fLineStyle\":1,\"fLineWidth\":1,\"fFillColor\":0,\"fFillStyle\":1001,\"fX1\":78.7500018998981,\"fY1\":267.44853787615,\"fX2\":97.5000024586917,\"fY2\":330.843745437207,\"fX1NDC\":0.780000016093254,\"fY1NDC\":0.775000005960464,\"fX2NDC\":0.980000019073486,\"fY2NDC\":0.935000002384186,\"fBorderSize\":1,\"fInit\":1,\"fShadowColor\":1,\"fCornerRadius\":0,\"fOption\":\"brNDC\",\"fName\":\"stats\",\"fTextAngle\":0,\"fTextSize\":0,\"fTextAlign\":12,\"fTextColor\":1,\"fTextFont\":42,\"fLabel\":\"\",\"fLongest\":18,\"fMargin\":0.05,\"fLines\":{\"_typename\":\"TList\",\"name\":\"TList\",\"arr\":[{\"_typename\":\"TLatex\",\"fUniqueID\":0,\"fBits\":50331648,\"fName\":\"\",\"fTitle\":\"h_pt\",\"fTextAngle\":0,\"fTextSize\":0.0368,\"fTextAlign\":0,\"fTextColor\":0,\"fTextFont\":0,\"fX\":0,\"fY\":0,\"fLineColor\":1,\"fLineStyle\":1,\"fLineWidth\":2,\"fLimitFactorSize\":3,\"fOriginSize\":0.0368000008165836},{\"_typename\":\"TLatex\",\"fUniqueID\":0,\"fBits\":50331648,\"fName\":\"\",\"fTitle\":\"Entries = 1578   \",\"fTextAngle\":0,\"fTextSize\":0,\"fTextAlign\":0,\"fTextColor\":0,\"fTextFont\":0,\"fX\":0,\"fY\":0,\"fLineColor\":1,\"fLineStyle\":1,\"fLineWidth\":2,\"fLimitFactorSize\":3,\"fOriginSize\":0.04},{\"_typename\":\"TLatex\",\"fUniqueID\":0,\"fBits\":50331648,\"fName\":\"\",\"fTitle\":\"Mean  =  41.08\",\"fTextAngle\":0,\"fTextSize\":0,\"fTextAlign\":0,\"fTextColor\":0,\"fTextFont\":0,\"fX\":0,\"fY\":0,\"fLineColor\":1,\"fLineStyle\":1,\"fLineWidth\":2,\"fLimitFactorSize\":3,\"fOriginSize\":0.04},{\"_typename\":\"TLatex\",\"fUniqueID\":0,\"fBits\":50331648,\"fName\":\"\",\"fTitle\":\"Std Dev   =  12.89\",\"fTextAngle\":0,\"fTextSize\":0,\"fTextAlign\":0,\"fTextColor\":0,\"fTextFont\":0,\"fX\":0,\"fY\":0,\"fLineColor\":1,\"fLineStyle\":1,\"fLineWidth\":2,\"fLimitFactorSize\":3,\"fOriginSize\":0.04}],\"opt\":[\"\",\"\",\"\",\"\"]},\"fOptFit\":0,\"fOptStat\":1111,\"fFitFormat\":\"5.4g\",\"fStatFormat\":\"6.4g\",\"fParent\":{\"$ref\":3}}],\"opt\":[\"brNDC\"]},\"fBufferSize\":0,\"fBuffer\":[],\"fBinStatErrOpt\":0,\"fStatOverflows\":2,\"fArray\":[31,32,59,196,236,238,285,203,81,61,41,22,24,11,18,9,31]}],\"opt\":[\"\",\"e1p\"]},\"fExecs\":null,\"fName\":\"Canvas\",\"fTitle\":\"a first way to plot a variable\",\"fNumPaletteColor\":0,\"fNextPaletteColor\":0,\"fDISPLAY\":\"$DISPLAY\",\"fDoubleBuffer\":0,\"fRetained\":true,\"fXsizeUser\":0,\"fYsizeUser\":0,\"fXsizeReal\":20,\"fYsizeReal\":15,\"fWindowTopX\":0,\"fWindowTopY\":0,\"fWindowWidth\":0,\"fWindowHeight\":0,\"fCw\":796,\"fCh\":572,\"fCatt\":{\"_typename\":\"TAttCanvas\",\"fXBetween\":2,\"fYBetween\":2,\"fTitleFromTop\":1.2,\"fXdate\":0.2,\"fYdate\":0.3,\"fAdate\":1},\"kMoveOpaque\":true,\"kResizeOpaque\":true,\"fHighLightColor\":2,\"fBatch\":true,\"kShowEventStatus\":false,\"kAutoExec\":true,\"kMenuBar\":true});\n",
       "       Core.draw(\"root_plot_4\", obj, \"\");\n",
       "     }\n",
       " );\n",
       "</script>\n"
      ],
      "text/plain": [
       "<IPython.core.display.HTML object>"
      ]
     },
     "metadata": {},
     "output_type": "display_data"
    }
   ],
   "source": [
    "# öppna en canvas att rita på\n",
    "canvas = ROOT.TCanvas(\"Canvas\",\"a first way to plot a variable\",800,600)\n",
    "# rita histogrammet\n",
    "h_pt.Draw(\"e1p\")\n",
    "# öppna canvasen\n",
    "canvas.Draw()"
   ]
  },
  {
   "cell_type": "markdown",
   "metadata": {},
   "source": [
    "Den uppritade figuren är interaktiv: testa att klicka runt (använd högerklick) och scrolla. Figuren kan sparas i png-format genom att högerklicka mitt på canvasen."
   ]
  },
  {
   "cell_type": "markdown",
   "metadata": {},
   "source": [
    "I nästa notebook börjar vi med själva uppgiften, där vi ska titta på faktisk data!"
   ]
  }
 ],
 "metadata": {
  "kernelspec": {
   "display_name": "Python 3",
   "language": "python",
   "name": "python3"
  },
  "language_info": {
   "codemirror_mode": {
    "name": "ipython",
    "version": 3
   },
   "file_extension": ".py",
   "mimetype": "text/x-python",
   "name": "python",
   "nbconvert_exporter": "python",
   "pygments_lexer": "ipython3",
   "version": "3.7.0"
  }
 },
 "nbformat": 4,
 "nbformat_minor": 2
}
