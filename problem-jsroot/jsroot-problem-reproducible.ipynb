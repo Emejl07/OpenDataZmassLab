{
 "cells": [
  {
   "cell_type": "markdown",
   "metadata": {},
   "source": [
    "## This notebook documents some not-so-intuitive issues discovered with JSROOT (the thing that enables \"interactivity\" for ROOT plots)\n",
    "_____________________________________________________________"
   ]
  },
  {
   "cell_type": "markdown",
   "metadata": {},
   "source": [
    "###  *Problem 1: \"Freezing\" plot upon Draw(\"SAME\")*.\n",
    "Execute the cells below one-by-one until you reach the conclusion."
   ]
  },
  {
   "cell_type": "code",
   "execution_count": 1,
   "metadata": {},
   "outputs": [
    {
     "name": "stdout",
     "output_type": "stream",
     "text": [
      "Welcome to JupyROOT 6.14/04\n"
     ]
    }
   ],
   "source": [
    "import ROOT\n",
    "data_file_electrons = ROOT.TFile.Open(\"http://opendata.atlas.cern/release/samples/Data/DataEgamma.root\")\n",
    "tree_electrons = data_file_electrons.Get(\"mini\")"
   ]
  },
  {
   "cell_type": "code",
   "execution_count": 2,
   "metadata": {},
   "outputs": [],
   "source": [
    "def getInvMass(lep1_pt, lep1_eta, lep1_phi, lep2_pt, lep2_eta, lep2_phi):\n",
    "    ''' get invariant mass '''\n",
    "    import math\n",
    "    msq = 2*lep1_pt*lep2_pt*(math.cosh(lep1_eta-lep2_eta) - math.cos(lep1_phi-lep2_phi))\n",
    "    return math.sqrt(msq)"
   ]
  },
  {
   "cell_type": "code",
   "execution_count": 3,
   "metadata": {},
   "outputs": [],
   "source": [
    "# histos\n",
    "nbins=50; lowedge=30.; upedge=140.\n",
    "h_mass_electrons = ROOT.TH1F(\"h_mass_electrons\", \"; Invariant mass [GeV]; Number of events\", nbins, lowedge, upedge)"
   ]
  },
  {
   "cell_type": "markdown",
   "metadata": {},
   "source": [
    "### event loop"
   ]
  },
  {
   "cell_type": "code",
   "execution_count": 4,
   "metadata": {},
   "outputs": [],
   "source": [
    "ievt = 0\n",
    "for evt in tree_electrons:\n",
    "    if evt.lep_n != 2: continue\n",
    "    if not (evt.lep_type[0]==11 and evt.lep_type[1]==11): continue\n",
    "    if (evt.lep_charge[0] + evt.lep_charge[1]) != 0: continue \n",
    "    if ievt > 4000:\n",
    "        break\n",
    "\n",
    "    h_mass_electrons.Fill(getInvMass(evt.lep_pt[0]*1e-3, evt.lep_eta[0], evt.lep_phi[0], evt.lep_pt[1]*1e-3, evt.lep_eta[1], evt.lep_phi[1]))\n",
    "    \n",
    "    ievt += 1"
   ]
  },
  {
   "cell_type": "markdown",
   "metadata": {},
   "source": [
    "### Draw"
   ]
  },
  {
   "cell_type": "code",
   "execution_count": 5,
   "metadata": {},
   "outputs": [],
   "source": [
    "# JSROOT 'magic'\n",
    "%jsroot on"
   ]
  },
  {
   "cell_type": "code",
   "execution_count": 6,
   "metadata": {},
   "outputs": [],
   "source": [
    "canvas = ROOT.TCanvas(\"canvas\", \"\", 800, 600)"
   ]
  },
  {
   "cell_type": "code",
   "execution_count": 7,
   "metadata": {},
   "outputs": [],
   "source": [
    "#### Prepare: setting Breit-Wigner limits, colors on functions etc.\n",
    "norm_low = 100; norm_up = 15e3\n",
    "mean_low = 80; mean_up = 100\n",
    "width_low = 0.1; width_up = 40\n",
    "def setBWLims(func):\n",
    "    ''' Set limits on BW parameters '''\n",
    "    func.SetParameters(0.5*(norm_low+norm_up), 0.5*(mean_low+mean_up), 0.5*(width_low+width_up))\n",
    "    func.SetParLimits(0, norm_low, norm_up)\n",
    "    func.SetParLimits(1, mean_low, mean_up)\n",
    "    func.SetParLimits(2, width_low, width_up)\n",
    "def setColor(ROOT_obj, color=ROOT.kBlack):\n",
    "    ''' set (line) color'''\n",
    "    ROOT_obj.SetLineColor(color)"
   ]
  },
  {
   "cell_type": "code",
   "execution_count": 8,
   "metadata": {},
   "outputs": [],
   "source": [
    "def myBW(x, params):\n",
    "    import math\n",
    "    mean=params[1]; gamma=params[2]\n",
    "    x=x[0]\n",
    "    bw = gamma/((x-mean)*(x-mean) + gamma*gamma/4)\n",
    "    return params[0]*bw/(2*math.pi);"
   ]
  },
  {
   "cell_type": "markdown",
   "metadata": {},
   "source": [
    "### FUNCTION CELL"
   ]
  },
  {
   "cell_type": "code",
   "execution_count": 9,
   "metadata": {},
   "outputs": [],
   "source": [
    "#### DEFINE SOME BREIT-WIGNER FUNCTIONS\n",
    "xlow_fit=40.; xup_fit=140.;\n",
    "#foo=ROOT.TMath.BreitWigner(4., 3., 3.)\n",
    "fBW = ROOT.TF1(\"BW\", \"[0]*TMath::BreitWigner(x, [1], [2])\", xlow_fit, xup_fit)\n",
    "setBWLims(fBW)\n",
    "# constant plus exponential for bkg\n",
    "fBkg = ROOT.TF1(\"bkg\", \"pol0+expo(1)\", xlow_fit, xup_fit)\n",
    "fModel = ROOT.TF1(\"model\", \"BW+bkg\", xlow_fit, xup_fit)\n",
    "# set color\n",
    "setColor(fModel); \n",
    "setColor(fBW, ROOT.kRed)\n",
    "setColor(fBkg, ROOT.kBlue)\n",
    "\n",
    "######################################## \n",
    "#### things needed for JSROOT to work:\n",
    "#fBW.Save(xlow_fit, xup_fit,0,0,0,0);\n",
    "#fBkg.Save(xlow_fit, xup_fit,0,0,0,0);\n",
    "#fModel.Save(xlow_fit, xup_fit,0,0,0,0);"
   ]
  },
  {
   "cell_type": "markdown",
   "metadata": {},
   "source": [
    "### Fit"
   ]
  },
  {
   "cell_type": "code",
   "execution_count": 10,
   "metadata": {
    "scrolled": false
   },
   "outputs": [
    {
     "name": "stdout",
     "output_type": "stream",
     "text": [
      " FCN=163.286 FROM MIGRAD    STATUS=CONVERGED     278 CALLS         279 TOTAL\n",
      "                     EDM=4.20364e-09    STRATEGY= 1  ERROR MATRIX UNCERTAINTY   0.4 per cent\n",
      "  EXT PARAMETER                                   STEP         FIRST   \n",
      "  NO.   NAME      VALUE            ERROR          SIZE      DERIVATIVE \n",
      "   1  p0           7.19077e+03   1.47008e+02  -5.20198e-03   1.85096e-07\n",
      "   2  p1           8.98065e+01   7.43418e-02   4.97521e-06   1.65911e-04\n",
      "   3  p2           5.34336e+00   1.49240e-01  -3.81839e-06   1.68512e-04\n",
      "   4  p3          -4.24210e+00   1.19641e+00  -4.93930e-04  -2.99218e-05\n",
      "   5  p4           4.34920e+00   3.28278e-01   3.31918e-05  -5.77423e-04\n",
      "   6  p5          -3.04182e-02   7.52706e-03  -3.46329e-07  -4.11128e-02\n"
     ]
    },
    {
     "name": "stderr",
     "output_type": "stream",
     "text": [
      "Info in <TCanvas::Print>: png file ./jsproblem1.png has been created\n"
     ]
    },
    {
     "data": {
      "text/html": [
       "\n",
       "<div id=\"root_plot_1\"\n",
       "     style=\"width: 796px; height: 572px\">\n",
       "</div>\n",
       "\n",
       "<script>\n",
       " requirejs.config({\n",
       "     paths: {\n",
       "       'JSRootCore' : 'https://root.cern.ch/js/notebook//scripts/JSRootCore',\n",
       "     }\n",
       "   });\n",
       " require(['JSRootCore'],\n",
       "     function(Core) {\n",
       "       var obj = Core.JSONR_unref({\"_typename\":\"TCanvas\",\"fUniqueID\":0,\"fBits\":53673992,\"fLineColor\":1,\"fLineStyle\":1,\"fLineWidth\":1,\"fFillColor\":0,\"fFillStyle\":1001,\"fLeftMargin\":0.1,\"fRightMargin\":0.1,\"fBottomMargin\":0.1,\"fTopMargin\":0.1,\"fXfile\":2,\"fYfile\":2,\"fAfile\":1,\"fXstat\":0.99,\"fYstat\":0.99,\"fAstat\":2,\"fFrameFillColor\":0,\"fFrameLineColor\":1,\"fFrameFillStyle\":1001,\"fFrameLineStyle\":1,\"fFrameLineWidth\":1,\"fFrameBorderSize\":1,\"fFrameBorderMode\":0,\"fX1\":16.2499989755451,\"fY1\":-106.575007940457,\"fX2\":153.750001024455,\"fY2\":959.175007940457,\"fXtoAbsPixelk\":-94.0726699402719,\"fXtoPixelk\":-94.0726699402719,\"fXtoPixel\":5.78909082282673,\"fYtoAbsPixelk\":514.800046590614,\"fYtoPixelk\":514.800046590614,\"fYtoPixel\":-0.536711228221004,\"fUtoAbsPixelk\":5e-5,\"fUtoPixelk\":5e-5,\"fUtoPixel\":796,\"fVtoAbsPixelk\":572.00005,\"fVtoPixelk\":572,\"fVtoPixel\":-572,\"fAbsPixeltoXk\":16.2499989755451,\"fPixeltoXk\":16.2499989755451,\"fPixeltoX\":0.172738696041344,\"fAbsPixeltoYk\":959.175007940457,\"fPixeltoYk\":-106.575007940457,\"fPixeltoY\":-1.86319932846314,\"fXlowNDC\":0,\"fYlowNDC\":0,\"fXUpNDC\":0,\"fYUpNDC\":0,\"fWNDC\":1,\"fHNDC\":1,\"fAbsXlowNDC\":0,\"fAbsYlowNDC\":0,\"fAbsWNDC\":1,\"fAbsHNDC\":1,\"fUxmin\":30,\"fUymin\":0,\"fUxmax\":140,\"fUymax\":852.6,\"fTheta\":30,\"fPhi\":30,\"fAspectRatio\":0,\"fNumber\":0,\"fTickx\":0,\"fTicky\":0,\"fLogx\":0,\"fLogy\":0,\"fLogz\":0,\"fPadPaint\":0,\"fCrosshair\":0,\"fCrosshairPos\":0,\"fBorderSize\":2,\"fBorderMode\":0,\"fModified\":false,\"fGridx\":false,\"fGridy\":false,\"fAbsCoord\":false,\"fEditable\":true,\"fFixedAspectRatio\":false,\"fPrimitives\":{\"_typename\":\"TList\",\"name\":\"TList\",\"arr\":[{\"_typename\":\"TFrame\",\"fUniqueID\":0,\"fBits\":50331656,\"fLineColor\":1,\"fLineStyle\":1,\"fLineWidth\":1,\"fFillColor\":0,\"fFillStyle\":1001,\"fX1\":30,\"fY1\":0,\"fX2\":140,\"fY2\":852.6,\"fBorderSize\":1,\"fBorderMode\":0},{\"_typename\":\"TH1F\",\"fUniqueID\":0,\"fBits\":50331656,\"fName\":\"h_mass_electrons\",\"fTitle\":\"\",\"fLineColor\":602,\"fLineStyle\":1,\"fLineWidth\":1,\"fFillColor\":0,\"fFillStyle\":1001,\"fMarkerColor\":1,\"fMarkerStyle\":1,\"fMarkerSize\":1,\"fNcells\":52,\"fXaxis\":{\"_typename\":\"TAxis\",\"fUniqueID\":0,\"fBits\":50331648,\"fName\":\"xaxis\",\"fTitle\":\" Invariant mass [GeV]\",\"fNdivisions\":510,\"fAxisColor\":1,\"fLabelColor\":1,\"fLabelFont\":42,\"fLabelOffset\":0.005,\"fLabelSize\":0.035,\"fTickLength\":0.03,\"fTitleOffset\":1,\"fTitleSize\":0.035,\"fTitleColor\":1,\"fTitleFont\":42,\"fNbins\":50,\"fXmin\":30,\"fXmax\":140,\"fXbins\":[],\"fFirst\":0,\"fLast\":0,\"fBits2\":0,\"fTimeDisplay\":false,\"fTimeFormat\":\"\",\"fLabels\":null,\"fModLabs\":null},\"fYaxis\":{\"_typename\":\"TAxis\",\"fUniqueID\":0,\"fBits\":50331648,\"fName\":\"yaxis\",\"fTitle\":\" Number of events\",\"fNdivisions\":510,\"fAxisColor\":1,\"fLabelColor\":1,\"fLabelFont\":42,\"fLabelOffset\":0.005,\"fLabelSize\":0.035,\"fTickLength\":0.03,\"fTitleOffset\":0,\"fTitleSize\":0.035,\"fTitleColor\":1,\"fTitleFont\":42,\"fNbins\":1,\"fXmin\":0,\"fXmax\":1,\"fXbins\":[],\"fFirst\":0,\"fLast\":0,\"fBits2\":0,\"fTimeDisplay\":false,\"fTimeFormat\":\"\",\"fLabels\":null,\"fModLabs\":null},\"fZaxis\":{\"_typename\":\"TAxis\",\"fUniqueID\":0,\"fBits\":50331648,\"fName\":\"zaxis\",\"fTitle\":\"\",\"fNdivisions\":510,\"fAxisColor\":1,\"fLabelColor\":1,\"fLabelFont\":42,\"fLabelOffset\":0.005,\"fLabelSize\":0.035,\"fTickLength\":0.03,\"fTitleOffset\":1,\"fTitleSize\":0.035,\"fTitleColor\":1,\"fTitleFont\":42,\"fNbins\":1,\"fXmin\":0,\"fXmax\":1,\"fXbins\":[],\"fFirst\":0,\"fLast\":0,\"fBits2\":0,\"fTimeDisplay\":false,\"fTimeFormat\":\"\",\"fLabels\":null,\"fModLabs\":null},\"fBarOffset\":0,\"fBarWidth\":1000,\"fEntries\":4001,\"fTsumw\":3574,\"fTsumw2\":3574,\"fTsumwx\":305559.921688137,\"fTsumwx2\":26875896.0238334,\"fMaximum\":-1111,\"fMinimum\":-1111,\"fNormFactor\":0,\"fContour\":[],\"fSumw2\":[],\"fOption\":\"\",\"fFunctions\":{\"_typename\":\"TList\",\"name\":\"TList\",\"arr\":[{\"_typename\":\"TF1\",\"fUniqueID\":0,\"fBits\":50332680,\"fName\":\"model\",\"fTitle\":\"BW+bkg\",\"fLineColor\":1,\"fLineStyle\":1,\"fLineWidth\":2,\"fFillColor\":19,\"fFillStyle\":0,\"fMarkerColor\":1,\"fMarkerStyle\":1,\"fMarkerSize\":1,\"fXmin\":40,\"fXmax\":140,\"fNpar\":6,\"fNdim\":1,\"fNpx\":100,\"fType\":0,\"fNpfits\":44,\"fNDF\":38,\"fChisquare\":163.285542687562,\"fMinimum\":-1111,\"fMaximum\":-1111,\"fParErrors\":[147.007684539694,0.0743418291661775,0.149239677024991,1.19641212849622,0.328277803579881,0.00752706146068514],\"fParMin\":[0,0,0,0,0,0],\"fParMax\":[0,0,0,0,0,0],\"fSave\":[21.1464072749829,20.5608588024308,20.0022995776715,19.470663295054,18.9659624481743,18.4882958782591,18.0378576359677,17.6149473985577,17.2199827365041,16.8535135885488,16.5162393852867,16.2090293633495,15.932946741053,15.6892775900013,15.4795654462199,15.3056529731603,15.1697323366462,15.0744064047348,15.0227634795178,15.0184690529119,15.0658791240152,15.1701810196724,15.3375695620212,15.5754690276776,15.8928149346926,16.3004147048758,16.8114133201273,17.4419001874037,18.2117080253609,19.1454759816967,20.2740810060094,21.636589552412,23.2829554698452,25.2778052813696,27.7058358584593,30.6796484876315,34.3513405150098,38.9300221053912,44.7089022832708,52.108230796441,61.7452300721805,74.5512434050087,91.9736096099751,116.332336673876,151.458580196096,203.811857037956,284.170655237352,408.539066351705,589.008955642193,786.099009398735,853.021039262178,714.813993868003,512.231258565328,353.068753737527,247.53858204087,179.337780828666,134.339900830658,103.658154526273,82.0218173580726,66.2855954190392,54.5235436267652,45.5194688572742,38.4814855157854,32.8790116109288,28.3471494682456,24.628971898437,21.5397053345172,18.943913150109,16.7406044858811,14.8532970930648,13.2232496357984,11.8047657966483,10.5618797873017,9.46597991417254,8.49407996146267,7.62754496912463,6.85114035366426,6.15231420478692,5.52064982931136,4.94744403653868,4.42537929634535,3.94826668458244,3.51084271086774,3.10860752341506,2.73769515151856,2.39476874795356,2.0769354829979,1.78167699315131,1.50679222249685,1.25035019874397,1.010650820367,0.786192139779941,0.575642941972277,0.3778196617147,0.1916668724537,0.0162407290564337,-0.149305135857428,-0.30573166900393,-0.453724739597863,-0.593904041669933,-0.726830780654569,40,140],\"fNormalized\":false,\"fNormIntegral\":0,\"fFormula\":{\"_typename\":\"TFormula\",\"fUniqueID\":0,\"fBits\":50332672,\"fName\":\"model\",\"fTitle\":\"BW+bkg\",\"fClingParameters\":[7190.76531016619,89.8064903691251,5.34336123345128,-4.24210183459241,4.34919574088347,-0.0304182365559365],\"fAllParametersSetted\":true,\"fParams\":[{\"$pair\":\"pair<TString,int,TFormulaParamOrder>\",\"first\":\"p0\",\"second\":0},{\"$pair\":\"pair<TString,int,TFormulaParamOrder>\",\"first\":\"p1\",\"second\":1},{\"$pair\":\"pair<TString,int,TFormulaParamOrder>\",\"first\":\"p2\",\"second\":2},{\"$pair\":\"pair<TString,int,TFormulaParamOrder>\",\"first\":\"p3\",\"second\":3},{\"$pair\":\"pair<TString,int,TFormulaParamOrder>\",\"first\":\"p4\",\"second\":4},{\"$pair\":\"pair<TString,int,TFormulaParamOrder>\",\"first\":\"p5\",\"second\":5}],\"fFormula\":\"([p0]*TMath::BreitWigner(x,[p1],[p2]))+([p3]+exp([p4]+[p5]*x))\",\"fNdim\":1,\"fLinearParts\":[],\"fVectorized\":false},\"fParams\":null,\"fComposition_ptr\":null},{\"_typename\":\"TPaveStats\",\"fUniqueID\":0,\"fBits\":50331657,\"fLineColor\":1,\"fLineStyle\":1,\"fLineWidth\":1,\"fFillColor\":0,\"fFillStyle\":1001,\"fX1\":123.500002786517,\"fY1\":719.381260719616,\"fX2\":151.000003606081,\"fY2\":889.901259449143,\"fX1NDC\":0.780000016093254,\"fY1NDC\":0.775000005960464,\"fX2NDC\":0.980000019073486,\"fY2NDC\":0.935000002384186,\"fBorderSize\":1,\"fInit\":1,\"fShadowColor\":1,\"fCornerRadius\":0,\"fOption\":\"brNDC\",\"fName\":\"stats\",\"fTextAngle\":0,\"fTextSize\":0,\"fTextAlign\":12,\"fTextColor\":1,\"fTextFont\":42,\"fLabel\":\"\",\"fLongest\":18,\"fMargin\":0.05,\"fLines\":{\"_typename\":\"TList\",\"name\":\"TList\",\"arr\":[{\"_typename\":\"TLatex\",\"fUniqueID\":0,\"fBits\":50331648,\"fName\":\"\",\"fTitle\":\"h_mass_electrons\",\"fTextAngle\":0,\"fTextSize\":0.0368,\"fTextAlign\":0,\"fTextColor\":0,\"fTextFont\":0,\"fX\":0,\"fY\":0,\"fLineColor\":1,\"fLineStyle\":1,\"fLineWidth\":2,\"fLimitFactorSize\":3,\"fOriginSize\":0.0322694959551443},{\"_typename\":\"TLatex\",\"fUniqueID\":0,\"fBits\":50331648,\"fName\":\"\",\"fTitle\":\"Entries = 4001   \",\"fTextAngle\":0,\"fTextSize\":0,\"fTextAlign\":0,\"fTextColor\":0,\"fTextFont\":0,\"fX\":0,\"fY\":0,\"fLineColor\":1,\"fLineStyle\":1,\"fLineWidth\":2,\"fLimitFactorSize\":3,\"fOriginSize\":0.0326363630592823},{\"_typename\":\"TLatex\",\"fUniqueID\":0,\"fBits\":50331648,\"fName\":\"\",\"fTitle\":\"Mean  =   85.5\",\"fTextAngle\":0,\"fTextSize\":0,\"fTextAlign\":0,\"fTextColor\":0,\"fTextFont\":0,\"fX\":0,\"fY\":0,\"fLineColor\":1,\"fLineStyle\":1,\"fLineWidth\":2,\"fLimitFactorSize\":3,\"fOriginSize\":0.0326363630592823},{\"_typename\":\"TLatex\",\"fUniqueID\":0,\"fBits\":50331648,\"fName\":\"\",\"fTitle\":\"Std Dev   =  14.51\",\"fTextAngle\":0,\"fTextSize\":0,\"fTextAlign\":0,\"fTextColor\":0,\"fTextFont\":0,\"fX\":0,\"fY\":0,\"fLineColor\":1,\"fLineStyle\":1,\"fLineWidth\":2,\"fLimitFactorSize\":3,\"fOriginSize\":0.0326363630592823}],\"opt\":[\"\",\"\",\"\",\"\"]},\"fOptFit\":0,\"fOptStat\":1111,\"fFitFormat\":\"5.4g\",\"fStatFormat\":\"6.4g\",\"fParent\":{\"$ref\":3}}],\"opt\":[\"\",\"brNDC\"]},\"fBufferSize\":0,\"fBuffer\":[],\"fBinStatErrOpt\":0,\"fStatOverflows\":2,\"fArray\":[403,28,25,24,28,25,17,12,16,21,18,24,12,18,21,15,21,26,22,28,27,34,44,75,107,178,350,595,784,544,191,79,47,19,14,17,11,11,7,5,7,6,3,3,1,3,2,3,3,3,0,24]},{\"_typename\":\"TF1\",\"fUniqueID\":0,\"fBits\":50331656,\"fName\":\"BW\",\"fTitle\":\"[0]*TMath::BreitWigner(x, [1], [2])\",\"fLineColor\":632,\"fLineStyle\":1,\"fLineWidth\":2,\"fFillColor\":19,\"fFillStyle\":0,\"fMarkerColor\":1,\"fMarkerStyle\":1,\"fMarkerSize\":1,\"fXmin\":40,\"fXmax\":140,\"fNpar\":3,\"fNdim\":1,\"fNpx\":100,\"fType\":0,\"fNpfits\":0,\"fNDF\":0,\"fChisquare\":0,\"fMinimum\":-1111,\"fMaximum\":-1111,\"fParErrors\":[0,0,0],\"fParMin\":[100,80,0.1],\"fParMax\":[15000,100,40],\"fSave\":[],\"fNormalized\":false,\"fNormIntegral\":0,\"fFormula\":{\"_typename\":\"TFormula\",\"fUniqueID\":0,\"fBits\":50332672,\"fName\":\"BW\",\"fTitle\":\"[0]*TMath::BreitWigner(x, [1], [2])\",\"fClingParameters\":[7190.76531016619,89.8064903691251,5.34336123345128],\"fAllParametersSetted\":true,\"fParams\":[{\"$pair\":\"pair<TString,int,TFormulaParamOrder>\",\"first\":\"p0\",\"second\":0},{\"$pair\":\"pair<TString,int,TFormulaParamOrder>\",\"first\":\"p1\",\"second\":1},{\"$pair\":\"pair<TString,int,TFormulaParamOrder>\",\"first\":\"p2\",\"second\":2}],\"fFormula\":\"[p0]*TMath::BreitWigner(x,[p1],[p2])\",\"fNdim\":1,\"fLinearParts\":[],\"fVectorized\":false},\"fParams\":null,\"fComposition_ptr\":null}],\"opt\":[\"\",\"e1p\",\"SAME\"]},\"fExecs\":null,\"fName\":\"canvas\",\"fTitle\":\"\",\"fNumPaletteColor\":0,\"fNextPaletteColor\":0,\"fDISPLAY\":\"$DISPLAY\",\"fDoubleBuffer\":0,\"fRetained\":true,\"fXsizeUser\":0,\"fYsizeUser\":0,\"fXsizeReal\":20,\"fYsizeReal\":15,\"fWindowTopX\":0,\"fWindowTopY\":0,\"fWindowWidth\":0,\"fWindowHeight\":0,\"fCw\":796,\"fCh\":572,\"fCatt\":{\"_typename\":\"TAttCanvas\",\"fXBetween\":2,\"fYBetween\":2,\"fTitleFromTop\":1.2,\"fXdate\":0.2,\"fYdate\":0.3,\"fAdate\":1},\"kMoveOpaque\":true,\"kResizeOpaque\":true,\"fHighLightColor\":2,\"fBatch\":true,\"kShowEventStatus\":false,\"kAutoExec\":true,\"kMenuBar\":true});\n",
       "       Core.draw(\"root_plot_1\", obj, \"\");\n",
       "     }\n",
       " );\n",
       "</script>\n"
      ],
      "text/plain": [
       "<IPython.core.display.HTML object>"
      ]
     },
     "metadata": {},
     "output_type": "display_data"
    }
   ],
   "source": [
    "fitresult=h_mass_electrons.Fit(\"model\", \"S\", \"e1p\", xlow_fit, xup_fit) # store fit result\n",
    "## draw signal and bkg separately\n",
    "fitresult_parameters={}\n",
    "for i_p,p in enumerate(fitresult.Parameters()):\n",
    "    fitresult_parameters[i_p]=(p, fitresult.ParError(i_p))\n",
    "### signal\n",
    "for ipar in range(3): fBW.SetParameter(ipar, fitresult_parameters[ipar][0])\n",
    "### bkg\n",
    "for ipar in range(2): fBkg.SetParameter(ipar, fitresult_parameters[ipar+3][0])\n",
    "### DRAW\n",
    "\n",
    "#fBkg.Draw(\"SAME\")\n",
    "fBW.Draw(\"SAME\") ## COMMENTING THIS OUT MAKES THE PLOT INTERACTIVE AS IS SHOULD\n",
    "\n",
    "canvas.Draw()\n",
    "canvas.SaveAs(\"./jsproblem1.png\") ## LOOK AT THE SAVED PLOT--IT INDEED HAS THE SIGNAL DRAWN, I.E. NOT EQUAL TO THE INTERACTIVE PLOT BELOW\n",
    "#canvas.SaveAs(\"./jsproblem1.root\")\n"
   ]
  },
  {
   "cell_type": "markdown",
   "metadata": {},
   "source": [
    "### Concusion Problem 1\n",
    "\n",
    "See issue raised https://github.com/root-project/jsroot/issues/173. Because the Breit-Wigner function is not in JSROOT (apparently functions have to be known by JSROOT), the plot is frozen. (It has been added as written in the thread, when you read this you might have a newer JSROOT and then you might not have this problem).\n",
    "\n",
    "This can be solved by adding `TF1::Save()` calls: uncomment these lines in the FUNCTION CELL above and rerun, you should see the plot becoming interactive again. "
   ]
  },
  {
   "cell_type": "markdown",
   "metadata": {},
   "source": [
    "______________________________________________________________________________"
   ]
  },
  {
   "cell_type": "markdown",
   "metadata": {},
   "source": [
    "### *Problem 2: JSROOT plot simply wrong (?)*\n",
    "Even after adding the `TF1::Save()` calls as explained in the conclusion above, the plot shown is not correct. \n",
    "Execute the cells below.\n"
   ]
  },
  {
   "cell_type": "code",
   "execution_count": 11,
   "metadata": {},
   "outputs": [],
   "source": [
    "# first we fix Problem 1\n",
    "fBW.Save(xlow_fit, xup_fit,0,0,0,0);\n",
    "fBkg.Save(xlow_fit, xup_fit,0,0,0,0);\n",
    "fModel.Save(xlow_fit, xup_fit,0,0,0,0);"
   ]
  },
  {
   "cell_type": "code",
   "execution_count": 12,
   "metadata": {},
   "outputs": [
    {
     "name": "stdout",
     "output_type": "stream",
     "text": [
      "Signal mean = 89.81\n",
      "Signal mean = 84.00\n",
      "\n",
      " FCN=163.286 FROM MIGRAD    STATUS=CONVERGED      84 CALLS          85 TOTAL\n",
      "                     EDM=8.1237e-09    STRATEGY= 1      ERROR MATRIX ACCURATE \n",
      "  EXT PARAMETER                                   STEP         FIRST   \n",
      "  NO.   NAME      VALUE            ERROR          SIZE      DERIVATIVE \n",
      "   1  p0           7.19076e+03   1.46895e+02   8.01151e-01   2.25945e-07\n",
      "   2  p1           8.98065e+01   7.36795e-02   4.50705e-04   8.49110e-06\n",
      "   3  p2           5.34336e+00   1.49615e-01   7.93177e-04   2.34128e-04\n",
      "   4  p3          -4.24210e+00   1.23551e+00   2.68052e-03   7.17153e-05\n",
      "   5  p4           4.34920e+00   3.42931e-01   4.34682e-04   2.47463e-04\n",
      "   6  p5          -3.04182e-02   7.87259e-03   7.11623e-06   7.49905e-03\n"
     ]
    },
    {
     "name": "stderr",
     "output_type": "stream",
     "text": [
      "Info in <TCanvas::Print>: png file jsproblem2.png has been created\n"
     ]
    },
    {
     "data": {
      "text/html": [
       "\n",
       "<div id=\"root_plot_2\"\n",
       "     style=\"width: 796px; height: 572px\">\n",
       "</div>\n",
       "\n",
       "<script>\n",
       " requirejs.config({\n",
       "     paths: {\n",
       "       'JSRootCore' : 'https://root.cern.ch/js/notebook//scripts/JSRootCore',\n",
       "     }\n",
       "   });\n",
       " require(['JSRootCore'],\n",
       "     function(Core) {\n",
       "       var obj = Core.JSONR_unref({\"_typename\":\"TCanvas\",\"fUniqueID\":0,\"fBits\":53673992,\"fLineColor\":1,\"fLineStyle\":1,\"fLineWidth\":1,\"fFillColor\":0,\"fFillStyle\":1001,\"fLeftMargin\":0.1,\"fRightMargin\":0.1,\"fBottomMargin\":0.1,\"fTopMargin\":0.1,\"fXfile\":2,\"fYfile\":2,\"fAfile\":1,\"fXstat\":0.99,\"fYstat\":0.99,\"fAstat\":2,\"fFrameFillColor\":0,\"fFrameLineColor\":1,\"fFrameFillStyle\":1001,\"fFrameLineStyle\":1,\"fFrameLineWidth\":1,\"fFrameBorderSize\":1,\"fFrameBorderMode\":0,\"fX1\":16.2499989755451,\"fY1\":-106.575007940457,\"fX2\":153.750001024455,\"fY2\":959.175007940457,\"fXtoAbsPixelk\":-94.0726699402719,\"fXtoPixelk\":-94.0726699402719,\"fXtoPixel\":5.78909082282673,\"fYtoAbsPixelk\":514.800046590614,\"fYtoPixelk\":514.800046590614,\"fYtoPixel\":-0.536711228221004,\"fUtoAbsPixelk\":5e-5,\"fUtoPixelk\":5e-5,\"fUtoPixel\":796,\"fVtoAbsPixelk\":572.00005,\"fVtoPixelk\":572,\"fVtoPixel\":-572,\"fAbsPixeltoXk\":16.2499989755451,\"fPixeltoXk\":16.2499989755451,\"fPixeltoX\":0.172738696041344,\"fAbsPixeltoYk\":959.175007940457,\"fPixeltoYk\":-106.575007940457,\"fPixeltoY\":-1.86319932846314,\"fXlowNDC\":0,\"fYlowNDC\":0,\"fXUpNDC\":0,\"fYUpNDC\":0,\"fWNDC\":1,\"fHNDC\":1,\"fAbsXlowNDC\":0,\"fAbsYlowNDC\":0,\"fAbsWNDC\":1,\"fAbsHNDC\":1,\"fUxmin\":30,\"fUymin\":0,\"fUxmax\":140,\"fUymax\":852.6,\"fTheta\":30,\"fPhi\":30,\"fAspectRatio\":0,\"fNumber\":0,\"fTickx\":0,\"fTicky\":0,\"fLogx\":0,\"fLogy\":0,\"fLogz\":0,\"fPadPaint\":0,\"fCrosshair\":0,\"fCrosshairPos\":0,\"fBorderSize\":2,\"fBorderMode\":0,\"fModified\":false,\"fGridx\":false,\"fGridy\":false,\"fAbsCoord\":false,\"fEditable\":true,\"fFixedAspectRatio\":false,\"fPrimitives\":{\"_typename\":\"TList\",\"name\":\"TList\",\"arr\":[{\"_typename\":\"TFrame\",\"fUniqueID\":0,\"fBits\":50331656,\"fLineColor\":1,\"fLineStyle\":1,\"fLineWidth\":1,\"fFillColor\":0,\"fFillStyle\":1001,\"fX1\":30,\"fY1\":0,\"fX2\":140,\"fY2\":852.6,\"fBorderSize\":1,\"fBorderMode\":0},{\"_typename\":\"TH1F\",\"fUniqueID\":0,\"fBits\":50331656,\"fName\":\"h_mass_electrons\",\"fTitle\":\"\",\"fLineColor\":602,\"fLineStyle\":1,\"fLineWidth\":1,\"fFillColor\":0,\"fFillStyle\":1001,\"fMarkerColor\":1,\"fMarkerStyle\":1,\"fMarkerSize\":1,\"fNcells\":52,\"fXaxis\":{\"_typename\":\"TAxis\",\"fUniqueID\":0,\"fBits\":50331648,\"fName\":\"xaxis\",\"fTitle\":\" Invariant mass [GeV]\",\"fNdivisions\":510,\"fAxisColor\":1,\"fLabelColor\":1,\"fLabelFont\":42,\"fLabelOffset\":0.005,\"fLabelSize\":0.035,\"fTickLength\":0.03,\"fTitleOffset\":1,\"fTitleSize\":0.035,\"fTitleColor\":1,\"fTitleFont\":42,\"fNbins\":50,\"fXmin\":30,\"fXmax\":140,\"fXbins\":[],\"fFirst\":0,\"fLast\":0,\"fBits2\":0,\"fTimeDisplay\":false,\"fTimeFormat\":\"\",\"fLabels\":null,\"fModLabs\":null},\"fYaxis\":{\"_typename\":\"TAxis\",\"fUniqueID\":0,\"fBits\":50331648,\"fName\":\"yaxis\",\"fTitle\":\" Number of events\",\"fNdivisions\":510,\"fAxisColor\":1,\"fLabelColor\":1,\"fLabelFont\":42,\"fLabelOffset\":0.005,\"fLabelSize\":0.035,\"fTickLength\":0.03,\"fTitleOffset\":0,\"fTitleSize\":0.035,\"fTitleColor\":1,\"fTitleFont\":42,\"fNbins\":1,\"fXmin\":0,\"fXmax\":1,\"fXbins\":[],\"fFirst\":0,\"fLast\":0,\"fBits2\":0,\"fTimeDisplay\":false,\"fTimeFormat\":\"\",\"fLabels\":null,\"fModLabs\":null},\"fZaxis\":{\"_typename\":\"TAxis\",\"fUniqueID\":0,\"fBits\":50331648,\"fName\":\"zaxis\",\"fTitle\":\"\",\"fNdivisions\":510,\"fAxisColor\":1,\"fLabelColor\":1,\"fLabelFont\":42,\"fLabelOffset\":0.005,\"fLabelSize\":0.035,\"fTickLength\":0.03,\"fTitleOffset\":1,\"fTitleSize\":0.035,\"fTitleColor\":1,\"fTitleFont\":42,\"fNbins\":1,\"fXmin\":0,\"fXmax\":1,\"fXbins\":[],\"fFirst\":0,\"fLast\":0,\"fBits2\":0,\"fTimeDisplay\":false,\"fTimeFormat\":\"\",\"fLabels\":null,\"fModLabs\":null},\"fBarOffset\":0,\"fBarWidth\":1000,\"fEntries\":4001,\"fTsumw\":3574,\"fTsumw2\":3574,\"fTsumwx\":305559.921688137,\"fTsumwx2\":26875896.0238334,\"fMaximum\":-1111,\"fMinimum\":-1111,\"fNormFactor\":0,\"fContour\":[],\"fSumw2\":[],\"fOption\":\"\",\"fFunctions\":{\"_typename\":\"TList\",\"name\":\"TList\",\"arr\":[{\"_typename\":\"TPaveStats\",\"fUniqueID\":0,\"fBits\":50331657,\"fLineColor\":1,\"fLineStyle\":1,\"fLineWidth\":1,\"fFillColor\":0,\"fFillStyle\":1001,\"fX1\":123.500002786517,\"fY1\":719.381260719616,\"fX2\":151.000003606081,\"fY2\":889.901259449143,\"fX1NDC\":0.780000016093254,\"fY1NDC\":0.775000005960464,\"fX2NDC\":0.980000019073486,\"fY2NDC\":0.935000002384186,\"fBorderSize\":1,\"fInit\":1,\"fShadowColor\":1,\"fCornerRadius\":0,\"fOption\":\"brNDC\",\"fName\":\"stats\",\"fTextAngle\":0,\"fTextSize\":0,\"fTextAlign\":12,\"fTextColor\":1,\"fTextFont\":42,\"fLabel\":\"\",\"fLongest\":18,\"fMargin\":0.05,\"fLines\":{\"_typename\":\"TList\",\"name\":\"TList\",\"arr\":[{\"_typename\":\"TLatex\",\"fUniqueID\":0,\"fBits\":50331648,\"fName\":\"\",\"fTitle\":\"h_mass_electrons\",\"fTextAngle\":0,\"fTextSize\":0.0368,\"fTextAlign\":0,\"fTextColor\":0,\"fTextFont\":0,\"fX\":0,\"fY\":0,\"fLineColor\":1,\"fLineStyle\":1,\"fLineWidth\":2,\"fLimitFactorSize\":3,\"fOriginSize\":0.0322694959551443},{\"_typename\":\"TLatex\",\"fUniqueID\":0,\"fBits\":50331648,\"fName\":\"\",\"fTitle\":\"Entries = 4001   \",\"fTextAngle\":0,\"fTextSize\":0,\"fTextAlign\":0,\"fTextColor\":0,\"fTextFont\":0,\"fX\":0,\"fY\":0,\"fLineColor\":1,\"fLineStyle\":1,\"fLineWidth\":2,\"fLimitFactorSize\":3,\"fOriginSize\":0.0326363630592823},{\"_typename\":\"TLatex\",\"fUniqueID\":0,\"fBits\":50331648,\"fName\":\"\",\"fTitle\":\"Mean  =   85.5\",\"fTextAngle\":0,\"fTextSize\":0,\"fTextAlign\":0,\"fTextColor\":0,\"fTextFont\":0,\"fX\":0,\"fY\":0,\"fLineColor\":1,\"fLineStyle\":1,\"fLineWidth\":2,\"fLimitFactorSize\":3,\"fOriginSize\":0.0326363630592823},{\"_typename\":\"TLatex\",\"fUniqueID\":0,\"fBits\":50331648,\"fName\":\"\",\"fTitle\":\"Std Dev   =  14.51\",\"fTextAngle\":0,\"fTextSize\":0,\"fTextAlign\":0,\"fTextColor\":0,\"fTextFont\":0,\"fX\":0,\"fY\":0,\"fLineColor\":1,\"fLineStyle\":1,\"fLineWidth\":2,\"fLimitFactorSize\":3,\"fOriginSize\":0.0326363630592823}],\"opt\":[\"\",\"\",\"\",\"\"]},\"fOptFit\":0,\"fOptStat\":1111,\"fFitFormat\":\"5.4g\",\"fStatFormat\":\"6.4g\",\"fParent\":{\"$ref\":3}},{\"_typename\":\"TF1\",\"fUniqueID\":0,\"fBits\":50332680,\"fName\":\"model\",\"fTitle\":\"BW+bkg\",\"fLineColor\":1,\"fLineStyle\":1,\"fLineWidth\":2,\"fFillColor\":19,\"fFillStyle\":0,\"fMarkerColor\":1,\"fMarkerStyle\":1,\"fMarkerSize\":1,\"fXmin\":40,\"fXmax\":140,\"fNpar\":6,\"fNdim\":1,\"fNpx\":100,\"fType\":0,\"fNpfits\":44,\"fNDF\":38,\"fChisquare\":163.285542686583,\"fMinimum\":-1111,\"fMaximum\":-1111,\"fParErrors\":[146.894748753556,0.0736794978301493,0.149614816976228,1.23551412901279,0.34293052759721,0.00787258745046878],\"fParMin\":[0,0,0,0,0,0],\"fParMax\":[0,0,0,0,0,0],\"fSave\":[21.1464504989178,20.5609011739701,20.0023411061869,19.4707039897993,18.9660023182543,18.4883349325963,18.0378958832677,17.6149848472717,17.2200193947882,16.8535494642204,16.5162744857761,16.2090636956465,15.9329803116468,15.6893104048136,15.4795975105284,15.3056842915113,15.1697629127548,15.0744362413685,15.0227925783611,15.0184974144081,15.0659067471787,15.1702079018668,15.3375956986939,15.5754944120406,15.8928395573372,16.3004385533034,16.8114363781743,17.4419224345339,18.2117294357861,19.1454965232785,20.2741006388784,21.636608227218,23.2829731255274,25.2778218422973,27.7058512307476,30.679662554381,34.3513531301622,38.9300330858614,44.7089113990861,52.1082377590045,61.7452345220239,74.5512449040007,91.9736076528807,116.332330761306,151.458570084806,203.811843479837,284.170641964776,408.539064455633,589.008986910687,786.099078238984,853.021065904392,714.813923153005,512.231151664357,353.068659598026,247.538511055668,179.337729783857,134.339864649633,103.658129066333,82.0217996407366,66.2855833633558,54.5235357755767,45.5194641766308,38.4814832595717,32.8790112312666,28.3471505560231,24.6289741433637,21.5397084978768,18.9439170458647,16.7406089673559,14.853302043402,13.2232549610262,11.8047714205663,10.5618856476608,9.46598595978606,8.49408614999681,7.62755126539049,6.85114672828454,6.15232063314551,5.52065629071875,4.94745051356349,4.42538577427495,3.94827315098469,3.51084915523255,3.1086139368594,2.73770152654238,2.39477507823661,2.07694176322989,1.78168321888911,1.506798390044,1.25035630504854,1.0106568629346,0.786198116599497,0.575648851452322,0.377825502628616,0.191672643892451,0.0162464303876666,-0.149299505024882,-0.305726108850938,-0.453719250121931,-0.593898622708752,-0.726825431906646,40,140],\"fNormalized\":false,\"fNormIntegral\":0,\"fFormula\":{\"_typename\":\"TFormula\",\"fUniqueID\":0,\"fBits\":50332672,\"fName\":\"model\",\"fTitle\":\"BW+bkg\",\"fClingParameters\":[7190.76417462872,89.8064900471487,5.34336022062383,-4.24209978064423,4.34919678320092,-0.0304182168345195],\"fAllParametersSetted\":true,\"fParams\":[{\"$pair\":\"pair<TString,int,TFormulaParamOrder>\",\"first\":\"p0\",\"second\":0},{\"$pair\":\"pair<TString,int,TFormulaParamOrder>\",\"first\":\"p1\",\"second\":1},{\"$pair\":\"pair<TString,int,TFormulaParamOrder>\",\"first\":\"p2\",\"second\":2},{\"$pair\":\"pair<TString,int,TFormulaParamOrder>\",\"first\":\"p3\",\"second\":3},{\"$pair\":\"pair<TString,int,TFormulaParamOrder>\",\"first\":\"p4\",\"second\":4},{\"$pair\":\"pair<TString,int,TFormulaParamOrder>\",\"first\":\"p5\",\"second\":5}],\"fFormula\":\"([p0]*TMath::BreitWigner(x,[p1],[p2]))+([p3]+exp([p4]+[p5]*x))\",\"fNdim\":1,\"fLinearParts\":[],\"fVectorized\":false},\"fParams\":null,\"fComposition_ptr\":null}],\"opt\":[\"brNDC\",\"\"]},\"fBufferSize\":0,\"fBuffer\":[],\"fBinStatErrOpt\":0,\"fStatOverflows\":2,\"fArray\":[403,28,25,24,28,25,17,12,16,21,18,24,12,18,21,15,21,26,22,28,27,34,44,75,107,178,350,595,784,544,191,79,47,19,14,17,11,11,7,5,7,6,3,3,1,3,2,3,3,3,0,24]},{\"_typename\":\"TF1\",\"fUniqueID\":0,\"fBits\":50331656,\"fName\":\"BW\",\"fTitle\":\"[0]*TMath::BreitWigner(x, [1], [2])\",\"fLineColor\":632,\"fLineStyle\":1,\"fLineWidth\":2,\"fFillColor\":19,\"fFillStyle\":0,\"fMarkerColor\":1,\"fMarkerStyle\":1,\"fMarkerSize\":1,\"fXmin\":40,\"fXmax\":140,\"fNpar\":3,\"fNdim\":1,\"fNpx\":100,\"fType\":0,\"fNpfits\":0,\"fNDF\":0,\"fChisquare\":0,\"fMinimum\":-1111,\"fMaximum\":-1111,\"fParErrors\":[0,0,0],\"fParMin\":[100,80,0.1],\"fParMax\":[15000,100,40],\"fSave\":[2.45804633677734,2.55950043085427,2.66736099900372,2.78217840077301,2.90456331950841,3.03519486426797,3.17482996856894,3.32431432841145,3.48459517415091,3.65673623566328,3.84193534136305,4.04154519357454,4.25709799154934,4.49033473703807,4.74324026638843,5.0180853219026,5.31747732290286,5.64442194984294,6.00239824884813,6.39545074907692,6.82830313081586,7.30649938627492,7.83658031717124,8.42630581406265,9.08493695386207,9.82359696341394,10.6557371680525,11.597744140041,12.6697388601927,13.8966401019539,15.3095960630126,16.9479363189087,18.861869956824,21.1162710910569,23.7960767664222,27.0141212471226,30.9227278768956,35.7312260472058,41.7330374411281,49.3486180937294,59.1953905391425,72.2048921834884,89.8246501377845,114.3748550434,149.686839681913,202.220292788414,282.753869125189,407.291821978939,587.926173494674,785.175762145866,852.252547197453,714.195620486152,511.758506271976,352.73725968738,247.344114100604,179.276233660762,134.407292094563,103.850621193383,82.3356121371158,66.7170832885538,55.0691984714682,46.1758702052041,39.245315373201,33.7470513920355,29.3162770169076,25.6961585991198,22.7020133097873,20.198492542097,18.0846908191928,16.2842087167004,14.7383852417123,13.4016020126535,12.2379688420913,11.2189473722982,10.321622526173,9.52742835103184,8.8211972032657,8.19044210692888,7.62480935773925,7.11565686673344,6.65572637489969,6.23888645342307,5.85992938468041,5.51440941867831,5.19851306560008,4.90895438676926,4.6428899357787,4.39784925290629,4.17167775080376,3.96248953353894,3.76862822544522,3.5886342947577,3.42121767149803,3.26523470275331,3.11966867850317,2.98361331019063,2.8562586618065,2.73687912651266,2.62482311618038,2.51950419079486,2.42039340263872,40,140],\"fNormalized\":false,\"fNormIntegral\":0,\"fFormula\":{\"_typename\":\"TFormula\",\"fUniqueID\":0,\"fBits\":50332672,\"fName\":\"BW\",\"fTitle\":\"[0]*TMath::BreitWigner(x, [1], [2])\",\"fClingParameters\":[7190.76531016619,84,5.34336123345128],\"fAllParametersSetted\":true,\"fParams\":[{\"$pair\":\"pair<TString,int,TFormulaParamOrder>\",\"first\":\"p0\",\"second\":0},{\"$pair\":\"pair<TString,int,TFormulaParamOrder>\",\"first\":\"p1\",\"second\":1},{\"$pair\":\"pair<TString,int,TFormulaParamOrder>\",\"first\":\"p2\",\"second\":2}],\"fFormula\":\"[p0]*TMath::BreitWigner(x,[p1],[p2])\",\"fNdim\":1,\"fLinearParts\":[],\"fVectorized\":false},\"fParams\":null,\"fComposition_ptr\":null}],\"opt\":[\"\",\"e1p\",\"SAME\"]},\"fExecs\":null,\"fName\":\"canvas\",\"fTitle\":\"\",\"fNumPaletteColor\":0,\"fNextPaletteColor\":0,\"fDISPLAY\":\"$DISPLAY\",\"fDoubleBuffer\":0,\"fRetained\":true,\"fXsizeUser\":0,\"fYsizeUser\":0,\"fXsizeReal\":20,\"fYsizeReal\":15,\"fWindowTopX\":0,\"fWindowTopY\":0,\"fWindowWidth\":0,\"fWindowHeight\":0,\"fCw\":796,\"fCh\":572,\"fCatt\":{\"_typename\":\"TAttCanvas\",\"fXBetween\":2,\"fYBetween\":2,\"fTitleFromTop\":1.2,\"fXdate\":0.2,\"fYdate\":0.3,\"fAdate\":1},\"kMoveOpaque\":true,\"kResizeOpaque\":true,\"fHighLightColor\":2,\"fBatch\":true,\"kShowEventStatus\":false,\"kAutoExec\":true,\"kMenuBar\":true});\n",
       "       Core.draw(\"root_plot_2\", obj, \"\");\n",
       "     }\n",
       " );\n",
       "</script>\n"
      ],
      "text/plain": [
       "<IPython.core.display.HTML object>"
      ]
     },
     "metadata": {},
     "output_type": "display_data"
    }
   ],
   "source": [
    "# now let's fit again \n",
    "canvas.Clear()\n",
    "print(\"Signal mean = {:.2f}\".format(fBW.GetParameter(1)))\n",
    "fitresult=h_mass_electrons.Fit(\"model\", \"S\", \"e1p\", xlow_fit, xup_fit) # store fit result\n",
    "# and draw the signal in red, but first shift its mean\n",
    "fBW.SetParameter(1, 84.)\n",
    "print(\"Signal mean = {:.2f}\\n\".format(fBW.GetParameter(1)))\n",
    "\n",
    "fBW.Draw(\"SAME\") \n",
    "canvas.Draw()\n",
    "canvas.SaveAs(\"jsproblem2.png\")\n"
   ]
  },
  {
   "cell_type": "markdown",
   "metadata": {},
   "source": [
    "### Conclusion problem 2\n",
    "Look at the plot above and compare it to `jsproblem2.png`. The plot is now interactive so Problem 1 is solved. However, for some reason the curve with the fitted values is drawn, rather than the one with updated parameter values. I did not put an issue on the github page (linked to in the Conclusion problem 1 above), feel free to do so."
   ]
  },
  {
   "cell_type": "code",
   "execution_count": null,
   "metadata": {},
   "outputs": [],
   "source": []
  }
 ],
 "metadata": {
  "kernelspec": {
   "display_name": "Python 3",
   "language": "python",
   "name": "python3"
  },
  "language_info": {
   "codemirror_mode": {
    "name": "ipython",
    "version": 3
   },
   "file_extension": ".py",
   "mimetype": "text/x-python",
   "name": "python",
   "nbconvert_exporter": "python",
   "pygments_lexer": "ipython3",
   "version": "3.7.0"
  }
 },
 "nbformat": 4,
 "nbformat_minor": 2
}
