{
 "cells": [
  {
   "cell_type": "markdown",
   "metadata": {},
   "source": [
    "# [SWE] Labbuppgift: mäta Z-bosonens massa\n",
    "# [ENG] Lab exercise: measure the mass of the Z boson\n",
    "\n",
    "## 1.1 [SWE] Introduktion\n",
    "   \n",
    "Börja med att läsa igenom introduktionsmaterialet om ATLAS-experimentet och hur dess detektorer används för att mäta och rekonstruera vad som händer i proton-proton-kollisionerna som Large Hadron Collider skapar. Om inte [notebook 1a](1a-Introduction-information.ipynb) fungerar så finns informationen även som pdf [här](images/1-Introduction.pdf) (högerklicka och spara om den inte öppnas).\n",
    "_______________________________________________________\n",
    "\n",
    "## 1.1 [ENG] Introduction\n",
    "   \n",
    "Start by reading through the introductory material about the ATLAS experiment and how its detector systems are used to measure and reconstruct what happens in the proton-proton collisions that the Large Hadron Collider creates. If [notebook 1a](1a-Introduction-information.ipynb) does not work the information is available also  [here](images/1-Introduction.pdf) (right-click and save if it does not open).\n",
    "___________________________________________________________"
   ]
  },
  {
   "cell_type": "markdown",
   "metadata": {},
   "source": [
    "## 1.2 [SWE] Dataanalys med ROOT\n",
    "Vi importerar C++-biblioteket ROOT som innehåller verktyg för att analysera och visualisera data.\n",
    "_________________________________________________\n",
    "## 1.2 [ENG] Data analysis with ROOT\n",
    "We import the C++ library ROOT which comes with tools for analysing and visualising the data."
   ]
  },
  {
   "cell_type": "code",
   "execution_count": null,
   "metadata": {},
   "outputs": [],
   "source": [
    "import ROOT"
   ]
  },
  {
   "cell_type": "markdown",
   "metadata": {},
   "source": [
    "### [SWE] Vår första event-loop\n",
    "Vi hämtar ATLAS open data från internet och laddar in det i ett ROOT-träd. Vi börjar med simulerad data, där en $Z$-boson skapats och sönderfallit till ett elektron-positron-par. \n",
    "__________________________________________________________________________\n",
    "### [ENG] Our first event loop\n",
    "We get ATLAS open data from the web and load it into a ROOT \"tree\". \n",
    "We start by looking at simulated data, in which there is a $Z$ boson decaying to an electron-positron pair.\n"
   ]
  },
  {
   "cell_type": "code",
   "execution_count": null,
   "metadata": {},
   "outputs": [],
   "source": [
    "# [SWE] Öppna en fil med simulerad data, innehållandes Z-bosoner som sönderfaller till elektron-positron-par (därav \"Zee\" i namnet)\n",
    "# [ENG] Open a file with simulated data, containing events with Z bosons decaying to electron-positron pairs (hence the \"Zee\" in the file name)\n",
    "f = ROOT.TFile.Open(\"http://opendata.atlas.cern/release/samples/MC/mc_147770.Zee.root\")\n",
    "tree = f.Get(\"mini\") # [SWE] hämta trädet (det är döpt till \"mini\"). Varje \"rad\" i ett träd är en händelse\n",
    "                     # [ENG] get the tree (called \"mini\"). Every \"row\" in a tree is an event"
   ]
  },
  {
   "cell_type": "markdown",
   "metadata": {},
   "source": [
    "#### [SWE] Trädets innehåll (vad för typ av data finns?)\n",
    "Innan vi kör loopen tittar vi på vilken data som finns sparad för varje händelse. Nedan ser ni trädets (\"mini\") olika variabler, en variabel kallas också för en gren (branch). Datatyp och förklaring listas. En variabel hämtas med `tree.<branch_name>`. I denna labb ska ni titta på elektroner och/eller myoner, som är leptoner, så variablerna med namn `lep_*` kommer sannolikt vara de mest intressanta.\n",
    "#### [ENG] Tree content (what data is available?)\n",
    "Before running a loop, let's look at what data is stored for each event. The variables in the tree \"mini\" is listed below. A variable is also called a branch. The value of a variable is retrieved with `tree.<branch_name>`. Since you in this lab will be looking at electrons and/or muons, which are leptons, the variables with name `lep_*` will be of primary interest.\n",
    "\n",
    " <font size=\"3\"><b>branch name</b></font> | <font size=\"3\"><b>type</b></font> | <font size=\"3\"><b>description</b></font> |\n",
    " ------------- | :-------------: | :-----: |\n",
    " <b id=\"runNumber\">runNumber</b>               | int           | runNumber |\n",
    " <b id=\"eventNumber\">eventNumber</b>           | int           | eventNumber |\n",
    " <b id=\"channelNumber\">channelNumber</b>       | int           | channelNumber ||\n",
    " <b id=\"mcWeight\">mcWeight</b>                 | float         | weight of an MC event |\n",
    " <b id=\"pvxp_n\">pvxp_n</b>                     | int           | number of primary vertices |\n",
    " <b id=\"scaleFactor\">scaleFactor</b>           | float         | overall scale factor for the preselected event |\n",
    " <b id=\"trigE\">trigE</b>                       | bool          | boolean whether a standard trigger has fired in the egamma stream |\n",
    " <b id=\"trigM\">trigM</b>                       | bool          | boolean whether a standard trigger has fired in the muon stream |\n",
    " <b id=\"passGRL\">passGRL</b>                   | bool          | signifies whether event passes the GRL may be put in isGoodEvent |\n",
    " <b id=\"lep_n\">lep_n</b>                       | int           | number of preselected leptons |\n",
    " <b id=\"lep_truthMatched\">lep_truthMatched</b> | vector<bool>  | boolean indicating whether the lepton is matched to a truth lepton |\n",
    " <b id=\"lep_trigMatched\">lep_trigMatched</b>   | vector<bool>  | boolean signifying whether the lepton is the one triggering the event |\n",
    " <b id=\"lep_pt\">lep_pt</b>                    | vector<float> | transverse momentum of the lepton |\n",
    " <b id=\"lep_eta\">lep_eta</b>                  | vector<float> | pseudo-rapidity of the lepton |\n",
    " <b id=\"lep_phi\">lep_phi</b>                  | vector<float> | azimuthal angle of the lepton |\n",
    " <b id=\"lep_E\">lep_E</b>                      | vector<float> | energy of the lepton |\n",
    " <b id=\"lep_z0\">lep_z0</b>                    | vector<float> | z-coordinate of the track associated to the lepton wrt. the primary vertex |\n",
    " <b id=\"lep_charge\">lep_charge</b>            | vector<float> | charge of the lepton |\n",
    " <b id=\"lep_isTight\">lep_isTight</b>          | vector<bool>  | boolean indicating whether the lepton is of tight quality |\n",
    " <b id=\"lep_flag\">lep_flag</b>                | vector<int>   | bitmask implementing object cuts of the top group |\n",
    " <b id=\"lep_type\">lep_type</b>                | vector<int>   | number signifying the lepton type (e, mu, tau) of the lepton |\n",
    " <b id=\"lep_ptcone30\">lep_ptcone30</b>        | vector<float> | ptcone30 isolation for the lepton |\n",
    " <b id=\"lep_etcone20\">lep_etcone20</b>        | vector<float> | etcone20 isolation for the lepton |\n",
    " <b id=\"lep_trackd0pvunbiased\">lep_trackd0pvunbiased</b> | vector<float>  | d0 of the track associated to the lepton at the point of closest approach (p.o.a.) |\n",
    " <b id=\"lep_tracksigd0pvunbiased\">lep_tracksigd0pvunbiased</b> | vector<float>  | d0 signifcance of the track associated to the lepton at the p.o.a. |\n",
    " <b id=\"met_et\">met_et                        | float         | Transverse energy of the missing momentum vector |\n",
    " <b id=\"met_phi\">met_phi                      | float         | Azimuthal angle of the missing momentum vector |\n",
    " <b id=\"jet_n\">jet_n                          | int           | number of selected jets |\n",
    " <b id=\"jet_pt\">jet_pt                        | vector<float> | transverse momentum of the jet |\n",
    " <b id=\"jet_eta\">jet_eta                      | vector<float> | pseudorapidity of the jet |\n",
    " <b id=\"jet_phi\">jet_phi                      | vector<float> | azimuthal angle of the jet |\n",
    " <b id=\"jet_E\">jet_E                          | vector<float> | energy of the jet |\n",
    " <b id=\"jet_m\">jet_m                          | vector<float> | invariant mass of the jet |\n",
    " <b id=\"jet_jvf\">jet_jvf                      | vector<float> | JetVertexFraction of the jet |\n",
    " <b id=\"jet_flag\">jet_flag                    | vector<int>   | bitmask implementing object cuts of the top group |\n",
    " <b id=\"jet_trueflav\">jet_trueflav            | vector<int>   | true flavor of the jet |\n",
    " <b id=\"jet_truthMatched\">jet_truthMatched    | vector<int>   | information whether the jet matches a jet on truth level |\n",
    " <b id=\"jet_SV0\">jet_SV0                      | vector<float> | SV0 weight of the jet |\n",
    " <b id=\"jet_MV1\">jet_MV1                      | vector<float> | MV1 weight of the jet |\n",
    " <b id=\"scaleFactor_BTAG\">scaleFactor_BTAG    | float         | scalefactor for btagging |\n",
    " <b id=\"scaleFactor_ELE\">scaleFactor_ELE      | float         | scalefactor for electron efficiency |\n",
    " <b id=\"scaleFactor_JVFSF\">scaleFactor_JVFSF  | float         | scalefactor for jet vertex fraction |\n",
    " <b id=\"scaleFactor_MUON\">scaleFactor_MUON    | float         | scalefactor for muon efficiency |\n",
    " <b id=\"scaleFactor_PILEUP\">scaleFactor_PILEUP   | float      | scalefactor for pileup reweighting |\n",
    " <b id=\"scaleFactor_TRIGGER\">scaleFactor_TRIGGER | float      | scalefactor for trigger |\n",
    " <b id=\"scaleFactor_ZVERTEX\">scaleFactor_ZVERTEX | float      | scalefactor for z-vertex reweighting |"
   ]
  },
  {
   "cell_type": "markdown",
   "metadata": {},
   "source": [
    "#### [SWE] iterera över de tre första händelserna (en liten \"event loop\")\n",
    "#### [ENG] run a small event loop over the first three events"
   ]
  },
  {
   "cell_type": "code",
   "execution_count": null,
   "metadata": {},
   "outputs": [],
   "source": [
    "for ievt in range(3): # [SWE] kolla närmare på de tre första händelserna\n",
    "                      # [ENG] let's look closer at the first three events in the tree\n",
    "    tree.GetEntry(ievt) # [SWE] ladda händelse nr ievt\n",
    "                        # [ENG] load event ievt\n",
    "    print(\"Event {} :: Number of leptons = {}\".format(ievt, tree.lep_n))   # [SWE]\"lep_n\" är antalet leptoner, med leptoner menar vi här elektroner eller myoner\n",
    "                                                                           # [ENG]\"lep_n\" is the number of leptons, by leptons we here mean electrons and muons\n",
    "    for ilep in range(tree.lep_n): # [SWE] iterera över leptonerna i händelsen\n",
    "                                   # [ENG] loop over the leptons in the event\n",
    "        print(\"        Lepton {} is of type {} and has a transverse momentum of {:.0f} GeV\".format(ilep+1, tree.lep_type[ilep], tree.lep_pt[ilep]*1e-3))\n",
    "print(\"\\nType==11: electron/positron, type==13: muon/anti-muon\")    "
   ]
  },
  {
   "cell_type": "code",
   "execution_count": null,
   "metadata": {},
   "outputs": [],
   "source": [
    "%run hints/tip1.py"
   ]
  },
  {
   "cell_type": "markdown",
   "metadata": {},
   "source": [
    "#### [SWE] Nu testar vi att rita distributionen av den transversella rörelsemängden för elektroner i de första 1000 händelserna.\n",
    "____________________________________________________\n",
    "#### [ENG] Now we'll try to draw the distribution of the transverse momentum for electrons in the first 1000 events.\n",
    "_____________________________________________________"
   ]
  },
  {
   "cell_type": "code",
   "execution_count": null,
   "metadata": {},
   "outputs": [],
   "source": [
    "# [SWE] skapa ett histogram med 15 binnar, från 15 till 90 GeV\n",
    "# [ENG] create a histogram with 15 bins, ranging from 15 to 90 GeV\n",
    "h_pt = ROOT.TH1F(\"h_pt\", \"; Electron transverse momentum [GeV]; Number of electrons\", 15, 15., 90.) \n",
    "nevents=1000\n",
    "ievt=0\n",
    "for evt in tree: # [SWE] iterera över händelser\n",
    "                 # [ENG] start the event loop\n",
    "    ievt+=1\n",
    "    if ievt >= nevents: break # [SWE] avsluta loop efter 1000 händelser\n",
    "                              # [ENG] terminate the loop after 1000 events\n",
    "        \n",
    "    for ilep in range(evt.lep_n):  # [SWE] iterera över leptoner (med leptoner avses elektroner och myoner)\n",
    "                                   # [ENG] loop over leptons (lepton means electron or muon)\n",
    "        if evt.lep_type[ilep] == 11: # [SWE] vi vill bara rita elektroner (typ=11)\n",
    "                                     # [ENG] consider only electrons (type 11)\n",
    "            h_pt.Fill(evt.lep_pt[ilep]*1e-3) # [SWE] fyll histogram (i filen lagras rörelsemängd i MeV)\n",
    "                                             # [ENG] fill histogram (file stores momentum in MeV)"
   ]
  },
  {
   "cell_type": "code",
   "execution_count": null,
   "metadata": {},
   "outputs": [],
   "source": [
    "# [SWE] \"magic\"-kommando för interaktiv visualisering\n",
    "# [ENG] \"magic\" command for interactive visualisation\n",
    "%jsroot on "
   ]
  },
  {
   "cell_type": "code",
   "execution_count": null,
   "metadata": {},
   "outputs": [],
   "source": [
    "# [SWE] öppna en canvas att rita på\n",
    "# [ENG] open a canvas for drawing\n",
    "canvas = ROOT.TCanvas(\"Canvas\",\"Title\",800,600)\n",
    "# [SWE] rita histogrammet\n",
    "# [ENG] draw the histogram\n",
    "h_pt.Draw(\"e1\") # [SWE] \"e1\" ritar felstaplar\n",
    "                # [ENG] \"e1\" will draw error bars\n",
    "# [SWE] öppna canvasen\n",
    "# [ENG] open the canvas\n",
    "canvas.Draw()"
   ]
  },
  {
   "cell_type": "markdown",
   "metadata": {},
   "source": [
    "<b> [SWE] </b> Den uppritade figuren är interaktiv: testa att klicka runt (använd högerklick) och scrolla. Ni kan ändra stil och färg på histogrammet, titel på axlarna etc. Figuren kan sparas i png-format genom att högerklicka mitt på canvasen eller i godtyckligt format via `canvas.SaveAs(\"figure.pdf\")`\n",
    "___________________________________________________\n",
    "<b> [ENG] </b> The figure is interactive.\n",
    "Try playing around with it (right-click, scroll the axes...). \n",
    "You can change the drawing  style, title axes, etc. \n",
    "The figure can be saved in png format by right clicking the canvas, or in any format by calling `canvas.SaveAs(\"figure.pdf\")`\n",
    "__________________________________________________________"
   ]
  },
  {
   "cell_type": "markdown",
   "metadata": {},
   "source": [
    "#### [SWE] I nästa notebook ska vi lära oss lite mer om hur vi använder ROOT, specifikt om hur man gör anpassningar.\n",
    "________________________________________________________\n",
    "#### [ENG] In the next notebook we'll learn some more about ROOT, especially how to make fits."
   ]
  }
 ],
 "metadata": {
  "kernelspec": {
   "display_name": "Python 3",
   "language": "python",
   "name": "python3"
  },
  "language_info": {
   "codemirror_mode": {
    "name": "ipython",
    "version": 3
   },
   "file_extension": ".py",
   "mimetype": "text/x-python",
   "name": "python",
   "nbconvert_exporter": "python",
   "pygments_lexer": "ipython3",
   "version": "3.6.6"
  }
 },
 "nbformat": 4,
 "nbformat_minor": 2
}
