{
 "cells": [
  {
   "cell_type": "markdown",
   "metadata": {},
   "source": [
    "## <CENTER> Mätning av $Z$-bosonens massa med ATLAS-data\n",
    "______________________________________________"
   ]
  },
  {
   "cell_type": "markdown",
   "metadata": {},
   "source": [
    "### Med hjälp av det ni lärt er hittills får ni nu själva mäta $Z$-bosonens massa i med riktig mätdata från protonkollisioner skapade av partikelacceleratorn LHC. Nedan finns lite påbörjade förslag på kodbitar som kan vara användbara. Använd dem om ni vill. Vi finns till hands under labben, så be om hjälp om ni kör fast. \n",
    "\n",
    "### Lycka till! \n",
    "_____________________________________________"
   ]
  },
  {
   "cell_type": "code",
   "execution_count": null,
   "metadata": {},
   "outputs": [],
   "source": [
    "# In order to use ROOT you need to... what?\n",
    "\n",
    "# ..."
   ]
  },
  {
   "cell_type": "markdown",
   "metadata": {},
   "source": [
    "### Hämta data"
   ]
  },
  {
   "cell_type": "code",
   "execution_count": null,
   "metadata": {},
   "outputs": [],
   "source": [
    "# http://opendata.atlas.cern/release/samples\n",
    "# Look at the above web page, you will find simulated and recorded data.\n",
    "# For the latter you should find two files, one with electrons/positrons and one with muons/antimuons.\n",
    "datafile = ROOT.TFile.Open(\"...\") \n",
    "# ..."
   ]
  },
  {
   "cell_type": "code",
   "execution_count": null,
   "metadata": {},
   "outputs": [],
   "source": [
    "# load data into tree (TFile::ls() can be used to list the file contents)\n",
    "tree = datafile.Get(\"...\")\n",
    "# ...."
   ]
  },
  {
   "cell_type": "markdown",
   "metadata": {},
   "source": [
    "### Funktion för invariant massa\n",
    "_________________________________________"
   ]
  },
  {
   "cell_type": "code",
   "execution_count": null,
   "metadata": {},
   "outputs": [],
   "source": [
    "def getInvMass(lep1_pt, lep1_eta, lep1_phi, lep2_pt, lep2_eta, lep2_phi):\n",
    "    ''' compute the invariant mass using the formula from the Introduction notebook (assume massless particles)'''\n",
    "    import math\n",
    "    ...\n",
    "    return ... "
   ]
  },
  {
   "cell_type": "markdown",
   "metadata": {},
   "source": [
    "### Förbered histogram\n",
    "_______________________________"
   ]
  },
  {
   "cell_type": "code",
   "execution_count": null,
   "metadata": {},
   "outputs": [],
   "source": [
    "# create histogram for invariant mass\n",
    "\n",
    "# define number of bins and range\n",
    "nbins = ..\n",
    "lowedge = ..\n",
    "upedge = ..\n",
    "\n",
    "h_mass = ROOT.TH1F(\"h_mass\", \"; Invariant mass [GeV]; Number of events\", ..)\n",
    ".."
   ]
  },
  {
   "cell_type": "markdown",
   "metadata": {},
   "source": [
    "### Kör event-loopen, hitta elektron-positron/myon-antimyon-par, räkna ut invarianta massan, fyll histogram. Ni tittar på data, så alla händelser innehåller inte en $Z$-boson. Vilka krav/snitt bör ni göra i data för att hitta så \"$Z$-lika\" händelser som möjligt? Titta i notebook 1 för att se vilka variabler som finns tillgängliga.\n",
    "___________________________________________"
   ]
  },
  {
   "cell_type": "code",
   "execution_count": null,
   "metadata": {},
   "outputs": [],
   "source": [
    "for evt in tree:\n",
    "    ...."
   ]
  },
  {
   "cell_type": "markdown",
   "metadata": {},
   "source": [
    "**Tips:** För att arbeta mer effektivt, inför ett stoppkriterium så att ni under utveckligen använder ett mindre antal händelser (att köra över all data tar lång tid). När ni sedan är nöjda kan ni köra över fler händelser."
   ]
  },
  {
   "cell_type": "markdown",
   "metadata": {},
   "source": [
    "### Rita den erhållna distributionen över den invarianta massan för leptonparen. Ser ni $Z$-toppen?\n"
   ]
  },
  {
   "cell_type": "code",
   "execution_count": null,
   "metadata": {},
   "outputs": [],
   "source": [
    "canvas = ...\n",
    "h_mass.Draw(\"...\")\n",
    "canvas.Draw()"
   ]
  },
  {
   "cell_type": "markdown",
   "metadata": {},
   "source": [
    "### Gör anpassning för att kunna hitta centralvärdet, dvs det mest sannolika värdet. Vilken funktion ska anpassas? Behövs en summa av en modell som beskriver signalen ni söker ($Z$-bosoner) och en modell som beskriver bakgrunden? Prova er fram med olika funktioner och intervall för anpassningen. Titta på notebook [2-Fitting-with-ROOT](2-Fitting-with-ROOT.ipynb) igen för tips och hjälp.\n",
    "____________________________________________________"
   ]
  },
  {
   "cell_type": "markdown",
   "metadata": {},
   "source": [
    "**Tips:** Titta på dessa länkar för tips på en bra funktion att använda:\n",
    "* Lite bakgrundsinformation om sk resonanspartiklar ($Z$-bosonen är en sådan): [Wikipedia](https://en.wikipedia.org/wiki/Resonance_(particle_physics))\n",
    "* Funktioner som finns implementerade i ROOTs [TMath-klass](https://root.cern.ch/root/html524/TMath.html#TMath:BreitWigner)\n",
    "\n",
    "Ett ytterligare tips: se till att funktionen ni anpassar har en parameter som tillåter att "
   ]
  },
  {
   "cell_type": "code",
   "execution_count": null,
   "metadata": {},
   "outputs": [],
   "source": [
    "### [SWE] definiera funktioner\n",
    "### [ENG] declare function\n",
    "func = ROOT.TF1(\"...\", ...)"
   ]
  },
  {
   "cell_type": "code",
   "execution_count": null,
   "metadata": {},
   "outputs": [],
   "source": [
    "h_mass.Fit(\"fcn_name\", \"S\", ...)\n",
    "canvas.Draw()"
   ]
  },
  {
   "cell_type": "markdown",
   "metadata": {},
   "source": [
    "#### Rapportskrivning\n",
    "\n",
    "Läs nu igenom instruktionerna för rapportskrivningen noggrant i [4-LabReport](4-LabReport.ipynb)."
   ]
  }
 ],
 "metadata": {
  "kernelspec": {
   "display_name": "Python 3",
   "language": "python",
   "name": "python3"
  },
  "language_info": {
   "codemirror_mode": {
    "name": "ipython",
    "version": 3
   },
   "file_extension": ".py",
   "mimetype": "text/x-python",
   "name": "python",
   "nbconvert_exporter": "python",
   "pygments_lexer": "ipython3",
   "version": "3.6.6"
  }
 },
 "nbformat": 4,
 "nbformat_minor": 2
}
