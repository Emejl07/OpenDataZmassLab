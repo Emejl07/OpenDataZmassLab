{
 "cells": [
  {
   "cell_type": "markdown",
   "metadata": {},
   "source": [
    "## <center> Python & Jupyter notebooks"
   ]
  },
  {
   "cell_type": "markdown",
   "metadata": {},
   "source": [
    "I denna labb kommer vi använda programmeringsspråket `python` och så kallade \"Jupyter notebooks\". Dessa notebooks är webb-baserade interaktiva dokument (som det du tittar på just nu) där du kan köra python-kod direkt i webbläsaren. \n",
    "\n",
    "Kontrollpanelen ovan gör det enkelt att styra exekveringen av koden i dessa notebooks med knapptryck, och vi kommer även att gå igenom ett par av de snabbkommandon som kan göra användandet mer effektivt. Några saker som kan vara bra att känna till:\n",
    "* notebooks är uppdelade i \"celler\", där de två huvudsakliga typerna av celler är \"Markdown\" och \"Code\". Den förra innehåller bara text (html, som denna cell) och den senare innehåller kod, i vårt fall python, som kan exekveras. En cell kan köras med Run-knappen eller med tangentbordskortkommandot `Shift+Enter`.\n",
    "* Med `Esc` och `Enter` går du \"ut\" ur och \"in\" i en cell (\"command mode\" och \"edit mode\").\n",
    "* I command mode, skifta mellan celler med upp- och nerpilarna.\n",
    "* `Ctrl + Shift + P` (eller `Cmd + Shift + P` på Mac) öppnar \"Command Palette\" där du kan söka efter alla tillgängliga kommandon.\n",
    "* Om själva kärnan (\"kernel\" på engelska) i jupyter-programvaran av någon anledning kraschar, tryck på knappen till höger om stopp-knappen för att starta om den.\n",
    "\n",
    "Nedan följer en introduktion till programmeringsspråket `python`, för er som vill repetera. Gå gärna igenom lite även om du känner dig bekväm med python för att bekanta dig med notebook-miljön. Introduktionen är på engelska och består av delar av [\"Jupyter at Bryn Mawr College\" ](https://jupyter.brynmawr.edu/services/public/dblank/CS245%20Programming%20Languages/2016-Fall/Labs/Chapter%2002%20-%20Introduction%20to%20Python.ipynb)\n",
    "\n",
    "Själva labbövningarna börjar i nästa notebook, \"1-Introduction-to-lab.ipynb\".\n",
    "_________________________________________________________________________________"
   ]
  },
  {
   "cell_type": "markdown",
   "metadata": {},
   "source": [
    "# 1. Python"
   ]
  },
  {
   "cell_type": "markdown",
   "metadata": {},
   "source": [
    "Python is a programming language that has been under development for over 25 years [1].\n",
    "\n",
    "This Chapter will not cover everything in Python. If you would like, please consider the following resources:\n",
    "\n",
    "**Getting Started with Python**:\n",
    "\n",
    "* https://www.codecademy.com/learn/python\n",
    "* http://docs.python-guide.org/en/latest/intro/learning/\n",
    "* https://learnpythonthehardway.org/book/\n",
    "* https://www.codementor.io/learn-python-online\n",
    "\n",
    "**Learning Python in Notebooks**:\n",
    "\n",
    "* http://mbakker7.github.io/exploratory_computing_with_python/\n",
    "\n",
    "This is handy to always have available for reference:\n",
    "\n",
    "**Python Reference**:\n",
    "\n",
    "* https://docs.python.org/3.5/reference/\n"
   ]
  },
  {
   "cell_type": "markdown",
   "metadata": {},
   "source": [
    "## 1.1 Statements"
   ]
  },
  {
   "cell_type": "markdown",
   "metadata": {},
   "source": [
    "Python is an [imperative language](https://en.wikipedia.org/wiki/Imperative_programming) based on [statements](https://en.wikipedia.org/wiki/Statement_(computer_science&#41;). That is, programs in Python consists of lines composed of statements. A statement can be:\n",
    "\n",
    "* a single expression\n",
    "* an assignment\n",
    "* a function call\n",
    "* a function definition\n",
    "* a statement; statement"
   ]
  },
  {
   "cell_type": "markdown",
   "metadata": {},
   "source": [
    "### 1.1.1 Expressions"
   ]
  },
  {
   "cell_type": "markdown",
   "metadata": {},
   "source": [
    "* Numbers\n",
    "  * integers\n",
    "  * floating-point\n",
    "  * complex numbers\n",
    "* strings\n",
    "* boolean values\n",
    "* lists and dicts"
   ]
  },
  {
   "cell_type": "markdown",
   "metadata": {},
   "source": [
    "#### 1.1.1.1 Numbers"
   ]
  },
  {
   "cell_type": "code",
   "execution_count": null,
   "metadata": {},
   "outputs": [],
   "source": [
    "1"
   ]
  },
  {
   "cell_type": "code",
   "execution_count": null,
   "metadata": {},
   "outputs": [],
   "source": [
    "2"
   ]
  },
  {
   "cell_type": "code",
   "execution_count": null,
   "metadata": {},
   "outputs": [],
   "source": [
    "-3"
   ]
  },
  {
   "cell_type": "code",
   "execution_count": null,
   "metadata": {},
   "outputs": [],
   "source": [
    "1\n",
    "2"
   ]
  },
  {
   "cell_type": "code",
   "execution_count": null,
   "metadata": {},
   "outputs": [],
   "source": [
    "3.14"
   ]
  },
  {
   "cell_type": "markdown",
   "metadata": {},
   "source": [
    "#### 1.1.1.2 Strings"
   ]
  },
  {
   "cell_type": "code",
   "execution_count": null,
   "metadata": {
    "scrolled": true
   },
   "outputs": [],
   "source": [
    "'apple'"
   ]
  },
  {
   "cell_type": "code",
   "execution_count": null,
   "metadata": {},
   "outputs": [],
   "source": [
    "\"apple\""
   ]
  },
  {
   "cell_type": "markdown",
   "metadata": {},
   "source": [
    "Notice that the Out might not match exactly the In. In the above example, we used double-quotes but the representation of the string used single-quotes. Python will default to showing representations of values using single quotes, if it can."
   ]
  },
  {
   "cell_type": "markdown",
   "metadata": {},
   "source": [
    "#### 1.1.1.3 Boolean Values"
   ]
  },
  {
   "cell_type": "code",
   "execution_count": null,
   "metadata": {},
   "outputs": [],
   "source": [
    "True"
   ]
  },
  {
   "cell_type": "code",
   "execution_count": null,
   "metadata": {},
   "outputs": [],
   "source": [
    "False"
   ]
  },
  {
   "cell_type": "markdown",
   "metadata": {},
   "source": [
    "#### 1.1.1.4 Lists and dictionaries"
   ]
  },
  {
   "cell_type": "markdown",
   "metadata": {},
   "source": [
    "Python has three very useful data structures built into the language:\n",
    "\n",
    "* dictionaries (hash tables): {}\n",
    "* lists: []\n",
    "* tuples: (item, ...)\n",
    "\n",
    "List is a mutable list of items. Tuple is a read-only data structure (immutable)."
   ]
  },
  {
   "cell_type": "code",
   "execution_count": null,
   "metadata": {},
   "outputs": [],
   "source": [
    "[1, 2, 3]"
   ]
  },
  {
   "cell_type": "code",
   "execution_count": null,
   "metadata": {},
   "outputs": [],
   "source": [
    "(1, 2, 3)"
   ]
  },
  {
   "cell_type": "code",
   "execution_count": null,
   "metadata": {},
   "outputs": [],
   "source": [
    "1, 2, 3"
   ]
  },
  {
   "cell_type": "code",
   "execution_count": null,
   "metadata": {},
   "outputs": [],
   "source": [
    "{\"apple\": \"a fruit\", \"banana\": \"an herb\", \"monkey\": \"a mammal\"}"
   ]
  },
  {
   "cell_type": "code",
   "execution_count": null,
   "metadata": {},
   "outputs": [],
   "source": [
    "{\"apple\": \"a fruit\", \"banana\": \"an herb\", \"monkey\": \"a mammal\"}[\"apple\"]"
   ]
  },
  {
   "cell_type": "markdown",
   "metadata": {},
   "source": [
    "### 1.1.2 Function Calls"
   ]
  },
  {
   "cell_type": "markdown",
   "metadata": {},
   "source": [
    "There are two ways to call functions in Python:\n",
    "\n",
    "1. by pre-defined infix operator name\n",
    "2. by function name, followed by parentheses\n",
    "\n",
    "Infix operator name:"
   ]
  },
  {
   "cell_type": "code",
   "execution_count": null,
   "metadata": {},
   "outputs": [],
   "source": [
    "1 + 2"
   ]
  },
  {
   "cell_type": "code",
   "execution_count": null,
   "metadata": {},
   "outputs": [],
   "source": [
    "abs(-1)"
   ]
  },
  {
   "cell_type": "code",
   "execution_count": null,
   "metadata": {},
   "outputs": [],
   "source": [
    "import operator"
   ]
  },
  {
   "cell_type": "code",
   "execution_count": null,
   "metadata": {},
   "outputs": [],
   "source": [
    "operator.add(1, 2)"
   ]
  },
  {
   "cell_type": "markdown",
   "metadata": {},
   "source": [
    "#### 1.1.2.1 Print"
   ]
  },
  {
   "cell_type": "markdown",
   "metadata": {},
   "source": [
    "Evaluating and display result as an Out, versus evaluating and printing result (side-effect)."
   ]
  },
  {
   "cell_type": "code",
   "execution_count": null,
   "metadata": {},
   "outputs": [],
   "source": [
    "print(1)"
   ]
  },
  {
   "cell_type": "code",
   "execution_count": null,
   "metadata": {},
   "outputs": [],
   "source": [
    "print(\"one = \", 1)"
   ]
  },
  {
   "cell_type": "code",
   "execution_count": null,
   "metadata": {},
   "outputs": [],
   "source": [
    "import math\n",
    "print(\"pi = {:.3f}\".format(math.pi))"
   ]
  },
  {
   "cell_type": "markdown",
   "metadata": {},
   "source": [
    "### 1.1.3 Special Values"
   ]
  },
  {
   "cell_type": "code",
   "execution_count": null,
   "metadata": {},
   "outputs": [],
   "source": [
    "None"
   ]
  },
  {
   "cell_type": "markdown",
   "metadata": {},
   "source": [
    "### 1.1.4 Defining Functions"
   ]
  },
  {
   "cell_type": "code",
   "execution_count": null,
   "metadata": {},
   "outputs": [],
   "source": [
    "def plus(a, b):\n",
    "    return a + b"
   ]
  },
  {
   "cell_type": "code",
   "execution_count": null,
   "metadata": {},
   "outputs": [],
   "source": [
    "plus(3, 4)"
   ]
  },
  {
   "cell_type": "code",
   "execution_count": null,
   "metadata": {},
   "outputs": [],
   "source": [
    "def plus(a, b):\n",
    "    a + b"
   ]
  },
  {
   "cell_type": "code",
   "execution_count": null,
   "metadata": {},
   "outputs": [],
   "source": [
    "plus(3, 4)"
   ]
  },
  {
   "cell_type": "markdown",
   "metadata": {},
   "source": [
    "What happened? All functions return *something*, even if you don't specify it. If you don't specify a return value, then it will default to returning `None`."
   ]
  },
  {
   "cell_type": "code",
   "execution_count": null,
   "metadata": {},
   "outputs": [],
   "source": [
    "\"a\" + 1"
   ]
  },
  {
   "cell_type": "markdown",
   "metadata": {},
   "source": [
    "<div style=\"background-color: lightgrey\">\n",
    "<h2>Sidebar 2-1: How to Read Python Error Messages</h2>\n",
    "\n",
    "<p>\n",
    "Python error messages \n",
    "<p>\n",
    "<tt>TypeError: Can't convert 'int' object to str implicitly</tt>\n",
    "</p>\n",
    "\n",
    "<p>Above the error message is the \"traceback\" also called the \"call stack\". This is a representation of the sequence of procedure calls that lead to the error. If the procedure call originated from code from a file, the filename would be listed after the word \"File\" on each line. If the procedure call originated from a notebook cell, then the word \"ipython-input-#-HEX\".\n",
    "</p>\n",
    "</div>"
   ]
  },
  {
   "cell_type": "markdown",
   "metadata": {},
   "source": [
    "## 1.2 Equality"
   ]
  },
  {
   "cell_type": "markdown",
   "metadata": {},
   "source": [
    "### 1.2.1 =="
   ]
  },
  {
   "cell_type": "code",
   "execution_count": null,
   "metadata": {},
   "outputs": [],
   "source": [
    "1 == 1"
   ]
  },
  {
   "cell_type": "markdown",
   "metadata": {},
   "source": [
    "### 1.2.2 is"
   ]
  },
  {
   "cell_type": "code",
   "execution_count": null,
   "metadata": {},
   "outputs": [],
   "source": [
    "[] is []"
   ]
  },
  {
   "cell_type": "code",
   "execution_count": null,
   "metadata": {},
   "outputs": [],
   "source": [
    "list() is list()"
   ]
  },
  {
   "cell_type": "code",
   "execution_count": null,
   "metadata": {},
   "outputs": [],
   "source": [
    "tuple() is tuple()"
   ]
  },
  {
   "cell_type": "code",
   "execution_count": null,
   "metadata": {},
   "outputs": [],
   "source": [
    "57663463467 is 57663463467"
   ]
  },
  {
   "cell_type": "markdown",
   "metadata": {},
   "source": [
    "# 2. Advanced Topics"
   ]
  },
  {
   "cell_type": "markdown",
   "metadata": {},
   "source": [
    "The Zen of Python:"
   ]
  },
  {
   "cell_type": "code",
   "execution_count": 1,
   "metadata": {},
   "outputs": [
    {
     "name": "stdout",
     "output_type": "stream",
     "text": [
      "The Zen of Python, by Tim Peters\n",
      "\n",
      "Beautiful is better than ugly.\n",
      "Explicit is better than implicit.\n",
      "Simple is better than complex.\n",
      "Complex is better than complicated.\n",
      "Flat is better than nested.\n",
      "Sparse is better than dense.\n",
      "Readability counts.\n",
      "Special cases aren't special enough to break the rules.\n",
      "Although practicality beats purity.\n",
      "Errors should never pass silently.\n",
      "Unless explicitly silenced.\n",
      "In the face of ambiguity, refuse the temptation to guess.\n",
      "There should be one-- and preferably only one --obvious way to do it.\n",
      "Although that way may not be obvious at first unless you're Dutch.\n",
      "Now is better than never.\n",
      "Although never is often better than *right* now.\n",
      "If the implementation is hard to explain, it's a bad idea.\n",
      "If the implementation is easy to explain, it may be a good idea.\n",
      "Namespaces are one honking great idea -- let's do more of those!\n"
     ]
    }
   ],
   "source": [
    "import this"
   ]
  },
  {
   "cell_type": "markdown",
   "metadata": {},
   "source": [
    "## 2.1 Python Warts"
   ]
  },
  {
   "cell_type": "markdown",
   "metadata": {},
   "source": [
    "* http://web.archive.org/web/20031002184114/www.amk.ca/python/writing/warts.html\n",
    "* \n",
    "* https://www.python.org/dev/peps/pep-3099/"
   ]
  },
  {
   "cell_type": "markdown",
   "metadata": {},
   "source": [
    "## 2.2 Scope of variables"
   ]
  },
  {
   "cell_type": "markdown",
   "metadata": {},
   "source": [
    "Is not always clear:"
   ]
  },
  {
   "cell_type": "code",
   "execution_count": null,
   "metadata": {},
   "outputs": [],
   "source": [
    "y = 0\n",
    "for x in range(10):\n",
    "    y = x"
   ]
  },
  {
   "cell_type": "code",
   "execution_count": null,
   "metadata": {},
   "outputs": [],
   "source": [
    "x"
   ]
  },
  {
   "cell_type": "code",
   "execution_count": null,
   "metadata": {},
   "outputs": [],
   "source": [
    "[x for x in range(10, 20)]"
   ]
  },
  {
   "cell_type": "code",
   "execution_count": null,
   "metadata": {},
   "outputs": [],
   "source": [
    "x"
   ]
  },
  {
   "cell_type": "markdown",
   "metadata": {},
   "source": [
    "## 2.3 Scope"
   ]
  },
  {
   "cell_type": "markdown",
   "metadata": {},
   "source": [
    "Python follows the LEGB Rule (after https://www.amazon.com/dp/0596513984/):\n",
    "\n",
    "* L, Local: Names assigned in any way within a function (def or lambda)), and not declared global in that function.\n",
    "* E, Enclosing function locals: Name in the local scope of any and all enclosing functions (def or lambda), from inner to outer.\n",
    "* G, Global (module): Names assigned at the top-level of a module file, or declared global in a def within the file.\n",
    "* B, Built-in (Python): Names preassigned in the built-in names module : open, range, SyntaxError,..."
   ]
  },
  {
   "cell_type": "code",
   "execution_count": null,
   "metadata": {},
   "outputs": [],
   "source": [
    "x = 3\n",
    "def foo():\n",
    "    x=4\n",
    "    def bar():\n",
    "        print(x)  # Accesses x from foo's scope\n",
    "    bar()  # Prints 4\n",
    "    x=5\n",
    "    bar()  # Prints 5"
   ]
  },
  {
   "cell_type": "code",
   "execution_count": null,
   "metadata": {},
   "outputs": [],
   "source": [
    "foo()"
   ]
  },
  {
   "cell_type": "markdown",
   "metadata": {},
   "source": [
    "## 2.4 Generators"
   ]
  },
  {
   "cell_type": "code",
   "execution_count": null,
   "metadata": {},
   "outputs": [],
   "source": [
    "def function():\n",
    "    for i in range(10):\n",
    "        yield i"
   ]
  },
  {
   "cell_type": "code",
   "execution_count": null,
   "metadata": {},
   "outputs": [],
   "source": [
    "function()"
   ]
  },
  {
   "cell_type": "code",
   "execution_count": null,
   "metadata": {},
   "outputs": [],
   "source": [
    "for y in function():\n",
    "    print(y)"
   ]
  },
  {
   "cell_type": "markdown",
   "metadata": {},
   "source": [
    "## 2.5 Default arguments"
   ]
  },
  {
   "cell_type": "code",
   "execution_count": null,
   "metadata": {},
   "outputs": [],
   "source": [
    "def do_something(a, b, c):\n",
    "    return (a, b, c)"
   ]
  },
  {
   "cell_type": "code",
   "execution_count": null,
   "metadata": {},
   "outputs": [],
   "source": [
    "do_something(1, 2, 3)"
   ]
  },
  {
   "cell_type": "code",
   "execution_count": null,
   "metadata": {},
   "outputs": [],
   "source": [
    "def do_something_else(a=1, b=2, c=3):\n",
    "    return (a, b, c)"
   ]
  },
  {
   "cell_type": "code",
   "execution_count": null,
   "metadata": {},
   "outputs": [],
   "source": [
    "do_something_else()"
   ]
  },
  {
   "cell_type": "code",
   "execution_count": null,
   "metadata": {},
   "outputs": [],
   "source": [
    "def some_function(start=[]):\n",
    "    start.append(1)\n",
    "    return start"
   ]
  },
  {
   "cell_type": "code",
   "execution_count": null,
   "metadata": {},
   "outputs": [],
   "source": [
    "result = some_function()"
   ]
  },
  {
   "cell_type": "code",
   "execution_count": null,
   "metadata": {},
   "outputs": [],
   "source": [
    "result"
   ]
  },
  {
   "cell_type": "code",
   "execution_count": null,
   "metadata": {},
   "outputs": [],
   "source": [
    "result.append(2)"
   ]
  },
  {
   "cell_type": "code",
   "execution_count": null,
   "metadata": {},
   "outputs": [],
   "source": [
    "other_result = some_function()"
   ]
  },
  {
   "cell_type": "code",
   "execution_count": null,
   "metadata": {},
   "outputs": [],
   "source": [
    "other_result"
   ]
  },
  {
   "cell_type": "markdown",
   "metadata": {},
   "source": [
    "## 3.2 List comprehension"
   ]
  },
  {
   "cell_type": "markdown",
   "metadata": {},
   "source": [
    "\"List comprehension\" is the idea of writing some code inside of a list that will generate a list.\n",
    "\n",
    "Consider the following:"
   ]
  },
  {
   "cell_type": "code",
   "execution_count": null,
   "metadata": {},
   "outputs": [],
   "source": [
    "[x ** 2 for x in range(10)]"
   ]
  },
  {
   "cell_type": "code",
   "execution_count": null,
   "metadata": {},
   "outputs": [],
   "source": [
    "temp_list = []\n",
    "for x in range(10):\n",
    "    temp_list.append(x ** 2)\n",
    "temp_list"
   ]
  },
  {
   "cell_type": "markdown",
   "metadata": {},
   "source": [
    "But list comprehension is much more concise."
   ]
  },
  {
   "cell_type": "markdown",
   "metadata": {},
   "source": [
    "## 3.3 Plotting"
   ]
  },
  {
   "cell_type": "code",
   "execution_count": 3,
   "metadata": {},
   "outputs": [],
   "source": [
    "matplotlib notebook"
   ]
  },
  {
   "cell_type": "markdown",
   "metadata": {},
   "source": [
    "After the magic, we then need to import the matplotlib library:"
   ]
  },
  {
   "cell_type": "code",
   "execution_count": 4,
   "metadata": {},
   "outputs": [],
   "source": [
    "import matplotlib.pyplot as plt"
   ]
  },
  {
   "cell_type": "markdown",
   "metadata": {},
   "source": [
    "Python has many, many libraries.\n",
    "\n",
    "To create a simple line plot, just give a list of y-values to the function plt.plot()."
   ]
  },
  {
   "cell_type": "code",
   "execution_count": 5,
   "metadata": {},
   "outputs": [
    {
     "data": {
      "application/javascript": [
       "/* Put everything inside the global mpl namespace */\n",
       "window.mpl = {};\n",
       "\n",
       "\n",
       "mpl.get_websocket_type = function() {\n",
       "    if (typeof(WebSocket) !== 'undefined') {\n",
       "        return WebSocket;\n",
       "    } else if (typeof(MozWebSocket) !== 'undefined') {\n",
       "        return MozWebSocket;\n",
       "    } else {\n",
       "        alert('Your browser does not have WebSocket support.' +\n",
       "              'Please try Chrome, Safari or Firefox ≥ 6. ' +\n",
       "              'Firefox 4 and 5 are also supported but you ' +\n",
       "              'have to enable WebSockets in about:config.');\n",
       "    };\n",
       "}\n",
       "\n",
       "mpl.figure = function(figure_id, websocket, ondownload, parent_element) {\n",
       "    this.id = figure_id;\n",
       "\n",
       "    this.ws = websocket;\n",
       "\n",
       "    this.supports_binary = (this.ws.binaryType != undefined);\n",
       "\n",
       "    if (!this.supports_binary) {\n",
       "        var warnings = document.getElementById(\"mpl-warnings\");\n",
       "        if (warnings) {\n",
       "            warnings.style.display = 'block';\n",
       "            warnings.textContent = (\n",
       "                \"This browser does not support binary websocket messages. \" +\n",
       "                    \"Performance may be slow.\");\n",
       "        }\n",
       "    }\n",
       "\n",
       "    this.imageObj = new Image();\n",
       "\n",
       "    this.context = undefined;\n",
       "    this.message = undefined;\n",
       "    this.canvas = undefined;\n",
       "    this.rubberband_canvas = undefined;\n",
       "    this.rubberband_context = undefined;\n",
       "    this.format_dropdown = undefined;\n",
       "\n",
       "    this.image_mode = 'full';\n",
       "\n",
       "    this.root = $('<div/>');\n",
       "    this._root_extra_style(this.root)\n",
       "    this.root.attr('style', 'display: inline-block');\n",
       "\n",
       "    $(parent_element).append(this.root);\n",
       "\n",
       "    this._init_header(this);\n",
       "    this._init_canvas(this);\n",
       "    this._init_toolbar(this);\n",
       "\n",
       "    var fig = this;\n",
       "\n",
       "    this.waiting = false;\n",
       "\n",
       "    this.ws.onopen =  function () {\n",
       "            fig.send_message(\"supports_binary\", {value: fig.supports_binary});\n",
       "            fig.send_message(\"send_image_mode\", {});\n",
       "            if (mpl.ratio != 1) {\n",
       "                fig.send_message(\"set_dpi_ratio\", {'dpi_ratio': mpl.ratio});\n",
       "            }\n",
       "            fig.send_message(\"refresh\", {});\n",
       "        }\n",
       "\n",
       "    this.imageObj.onload = function() {\n",
       "            if (fig.image_mode == 'full') {\n",
       "                // Full images could contain transparency (where diff images\n",
       "                // almost always do), so we need to clear the canvas so that\n",
       "                // there is no ghosting.\n",
       "                fig.context.clearRect(0, 0, fig.canvas.width, fig.canvas.height);\n",
       "            }\n",
       "            fig.context.drawImage(fig.imageObj, 0, 0);\n",
       "        };\n",
       "\n",
       "    this.imageObj.onunload = function() {\n",
       "        fig.ws.close();\n",
       "    }\n",
       "\n",
       "    this.ws.onmessage = this._make_on_message_function(this);\n",
       "\n",
       "    this.ondownload = ondownload;\n",
       "}\n",
       "\n",
       "mpl.figure.prototype._init_header = function() {\n",
       "    var titlebar = $(\n",
       "        '<div class=\"ui-dialog-titlebar ui-widget-header ui-corner-all ' +\n",
       "        'ui-helper-clearfix\"/>');\n",
       "    var titletext = $(\n",
       "        '<div class=\"ui-dialog-title\" style=\"width: 100%; ' +\n",
       "        'text-align: center; padding: 3px;\"/>');\n",
       "    titlebar.append(titletext)\n",
       "    this.root.append(titlebar);\n",
       "    this.header = titletext[0];\n",
       "}\n",
       "\n",
       "\n",
       "\n",
       "mpl.figure.prototype._canvas_extra_style = function(canvas_div) {\n",
       "\n",
       "}\n",
       "\n",
       "\n",
       "mpl.figure.prototype._root_extra_style = function(canvas_div) {\n",
       "\n",
       "}\n",
       "\n",
       "mpl.figure.prototype._init_canvas = function() {\n",
       "    var fig = this;\n",
       "\n",
       "    var canvas_div = $('<div/>');\n",
       "\n",
       "    canvas_div.attr('style', 'position: relative; clear: both; outline: 0');\n",
       "\n",
       "    function canvas_keyboard_event(event) {\n",
       "        return fig.key_event(event, event['data']);\n",
       "    }\n",
       "\n",
       "    canvas_div.keydown('key_press', canvas_keyboard_event);\n",
       "    canvas_div.keyup('key_release', canvas_keyboard_event);\n",
       "    this.canvas_div = canvas_div\n",
       "    this._canvas_extra_style(canvas_div)\n",
       "    this.root.append(canvas_div);\n",
       "\n",
       "    var canvas = $('<canvas/>');\n",
       "    canvas.addClass('mpl-canvas');\n",
       "    canvas.attr('style', \"left: 0; top: 0; z-index: 0; outline: 0\")\n",
       "\n",
       "    this.canvas = canvas[0];\n",
       "    this.context = canvas[0].getContext(\"2d\");\n",
       "\n",
       "    var backingStore = this.context.backingStorePixelRatio ||\n",
       "\tthis.context.webkitBackingStorePixelRatio ||\n",
       "\tthis.context.mozBackingStorePixelRatio ||\n",
       "\tthis.context.msBackingStorePixelRatio ||\n",
       "\tthis.context.oBackingStorePixelRatio ||\n",
       "\tthis.context.backingStorePixelRatio || 1;\n",
       "\n",
       "    mpl.ratio = (window.devicePixelRatio || 1) / backingStore;\n",
       "\n",
       "    var rubberband = $('<canvas/>');\n",
       "    rubberband.attr('style', \"position: absolute; left: 0; top: 0; z-index: 1;\")\n",
       "\n",
       "    var pass_mouse_events = true;\n",
       "\n",
       "    canvas_div.resizable({\n",
       "        start: function(event, ui) {\n",
       "            pass_mouse_events = false;\n",
       "        },\n",
       "        resize: function(event, ui) {\n",
       "            fig.request_resize(ui.size.width, ui.size.height);\n",
       "        },\n",
       "        stop: function(event, ui) {\n",
       "            pass_mouse_events = true;\n",
       "            fig.request_resize(ui.size.width, ui.size.height);\n",
       "        },\n",
       "    });\n",
       "\n",
       "    function mouse_event_fn(event) {\n",
       "        if (pass_mouse_events)\n",
       "            return fig.mouse_event(event, event['data']);\n",
       "    }\n",
       "\n",
       "    rubberband.mousedown('button_press', mouse_event_fn);\n",
       "    rubberband.mouseup('button_release', mouse_event_fn);\n",
       "    // Throttle sequential mouse events to 1 every 20ms.\n",
       "    rubberband.mousemove('motion_notify', mouse_event_fn);\n",
       "\n",
       "    rubberband.mouseenter('figure_enter', mouse_event_fn);\n",
       "    rubberband.mouseleave('figure_leave', mouse_event_fn);\n",
       "\n",
       "    canvas_div.on(\"wheel\", function (event) {\n",
       "        event = event.originalEvent;\n",
       "        event['data'] = 'scroll'\n",
       "        if (event.deltaY < 0) {\n",
       "            event.step = 1;\n",
       "        } else {\n",
       "            event.step = -1;\n",
       "        }\n",
       "        mouse_event_fn(event);\n",
       "    });\n",
       "\n",
       "    canvas_div.append(canvas);\n",
       "    canvas_div.append(rubberband);\n",
       "\n",
       "    this.rubberband = rubberband;\n",
       "    this.rubberband_canvas = rubberband[0];\n",
       "    this.rubberband_context = rubberband[0].getContext(\"2d\");\n",
       "    this.rubberband_context.strokeStyle = \"#000000\";\n",
       "\n",
       "    this._resize_canvas = function(width, height) {\n",
       "        // Keep the size of the canvas, canvas container, and rubber band\n",
       "        // canvas in synch.\n",
       "        canvas_div.css('width', width)\n",
       "        canvas_div.css('height', height)\n",
       "\n",
       "        canvas.attr('width', width * mpl.ratio);\n",
       "        canvas.attr('height', height * mpl.ratio);\n",
       "        canvas.attr('style', 'width: ' + width + 'px; height: ' + height + 'px;');\n",
       "\n",
       "        rubberband.attr('width', width);\n",
       "        rubberband.attr('height', height);\n",
       "    }\n",
       "\n",
       "    // Set the figure to an initial 600x600px, this will subsequently be updated\n",
       "    // upon first draw.\n",
       "    this._resize_canvas(600, 600);\n",
       "\n",
       "    // Disable right mouse context menu.\n",
       "    $(this.rubberband_canvas).bind(\"contextmenu\",function(e){\n",
       "        return false;\n",
       "    });\n",
       "\n",
       "    function set_focus () {\n",
       "        canvas.focus();\n",
       "        canvas_div.focus();\n",
       "    }\n",
       "\n",
       "    window.setTimeout(set_focus, 100);\n",
       "}\n",
       "\n",
       "mpl.figure.prototype._init_toolbar = function() {\n",
       "    var fig = this;\n",
       "\n",
       "    var nav_element = $('<div/>')\n",
       "    nav_element.attr('style', 'width: 100%');\n",
       "    this.root.append(nav_element);\n",
       "\n",
       "    // Define a callback function for later on.\n",
       "    function toolbar_event(event) {\n",
       "        return fig.toolbar_button_onclick(event['data']);\n",
       "    }\n",
       "    function toolbar_mouse_event(event) {\n",
       "        return fig.toolbar_button_onmouseover(event['data']);\n",
       "    }\n",
       "\n",
       "    for(var toolbar_ind in mpl.toolbar_items) {\n",
       "        var name = mpl.toolbar_items[toolbar_ind][0];\n",
       "        var tooltip = mpl.toolbar_items[toolbar_ind][1];\n",
       "        var image = mpl.toolbar_items[toolbar_ind][2];\n",
       "        var method_name = mpl.toolbar_items[toolbar_ind][3];\n",
       "\n",
       "        if (!name) {\n",
       "            // put a spacer in here.\n",
       "            continue;\n",
       "        }\n",
       "        var button = $('<button/>');\n",
       "        button.addClass('ui-button ui-widget ui-state-default ui-corner-all ' +\n",
       "                        'ui-button-icon-only');\n",
       "        button.attr('role', 'button');\n",
       "        button.attr('aria-disabled', 'false');\n",
       "        button.click(method_name, toolbar_event);\n",
       "        button.mouseover(tooltip, toolbar_mouse_event);\n",
       "\n",
       "        var icon_img = $('<span/>');\n",
       "        icon_img.addClass('ui-button-icon-primary ui-icon');\n",
       "        icon_img.addClass(image);\n",
       "        icon_img.addClass('ui-corner-all');\n",
       "\n",
       "        var tooltip_span = $('<span/>');\n",
       "        tooltip_span.addClass('ui-button-text');\n",
       "        tooltip_span.html(tooltip);\n",
       "\n",
       "        button.append(icon_img);\n",
       "        button.append(tooltip_span);\n",
       "\n",
       "        nav_element.append(button);\n",
       "    }\n",
       "\n",
       "    var fmt_picker_span = $('<span/>');\n",
       "\n",
       "    var fmt_picker = $('<select/>');\n",
       "    fmt_picker.addClass('mpl-toolbar-option ui-widget ui-widget-content');\n",
       "    fmt_picker_span.append(fmt_picker);\n",
       "    nav_element.append(fmt_picker_span);\n",
       "    this.format_dropdown = fmt_picker[0];\n",
       "\n",
       "    for (var ind in mpl.extensions) {\n",
       "        var fmt = mpl.extensions[ind];\n",
       "        var option = $(\n",
       "            '<option/>', {selected: fmt === mpl.default_extension}).html(fmt);\n",
       "        fmt_picker.append(option)\n",
       "    }\n",
       "\n",
       "    // Add hover states to the ui-buttons\n",
       "    $( \".ui-button\" ).hover(\n",
       "        function() { $(this).addClass(\"ui-state-hover\");},\n",
       "        function() { $(this).removeClass(\"ui-state-hover\");}\n",
       "    );\n",
       "\n",
       "    var status_bar = $('<span class=\"mpl-message\"/>');\n",
       "    nav_element.append(status_bar);\n",
       "    this.message = status_bar[0];\n",
       "}\n",
       "\n",
       "mpl.figure.prototype.request_resize = function(x_pixels, y_pixels) {\n",
       "    // Request matplotlib to resize the figure. Matplotlib will then trigger a resize in the client,\n",
       "    // which will in turn request a refresh of the image.\n",
       "    this.send_message('resize', {'width': x_pixels, 'height': y_pixels});\n",
       "}\n",
       "\n",
       "mpl.figure.prototype.send_message = function(type, properties) {\n",
       "    properties['type'] = type;\n",
       "    properties['figure_id'] = this.id;\n",
       "    this.ws.send(JSON.stringify(properties));\n",
       "}\n",
       "\n",
       "mpl.figure.prototype.send_draw_message = function() {\n",
       "    if (!this.waiting) {\n",
       "        this.waiting = true;\n",
       "        this.ws.send(JSON.stringify({type: \"draw\", figure_id: this.id}));\n",
       "    }\n",
       "}\n",
       "\n",
       "\n",
       "mpl.figure.prototype.handle_save = function(fig, msg) {\n",
       "    var format_dropdown = fig.format_dropdown;\n",
       "    var format = format_dropdown.options[format_dropdown.selectedIndex].value;\n",
       "    fig.ondownload(fig, format);\n",
       "}\n",
       "\n",
       "\n",
       "mpl.figure.prototype.handle_resize = function(fig, msg) {\n",
       "    var size = msg['size'];\n",
       "    if (size[0] != fig.canvas.width || size[1] != fig.canvas.height) {\n",
       "        fig._resize_canvas(size[0], size[1]);\n",
       "        fig.send_message(\"refresh\", {});\n",
       "    };\n",
       "}\n",
       "\n",
       "mpl.figure.prototype.handle_rubberband = function(fig, msg) {\n",
       "    var x0 = msg['x0'] / mpl.ratio;\n",
       "    var y0 = (fig.canvas.height - msg['y0']) / mpl.ratio;\n",
       "    var x1 = msg['x1'] / mpl.ratio;\n",
       "    var y1 = (fig.canvas.height - msg['y1']) / mpl.ratio;\n",
       "    x0 = Math.floor(x0) + 0.5;\n",
       "    y0 = Math.floor(y0) + 0.5;\n",
       "    x1 = Math.floor(x1) + 0.5;\n",
       "    y1 = Math.floor(y1) + 0.5;\n",
       "    var min_x = Math.min(x0, x1);\n",
       "    var min_y = Math.min(y0, y1);\n",
       "    var width = Math.abs(x1 - x0);\n",
       "    var height = Math.abs(y1 - y0);\n",
       "\n",
       "    fig.rubberband_context.clearRect(\n",
       "        0, 0, fig.canvas.width, fig.canvas.height);\n",
       "\n",
       "    fig.rubberband_context.strokeRect(min_x, min_y, width, height);\n",
       "}\n",
       "\n",
       "mpl.figure.prototype.handle_figure_label = function(fig, msg) {\n",
       "    // Updates the figure title.\n",
       "    fig.header.textContent = msg['label'];\n",
       "}\n",
       "\n",
       "mpl.figure.prototype.handle_cursor = function(fig, msg) {\n",
       "    var cursor = msg['cursor'];\n",
       "    switch(cursor)\n",
       "    {\n",
       "    case 0:\n",
       "        cursor = 'pointer';\n",
       "        break;\n",
       "    case 1:\n",
       "        cursor = 'default';\n",
       "        break;\n",
       "    case 2:\n",
       "        cursor = 'crosshair';\n",
       "        break;\n",
       "    case 3:\n",
       "        cursor = 'move';\n",
       "        break;\n",
       "    }\n",
       "    fig.rubberband_canvas.style.cursor = cursor;\n",
       "}\n",
       "\n",
       "mpl.figure.prototype.handle_message = function(fig, msg) {\n",
       "    fig.message.textContent = msg['message'];\n",
       "}\n",
       "\n",
       "mpl.figure.prototype.handle_draw = function(fig, msg) {\n",
       "    // Request the server to send over a new figure.\n",
       "    fig.send_draw_message();\n",
       "}\n",
       "\n",
       "mpl.figure.prototype.handle_image_mode = function(fig, msg) {\n",
       "    fig.image_mode = msg['mode'];\n",
       "}\n",
       "\n",
       "mpl.figure.prototype.updated_canvas_event = function() {\n",
       "    // Called whenever the canvas gets updated.\n",
       "    this.send_message(\"ack\", {});\n",
       "}\n",
       "\n",
       "// A function to construct a web socket function for onmessage handling.\n",
       "// Called in the figure constructor.\n",
       "mpl.figure.prototype._make_on_message_function = function(fig) {\n",
       "    return function socket_on_message(evt) {\n",
       "        if (evt.data instanceof Blob) {\n",
       "            /* FIXME: We get \"Resource interpreted as Image but\n",
       "             * transferred with MIME type text/plain:\" errors on\n",
       "             * Chrome.  But how to set the MIME type?  It doesn't seem\n",
       "             * to be part of the websocket stream */\n",
       "            evt.data.type = \"image/png\";\n",
       "\n",
       "            /* Free the memory for the previous frames */\n",
       "            if (fig.imageObj.src) {\n",
       "                (window.URL || window.webkitURL).revokeObjectURL(\n",
       "                    fig.imageObj.src);\n",
       "            }\n",
       "\n",
       "            fig.imageObj.src = (window.URL || window.webkitURL).createObjectURL(\n",
       "                evt.data);\n",
       "            fig.updated_canvas_event();\n",
       "            fig.waiting = false;\n",
       "            return;\n",
       "        }\n",
       "        else if (typeof evt.data === 'string' && evt.data.slice(0, 21) == \"data:image/png;base64\") {\n",
       "            fig.imageObj.src = evt.data;\n",
       "            fig.updated_canvas_event();\n",
       "            fig.waiting = false;\n",
       "            return;\n",
       "        }\n",
       "\n",
       "        var msg = JSON.parse(evt.data);\n",
       "        var msg_type = msg['type'];\n",
       "\n",
       "        // Call the  \"handle_{type}\" callback, which takes\n",
       "        // the figure and JSON message as its only arguments.\n",
       "        try {\n",
       "            var callback = fig[\"handle_\" + msg_type];\n",
       "        } catch (e) {\n",
       "            console.log(\"No handler for the '\" + msg_type + \"' message type: \", msg);\n",
       "            return;\n",
       "        }\n",
       "\n",
       "        if (callback) {\n",
       "            try {\n",
       "                // console.log(\"Handling '\" + msg_type + \"' message: \", msg);\n",
       "                callback(fig, msg);\n",
       "            } catch (e) {\n",
       "                console.log(\"Exception inside the 'handler_\" + msg_type + \"' callback:\", e, e.stack, msg);\n",
       "            }\n",
       "        }\n",
       "    };\n",
       "}\n",
       "\n",
       "// from http://stackoverflow.com/questions/1114465/getting-mouse-location-in-canvas\n",
       "mpl.findpos = function(e) {\n",
       "    //this section is from http://www.quirksmode.org/js/events_properties.html\n",
       "    var targ;\n",
       "    if (!e)\n",
       "        e = window.event;\n",
       "    if (e.target)\n",
       "        targ = e.target;\n",
       "    else if (e.srcElement)\n",
       "        targ = e.srcElement;\n",
       "    if (targ.nodeType == 3) // defeat Safari bug\n",
       "        targ = targ.parentNode;\n",
       "\n",
       "    // jQuery normalizes the pageX and pageY\n",
       "    // pageX,Y are the mouse positions relative to the document\n",
       "    // offset() returns the position of the element relative to the document\n",
       "    var x = e.pageX - $(targ).offset().left;\n",
       "    var y = e.pageY - $(targ).offset().top;\n",
       "\n",
       "    return {\"x\": x, \"y\": y};\n",
       "};\n",
       "\n",
       "/*\n",
       " * return a copy of an object with only non-object keys\n",
       " * we need this to avoid circular references\n",
       " * http://stackoverflow.com/a/24161582/3208463\n",
       " */\n",
       "function simpleKeys (original) {\n",
       "  return Object.keys(original).reduce(function (obj, key) {\n",
       "    if (typeof original[key] !== 'object')\n",
       "        obj[key] = original[key]\n",
       "    return obj;\n",
       "  }, {});\n",
       "}\n",
       "\n",
       "mpl.figure.prototype.mouse_event = function(event, name) {\n",
       "    var canvas_pos = mpl.findpos(event)\n",
       "\n",
       "    if (name === 'button_press')\n",
       "    {\n",
       "        this.canvas.focus();\n",
       "        this.canvas_div.focus();\n",
       "    }\n",
       "\n",
       "    var x = canvas_pos.x * mpl.ratio;\n",
       "    var y = canvas_pos.y * mpl.ratio;\n",
       "\n",
       "    this.send_message(name, {x: x, y: y, button: event.button,\n",
       "                             step: event.step,\n",
       "                             guiEvent: simpleKeys(event)});\n",
       "\n",
       "    /* This prevents the web browser from automatically changing to\n",
       "     * the text insertion cursor when the button is pressed.  We want\n",
       "     * to control all of the cursor setting manually through the\n",
       "     * 'cursor' event from matplotlib */\n",
       "    event.preventDefault();\n",
       "    return false;\n",
       "}\n",
       "\n",
       "mpl.figure.prototype._key_event_extra = function(event, name) {\n",
       "    // Handle any extra behaviour associated with a key event\n",
       "}\n",
       "\n",
       "mpl.figure.prototype.key_event = function(event, name) {\n",
       "\n",
       "    // Prevent repeat events\n",
       "    if (name == 'key_press')\n",
       "    {\n",
       "        if (event.which === this._key)\n",
       "            return;\n",
       "        else\n",
       "            this._key = event.which;\n",
       "    }\n",
       "    if (name == 'key_release')\n",
       "        this._key = null;\n",
       "\n",
       "    var value = '';\n",
       "    if (event.ctrlKey && event.which != 17)\n",
       "        value += \"ctrl+\";\n",
       "    if (event.altKey && event.which != 18)\n",
       "        value += \"alt+\";\n",
       "    if (event.shiftKey && event.which != 16)\n",
       "        value += \"shift+\";\n",
       "\n",
       "    value += 'k';\n",
       "    value += event.which.toString();\n",
       "\n",
       "    this._key_event_extra(event, name);\n",
       "\n",
       "    this.send_message(name, {key: value,\n",
       "                             guiEvent: simpleKeys(event)});\n",
       "    return false;\n",
       "}\n",
       "\n",
       "mpl.figure.prototype.toolbar_button_onclick = function(name) {\n",
       "    if (name == 'download') {\n",
       "        this.handle_save(this, null);\n",
       "    } else {\n",
       "        this.send_message(\"toolbar_button\", {name: name});\n",
       "    }\n",
       "};\n",
       "\n",
       "mpl.figure.prototype.toolbar_button_onmouseover = function(tooltip) {\n",
       "    this.message.textContent = tooltip;\n",
       "};\n",
       "mpl.toolbar_items = [[\"Home\", \"Reset original view\", \"fa fa-home icon-home\", \"home\"], [\"Back\", \"Back to  previous view\", \"fa fa-arrow-left icon-arrow-left\", \"back\"], [\"Forward\", \"Forward to next view\", \"fa fa-arrow-right icon-arrow-right\", \"forward\"], [\"\", \"\", \"\", \"\"], [\"Pan\", \"Pan axes with left mouse, zoom with right\", \"fa fa-arrows icon-move\", \"pan\"], [\"Zoom\", \"Zoom to rectangle\", \"fa fa-square-o icon-check-empty\", \"zoom\"], [\"\", \"\", \"\", \"\"], [\"Download\", \"Download plot\", \"fa fa-floppy-o icon-save\", \"download\"]];\n",
       "\n",
       "mpl.extensions = [\"eps\", \"jpeg\", \"pdf\", \"png\", \"ps\", \"raw\", \"svg\", \"tif\"];\n",
       "\n",
       "mpl.default_extension = \"png\";var comm_websocket_adapter = function(comm) {\n",
       "    // Create a \"websocket\"-like object which calls the given IPython comm\n",
       "    // object with the appropriate methods. Currently this is a non binary\n",
       "    // socket, so there is still some room for performance tuning.\n",
       "    var ws = {};\n",
       "\n",
       "    ws.close = function() {\n",
       "        comm.close()\n",
       "    };\n",
       "    ws.send = function(m) {\n",
       "        //console.log('sending', m);\n",
       "        comm.send(m);\n",
       "    };\n",
       "    // Register the callback with on_msg.\n",
       "    comm.on_msg(function(msg) {\n",
       "        //console.log('receiving', msg['content']['data'], msg);\n",
       "        // Pass the mpl event to the overridden (by mpl) onmessage function.\n",
       "        ws.onmessage(msg['content']['data'])\n",
       "    });\n",
       "    return ws;\n",
       "}\n",
       "\n",
       "mpl.mpl_figure_comm = function(comm, msg) {\n",
       "    // This is the function which gets called when the mpl process\n",
       "    // starts-up an IPython Comm through the \"matplotlib\" channel.\n",
       "\n",
       "    var id = msg.content.data.id;\n",
       "    // Get hold of the div created by the display call when the Comm\n",
       "    // socket was opened in Python.\n",
       "    var element = $(\"#\" + id);\n",
       "    var ws_proxy = comm_websocket_adapter(comm)\n",
       "\n",
       "    function ondownload(figure, format) {\n",
       "        window.open(figure.imageObj.src);\n",
       "    }\n",
       "\n",
       "    var fig = new mpl.figure(id, ws_proxy,\n",
       "                           ondownload,\n",
       "                           element.get(0));\n",
       "\n",
       "    // Call onopen now - mpl needs it, as it is assuming we've passed it a real\n",
       "    // web socket which is closed, not our websocket->open comm proxy.\n",
       "    ws_proxy.onopen();\n",
       "\n",
       "    fig.parent_element = element.get(0);\n",
       "    fig.cell_info = mpl.find_output_cell(\"<div id='\" + id + \"'></div>\");\n",
       "    if (!fig.cell_info) {\n",
       "        console.error(\"Failed to find cell for figure\", id, fig);\n",
       "        return;\n",
       "    }\n",
       "\n",
       "    var output_index = fig.cell_info[2]\n",
       "    var cell = fig.cell_info[0];\n",
       "\n",
       "};\n",
       "\n",
       "mpl.figure.prototype.handle_close = function(fig, msg) {\n",
       "    var width = fig.canvas.width/mpl.ratio\n",
       "    fig.root.unbind('remove')\n",
       "\n",
       "    // Update the output cell to use the data from the current canvas.\n",
       "    fig.push_to_output();\n",
       "    var dataURL = fig.canvas.toDataURL();\n",
       "    // Re-enable the keyboard manager in IPython - without this line, in FF,\n",
       "    // the notebook keyboard shortcuts fail.\n",
       "    IPython.keyboard_manager.enable()\n",
       "    $(fig.parent_element).html('<img src=\"' + dataURL + '\" width=\"' + width + '\">');\n",
       "    fig.close_ws(fig, msg);\n",
       "}\n",
       "\n",
       "mpl.figure.prototype.close_ws = function(fig, msg){\n",
       "    fig.send_message('closing', msg);\n",
       "    // fig.ws.close()\n",
       "}\n",
       "\n",
       "mpl.figure.prototype.push_to_output = function(remove_interactive) {\n",
       "    // Turn the data on the canvas into data in the output cell.\n",
       "    var width = this.canvas.width/mpl.ratio\n",
       "    var dataURL = this.canvas.toDataURL();\n",
       "    this.cell_info[1]['text/html'] = '<img src=\"' + dataURL + '\" width=\"' + width + '\">';\n",
       "}\n",
       "\n",
       "mpl.figure.prototype.updated_canvas_event = function() {\n",
       "    // Tell IPython that the notebook contents must change.\n",
       "    IPython.notebook.set_dirty(true);\n",
       "    this.send_message(\"ack\", {});\n",
       "    var fig = this;\n",
       "    // Wait a second, then push the new image to the DOM so\n",
       "    // that it is saved nicely (might be nice to debounce this).\n",
       "    setTimeout(function () { fig.push_to_output() }, 1000);\n",
       "}\n",
       "\n",
       "mpl.figure.prototype._init_toolbar = function() {\n",
       "    var fig = this;\n",
       "\n",
       "    var nav_element = $('<div/>')\n",
       "    nav_element.attr('style', 'width: 100%');\n",
       "    this.root.append(nav_element);\n",
       "\n",
       "    // Define a callback function for later on.\n",
       "    function toolbar_event(event) {\n",
       "        return fig.toolbar_button_onclick(event['data']);\n",
       "    }\n",
       "    function toolbar_mouse_event(event) {\n",
       "        return fig.toolbar_button_onmouseover(event['data']);\n",
       "    }\n",
       "\n",
       "    for(var toolbar_ind in mpl.toolbar_items){\n",
       "        var name = mpl.toolbar_items[toolbar_ind][0];\n",
       "        var tooltip = mpl.toolbar_items[toolbar_ind][1];\n",
       "        var image = mpl.toolbar_items[toolbar_ind][2];\n",
       "        var method_name = mpl.toolbar_items[toolbar_ind][3];\n",
       "\n",
       "        if (!name) { continue; };\n",
       "\n",
       "        var button = $('<button class=\"btn btn-default\" href=\"#\" title=\"' + name + '\"><i class=\"fa ' + image + ' fa-lg\"></i></button>');\n",
       "        button.click(method_name, toolbar_event);\n",
       "        button.mouseover(tooltip, toolbar_mouse_event);\n",
       "        nav_element.append(button);\n",
       "    }\n",
       "\n",
       "    // Add the status bar.\n",
       "    var status_bar = $('<span class=\"mpl-message\" style=\"text-align:right; float: right;\"/>');\n",
       "    nav_element.append(status_bar);\n",
       "    this.message = status_bar[0];\n",
       "\n",
       "    // Add the close button to the window.\n",
       "    var buttongrp = $('<div class=\"btn-group inline pull-right\"></div>');\n",
       "    var button = $('<button class=\"btn btn-mini btn-primary\" href=\"#\" title=\"Stop Interaction\"><i class=\"fa fa-power-off icon-remove icon-large\"></i></button>');\n",
       "    button.click(function (evt) { fig.handle_close(fig, {}); } );\n",
       "    button.mouseover('Stop Interaction', toolbar_mouse_event);\n",
       "    buttongrp.append(button);\n",
       "    var titlebar = this.root.find($('.ui-dialog-titlebar'));\n",
       "    titlebar.prepend(buttongrp);\n",
       "}\n",
       "\n",
       "mpl.figure.prototype._root_extra_style = function(el){\n",
       "    var fig = this\n",
       "    el.on(\"remove\", function(){\n",
       "\tfig.close_ws(fig, {});\n",
       "    });\n",
       "}\n",
       "\n",
       "mpl.figure.prototype._canvas_extra_style = function(el){\n",
       "    // this is important to make the div 'focusable\n",
       "    el.attr('tabindex', 0)\n",
       "    // reach out to IPython and tell the keyboard manager to turn it's self\n",
       "    // off when our div gets focus\n",
       "\n",
       "    // location in version 3\n",
       "    if (IPython.notebook.keyboard_manager) {\n",
       "        IPython.notebook.keyboard_manager.register_events(el);\n",
       "    }\n",
       "    else {\n",
       "        // location in version 2\n",
       "        IPython.keyboard_manager.register_events(el);\n",
       "    }\n",
       "\n",
       "}\n",
       "\n",
       "mpl.figure.prototype._key_event_extra = function(event, name) {\n",
       "    var manager = IPython.notebook.keyboard_manager;\n",
       "    if (!manager)\n",
       "        manager = IPython.keyboard_manager;\n",
       "\n",
       "    // Check for shift+enter\n",
       "    if (event.shiftKey && event.which == 13) {\n",
       "        this.canvas_div.blur();\n",
       "        event.shiftKey = false;\n",
       "        // Send a \"J\" for go to next cell\n",
       "        event.which = 74;\n",
       "        event.keyCode = 74;\n",
       "        manager.command_mode();\n",
       "        manager.handle_keydown(event);\n",
       "    }\n",
       "}\n",
       "\n",
       "mpl.figure.prototype.handle_save = function(fig, msg) {\n",
       "    fig.ondownload(fig, null);\n",
       "}\n",
       "\n",
       "\n",
       "mpl.find_output_cell = function(html_output) {\n",
       "    // Return the cell and output element which can be found *uniquely* in the notebook.\n",
       "    // Note - this is a bit hacky, but it is done because the \"notebook_saving.Notebook\"\n",
       "    // IPython event is triggered only after the cells have been serialised, which for\n",
       "    // our purposes (turning an active figure into a static one), is too late.\n",
       "    var cells = IPython.notebook.get_cells();\n",
       "    var ncells = cells.length;\n",
       "    for (var i=0; i<ncells; i++) {\n",
       "        var cell = cells[i];\n",
       "        if (cell.cell_type === 'code'){\n",
       "            for (var j=0; j<cell.output_area.outputs.length; j++) {\n",
       "                var data = cell.output_area.outputs[j];\n",
       "                if (data.data) {\n",
       "                    // IPython >= 3 moved mimebundle to data attribute of output\n",
       "                    data = data.data;\n",
       "                }\n",
       "                if (data['text/html'] == html_output) {\n",
       "                    return [cell, data, j];\n",
       "                }\n",
       "            }\n",
       "        }\n",
       "    }\n",
       "}\n",
       "\n",
       "// Register the function which deals with the matplotlib target/channel.\n",
       "// The kernel may be null if the page has been refreshed.\n",
       "if (IPython.notebook.kernel != null) {\n",
       "    IPython.notebook.kernel.comm_manager.register_target('matplotlib', mpl.mpl_figure_comm);\n",
       "}\n"
      ],
      "text/plain": [
       "<IPython.core.display.Javascript object>"
      ]
     },
     "metadata": {},
     "output_type": "display_data"
    },
    {
     "data": {
      "text/html": [
       "<img src=\"data:image/png;base64,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\" width=\"640\">"
      ],
      "text/plain": [
       "<IPython.core.display.HTML object>"
      ]
     },
     "metadata": {},
     "output_type": "display_data"
    },
    {
     "data": {
      "text/plain": [
       "[<matplotlib.lines.Line2D at 0x7f7734680668>]"
      ]
     },
     "execution_count": 5,
     "metadata": {},
     "output_type": "execute_result"
    }
   ],
   "source": [
    "plt.plot([5, 8, 2, 6, 1, 8, 2, 3, 4, 5, 6])"
   ]
  },
  {
   "cell_type": "markdown",
   "metadata": {},
   "source": [
    "But you should never create a plot that doesn't have labels on the x and y axises, and should always have a title. Read the documentation on matplotlib and add labels and a title to the plot above:\n",
    "\n",
    "http://matplotlib.org/api/pyplot_api.html"
   ]
  },
  {
   "cell_type": "markdown",
   "metadata": {},
   "source": [
    "<H1>References</H1>\n",
    "\n",
    "[1] https://en.wikipedia.org/wiki/History_of_Python"
   ]
  }
 ],
 "metadata": {
  "kernelspec": {
   "display_name": "Python 3",
   "language": "python",
   "name": "python3"
  },
  "language_info": {
   "codemirror_mode": {
    "name": "ipython",
    "version": 3
   },
   "file_extension": ".py",
   "mimetype": "text/x-python",
   "name": "python",
   "nbconvert_exporter": "python",
   "pygments_lexer": "ipython3",
   "version": "3.6.6"
  }
 },
 "nbformat": 4,
 "nbformat_minor": 1
}
