{
 "cells": [
  {
   "cell_type": "markdown",
   "metadata": {},
   "source": [
    "## <CENTER> [SWE] Labb: Mätning av $Z$-bosonens massa med data från ATLAS-experimentet\n",
    " ## <CENTER> [ENG] Lab: Measurement of the invariant mass of the $Z$ boson using data from the ATLAS experiment.\n",
    "<img src=\"images/vp1_Htautau_1muon1electron_run204153_evt35369265.png\" style=\"width: 800px;\">"
   ]
  },
  {
   "cell_type": "markdown",
   "metadata": {},
   "source": [
    "## 1.1 [SWE] Introduktion\n",
    "   \n",
    "I denna labb får ni titta på riktig data från ATLAS! Experimentet har gjort en liten del av datan insamlad under 2012 tillgänglig för allmänheten. Datan består av proton-proton-kollisioner med kollisionsenergi 8 TeV.\n",
    "Ni kommer att analysera data med python, interaktivt, i denna notebook-miljö.\n",
    "Målet är att mäta $Z$-bosonens massa genom att rekonstruera den *invarianta massan* av elektron-positron-par och myon-antimyon-par.\n",
    "\n",
    "_______________________________________________________\n",
    "\n",
    "## 1.1 [ENG] Introduction\n",
    "   \n",
    "In this lab you'll be looking at real data from ATLAS! The experiment has made a small part of the data collected in 2012 available for the public. The data consists of proton proton collisions at a collision energy of 8 TeV. You'll be analysing the data with python, in this interactive python environment.\n",
    "The goal is to measure the $Z$ boson mass by reconstructing the *invariant mass* of electron-positron and muon-antimuon pairs.\n",
    "___________________________________________________________"
   ]
  },
  {
   "cell_type": "markdown",
   "metadata": {},
   "source": [
    "## 1.2 [SWE] Händelser i ATLAS\n",
    "    \n",
    "Large Hadron Collider vid CERN-laboratoriet utanför Geneve accelerar protonhopar ($10^{11}$ protoner/hop) upp till nära ljusets hastighet i två strålar som går åt motsatta håll. Man pekar strålarna mot varandra på fyra olika kollisionspunkter, inuti vart och ett av de fyra experimententen längs ringen: ATLAS, CMS, LHCb och ALICE. Idag är vi intresserade av ATLAS. \n",
    "\n",
    "Varje gång två hopar korsar varandra i ATLAS (var 25:e nanosekund) kolliderar ca 40 par av protoner. Partiklar (t.ex. en $Z$-boson, mer info snart) kan skapas ur energin i krocken. Vissa partiklar är instabila och har så kort livslängd att de sönderfaller innan de når detektorn. De stabila sönderfallsprodukterna flyger sedan ut genom detektorn och kan registreras av ATLAS (beroende på vilken partikel det handlar om). Varje sådan \"bild\" tagen av ATLAS på alla registrerade partiklar från kollisionerna i en hop-korsning är kallas för ett \"event\", eller på svenska en \"händelse\". Bilden är ca 1 MB stor. Datafilerna ni ska analysera är organiserade som tabeller där varje rad motsvarar en händelse och varje kolumn innehåller någon särkild information, t.ex. antalet registrerade elektroner och deras respektive energi.\n",
    "\n",
    "Den stora ATLAS-detektorn visas i figuren nedan. I nästa sektion förklaras hur den används för att mäta olika partiklar.\n",
    "______________________________________________________________________\n",
    "\n",
    "## 1.2 [ENG] Events in ATLAS\n",
    "    \n",
    "The Large Hadron Collider at CERN outside Geneva accelerates bunches of protons ($10^{11}$ protons/bunch) up to near-speed-of-light velocities in two beams going in opposite directions around the 27 km ring. The beams are made to cross at four different points, at which experiments are situated: ATLAS, CMS, LHCb and ALICE. Today, we're dealing with ATLAS. \n",
    "\n",
    "Every time two bunches cross each other inside ATLAS (every 25 nanoseconds) about 40 proton collisions take place. Particles (such as the $Z$ boson) can be created from the energy in the collision. If unstable and with short lifetime, these particles decay before reaching the detector. The stable particles appearing at the end of the decay chain fly out through the detector and can be registered (depending on the type of particle). Every such \"photo\" of all the particles registered by the detector from one bunch crossing is called an \"event\". Events, which are of order 1 MB in size, are stored in data files, like the ones you will be analysing today. The files are organised like tables where each row is an event, each column corresponds to some information about an event, e.g. the number of obserbed electrons and their respective energies.\n",
    "\n",
    "Below is the ATLAS detector. In the next section we will see how the detector is used to identify different types of particles.\n",
    "\n",
    "\n",
    "<img src=\"images/ATLASImage.jpg\" style=\"width: 800px;\">"
   ]
  },
  {
   "cell_type": "markdown",
   "metadata": {},
   "source": [
    "## 1.3 [SWE] Partikel-identifikation i ATLAS\n",
    "    \n",
    "ATLAS är designad för att kunna skilja på olika partiklar som passerar igenom detektorn.\n",
    "Den består av fyra subsystem, placerade efter varandra om vi rör oss radiellt ut från kollisionspunkten:\n",
    "* <b> Spårdetektor. </b> Denna detektor består i huvudsak av flera lager tunn kisel, i vilken elektriskt laddade partiklar interagerar. Tack vare ett magnetfält från en solenoid som omsluter detektorn böjer partiklarna av i proportion till dess rörelsemängd. Spårdetektorns uppgift är att mäta spåren från partiklarna och uppskatta dess rörelsemängd från spårets krökning.\n",
    "* <b> Elektromagnetisk kalorimeter. </b> Denna detektor består huvudsakligen av flytande argon och koppar, och är designad för att mäta energin på elektroner och fotoner. Dessa partiklar ger upphov till *skurar* av energi när de stoppas av materialet, skurar som mäts och används till att uppskatta partiklarnas energi.\n",
    "* <b> Hadronisk kalorimeter. </b> Hadroner (partiklar uppbyggda av kvarkar, t.ex. protoner, neutroner och pioner) är tyngre än elektroner och lämnar typiskt bara en mindre del av sin energi i den elektromagnetiska kalorimetern. De stoppas istället i den hadroniska kalorimetern, som består av stål och plast-scintillatorer. \n",
    "* <b> Myonsystemet. </b> Myoner tar sig igenom alla ovan nämnda detektorer och åker sedan igenom myondetektorn. Det är det största systemet som i huvudsak består av s.k. \"drift-rör\". Ett toroid-fält ger böjning av myonerna som kan användas i rörelsemängdsmätningen.\n",
    "\n",
    "Denna design ger upphov till olika signaturer för olika partiklar.\n",
    "De olika detektorerna och resulterande signaturer för olika partiklar visas i figuren nedan.\n",
    "\n",
    "_________________________________________________________________\n",
    "\n",
    "## 1.3 [ENG] Particle identification with ATLAS\n",
    "ATLAS is designed to identify different particles with high efficiency. \n",
    "It's composed of four subsystems, placed after each other, moving radially out from the collision point:\n",
    "* <b> Inner detector tracker </b> This detector is mainly made up of thin layers of silicon in which charged particles interact. Thanks to a solenoidal magnetic field the particles bend in proportion to their momentum, allowing for momentum estimation by measuring the curvature of the track.\n",
    "* <b> Electromagnetic calorimeter </b> This detector mainly consists of liquid argon and copper. It is designed to measure the energy of electrons, positrons and photons. These particles give rise to *showers* of energy when stopped by the material. The showers are measured and used to estimate the particles' energies.\n",
    "* <b> Hadronic calorimeter </b> Hadrons are particles made up of quarks, e.g. protons and pions. They are heavier than electrons and only leave a small part of their energy in the electromagnetic calorimeter. Hadrons are instead stopped by the hadronic calorimeter, which consists of steel and plastic scintillators.\n",
    "* <b> Muon system </b> Muons and anti-muons penetrare all of the above systems and then pass through the muon detector. It is the largest subsystem and consists mainly of drift tubes. A toroidal magnetic field provide bending of the muons to facilitate the momentum measurement.\n",
    "\n",
    "<img src=\"images/experiment.png\">\n"
   ]
  },
  {
   "cell_type": "markdown",
   "metadata": {},
   "source": [
    "## 1.4 [SWE] $Z$-bosonen\n",
    "\n",
    "I partikelfysikens Standardmodell finns *materiapartiklar*, fermioner, med halv-taligt s.k. \"spin\". Spin är intrinsiskt rörelsemängdsmoment, för fermioner lika med $\\hbar/2$.\n",
    "Partiklar med heltaliga spin ($n\\hbar$) kallas bosoner och fungerar som *kraftbärarpartiklar*, förmedlare av växelverkan. Fotonen är kraftbäraren för den elektromagnetiska kraften, gluoner för den starka kärnkraften som håller ihop en proton och atomkärnor.\n",
    "\n",
    "$Z$-bosonen och $W$-bosonen är förmedlare av den svaga kärnkraften (via vilken radiaktivt sönderfall sker).\n",
    "$Z$-bosonen upptäcktes vid CERN 1983 m.h.a. acceleratorn Super-Proton-Synchrotron (då den starkaste acceleratorn, idag används den används som \"föraccelerator\" till Large Hadron Collider). Det är en tung partikel (väger nästan lika mycket som en silveratom). \n",
    "Kolla upp värdet på massan och dess osäkerhet, t.ex. från Particle Data Group (de listar de bästa uppskattningarna vi har idag).\n",
    "Ni kommer behöva de senare i rapporten för jämförelse med era uppmätta värden.\n",
    "\n",
    "Bosonen har kort livslängd ($3×10^{−25}$ s) och sönderfaller omedelbart till två fermioner, t.ex. till en elektron och en positron, vilket representeras i <a href=\"https://en.wikipedia.org/wiki/Feynman_diagram\">Feynmandiagrammet</a> nedan.\n",
    "Den kan också sönderfalla till ett myon-antimyon-par (Feynmandiagrammet ser då likadant ut förutom att vi har $\\mu$ istället för $e$ till höger).\n",
    "<b> Vi kan alltså leta efter $Z$-bosoner i data genom att filtrera data för händelser som innehåller elektron-positron- eller myon-antimyon-par. </b> Bosonen kan sönderfalla till kvark-antikvark-par, men dessa sluttillstånd är experimentellt krångligare då det är vanligt att producera ett sådant sluttillstånd utan att någon $Z$-boson producerats. Genom att använda elektroner och myoner får vi ett *renare* sluttillstånd utan så mycket bakgrund.\n",
    "________________________________________________________________________\n",
    "## 1.4 [ENG] The $Z$ boson\n",
    "In the Standard Model of particle physics, there are matter particles, fermions, with half-integer spin $\\hbar/2$. Particles with integer spin ($n\\hbar$) are called bosons and act as force carriers, mediating interaction. The photon is the mediator for the electromagnetic force, gluons mediate the strong force.\n",
    "\n",
    "The $Z$ and $W$ bosons mediate the weak nuclear force, responsible for e.g. radioactive decay.\n",
    "The $Z$ boson was discovered at CERN in 1983 using the Super Proton Synchrotron (by then the most powerful accelerator, now it's used as part of the accelerator chain leading up to the LHC).\n",
    "It is a heavy particle, weighting almost as much as a silver atom.\n",
    "Look up the mass value and its corresponding uncertainty, provided by the Particle Data Group.\n",
    "(The Particle Data Group review measurements from different experiments and by combining them can list the most precise values known to-date.)\n",
    "The values will be needed when writing your report, for comparison with your own measured value.\n",
    "\n",
    " The lifetime of the boson is short ($3×10^{−25}$ s).\n",
    "After being produced it decays promptly to two fermions, e.g. an electron-positron pair, represented by the <a href=\"https://en.wikipedia.org/wiki/Feynman_diagram\">Feynman diagram</a> below.\n",
    "It may also decay to a muon-antimuon pair (replace the $e$:s by $\\mu$:s in right of the diagram).\n",
    "<b> We may therefore search for $Z$ bosons in data by filtering for events with electron-positron or muon-antimuon pairs. </b>\n",
    "What about decay to quark-antiquark pairs?\n",
    "In fact, the boson more often decays to quarks than to electrons and muons.\n",
    "The issue is that final states with quarks are experimentally challenging, because they are very common to produce at hadron colliders, without any $Z$ boson being involved.\n",
    "By using electrons and muons we get a *cleaner* final state without much background."
   ]
  },
  {
   "cell_type": "markdown",
   "metadata": {},
   "source": [
    "\n",
    "\n",
    "<img src=\"images/Z_ElectronPositron.png\" style=\"width: 400px;\">\n"
   ]
  },
  {
   "cell_type": "markdown",
   "metadata": {},
   "source": [
    "## 1.5 [SWE] Koordinatsystem och invariant massa\n",
    "Om en händelse innehåller t.ex. två elektroner, kan man beräkna den invarianta massan för dem. \n",
    "Om vi gör approximationen att elektronerna är masslösa fås invarianta massan enligt formel 1 nedan,\n",
    "där 1 och 2 indexerar de två elektronerna, $p$ står för rörelsemängd och $\\alpha$ är vinkeln mellan elektronerna. \n",
    "\n",
    "Vi använder följande koordinat-system, illustrerat av figurerna nedan. \n",
    "$z$-axeln går längs med strålröret, $y$-axeln pekar uppåt och $x$-axeln pekar in mot mitten av acceleratorringen. I ATLAS mäts partiklars transversella rörelsemängd $p_\\rm{T}$ och färdriktning relativt $z$-axeln med vinkeln $\\theta$. Typiskt används dock \"pseudorapiditet\" $\\eta$ istället för $\\theta$, definierad enligt den övre figuren. Färdrikting i $xy$-planet definieras av vinkeln $\\phi$ mellan $p_\\rm{T}$ och $x$-axeln. I figurerna nedan visas hur de är definierade. Den transversella rörelsemängden är alltså rörelsemängden i det transversella planet. Med dessa variabler ges invarianta massan av formel 2.\n",
    "____________________________________________________________________\n",
    "\n",
    "## 1.5 [ENG] Coordinate system and invariant mass\n",
    "If an event contains say two electrons, we may reconstruct the invariant mass for them.\n",
    "With the approximation that the electrons are massless, the formula for the invariant mass is given by (1) below,\n",
    "where 1 and 2 are indices for the two electrons, $p$ stands for momentum and $\\alpha$ is the angle between the electrons.\n",
    "\n",
    "The coordinate system used is illustrated by the figures below. \n",
    "The $z$ axis is parallel to the beam direction, the $y$ axis points up and the $x$ axis points into the center of the LHC ring. \n",
    "In ATLAS, particles' tranverse momentum, $p_\\rm{T}$, travel direction relative to to the $z$ axis, $\\theta$, are measured. \n",
    "Typically, \"pseudorapidity\" $\\eta$ is used instead of $\\theta$, defined according to the bottom figure below. \n",
    "The direction in the $xy$ plane is defined by $\\phi$, the angle between the transverse momentum and the $x$ axis.\n",
    "The transverse momentum is the component of the momentum in the transverse plane, i.e. the $xy$ plane.\n",
    "With these variables, the transverse mass is given by formula 2. \n",
    "____________________________________________________________________\n",
    "<img src=\"https://www.lhc-closer.es/webapp/files/1435504163_ad6fd1cc4163a3a2d3c54388c80c45ba.jpg\" style=\"width: 500px;\">\n",
    "\n",
    "\n",
    "\n",
    "\n"
   ]
  },
  {
   "cell_type": "markdown",
   "metadata": {},
   "source": [
    "$$\n",
    "M^2 \\approx 2 ( E_1 E_2 - \\vec{p_1}\\cdot\\vec{p_2}) \\approx 2 p_1 p_2 (1 - \\cos\\alpha) \\qquad \\quad (1)\n",
    "$$\n",
    "\n",
    "\n",
    "$$\n",
    "M^2 \\approx 2 p_\\rm{T1} p_\\rm{T2} (\\cosh(\\eta_1 - \\eta_2) - \\cos(\\phi_1 - \\phi_2)) \\qquad (2)\n",
    "$$"
   ]
  }
 ],
 "metadata": {
  "kernelspec": {
   "display_name": "Python 3",
   "language": "python",
   "name": "python3"
  },
  "language_info": {
   "codemirror_mode": {
    "name": "ipython",
    "version": 3
   },
   "file_extension": ".py",
   "mimetype": "text/x-python",
   "name": "python",
   "nbconvert_exporter": "python",
   "pygments_lexer": "ipython3",
   "version": "3.6.6"
  }
 },
 "nbformat": 4,
 "nbformat_minor": 2
}
