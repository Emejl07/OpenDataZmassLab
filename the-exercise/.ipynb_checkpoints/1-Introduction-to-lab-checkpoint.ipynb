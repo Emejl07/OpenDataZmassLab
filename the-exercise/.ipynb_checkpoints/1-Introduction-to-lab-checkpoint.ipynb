{
 "cells": [
  {
   "cell_type": "markdown",
   "metadata": {},
   "source": [
    "## <CENTER> [SWE] Labb: Mätning av $Z$-bosonens massa med data från ATLAS-experimentet\n",
    " ## <CENTER> [ENG] Lab: Measurement of the invariant mass of the $Z$ boson using data from the ATLAS experiment.\n",
    "<img src=\"https://cds.cern.ch/record/1631395/files/vp1_Htautau_1muon1electron_run204153_evt35369265.png\" style=\"width: 600px;\">"
   ]
  },
  {
   "cell_type": "markdown",
   "metadata": {},
   "source": [
    "## 1.1 [SWE] Introduktion\n",
    "   \n",
    "I denna labb får ni titta på riktig data från ATLAS! Experimentet har gjort en liten del av datan insamlad under 2012 tillgänglig för allmänheten. Datan består av proton-proton-kollisioner med kollisionsenergi 8 TeV.\n",
    "Ni kommer att analysera data med python, interaktivt, i denna notebook-miljö.\n",
    "Målet är att mäta $Z$-bosonens massa genom att rekonstruera den *invarianta massan* av elektron-positron-par och myon-antimyon-par.\n",
    "\n",
    "_______________________________________________________\n",
    "\n",
    "## 1.1 [ENG] Introduction\n",
    "   \n",
    "In this lab you'll be looking at real data from ATLAS! The experiment has made a small part of the data collected in 2012 available for the public. The data consists of proton proton collisions at a collision energy of 8 TeV. You'll be analysing the data with python, in this interactive python environment.\n",
    "The goal is to measure the $Z$ boson mass by reconstructing the *invariant mass* of electron-positron and muon-antimuon pairs.\n",
    "___________________________________________________________"
   ]
  },
  {
   "cell_type": "markdown",
   "metadata": {},
   "source": [
    "## 1.2 [SWE] Händelser i ATLAS\n",
    "    \n",
    "Large Hadron Collider vid CERN-laboratoriet utanför Geneve accelerar protonhopar ($10^{11}$ protoner/hop) upp till nära ljusets hastighet i två strålar som går åt motsatta håll. Man pekar strålarna mot varandra på fyra olika kollisionspunkter, inuti vart och ett av de fyra experimententen längs ringen: ATLAS, CMS, LHCb och ALICE. Idag är vi intresserade av ATLAS. \n",
    "\n",
    "Varje gång två hopar korsar varandra i ATLAS (var 25:e nanosekund) kolliderar ca 40 par av protoner. Partiklar (t.ex. en $Z$-boson, mer info snart) kan skapas ur energin i krocken. Vissa partiklar är instabila och har så kort livslängd att de sönderfaller innan de når detektorn. De stabila sönderfallsprodukterna flyger sedan ut genom detektorn och kan registreras av ATLAS (beroende på vilken partikel det handlar om). Varje sådan \"bild\" tagen av ATLAS på alla registrerade partiklar från kollisionerna i en hop-korsning är kallas för ett \"event\", eller på svenska en \"händelse\". Bilden är ca 1 MB stor. Datafilerna ni ska analysera är organiserade som tabeller där varje rad motsvarar en händelse och varje kolumn innehåller någon särkild information, t.ex. antalet registrerade elektroner och deras respektive energi.\n",
    "\n",
    "Den stora ATLAS-detektorn visas i figuren nedan. I nästa sektion förklaras hur den används för att mäta olika partiklar.\n",
    "______________________________________________________________________\n",
    "\n",
    "## 1.2 [ENG] Events in ATLAS\n",
    "    \n",
    "The Large Hadron Collider at CERN outside Geneva accelerates bunches of protons ($10^{11}$ protons/bunch) up to near-speed-of-light velocities in two beams going in opposite directions around the 27 km ring. The beams are made to cross at four different points, at which experiments are situated: ATLAS, CMS, LHCb and ALICE. Today, we're dealing with ATLAS. \n",
    "\n",
    "Every time two bunches cross each other inside ATLAS (every 25 nanoseconds) about 40 proton collisions take place. Particles (such as the $Z$ boson) can be created from the energy in the collision. If unstable and with short lifetime, these particles decay before reaching the detector. The stable particles appearing at the end of the decay chain fly out through the detector and can be registered (depending on the type of particle). Every such \"photo\" of all the particles registered by the detector from one bunch crossing is called an \"event\". Events, which are of order 1 MB in size, are stored in data files, like the ones you will be analysing today. The files are organised like tables where each row is an event, each column corresponds to some information about an event, e.g. the number of obserbed electrons and their respective energies.\n",
    "\n",
    "Below is the ATLAS detector. In the next section we will see how the detector is used to identify different types of particles.\n",
    "\n",
    "\n",
    "<img src=\"http://opendata.atlas.cern/books/current/get-started/_book/pictures/ATLASImage.jpg\" style=\"width: 700px;\">"
   ]
  },
  {
   "cell_type": "markdown",
   "metadata": {},
   "source": [
    "## 1.3 [SWE] Partikel-identifikation i ATLAS\n",
    "    \n",
    "ATLAS är designad för att kunna skilja på olika partiklar som passerar igenom detektorn.\n",
    "Den består av fyra subsystem, placerade efter varandra om vi rör oss radiellt ut från kollisionspunkten:\n",
    "* <b> Spårdetektor. </b> Denna detektor består i huvudsak av flera lager tunn kisel, i vilken elektriskt laddade partiklar interagerar. Tack vare ett magnetfält från en solenoid som omsluter detektorn böjer partiklarna av i proportion till dess rörelsemängd. Spårdetektorns uppgift är att mäta spåren från partiklarna och uppskatta dess rörelsemängd från spårets krökning.\n",
    "* <b> Elektromagnetisk kalorimeter. </b> Denna detektor består huvudsakligen av flytande argon och koppar, och är designad för att mäta energin på elektroner och fotoner. Dessa partiklar ger upphov till *skurar* av energi när de stoppas av materialet, skurar som mäts och används till att uppskatta partiklarnas energi.\n",
    "* <b> Hadronisk kalorimeter. </b> Hadroner (partiklar uppbyggda av kvarkar, t.ex. protoner, neutroner och pioner) är tyngre än elektroner och lämnar typiskt bara en mindre del av sin energi i den elektromagnetiska kalorimetern. De stoppas istället i den hadroniska kalorimetern, som består av stål och plast-scintillatorer. \n",
    "* <b> Myonsystemet. </b> Myoner tar sig igenom alla ovan nämnda detektorer och åker sedan igenom myondetektorn. Det är det största systemet som i huvudsak består av s.k. \"drift-rör\". Ett toroid-fält ger böjning av myonerna som kan användas i rörelsemängdsmätningen.\n",
    "\n",
    "Denna design ger upphov till olika signaturer för olika partiklar.\n",
    "De olika detektorerna och resulterande signaturer för olika partiklar visas i figuren nedan.\n",
    "\n",
    "_________________________________________________________________\n",
    "\n",
    "## 1.3 [ENG] Particle identification with ATLAS\n",
    "ATLAS is designed to identify different particles with high efficiency. \n",
    "It's composed of four subsystems, placed after each other, moving radially out from the collision point:\n",
    "* <b> Inner detector tracker </b> This detector is mainly made up of thin layers of silicon in which charged particles interact. Thanks to a solenoidal magnetic field the particles bend in proportion to their momentum, allowing for momentum estimation by measuring the curvature of the track.\n",
    "* <b> Electromagnetic calorimeter </b> This detector mainly consists of liquid argon and copper. It is designed to measure the energy of electrons, positrons and photons. These particles give rise to *showers* of energy when stopped by the material. The showers are measured and used to estimate the particles' energies.\n",
    "* <b> Hadronic calorimeter </b> Hadrons are particles made up of quarks, e.g. protons and pions. They are heavier than electrons and only leave a small part of their energy in the electromagnetic calorimeter. Hadrons are instead stopped by the hadronic calorimeter, which consists of steel and plastic scintillators.\n",
    "* <b> Muon system </b> Muons and anti-muons penetrare all of the above systems and then pass through the muon detector. It is the largest subsystem and consists mainly of drift tubes. A toroidal magnetic field provide bending of the muons to facilitate the momentum measurement.\n",
    "\n",
    "<img src=\"http://inspirehep.net/record/884672/files/experiment.png\">\n"
   ]
  },
  {
   "cell_type": "markdown",
   "metadata": {},
   "source": [
    "## 1.4 [SWE] $Z$-bosonen\n",
    "\n",
    "I partikelfysikens Standardmodell finns *materiapartiklar*, fermioner, med halv-taligt s.k. \"spin\". Spin är intrinsiskt rörelsemängdsmoment, för fermioner lika med $\\hbar/2$.\n",
    "Partiklar med heltaliga spin ($n\\hbar$) kallas bosoner och fungerar som *kraftbärarpartiklar*, förmedlare av växelverkan. Fotonen är kraftbäraren för den elektromagnetiska kraften, gluoner för den starka kärnkraften som håller ihop en proton och atomkärnor.\n",
    "\n",
    "$Z$-bosonen och $W$-bosonen är förmedlare av den svaga kärnkraften (via vilken radiaktivt sönderfall sker).\n",
    "$Z$-bosonen upptäcktes vid CERN 1983 m.h.a. acceleratorn Super-Proton-Synchrotron (då den starkaste acceleratorn, idag används den används som \"föraccelerator\" till Large Hadron Collider). Det är en tung partikel (väger nästan lika mycket som en silveratom). \n",
    "Kolla upp värdet på massan och dess osäkerhet, t.ex. från Particle Data Group (de listar de bästa uppskattningarna vi har idag).\n",
    "Ni kommer behöva de senare i rapporten för jämförelse med era uppmätta värden.\n",
    "\n",
    "Bosonen har kort livslängd ($3×10^{−25}$ s) och sönderfaller omedelbart till två fermioner, t.ex. till en elektron och en positron, vilket representeras i <a href=\"https://en.wikipedia.org/wiki/Feynman_diagram\">Feynmandiagrammet</a> nedan.\n",
    "Den kan också sönderfalla till ett myon-antimyon-par (Feynmandiagrammet ser då likadant ut förutom att vi har $\\mu$ istället för $e$ till höger).\n",
    "<b> Vi kan alltså leta efter $Z$-bosoner i data genom att filtrera data för händelser som innehåller elektron-positron- eller myon-antimyon-par. </b> Bosonen kan sönderfalla till kvark-antikvark-par, men dessa sluttillstånd är experimentellt krångligare då det är vanligt att producera ett sådant sluttillstånd utan att någon $Z$-boson producerats. Genom att använda elektroner och myoner får vi ett *renare* sluttillstånd utan så mycket bakgrund.\n",
    "________________________________________________________________________\n",
    "## 1.4 [ENG] The $Z$ boson\n",
    "In the Standard Model of particle physics, there are matter particles, fermions, with half-integer spin $\\hbar/2$. Particles with integer spin ($n\\hbar$) are called bosons and act as force carriers, mediating interaction. The photon is the mediator for the electromagnetic force, gluons mediate the strong force.\n",
    "\n",
    "The $Z$ and $W$ bosons mediate the weak nuclear force, responsible for e.g. radioactive decay.\n",
    "The $Z$ boson was discovered at CERN in 1983 using the Super Proton Synchrotron (by then the most powerful accelerator, now it's used as part of the accelerator chain leading up to the LHC).\n",
    "It is a heavy particle, weighting almost as much as a silver atom.\n",
    "Look up the mass value and its corresponding uncertainty, provided by the Particle Data Group.\n",
    "(The Particle Data Group review measurements from different experiments and by combining them can list the most precise values known to-date.)\n",
    "The values will be needed when writing your report, for comparison with your own measured value.\n",
    "\n",
    " The lifetime of the boson is short ($3×10^{−25}$ s).\n",
    "After being produced it decays promptly to two fermions, e.g. an electron-positron pair, represented by the <a href=\"https://en.wikipedia.org/wiki/Feynman_diagram\">Feynman diagram</a> below.\n",
    "It may also decay to a muon-antimuon pair (replace the $e$:s by $\\mu$:s in right of the diagram).\n",
    "<b> We may therefore search for $Z$ bosons in data by filtering for events with electron-positron or muon-antimuon pairs. </b>\n",
    "What about decay to quark-antiquark pairs?\n",
    "In fact, the boson more often decays to quarks than to electrons and muons.\n",
    "The issue is that final states with quarks are experimentally challenging, because they are very common to produce at hadron colliders, without any $Z$ boson being involved.\n",
    "By using electrons and muons we get a *cleaner* final state without much background."
   ]
  },
  {
   "cell_type": "markdown",
   "metadata": {},
   "source": [
    "\n",
    "\n",
    "<img src=\"http://atlas.physicsmasterclasses.org/zpath_files/img/highslide/feynman/Z_ElectronPositron.png\" style=\"width: 400px;\">\n"
   ]
  },
  {
   "cell_type": "markdown",
   "metadata": {},
   "source": [
    "## 1.5 [SWE] Koordinatsystem och invariant massa\n",
    "Om en händelse innehåller t.ex. två elektroner, kan man beräkna den invarianta massan för dem. \n",
    "Om vi gör approximationen att elektronerna är masslösa fås invarianta massan enligt formel 1 nedan,\n",
    "där 1 och 2 indexerar de två elektronerna, $p$ står för rörelsemängd och $\\alpha$ är vinkeln mellan elektronerna. \n",
    "\n",
    "Vi använder följande koordinat-system, illustrerat av figurerna nedan. \n",
    "$z$-axeln går längs med strålröret, $y$-axeln pekar uppåt och $x$-axeln pekar in mot mitten av acceleratorringen. I ATLAS mäts partiklars transversella rörelsemängd $p_\\rm{T}$ och färdriktning relativt $z$-axeln med vinkeln $\\theta$. Typiskt används dock \"pseudorapiditet\" $\\eta$ istället för $\\theta$, definierad enligt den övre figuren. Färdrikting i $xy$-planet definieras av vinkeln $\\phi$ mellan $p_\\rm{T}$ och $x$-axeln. I figurerna nedan visas hur de är definierade. Den transversella rörelsemängden är alltså rörelsemängden i det transversella planet. Med dessa variabler ges invarianta massan av formel 2.\n",
    "____________________________________________________________________\n",
    "\n",
    "## 1.5 [ENG] Coordinate system and invariant mass\n",
    "If an event contains say two electrons, we may reconstruct the invariant mass for them.\n",
    "With the approximation that the electrons are massless, the formula for the invariant mass is given by (1) below,\n",
    "where 1 and 2 are indices for the two electrons, $p$ stands for momentum and $\\alpha$ is the angle between the electrons.\n",
    "\n",
    "The coordinate system used is illustrated by the figures below. \n",
    "The $z$ axis is parallel to the beam direction, the $y$ axis points up and the $x$ axis points into the center of the LHC ring. \n",
    "In ATLAS, particles' tranverse momentum, $p_\\rm{T}$, travel direction relative to to the $z$ axis, $\\theta$, are measured. \n",
    "Typically, \"pseudorapidity\" $\\eta$ is used instead of $\\theta$, defined according to the bottom figure below. \n",
    "The direction in the $xy$ plane is defined by $\\phi$, the angle between the transverse momentum and the $x$ axis.\n",
    "The transverse momentum is the component of the momentum in the transverse plane, i.e. the $xy$ plane.\n",
    "With these variables, the transverse mass is given by formula 2. \n",
    "____________________________________________________________________\n",
    "<img src=\"https://www.lhc-closer.es/webapp/files/1435504163_ad6fd1cc4163a3a2d3c54388c80c45ba.jpg\" style=\"width: 500px;\">\n",
    "\n",
    "\n",
    "\n",
    "\n"
   ]
  },
  {
   "cell_type": "markdown",
   "metadata": {},
   "source": [
    "$$\n",
    "M^2 \\approx 2 ( E_1 E_2 - \\vec{p_1}\\cdot\\vec{p_2}) \\approx 2 p_1 p_2 (1 - \\cos\\alpha) \\qquad \\quad (1)\n",
    "$$\n",
    "\n",
    "\n",
    "$$\n",
    "M^2 \\approx 2 p_\\rm{T1} p_\\rm{T2} (\\cosh(\\eta_1 - \\eta_2) - \\cos(\\phi_1 - \\phi_2)) \\qquad (2)\n",
    "$$"
   ]
  },
  {
   "cell_type": "markdown",
   "metadata": {},
   "source": [
    "## 1.6 [SWE] Dataanalys med ROOT\n",
    "Vi importerar C++-biblioteket ROOT som innehåller verktyg för att analysera och visualisera data.\n",
    "_________________________________________________\n",
    "## 1.6 [ENG] Data analysis with ROOT\n",
    "We import the C++ library ROOT which comes with tools for analysing and visualising the data."
   ]
  },
  {
   "cell_type": "code",
   "execution_count": null,
   "metadata": {},
   "outputs": [],
   "source": [
    "import ROOT"
   ]
  },
  {
   "cell_type": "markdown",
   "metadata": {},
   "source": [
    "### [SWE] Vår första event-loop\n",
    "Vi hämtar ATLAS open data från internet och laddar in det i ett ROOT-träd. Vi börjar med simulerad data, där en $Z$-boson skapats och sönderfallit till ett elektron-positron-par. \n",
    "__________________________________________________________________________\n",
    "### [ENG] Our first event loop\n",
    "We get ATLAS open data from the web and load it into a ROOT \"tree\". \n",
    "We start by looking at simulated data, in which there is a $Z$ boson decaying to an electron-positron pair.\n"
   ]
  },
  {
   "cell_type": "code",
   "execution_count": null,
   "metadata": {},
   "outputs": [],
   "source": [
    "# [SWE] Öppna en fil med simulerad data, innehållandes Z-bosoner som sönderfaller till elektron-positron-par (därav \"Zee\" i namnet)\n",
    "# [ENG] Open a file with simulated data, containing events with Z bosons decaying to electron-positron pairs (hence the \"Zee\" in the file name)\n",
    "f = ROOT.TFile.Open(\"http://opendata.atlas.cern/release/samples/MC/mc_147770.Zee.root\")\n",
    "tree = f.Get(\"mini\") # [SWE] hämta trädet (det är döpt till \"mini\"). Varje \"rad\" i ett träd är en händelse\n",
    "                     # [ENG] get the tree (called \"mini\"). Every \"row\" in a tree is an event"
   ]
  },
  {
   "cell_type": "markdown",
   "metadata": {},
   "source": [
    "#### [SWE] Trädets innehåll (vad för typ av data finns?)\n",
    "Innan vi kör loopen tittar vi på vilken data som finns sparad för varje händelse. Nedan ser ni trädets (\"mini\") olika variabler, en variabel kallas också för en gren (branch). Datatyp och förklaring listas. En variabel hämtas med `tree.<branch_name>`. I denna labb ska ni titta på elektroner och/eller myoner, som är leptoner, så variablerna med namn `lep_*` kommer sannolikt vara de mest intressanta.\n",
    "#### [ENG] Tree content (what data is available?)\n",
    "Before running a loop, let's look at what data is stored for each event. The variables in the tree \"mini\" is listed below. A variable is also called a branch. The value of a variable is retrieved with `tree.<branch_name>`. Since you in this lab will be looking at electrons and/or muons, which are leptons, the variables with name `lep_*` will be of primary interest.\n",
    "\n",
    " <font size=\"3\"><b>branch name</b></font> | <font size=\"3\"><b>type</b></font> | <font size=\"3\"><b>description</b></font> |\n",
    " ------------- | :-------------: | :-----: |\n",
    " <b id=\"runNumber\">runNumber</b>               | int           | runNumber |\n",
    " <b id=\"eventNumber\">eventNumber</b>           | int           | eventNumber |\n",
    " <b id=\"channelNumber\">channelNumber</b>       | int           | channelNumber ||\n",
    " <b id=\"mcWeight\">mcWeight</b>                 | float         | weight of an MC event |\n",
    " <b id=\"pvxp_n\">pvxp_n</b>                     | int           | number of primary vertices |\n",
    " <b id=\"scaleFactor\">scaleFactor</b>           | float         | overall scale factor for the preselected event |\n",
    " <b id=\"trigE\">trigE</b>                       | bool          | boolean whether a standard trigger has fired in the egamma stream |\n",
    " <b id=\"trigM\">trigM</b>                       | bool          | boolean whether a standard trigger has fired in the muon stream |\n",
    " <b id=\"passGRL\">passGRL</b>                   | bool          | signifies whether event passes the GRL may be put in isGoodEvent |\n",
    " <b id=\"lep_n\">lep_n</b>                       | int           | number of preselected leptons |\n",
    " <b id=\"lep_truthMatched\">lep_truthMatched</b> | vector<bool>  | boolean indicating whether the lepton is matched to a truth lepton |\n",
    " <b id=\"lep_trigMatched\">lep_trigMatched</b>   | vector<bool>  | boolean signifying whether the lepton is the one triggering the event |\n",
    " <b id=\"lep_pt\">lep_pt</b>                    | vector<float> | transverse momentum of the lepton |\n",
    " <b id=\"lep_eta\">lep_eta</b>                  | vector<float> | pseudo-rapidity of the lepton |\n",
    " <b id=\"lep_phi\">lep_phi</b>                  | vector<float> | azimuthal angle of the lepton |\n",
    " <b id=\"lep_E\">lep_E</b>                      | vector<float> | energy of the lepton |\n",
    " <b id=\"lep_z0\">lep_z0</b>                    | vector<float> | z-coordinate of the track associated to the lepton wrt. the primary vertex |\n",
    " <b id=\"lep_charge\">lep_charge</b>            | vector<float> | charge of the lepton |\n",
    " <b id=\"lep_isTight\">lep_isTight</b>          | vector<bool>  | boolean indicating whether the lepton is of tight quality |\n",
    " <b id=\"lep_flag\">lep_flag</b>                | vector<int>   | bitmask implementing object cuts of the top group |\n",
    " <b id=\"lep_type\">lep_type</b>                | vector<int>   | number signifying the lepton type (e, mu, tau) of the lepton |\n",
    " <b id=\"lep_ptcone30\">lep_ptcone30</b>        | vector<float> | ptcone30 isolation for the lepton |\n",
    " <b id=\"lep_etcone20\">lep_etcone20</b>        | vector<float> | etcone20 isolation for the lepton |\n",
    " <b id=\"lep_trackd0pvunbiased\">lep_trackd0pvunbiased</b> | vector<float>  | d0 of the track associated to the lepton at the point of closest approach (p.o.a.) |\n",
    " <b id=\"lep_tracksigd0pvunbiased\">lep_tracksigd0pvunbiased</b> | vector<float>  | d0 signifcance of the track associated to the lepton at the p.o.a. |\n",
    " <b id=\"met_et\">met_et                        | float         | Transverse energy of the missing momentum vector |\n",
    " <b id=\"met_phi\">met_phi                      | float         | Azimuthal angle of the missing momentum vector |\n",
    " <b id=\"jet_n\">jet_n                          | int           | number of selected jets |\n",
    " <b id=\"jet_pt\">jet_pt                        | vector<float> | transverse momentum of the jet |\n",
    " <b id=\"jet_eta\">jet_eta                      | vector<float> | pseudorapidity of the jet |\n",
    " <b id=\"jet_phi\">jet_phi                      | vector<float> | azimuthal angle of the jet |\n",
    " <b id=\"jet_E\">jet_E                          | vector<float> | energy of the jet |\n",
    " <b id=\"jet_m\">jet_m                          | vector<float> | invariant mass of the jet |\n",
    " <b id=\"jet_jvf\">jet_jvf                      | vector<float> | JetVertexFraction of the jet |\n",
    " <b id=\"jet_flag\">jet_flag                    | vector<int>   | bitmask implementing object cuts of the top group |\n",
    " <b id=\"jet_trueflav\">jet_trueflav            | vector<int>   | true flavor of the jet |\n",
    " <b id=\"jet_truthMatched\">jet_truthMatched    | vector<int>   | information whether the jet matches a jet on truth level |\n",
    " <b id=\"jet_SV0\">jet_SV0                      | vector<float> | SV0 weight of the jet |\n",
    " <b id=\"jet_MV1\">jet_MV1                      | vector<float> | MV1 weight of the jet |\n",
    " <b id=\"scaleFactor_BTAG\">scaleFactor_BTAG    | float         | scalefactor for btagging |\n",
    " <b id=\"scaleFactor_ELE\">scaleFactor_ELE      | float         | scalefactor for electron efficiency |\n",
    " <b id=\"scaleFactor_JVFSF\">scaleFactor_JVFSF  | float         | scalefactor for jet vertex fraction |\n",
    " <b id=\"scaleFactor_MUON\">scaleFactor_MUON    | float         | scalefactor for muon efficiency |\n",
    " <b id=\"scaleFactor_PILEUP\">scaleFactor_PILEUP   | float      | scalefactor for pileup reweighting |\n",
    " <b id=\"scaleFactor_TRIGGER\">scaleFactor_TRIGGER | float      | scalefactor for trigger |\n",
    " <b id=\"scaleFactor_ZVERTEX\">scaleFactor_ZVERTEX | float      | scalefactor for z-vertex reweighting |"
   ]
  },
  {
   "cell_type": "markdown",
   "metadata": {},
   "source": [
    "#### [SWE] iterera över de tre första händelserna (en liten \"event loop\")\n",
    "#### [ENG] run a small event loop over the first three events"
   ]
  },
  {
   "cell_type": "code",
   "execution_count": null,
   "metadata": {},
   "outputs": [],
   "source": [
    "for ievt in range(3): # [SWE] kolla närmare på de tre första händelserna\n",
    "                      # [ENG] let's look closer at the first three events in the tree\n",
    "    tree.GetEntry(ievt) # [SWE] ladda händelse nr ievt\n",
    "                        # [ENG] load event ievt\n",
    "    print(\"Event {} :: Number of leptons = {}\".format(ievt, tree.lep_n))   # [SWE]\"lep_n\" är antalet leptoner, med leptoner menar vi här elektroner eller myoner\n",
    "                                                                           # [ENG]\"lep_n\" is the number of leptons, by leptons we here mean electrons and muons\n",
    "    for ilep in range(tree.lep_n): # [SWE] iterera över leptonerna i händelsen\n",
    "                                   # [ENG] loop over the leptons in the event\n",
    "        print(\"        Lepton {} is of type {} and has a transverse momentum of {:.0f} GeV\".format(ilep+1, tree.lep_type[ilep], tree.lep_pt[ilep]*1e-3))\n",
    "print(\"\\nType==11: electron/positron, type==13: muon/anti-muon\")    "
   ]
  },
  {
   "cell_type": "code",
   "execution_count": null,
   "metadata": {},
   "outputs": [],
   "source": [
    "%run hints/tip1.py"
   ]
  },
  {
   "cell_type": "markdown",
   "metadata": {},
   "source": [
    "#### [SWE] Nu testar vi att rita distributionen av den transversella rörelsemängden för elektroner i de första 1000 händelserna.\n",
    "____________________________________________________\n",
    "#### [ENG] Now we'll try to draw the distribution of the transverse momentum for electrons in the first 1000 events.\n",
    "_____________________________________________________"
   ]
  },
  {
   "cell_type": "code",
   "execution_count": null,
   "metadata": {},
   "outputs": [],
   "source": [
    "# [SWE] skapa ett histogram med 15 binnar, från 15 till 90 GeV\n",
    "# [ENG] create a histogram with 15 bins, ranging from 15 to 90 GeV\n",
    "h_pt = ROOT.TH1F(\"h_pt\", \"; Electron transverse momentum [GeV]; Number of electrons\", 15, 15., 90.) \n",
    "nevents=1000\n",
    "ievt=0\n",
    "for evt in tree: # [SWE] iterera över händelser\n",
    "                 # [ENG] start the event loop\n",
    "    ievt+=1\n",
    "    if ievt >= nevents: break # [SWE] avsluta loop efter 1000 händelser\n",
    "                              # [ENG] terminate the loop after 1000 events\n",
    "        \n",
    "    for ilep in range(evt.lep_n):  # [SWE] iterera över leptoner (med leptoner avses elektroner och myoner)\n",
    "                                   # [ENG] loop over leptons (lepton means electron or muon)\n",
    "        if evt.lep_type[ilep] == 11: # [SWE] vi vill bara rita elektroner (typ=11)\n",
    "                                     # [ENG] consider only electrons (type 11)\n",
    "            h_pt.Fill(evt.lep_pt[ilep]*1e-3) # [SWE] fyll histogram (i filen lagras rörelsemängd i MeV)\n",
    "                                             # [ENG] fill histogram (file stores momentum in MeV)"
   ]
  },
  {
   "cell_type": "code",
   "execution_count": null,
   "metadata": {},
   "outputs": [],
   "source": [
    "# [SWE] \"magic\"-kommando för interaktiv visualisering\n",
    "# [ENG] \"magic\" command for interactive visualisation\n",
    "%jsroot on "
   ]
  },
  {
   "cell_type": "code",
   "execution_count": null,
   "metadata": {},
   "outputs": [],
   "source": [
    "# [SWE] öppna en canvas att rita på\n",
    "# [ENG] open a canvas for drawing\n",
    "canvas = ROOT.TCanvas(\"Canvas\",\"Title\",800,600)\n",
    "# [SWE] rita histogrammet\n",
    "# [ENG] draw the histogram\n",
    "h_pt.Draw(\"e1\") # [SWE] \"e1\" ritar felstaplar\n",
    "                # [ENG] \"e1\" will draw error bars\n",
    "# [SWE] öppna canvasen\n",
    "# [ENG] open the canvas\n",
    "canvas.Draw()"
   ]
  },
  {
   "cell_type": "markdown",
   "metadata": {},
   "source": [
    "<b> [SWE] </b> Den uppritade figuren är interaktiv: testa att klicka runt (använd högerklick) och scrolla. Ni kan ändra stil och färg på histogrammet, titel på axlarna etc. Figuren kan sparas i png-format genom att högerklicka mitt på canvasen eller i godtyckligt format via `canvas.SaveAs(\"figure.pdf\")`\n",
    "___________________________________________________\n",
    "<b> [ENG] </b> The figure is interactive.\n",
    "Try playing around with it (right-click, scroll the axes...). \n",
    "You can change the drawing  style, title axes, etc. \n",
    "The figure can be saved in png format by right clicking the canvas, or in any format by calling `canvas.SaveAs(\"figure.pdf\")`\n",
    "__________________________________________________________"
   ]
  },
  {
   "cell_type": "markdown",
   "metadata": {},
   "source": [
    "#### [SWE] I nästa notebook ska vi lära oss lite mer om hur vi använder ROOT, specifikt om hur man gör anpassningar.\n",
    "________________________________________________________\n",
    "#### [ENG] In the next notebook we'll learn some more about ROOT, especially how to make fits."
   ]
  }
 ],
 "metadata": {
  "kernelspec": {
   "display_name": "Python 3",
   "language": "python",
   "name": "python3"
  },
  "language_info": {
   "codemirror_mode": {
    "name": "ipython",
    "version": 3
   },
   "file_extension": ".py",
   "mimetype": "text/x-python",
   "name": "python",
   "nbconvert_exporter": "python",
   "pygments_lexer": "ipython3",
   "version": "3.7.0"
  }
 },
 "nbformat": 4,
 "nbformat_minor": 2
}
