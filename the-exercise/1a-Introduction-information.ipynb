{
 "cells": [
  {
   "cell_type": "markdown",
   "metadata": {},
   "source": [
    "## <CENTER> Labb: Mätning av $Z$-bosonens massa med data från ATLAS-experimentet\n",
    "<img src=\"images/vp1_Htautau_1muon1electron_run204153_evt35369265.png\" style=\"width: 800px;\">"
   ]
  },
  {
   "cell_type": "markdown",
   "metadata": {},
   "source": [
    "## 1.1 Introduktion\n",
    "   \n",
    "I denna labb får ni titta på riktig data från ATLAS! Experimentet har gjort en liten del av datan insamlad under 2012 tillgänglig för allmänheten. Datan består av proton-proton-kollisioner med kollisionsenergi 8 TeV.\n",
    "Ni kommer att analysera data med python, interaktivt, i denna notebook-miljö.\n",
    "Målet är att mäta $Z$-bosonens massa genom att rekonstruera den *invarianta massan* av elektron-positron-par och myon-antimyon-par.\n",
    "\n",
    "_______________________________________________________"
   ]
  },
  {
   "cell_type": "markdown",
   "metadata": {},
   "source": [
    "## 1.2 Proton-proton-kollisioner i ATLAS-experimentet\n",
    "    \n",
    "Large Hadron Collider (LHC) vid CERN-laboratoriet utanför Geneve accelerar protonhopar ($10^{11}$ protoner/hop) upp till nära ljusets hastighet i två strålar som går åt motsatta håll. Man pekar strålarna mot varandra på fyra olika kollisionspunkter, inuti vart och ett av de fyra experimententen längs ringen: ATLAS, CMS, LHCb och ALICE. Idag är vi intresserade av ATLAS. \n",
    "\n",
    "Varje gång två hopar korsar varandra i ATLAS (var 25:e nanosekund) kolliderar ca 40 par av protoner. Partiklar (t.ex. en $Z$-boson, mer info snart) kan skapas ur energin i krocken. Vissa partiklar är instabila och har så kort livslängd att de sönderfaller innan de når detektorn. De stabila sönderfallsprodukterna flyger sedan ut genom detektorn och kan registreras av ATLAS (beroende på vilken partikel det handlar om). Varje sådan \"bild\" tagen av ATLAS på alla registrerade partiklar från kollisionerna i en hop-korsning är kallas för ett \"event\", eller på svenska en \"händelse\". Bilden är ca 1 MB stor. Datafilerna ni ska analysera är organiserade som tabeller där varje rad motsvarar en händelse och varje kolumn innehåller någon särkild information, t.ex. antalet registrerade elektroner och deras respektive energi.\n",
    "\n",
    "Den stora ATLAS-detektorn visas i figuren nedan. I nästa sektion förklaras hur den används för att mäta olika partiklar.\n",
    "\n",
    "<img src=\"images/ATLASImage.jpg\" style=\"width: 800px;\">\n",
    "\n",
    "______________________________________________________________________"
   ]
  },
  {
   "cell_type": "markdown",
   "metadata": {},
   "source": [
    "\n",
    "## 1.3 Partikelidentifikation med detektorerna i ATLAS\n",
    "    \n",
    "ATLAS är designad för att kunna skilja på olika partiklar som passerar igenom experimentet.\n",
    "Den består av fyra delsystem, placerade efter varandra om vi rör oss radiellt ut från kollisionspunkten:\n",
    "* <b> Spårdetektor. </b> Denna detektor består i huvudsak av flera lager tunn kisel, i vilken elektriskt laddade partiklar interagerar. Tack vare ett magnetfält från en solenoidmagnet som omsluter detektorn böjs banan för de laddade partiklarna av olika mycket beroende på deras rörelsemängd. Spårdetektorns uppgift är att mäta spåren från partiklarna och uppskatta deras rörelsemängder från spårens krökning.\n",
    "* <b> Elektromagnetisk kalorimeter. </b> Denna detektor består huvudsakligen av flytande argon och koppar, och är designad för att mäta energin på elektroner och fotoner. Dessa partiklar ger upphov till *skurar* av energi när de stoppas av materialet, skurar som mäts och används till att uppskatta partiklarnas energi.\n",
    "* <b> Hadronisk kalorimeter. </b> Hadroner (partiklar uppbyggda av kvarkar, t.ex. protoner, neutroner och pioner) är tyngre än elektroner och lämnar typiskt bara en mindre del av sin energi i den elektromagnetiska kalorimetern. De stoppas istället i den hadroniska kalorimetern, som består av lager av stål varvat med plast-scintillatorer. \n",
    "* <b> Myonspektrometer. </b> Myoner tar sig igenom alla ovan nämnda detektorer och åker sedan igenom myondetektorn. Det är det största systemet som i huvudsak består av s.k. \"drift-rör\" fyllda med gas som joniseras av de laddade myoner som åker igenom dem och ger på så sätt upphov till en signal. En toroid-magnet ger på liknande sätt som i den inre spårdetektorn ett fält som böjer av myonernas bana och tillåter att deras rörelsemängder kan mätas.\n",
    "\n",
    "Denna design ger upphov till olika signaturer för olika partiklar så att de kan skiljas åt.\n",
    "De olika detektorerna och resulterande signaturer för olika partiklar visas i figuren nedan.\n",
    "\n",
    "<img src=\"images/experiment.png\">\n",
    "\n",
    "_________________________________________________________________"
   ]
  },
  {
   "cell_type": "markdown",
   "metadata": {},
   "source": [
    "## 1.4 $Z$-bosonen\n",
    "\n",
    "I partikelfysikens Standardmodell finns *materiapartiklar*, fermioner, med halv-taligt s.k. \"spinn\". Spinn är ett slags inneboende rörelsemängdsmoment, ett av de kvanttal som definierar elementarpartiklar. Fermioner har spinn lika med $\\hbar/2$.\n",
    "Partiklar med heltaliga spin ($n\\hbar$) kallas bosoner kallas ofta *kraftbärarpartiklar*, dvs de förmedlar olika typer av växelverkan. Fotonen är kraftbäraren för den elektromagnetiska kraften och gluoner förmedlar den starka kärnkraften som håller ihop en proton och atomkärnor. $Z$-bosonen och $W$-bosonen är förmedlare av den svaga kärnkraften (via vilken radiaktivt sönderfall sker).\n",
    "\n",
    "$Z$-bosonen upptäcktes vid CERN 1983 m.h.a. acceleratorn Super Proton Synchrotron (den då starkaste acceleratorn, idag används den används som \"föraccelerator\" till LHC). Det är en tung partikel som väger nästan lika mycket som en silveratom. Kolla upp värdet på massan och dess osäkerhet, t.ex. från [Particle Data Group](http://pdg.lbl.gov) som listar de bästa mätningar vi har idag. Ni kommer behöva dessa siffror senare för rapportskrivningen för att jämföra med era uppmätta värden.\n",
    "\n",
    "Bosonen har kort livslängd ($3×10^{−25}$ s) och sönderfaller omedelbart till två fermioner, t.ex. till en elektron och en positron, vilket representeras i <a href=\"https://en.wikipedia.org/wiki/Feynman_diagram\">Feynmandiagrammet</a> nedan.\n",
    "Den kan också sönderfalla till ett myon-antimyon-par (Feynmandiagrammet ser då likadant ut förutom att vi har $\\mu$ istället för $e$ till höger).\n",
    "<b> Vi kan alltså leta efter $Z$-bosoner i mätdata från partikelfysikexperiment genom att välja ut de kollisioner som innehåller elektron-positron- eller myon-antimyon-par. </b> $Z$-bosonen kan även sönderfalla till kvark-antikvark-par, men dessa sluttillstånd är svårare att mäta experimentellt då många processer utan $Z$-bosoner kan ge upphov till samma sluttillstånd (dvs dessa sk \"sönderfallskanaler\" har större bakgrunder). Genom att använda elektroner och myoner får vi ett *renare* sluttillstånd utan så mycket bakgrund."
   ]
  },
  {
   "cell_type": "markdown",
   "metadata": {},
   "source": [
    "\n",
    "\n",
    "<img src=\"images/Z_ElectronPositron.png\" style=\"width: 400px;\">\n"
   ]
  },
  {
   "cell_type": "markdown",
   "metadata": {},
   "source": [
    "## 1.5 Koordinatsystem och invariant massa\n",
    "Om en kollision innehåller t.ex. två elektroner kan man beräkna den invarianta massan för elektronparet. \n",
    "Om vi gör approximationen att elektronerna är masslösa fås den invarianta massan enligt (1) nedan,\n",
    "där 1 och 2 indexerar de två elektronerna, $p$ står för rörelsemängd och $\\alpha$ är vinkeln mellan elektronerna. \n",
    "\n",
    "Vi använder följande koordinatsystem, illustrerat av figurerna nedan. \n",
    "$z$-axeln går längs med strålröret, $y$-axeln pekar uppåt och $x$-axeln pekar in mot mitten av acceleratorringen. De inkommande protonstrålarna färdas i båda riktningarna längs $z$-axeln varför $xy$-planet kallas det *transversella planet* då det är vinkelrätt mot strålarnas riktning. I ATLAS mäts partiklars transversella rörelsemängd $p_\\rm{T}$, dvs projektionen av rörelsemängden $p$ i det transversella planet, och deras vinkel $\\theta$ relativt den positiva $z$-axeln. Typiskt används dock \"pseudorapiditet\" $\\eta$ istället för $\\theta$, definierad enligt ekvationen i figuren. \n",
    "\n",
    "____________________________________________________________________\n",
    "<img src=\"images/eta_and_pT.png\" style=\"width: 800px;\">\n",
    "\n",
    "I $xy$-planet kan det transversella rörelsemängdsmomentet beskrivas av dess magnitud $p_\\rm{T}$ och dess vinkel $\\phi$ till den positiva $x$-axeln. \n",
    "\n",
    "Den invarianta massan för ett system av partiklar kan räknas ut med partiklarnas energier och rörelsemängdsvektorer. Vid relativistiska energier, dvs då massorna på partiklarna i systemet är små i jämförelse med deras rörelsemängder, kan uttrycket förenklas och den invarianta massan i ett tvåpartikelsystem kan beräknas med (1) nedan, där $\\alpha$ är vinkeln mellan de två partiklarnas rörelsemängdsvektorer. Detta kan även skrivas om som (2) nedan med variablerna vi använder oss av i ATLAS-experimentet."
   ]
  },
  {
   "cell_type": "markdown",
   "metadata": {},
   "source": [
    "$$\n",
    "M^2 \\approx 2 ( E_1 E_2 - \\vec{p_1}\\cdot\\vec{p_2}) \\approx 2 p_1 p_2 (1 - \\cos\\alpha) \\qquad \\quad (1)\n",
    "$$\n",
    "\n",
    "\n",
    "$$\n",
    "M^2 \\approx 2 p_\\rm{T1} p_\\rm{T2} (\\cosh(\\eta_1 - \\eta_2) - \\cos(\\phi_1 - \\phi_2)) \\qquad (2)\n",
    "$$"
   ]
  }
 ],
 "metadata": {
  "kernelspec": {
   "display_name": "Python 3",
   "language": "python",
   "name": "python3"
  },
  "language_info": {
   "codemirror_mode": {
    "name": "ipython",
    "version": 3
   },
   "file_extension": ".py",
   "mimetype": "text/x-python",
   "name": "python",
   "nbconvert_exporter": "python",
   "pygments_lexer": "ipython3",
   "version": "3.6.6"
  }
 },
 "nbformat": 4,
 "nbformat_minor": 2
}
