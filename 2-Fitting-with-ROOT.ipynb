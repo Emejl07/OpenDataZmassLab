{
 "cells": [
  {
   "cell_type": "markdown",
   "metadata": {},
   "source": [
    "## <CENTER> Anpassningar i ROOT: tips och exempel\n",
    "\n",
    "Importera först de ROOT-klasser som behövs för att göra dem tillgängliga i python-miljön:"
   ]
  },
  {
   "cell_type": "code",
   "execution_count": null,
   "metadata": {},
   "outputs": [],
   "source": [
    "# install the ROOT libraries if you're using Google Colab - this usually takes a minute or two\n",
    "# if not we assume we're running in the docker container where it is already available\n",
    "try:\n",
    "    import google.colab\n",
    "    IN_COLAB = True\n",
    "except:\n",
    "    IN_COLAB = False\n",
    "\n",
    "if IN_COLAB:\n",
    "    # Here we install the ROOT libraries and dependencies using a python wheel package\n",
    "    # that is based on an already built version of ROOT\n",
    "    !pip install ROOT -i https://root-experimental-python-wheels.web.cern.ch\n",
    "\n",
    "    # atlasopenmagic is a Python package made to simplify working with ATLAS Open Data \n",
    "    # by providing utilities to manage metadata and URLs for streaming the data.\n",
    "    # This is convenient since you don't need to download the files locally.\n",
    "    !pip install atlasopenmagic\n",
    "\n",
    "    # jsroot is a library to be able to interact with ROOT plots; this is not needed \n",
    "    # and doesn't work in Google Colab for the mooment, so we turn it off.\n",
    "    from ROOT import TCanvas\n",
    "    %jsroot off\n",
    "else:\n",
    "    print(\"Not running the notebook in Google Colab, so assuming ROOT is already available\")"
   ]
  },
  {
   "cell_type": "code",
   "execution_count": 1,
   "metadata": {},
   "outputs": [
    {
     "name": "stdout",
     "output_type": "stream",
     "text": [
      "Welcome to JupyROOT 6.14/00\n"
     ]
    }
   ],
   "source": [
    "import ROOT\n",
    "from ROOT import TH1F, TF1, TLegend, kRed, kBlue, kGreen, kBlack"
   ]
  },
  {
   "cell_type": "markdown",
   "metadata": {},
   "source": [
    "### 2.1 Histogram, funktioner och osäkerheter\n",
    "Här får vi bekanta oss med ROOT-klasserna för att\n",
    "*  rita distributioner i [histogram](https://en.wikipedia.org/wiki/Histogram): se [dokumentationen för TH1-klasserna](https://root.cern.ch/doc/master/classTH1.html)\n",
    "*  beskriva matematiska funktioner: se [dokumentationen för TF1-klassen](https://root.cern.ch/doc/master/classTF1.html)\n",
    "___________________________________"
   ]
  },
  {
   "cell_type": "code",
   "execution_count": 2,
   "metadata": {},
   "outputs": [
    {
     "name": "stdout",
     "output_type": "stream",
     "text": [
      "Formula based function:     myExponential \n",
      "        myExponential : exp(-2.7*x) Ndim= 1, Npar= 0, Number= 0 \n",
      " Formula expression: \n",
      "\texp(-2.7*x) \n"
     ]
    }
   ],
   "source": [
    "# create a histogram with object name \"histo\", title and axis labels as listed, \n",
    "# containing 20 bins in the range -3 to 3\n",
    "histo = TH1F(\"histo\", \"Events; x; Number of random numbers\", 20, 0., 3.)\n",
    "\n",
    "# create a function that can be used to generate random numbers, in this case we use an exponential function\n",
    "myFunctionName = \"myExponential\"\n",
    "myFunction = TF1(myFunctionName, \"exp(-2.7*x)\", 0, 3) # defined on interval 0 < x < 3\n",
    "myFunction.Print() # prints out some info about the function object\n"
   ]
  },
  {
   "cell_type": "code",
   "execution_count": 3,
   "metadata": {},
   "outputs": [
    {
     "name": "stdout",
     "output_type": "stream",
     "text": [
      "Number of entries: 500\n"
     ]
    }
   ],
   "source": [
    "# number of random numbers to generate\n",
    "N = 500\n",
    "\n",
    "# fill the histogram with random values generated from the function\n",
    "histo.FillRandom(myFunctionName, N)\n",
    "\n",
    "# check how many entries were filled into the histogram\n",
    "print(\"Number of entries: %d\" % histo.GetEntries())"
   ]
  },
  {
   "cell_type": "code",
   "execution_count": null,
   "metadata": {},
   "outputs": [],
   "source": [
    "canvas = ROOT.TCanvas()\n",
    "# draw the histogram with error bars\n",
    "histo.Draw()\n",
    "canvas.Draw()"
   ]
  },
  {
   "cell_type": "markdown",
   "metadata": {},
   "source": [
    "#### Varje datapunkt har en osäkerhet i y-led - ta reda på vad denna osäkerhet kommer ifrån! Felstapeln i x-led beskriver storleken på varje \"bin\" i histogrammet och motsvarar inte en osäkerhet på samma sätt."
   ]
  },
  {
   "cell_type": "markdown",
   "metadata": {},
   "source": [
    "**Tips:** Håll pekaren över en datapunkt för att se dess värde och dess osäkerhet."
   ]
  },
  {
   "cell_type": "markdown",
   "metadata": {},
   "source": [
    "___________________________________________\n",
    "### 2.2 Gör en anpassning \n",
    "Nu ska vi göra en anpassning av en funktion till data i histogrammet ovan. Syntax är `TH1F::Fit(fcn, \"fit_opt\", \"draw_opt\", xlow, xup)`\n",
    "där \n",
    "* `fcn` är antingen en sträng med namnet på en funktion (ett `ROOT::TF1`-objekt), eller själva funktionsobjektet.\n",
    "* sedan kommer anpassnings- och plot-alternativ, t.ex. `fit_opt = \"V\"` för mer detaljerad output och `draw_opt=\"E\"` för att rita histogrammet med osäkerheter. Flera bokstäver bakas ihop i en och och samma sträng för att aktivera flera alternativ samtidigt. \n",
    "* sist är vilket intervall på x-axeln (nedre och övre gräns) i vilken anpassningen ska göras.\n",
    "\n",
    "För mer information, see [dokumentationen för TH1::Fit()](https://root.cern.ch/doc/master/classTH1.html#a7e7d34c91d5ebab4fc9bba3ca47dabdd). Framförallt kan man läsa om de olika alternativen för att kontrollera anpassningen (mer om detta snart).\n",
    "\n",
    "Vi testar först att helt enkelt att anpassa till den fördefinierade funktionen \"expo\" som användes för att fylla histogrammet (borde per definition ge en bra anpassning).\n",
    "Genom att ropa på Fit görs anpassningen och den resulterande kurvan ritas upp. \n",
    "Per default används en viktad minsta-kvadrat-anpassning, även kallad $\\chi^2$-anpassning (se \"Statistik för fysikexperiment.pdf\" på Canvas)\n",
    "____________________________________________________________________________________"
   ]
  },
  {
   "cell_type": "markdown",
   "metadata": {},
   "source": [
    "#### Sidospår: hur `TF1`-funktioner kan definieras\n",
    "\n",
    "Som vi såg ovan kan en funktion definieras genom att skriva in motsvarande matematiska uttryck som en sträng. Funktioner med fria parametrar kan definieras på liknande sätt, tex kan ett godtyckligt andragradspolynom specificeras med följande rad kod, där `[n]` representerar parameter `n`:"
   ]
  },
  {
   "cell_type": "code",
   "execution_count": 5,
   "metadata": {},
   "outputs": [
    {
     "name": "stdout",
     "output_type": "stream",
     "text": [
      "Formula based function:     myFunction \n",
      "           myFunction : [0] + [1]*x + [2]*x^2 Ndim= 1, Npar= 3, Number= 0 \n",
      " Formula expression: \n",
      "\t[p0]+[p1]*x+[p2]*pow(x,2) \n"
     ]
    }
   ],
   "source": [
    "functionWithParameters = TF1(\"myFunction\", \"[0] + [1]*x + [2]*x^2\")\n",
    "functionWithParameters.Print()"
   ]
  },
  {
   "cell_type": "markdown",
   "metadata": {},
   "source": [
    "De fria parametrarna kan sedan tilldelas värden:"
   ]
  },
  {
   "cell_type": "code",
   "execution_count": 6,
   "metadata": {},
   "outputs": [
    {
     "name": "stdout",
     "output_type": "stream",
     "text": [
      "Will set all parameters\n",
      "Parameter 0 = 4.30\n",
      "Parameter 1 = -2.00\n",
      "Parameter 2 = 0.30\n",
      "Will now set only parameter 1\n",
      "Parameter 0 = 4.30\n",
      "Parameter 1 = 10.00\n",
      "Parameter 2 = 0.30\n"
     ]
    }
   ],
   "source": [
    "# sets all parameters, i.e. 0, 1 and 2, in that order\n",
    "print(\"Will set all parameters\")\n",
    "functionWithParameters.SetParameters(4.3, -2, 0.3) \n",
    "for p in range(functionWithParameters.GetNpar()):\n",
    "    print(\"Parameter %d = %.2f\" % (p, functionWithParameters.GetParameter(p)))\n",
    "\n",
    "# set parameter 1 to 10\n",
    "print(\"Will now set only parameter 1\")\n",
    "functionWithParameters.SetParameter(1, 10) \n",
    "for p in range(functionWithParameters.GetNpar()):\n",
    "    print(\"Parameter %d = %.2f\" % (p, functionWithParameters.GetParameter(p)))"
   ]
  },
  {
   "cell_type": "markdown",
   "metadata": {},
   "source": [
    "Det finns två andra sätt att definiera funktioner som kan komma till användning under labben:\n",
    "   * Använda fördefinierade funktioner genom nyckelord, tex `expo`, `gaus`, `landau`, osv (se nedan)\n",
    "   * Utnyttja de funktioner som finns definierade i `TMath` (se [dokumentation](https://root.cern.ch/doc/master/namespaceTMath.html)), tex:"
   ]
  },
  {
   "cell_type": "code",
   "execution_count": 7,
   "metadata": {},
   "outputs": [
    {
     "data": {
      "text/plain": [
       "3.1"
      ]
     },
     "execution_count": 7,
     "metadata": {},
     "output_type": "execute_result"
    }
   ],
   "source": [
    "f = TF1(\"myFunc\", \"TMath::Min(x, 3.1)\", 0, 10)\n",
    "f.Eval(4.3) # evaluate for a given value of x (try putting in other values, does it behave like you expect?)"
   ]
  },
  {
   "cell_type": "markdown",
   "metadata": {},
   "source": [
    "#### Åter till anpassningar\n",
    "Låt oss nu anpassa en exponentialfunktion med fria parametrar till histogrammet vi genererade och se om vi kan bestämma originalfunktionen."
   ]
  },
  {
   "cell_type": "code",
   "execution_count": 8,
   "metadata": {},
   "outputs": [
    {
     "name": "stdout",
     "output_type": "stream",
     "text": [
      "Formula based function:     myFitFunction \n",
      "        myFitFunction : expo Ndim= 1, Npar= 2, Number= 200 \n",
      " Formula expression: \n",
      "\texp([Constant]+[Slope]*x) \n",
      " FCN=14.5838 FROM MIGRAD    STATUS=CONVERGED      64 CALLS          65 TOTAL\n",
      "                     EDM=7.69921e-09    STRATEGY= 1      ERROR MATRIX ACCURATE \n",
      "  EXT PARAMETER                                   STEP         FIRST   \n",
      "  NO.   NAME      VALUE            ERROR          SIZE      DERIVATIVE \n",
      "   1  Constant     5.34459e+00   6.61329e-02   8.74902e-05  -1.32895e-04\n",
      "   2  Slope       -2.85114e+00   1.36203e-01   1.80131e-04   8.63062e-04\n"
     ]
    },
    {
     "data": {
      "text/html": [
       "\n",
       "<div id=\"root_plot_2\"\n",
       "     style=\"width: 796px; height: 572px\">\n",
       "</div>\n",
       "\n",
       "<script>\n",
       " requirejs.config({\n",
       "     paths: {\n",
       "       'JSRootCore' : '/static/jsroot//scripts/JSRootCore',\n",
       "     }\n",
       "   });\n",
       " require(['JSRootCore'],\n",
       "     function(Core) {\n",
       "       var obj = Core.JSONR_unref({\"_typename\":\"TCanvas\",\"fUniqueID\":0,\"fBits\":53673992,\"fLineColor\":1,\"fLineStyle\":1,\"fLineWidth\":1,\"fFillColor\":0,\"fFillStyle\":1001,\"fLeftMargin\":0.1,\"fRightMargin\":0.1,\"fBottomMargin\":0.1,\"fTopMargin\":0.1,\"fXfile\":2,\"fYfile\":2,\"fAfile\":1,\"fXstat\":0.99,\"fYstat\":0.99,\"fAstat\":2,\"fFrameFillColor\":0,\"fFrameLineColor\":1,\"fFrameFillStyle\":1001,\"fFrameLineStyle\":1,\"fFrameLineWidth\":1,\"fFrameBorderSize\":1,\"fFrameBorderMode\":0,\"fX1\":-0.375000027939679,\"fY1\":-22.7966275006651,\"fX2\":3.37500002793968,\"fY2\":205.169633918137,\"fXtoAbsPixelk\":79.6000547445299,\"fXtoPixelk\":79.6000547445299,\"fXtoPixel\":212.266663503647,\"fYtoAbsPixelk\":514.800046590614,\"fYtoPixelk\":514.800046590614,\"fYtoPixel\":-2.50914322338763,\"fUtoAbsPixelk\":5e-5,\"fUtoPixelk\":5e-5,\"fUtoPixel\":796,\"fVtoAbsPixelk\":572.00005,\"fVtoPixelk\":572,\"fVtoPixel\":-572,\"fAbsPixeltoXk\":-0.375000027939679,\"fPixeltoXk\":-0.375000027939679,\"fPixeltoX\":0.00471105534658211,\"fAbsPixeltoYk\":205.169633918137,\"fPixeltoYk\":-22.7966275006651,\"fPixeltoY\":-0.398542415067836,\"fXlowNDC\":0,\"fYlowNDC\":0,\"fXUpNDC\":0,\"fYUpNDC\":0,\"fWNDC\":1,\"fHNDC\":1,\"fAbsXlowNDC\":0,\"fAbsYlowNDC\":0,\"fAbsWNDC\":1,\"fAbsHNDC\":1,\"fUxmin\":0,\"fUymin\":0,\"fUxmax\":3,\"fUymax\":182.373006417472,\"fTheta\":30,\"fPhi\":30,\"fAspectRatio\":0,\"fNumber\":0,\"fTickx\":0,\"fTicky\":0,\"fLogx\":0,\"fLogy\":0,\"fLogz\":0,\"fPadPaint\":0,\"fCrosshair\":0,\"fCrosshairPos\":0,\"fBorderSize\":2,\"fBorderMode\":0,\"fModified\":false,\"fGridx\":false,\"fGridy\":false,\"fAbsCoord\":false,\"fEditable\":true,\"fFixedAspectRatio\":false,\"fPrimitives\":{\"_typename\":\"TList\",\"name\":\"TList\",\"arr\":[{\"_typename\":\"TFrame\",\"fUniqueID\":0,\"fBits\":50331656,\"fLineColor\":1,\"fLineStyle\":1,\"fLineWidth\":1,\"fFillColor\":0,\"fFillStyle\":1001,\"fX1\":0,\"fY1\":0,\"fX2\":3,\"fY2\":182.373006417472,\"fBorderSize\":1,\"fBorderMode\":0},{\"_typename\":\"TH1F\",\"fUniqueID\":0,\"fBits\":50331656,\"fName\":\"histo\",\"fTitle\":\"Events\",\"fLineColor\":602,\"fLineStyle\":1,\"fLineWidth\":1,\"fFillColor\":0,\"fFillStyle\":1001,\"fMarkerColor\":1,\"fMarkerStyle\":1,\"fMarkerSize\":1,\"fNcells\":22,\"fXaxis\":{\"_typename\":\"TAxis\",\"fUniqueID\":0,\"fBits\":50331648,\"fName\":\"xaxis\",\"fTitle\":\" x\",\"fNdivisions\":510,\"fAxisColor\":1,\"fLabelColor\":1,\"fLabelFont\":42,\"fLabelOffset\":0.005,\"fLabelSize\":0.035,\"fTickLength\":0.03,\"fTitleOffset\":1,\"fTitleSize\":0.035,\"fTitleColor\":1,\"fTitleFont\":42,\"fNbins\":20,\"fXmin\":0,\"fXmax\":3,\"fXbins\":[],\"fFirst\":0,\"fLast\":0,\"fBits2\":0,\"fTimeDisplay\":false,\"fTimeFormat\":\"\",\"fLabels\":null,\"fModLabs\":null},\"fYaxis\":{\"_typename\":\"TAxis\",\"fUniqueID\":0,\"fBits\":50331648,\"fName\":\"yaxis\",\"fTitle\":\" Number of random numbers\",\"fNdivisions\":510,\"fAxisColor\":1,\"fLabelColor\":1,\"fLabelFont\":42,\"fLabelOffset\":0.005,\"fLabelSize\":0.035,\"fTickLength\":0.03,\"fTitleOffset\":0,\"fTitleSize\":0.035,\"fTitleColor\":1,\"fTitleFont\":42,\"fNbins\":1,\"fXmin\":0,\"fXmax\":1,\"fXbins\":[],\"fFirst\":0,\"fLast\":0,\"fBits2\":0,\"fTimeDisplay\":false,\"fTimeFormat\":\"\",\"fLabels\":null,\"fModLabs\":null},\"fZaxis\":{\"_typename\":\"TAxis\",\"fUniqueID\":0,\"fBits\":50331648,\"fName\":\"zaxis\",\"fTitle\":\"\",\"fNdivisions\":510,\"fAxisColor\":1,\"fLabelColor\":1,\"fLabelFont\":42,\"fLabelOffset\":0.005,\"fLabelSize\":0.035,\"fTickLength\":0.03,\"fTitleOffset\":1,\"fTitleSize\":0.035,\"fTitleColor\":1,\"fTitleFont\":42,\"fNbins\":1,\"fXmin\":0,\"fXmax\":1,\"fXbins\":[],\"fFirst\":0,\"fLast\":0,\"fBits2\":0,\"fTimeDisplay\":false,\"fTimeFormat\":\"\",\"fLabels\":null,\"fModLabs\":null},\"fBarOffset\":0,\"fBarWidth\":1000,\"fEntries\":500,\"fTsumw\":500,\"fTsumw2\":500,\"fTsumwx\":189.871522212713,\"fTsumwx2\":154.074466314439,\"fMaximum\":-1111,\"fMinimum\":-1111,\"fNormFactor\":0,\"fContour\":[],\"fSumw2\":[],\"fOption\":\"\",\"fFunctions\":{\"_typename\":\"TList\",\"name\":\"TList\",\"arr\":[{\"_typename\":\"TPaveStats\",\"fUniqueID\":0,\"fBits\":50331657,\"fLineColor\":1,\"fLineStyle\":1,\"fLineWidth\":1,\"fFillColor\":0,\"fFillStyle\":1001,\"fX1\":2.55000007599592,\"fY1\":153.877226457691,\"fX2\":3.30000009834767,\"fY2\":190.351827469429,\"fX1NDC\":0.780000016093254,\"fY1NDC\":0.775000005960464,\"fX2NDC\":0.980000019073486,\"fY2NDC\":0.935000002384186,\"fBorderSize\":1,\"fInit\":1,\"fShadowColor\":1,\"fCornerRadius\":0,\"fOption\":\"brNDC\",\"fName\":\"stats\",\"fTextAngle\":0,\"fTextSize\":0,\"fTextAlign\":12,\"fTextColor\":1,\"fTextFont\":42,\"fLabel\":\"\",\"fLongest\":18,\"fMargin\":0.05,\"fLines\":{\"_typename\":\"TList\",\"name\":\"TList\",\"arr\":[{\"_typename\":\"TLatex\",\"fUniqueID\":0,\"fBits\":50331648,\"fName\":\"\",\"fTitle\":\"histo\",\"fTextAngle\":0,\"fTextSize\":0.0368,\"fTextAlign\":0,\"fTextColor\":0,\"fTextFont\":0,\"fX\":0,\"fY\":0,\"fLineColor\":1,\"fLineStyle\":1,\"fLineWidth\":2,\"fLimitFactorSize\":3,\"fOriginSize\":0.0368000008165836},{\"_typename\":\"TLatex\",\"fUniqueID\":0,\"fBits\":50331648,\"fName\":\"\",\"fTitle\":\"Entries = 500    \",\"fTextAngle\":0,\"fTextSize\":0,\"fTextAlign\":0,\"fTextColor\":0,\"fTextFont\":0,\"fX\":0,\"fY\":0,\"fLineColor\":1,\"fLineStyle\":1,\"fLineWidth\":2,\"fLimitFactorSize\":3,\"fOriginSize\":0.04},{\"_typename\":\"TLatex\",\"fUniqueID\":0,\"fBits\":50331648,\"fName\":\"\",\"fTitle\":\"Mean  = 0.3797\",\"fTextAngle\":0,\"fTextSize\":0,\"fTextAlign\":0,\"fTextColor\":0,\"fTextFont\":0,\"fX\":0,\"fY\":0,\"fLineColor\":1,\"fLineStyle\":1,\"fLineWidth\":2,\"fLimitFactorSize\":3,\"fOriginSize\":0.04},{\"_typename\":\"TLatex\",\"fUniqueID\":0,\"fBits\":50331648,\"fName\":\"\",\"fTitle\":\"Std Dev   = 0.4049\",\"fTextAngle\":0,\"fTextSize\":0,\"fTextAlign\":0,\"fTextColor\":0,\"fTextFont\":0,\"fX\":0,\"fY\":0,\"fLineColor\":1,\"fLineStyle\":1,\"fLineWidth\":2,\"fLimitFactorSize\":3,\"fOriginSize\":0.04}],\"opt\":[\"\",\"\",\"\",\"\"]},\"fOptFit\":0,\"fOptStat\":1111,\"fFitFormat\":\"5.4g\",\"fStatFormat\":\"6.4g\",\"fParent\":{\"$ref\":3}},{\"_typename\":\"TF1\",\"fUniqueID\":0,\"fBits\":50332680,\"fName\":\"myFitFunction\",\"fTitle\":\"expo\",\"fLineColor\":2,\"fLineStyle\":1,\"fLineWidth\":2,\"fFillColor\":19,\"fFillStyle\":0,\"fMarkerColor\":1,\"fMarkerStyle\":1,\"fMarkerSize\":1,\"fXmin\":0,\"fXmax\":3,\"fNpar\":2,\"fNdim\":1,\"fNpx\":100,\"fType\":0,\"fNpfits\":17,\"fNDF\":15,\"fChisquare\":14.5838414499511,\"fMinimum\":-1111,\"fMaximum\":-1111,\"fParErrors\":[0.0661329001747012,0.136203067693378],\"fParMin\":[0,0],\"fParMax\":[0,0],\"fSave\":[209.472127250784,192.299982569269,176.53557913158,162.063512866395,148.777840318636,136.581303085326,125.384615830781,115.105812669038,105.669647128648,97.007041307276,89.0545801836062,81.7540473846357,75.0519990099244,68.8993723929599,63.2511269355535,58.0659143859819,53.3057761471279,48.9358653987492,44.9241919996606,41.2413883023708,37.8604941658111,34.7567595923296,31.9074635441467,29.2917476129084,26.8904633247076,24.6860319627631,22.6623158815799,20.8045003705416,19.0989852021113,17.5332850707133,16.0959381934551,14.7764224035962,13.5650781225218,12.4530376463341,11.4321602294013,10.4949724896381,9.6346136992544,8.84478556046805,8.11970609851417,7.45406733442153,6.842996427698,6.28202000446801,5.76703140992461,5.29426064536601,4.86024676973934,4.46181256365563,4.09604127040301,3.76025524368926,3.45199634580375,3.16900795270248,2.90921843428351,2.67072598891947,2.45178472122755,2.25079186115867,2.0662760308424,1.89688647329476,1.74138316413693,1.59862773393732,1.46757513472354,1.34726598965865,1.23681956987696,1.13542734706619,1.04234707459716,0.956897353871757,0.878452646111797,0.806438693072442,0.740328313157158,0.679637542159561,0.623922090380237,0.572774090182694,0.525819110178768,0.482713414185691,0.443141444888884,0.406813513789501,0.373463680525884,0.342847806044389,0.314741765367742,0.28893980687739,0.265253046098915,0.243508082964178,0.223545732427808,0.205219859145442,0.188396307682928,0.172951920425041,0.158773635994249,0.14575766157948,0.133808713115871,0.122839317753202,0.112769173506702,0.103524561402517,0.0950378058144283,0.0872467790411848,0.0800944464976874,0.0735284491905729,0.0675007204216933,0.0619671339135462,0.0568871807807445,0.052223672982779,0.0479424710871837,0.0440122343501842,0.040404191285279,0,3],\"fNormalized\":false,\"fNormIntegral\":0,\"fFormula\":{\"_typename\":\"TFormula\",\"fUniqueID\":0,\"fBits\":50332672,\"fName\":\"myFitFunction\",\"fTitle\":\"expo\",\"fClingParameters\":[5.34459068636203,-2.85113748035768],\"fAllParametersSetted\":true,\"fParams\":[{\"$pair\":\"pair<TString,int,TFormulaParamOrder>\",\"first\":\"Constant\",\"second\":0},{\"$pair\":\"pair<TString,int,TFormulaParamOrder>\",\"first\":\"Slope\",\"second\":1}],\"fFormula\":\"exp([Constant]+[Slope]*x)\",\"fNdim\":1,\"fLinearParts\":[],\"fVectorized\":false},\"fParams\":null,\"fComposition_ptr\":null}],\"opt\":[\"brNDC\",\"\"]},\"fBufferSize\":0,\"fBuffer\":[],\"fBinStatErrOpt\":0,\"fStatOverflows\":2,\"fArray\":[0,161,114,90,43,32,16,9,14,6,3,3,1,2,2,1,0,0,0,2,1,0]},{\"_typename\":\"TPaveText\",\"fUniqueID\":0,\"fBits\":50331657,\"fLineColor\":1,\"fLineStyle\":1,\"fLineWidth\":1,\"fFillColor\":0,\"fFillStyle\":0,\"fX1\":1.23872487047856,\"fY1\":191.491659133204,\"fX2\":1.76127512952144,\"fY2\":204.029803698071,\"fX1NDC\":0.430326633165829,\"fY1NDC\":0.940000003948808,\"fX2NDC\":0.569673366834171,\"fY2NDC\":0.995000004768372,\"fBorderSize\":0,\"fInit\":1,\"fShadowColor\":1,\"fCornerRadius\":0,\"fOption\":\"blNDC\",\"fName\":\"title\",\"fTextAngle\":0,\"fTextSize\":0,\"fTextAlign\":22,\"fTextColor\":1,\"fTextFont\":42,\"fLabel\":\"\",\"fLongest\":6,\"fMargin\":0.05,\"fLines\":{\"_typename\":\"TList\",\"name\":\"TList\",\"arr\":[{\"_typename\":\"TLatex\",\"fUniqueID\":0,\"fBits\":50331648,\"fName\":\"\",\"fTitle\":\"Events\",\"fTextAngle\":0,\"fTextSize\":0,\"fTextAlign\":0,\"fTextColor\":0,\"fTextFont\":0,\"fX\":0,\"fY\":0,\"fLineColor\":1,\"fLineStyle\":1,\"fLineWidth\":2,\"fLimitFactorSize\":3,\"fOriginSize\":0.0467500016093254}],\"opt\":[\"\"]}}],\"opt\":[\"\",\"e1\",\"blNDC\"]},\"fExecs\":null,\"fName\":\"MyCanvas\",\"fTitle\":\"Test fits\",\"fNumPaletteColor\":0,\"fNextPaletteColor\":0,\"fDISPLAY\":\"$DISPLAY\",\"fDoubleBuffer\":0,\"fRetained\":true,\"fXsizeUser\":0,\"fYsizeUser\":0,\"fXsizeReal\":20,\"fYsizeReal\":15,\"fWindowTopX\":0,\"fWindowTopY\":0,\"fWindowWidth\":0,\"fWindowHeight\":0,\"fCw\":796,\"fCh\":572,\"fCatt\":{\"_typename\":\"TAttCanvas\",\"fXBetween\":2,\"fYBetween\":2,\"fTitleFromTop\":1.2,\"fXdate\":0.2,\"fYdate\":0.3,\"fAdate\":1},\"kMoveOpaque\":true,\"kResizeOpaque\":true,\"fHighLightColor\":2,\"fBatch\":true,\"kShowEventStatus\":false,\"kAutoExec\":true,\"kMenuBar\":true});\n",
       "       Core.draw(\"root_plot_2\", obj, \"\");\n",
       "     }\n",
       " );\n",
       "</script>\n"
      ],
      "text/plain": [
       "<IPython.core.display.HTML object>"
      ]
     },
     "metadata": {},
     "output_type": "display_data"
    }
   ],
   "source": [
    "# \"expo\" used here is shorthand for \"exp([0]+[1]*x)\"\n",
    "fitFunction = TF1(\"myFitFunction\", \"expo\", 0, 3)\n",
    "fitFunction.Print()\n",
    "\n",
    "# this is where the magic happens, ROOT adjusts the free parameters of the function to the values\n",
    "# that make it best describe the distribution in the histogram\n",
    "fitresult = histo.Fit(fitFunction, \"S\") # option \"S\" makes sure the fit result is returned\n",
    "\n",
    "canvas.Draw() "
   ]
  },
  {
   "cell_type": "markdown",
   "metadata": {},
   "source": [
    "Ovan ser ni resultaten från anpassningen. Titta t.ex. på `STATUS` som visar om anpassningen konvergerat (hittat minimum) eller inte. Ni ser de resulterade best-fit-värdena på parametrarna och deras respektive osäkerheter. Med fit option `\"V\"` (\"verbose\") skrivs mer detaljerad information ut.\n",
    "\n",
    "Skriv ut den relativa osäkerheten på exponent-parametern nedan!\n",
    "\n",
    "Tips: `fitresult` är ett objekt av klassen `TFitResult`, och ni kan komma åt parametervärden med funktionsanropet 'Parameter(i)'. Titta på [dokumentationen för TFitResult](https://root.cern.ch/doc/master/classROOT_1_1Fit_1_1FitResult.html) för att hitta funktionen som returnerar osäkerheten på de parametervärden som anpassningen gav."
   ]
  },
  {
   "cell_type": "code",
   "execution_count": 9,
   "metadata": {},
   "outputs": [],
   "source": [
    "# print(\"Relative uncertainty on parameter \"Slope\" = ...\""
   ]
  },
  {
   "cell_type": "markdown",
   "metadata": {},
   "source": [
    "#### Testa nu att gå tillbaka och öka antalet entries i histogrammet till det dubbla. Kör om anpassningen. Vad händer med osäkerheten? Om ni ökar med en faktor fyra? Kan ni förklara varför?\n",
    "___________________________________________________________________________"
   ]
  },
  {
   "cell_type": "markdown",
   "metadata": {},
   "source": [
    "### 2.3   Anpassningskvalitet: passar min modell mätdatan?\n",
    "Hur kan vi kvantifiera hur bra en anpassning är? Ett sätt är att utnyttja faktumet att minsta-kvadrat-summan under vissa villkor följer en $\\chi^2$-fördelning. Antalet frihetsgrader ($N_\\rm{DOF}$) för fördelningen är lika med antalet datapunkter (binnar) minus antalet parametrar som ska anpassas. Med detta kan man räkna ut sannolikheten att få det värde på summan som observerats. Ett något grövre mått är att jämföra minsta-kvadrat-summan med antalet frihetsgrader. Kvoten mellan dem ska vara nära 1 för en bra anpassning. Detta kan förstås genom att notera att varje datapunkt bör bidra med i snitt värdet 1 i summan. Kvoten kallas för \"reduced chi-square\". \n",
    "\n",
    "OBS! Var dock försiktig med användandet av detta mått i olika sammanhang: summan följer en $\\chi^2$-fördelning endast om modellen är korrekt och linjär i parametrarna, om datapunkterna är ungefär normalfördelade och om osäkerheterna är korrekt uppskattade.\n",
    "\n",
    "Nedan tittar vi närmare på detta genom att göra en anpassning till en fyrkantspuls.\n",
    "Se uppgiften längre ner."
   ]
  },
  {
   "cell_type": "code",
   "execution_count": 10,
   "metadata": {},
   "outputs": [
    {
     "data": {
      "text/html": [
       "\n",
       "<div id=\"root_plot_3\"\n",
       "     style=\"width: 796px; height: 572px\">\n",
       "</div>\n",
       "\n",
       "<script>\n",
       " requirejs.config({\n",
       "     paths: {\n",
       "       'JSRootCore' : '/static/jsroot//scripts/JSRootCore',\n",
       "     }\n",
       "   });\n",
       " require(['JSRootCore'],\n",
       "     function(Core) {\n",
       "       var obj = Core.JSONR_unref({\"_typename\":\"TCanvas\",\"fUniqueID\":0,\"fBits\":53673992,\"fLineColor\":1,\"fLineStyle\":1,\"fLineWidth\":1,\"fFillColor\":0,\"fFillStyle\":1001,\"fLeftMargin\":0.1,\"fRightMargin\":0.1,\"fBottomMargin\":0.1,\"fTopMargin\":0.1,\"fXfile\":2,\"fYfile\":2,\"fAfile\":1,\"fXstat\":0.99,\"fYstat\":0.99,\"fAstat\":2,\"fFrameFillColor\":0,\"fFrameLineColor\":1,\"fFrameFillStyle\":1001,\"fFrameLineStyle\":1,\"fFrameLineWidth\":1,\"fFrameBorderSize\":1,\"fFrameBorderMode\":0,\"fX1\":0.124999972060321,\"fY1\":146.242539671132,\"fX2\":3.87500002793968,\"fY2\":1168.76494872661,\"fXtoAbsPixelk\":-26.5332770072934,\"fXtoPixelk\":-26.5332770072934,\"fXtoPixel\":212.266663503647,\"fYtoAbsPixelk\":653.808264618158,\"fYtoPixelk\":653.808264618158,\"fYtoPixel\":-0.559400943132743,\"fUtoAbsPixelk\":5e-5,\"fUtoPixelk\":5e-5,\"fUtoPixel\":796,\"fVtoAbsPixelk\":572.00005,\"fVtoPixelk\":572,\"fVtoPixel\":-572,\"fAbsPixeltoXk\":0.124999972060321,\"fPixeltoXk\":0.124999972060321,\"fPixeltoX\":0.00471105534658211,\"fAbsPixeltoYk\":1168.76494872661,\"fPixeltoYk\":146.242539671132,\"fPixeltoY\":-1.78762658925783,\"fXlowNDC\":0,\"fYlowNDC\":0,\"fXUpNDC\":0,\"fYUpNDC\":0,\"fWNDC\":1,\"fHNDC\":1,\"fAbsXlowNDC\":0,\"fAbsYlowNDC\":0,\"fAbsWNDC\":1,\"fAbsHNDC\":1,\"fUxmin\":0.5,\"fUymin\":248.494786671388,\"fUxmax\":3.5,\"fUymax\":1066.51270172636,\"fTheta\":30,\"fPhi\":30,\"fAspectRatio\":0,\"fNumber\":0,\"fTickx\":0,\"fTicky\":0,\"fLogx\":0,\"fLogy\":0,\"fLogz\":0,\"fPadPaint\":0,\"fCrosshair\":0,\"fCrosshairPos\":0,\"fBorderSize\":2,\"fBorderMode\":0,\"fModified\":false,\"fGridx\":false,\"fGridy\":false,\"fAbsCoord\":false,\"fEditable\":true,\"fFixedAspectRatio\":false,\"fPrimitives\":{\"_typename\":\"TList\",\"name\":\"TList\",\"arr\":[{\"_typename\":\"TFrame\",\"fUniqueID\":0,\"fBits\":50331656,\"fLineColor\":1,\"fLineStyle\":1,\"fLineWidth\":1,\"fFillColor\":0,\"fFillStyle\":1001,\"fX1\":0.5,\"fY1\":248.494786671388,\"fX2\":3.5,\"fY2\":1066.51270172636,\"fBorderSize\":1,\"fBorderMode\":0},{\"_typename\":\"TH1F\",\"fUniqueID\":0,\"fBits\":50331656,\"fName\":\"sample_squareWave\",\"fTitle\":\"\",\"fLineColor\":602,\"fLineStyle\":1,\"fLineWidth\":1,\"fFillColor\":0,\"fFillStyle\":1001,\"fMarkerColor\":1,\"fMarkerStyle\":1,\"fMarkerSize\":1,\"fNcells\":17,\"fXaxis\":{\"_typename\":\"TAxis\",\"fUniqueID\":0,\"fBits\":50331648,\"fName\":\"xaxis\",\"fTitle\":\" x\",\"fNdivisions\":510,\"fAxisColor\":1,\"fLabelColor\":1,\"fLabelFont\":42,\"fLabelOffset\":0.005,\"fLabelSize\":0.035,\"fTickLength\":0.03,\"fTitleOffset\":1,\"fTitleSize\":0.035,\"fTitleColor\":1,\"fTitleFont\":42,\"fNbins\":15,\"fXmin\":0.5,\"fXmax\":3.5,\"fXbins\":[],\"fFirst\":0,\"fLast\":0,\"fBits2\":0,\"fTimeDisplay\":false,\"fTimeFormat\":\"\",\"fLabels\":null,\"fModLabs\":null},\"fYaxis\":{\"_typename\":\"TAxis\",\"fUniqueID\":0,\"fBits\":50331648,\"fName\":\"yaxis\",\"fTitle\":\" y\",\"fNdivisions\":510,\"fAxisColor\":1,\"fLabelColor\":1,\"fLabelFont\":42,\"fLabelOffset\":0.005,\"fLabelSize\":0.035,\"fTickLength\":0.03,\"fTitleOffset\":0,\"fTitleSize\":0.035,\"fTitleColor\":1,\"fTitleFont\":42,\"fNbins\":1,\"fXmin\":0,\"fXmax\":1,\"fXbins\":[],\"fFirst\":0,\"fLast\":0,\"fBits2\":0,\"fTimeDisplay\":false,\"fTimeFormat\":\"\",\"fLabels\":null,\"fModLabs\":null},\"fZaxis\":{\"_typename\":\"TAxis\",\"fUniqueID\":0,\"fBits\":50331648,\"fName\":\"zaxis\",\"fTitle\":\"\",\"fNdivisions\":510,\"fAxisColor\":1,\"fLabelColor\":1,\"fLabelFont\":42,\"fLabelOffset\":0.005,\"fLabelSize\":0.035,\"fTickLength\":0.03,\"fTitleOffset\":1,\"fTitleSize\":0.035,\"fTitleColor\":1,\"fTitleFont\":42,\"fNbins\":1,\"fXmin\":0,\"fXmax\":1,\"fXbins\":[],\"fFirst\":0,\"fLast\":0,\"fBits2\":0,\"fTimeDisplay\":false,\"fTimeFormat\":\"\",\"fLabels\":null,\"fModLabs\":null},\"fBarOffset\":0,\"fBarWidth\":1000,\"fEntries\":8000,\"fTsumw\":8000,\"fTsumw2\":8000,\"fTsumwx\":16036.8769317896,\"fTsumwx2\":36056.0766729633,\"fMaximum\":-1111,\"fMinimum\":-1111,\"fNormFactor\":0,\"fContour\":[],\"fSumw2\":[],\"fOption\":\"\",\"fFunctions\":{\"_typename\":\"TList\",\"name\":\"TList\",\"arr\":[{\"_typename\":\"TPaveStats\",\"fUniqueID\":0,\"fBits\":50331657,\"fLineColor\":1,\"fLineStyle\":1,\"fLineWidth\":1,\"fFillColor\":0,\"fFillStyle\":1001,\"fX1\":3.05000007599592,\"fY1\":938.697412783838,\"fX2\":3.80000009834767,\"fY2\":1102.30099457589,\"fX1NDC\":0.780000016093254,\"fY1NDC\":0.775000005960464,\"fX2NDC\":0.980000019073486,\"fY2NDC\":0.935000002384186,\"fBorderSize\":1,\"fInit\":1,\"fShadowColor\":1,\"fCornerRadius\":0,\"fOption\":\"brNDC\",\"fName\":\"stats\",\"fTextAngle\":0,\"fTextSize\":0,\"fTextAlign\":12,\"fTextColor\":1,\"fTextFont\":42,\"fLabel\":\"\",\"fLongest\":18,\"fMargin\":0.05,\"fLines\":{\"_typename\":\"TList\",\"name\":\"TList\",\"arr\":[{\"_typename\":\"TLatex\",\"fUniqueID\":0,\"fBits\":50331648,\"fName\":\"\",\"fTitle\":\"sample_squareWave\",\"fTextAngle\":0,\"fTextSize\":0.0368,\"fTextAlign\":0,\"fTextColor\":0,\"fTextFont\":0,\"fX\":0,\"fY\":0,\"fLineColor\":1,\"fLineStyle\":1,\"fLineWidth\":2,\"fLimitFactorSize\":3,\"fOriginSize\":0.0368000008165836},{\"_typename\":\"TLatex\",\"fUniqueID\":0,\"fBits\":50331648,\"fName\":\"\",\"fTitle\":\"Entries = 8000   \",\"fTextAngle\":0,\"fTextSize\":0,\"fTextAlign\":0,\"fTextColor\":0,\"fTextFont\":0,\"fX\":0,\"fY\":0,\"fLineColor\":1,\"fLineStyle\":1,\"fLineWidth\":2,\"fLimitFactorSize\":3,\"fOriginSize\":0.04},{\"_typename\":\"TLatex\",\"fUniqueID\":0,\"fBits\":50331648,\"fName\":\"\",\"fTitle\":\"Mean  =  2.005\",\"fTextAngle\":0,\"fTextSize\":0,\"fTextAlign\":0,\"fTextColor\":0,\"fTextFont\":0,\"fX\":0,\"fY\":0,\"fLineColor\":1,\"fLineStyle\":1,\"fLineWidth\":2,\"fLimitFactorSize\":3,\"fOriginSize\":0.04},{\"_typename\":\"TLatex\",\"fUniqueID\":0,\"fBits\":50331648,\"fName\":\"\",\"fTitle\":\"Std Dev   =  0.699\",\"fTextAngle\":0,\"fTextSize\":0,\"fTextAlign\":0,\"fTextColor\":0,\"fTextFont\":0,\"fX\":0,\"fY\":0,\"fLineColor\":1,\"fLineStyle\":1,\"fLineWidth\":2,\"fLimitFactorSize\":3,\"fOriginSize\":0.04}],\"opt\":[\"\",\"\",\"\",\"\"]},\"fOptFit\":0,\"fOptStat\":1111,\"fFitFormat\":\"5.4g\",\"fStatFormat\":\"6.4g\",\"fParent\":{\"$ref\":3}}],\"opt\":[\"brNDC\"]},\"fBufferSize\":0,\"fBuffer\":[],\"fBinStatErrOpt\":0,\"fStatOverflows\":2,\"fArray\":[0,325,315,306,328,330,916,996,956,984,923,306,336,303,332,344,0]},{\"_typename\":\"TH1F\",\"fUniqueID\":0,\"fBits\":50331656,\"fName\":\"squareWave\",\"fTitle\":\"Square\",\"fLineColor\":1,\"fLineStyle\":1,\"fLineWidth\":1,\"fFillColor\":0,\"fFillStyle\":1001,\"fMarkerColor\":1,\"fMarkerStyle\":1,\"fMarkerSize\":1,\"fNcells\":5,\"fXaxis\":{\"_typename\":\"TAxis\",\"fUniqueID\":0,\"fBits\":50331648,\"fName\":\"xaxis\",\"fTitle\":\" x\",\"fNdivisions\":510,\"fAxisColor\":1,\"fLabelColor\":1,\"fLabelFont\":42,\"fLabelOffset\":0.005,\"fLabelSize\":0.035,\"fTickLength\":0.03,\"fTitleOffset\":1,\"fTitleSize\":0.035,\"fTitleColor\":1,\"fTitleFont\":42,\"fNbins\":3,\"fXmin\":0.5,\"fXmax\":3.5,\"fXbins\":[],\"fFirst\":0,\"fLast\":0,\"fBits2\":0,\"fTimeDisplay\":false,\"fTimeFormat\":\"\",\"fLabels\":null,\"fModLabs\":null},\"fYaxis\":{\"_typename\":\"TAxis\",\"fUniqueID\":0,\"fBits\":50331648,\"fName\":\"yaxis\",\"fTitle\":\" y\",\"fNdivisions\":510,\"fAxisColor\":1,\"fLabelColor\":1,\"fLabelFont\":42,\"fLabelOffset\":0.005,\"fLabelSize\":0.035,\"fTickLength\":0.03,\"fTitleOffset\":0,\"fTitleSize\":0.035,\"fTitleColor\":1,\"fTitleFont\":42,\"fNbins\":1,\"fXmin\":0,\"fXmax\":1,\"fXbins\":[],\"fFirst\":0,\"fLast\":0,\"fBits2\":0,\"fTimeDisplay\":false,\"fTimeFormat\":\"\",\"fLabels\":null,\"fModLabs\":null},\"fZaxis\":{\"_typename\":\"TAxis\",\"fUniqueID\":0,\"fBits\":50331648,\"fName\":\"zaxis\",\"fTitle\":\"\",\"fNdivisions\":510,\"fAxisColor\":1,\"fLabelColor\":1,\"fLabelFont\":42,\"fLabelOffset\":0.005,\"fLabelSize\":0.035,\"fTickLength\":0.03,\"fTitleOffset\":1,\"fTitleSize\":0.035,\"fTitleColor\":1,\"fTitleFont\":42,\"fNbins\":1,\"fXmin\":0,\"fXmax\":1,\"fXbins\":[],\"fFirst\":0,\"fLast\":0,\"fBits2\":0,\"fTimeDisplay\":false,\"fTimeFormat\":\"\",\"fLabels\":null,\"fModLabs\":null},\"fBarOffset\":0,\"fBarWidth\":1000,\"fEntries\":3,\"fTsumw\":0,\"fTsumw2\":0,\"fTsumwx\":0,\"fTsumwx2\":0,\"fMaximum\":-1111,\"fMinimum\":-1111,\"fNormFactor\":0,\"fContour\":[],\"fSumw2\":[0,20480,61440,20480,0],\"fOption\":\"\",\"fFunctions\":{\"_typename\":\"TList\",\"name\":\"TList\",\"arr\":[],\"opt\":[]},\"fBufferSize\":0,\"fBuffer\":[],\"fBinStatErrOpt\":0,\"fStatOverflows\":2,\"fArray\":[0,320,960,320,0]}],\"opt\":[\"\",\"e1\",\"hist same\"]},\"fExecs\":null,\"fName\":\"MyCanvas\",\"fTitle\":\"Test fits\",\"fNumPaletteColor\":0,\"fNextPaletteColor\":0,\"fDISPLAY\":\"$DISPLAY\",\"fDoubleBuffer\":0,\"fRetained\":true,\"fXsizeUser\":0,\"fYsizeUser\":0,\"fXsizeReal\":20,\"fYsizeReal\":15,\"fWindowTopX\":0,\"fWindowTopY\":0,\"fWindowWidth\":0,\"fWindowHeight\":0,\"fCw\":796,\"fCh\":572,\"fCatt\":{\"_typename\":\"TAttCanvas\",\"fXBetween\":2,\"fYBetween\":2,\"fTitleFromTop\":1.2,\"fXdate\":0.2,\"fYdate\":0.3,\"fAdate\":1},\"kMoveOpaque\":true,\"kResizeOpaque\":true,\"fHighLightColor\":2,\"fBatch\":true,\"kShowEventStatus\":false,\"kAutoExec\":true,\"kMenuBar\":true});\n",
       "       Core.draw(\"root_plot_3\", obj, \"\");\n",
       "     }\n",
       " );\n",
       "</script>\n"
      ],
      "text/plain": [
       "<IPython.core.display.HTML object>"
      ]
     },
     "metadata": {},
     "output_type": "display_data"
    }
   ],
   "source": [
    "import math\n",
    "# create a histogram and populate it to look like a square pulse that we can then use to generate random values\n",
    "squareWave = TH1F(\"squareWave\", \"Square; x; y\", 3, 0.5, 3.5)\n",
    "squareWave.SetBinContent(1, 5.); squareWave.SetBinError(1, math.sqrt(5.))\n",
    "squareWave.SetBinContent(2, 15.); squareWave.SetBinError(2, math.sqrt(15.))\n",
    "squareWave.SetBinContent(3, 5.); squareWave.SetBinError(3, math.sqrt(5.))\n",
    "squareWave.SetLineColor(kBlack)\n",
    "\n",
    "# sample the histogram and fill the random values into another histogram\n",
    "sample_squareWave = TH1F(\"sample_squareWave\", \"; x; y\", 15, 0.5, 3.5)\n",
    "n=8000\n",
    "sample_squareWave.FillRandom(squareWave, n)\n",
    "\n",
    "# draw the original model and the sampled distribution\n",
    "sample_squareWave.Draw(\"e1\")\n",
    "squareWave.Scale(float(n)/((15.+5.+5.)/3)/sample_squareWave.GetNbinsX()) \n",
    "squareWave.Draw(\"hist same\")\n",
    "canvas.Draw()"
   ]
  },
  {
   "cell_type": "code",
   "execution_count": 11,
   "metadata": {},
   "outputs": [
    {
     "name": "stdout",
     "output_type": "stream",
     "text": [
      "\n",
      "*** Chi-square sum = 1802.3, Number of degrees of freedom = 14, ratio = 128.7\n",
      " FCN=1802.26 FROM MIGRAD    STATUS=CONVERGED      12 CALLS          13 TOTAL\n",
      "                     EDM=1.62209e-16    STRATEGY= 1      ERROR MATRIX ACCURATE \n",
      "  EXT PARAMETER                                   STEP         FIRST   \n",
      "  NO.   NAME      VALUE            ERROR          SIZE      DERIVATIVE \n",
      "   1  p0           4.13183e+02   5.24838e+00   1.08823e-01  -3.43184e-09\n"
     ]
    },
    {
     "data": {
      "text/html": [
       "\n",
       "<div id=\"root_plot_4\"\n",
       "     style=\"width: 796px; height: 572px\">\n",
       "</div>\n",
       "\n",
       "<script>\n",
       " requirejs.config({\n",
       "     paths: {\n",
       "       'JSRootCore' : '/static/jsroot//scripts/JSRootCore',\n",
       "     }\n",
       "   });\n",
       " require(['JSRootCore'],\n",
       "     function(Core) {\n",
       "       var obj = Core.JSONR_unref({\"_typename\":\"TCanvas\",\"fUniqueID\":0,\"fBits\":53673992,\"fLineColor\":1,\"fLineStyle\":1,\"fLineWidth\":1,\"fFillColor\":0,\"fFillStyle\":1001,\"fLeftMargin\":0.1,\"fRightMargin\":0.1,\"fBottomMargin\":0.1,\"fTopMargin\":0.1,\"fXfile\":2,\"fYfile\":2,\"fAfile\":1,\"fXstat\":0.99,\"fYstat\":0.99,\"fAstat\":2,\"fFrameFillColor\":0,\"fFrameLineColor\":1,\"fFrameFillStyle\":1001,\"fFrameLineStyle\":1,\"fFrameLineWidth\":1,\"fFrameBorderSize\":1,\"fFrameBorderMode\":0,\"fX1\":0.124999972060321,\"fY1\":146.242539671132,\"fX2\":3.87500002793968,\"fY2\":1168.76494872661,\"fXtoAbsPixelk\":-26.5332770072934,\"fXtoPixelk\":-26.5332770072934,\"fXtoPixel\":212.266663503647,\"fYtoAbsPixelk\":653.808264618158,\"fYtoPixelk\":653.808264618158,\"fYtoPixel\":-0.559400943132743,\"fUtoAbsPixelk\":5e-5,\"fUtoPixelk\":5e-5,\"fUtoPixel\":796,\"fVtoAbsPixelk\":572.00005,\"fVtoPixelk\":572,\"fVtoPixel\":-572,\"fAbsPixeltoXk\":0.124999972060321,\"fPixeltoXk\":0.124999972060321,\"fPixeltoX\":0.00471105534658211,\"fAbsPixeltoYk\":1168.76494872661,\"fPixeltoYk\":146.242539671132,\"fPixeltoY\":-1.78762658925783,\"fXlowNDC\":0,\"fYlowNDC\":0,\"fXUpNDC\":0,\"fYUpNDC\":0,\"fWNDC\":1,\"fHNDC\":1,\"fAbsXlowNDC\":0,\"fAbsYlowNDC\":0,\"fAbsWNDC\":1,\"fAbsHNDC\":1,\"fUxmin\":0.5,\"fUymin\":248.494786671388,\"fUxmax\":3.5,\"fUymax\":1066.51270172636,\"fTheta\":30,\"fPhi\":30,\"fAspectRatio\":0,\"fNumber\":0,\"fTickx\":0,\"fTicky\":0,\"fLogx\":0,\"fLogy\":0,\"fLogz\":0,\"fPadPaint\":0,\"fCrosshair\":0,\"fCrosshairPos\":0,\"fBorderSize\":2,\"fBorderMode\":0,\"fModified\":false,\"fGridx\":false,\"fGridy\":false,\"fAbsCoord\":false,\"fEditable\":true,\"fFixedAspectRatio\":false,\"fPrimitives\":{\"_typename\":\"TList\",\"name\":\"TList\",\"arr\":[{\"_typename\":\"TFrame\",\"fUniqueID\":0,\"fBits\":50331656,\"fLineColor\":1,\"fLineStyle\":1,\"fLineWidth\":1,\"fFillColor\":0,\"fFillStyle\":1001,\"fX1\":0.5,\"fY1\":248.494786671388,\"fX2\":3.5,\"fY2\":1066.51270172636,\"fBorderSize\":1,\"fBorderMode\":0},{\"_typename\":\"TH1F\",\"fUniqueID\":0,\"fBits\":50331656,\"fName\":\"sample_squareWave\",\"fTitle\":\"\",\"fLineColor\":602,\"fLineStyle\":1,\"fLineWidth\":1,\"fFillColor\":0,\"fFillStyle\":1001,\"fMarkerColor\":1,\"fMarkerStyle\":1,\"fMarkerSize\":1,\"fNcells\":17,\"fXaxis\":{\"_typename\":\"TAxis\",\"fUniqueID\":0,\"fBits\":50331648,\"fName\":\"xaxis\",\"fTitle\":\" x\",\"fNdivisions\":510,\"fAxisColor\":1,\"fLabelColor\":1,\"fLabelFont\":42,\"fLabelOffset\":0.005,\"fLabelSize\":0.035,\"fTickLength\":0.03,\"fTitleOffset\":1,\"fTitleSize\":0.035,\"fTitleColor\":1,\"fTitleFont\":42,\"fNbins\":15,\"fXmin\":0.5,\"fXmax\":3.5,\"fXbins\":[],\"fFirst\":0,\"fLast\":0,\"fBits2\":0,\"fTimeDisplay\":false,\"fTimeFormat\":\"\",\"fLabels\":null,\"fModLabs\":null},\"fYaxis\":{\"_typename\":\"TAxis\",\"fUniqueID\":0,\"fBits\":50331648,\"fName\":\"yaxis\",\"fTitle\":\" y\",\"fNdivisions\":510,\"fAxisColor\":1,\"fLabelColor\":1,\"fLabelFont\":42,\"fLabelOffset\":0.005,\"fLabelSize\":0.035,\"fTickLength\":0.03,\"fTitleOffset\":0,\"fTitleSize\":0.035,\"fTitleColor\":1,\"fTitleFont\":42,\"fNbins\":1,\"fXmin\":0,\"fXmax\":1,\"fXbins\":[],\"fFirst\":0,\"fLast\":0,\"fBits2\":0,\"fTimeDisplay\":false,\"fTimeFormat\":\"\",\"fLabels\":null,\"fModLabs\":null},\"fZaxis\":{\"_typename\":\"TAxis\",\"fUniqueID\":0,\"fBits\":50331648,\"fName\":\"zaxis\",\"fTitle\":\"\",\"fNdivisions\":510,\"fAxisColor\":1,\"fLabelColor\":1,\"fLabelFont\":42,\"fLabelOffset\":0.005,\"fLabelSize\":0.035,\"fTickLength\":0.03,\"fTitleOffset\":1,\"fTitleSize\":0.035,\"fTitleColor\":1,\"fTitleFont\":42,\"fNbins\":1,\"fXmin\":0,\"fXmax\":1,\"fXbins\":[],\"fFirst\":0,\"fLast\":0,\"fBits2\":0,\"fTimeDisplay\":false,\"fTimeFormat\":\"\",\"fLabels\":null,\"fModLabs\":null},\"fBarOffset\":0,\"fBarWidth\":1000,\"fEntries\":8000,\"fTsumw\":8000,\"fTsumw2\":8000,\"fTsumwx\":16036.8769317896,\"fTsumwx2\":36056.0766729633,\"fMaximum\":-1111,\"fMinimum\":-1111,\"fNormFactor\":0,\"fContour\":[],\"fSumw2\":[],\"fOption\":\"\",\"fFunctions\":{\"_typename\":\"TList\",\"name\":\"TList\",\"arr\":[{\"_typename\":\"TPaveStats\",\"fUniqueID\":0,\"fBits\":50331657,\"fLineColor\":1,\"fLineStyle\":1,\"fLineWidth\":1,\"fFillColor\":0,\"fFillStyle\":1001,\"fX1\":3.05000007599592,\"fY1\":938.697412783838,\"fX2\":3.80000009834767,\"fY2\":1102.30099457589,\"fX1NDC\":0.780000016093254,\"fY1NDC\":0.775000005960464,\"fX2NDC\":0.980000019073486,\"fY2NDC\":0.935000002384186,\"fBorderSize\":1,\"fInit\":1,\"fShadowColor\":1,\"fCornerRadius\":0,\"fOption\":\"brNDC\",\"fName\":\"stats\",\"fTextAngle\":0,\"fTextSize\":0,\"fTextAlign\":12,\"fTextColor\":1,\"fTextFont\":42,\"fLabel\":\"\",\"fLongest\":18,\"fMargin\":0.05,\"fLines\":{\"_typename\":\"TList\",\"name\":\"TList\",\"arr\":[{\"_typename\":\"TLatex\",\"fUniqueID\":0,\"fBits\":50331648,\"fName\":\"\",\"fTitle\":\"sample_squareWave\",\"fTextAngle\":0,\"fTextSize\":0.0368,\"fTextAlign\":0,\"fTextColor\":0,\"fTextFont\":0,\"fX\":0,\"fY\":0,\"fLineColor\":1,\"fLineStyle\":1,\"fLineWidth\":2,\"fLimitFactorSize\":3,\"fOriginSize\":0.0368000008165836},{\"_typename\":\"TLatex\",\"fUniqueID\":0,\"fBits\":50331648,\"fName\":\"\",\"fTitle\":\"Entries = 8000   \",\"fTextAngle\":0,\"fTextSize\":0,\"fTextAlign\":0,\"fTextColor\":0,\"fTextFont\":0,\"fX\":0,\"fY\":0,\"fLineColor\":1,\"fLineStyle\":1,\"fLineWidth\":2,\"fLimitFactorSize\":3,\"fOriginSize\":0.04},{\"_typename\":\"TLatex\",\"fUniqueID\":0,\"fBits\":50331648,\"fName\":\"\",\"fTitle\":\"Mean  =  2.005\",\"fTextAngle\":0,\"fTextSize\":0,\"fTextAlign\":0,\"fTextColor\":0,\"fTextFont\":0,\"fX\":0,\"fY\":0,\"fLineColor\":1,\"fLineStyle\":1,\"fLineWidth\":2,\"fLimitFactorSize\":3,\"fOriginSize\":0.04},{\"_typename\":\"TLatex\",\"fUniqueID\":0,\"fBits\":50331648,\"fName\":\"\",\"fTitle\":\"Std Dev   =  0.699\",\"fTextAngle\":0,\"fTextSize\":0,\"fTextAlign\":0,\"fTextColor\":0,\"fTextFont\":0,\"fX\":0,\"fY\":0,\"fLineColor\":1,\"fLineStyle\":1,\"fLineWidth\":2,\"fLimitFactorSize\":3,\"fOriginSize\":0.04}],\"opt\":[\"\",\"\",\"\",\"\"]},\"fOptFit\":0,\"fOptStat\":1111,\"fFitFormat\":\"5.4g\",\"fStatFormat\":\"6.4g\",\"fParent\":{\"$ref\":3}},{\"_typename\":\"TF1\",\"fUniqueID\":0,\"fBits\":50332680,\"fName\":\"const\",\"fTitle\":\"[0]\",\"fLineColor\":2,\"fLineStyle\":1,\"fLineWidth\":2,\"fFillColor\":19,\"fFillStyle\":0,\"fMarkerColor\":1,\"fMarkerStyle\":1,\"fMarkerSize\":1,\"fXmin\":0.5,\"fXmax\":3.5,\"fNpar\":1,\"fNdim\":1,\"fNpx\":100,\"fType\":0,\"fNpfits\":15,\"fNDF\":14,\"fChisquare\":1802.25575296155,\"fMinimum\":-1111,\"fMaximum\":-1111,\"fParErrors\":[5.2483835566511],\"fParMin\":[0],\"fParMax\":[0],\"fSave\":[413.182949755371,413.182949755371,413.182949755371,413.182949755371,413.182949755371,413.182949755371,413.182949755371,413.182949755371,413.182949755371,413.182949755371,413.182949755371,413.182949755371,413.182949755371,413.182949755371,413.182949755371,413.182949755371,413.182949755371,413.182949755371,413.182949755371,413.182949755371,413.182949755371,413.182949755371,413.182949755371,413.182949755371,413.182949755371,413.182949755371,413.182949755371,413.182949755371,413.182949755371,413.182949755371,413.182949755371,413.182949755371,413.182949755371,413.182949755371,413.182949755371,413.182949755371,413.182949755371,413.182949755371,413.182949755371,413.182949755371,413.182949755371,413.182949755371,413.182949755371,413.182949755371,413.182949755371,413.182949755371,413.182949755371,413.182949755371,413.182949755371,413.182949755371,413.182949755371,413.182949755371,413.182949755371,413.182949755371,413.182949755371,413.182949755371,413.182949755371,413.182949755371,413.182949755371,413.182949755371,413.182949755371,413.182949755371,413.182949755371,413.182949755371,413.182949755371,413.182949755371,413.182949755371,413.182949755371,413.182949755371,413.182949755371,413.182949755371,413.182949755371,413.182949755371,413.182949755371,413.182949755371,413.182949755371,413.182949755371,413.182949755371,413.182949755371,413.182949755371,413.182949755371,413.182949755371,413.182949755371,413.182949755371,413.182949755371,413.182949755371,413.182949755371,413.182949755371,413.182949755371,413.182949755371,413.182949755371,413.182949755371,413.182949755371,413.182949755371,413.182949755371,413.182949755371,413.182949755371,413.182949755371,413.182949755371,413.182949755371,413.182949755371,0.5,3.5],\"fNormalized\":false,\"fNormIntegral\":0,\"fFormula\":{\"_typename\":\"TFormula\",\"fUniqueID\":0,\"fBits\":50332672,\"fName\":\"const\",\"fTitle\":\"[0]\",\"fClingParameters\":[413.182949755371],\"fAllParametersSetted\":true,\"fParams\":[{\"$pair\":\"pair<TString,int,TFormulaParamOrder>\",\"first\":\"p0\",\"second\":0}],\"fFormula\":\"[p0]\",\"fNdim\":0,\"fLinearParts\":[],\"fVectorized\":false},\"fParams\":null,\"fComposition_ptr\":null}],\"opt\":[\"brNDC\",\"\"]},\"fBufferSize\":0,\"fBuffer\":[],\"fBinStatErrOpt\":0,\"fStatOverflows\":2,\"fArray\":[0,325,315,306,328,330,916,996,956,984,923,306,336,303,332,344,0]},{\"_typename\":\"TH1F\",\"fUniqueID\":0,\"fBits\":50331656,\"fName\":\"squareWave\",\"fTitle\":\"Square\",\"fLineColor\":1,\"fLineStyle\":1,\"fLineWidth\":1,\"fFillColor\":0,\"fFillStyle\":1001,\"fMarkerColor\":1,\"fMarkerStyle\":1,\"fMarkerSize\":1,\"fNcells\":5,\"fXaxis\":{\"_typename\":\"TAxis\",\"fUniqueID\":0,\"fBits\":50331648,\"fName\":\"xaxis\",\"fTitle\":\" x\",\"fNdivisions\":510,\"fAxisColor\":1,\"fLabelColor\":1,\"fLabelFont\":42,\"fLabelOffset\":0.005,\"fLabelSize\":0.035,\"fTickLength\":0.03,\"fTitleOffset\":1,\"fTitleSize\":0.035,\"fTitleColor\":1,\"fTitleFont\":42,\"fNbins\":3,\"fXmin\":0.5,\"fXmax\":3.5,\"fXbins\":[],\"fFirst\":0,\"fLast\":0,\"fBits2\":0,\"fTimeDisplay\":false,\"fTimeFormat\":\"\",\"fLabels\":null,\"fModLabs\":null},\"fYaxis\":{\"_typename\":\"TAxis\",\"fUniqueID\":0,\"fBits\":50331648,\"fName\":\"yaxis\",\"fTitle\":\" y\",\"fNdivisions\":510,\"fAxisColor\":1,\"fLabelColor\":1,\"fLabelFont\":42,\"fLabelOffset\":0.005,\"fLabelSize\":0.035,\"fTickLength\":0.03,\"fTitleOffset\":0,\"fTitleSize\":0.035,\"fTitleColor\":1,\"fTitleFont\":42,\"fNbins\":1,\"fXmin\":0,\"fXmax\":1,\"fXbins\":[],\"fFirst\":0,\"fLast\":0,\"fBits2\":0,\"fTimeDisplay\":false,\"fTimeFormat\":\"\",\"fLabels\":null,\"fModLabs\":null},\"fZaxis\":{\"_typename\":\"TAxis\",\"fUniqueID\":0,\"fBits\":50331648,\"fName\":\"zaxis\",\"fTitle\":\"\",\"fNdivisions\":510,\"fAxisColor\":1,\"fLabelColor\":1,\"fLabelFont\":42,\"fLabelOffset\":0.005,\"fLabelSize\":0.035,\"fTickLength\":0.03,\"fTitleOffset\":1,\"fTitleSize\":0.035,\"fTitleColor\":1,\"fTitleFont\":42,\"fNbins\":1,\"fXmin\":0,\"fXmax\":1,\"fXbins\":[],\"fFirst\":0,\"fLast\":0,\"fBits2\":0,\"fTimeDisplay\":false,\"fTimeFormat\":\"\",\"fLabels\":null,\"fModLabs\":null},\"fBarOffset\":0,\"fBarWidth\":1000,\"fEntries\":3,\"fTsumw\":0,\"fTsumw2\":0,\"fTsumwx\":0,\"fTsumwx2\":0,\"fMaximum\":-1111,\"fMinimum\":-1111,\"fNormFactor\":0,\"fContour\":[],\"fSumw2\":[0,20480,61440,20480,0],\"fOption\":\"\",\"fFunctions\":{\"_typename\":\"TList\",\"name\":\"TList\",\"arr\":[],\"opt\":[]},\"fBufferSize\":0,\"fBuffer\":[],\"fBinStatErrOpt\":0,\"fStatOverflows\":2,\"fArray\":[0,320,960,320,0]}],\"opt\":[\"\",\"e1\",\"hist same\"]},\"fExecs\":null,\"fName\":\"MyCanvas\",\"fTitle\":\"Test fits\",\"fNumPaletteColor\":0,\"fNextPaletteColor\":0,\"fDISPLAY\":\"$DISPLAY\",\"fDoubleBuffer\":0,\"fRetained\":true,\"fXsizeUser\":0,\"fYsizeUser\":0,\"fXsizeReal\":20,\"fYsizeReal\":15,\"fWindowTopX\":0,\"fWindowTopY\":0,\"fWindowWidth\":0,\"fWindowHeight\":0,\"fCw\":796,\"fCh\":572,\"fCatt\":{\"_typename\":\"TAttCanvas\",\"fXBetween\":2,\"fYBetween\":2,\"fTitleFromTop\":1.2,\"fXdate\":0.2,\"fYdate\":0.3,\"fAdate\":1},\"kMoveOpaque\":true,\"kResizeOpaque\":true,\"fHighLightColor\":2,\"fBatch\":true,\"kShowEventStatus\":false,\"kAutoExec\":true,\"kMenuBar\":true});\n",
       "       Core.draw(\"root_plot_4\", obj, \"\");\n",
       "     }\n",
       " );\n",
       "</script>\n"
      ],
      "text/plain": [
       "<IPython.core.display.HTML object>"
      ]
     },
     "metadata": {},
     "output_type": "display_data"
    }
   ],
   "source": [
    "# now let's fit a constant function to this distribution, i.e. f = C\n",
    "const = TF1(\"const\", \"[0]\", 0.5, 3.5, 1) # the function just has one constant parameter and does not depend on x\n",
    "const.SetParameter(0, 10.) # set the initial guess to 10\n",
    "fitresult = sample_squareWave.Fit(\"const\", \"S\", \"SAME\", 0.5, 3.5)\n",
    "print(\"\\n*** Chi-square sum = {:.1f}, Number of degrees of freedom = {}, ratio = {:.1f}\".format(fitresult.Chi2(), fitresult.Ndf(), fitresult.Chi2()/fitresult.Ndf()))\n",
    "\n",
    "canvas.Draw()"
   ]
  },
  {
   "cell_type": "markdown",
   "metadata": {},
   "source": [
    "Som väntat lägger anpassningen linjen någonstans mellan den nedre och den övre delen av pulsen.\n",
    "Från  utskriften ser ni att $\\chi^2/N_\\rm{DOF}$ är långt ifrån 1, dvs modellen beskriver inte vår data väl.\n",
    "\n",
    "<b> Testa nu att bara anpassa en del av pulsen där en konstant borde ge en bra anpassning.\n",
    "    Räkna ut $\\chi^2/N_\\rm{DOF}$. Är den närmare 1? </b>"
   ]
  },
  {
   "cell_type": "markdown",
   "metadata": {},
   "source": [
    "____________________________________________________________________________\n",
    "### 2.4 Konfigurering av anpassning\n",
    "Default är som sagt att anpassa genom minimering av den viktade minsta-kvadrat-summan ($\\chi^2$). Detta bygger på antagandet att de individuella mätvärdena kommer från normalfördelningar. I vårt fall gäller att de är Poisson-fördelade – men vi vet att Poisson-fördelningen närmar sig normalfördelningen då väntevärdet är stort.\n",
    "\n",
    "Man kan också ge `fitOption = \"L\"` för att göra en sk maximum-likelihood-anpassning. I denna maximeras istället en sannolikhetsfunktion som är lika med en produkt av Poisson-termer där varje faktor representerar antal counts i en bin.\n",
    "\n",
    "Låt oss jämföra de två alternativen med ett exempel. Betrakta en modell som är en rät linje. Vi genererar ett antal event och ritar upp ett histogram som motsvarar observationen av ett experiment. Målet är att mäta linjens lutning genom att göra en anpassning.\n",
    "_______________________________________________________________________________"
   ]
  },
  {
   "cell_type": "code",
   "execution_count": 12,
   "metadata": {
    "scrolled": false
   },
   "outputs": [
    {
     "name": "stdout",
     "output_type": "stream",
     "text": [
      "0.021186108190534347\n",
      "0.20255139442997966\n",
      "\n",
      "Slope least squares = 0.021\n",
      "Slope likelihood = -0.127\n",
      "\n",
      " FCN=10.3169 FROM MIGRAD    STATUS=CONVERGED      30 CALLS          31 TOTAL\n",
      "                     EDM=5.78732e-23    STRATEGY= 1      ERROR MATRIX ACCURATE \n",
      "  EXT PARAMETER                                   STEP         FIRST   \n",
      "  NO.   NAME      VALUE            ERROR          SIZE      DERIVATIVE \n",
      "   1  p0           2.11861e-02   2.02551e-01   1.06982e-04   8.30210e-11\n",
      "   2  p1           1.83060e+00   1.37938e+00   7.28551e-04   1.82865e-11\n",
      " FCN=5.27188 FROM MIGRAD    STATUS=CONVERGED      50 CALLS          51 TOTAL\n",
      "                     EDM=2.96447e-07    STRATEGY= 1      ERROR MATRIX ACCURATE \n",
      "  EXT PARAMETER                                   STEP         FIRST   \n",
      "  NO.   NAME      VALUE            ERROR          SIZE      DERIVATIVE \n",
      "   1  p0          -1.27012e-01   2.94416e-01   1.32875e-04  -5.03233e-03\n",
      "   2  p1           3.82530e+00   2.02965e+00   9.12464e-04  -8.85824e-04\n",
      "                               ERR DEF= 0.5\n"
     ]
    },
    {
     "data": {
      "text/html": [
       "\n",
       "<div id=\"root_plot_5\"\n",
       "     style=\"width: 796px; height: 572px\">\n",
       "</div>\n",
       "\n",
       "<script>\n",
       " requirejs.config({\n",
       "     paths: {\n",
       "       'JSRootCore' : '/static/jsroot//scripts/JSRootCore',\n",
       "     }\n",
       "   });\n",
       " require(['JSRootCore'],\n",
       "     function(Core) {\n",
       "       var obj = Core.JSONR_unref({\"_typename\":\"TCanvas\",\"fUniqueID\":0,\"fBits\":53673992,\"fLineColor\":1,\"fLineStyle\":1,\"fLineWidth\":1,\"fFillColor\":0,\"fFillStyle\":1001,\"fLeftMargin\":0.1,\"fRightMargin\":0.1,\"fBottomMargin\":0.1,\"fTopMargin\":0.1,\"fXfile\":2,\"fYfile\":2,\"fAfile\":1,\"fXstat\":0.99,\"fYstat\":0.99,\"fAstat\":2,\"fFrameFillColor\":0,\"fFrameLineColor\":1,\"fFrameFillStyle\":1001,\"fFrameLineStyle\":1,\"fFrameLineWidth\":1,\"fFrameBorderSize\":1,\"fFrameBorderMode\":0,\"fX1\":2.12499993480742,\"fY1\":-1.1089956113669,\"fX2\":10.8750000651926,\"fY2\":9.98095984128924,\"fXtoAbsPixelk\":-193.314226903016,\"fXtoPixelk\":-193.314226903016,\"fXtoPixel\":90.9714272158486,\"fYtoAbsPixelk\":514.800046590614,\"fYtoPixelk\":514.800046590614,\"fYtoPixel\":-51.5782053807079,\"fUtoAbsPixelk\":5e-5,\"fUtoPixelk\":5e-5,\"fUtoPixel\":796,\"fVtoAbsPixelk\":572.00005,\"fVtoPixelk\":572,\"fVtoPixel\":-572,\"fAbsPixeltoXk\":2.12499993480742,\"fPixeltoXk\":2.12499993480742,\"fPixeltoX\":0.0109924624753583,\"fAbsPixeltoYk\":9.98095984128924,\"fPixeltoYk\":-1.1089956113669,\"fPixeltoY\":-0.0193880340081401,\"fXlowNDC\":0,\"fYlowNDC\":0,\"fXUpNDC\":0,\"fYUpNDC\":0,\"fWNDC\":1,\"fHNDC\":1,\"fAbsXlowNDC\":0,\"fAbsYlowNDC\":0,\"fAbsWNDC\":1,\"fAbsHNDC\":1,\"fUxmin\":3,\"fUymin\":0,\"fUxmax\":10,\"fUymax\":8.87196422992234,\"fTheta\":30,\"fPhi\":30,\"fAspectRatio\":0,\"fNumber\":0,\"fTickx\":0,\"fTicky\":0,\"fLogx\":0,\"fLogy\":0,\"fLogz\":0,\"fPadPaint\":0,\"fCrosshair\":0,\"fCrosshairPos\":0,\"fBorderSize\":2,\"fBorderMode\":0,\"fModified\":false,\"fGridx\":false,\"fGridy\":false,\"fAbsCoord\":false,\"fEditable\":true,\"fFixedAspectRatio\":false,\"fPrimitives\":{\"_typename\":\"TList\",\"name\":\"TList\",\"arr\":[{\"_typename\":\"TFrame\",\"fUniqueID\":0,\"fBits\":50331656,\"fLineColor\":1,\"fLineStyle\":1,\"fLineWidth\":1,\"fFillColor\":0,\"fFillStyle\":1001,\"fX1\":3,\"fY1\":0,\"fX2\":10,\"fY2\":8.87196422992234,\"fBorderSize\":1,\"fBorderMode\":0},{\"_typename\":\"TH1F\",\"fUniqueID\":0,\"fBits\":50331656,\"fName\":\"exp\",\"fTitle\":\"\",\"fLineColor\":602,\"fLineStyle\":1,\"fLineWidth\":1,\"fFillColor\":0,\"fFillStyle\":1001,\"fMarkerColor\":1,\"fMarkerStyle\":1,\"fMarkerSize\":1,\"fNcells\":12,\"fXaxis\":{\"_typename\":\"TAxis\",\"fUniqueID\":0,\"fBits\":50331648,\"fName\":\"xaxis\",\"fTitle\":\" x\",\"fNdivisions\":510,\"fAxisColor\":1,\"fLabelColor\":1,\"fLabelFont\":42,\"fLabelOffset\":0.005,\"fLabelSize\":0.035,\"fTickLength\":0.03,\"fTitleOffset\":1,\"fTitleSize\":0.035,\"fTitleColor\":1,\"fTitleFont\":42,\"fNbins\":10,\"fXmin\":3,\"fXmax\":10,\"fXbins\":[],\"fFirst\":0,\"fLast\":0,\"fBits2\":0,\"fTimeDisplay\":false,\"fTimeFormat\":\"\",\"fLabels\":null,\"fModLabs\":null},\"fYaxis\":{\"_typename\":\"TAxis\",\"fUniqueID\":0,\"fBits\":50331648,\"fName\":\"yaxis\",\"fTitle\":\" Number of events\",\"fNdivisions\":510,\"fAxisColor\":1,\"fLabelColor\":1,\"fLabelFont\":42,\"fLabelOffset\":0.005,\"fLabelSize\":0.035,\"fTickLength\":0.03,\"fTitleOffset\":0,\"fTitleSize\":0.035,\"fTitleColor\":1,\"fTitleFont\":42,\"fNbins\":1,\"fXmin\":0,\"fXmax\":1,\"fXbins\":[],\"fFirst\":0,\"fLast\":0,\"fBits2\":0,\"fTimeDisplay\":false,\"fTimeFormat\":\"\",\"fLabels\":null,\"fModLabs\":null},\"fZaxis\":{\"_typename\":\"TAxis\",\"fUniqueID\":0,\"fBits\":50331648,\"fName\":\"zaxis\",\"fTitle\":\"\",\"fNdivisions\":510,\"fAxisColor\":1,\"fLabelColor\":1,\"fLabelFont\":42,\"fLabelOffset\":0.005,\"fLabelSize\":0.035,\"fTickLength\":0.03,\"fTitleOffset\":1,\"fTitleSize\":0.035,\"fTitleColor\":1,\"fTitleFont\":42,\"fNbins\":1,\"fXmin\":0,\"fXmax\":1,\"fXbins\":[],\"fFirst\":0,\"fLast\":0,\"fBits2\":0,\"fTimeDisplay\":false,\"fTimeFormat\":\"\",\"fLabels\":null,\"fModLabs\":null},\"fBarOffset\":0,\"fBarWidth\":1000,\"fEntries\":30,\"fTsumw\":30,\"fTsumw2\":30,\"fTsumwx\":191.872342693167,\"fTsumwx2\":1319.96195191284,\"fMaximum\":-1111,\"fMinimum\":-1111,\"fNormFactor\":0,\"fContour\":[],\"fSumw2\":[],\"fOption\":\"\",\"fFunctions\":{\"_typename\":\"TList\",\"name\":\"TList\",\"arr\":[{\"_typename\":\"TF1\",\"fUniqueID\":0,\"fBits\":50332680,\"fName\":\"lin\",\"fTitle\":\"[0]*x+[1]\",\"fLineColor\":2,\"fLineStyle\":1,\"fLineWidth\":2,\"fFillColor\":19,\"fFillStyle\":0,\"fMarkerColor\":1,\"fMarkerStyle\":1,\"fMarkerSize\":1,\"fXmin\":3,\"fXmax\":10,\"fNpar\":2,\"fNdim\":1,\"fNpx\":100,\"fType\":0,\"fNpfits\":10,\"fNDF\":8,\"fChisquare\":16.34056262853,\"fMinimum\":-1111,\"fMaximum\":-1111,\"fParErrors\":[0.294415846223286,2.02964983684194],\"fParMin\":[0,0],\"fParMax\":[0,0],\"fSave\":[3.4442669771967,3.43537613896421,3.42648530073171,3.41759446249922,3.40870362426673,3.39981278603424,3.39092194780175,3.38203110956926,3.37314027133677,3.36424943310428,3.35535859487179,3.3464677566393,3.33757691840681,3.32868608017431,3.31979524194182,3.31090440370933,3.30201356547684,3.29312272724435,3.28423188901186,3.27534105077937,3.26645021254688,3.25755937431439,3.2486685360819,3.23977769784941,3.23088685961692,3.22199602138442,3.21310518315193,3.20421434491944,3.19532350668695,3.18643266845446,3.17754183022197,3.16865099198948,3.15976015375699,3.1508693155245,3.14197847729201,3.13308763905952,3.12419680082703,3.11530596259453,3.10641512436204,3.09752428612955,3.08863344789706,3.07974260966457,3.07085177143208,3.06196093319959,3.0530700949671,3.04417925673461,3.03528841850212,3.02639758026963,3.01750674203713,3.00861590380464,2.99972506557215,2.99083422733966,2.98194338910717,2.97305255087468,2.96416171264219,2.9552708744097,2.94638003617721,2.93748919794472,2.92859835971223,2.91970752147974,2.91081668324724,2.90192584501475,2.89303500678226,2.88414416854977,2.87525333031728,2.86636249208479,2.8574716538523,2.84858081561981,2.83968997738732,2.83079913915483,2.82190830092234,2.81301746268984,2.80412662445735,2.79523578622486,2.78634494799237,2.77745410975988,2.76856327152739,2.7596724332949,2.75078159506241,2.74189075682992,2.73299991859743,2.72410908036494,2.71521824213245,2.70632740389995,2.69743656566746,2.68854572743497,2.67965488920248,2.67076405096999,2.6618732127375,2.65298237450501,2.64409153627252,2.63520069804003,2.62630985980754,2.61741902157505,2.60852818334256,2.59963734511006,2.59074650687757,2.58185566864508,2.57296483041259,2.5640739921801,2.55518315394761,3,10],\"fNormalized\":false,\"fNormIntegral\":0,\"fFormula\":{\"_typename\":\"TFormula\",\"fUniqueID\":0,\"fBits\":50332672,\"fName\":\"lin\",\"fTitle\":\"[0]*x+[1]\",\"fClingParameters\":[-0.127011974749869,3.8253029014463],\"fAllParametersSetted\":true,\"fParams\":[{\"$pair\":\"pair<TString,int,TFormulaParamOrder>\",\"first\":\"p0\",\"second\":0},{\"$pair\":\"pair<TString,int,TFormulaParamOrder>\",\"first\":\"p1\",\"second\":1}],\"fFormula\":\"[p0]*x+[p1]\",\"fNdim\":1,\"fLinearParts\":[],\"fVectorized\":false},\"fParams\":null,\"fComposition_ptr\":null},{\"_typename\":\"TPaveStats\",\"fUniqueID\":0,\"fBits\":50331657,\"fLineColor\":1,\"fLineStyle\":1,\"fLineWidth\":1,\"fFillColor\":0,\"fFillStyle\":1001,\"fX1\":8.95000017732382,\"fY1\":7.48571993054289,\"fX2\":10.7000002294779,\"fY2\":9.2601127633071,\"fX1NDC\":0.780000016093254,\"fY1NDC\":0.775000005960464,\"fX2NDC\":0.980000019073486,\"fY2NDC\":0.935000002384186,\"fBorderSize\":1,\"fInit\":1,\"fShadowColor\":1,\"fCornerRadius\":0,\"fOption\":\"brNDC\",\"fName\":\"stats\",\"fTextAngle\":0,\"fTextSize\":0,\"fTextAlign\":12,\"fTextColor\":1,\"fTextFont\":42,\"fLabel\":\"\",\"fLongest\":18,\"fMargin\":0.05,\"fLines\":{\"_typename\":\"TList\",\"name\":\"TList\",\"arr\":[{\"_typename\":\"TLatex\",\"fUniqueID\":0,\"fBits\":50331648,\"fName\":\"\",\"fTitle\":\"exp\",\"fTextAngle\":0,\"fTextSize\":0.0368,\"fTextAlign\":0,\"fTextColor\":0,\"fTextFont\":0,\"fX\":0,\"fY\":0,\"fLineColor\":1,\"fLineStyle\":1,\"fLineWidth\":2,\"fLimitFactorSize\":3,\"fOriginSize\":0.0368000008165836},{\"_typename\":\"TLatex\",\"fUniqueID\":0,\"fBits\":50331648,\"fName\":\"\",\"fTitle\":\"Entries = 30     \",\"fTextAngle\":0,\"fTextSize\":0,\"fTextAlign\":0,\"fTextColor\":0,\"fTextFont\":0,\"fX\":0,\"fY\":0,\"fLineColor\":1,\"fLineStyle\":1,\"fLineWidth\":2,\"fLimitFactorSize\":3,\"fOriginSize\":0.04},{\"_typename\":\"TLatex\",\"fUniqueID\":0,\"fBits\":50331648,\"fName\":\"\",\"fTitle\":\"Mean  =  6.396\",\"fTextAngle\":0,\"fTextSize\":0,\"fTextAlign\":0,\"fTextColor\":0,\"fTextFont\":0,\"fX\":0,\"fY\":0,\"fLineColor\":1,\"fLineStyle\":1,\"fLineWidth\":2,\"fLimitFactorSize\":3,\"fOriginSize\":0.04},{\"_typename\":\"TLatex\",\"fUniqueID\":0,\"fBits\":50331648,\"fName\":\"\",\"fTitle\":\"Std Dev   =  1.759\",\"fTextAngle\":0,\"fTextSize\":0,\"fTextAlign\":0,\"fTextColor\":0,\"fTextFont\":0,\"fX\":0,\"fY\":0,\"fLineColor\":1,\"fLineStyle\":1,\"fLineWidth\":2,\"fLimitFactorSize\":3,\"fOriginSize\":0.04}],\"opt\":[\"\",\"\",\"\",\"\"]},\"fOptFit\":0,\"fOptStat\":1111,\"fFitFormat\":\"5.4g\",\"fStatFormat\":\"6.4g\",\"fParent\":{\"$ref\":3}}],\"opt\":[\"\",\"brNDC\"]},\"fBufferSize\":0,\"fBuffer\":[],\"fBinStatErrOpt\":0,\"fStatOverflows\":2,\"fArray\":[0,1,2,6,6,3,1,4,3,1,3,0]},{\"_typename\":\"TF1\",\"fUniqueID\":0,\"fBits\":50332680,\"fName\":\"linLeastSquares\",\"fTitle\":\"[0]*x+[1]\",\"fLineColor\":600,\"fLineStyle\":1,\"fLineWidth\":2,\"fFillColor\":19,\"fFillStyle\":0,\"fMarkerColor\":1,\"fMarkerStyle\":1,\"fMarkerSize\":1,\"fXmin\":3,\"fXmax\":10,\"fNpar\":2,\"fNdim\":1,\"fNpx\":100,\"fType\":0,\"fNpfits\":10,\"fNDF\":8,\"fChisquare\":10.3169284851148,\"fMinimum\":-1111,\"fMaximum\":-1111,\"fParErrors\":[0.20255139442998,1.37937753091564],\"fParMin\":[0,0],\"fParMax\":[0,0],\"fSave\":[1.89415577282347,1.89563880039681,1.89712182797015,1.89860485554349,1.90008788311682,1.90157091069016,1.9030539382635,1.90453696583684,1.90601999341017,1.90750302098351,1.90898604855685,1.91046907613019,1.91195210370352,1.91343513127686,1.9149181588502,1.91640118642354,1.91788421399687,1.91936724157021,1.92085026914355,1.92233329671689,1.92381632429022,1.92529935186356,1.9267823794369,1.92826540701023,1.92974843458357,1.93123146215691,1.93271448973025,1.93419751730358,1.93568054487692,1.93716357245026,1.9386466000236,1.94012962759693,1.94161265517027,1.94309568274361,1.94457871031695,1.94606173789028,1.94754476546362,1.94902779303696,1.9505108206103,1.95199384818363,1.95347687575697,1.95495990333031,1.95644293090365,1.95792595847698,1.95940898605032,1.96089201362366,1.962375041197,1.96385806877033,1.96534109634367,1.96682412391701,1.96830715149034,1.96979017906368,1.97127320663702,1.97275623421036,1.97423926178369,1.97572228935703,1.97720531693037,1.97868834450371,1.98017137207704,1.98165439965038,1.98313742722372,1.98462045479706,1.98610348237039,1.98758650994373,1.98906953751707,1.99055256509041,1.99203559266374,1.99351862023708,1.99500164781042,1.99648467538376,1.99796770295709,1.99945073053043,2.00093375810377,2.00241678567711,2.00389981325044,2.00538284082378,2.00686586839712,2.00834889597045,2.00983192354379,2.01131495111713,2.01279797869047,2.0142810062638,2.01576403383714,2.01724706141048,2.01873008898382,2.02021311655715,2.02169614413049,2.02317917170383,2.02466219927717,2.0261452268505,2.02762825442384,2.02911128199718,2.03059430957052,2.03207733714385,2.03356036471719,2.03504339229053,2.03652641986387,2.0380094474372,2.03949247501054,2.04097550258388,2.04245853015721,3,10],\"fNormalized\":false,\"fNormIntegral\":0,\"fFormula\":{\"_typename\":\"TFormula\",\"fUniqueID\":0,\"fBits\":50332672,\"fName\":\"lin\",\"fTitle\":\"[0]*x+[1]\",\"fClingParameters\":[0.0211861081905343,1.83059744825187],\"fAllParametersSetted\":true,\"fParams\":[{\"$pair\":\"pair<TString,int,TFormulaParamOrder>\",\"first\":\"p0\",\"second\":0},{\"$pair\":\"pair<TString,int,TFormulaParamOrder>\",\"first\":\"p1\",\"second\":1}],\"fFormula\":\"[p0]*x+[p1]\",\"fNdim\":1,\"fLinearParts\":[],\"fVectorized\":false},\"fParams\":null,\"fComposition_ptr\":null}],\"opt\":[\"\",\"e1\",\"SAME\"]},\"fExecs\":null,\"fName\":\"MyCanvas\",\"fTitle\":\"Test fits\",\"fNumPaletteColor\":0,\"fNextPaletteColor\":0,\"fDISPLAY\":\"$DISPLAY\",\"fDoubleBuffer\":0,\"fRetained\":true,\"fXsizeUser\":0,\"fYsizeUser\":0,\"fXsizeReal\":20,\"fYsizeReal\":15,\"fWindowTopX\":0,\"fWindowTopY\":0,\"fWindowWidth\":0,\"fWindowHeight\":0,\"fCw\":796,\"fCh\":572,\"fCatt\":{\"_typename\":\"TAttCanvas\",\"fXBetween\":2,\"fYBetween\":2,\"fTitleFromTop\":1.2,\"fXdate\":0.2,\"fYdate\":0.3,\"fAdate\":1},\"kMoveOpaque\":true,\"kResizeOpaque\":true,\"fHighLightColor\":2,\"fBatch\":true,\"kShowEventStatus\":false,\"kAutoExec\":true,\"kMenuBar\":true});\n",
       "       Core.draw(\"root_plot_5\", obj, \"\");\n",
       "     }\n",
       " );\n",
       "</script>\n"
      ],
      "text/plain": [
       "<IPython.core.display.HTML object>"
      ]
     },
     "metadata": {},
     "output_type": "display_data"
    }
   ],
   "source": [
    "# a simple straight-line model, y = kx + m\n",
    "xlow = 3.; xup = 10.\n",
    "fmodel = TF1(\"lin\", \"[0]*x+[1]\", xlow, xup)\n",
    "# set initial parameter values\n",
    "fmodel.SetParameters(1., 1.)\n",
    "# create a histogram\n",
    "hist = TH1F(\"exp\", \"; x; Number of events\", 10, xlow, xup)\n",
    "n = 30\n",
    "hist.FillRandom(\"lin\", n) # fill histogram with n randomly generated numbers from the function\n",
    "\n",
    "# fit with the default least squares method\n",
    "fitresult = hist.Fit(\"lin\", \"S\", \"e1\") # store fit results using fit option \"S\"\n",
    "\n",
    "# get parameters and their uncertainties\n",
    "print(fitresult.Parameter(0))\n",
    "print(fitresult.ParError(0))\n",
    "\n",
    "# save the function and draw it again in blue (to prevent it from disappearing when drawing the same function again later)\n",
    "fresultLeastSquares = hist.GetFunction(\"lin\").Clone(\"linLeastSquares\") # Clone() creates a copy of the function\n",
    "fresultLeastSquares.SetLineColor(kBlue)\n",
    "fresultLeastSquares.Draw(\"SAME\")\n",
    "print(\"\\nSlope least squares = {:.3f}\".format(fresultLeastSquares.GetParameter(0)))\n",
    "\n",
    "# re-run the fit, this time with option \"L\". The resulting curve is shown in red\n",
    "hist.Fit(\"lin\", \"L\", \"e1 SAME\")\n",
    "print(\"Slope likelihood = {:.3f}\\n\".format(hist.GetFunction(\"lin\").GetParameter(0)))\n",
    "canvas.Draw()"
   ]
  },
  {
   "cell_type": "markdown",
   "metadata": {},
   "source": [
    "_______________________________________________________________\n",
    "#### Som ni ser får vi inte samma lutning med de olika alternativen för anpassning. Testa vad som händer om ni ökar antalet event i histogrammet. Förklara."
   ]
  },
  {
   "cell_type": "markdown",
   "metadata": {},
   "source": [
    "### 2.5 Definiera egna funktioner\n",
    "____________________________________________________________________"
   ]
  },
  {
   "cell_type": "code",
   "execution_count": 14,
   "metadata": {},
   "outputs": [
    {
     "data": {
      "image/png": "[encoded data removed]",
      "text/plain": [
       "<IPython.core.display.Image object>"
      ]
     },
     "metadata": {},
     "output_type": "display_data"
    }
   ],
   "source": [
    "# define your own function, starting with a*(x-b)^2\n",
    "\n",
    "# alternative 1: write the formula as a string using \"TFormula\"-syntax\n",
    "f1 = TF1(\"f1\", \"[0]*(x-[1])*(x-[1])\", -10., 10.) # [i] represent parameters, the last two arguments are the range for the function\n",
    "\n",
    "# alternative 2: write with already existing functions (pre-defined eller user defined)\n",
    "f2 = TF1(\"f2\", \"gaus + f1\", -10., 10.)\n",
    "\n",
    "# alternative 3: using your own python function\n",
    "def myfunc(x, params):\n",
    "    x = x[0]\n",
    "    a = params[0]; b = params[1]\n",
    "    return a*(x-b)**2\n",
    "f3 = TF1(\"f3\", myfunc, -10., 10., 2) # the last argument specifies the number of parameters\n",
    "\n",
    "# set parameter values\n",
    "f1.SetParameters(1., 2.)\n",
    "f2.SetParameters(100., -2., 4., 1., 2.) # the first three parameters are for the Gaussian, the last for the f1 function\n",
    "f3.SetParameters(1., 3.)\n",
    "\n",
    "# set limits for the parameters (that they are forced to stay inside) Useful to fitting\n",
    "f1.SetParLimits(0, -3., 5.) # parameter0 must lie inside [-3., 5.] \n",
    "\n",
    "# colors for drawing\n",
    "f1.SetLineColor(kBlue)\n",
    "f2.SetLineColor(kBlack)\n",
    "f3.SetLineColor(kRed)\n",
    "\n",
    "# draw\n",
    "f1.Draw()\n",
    "f2.Draw(\"SAME\")\n",
    "f3.Draw(\"SAME\")\n",
    "canvas.Draw()"
   ]
  },
  {
   "cell_type": "markdown",
   "metadata": {},
   "source": [
    "___________________________________________________"
   ]
  },
  {
   "cell_type": "markdown",
   "metadata": {},
   "source": [
    "### 2.6 Rita en legend\n",
    "Generellt ska figurer ha en \"legend\" som visar vad de olika uppritade kurvorna/datapunkterna representerar. Nedan följer ett exempel. Se [dokumentationen för klassen TLegend](https://root.cern.ch/doc/master/classTLegend.html) för ytterligare dokumentation.\n",
    "_________________________________________________________________________________"
   ]
  },
  {
   "cell_type": "code",
   "execution_count": null,
   "metadata": {},
   "outputs": [],
   "source": [
    "# create the legend object\n",
    "leg = TLegend(0.55, 0.6, 0.88, 0.88) # the arguments are x1,y1,x2,y2-coordinates, given as fraction of canvas\n",
    "\n",
    "# add the curves we drew above to the legend. Syntax is TLegend::AddEntry(drawn_object, title, plot_style)\n",
    "leg.AddEntry(f1, \"Parabola, defined with TFormula\", \"l\") # here \"l\" (small L) represents \"line\"\n",
    "leg.AddEntry(f2, \"Parabola + Gaussian\", \"l\")\n",
    "leg.AddEntry(f3, \"Parabola, user defined\", \"l\") # had we drawn a histogram we could used \"p\" \n",
    "\n",
    "# make legend prettier (see below)\n",
    "# ...\n",
    "\n",
    "# draw legend\n",
    "leg.Draw()\n",
    "canvas.Draw()"
   ]
  },
  {
   "cell_type": "markdown",
   "metadata": {},
   "source": [
    "Se till att texten i legenden inte är för liten. Detta kan styras med `leg.SetTextSize(x)` där `x` är andel av canvas-storleken. Kanten kan tas bort med `leg.SetLegendBorderSize(0)`. Ändra i kodblocket ovan för att göra legenden snyggare.\n",
    "_______________________________________________________________"
   ]
  },
  {
   "cell_type": "markdown",
   "metadata": {},
   "source": [
    "\n",
    "### Besvara följande frågor. Ni kommer att behöva dem för att i rapporten förklara hur anpassningen görs. \n",
    "* För histogram som ritats med något av `e`-alternativen har osäkerheter på varje datapunkt. ROOT har automatiskt räknat ut osäkerheterna... hur då?\n",
    "* Vad bestämmer osäkerheten på de anpassade parametrarna? Hur kan de minskas?\n",
    "* ROOT anpassar per default med den sk viktade minsta-kvadrat-metoden ($\\chi^2$-anpassning). När är detta korrekt? Vad händer om vi anpassar med option `\"L\"`?\n",
    "\n",
    "Nu är ni redo för huvuduppgiften, att mäta massan på $Z^0$-partikeln - gå vidare till [3-TheTask-ZbosonMass](3-TheTask-ZbosonMass.ipynb)!"
   ]
  }
 ],
 "metadata": {
  "kernelspec": {
   "display_name": "Python 3",
   "language": "python",
   "name": "python3"
  },
  "language_info": {
   "codemirror_mode": {
    "name": "ipython",
    "version": 3
   },
   "file_extension": ".py",
   "mimetype": "text/x-python",
   "name": "python",
   "nbconvert_exporter": "python",
   "pygments_lexer": "ipython3",
   "version": "3.6.6"
  }
 },
 "nbformat": 4,
 "nbformat_minor": 2
}
