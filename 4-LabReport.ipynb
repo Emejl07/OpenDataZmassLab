{
 "cells": [
  {
   "cell_type": "markdown",
   "metadata": {},
   "source": [
    "## <CENTER>  [SWE] Labbrapport\n",
    "   "
   ]
  },
  {
   "cell_type": "markdown",
   "metadata": {},
   "source": [
    "Ni ska skriva en fullständig rapport. Mycket information om att skriva en bra rapport (se t.ex. checklistan) finns redan i föreläsningsmaterialet, som hittas på Canvas-sidan. \n",
    "Här följer några specifika saker att tänka gällande denna labb:\n",
    "* Tänk att mottagare är en kurskamrat som inte gjort labben. Denne ska alltså kunna läsa och förstå vad ni gjort och varför.\n",
    "* Förklara från var data kommer.\n",
    "* Förklara kort hur ATLAS-detektorn är uppbyggd och hur olika partiklar kan identifieras.\n",
    "* Förklara hur data filtreras (görs några snitt i data?) för att hitta $Z$-bosoner. Kräver också en kort genomgång av $Z$-bosonen (livslängd, sönderfall...)\n",
    "* Glöm inte att alla figurer och tabeller ska ha en tillhörande bild-/tabelltext och ska refereras till i själva rapporttexten.\n",
    "* Förklara noga hur invariant-massa-distributionen ritas upp och hur anpassningen görs. Vilken funktion anpassas? Vad har använts för att modellera sidbanden på sidan om själva toppen?\n",
    "* Presentera era resultat, gärna i tabellform, tillsammans med referensvärden. Stämmer de överens (inom osäkerhetsmarginaler)? Om ja, bra! Om nej, varför inte? Diskutera."
   ]
  },
  {
   "cell_type": "markdown",
   "metadata": {},
   "source": [
    "## <center> [ENG] Lab report"
   ]
  },
  {
   "cell_type": "markdown",
   "metadata": {},
   "source": [
    "You should write a report describing the lab and your results. Here are a few things to remember\n",
    "* Write the report as if a fellow student that have not done the lab is the reader. She should be able to understand what you have done, why and how.\n",
    "* Explain from where you get your data.\n",
    "* Describe how the ATLAS detector works and how it is used to detect different particles.\n",
    "* Explain how the data is filtered (are any cuts made in the data?) to find $Z$ boson candidates. This will require a description of the $Z$ boson itself. \n",
    "* All figures and tables must be labelled with a caption, and referred to in the main text.\n",
    "* Explain in detail how the invariant mass distribution is constructed and how the fit is done. What function is used? Did you use any particular model to fit the sidebands.\n",
    "* Present your results, preferably in a table, together with reference values. Do they agree? If yes, good! If no, try to explain why. Discuss."
   ]
  }
 ],
 "metadata": {
  "kernelspec": {
   "display_name": "Python 3",
   "language": "python",
   "name": "python3"
  },
  "language_info": {
   "codemirror_mode": {
    "name": "ipython",
    "version": 3
   },
   "file_extension": ".py",
   "mimetype": "text/x-python",
   "name": "python",
   "nbconvert_exporter": "python",
   "pygments_lexer": "ipython3",
   "version": "3.7.0"
  }
 },
 "nbformat": 4,
 "nbformat_minor": 2
}
