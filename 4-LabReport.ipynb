{
 "cells": [
  {
   "cell_type": "markdown",
   "metadata": {},
   "source": [
    "## <CENTER>  Labbrapport\n",
    "\n",
    "Ni ska skriva en komplett rapport enligt instruktionerna i introduktionsföreläsningarna (finns tillgängliga i canvas). Se till att figurer har tydliga storheter och enheter på axlarna, att angivna numeriska värden har rimligt antal signifikanta siffror och enheter, och att ni korrekturläst texten en gång innan ni lämnar in. \n",
    "\n",
    "Nedan följer specifikationer vad som ska ingå för kort och vad som tillkommer för lång rapport. Kom ihåg att **markera tydligt** om er rapport ska bedömas som kort eller lång rapport!\n",
    "\n",
    "### Kort rapport\n",
    "* **K1**: Tänk att läsaren är en kurskamrat som inte har gjort labben. Denne ska alltså kunna läsa och förstå vad ni gjort och varför, och vilka resultat ni kommit fram till.\n",
    "* **K2**: Förklara varifrån mätdatan kommer\n",
    "* **K3**: Körde ni över all tillgänglig mätdata? Varför eller varför inte?\n",
    "* **K4**: Förklara kort hur ATLAS-detektorn är uppbyggd och hur olika partiklar kan identifieras.\n",
    "* **K5**: Förklara hur data filtreras (görs några snitt i data?) för att hitta $Z$-bosoner. Kräver också en kort genomgång av $Z$-bosonen (livslängd, sönderfall...)\n",
    "* **K6**: Glöm inte att alla figurer och tabeller ska ha en tillhörande bild-/tabelltext och ska refereras till i själva rapporttexten.\n",
    "* **K7**: Förklara noga hur den invarianta massan beräknas, ritas upp och hur anpassningen görs. Vilken funktion anpassas? Gjordes några försök för att modellera bakgrunden, dvs mätdatan vid sidan av själva toppen?\n",
    "* **K8**: Presentera resultaten, gärna i tabellform tillsammans med referensvärden. Stämmer era observerade värden med vad som förväntass (inom osäkerhetsmarginaler)? Om ja, bra! Om nej, varför inte? Diskutera.\n",
    "\n",
    "### Lång rapport\n",
    "Ni som skriver lång rapport på denna labb ska *utöver instruktionerna ovan* förklara ingående detaljer kring den statistiska dataanalysen. Frågor som bör besvaras:\n",
    "* **L1**: Vilka olika funktioner provade ni för att beskriva distributionen för den invarianta massan? Vilka fungerade bättre och vilka fungerade sämre? Diskutera eventuella anledningar ni tror kan ge förklaring.\n",
    "* **L2**: Provade ni att göra anpassningen över olika intervall av distributionen? Om ja, kunde ni dra några slutsatser av detta?\n",
    "* **L3**: Hur väl bestämdes de fria parametrarna på den valda modellfunktionen? Vad innebär det om osäkerheten på en anpassad parameter är litet?\n",
    "* **L4**: Hur bedömer ni kvaliteten på er slutgiltiga anpassning? Hur påverkas kvaliteten på anpassningen av hur mycket mätdata ni processar? Varför?\n",
    "\n",
    "Bifoga gärna koden för övning 3 som innehåller er loop över kollisionerna och koden för att rita figurerna och göra anpassningarna.\n",
    "\n",
    "Om ni har några frågor om vad som ska ingå i rapporten får ni gärna höra av er!\n",
    "\n",
    "Hälsningar,\n",
    "Christian Ohm (chohm@kth.se)"
   ]
  }
 ],
 "metadata": {
  "kernelspec": {
   "display_name": "Python 3",
   "language": "python",
   "name": "python3"
  },
  "language_info": {
   "codemirror_mode": {
    "name": "ipython",
    "version": 3
   },
   "file_extension": ".py",
   "mimetype": "text/x-python",
   "name": "python",
   "nbconvert_exporter": "python",
   "pygments_lexer": "ipython3",
   "version": "3.6.6"
  }
 },
 "nbformat": 4,
 "nbformat_minor": 2
}
