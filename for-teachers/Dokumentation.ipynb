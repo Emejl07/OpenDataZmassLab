{
 "cells": [
  {
   "cell_type": "markdown",
   "metadata": {},
   "source": [
    "Labben använder jupyter notebooks som körs via Docker.\n",
    "Docker finns tillgängligt för alla med ett Docker-konto (gratis) i 4-timmars-sessioner på http://play-with-docker.com/. \n",
    "På denna sida har man tillgång till en Virtual Machine som har Docker.\n",
    "Man kan också installera Docker själv, via https://www.docker.com/get-started."
   ]
  },
  {
   "cell_type": "markdown",
   "metadata": {},
   "source": [
    "### Labbmaterial (jupyter notebooks)"
   ]
  },
  {
   "cell_type": "markdown",
   "metadata": {},
   "source": [
    "Labbmaterialet består av jupyter notebooks som finns på följande github: https://github.com/sidebo/sh1015-opendatalab "
   ]
  },
  {
   "cell_type": "markdown",
   "metadata": {},
   "source": [
    "### Docker-images"
   ]
  },
  {
   "cell_type": "markdown",
   "metadata": {},
   "source": [
    "### 1) jupyter med pyROOT \n",
    "Jag har byggt en Docker-image som kickar igång en jupyter-server med python och ROOT, så att man köra ROOT eller python-länkat-mot-ROOT.\n",
    "Docker-image finns här: https://hub.docker.com/r/pedwink/pyroot-notebook/.\n",
    "Det är en enkel Dockerfil som bygger vidare på rootproject/root-fedora, som har pyROOT.\n",
    "Allt min Docker-image gör är att ovanpå detta installera jupyter. \n",
    "Imagen byggs om automatiskt (automated build) om det tillhörande github-projektet uppdateras: https://github.com/sidebo/docker-pyroot-notebook.\n",
    "(där finns alltså Docker-filen)\n"
   ]
  },
  {
   "cell_type": "markdown",
   "metadata": {},
   "source": [
    "### 2) jupyter-med-pyROOT + labbmaterial"
   ]
  },
  {
   "cell_type": "markdown",
   "metadata": {},
   "source": [
    "För att studenterna ska slippa ladda upp material själva byggde jag en ytterligare enkel Docker-image med två ingredienser: 1) ovanstående pyroot-notebook-build (för tillgång till notebook-miljön) och 2) labbmaterialet (i form av notebooks).\n",
    "Den finns här: https://hub.docker.com/r/pedwink/opendatalab/.\n",
    "Tanken var att använda olika taggar för olika versioner av labben (se fliken \"Tags\").\n",
    "Jag döpte taggen vi använde för första omgången av labben (SH1015) till  \"sh1015-HT18\".\n",
    "Man kör alltså igång den med kommando `docker run -p 8080:8080 pedwink/opendatalab:sh1015-HT18` (detta är kommandot studenterna använde för att starta upp labben, se nedan).\n",
    "\n",
    "Dockerfilen ser helt enkelt ut så här:"
   ]
  },
  {
   "cell_type": "code",
   "execution_count": null,
   "metadata": {},
   "outputs": [],
   "source": [
    "FROM pedwink/pyroot-notebook\n",
    "# pyroot-notebook already has the notebook infrastructure set up. We just need the notebooks, stored at github\n",
    "RUN git clone https://github.com/sidebo/sh1015-opendatalab.git"
   ]
  },
  {
   "cell_type": "markdown",
   "metadata": {},
   "source": [
    "Med denna Docker-fil (den ska bara heta `Dockerfile`) i en mapp kan man från mappen bygga imagen `opendatalab` så här:\n",
    "\n",
    "`docker build --rm -t opendatalab .`\n",
    "\n",
    "För att sedan pusha den till en repository gör man något i stil med\n",
    "\n",
    "`docker login\n",
    "docker tag opendatalab <username>/opendatalab:tag\n",
    "docker push <username>/opendatalab:tag`"
   ]
  },
  {
   "cell_type": "markdown",
   "metadata": {},
   "source": [
    "Om man vill göra en ny version av labben kan man alltså göra följande:\n",
    "* Klona github-projektet https://github.com/sidebo/sh1015-opendatalab.git, lägg upp det på er egen repository, gör era ändringar.\n",
    "* Gör en ny Docker-image med detta ny labbmaterial med tvåraders-Dockerfilen ovan, där ni ersatt github-repon med er nya."
   ]
  },
  {
   "cell_type": "markdown",
   "metadata": {},
   "source": [
    "### 3) jupyter-med-pyROOT + labbmaterial + facit/lösningsförslag (för lärare)"
   ]
  },
  {
   "cell_type": "markdown",
   "metadata": {},
   "source": [
    "En annan Docker image innehåller också lösningsförslag, vilket kan vara användbart för oss lärare. Den finns på `pedwink/opendatalab:sh1015-HT18-teachers`. Det finns ingen automated build för denna för tillfället, så den blir utdaterad vid uppdatering av labbmaterialet."
   ]
  },
  {
   "cell_type": "markdown",
   "metadata": {},
   "source": [
    "### Labbinstruktioner"
   ]
  },
  {
   "cell_type": "markdown",
   "metadata": {},
   "source": [
    "I SH1015, HT18, använde vi följande labbinstruktioner (finns på Canvas https://kth.instructure.com/courses/7164/pages/om-laborationen-matning-av-z0-partikelns-massa):"
   ]
  },
  {
   "cell_type": "markdown",
   "metadata": {},
   "source": [
    "<i> I laborationen används öppna data från ATLAS-experimentet på CERN där man från sönderfallsprodukter och lämpliga urval av egenskaper hos sönderfallen kan  bestämma Z0-partikelns massa. Detta görs på liknande sätt som när Higgs-partikeln hittades, men statistiken är för låg för att se en tydligt Higgs-signal.\n",
    "\n",
    "Att göra innan labbtillfället: följ instruktionerna nedan och gå igenom notebooks 0-2.\n",
    "För att starta labben:\n",
    "\n",
    "1) Vi använder Docker för att få tillgång till programvara och labbmaterial. Ni kommer att behöva ett Docker-konto, gå till https://hub.docker.com/ och registrera er.\n",
    "\n",
    "2) För att starta programmet kan ni antingen\n",
    "* <b> Funkar på valfri dator:</b> Gå till https://labs.play-with-docker.com, helst i Chrome. Logga in med ert skapade Docker-konto. Tryck \"ADD NEW INSTANCE\" för att få upp en terminal. Ni kommer vara begränsade till sessioner om 4 timmar.\n",
    "* <b>Om ni använder egen dator:</b> själva ladda hem och installera Docker (börja på https://www.docker.com/get-started (Länkar till en externa sida.)Länkar till en externa sida.). Efter ni installerat och startat programmet öppnar ni en terminal/CMD och skriver \"docker login\" och anger era uppgifter.\n",
    "\n",
    "3) I terminalen, skriv in “docker run -p 8080:8080 pedwink/opendatalab:sh1015-HT18\" (detta kommando laddar ner och startar upp programvara som ska användas, det tar en liten stund)\n",
    "\n",
    "4) Klicka på “8080”-knappen som dykt upp längst upp (alternativt om ni använder egen dator, öppna localhost:8080 i webbläsare). Ni kommer till en inloggningssida. För att logga in måste ni kopiera in ett lösenord (det som står efter “token=”) som skrivits ut i terminalen. \n",
    "\n",
    "5) När ni loggat in ser ni en mapp som heter “sh1015-opendatalab”. Klicka på den, klicka er sedan vidare till “the-exercise”. Väl inne i den ser ni filer på formen “X-Labbmoment…ipynb”. Ni jobbar i dessa så kallade notebooks. Resten av instruktionerna finns där. Gör dem i tur och ordning. Lycka till!\n",
    "\n",
    "I slutet av labben:\n",
    "1) Ladda ner figurer ni gjort och era förändrade notebooks genom att markera boxarna t. vänster. Ni bör få upp “Download” som alternativ högre upp. (Ni kan behöva “stoppa” notebooken om den körs.)\n",
    "2) Om ni sedan vill jobba vidare på labben hemifrån, starta servern på samma sätt som ni gjorde första gången, tryck sedan på “Upload” för att ladda upp de notebooks ni sparade.\n",
    "\n",
    "OBS: De ändringar ni gör i notebooks försvinner när servern stängs ner! Ladda ner notebooksen för att senare kunna ladda upp dem och fortsätta där ni slutade. </i>"
   ]
  },
  {
   "cell_type": "markdown",
   "metadata": {},
   "source": [
    "### jupyterhub"
   ]
  },
  {
   "cell_type": "markdown",
   "metadata": {},
   "source": [
    "Jag försökte få igång jupyterhub på gluino, med målet att kunna köra labben direkt i webbläsaren utan Docker.\n",
    "Installerade python3 och jupyter via linuxbrew, ROOT från source. \n",
    "Fick aldrig servern att fungera helt och hållet.\n",
    "Om man loggar in på gluino och kör följande bash-script"
   ]
  },
  {
   "cell_type": "code",
   "execution_count": null,
   "metadata": {},
   "outputs": [],
   "source": [
    "echo \"-----> Adding /home/linuxbrew/.linuxbrew/bin and sbin to PATH, at the BEGINNING of PATH\"\n",
    "PATH=\"/home/linuxbrew/.linuxbrew/bin:/home/linuxbrew/.linuxbrew/sbin:$PATH\"\n",
    "echo \"-----> sourcing /opt/root-61404/bin/thisroot.sh\"\n",
    "source /opt/root-61404/bin/thisroot.sh"
   ]
  },
  {
   "cell_type": "markdown",
   "metadata": {},
   "source": [
    "får man tillgång till jupyter med pyROOT (testa med `jupyter-notebook`).\n",
    "jupyterhub kan man sedan starta igång med \n",
    "\n",
    "`cd /etc/jupyterhub/\n",
    "source launchhub.sh`\n",
    "\n",
    "som då kör på addressen https://gluino.particle.kth.se. \n",
    "Konton på gluino kan logga in.\n",
    "Har använt open-ssl för att göra nyckelpar och certifikat, dock har jag från IT-avdelningen fått sådana som ligger i /etc/jupyterhub/kth-cert/. \n",
    "Genom att konfigurera /etc/jupyterhub/jupyter_config.py att istället använda kth-cert kommer man slippa behöva acceptera en \"osäker\" anslutning. \n",
    "\n",
    "Dock kraschar servern om fler än en användare loggar in då man helt enkelt får `Service unavailable`. \n",
    "Vet inte vad som är fel, jupyterhub ger felkod 503, som jag inte undersökt närmare:\n",
    "\n",
    "`16:22:00.031 - error: [ConfigProxy] 503 POST /hub/login?next= socket hang up\n",
    "[psidebo@gluino jupyterhub]$ 16:22:00.035 - error: [ConfigProxy] Failed to get custom error page message=connect ECONNREFUSED 127.0.0.1:8081, stack=Error: connect ECONNREFUSED 127.0.0.1:8081\n",
    "    at TCPConnectWrap.afterConnect [as oncomplete] (net.js:1113:14), errno=ECONNREFUSED, code=ECONNREFUSED, syscall=connect, address=127.0.0.1, port=8081`\n",
    "    \n",
    "\n",
    "Gjorde en issue på github där jag nu fått ett svar från vad jag tror är jupyterhub-skaparen, har dock inte undersökt det vidare: https://github.com/jupyterhub/jupyterhub/issues/2242\n",
    "\n",
    "Ett ytterligare problem med servern är att man på huben inte har tillgång till `ROOT`, trots att man har det vid single-user användande (`jupyter-notebook`). Vet heller inte vad som är fel där. "
   ]
  },
  {
   "cell_type": "code",
   "execution_count": null,
   "metadata": {},
   "outputs": [],
   "source": []
  }
 ],
 "metadata": {
  "kernelspec": {
   "display_name": "Python 3",
   "language": "python",
   "name": "python3"
  },
  "language_info": {
   "codemirror_mode": {
    "name": "ipython",
    "version": 3
   },
   "file_extension": ".py",
   "mimetype": "text/x-python",
   "name": "python",
   "nbconvert_exporter": "python",
   "pygments_lexer": "ipython3",
   "version": "3.7.0"
  }
 },
 "nbformat": 4,
 "nbformat_minor": 2
}
