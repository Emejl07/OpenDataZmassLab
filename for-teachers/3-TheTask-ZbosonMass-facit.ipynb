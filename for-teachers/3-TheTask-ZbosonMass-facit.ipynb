{
 "cells": [
  {
   "cell_type": "markdown",
   "metadata": {},
   "source": [
    "## <CENTER>  Mätning av $Z$-bosonens massa med ATLAS-data"
   ]
  },
  {
   "cell_type": "markdown",
   "metadata": {},
   "source": [
    "### Börja med att hämta datan och ladda in de i ROOT-träd."
   ]
  },
  {
   "cell_type": "code",
   "execution_count": 1,
   "metadata": {},
   "outputs": [
    {
     "name": "stdout",
     "output_type": "stream",
     "text": [
      "Welcome to JupyROOT 6.14/04\n"
     ]
    }
   ],
   "source": [
    "import ROOT"
   ]
  },
  {
   "cell_type": "code",
   "execution_count": 2,
   "metadata": {},
   "outputs": [],
   "source": [
    "# Leta på följande webbadress, där ni bör hitta två filer, en för händelser med elektroner och en för myoner\n",
    "# http://opendata.atlas.cern/release/samples\n",
    "data_file_electrons = ROOT.TFile.Open(\"http://opendata.atlas.cern/release/samples/Data/DataEgamma.root\")\n",
    "data_file_electrons_simulation = ROOT.TFile.Open(\"http://opendata.atlas.cern/release/samples/MC/mc_147770.Zee.root\")\n",
    "data_file_muons = ROOT.TFile.Open(\"http://opendata.atlas.cern/release/samples/Data/DataMuons.root\")\n",
    "data_file_muons_simulation = ROOT.TFile.Open(\"http://opendata.atlas.cern/release/samples/MC/mc_147771.Zmumu.root\")"
   ]
  },
  {
   "cell_type": "code",
   "execution_count": 3,
   "metadata": {},
   "outputs": [],
   "source": [
    "# Ladda in i träd (TFile::ls() kan användas för att lista filens innehåll)\n",
    "tree_electrons = data_file_electrons.Get(\"mini\")\n",
    "tree_electrons_simulation = data_file_electrons_simulation.Get(\"mini\")\n",
    "tree_muons = data_file_muons.Get(\"mini\")\n",
    "tree_muons_simulation = data_file_muons_simulation.Get(\"mini\")"
   ]
  },
  {
   "cell_type": "code",
   "execution_count": 4,
   "metadata": {},
   "outputs": [
    {
     "name": "stdout",
     "output_type": "stream",
     "text": [
      "******************************************************************************\n",
      "*Tree    :mini      : 4-vectors + variables required for scaling factors     *\n",
      "*Entries :  7500000 : Total =      2134734070 bytes  File  Size =  966057844 *\n",
      "*        :          : Tree compression factor =   2.21                       *\n",
      "******************************************************************************\n",
      "*Br    0 :runNumber : runNumber/I                                            *\n",
      "*Entries :  7500000 : Total  Size=   30006369 bytes  File Size  =     152653 *\n",
      "*Baskets :       63 : Basket Size=     808960 bytes  Compression= 196.56     *\n",
      "*............................................................................*\n",
      "*Br    1 :eventNumber : eventNumber/I                                        *\n",
      "*Entries :  7500000 : Total  Size=   30006503 bytes  File Size  =   16864535 *\n",
      "*Baskets :       63 : Basket Size=     808960 bytes  Compression=   1.78     *\n",
      "*............................................................................*\n",
      "*Br    2 :channelNumber : channelNumber/I                                    *\n",
      "*Entries :  7500000 : Total  Size=   30006637 bytes  File Size  =     152905 *\n",
      "*Baskets :       63 : Basket Size=     808960 bytes  Compression= 196.23     *\n",
      "*............................................................................*\n",
      "*Br    3 :mcWeight  : mcWeight/F                                             *\n",
      "*Entries :  7500000 : Total  Size=   30006302 bytes  File Size  =   17450564 *\n",
      "*Baskets :       63 : Basket Size=     808960 bytes  Compression=   1.72     *\n",
      "*............................................................................*\n",
      "*Br    4 :pvxp_n    : pvxp_n/I                                               *\n",
      "*Entries :  7500000 : Total  Size=   30006168 bytes  File Size  =    6797884 *\n",
      "*Baskets :       63 : Basket Size=     808960 bytes  Compression=   4.41     *\n",
      "*............................................................................*\n",
      "*Br    5 :vxp_z     : vxp_z/F                                                *\n",
      "*Entries :  7500000 : Total  Size=   30006101 bytes  File Size  =   27871732 *\n",
      "*Baskets :       63 : Basket Size=     808960 bytes  Compression=   1.08     *\n",
      "*............................................................................*\n",
      "*Br    6 :scaleFactor_PILEUP : scaleFactor_PILEUP/F                          *\n",
      "*Entries :  7500000 : Total  Size=   30006972 bytes  File Size  =    2007112 *\n",
      "*Baskets :       63 : Basket Size=     808960 bytes  Compression=  14.95     *\n",
      "*............................................................................*\n",
      "*Br    7 :scaleFactor_ELE : scaleFactor_ELE/F                                *\n",
      "*Entries :  7500000 : Total  Size=   30006771 bytes  File Size  =   18190282 *\n",
      "*Baskets :       63 : Basket Size=     808960 bytes  Compression=   1.65     *\n",
      "*............................................................................*\n",
      "*Br    8 :scaleFactor_MUON : scaleFactor_MUON/F                              *\n",
      "*Entries :  7500000 : Total  Size=   30006838 bytes  File Size  =     450217 *\n",
      "*Baskets :       63 : Basket Size=     808960 bytes  Compression=  66.65     *\n",
      "*............................................................................*\n",
      "*Br    9 :scaleFactor_BTAG : scaleFactor_BTAG/F                              *\n",
      "*Entries :  7500000 : Total  Size=   30006838 bytes  File Size  =   14053069 *\n",
      "*Baskets :       63 : Basket Size=     808960 bytes  Compression=   2.14     *\n",
      "*............................................................................*\n",
      "*Br   10 :scaleFactor_TRIGGER : scaleFactor_TRIGGER/F                        *\n",
      "*Entries :  7500000 : Total  Size=   30007039 bytes  File Size  =   18422368 *\n",
      "*Baskets :       63 : Basket Size=     808960 bytes  Compression=   1.63     *\n",
      "*............................................................................*\n",
      "*Br   11 :scaleFactor_JVFSF : scaleFactor_JVFSF/F                            *\n",
      "*Entries :  7500000 : Total  Size=   30006905 bytes  File Size  =     153032 *\n",
      "*Baskets :       63 : Basket Size=     808960 bytes  Compression= 196.07     *\n",
      "*............................................................................*\n",
      "*Br   12 :scaleFactor_ZVERTEX : scaleFactor_ZVERTEX/F                        *\n",
      "*Entries :  7500000 : Total  Size=   30007039 bytes  File Size  =   14123690 *\n",
      "*Baskets :       63 : Basket Size=     808960 bytes  Compression=   2.12     *\n",
      "*............................................................................*\n",
      "*Br   13 :trigE     : trigE/O                                                *\n",
      "*Entries :  7500000 : Total  Size=    7546023 bytes  File Size  =      85107 *\n",
      "*Baskets :      497 : Basket Size=      15872 bytes  Compression=  88.54     *\n",
      "*............................................................................*\n",
      "*Br   14 :trigM     : trigM/O                                                *\n",
      "*Entries :  7500000 : Total  Size=    7546023 bytes  File Size  =      89933 *\n",
      "*Baskets :      497 : Basket Size=      15872 bytes  Compression=  83.79     *\n",
      "*............................................................................*\n",
      "*Br   15 :passGRL   : passGRL/O                                              *\n",
      "*Entries :  7500000 : Total  Size=    7547025 bytes  File Size  =      85940 *\n",
      "*Baskets :      497 : Basket Size=      15872 bytes  Compression=  87.70     *\n",
      "*............................................................................*\n",
      "*Br   16 :hasGoodVertex : hasGoodVertex/O                                    *\n",
      "*Entries :  7500000 : Total  Size=    7550031 bytes  File Size  =     486816 *\n",
      "*Baskets :      497 : Basket Size=      15872 bytes  Compression=  15.49     *\n",
      "*............................................................................*\n",
      "*Br   17 :lep_n     : lep_n/i                                                *\n",
      "*Entries :  7500000 : Total  Size=   30006101 bytes  File Size  =    3118041 *\n",
      "*Baskets :       63 : Basket Size=     808960 bytes  Compression=   9.62     *\n",
      "*............................................................................*\n",
      "*Br   18 :lep_truthMatched : lep_truthMatched[lep_n]/O                       *\n",
      "*Entries :  7500000 : Total  Size=   41641777 bytes  File Size  =   12066422 *\n",
      "*Baskets :      125 : Basket Size=     808960 bytes  Compression=   3.45     *\n",
      "*............................................................................*\n",
      "*Br   19 :lep_trigMatched : lep_trigMatched[lep_n]/s                         *\n",
      "*Entries :  7500000 : Total  Size=   53269228 bytes  File Size  =   14640066 *\n",
      "*Baskets :      126 : Basket Size=     808960 bytes  Compression=   3.64     *\n",
      "*............................................................................*\n",
      "*Br   20 :lep_pt    : lep_pt[lep_n]/F                                        *\n",
      "*Entries :  7500000 : Total  Size=   76529260 bytes  File Size  =   51727096 *\n",
      "*Baskets :      188 : Basket Size=     808960 bytes  Compression=   1.48     *\n",
      "*............................................................................*\n",
      "*Br   21 :lep_eta   : lep_eta[lep_n]/F                                       *\n",
      "*Entries :  7500000 : Total  Size=   76529452 bytes  File Size  =   53826429 *\n",
      "*Baskets :      188 : Basket Size=     808960 bytes  Compression=   1.42     *\n",
      "*............................................................................*\n",
      "*Br   22 :lep_phi   : lep_phi[lep_n]/F                                       *\n",
      "*Entries :  7500000 : Total  Size=   76529452 bytes  File Size  =   53731856 *\n",
      "*Baskets :      188 : Basket Size=     808960 bytes  Compression=   1.42     *\n",
      "*............................................................................*\n",
      "*Br   23 :lep_E     : lep_E[lep_n]/F                                         *\n",
      "*Entries :  7500000 : Total  Size=   76529068 bytes  File Size  =   52157297 *\n",
      "*Baskets :      188 : Basket Size=     808960 bytes  Compression=   1.47     *\n",
      "*............................................................................*\n",
      "*Br   24 :lep_z0    : lep_z0[lep_n]/F                                        *\n",
      "*Entries :  7500000 : Total  Size=   76529260 bytes  File Size  =   54073355 *\n",
      "*Baskets :      188 : Basket Size=     808960 bytes  Compression=   1.42     *\n",
      "*............................................................................*\n",
      "*Br   25 :lep_charge : lep_charge[lep_n]/F                                   *\n",
      "*Entries :  7500000 : Total  Size=   76530028 bytes  File Size  =   15643819 *\n",
      "*Baskets :      188 : Basket Size=     808960 bytes  Compression=   4.89     *\n",
      "*............................................................................*\n",
      "*Br   26 :lep_type  : lep_type[lep_n]/i                                      *\n",
      "*Entries :  7500000 : Total  Size=   76529637 bytes  File Size  =   11046889 *\n",
      "*Baskets :      188 : Basket Size=     808960 bytes  Compression=   6.93     *\n",
      "*............................................................................*\n",
      "*Br   27 :lep_flag  : lep_flag[lep_n]/i                                      *\n",
      "*Entries :  7500000 : Total  Size=   76529637 bytes  File Size  =   21070837 *\n",
      "*Baskets :      188 : Basket Size=     808960 bytes  Compression=   3.63     *\n",
      "*............................................................................*\n",
      "*Br   28 :lep_ptcone30 : lep_ptcone30[lep_n]/F                               *\n",
      "*Entries :  7500000 : Total  Size=   76530412 bytes  File Size  =   26568297 *\n",
      "*Baskets :      188 : Basket Size=     808960 bytes  Compression=   2.88     *\n",
      "*............................................................................*\n",
      "*Br   29 :lep_etcone20 : lep_etcone20[lep_n]/F                               *\n",
      "*Entries :  7500000 : Total  Size=   76530412 bytes  File Size  =   53298378 *\n",
      "*Baskets :      188 : Basket Size=     808960 bytes  Compression=   1.44     *\n",
      "*............................................................................*\n",
      "*Br   30 :lep_trackd0pvunbiased : lep_trackd0pvunbiased[lep_n]/F             *\n",
      "*Entries :  7500000 : Total  Size=   76532140 bytes  File Size  =   54112082 *\n",
      "*Baskets :      188 : Basket Size=     808960 bytes  Compression=   1.41     *\n",
      "*............................................................................*\n",
      "*Br   31 :lep_tracksigd0pvunbiased : lep_tracksigd0pvunbiased[lep_n]/F       *\n",
      "*Entries :  7500000 : Total  Size=   76532716 bytes  File Size  =   51551681 *\n",
      "*Baskets :      188 : Basket Size=     808960 bytes  Compression=   1.48     *\n",
      "*............................................................................*\n",
      "*Br   32 :met_et    : met_et/F                                               *\n",
      "*Entries :  7500000 : Total  Size=   30006168 bytes  File Size  =   26919495 *\n",
      "*Baskets :       63 : Basket Size=     808960 bytes  Compression=   1.11     *\n",
      "*............................................................................*\n",
      "*Br   33 :met_phi   : met_phi/F                                              *\n",
      "*Entries :  7500000 : Total  Size=   30006235 bytes  File Size  =   27805880 *\n",
      "*Baskets :       63 : Basket Size=     808960 bytes  Compression=   1.08     *\n",
      "*............................................................................*\n",
      "*Br   34 :jet_n     : jet_n/i                                                *\n",
      "*Entries :  7500000 : Total  Size=   30006101 bytes  File Size  =    4188287 *\n",
      "*Baskets :       63 : Basket Size=     808960 bytes  Compression=   7.16     *\n",
      "*............................................................................*\n",
      "*Br   35 :alljet_n  : alljet_n/i                                             *\n",
      "*Entries :  7500000 : Total  Size=   30006302 bytes  File Size  =    4446992 *\n",
      "*Baskets :       63 : Basket Size=     808960 bytes  Compression=   6.75     *\n",
      "*............................................................................*\n",
      "*Br   36 :jet_pt    : jet_pt[alljet_n]/F                                     *\n",
      "*Entries :  7500000 : Total  Size=   55115322 bytes  File Size  =   30128817 *\n",
      "*Baskets :      126 : Basket Size=     808960 bytes  Compression=   1.83     *\n",
      "*............................................................................*\n",
      "*Br   37 :jet_eta   : jet_eta[alljet_n]/F                                    *\n",
      "*Entries :  7500000 : Total  Size=   55115452 bytes  File Size  =   31068560 *\n",
      "*Baskets :      126 : Basket Size=     808960 bytes  Compression=   1.77     *\n",
      "*............................................................................*\n",
      "*Br   38 :jet_phi   : jet_phi[alljet_n]/F                                    *\n",
      "*Entries :  7500000 : Total  Size=   55115452 bytes  File Size  =   31128460 *\n",
      "*Baskets :      126 : Basket Size=     808960 bytes  Compression=   1.77     *\n",
      "*............................................................................*\n",
      "*Br   39 :jet_E     : jet_E[alljet_n]/F                                      *\n",
      "*Entries :  7500000 : Total  Size=   55115192 bytes  File Size  =   30305052 *\n",
      "*Baskets :      126 : Basket Size=     808960 bytes  Compression=   1.82     *\n",
      "*............................................................................*\n",
      "*Br   40 :jet_m     : jet_m[alljet_n]/F                                      *\n",
      "*Entries :  7500000 : Total  Size=   55115192 bytes  File Size  =   30102708 *\n",
      "*Baskets :      126 : Basket Size=     808960 bytes  Compression=   1.83     *\n",
      "*............................................................................*\n",
      "*Br   41 :jet_jvf   : jet_jvf[alljet_n]/F                                    *\n",
      "*Entries :  7500000 : Total  Size=   55115452 bytes  File Size  =   26725836 *\n",
      "*Baskets :      126 : Basket Size=     808960 bytes  Compression=   2.06     *\n",
      "*............................................................................*\n",
      "*Br   42 :jet_trueflav : jet_trueflav[alljet_n]/I                            *\n",
      "*Entries :  7500000 : Total  Size=   55116095 bytes  File Size  =    9620773 *\n",
      "*Baskets :      126 : Basket Size=     808960 bytes  Compression=   5.73     *\n",
      "*............................................................................*\n",
      "*Br   43 :jet_truthMatched : jet_truthMatched[alljet_n]/I                    *\n",
      "*Entries :  7500000 : Total  Size=   55116615 bytes  File Size  =    9826796 *\n",
      "*Baskets :      126 : Basket Size=     808960 bytes  Compression=   5.61     *\n",
      "*............................................................................*\n",
      "*Br   44 :jet_SV0   : jet_SV0[alljet_n]/F                                    *\n",
      "*Entries :  7500000 : Total  Size=   55115452 bytes  File Size  =    9638925 *\n",
      "*Baskets :      126 : Basket Size=     808960 bytes  Compression=   5.72     *\n",
      "*............................................................................*\n",
      "*Br   45 :jet_MV1   : jet_MV1[alljet_n]/F                                    *\n",
      "*Entries :  7500000 : Total  Size=   55115452 bytes  File Size  =   28016793 *\n",
      "*Baskets :      126 : Basket Size=     808960 bytes  Compression=   1.97     *\n",
      "*............................................................................*\n"
     ]
    }
   ],
   "source": [
    "tree_electrons_simulation.Print()"
   ]
  },
  {
   "cell_type": "markdown",
   "metadata": {},
   "source": [
    "### Funktioner för invariant massa"
   ]
  },
  {
   "cell_type": "code",
   "execution_count": 5,
   "metadata": {},
   "outputs": [],
   "source": [
    "def getInvMass(lep1_pt, lep1_eta, lep1_phi, lep2_pt, lep2_eta, lep2_phi):\n",
    "    ''' räkna ut invarianta massan med formeln i Introduktions-notboken (antar masslösa partiklar) '''\n",
    "    import math\n",
    "    msq = 2*lep1_pt*lep2_pt*(math.cosh(lep1_eta-lep2_eta) - math.cos(lep1_phi-lep2_phi))\n",
    "    return math.sqrt(msq)"
   ]
  },
  {
   "cell_type": "code",
   "execution_count": 6,
   "metadata": {},
   "outputs": [],
   "source": [
    "def getInvMassTL(lep1_pt, lep1_eta, lep1_phi, lep1_e, lep2_pt, lep2_eta, lep2_phi, lep2_e):\n",
    "    ''' räkna ut invarianta massan med TLorentzVectors '''\n",
    "    lep1=ROOT.TLorentzVector()\n",
    "    lep2=ROOT.TLorentzVector()\n",
    "    lep1.SetPtEtaPhiE(lep1_pt, lep1_eta, lep1_phi, lep1_e)\n",
    "    lep2.SetPtEtaPhiE(lep2_pt, lep2_eta, lep2_phi, lep2_e)\n",
    "    invmass=lep1+lep2\n",
    "    return invmass.M()"
   ]
  },
  {
   "cell_type": "markdown",
   "metadata": {},
   "source": [
    "### Funktion för att analysera event"
   ]
  },
  {
   "cell_type": "code",
   "execution_count": 7,
   "metadata": {},
   "outputs": [],
   "source": [
    "# funktion för att analysera event\n",
    "def analyseEvt(evt, hmass, particle_type):\n",
    "    if evt.lep_n != 2: return\n",
    "    if not (evt.lep_type[0]==particle_type and evt.lep_type[1]==particle_type): return \n",
    "    if (evt.lep_charge[0] + evt.lep_charge[1]) != 0: return\n",
    "    # passed all cuts, fill histogram\n",
    "    hmass.Fill(getInvMass(evt.lep_pt[0]*1e-3, evt.lep_eta[0], evt.lep_phi[0], evt.lep_pt[1]*1e-3, evt.lep_eta[1], evt.lep_phi[1]))"
   ]
  },
  {
   "cell_type": "markdown",
   "metadata": {},
   "source": [
    "### Förbered histogram"
   ]
  },
  {
   "cell_type": "code",
   "execution_count": 8,
   "metadata": {},
   "outputs": [],
   "source": [
    "# Definiera binnar\n",
    "nbins=50\n",
    "lowedge=30.\n",
    "upedge=150.\n",
    "# histogram för elektron-händelser och myon-händelser\n",
    "h_mass_electrons = ROOT.TH1F(\"h_mass_electrons\", \"; Invariant mass [GeV]; Number of events\", nbins, lowedge, upedge)\n",
    "h_mass_muons = ROOT.TH1F(\"h_mass_muons\", \"; Invariant mass [GeV]; Number of events\", nbins, lowedge, upedge)\n",
    "h_mass_electrons_simulation = ROOT.TH1F(\"h_mass_electrons_simulation\", \"; Invariant mass [GeV]; Number of events\", nbins, lowedge, upedge)\n",
    "h_mass_muons_simulation = ROOT.TH1F(\"h_mass_muons_simulation\", \"; Invariant mass [GeV]; Number of events\", nbins, lowedge, upedge)\n",
    "# Sätt annan färg på myon-histogrammen\n",
    "h_mass_muons_simulation.SetLineColor(ROOT.kRed)\n",
    "h_mass_muons.SetLineColor(ROOT.kRed)\n",
    "# Sätt dashed stil på simulerad\n",
    "h_mass_electrons_simulation.SetMarkerStyle(5)\n",
    "h_mass_electrons_simulation.SetLineStyle(9)\n",
    "h_mass_muons_simulation.SetLineStyle(9)\n",
    "h_mass_muons_simulation.SetMarkerStyle(5)"
   ]
  },
  {
   "cell_type": "markdown",
   "metadata": {},
   "source": [
    "### Kör event-loopen, fyll histogram"
   ]
  },
  {
   "cell_type": "code",
   "execution_count": 9,
   "metadata": {},
   "outputs": [],
   "source": [
    "# Loopa över alla händelser, räkna ut den invarianta massan av elektron-positron-par och myon-antimyon-par\n",
    "# Detta kan t.ex. göras med hjälp av ROOT-klassen TLorentzVector eller genom att skriva en egen funktion.\n",
    "# Fyll histogram med den invarianta massan.\n",
    "# Använd vad ni lärde dig i första Introduktion-notebook.\n",
    "# Nu tittar ni på data, så varje händelse kommer inte att innehålla en Z-boson.\n",
    "# Ni måste själva sortera ut de händelser som har de karakteristiska drag man förväntar sig för Z-bosoner.\n",
    "\n",
    "nevents=4000*7\n",
    "for ievt in range(nevents):\n",
    "    tree_electrons.GetEntry(ievt)\n",
    "    tree_muons.GetEntry(ievt)\n",
    "\n",
    "    analyseEvt(tree_electrons, h_mass_electrons, 11) # 11 and 13 are electrons and muons, respectively\n",
    "    analyseEvt(tree_muons, h_mass_muons,     13) # 11 and 13 are electrons and muons, respectively    \n",
    "    ievt += 1\n",
    "    "
   ]
  },
  {
   "cell_type": "code",
   "execution_count": 10,
   "metadata": {},
   "outputs": [],
   "source": [
    "# Gör samma sak för MC, så kan vi rita upp den med\n",
    "nevents=4000\n",
    "for ievt in range(nevents):\n",
    "    tree_electrons_simulation.GetEntry(ievt)\n",
    "    tree_muons_simulation.GetEntry(ievt)\n",
    "\n",
    "    analyseEvt(tree_electrons_simulation, h_mass_electrons_simulation, 11) # 11 and 13 are electrons and muons, respectively\n",
    "    analyseEvt(tree_muons_simulation, h_mass_muons_simulation,     13) # 11 and 13 are electrons and muons, respectively    \n",
    "    ievt += 1"
   ]
  },
  {
   "cell_type": "markdown",
   "metadata": {},
   "source": [
    "### Prepare plotting"
   ]
  },
  {
   "cell_type": "code",
   "execution_count": 11,
   "metadata": {},
   "outputs": [],
   "source": [
    "%jsroot on"
   ]
  },
  {
   "cell_type": "code",
   "execution_count": 12,
   "metadata": {},
   "outputs": [],
   "source": [
    "canvas = ROOT.TCanvas(\"canvas\", \"\", 800, 600)"
   ]
  },
  {
   "cell_type": "markdown",
   "metadata": {},
   "source": [
    "### Jämför invariant-mass-peak för elektroner och myoner"
   ]
  },
  {
   "cell_type": "code",
   "execution_count": 13,
   "metadata": {},
   "outputs": [
    {
     "data": {
      "text/html": [
       "\n",
       "<div id=\"root_plot_1\"\n",
       "     style=\"width: 796px; height: 572px\">\n",
       "</div>\n",
       "\n",
       "<script>\n",
       " requirejs.config({\n",
       "     paths: {\n",
       "       'JSRootCore' : 'https://root.cern.ch/js/notebook//scripts/JSRootCore',\n",
       "     }\n",
       "   });\n",
       " require(['JSRootCore'],\n",
       "     function(Core) {\n",
       "       var obj = Core.JSONR_unref({\"_typename\":\"TCanvas\",\"fUniqueID\":0,\"fBits\":53673992,\"fLineColor\":1,\"fLineStyle\":1,\"fLineWidth\":1,\"fFillColor\":0,\"fFillStyle\":1001,\"fLeftMargin\":0.1,\"fRightMargin\":0.1,\"fBottomMargin\":0.1,\"fTopMargin\":0.1,\"fXfile\":2,\"fYfile\":2,\"fAfile\":1,\"fXstat\":0.99,\"fYstat\":0.99,\"fAstat\":2,\"fFrameFillColor\":0,\"fFrameLineColor\":1,\"fFrameFillStyle\":1001,\"fFrameLineStyle\":1,\"fFrameLineWidth\":1,\"fFrameBorderSize\":1,\"fFrameBorderMode\":0,\"fX1\":14.9999988824128,\"fY1\":-70.0357020388739,\"fX2\":165.000001117587,\"fY2\":630.321276605334,\"fXtoAbsPixelk\":-79.5999428832051,\"fXtoPixelk\":-79.5999428832051,\"fXtoPixel\":5.30666658759117,\"fYtoAbsPixelk\":514.800046590614,\"fYtoPixelk\":514.800046590614,\"fYtoPixel\":-0.816726351620442,\"fUtoAbsPixelk\":5e-5,\"fUtoPixelk\":5e-5,\"fUtoPixel\":796,\"fVtoAbsPixelk\":572.00005,\"fVtoPixelk\":572,\"fVtoPixel\":-572,\"fAbsPixeltoXk\":14.9999988824128,\"fPixeltoXk\":14.9999988824128,\"fPixeltoX\":0.188442213863284,\"fAbsPixeltoYk\":630.321276605334,\"fPixeltoYk\":-70.0357020388739,\"fPixeltoY\":-1.22440031231505,\"fXlowNDC\":0,\"fYlowNDC\":0,\"fXUpNDC\":0,\"fYUpNDC\":0,\"fWNDC\":1,\"fHNDC\":1,\"fAbsXlowNDC\":0,\"fAbsYlowNDC\":0,\"fAbsWNDC\":1,\"fAbsHNDC\":1,\"fUxmin\":30,\"fUymin\":0,\"fUxmax\":150,\"fUymax\":560.28557456646,\"fTheta\":30,\"fPhi\":30,\"fAspectRatio\":0,\"fNumber\":0,\"fTickx\":0,\"fTicky\":0,\"fLogx\":0,\"fLogy\":0,\"fLogz\":0,\"fPadPaint\":0,\"fCrosshair\":0,\"fCrosshairPos\":0,\"fBorderSize\":2,\"fBorderMode\":0,\"fModified\":false,\"fGridx\":false,\"fGridy\":false,\"fAbsCoord\":false,\"fEditable\":true,\"fFixedAspectRatio\":false,\"fPrimitives\":{\"_typename\":\"TList\",\"name\":\"TList\",\"arr\":[{\"_typename\":\"TFrame\",\"fUniqueID\":0,\"fBits\":50331656,\"fLineColor\":1,\"fLineStyle\":1,\"fLineWidth\":1,\"fFillColor\":0,\"fFillStyle\":1001,\"fX1\":30,\"fY1\":0,\"fX2\":150,\"fY2\":560.28557456646,\"fBorderSize\":1,\"fBorderMode\":0},{\"_typename\":\"TH1F\",\"fUniqueID\":0,\"fBits\":50331656,\"fName\":\"h_mass_electrons_simulation\",\"fTitle\":\"\",\"fLineColor\":602,\"fLineStyle\":9,\"fLineWidth\":1,\"fFillColor\":0,\"fFillStyle\":1001,\"fMarkerColor\":1,\"fMarkerStyle\":5,\"fMarkerSize\":1,\"fNcells\":52,\"fXaxis\":{\"_typename\":\"TAxis\",\"fUniqueID\":0,\"fBits\":50331648,\"fName\":\"xaxis\",\"fTitle\":\" Invariant mass [GeV]\",\"fNdivisions\":510,\"fAxisColor\":1,\"fLabelColor\":1,\"fLabelFont\":42,\"fLabelOffset\":0.005,\"fLabelSize\":0.035,\"fTickLength\":0.03,\"fTitleOffset\":1,\"fTitleSize\":0.035,\"fTitleColor\":1,\"fTitleFont\":42,\"fNbins\":50,\"fXmin\":30,\"fXmax\":150,\"fXbins\":[],\"fFirst\":0,\"fLast\":0,\"fBits2\":0,\"fTimeDisplay\":false,\"fTimeFormat\":\"\",\"fLabels\":null,\"fModLabs\":null},\"fYaxis\":{\"_typename\":\"TAxis\",\"fUniqueID\":0,\"fBits\":50331648,\"fName\":\"yaxis\",\"fTitle\":\" Number of events\",\"fNdivisions\":510,\"fAxisColor\":1,\"fLabelColor\":1,\"fLabelFont\":42,\"fLabelOffset\":0.005,\"fLabelSize\":0.035,\"fTickLength\":0.03,\"fTitleOffset\":0,\"fTitleSize\":0.035,\"fTitleColor\":1,\"fTitleFont\":42,\"fNbins\":1,\"fXmin\":0,\"fXmax\":1,\"fXbins\":[],\"fFirst\":0,\"fLast\":0,\"fBits2\":0,\"fTimeDisplay\":false,\"fTimeFormat\":\"\",\"fLabels\":null,\"fModLabs\":null},\"fZaxis\":{\"_typename\":\"TAxis\",\"fUniqueID\":0,\"fBits\":50331648,\"fName\":\"zaxis\",\"fTitle\":\"\",\"fNdivisions\":510,\"fAxisColor\":1,\"fLabelColor\":1,\"fLabelFont\":42,\"fLabelOffset\":0.005,\"fLabelSize\":0.035,\"fTickLength\":0.03,\"fTitleOffset\":1,\"fTitleSize\":0.035,\"fTitleColor\":1,\"fTitleFont\":42,\"fNbins\":1,\"fXmin\":0,\"fXmax\":1,\"fXbins\":[],\"fFirst\":0,\"fLast\":0,\"fBits2\":0,\"fTimeDisplay\":false,\"fTimeFormat\":\"\",\"fLabels\":null,\"fModLabs\":null},\"fBarOffset\":0,\"fBarWidth\":1000,\"fEntries\":2096,\"fTsumw\":2080,\"fTsumw2\":2080,\"fTsumwx\":182445.793641871,\"fTsumwx2\":16217135.9108367,\"fMaximum\":-1111,\"fMinimum\":-1111,\"fNormFactor\":0,\"fContour\":[],\"fSumw2\":[],\"fOption\":\"\",\"fFunctions\":{\"_typename\":\"TList\",\"name\":\"TList\",\"arr\":[{\"_typename\":\"TPaveStats\",\"fUniqueID\":0,\"fBits\":50331657,\"fLineColor\":1,\"fLineStyle\":1,\"fLineWidth\":1,\"fFillColor\":0,\"fFillStyle\":1001,\"fX1\":132.000003039837,\"fY1\":472.74096058484,\"fX2\":162.000003933907,\"fY2\":584.798074663242,\"fX1NDC\":0.780000016093254,\"fY1NDC\":0.775000005960464,\"fX2NDC\":0.980000019073486,\"fY2NDC\":0.935000002384186,\"fBorderSize\":1,\"fInit\":1,\"fShadowColor\":1,\"fCornerRadius\":0,\"fOption\":\"brNDC\",\"fName\":\"stats\",\"fTextAngle\":0,\"fTextSize\":0,\"fTextAlign\":12,\"fTextColor\":1,\"fTextFont\":42,\"fLabel\":\"\",\"fLongest\":27,\"fMargin\":0.05,\"fLines\":{\"_typename\":\"TList\",\"name\":\"TList\",\"arr\":[{\"_typename\":\"TLatex\",\"fUniqueID\":0,\"fBits\":50331648,\"fName\":\"\",\"fTitle\":\"h_mass_electrons_simulation\",\"fTextAngle\":0,\"fTextSize\":0.0368,\"fTextAlign\":0,\"fTextColor\":0,\"fTextFont\":0,\"fX\":0,\"fY\":0,\"fLineColor\":1,\"fLineStyle\":1,\"fLineWidth\":2,\"fLimitFactorSize\":3,\"fOriginSize\":0.0368000008165836},{\"_typename\":\"TLatex\",\"fUniqueID\":0,\"fBits\":50331648,\"fName\":\"\",\"fTitle\":\"Entries = 2096   \",\"fTextAngle\":0,\"fTextSize\":0,\"fTextAlign\":0,\"fTextColor\":0,\"fTextFont\":0,\"fX\":0,\"fY\":0,\"fLineColor\":1,\"fLineStyle\":1,\"fLineWidth\":2,\"fLimitFactorSize\":3,\"fOriginSize\":0.04},{\"_typename\":\"TLatex\",\"fUniqueID\":0,\"fBits\":50331648,\"fName\":\"\",\"fTitle\":\"Mean  =  87.71\",\"fTextAngle\":0,\"fTextSize\":0,\"fTextAlign\":0,\"fTextColor\":0,\"fTextFont\":0,\"fX\":0,\"fY\":0,\"fLineColor\":1,\"fLineStyle\":1,\"fLineWidth\":2,\"fLimitFactorSize\":3,\"fOriginSize\":0.04},{\"_typename\":\"TLatex\",\"fUniqueID\":0,\"fBits\":50331648,\"fName\":\"\",\"fTitle\":\"Std Dev   =  10.14\",\"fTextAngle\":0,\"fTextSize\":0,\"fTextAlign\":0,\"fTextColor\":0,\"fTextFont\":0,\"fX\":0,\"fY\":0,\"fLineColor\":1,\"fLineStyle\":1,\"fLineWidth\":2,\"fLimitFactorSize\":3,\"fOriginSize\":0.04}],\"opt\":[\"\",\"\",\"\",\"\"]},\"fOptFit\":0,\"fOptStat\":1111,\"fFitFormat\":\"5.4g\",\"fStatFormat\":\"6.4g\",\"fParent\":{\"$ref\":3}}],\"opt\":[\"brNDC\"]},\"fBufferSize\":0,\"fBuffer\":[],\"fBinStatErrOpt\":0,\"fStatOverflows\":2,\"fArray\":[1,0,1,0,4,7,6,9,10,7,7,7,7,10,9,9,8,11,18,21,26,33,77,156,256,454,511,245,79,28,18,8,9,6,6,2,2,0,1,2,0,1,2,2,1,0,0,1,2,0,1,15]},{\"_typename\":\"TH1F\",\"fUniqueID\":0,\"fBits\":50331656,\"fName\":\"h_mass_muons_simulation\",\"fTitle\":\"\",\"fLineColor\":632,\"fLineStyle\":9,\"fLineWidth\":1,\"fFillColor\":0,\"fFillStyle\":1001,\"fMarkerColor\":1,\"fMarkerStyle\":5,\"fMarkerSize\":1,\"fNcells\":52,\"fXaxis\":{\"_typename\":\"TAxis\",\"fUniqueID\":0,\"fBits\":50331648,\"fName\":\"xaxis\",\"fTitle\":\" Invariant mass [GeV]\",\"fNdivisions\":510,\"fAxisColor\":1,\"fLabelColor\":1,\"fLabelFont\":42,\"fLabelOffset\":0.005,\"fLabelSize\":0.035,\"fTickLength\":0.03,\"fTitleOffset\":1,\"fTitleSize\":0.035,\"fTitleColor\":1,\"fTitleFont\":42,\"fNbins\":50,\"fXmin\":30,\"fXmax\":150,\"fXbins\":[],\"fFirst\":0,\"fLast\":0,\"fBits2\":0,\"fTimeDisplay\":false,\"fTimeFormat\":\"\",\"fLabels\":null,\"fModLabs\":null},\"fYaxis\":{\"_typename\":\"TAxis\",\"fUniqueID\":0,\"fBits\":50331648,\"fName\":\"yaxis\",\"fTitle\":\" Number of events\",\"fNdivisions\":510,\"fAxisColor\":1,\"fLabelColor\":1,\"fLabelFont\":42,\"fLabelOffset\":0.005,\"fLabelSize\":0.035,\"fTickLength\":0.03,\"fTitleOffset\":0,\"fTitleSize\":0.035,\"fTitleColor\":1,\"fTitleFont\":42,\"fNbins\":1,\"fXmin\":0,\"fXmax\":1,\"fXbins\":[],\"fFirst\":0,\"fLast\":0,\"fBits2\":0,\"fTimeDisplay\":false,\"fTimeFormat\":\"\",\"fLabels\":null,\"fModLabs\":null},\"fZaxis\":{\"_typename\":\"TAxis\",\"fUniqueID\":0,\"fBits\":50331648,\"fName\":\"zaxis\",\"fTitle\":\"\",\"fNdivisions\":510,\"fAxisColor\":1,\"fLabelColor\":1,\"fLabelFont\":42,\"fLabelOffset\":0.005,\"fLabelSize\":0.035,\"fTickLength\":0.03,\"fTitleOffset\":1,\"fTitleSize\":0.035,\"fTitleColor\":1,\"fTitleFont\":42,\"fNbins\":1,\"fXmin\":0,\"fXmax\":1,\"fXbins\":[],\"fFirst\":0,\"fLast\":0,\"fBits2\":0,\"fTimeDisplay\":false,\"fTimeFormat\":\"\",\"fLabels\":null,\"fModLabs\":null},\"fBarOffset\":0,\"fBarWidth\":1000,\"fEntries\":2761,\"fTsumw\":2741,\"fTsumw2\":2741,\"fTsumwx\":244133.971086481,\"fTsumwx2\":22064950.7289272,\"fMaximum\":-1111,\"fMinimum\":-1111,\"fNormFactor\":0,\"fContour\":[],\"fSumw2\":[],\"fOption\":\"\",\"fFunctions\":{\"_typename\":\"TList\",\"name\":\"TList\",\"arr\":[],\"opt\":[]},\"fBufferSize\":0,\"fBuffer\":[],\"fBinStatErrOpt\":0,\"fStatOverflows\":2,\"fArray\":[3,2,0,2,4,6,9,11,12,11,12,11,12,15,10,7,17,11,9,25,26,30,57,97,231,587,766,422,161,57,30,17,10,10,10,4,7,7,3,2,3,2,2,0,2,4,2,0,2,0,4,17]},{\"_typename\":\"TLatex\",\"fUniqueID\":0,\"fBits\":50348041,\"fName\":\"\",\"fTitle\":\"Simulation\",\"fTextAngle\":0,\"fTextSize\":0.05,\"fTextAlign\":11,\"fTextColor\":1,\"fTextFont\":62,\"fX\":0.2,\"fY\":0.7,\"fLineColor\":1,\"fLineStyle\":1,\"fLineWidth\":2,\"fLimitFactorSize\":3,\"fOriginSize\":0.04}],\"opt\":[\"\",\"e1p\",\"e1p SAME\",\"\"]},\"fExecs\":null,\"fName\":\"canvas\",\"fTitle\":\"\",\"fNumPaletteColor\":0,\"fNextPaletteColor\":0,\"fDISPLAY\":\"$DISPLAY\",\"fDoubleBuffer\":0,\"fRetained\":true,\"fXsizeUser\":0,\"fYsizeUser\":0,\"fXsizeReal\":20,\"fYsizeReal\":15,\"fWindowTopX\":0,\"fWindowTopY\":0,\"fWindowWidth\":0,\"fWindowHeight\":0,\"fCw\":796,\"fCh\":572,\"fCatt\":{\"_typename\":\"TAttCanvas\",\"fXBetween\":2,\"fYBetween\":2,\"fTitleFromTop\":1.2,\"fXdate\":0.2,\"fYdate\":0.3,\"fAdate\":1},\"kMoveOpaque\":true,\"kResizeOpaque\":true,\"fHighLightColor\":2,\"fBatch\":true,\"kShowEventStatus\":false,\"kAutoExec\":true,\"kMenuBar\":true});\n",
       "       Core.draw(\"root_plot_1\", obj, \"\");\n",
       "     }\n",
       " );\n",
       "</script>\n"
      ],
      "text/plain": [
       "<IPython.core.display.HTML object>"
      ]
     },
     "metadata": {},
     "output_type": "display_data"
    }
   ],
   "source": [
    "h_mass_electrons_simulation.Draw(\"e1p\")\n",
    "h_mass_muons_simulation.Draw(\"e1p SAME\")\n",
    "text_simu = ROOT.TLatex()\n",
    "text_simu.DrawLatexNDC(0.2, 0.7, \"Simulation\")\n",
    "canvas.Draw()"
   ]
  },
  {
   "cell_type": "markdown",
   "metadata": {},
   "source": [
    "### Samma sak för data"
   ]
  },
  {
   "cell_type": "code",
   "execution_count": 14,
   "metadata": {},
   "outputs": [
    {
     "data": {
      "text/html": [
       "\n",
       "<div id=\"root_plot_2\"\n",
       "     style=\"width: 796px; height: 572px\">\n",
       "</div>\n",
       "\n",
       "<script>\n",
       " requirejs.config({\n",
       "     paths: {\n",
       "       'JSRootCore' : 'https://root.cern.ch/js/notebook//scripts/JSRootCore',\n",
       "     }\n",
       "   });\n",
       " require(['JSRootCore'],\n",
       "     function(Core) {\n",
       "       var obj = Core.JSONR_unref({\"_typename\":\"TCanvas\",\"fUniqueID\":0,\"fBits\":53673992,\"fLineColor\":1,\"fLineStyle\":1,\"fLineWidth\":1,\"fFillColor\":0,\"fFillStyle\":1001,\"fLeftMargin\":0.1,\"fRightMargin\":0.1,\"fBottomMargin\":0.1,\"fTopMargin\":0.1,\"fXfile\":2,\"fYfile\":2,\"fAfile\":1,\"fXstat\":0.99,\"fYstat\":0.99,\"fAstat\":2,\"fFrameFillColor\":0,\"fFrameLineColor\":1,\"fFrameFillStyle\":1001,\"fFrameLineStyle\":1,\"fFrameLineWidth\":1,\"fFrameBorderSize\":1,\"fFrameBorderMode\":0,\"fX1\":14.9999988824128,\"fY1\":-84.6431049508747,\"fX2\":165.000001117587,\"fY2\":761.787894106651,\"fXtoAbsPixelk\":-79.5999428832051,\"fXtoPixelk\":-79.5999428832051,\"fXtoPixel\":5.30666658759117,\"fYtoAbsPixelk\":514.800046590614,\"fYtoPixelk\":514.800046590614,\"fYtoPixel\":-0.675778652526791,\"fUtoAbsPixelk\":5e-5,\"fUtoPixelk\":5e-5,\"fUtoPixel\":796,\"fVtoAbsPixelk\":572.00005,\"fVtoPixelk\":572,\"fVtoPixel\":-572,\"fAbsPixeltoXk\":14.9999988824128,\"fPixeltoXk\":14.9999988824128,\"fPixeltoX\":0.188442213863284,\"fAbsPixeltoYk\":761.787894106651,\"fPixeltoYk\":-84.6431049508747,\"fPixeltoY\":-1.47977447387679,\"fXlowNDC\":0,\"fYlowNDC\":0,\"fXUpNDC\":0,\"fYUpNDC\":0,\"fWNDC\":1,\"fHNDC\":1,\"fAbsXlowNDC\":0,\"fAbsYlowNDC\":0,\"fAbsWNDC\":1,\"fAbsHNDC\":1,\"fUxmin\":30,\"fUymin\":0,\"fUxmax\":150,\"fUymax\":677.144789155776,\"fTheta\":30,\"fPhi\":30,\"fAspectRatio\":0,\"fNumber\":0,\"fTickx\":0,\"fTicky\":0,\"fLogx\":0,\"fLogy\":0,\"fLogz\":0,\"fPadPaint\":0,\"fCrosshair\":0,\"fCrosshairPos\":0,\"fBorderSize\":2,\"fBorderMode\":0,\"fModified\":false,\"fGridx\":false,\"fGridy\":false,\"fAbsCoord\":false,\"fEditable\":true,\"fFixedAspectRatio\":false,\"fPrimitives\":{\"_typename\":\"TList\",\"name\":\"TList\",\"arr\":[{\"_typename\":\"TFrame\",\"fUniqueID\":0,\"fBits\":50331656,\"fLineColor\":1,\"fLineStyle\":1,\"fLineWidth\":1,\"fFillColor\":0,\"fFillStyle\":1001,\"fX1\":30,\"fY1\":0,\"fX2\":150,\"fY2\":677.144789155776,\"fBorderSize\":1,\"fBorderMode\":0},{\"_typename\":\"TH1F\",\"fUniqueID\":0,\"fBits\":50331656,\"fName\":\"h_mass_muons\",\"fTitle\":\"\",\"fLineColor\":632,\"fLineStyle\":1,\"fLineWidth\":1,\"fFillColor\":0,\"fFillStyle\":1001,\"fMarkerColor\":1,\"fMarkerStyle\":1,\"fMarkerSize\":1,\"fNcells\":52,\"fXaxis\":{\"_typename\":\"TAxis\",\"fUniqueID\":0,\"fBits\":50331648,\"fName\":\"xaxis\",\"fTitle\":\" Invariant mass [GeV]\",\"fNdivisions\":510,\"fAxisColor\":1,\"fLabelColor\":1,\"fLabelFont\":42,\"fLabelOffset\":0.005,\"fLabelSize\":0.035,\"fTickLength\":0.03,\"fTitleOffset\":1,\"fTitleSize\":0.035,\"fTitleColor\":1,\"fTitleFont\":42,\"fNbins\":50,\"fXmin\":30,\"fXmax\":150,\"fXbins\":[],\"fFirst\":0,\"fLast\":0,\"fBits2\":0,\"fTimeDisplay\":false,\"fTimeFormat\":\"\",\"fLabels\":null,\"fModLabs\":null},\"fYaxis\":{\"_typename\":\"TAxis\",\"fUniqueID\":0,\"fBits\":50331648,\"fName\":\"yaxis\",\"fTitle\":\" Number of events\",\"fNdivisions\":510,\"fAxisColor\":1,\"fLabelColor\":1,\"fLabelFont\":42,\"fLabelOffset\":0.005,\"fLabelSize\":0.035,\"fTickLength\":0.03,\"fTitleOffset\":0,\"fTitleSize\":0.035,\"fTitleColor\":1,\"fTitleFont\":42,\"fNbins\":1,\"fXmin\":0,\"fXmax\":1,\"fXbins\":[],\"fFirst\":0,\"fLast\":0,\"fBits2\":0,\"fTimeDisplay\":false,\"fTimeFormat\":\"\",\"fLabels\":null,\"fModLabs\":null},\"fZaxis\":{\"_typename\":\"TAxis\",\"fUniqueID\":0,\"fBits\":50331648,\"fName\":\"zaxis\",\"fTitle\":\"\",\"fNdivisions\":510,\"fAxisColor\":1,\"fLabelColor\":1,\"fLabelFont\":42,\"fLabelOffset\":0.005,\"fLabelSize\":0.035,\"fTickLength\":0.03,\"fTitleOffset\":1,\"fTitleSize\":0.035,\"fTitleColor\":1,\"fTitleFont\":42,\"fNbins\":1,\"fXmin\":0,\"fXmax\":1,\"fXbins\":[],\"fFirst\":0,\"fLast\":0,\"fBits2\":0,\"fTimeDisplay\":false,\"fTimeFormat\":\"\",\"fLabels\":null,\"fModLabs\":null},\"fBarOffset\":0,\"fBarWidth\":1000,\"fEntries\":2421,\"fTsumw\":2147,\"fTsumw2\":2147,\"fTsumwx\":187619.202969251,\"fTsumwx2\":16769396.4905442,\"fMaximum\":-1111,\"fMinimum\":-1111,\"fNormFactor\":0,\"fContour\":[],\"fSumw2\":[],\"fOption\":\"\",\"fFunctions\":{\"_typename\":\"TList\",\"name\":\"TList\",\"arr\":[{\"_typename\":\"TPaveStats\",\"fUniqueID\":0,\"fBits\":50331657,\"fLineColor\":1,\"fLineStyle\":1,\"fLineWidth\":1,\"fFillColor\":0,\"fFillStyle\":1001,\"fX1\":132.000003039837,\"fY1\":571.34092436383,\"fX2\":162.000003933907,\"fY2\":706.769881185961,\"fX1NDC\":0.780000016093254,\"fY1NDC\":0.775000005960464,\"fX2NDC\":0.980000019073486,\"fY2NDC\":0.935000002384186,\"fBorderSize\":1,\"fInit\":1,\"fShadowColor\":1,\"fCornerRadius\":0,\"fOption\":\"brNDC\",\"fName\":\"stats\",\"fTextAngle\":0,\"fTextSize\":0,\"fTextAlign\":12,\"fTextColor\":1,\"fTextFont\":42,\"fLabel\":\"\",\"fLongest\":18,\"fMargin\":0.05,\"fLines\":{\"_typename\":\"TList\",\"name\":\"TList\",\"arr\":[{\"_typename\":\"TLatex\",\"fUniqueID\":0,\"fBits\":50331648,\"fName\":\"\",\"fTitle\":\"h_mass_muons\",\"fTextAngle\":0,\"fTextSize\":0.0368,\"fTextAlign\":0,\"fTextColor\":0,\"fTextFont\":0,\"fX\":0,\"fY\":0,\"fLineColor\":1,\"fLineStyle\":1,\"fLineWidth\":2,\"fLimitFactorSize\":3,\"fOriginSize\":0.0368000008165836},{\"_typename\":\"TLatex\",\"fUniqueID\":0,\"fBits\":50331648,\"fName\":\"\",\"fTitle\":\"Entries = 2421   \",\"fTextAngle\":0,\"fTextSize\":0,\"fTextAlign\":0,\"fTextColor\":0,\"fTextFont\":0,\"fX\":0,\"fY\":0,\"fLineColor\":1,\"fLineStyle\":1,\"fLineWidth\":2,\"fLimitFactorSize\":3,\"fOriginSize\":0.04},{\"_typename\":\"TLatex\",\"fUniqueID\":0,\"fBits\":50331648,\"fName\":\"\",\"fTitle\":\"Mean  =  87.39\",\"fTextAngle\":0,\"fTextSize\":0,\"fTextAlign\":0,\"fTextColor\":0,\"fTextFont\":0,\"fX\":0,\"fY\":0,\"fLineColor\":1,\"fLineStyle\":1,\"fLineWidth\":2,\"fLimitFactorSize\":3,\"fOriginSize\":0.04},{\"_typename\":\"TLatex\",\"fUniqueID\":0,\"fBits\":50331648,\"fName\":\"\",\"fTitle\":\"Std Dev   =   13.2\",\"fTextAngle\":0,\"fTextSize\":0,\"fTextAlign\":0,\"fTextColor\":0,\"fTextFont\":0,\"fX\":0,\"fY\":0,\"fLineColor\":1,\"fLineStyle\":1,\"fLineWidth\":2,\"fLimitFactorSize\":3,\"fOriginSize\":0.04}],\"opt\":[\"\",\"\",\"\",\"\"]},\"fOptFit\":0,\"fOptStat\":1111,\"fFitFormat\":\"5.4g\",\"fStatFormat\":\"6.4g\",\"fParent\":{\"$ref\":3}}],\"opt\":[\"brNDC\"]},\"fBufferSize\":0,\"fBuffer\":[],\"fBinStatErrOpt\":0,\"fStatOverflows\":2,\"fArray\":[258,6,13,8,14,10,10,9,16,13,10,7,10,12,14,9,6,13,11,25,19,22,50,79,185,423,620,307,107,33,23,13,8,6,2,4,6,6,4,2,1,2,2,2,1,1,1,0,0,1,1,16]},{\"_typename\":\"TH1F\",\"fUniqueID\":0,\"fBits\":50331656,\"fName\":\"h_mass_electrons\",\"fTitle\":\"\",\"fLineColor\":602,\"fLineStyle\":1,\"fLineWidth\":1,\"fFillColor\":0,\"fFillStyle\":1001,\"fMarkerColor\":1,\"fMarkerStyle\":1,\"fMarkerSize\":1,\"fNcells\":52,\"fXaxis\":{\"_typename\":\"TAxis\",\"fUniqueID\":0,\"fBits\":50331648,\"fName\":\"xaxis\",\"fTitle\":\" Invariant mass [GeV]\",\"fNdivisions\":510,\"fAxisColor\":1,\"fLabelColor\":1,\"fLabelFont\":42,\"fLabelOffset\":0.005,\"fLabelSize\":0.035,\"fTickLength\":0.03,\"fTitleOffset\":1,\"fTitleSize\":0.035,\"fTitleColor\":1,\"fTitleFont\":42,\"fNbins\":50,\"fXmin\":30,\"fXmax\":150,\"fXbins\":[],\"fFirst\":0,\"fLast\":0,\"fBits2\":0,\"fTimeDisplay\":false,\"fTimeFormat\":\"\",\"fLabels\":null,\"fModLabs\":null},\"fYaxis\":{\"_typename\":\"TAxis\",\"fUniqueID\":0,\"fBits\":50331648,\"fName\":\"yaxis\",\"fTitle\":\" Number of events\",\"fNdivisions\":510,\"fAxisColor\":1,\"fLabelColor\":1,\"fLabelFont\":42,\"fLabelOffset\":0.005,\"fLabelSize\":0.035,\"fTickLength\":0.03,\"fTitleOffset\":0,\"fTitleSize\":0.035,\"fTitleColor\":1,\"fTitleFont\":42,\"fNbins\":1,\"fXmin\":0,\"fXmax\":1,\"fXbins\":[],\"fFirst\":0,\"fLast\":0,\"fBits2\":0,\"fTimeDisplay\":false,\"fTimeFormat\":\"\",\"fLabels\":null,\"fModLabs\":null},\"fZaxis\":{\"_typename\":\"TAxis\",\"fUniqueID\":0,\"fBits\":50331648,\"fName\":\"zaxis\",\"fTitle\":\"\",\"fNdivisions\":510,\"fAxisColor\":1,\"fLabelColor\":1,\"fLabelFont\":42,\"fLabelOffset\":0.005,\"fLabelSize\":0.035,\"fTickLength\":0.03,\"fTitleOffset\":1,\"fTitleSize\":0.035,\"fTitleColor\":1,\"fTitleFont\":42,\"fNbins\":1,\"fXmin\":0,\"fXmax\":1,\"fXbins\":[],\"fFirst\":0,\"fLast\":0,\"fBits2\":0,\"fTimeDisplay\":false,\"fTimeFormat\":\"\",\"fLabels\":null,\"fModLabs\":null},\"fBarOffset\":0,\"fBarWidth\":1000,\"fEntries\":1343,\"fTsumw\":1198,\"fTsumw2\":1198,\"fTsumwx\":102879.147910804,\"fTsumwx2\":9101542.31625582,\"fMaximum\":-1111,\"fMinimum\":-1111,\"fNormFactor\":0,\"fContour\":[],\"fSumw2\":[],\"fOption\":\"\",\"fFunctions\":{\"_typename\":\"TList\",\"name\":\"TList\",\"arr\":[],\"opt\":[]},\"fBufferSize\":0,\"fBuffer\":[],\"fBinStatErrOpt\":0,\"fStatOverflows\":2,\"fArray\":[140,12,12,6,9,9,5,3,7,7,9,1,5,10,5,7,7,11,7,10,12,28,27,83,137,252,282,127,44,19,5,4,9,3,3,1,3,4,2,1,0,0,1,1,3,1,0,0,1,2,1,5]},{\"_typename\":\"TLatex\",\"fUniqueID\":0,\"fBits\":50348041,\"fName\":\"\",\"fTitle\":\"Data\",\"fTextAngle\":0,\"fTextSize\":0.05,\"fTextAlign\":11,\"fTextColor\":1,\"fTextFont\":62,\"fX\":0.2,\"fY\":0.7,\"fLineColor\":1,\"fLineStyle\":1,\"fLineWidth\":2,\"fLimitFactorSize\":3,\"fOriginSize\":0.04}],\"opt\":[\"\",\"e1p\",\"e1p SAME\",\"\"]},\"fExecs\":null,\"fName\":\"canvas\",\"fTitle\":\"\",\"fNumPaletteColor\":0,\"fNextPaletteColor\":0,\"fDISPLAY\":\"$DISPLAY\",\"fDoubleBuffer\":0,\"fRetained\":true,\"fXsizeUser\":0,\"fYsizeUser\":0,\"fXsizeReal\":20,\"fYsizeReal\":15,\"fWindowTopX\":0,\"fWindowTopY\":0,\"fWindowWidth\":0,\"fWindowHeight\":0,\"fCw\":796,\"fCh\":572,\"fCatt\":{\"_typename\":\"TAttCanvas\",\"fXBetween\":2,\"fYBetween\":2,\"fTitleFromTop\":1.2,\"fXdate\":0.2,\"fYdate\":0.3,\"fAdate\":1},\"kMoveOpaque\":true,\"kResizeOpaque\":true,\"fHighLightColor\":2,\"fBatch\":true,\"kShowEventStatus\":false,\"kAutoExec\":true,\"kMenuBar\":true});\n",
       "       Core.draw(\"root_plot_2\", obj, \"\");\n",
       "     }\n",
       " );\n",
       "</script>\n"
      ],
      "text/plain": [
       "<IPython.core.display.HTML object>"
      ]
     },
     "metadata": {},
     "output_type": "display_data"
    }
   ],
   "source": [
    "h_mass_muons.Draw(\"e1p\")\n",
    "h_mass_electrons.Draw(\"e1p SAME\")\n",
    "text_simu = ROOT.TLatex()\n",
    "text_simu.DrawLatexNDC(0.2, 0.7, \"Data\")\n",
    "canvas.Draw()\n"
   ]
  },
  {
   "cell_type": "markdown",
   "metadata": {},
   "source": [
    "### Other variables, e.g. MET"
   ]
  },
  {
   "cell_type": "code",
   "execution_count": 15,
   "metadata": {},
   "outputs": [],
   "source": [
    "# Draw MET\n",
    "met = ROOT.TH1F(\"MET_simu\", \"; Missing transverse energy [GeV]; Number of events\", 30, 0., 90.)\n",
    "tree_electrons_simulation.Draw(\"met_et*1e-3 >> MET_simu\", \"\", \"e1p\", 5000)\n",
    "met.Draw(\"e1p\")"
   ]
  },
  {
   "cell_type": "code",
   "execution_count": 16,
   "metadata": {
    "scrolled": true
   },
   "outputs": [
    {
     "data": {
      "text/html": [
       "\n",
       "<div id=\"root_plot_3\"\n",
       "     style=\"width: 796px; height: 572px\">\n",
       "</div>\n",
       "\n",
       "<script>\n",
       " requirejs.config({\n",
       "     paths: {\n",
       "       'JSRootCore' : 'https://root.cern.ch/js/notebook//scripts/JSRootCore',\n",
       "     }\n",
       "   });\n",
       " require(['JSRootCore'],\n",
       "     function(Core) {\n",
       "       var obj = Core.JSONR_unref({\"_typename\":\"TCanvas\",\"fUniqueID\":0,\"fBits\":53673992,\"fLineColor\":1,\"fLineStyle\":1,\"fLineWidth\":1,\"fFillColor\":0,\"fFillStyle\":1001,\"fLeftMargin\":0.1,\"fRightMargin\":0.1,\"fBottomMargin\":0.1,\"fTopMargin\":0.1,\"fXfile\":2,\"fYfile\":2,\"fAfile\":1,\"fXstat\":0.99,\"fYstat\":0.99,\"fAstat\":2,\"fFrameFillColor\":0,\"fFrameLineColor\":1,\"fFrameFillStyle\":1001,\"fFrameLineStyle\":1,\"fFrameLineWidth\":1,\"fFrameBorderSize\":1,\"fFrameBorderMode\":0,\"fX1\":-11.2500008381904,\"fY1\":-70.8405697407705,\"fX2\":101.25000083819,\"fY2\":637.565085442665,\"fXtoAbsPixelk\":79.6000547445299,\"fXtoPixelk\":79.6000547445299,\"fXtoPixel\":7.07555545012156,\"fYtoAbsPixelk\":514.800046590614,\"fYtoPixelk\":514.800046590614,\"fYtoPixel\":-0.807446970270001,\"fUtoAbsPixelk\":5e-5,\"fUtoPixelk\":5e-5,\"fUtoPixel\":796,\"fVtoAbsPixelk\":572.00005,\"fVtoPixelk\":572,\"fVtoPixel\":-572,\"fAbsPixeltoXk\":-11.2500008381904,\"fPixeltoXk\":-11.2500008381904,\"fPixeltoX\":0.141331660397463,\"fAbsPixeltoYk\":637.565085442665,\"fPixeltoYk\":-70.8405697407705,\"fPixeltoY\":-1.23847142514587,\"fXlowNDC\":0,\"fYlowNDC\":0,\"fXUpNDC\":0,\"fYUpNDC\":0,\"fWNDC\":1,\"fHNDC\":1,\"fAbsXlowNDC\":0,\"fAbsYlowNDC\":0,\"fAbsWNDC\":1,\"fAbsHNDC\":1,\"fUxmin\":0,\"fUymin\":0,\"fUxmax\":90,\"fUymax\":566.724515701894,\"fTheta\":30,\"fPhi\":30,\"fAspectRatio\":0,\"fNumber\":0,\"fTickx\":0,\"fTicky\":0,\"fLogx\":0,\"fLogy\":0,\"fLogz\":0,\"fPadPaint\":0,\"fCrosshair\":0,\"fCrosshairPos\":0,\"fBorderSize\":2,\"fBorderMode\":0,\"fModified\":false,\"fGridx\":false,\"fGridy\":false,\"fAbsCoord\":false,\"fEditable\":true,\"fFixedAspectRatio\":false,\"fPrimitives\":{\"_typename\":\"TList\",\"name\":\"TList\",\"arr\":[{\"_typename\":\"TFrame\",\"fUniqueID\":0,\"fBits\":50331656,\"fLineColor\":1,\"fLineStyle\":1,\"fLineWidth\":1,\"fFillColor\":0,\"fFillStyle\":1001,\"fX1\":0,\"fY1\":0,\"fX2\":90,\"fY2\":566.724515701894,\"fBorderSize\":1,\"fBorderMode\":0},{\"_typename\":\"TH1F\",\"fUniqueID\":0,\"fBits\":50331656,\"fName\":\"MET_simu\",\"fTitle\":\"\",\"fLineColor\":602,\"fLineStyle\":1,\"fLineWidth\":1,\"fFillColor\":0,\"fFillStyle\":1001,\"fMarkerColor\":1,\"fMarkerStyle\":1,\"fMarkerSize\":1,\"fNcells\":32,\"fXaxis\":{\"_typename\":\"TAxis\",\"fUniqueID\":0,\"fBits\":50331648,\"fName\":\"xaxis\",\"fTitle\":\" Missing transverse energy [GeV]\",\"fNdivisions\":510,\"fAxisColor\":1,\"fLabelColor\":1,\"fLabelFont\":42,\"fLabelOffset\":0.005,\"fLabelSize\":0.035,\"fTickLength\":0.03,\"fTitleOffset\":1,\"fTitleSize\":0.035,\"fTitleColor\":1,\"fTitleFont\":42,\"fNbins\":30,\"fXmin\":0,\"fXmax\":90,\"fXbins\":[],\"fFirst\":0,\"fLast\":0,\"fBits2\":0,\"fTimeDisplay\":false,\"fTimeFormat\":\"\",\"fLabels\":null,\"fModLabs\":null},\"fYaxis\":{\"_typename\":\"TAxis\",\"fUniqueID\":0,\"fBits\":50331648,\"fName\":\"yaxis\",\"fTitle\":\" Number of events\",\"fNdivisions\":510,\"fAxisColor\":1,\"fLabelColor\":1,\"fLabelFont\":42,\"fLabelOffset\":0.005,\"fLabelSize\":0.035,\"fTickLength\":0.03,\"fTitleOffset\":0,\"fTitleSize\":0.035,\"fTitleColor\":1,\"fTitleFont\":42,\"fNbins\":1,\"fXmin\":0,\"fXmax\":1,\"fXbins\":[],\"fFirst\":0,\"fLast\":0,\"fBits2\":0,\"fTimeDisplay\":false,\"fTimeFormat\":\"\",\"fLabels\":null,\"fModLabs\":null},\"fZaxis\":{\"_typename\":\"TAxis\",\"fUniqueID\":0,\"fBits\":50331648,\"fName\":\"zaxis\",\"fTitle\":\"\",\"fNdivisions\":510,\"fAxisColor\":1,\"fLabelColor\":1,\"fLabelFont\":42,\"fLabelOffset\":0.005,\"fLabelSize\":0.035,\"fTickLength\":0.03,\"fTitleOffset\":1,\"fTitleSize\":0.035,\"fTitleColor\":1,\"fTitleFont\":42,\"fNbins\":1,\"fXmin\":0,\"fXmax\":1,\"fXbins\":[],\"fFirst\":0,\"fLast\":0,\"fBits2\":0,\"fTimeDisplay\":false,\"fTimeFormat\":\"\",\"fLabels\":null,\"fModLabs\":null},\"fBarOffset\":0,\"fBarWidth\":1000,\"fEntries\":5000,\"fTsumw\":4995,\"fTsumw2\":4995,\"fTsumwx\":114159.664718857,\"fTsumwx2\":3541335.1790205,\"fMaximum\":-1111,\"fMinimum\":-1111,\"fNormFactor\":0,\"fContour\":[],\"fSumw2\":[],\"fOption\":\"\",\"fFunctions\":{\"_typename\":\"TList\",\"name\":\"TList\",\"arr\":[{\"_typename\":\"TPaveStats\",\"fUniqueID\":0,\"fBits\":50331657,\"fLineColor\":1,\"fLineStyle\":1,\"fLineWidth\":1,\"fFillColor\":0,\"fFillStyle\":1001,\"fX1\":76.5000022798777,\"fY1\":478.173817248819,\"fX2\":99.00000295043,\"fY2\":591.518719544712,\"fX1NDC\":0.780000016093254,\"fY1NDC\":0.775000005960464,\"fX2NDC\":0.980000019073486,\"fY2NDC\":0.935000002384186,\"fBorderSize\":1,\"fInit\":1,\"fShadowColor\":1,\"fCornerRadius\":0,\"fOption\":\"brNDC\",\"fName\":\"stats\",\"fTextAngle\":0,\"fTextSize\":0,\"fTextAlign\":12,\"fTextColor\":1,\"fTextFont\":42,\"fLabel\":\"\",\"fLongest\":18,\"fMargin\":0.05,\"fLines\":{\"_typename\":\"TList\",\"name\":\"TList\",\"arr\":[{\"_typename\":\"TLatex\",\"fUniqueID\":0,\"fBits\":50331648,\"fName\":\"\",\"fTitle\":\"MET_simu\",\"fTextAngle\":0,\"fTextSize\":0.0368,\"fTextAlign\":0,\"fTextColor\":0,\"fTextFont\":0,\"fX\":0,\"fY\":0,\"fLineColor\":1,\"fLineStyle\":1,\"fLineWidth\":2,\"fLimitFactorSize\":3,\"fOriginSize\":0.0368000008165836},{\"_typename\":\"TLatex\",\"fUniqueID\":0,\"fBits\":50331648,\"fName\":\"\",\"fTitle\":\"Entries = 5000   \",\"fTextAngle\":0,\"fTextSize\":0,\"fTextAlign\":0,\"fTextColor\":0,\"fTextFont\":0,\"fX\":0,\"fY\":0,\"fLineColor\":1,\"fLineStyle\":1,\"fLineWidth\":2,\"fLimitFactorSize\":3,\"fOriginSize\":0.04},{\"_typename\":\"TLatex\",\"fUniqueID\":0,\"fBits\":50331648,\"fName\":\"\",\"fTitle\":\"Mean  =  22.85\",\"fTextAngle\":0,\"fTextSize\":0,\"fTextAlign\":0,\"fTextColor\":0,\"fTextFont\":0,\"fX\":0,\"fY\":0,\"fLineColor\":1,\"fLineStyle\":1,\"fLineWidth\":2,\"fLimitFactorSize\":3,\"fOriginSize\":0.04},{\"_typename\":\"TLatex\",\"fUniqueID\":0,\"fBits\":50331648,\"fName\":\"\",\"fTitle\":\"Std Dev   =  13.66\",\"fTextAngle\":0,\"fTextSize\":0,\"fTextAlign\":0,\"fTextColor\":0,\"fTextFont\":0,\"fX\":0,\"fY\":0,\"fLineColor\":1,\"fLineStyle\":1,\"fLineWidth\":2,\"fLimitFactorSize\":3,\"fOriginSize\":0.04}],\"opt\":[\"\",\"\",\"\",\"\"]},\"fOptFit\":0,\"fOptStat\":1111,\"fFitFormat\":\"5.4g\",\"fStatFormat\":\"6.4g\",\"fParent\":{\"$ref\":3}}],\"opt\":[\"brNDC\"]},\"fBufferSize\":0,\"fBuffer\":[],\"fBinStatErrOpt\":0,\"fStatOverflows\":2,\"fArray\":[0,88,220,356,444,517,501,458,459,355,328,277,208,188,118,104,85,68,53,54,30,27,14,10,10,9,6,3,3,2,0,5]}],\"opt\":[\"\",\"e1p\"]},\"fExecs\":null,\"fName\":\"canvas\",\"fTitle\":\"\",\"fNumPaletteColor\":0,\"fNextPaletteColor\":0,\"fDISPLAY\":\"$DISPLAY\",\"fDoubleBuffer\":0,\"fRetained\":true,\"fXsizeUser\":0,\"fYsizeUser\":0,\"fXsizeReal\":20,\"fYsizeReal\":15,\"fWindowTopX\":0,\"fWindowTopY\":0,\"fWindowWidth\":0,\"fWindowHeight\":0,\"fCw\":796,\"fCh\":572,\"fCatt\":{\"_typename\":\"TAttCanvas\",\"fXBetween\":2,\"fYBetween\":2,\"fTitleFromTop\":1.2,\"fXdate\":0.2,\"fYdate\":0.3,\"fAdate\":1},\"kMoveOpaque\":true,\"kResizeOpaque\":true,\"fHighLightColor\":2,\"fBatch\":true,\"kShowEventStatus\":false,\"kAutoExec\":true,\"kMenuBar\":true});\n",
       "       Core.draw(\"root_plot_3\", obj, \"\");\n",
       "     }\n",
       " );\n",
       "</script>\n"
      ],
      "text/plain": [
       "<IPython.core.display.HTML object>"
      ]
     },
     "metadata": {},
     "output_type": "display_data"
    }
   ],
   "source": [
    "canvas.Draw()"
   ]
  },
  {
   "cell_type": "markdown",
   "metadata": {},
   "source": [
    "### Prepare fitting, function for printing out goodness of fit"
   ]
  },
  {
   "cell_type": "code",
   "execution_count": 37,
   "metadata": {},
   "outputs": [],
   "source": [
    "def printGOF(fitresult, msg=\"\"):\n",
    "    print(\"\\n*** Goodness of fit. {}\".format(msg))\n",
    "    print(\"Chi2 = {:.1f}, Ndof = {}\".format(fitresult.Chi2(), fitresult.Ndf()))\n",
    "    if fitresult.Ndf() > 0:\n",
    "        print(\"Reduced chi2 = {:.1f}\".format(fitresult.Chi2()/fitresult.Ndf()))\n",
    "    else:\n",
    "        print(\"ERROR :: fit DOF = 0.\")\n",
    "    print(\"\")"
   ]
  },
  {
   "cell_type": "markdown",
   "metadata": {},
   "source": [
    "### Turn off interactive visualisation"
   ]
  },
  {
   "cell_type": "code",
   "execution_count": 18,
   "metadata": {},
   "outputs": [],
   "source": [
    "%jsroot off"
   ]
  },
  {
   "cell_type": "markdown",
   "metadata": {},
   "source": [
    "### clear canvas"
   ]
  },
  {
   "cell_type": "code",
   "execution_count": 24,
   "metadata": {},
   "outputs": [],
   "source": [
    "canvas.Clear()"
   ]
  },
  {
   "cell_type": "markdown",
   "metadata": {},
   "source": [
    "### Fit #1: Gaussian"
   ]
  },
  {
   "cell_type": "code",
   "execution_count": 38,
   "metadata": {},
   "outputs": [
    {
     "name": "stdout",
     "output_type": "stream",
     "text": [
      "\n",
      "*** Goodness of fit. Electrons\n",
      "Chi2 = 23.9, Ndof = 5\n",
      "Reduced chi2 = 4.8\n",
      "\n",
      "\n",
      "*** Goodness of fit. Muons\n",
      "Chi2 = 69.1, Ndof = 5\n",
      "Reduced chi2 = 13.8\n",
      "\n",
      " FCN=23.8577 FROM MIGRAD    STATUS=CONVERGED      59 CALLS          60 TOTAL\n",
      "                     EDM=1.49889e-08    STRATEGY= 1      ERROR MATRIX ACCURATE \n",
      "  EXT PARAMETER                                   STEP         FIRST   \n",
      "  NO.   NAME      VALUE            ERROR          SIZE      DERIVATIVE \n",
      "   1  Constant     2.55766e+02   1.12409e+01   2.02300e-02  -1.73823e-05\n",
      "   2  Mean         8.96720e+01   1.21829e-01   2.90207e-04   6.59372e-04\n",
      "   3  Sigma        3.56824e+00   1.11764e-01   1.87479e-05  -5.87971e-03\n",
      " FCN=69.099 FROM MIGRAD    STATUS=CONVERGED      69 CALLS          70 TOTAL\n",
      "                     EDM=6.39176e-08    STRATEGY= 1      ERROR MATRIX ACCURATE \n",
      "  EXT PARAMETER                                   STEP         FIRST   \n",
      "  NO.   NAME      VALUE            ERROR          SIZE      DERIVATIVE \n",
      "   1  Constant     5.23280e+02   1.78017e+01   5.13591e-02  -8.28013e-06\n",
      "   2  Mean         9.05687e+01   7.91019e-02   3.16170e-04   4.40895e-03\n",
      "   3  Sigma        3.18193e+00   7.85114e-02   2.28387e-05   1.14225e-04\n"
     ]
    }
   ],
   "source": [
    "# Gör en anpassning till peaken med rätt funktion\n",
    "# prova först dummy Gauss\n",
    "fitresult_gaussian=h_mass_electrons.Fit(\"gaus\", \"S\", \"SAME\", 80., 100.)\n",
    "printGOF(fitresult_gaussian, \"Electrons\")\n",
    "fitresult_gaussian=h_mass_muons.Fit(\"gaus\", \"S\", \"SAME\", 80., 100.)\n",
    "printGOF(fitresult_gaussian, \"Muons\")"
   ]
  },
  {
   "cell_type": "code",
   "execution_count": 21,
   "metadata": {
    "scrolled": false
   },
   "outputs": [
    {
     "data": {
      "image/png": "[encoded data removed]",
      "text/plain": [
       "<IPython.core.display.Image object>"
      ]
     },
     "metadata": {},
     "output_type": "display_data"
    }
   ],
   "source": [
    "canvas.Draw()"
   ]
  },
  {
   "cell_type": "markdown",
   "metadata": {},
   "source": [
    "### Fit #2: Breit-Wigner"
   ]
  },
  {
   "cell_type": "code",
   "execution_count": 39,
   "metadata": {},
   "outputs": [],
   "source": [
    "### function for printing mean and width\n",
    "def printFitResult(fitresult, msg=\"\"):\n",
    "    print(\"\\n*** Fit result. {}\".format(msg))\n",
    "    print(\"Mass = {:.2f} +/- {:.2f} \".format(fitresult.Parameter(1), fitresult.ParError(1)))\n",
    "    print()"
   ]
  },
  {
   "cell_type": "code",
   "execution_count": 23,
   "metadata": {},
   "outputs": [],
   "source": [
    "#### Prepare: setting Breit-Wigner limits, colors on functions etc.\n",
    "norm_low = 100; norm_up = 15e3\n",
    "mean_low = 80; mean_up = 100\n",
    "width_low = 0.1; width_up = 40\n",
    "def setBWLims(func):\n",
    "    ''' Set limits on BW parameters '''\n",
    "    func.SetParameters(0.5*(norm_low+norm_up), 0.5*(mean_low+mean_up), 0.5*(width_low+width_up))\n",
    "    func.SetParLimits(0, norm_low, norm_up)\n",
    "    func.SetParLimits(1, mean_low, mean_up)\n",
    "    func.SetParLimits(2, width_low, width_up)\n",
    "def setColor(ROOT_obj, color=ROOT.kBlack):\n",
    "    ''' set (line) color'''\n",
    "    ROOT_obj.SetLineColor(color)"
   ]
  },
  {
   "cell_type": "code",
   "execution_count": 26,
   "metadata": {},
   "outputs": [
    {
     "name": "stdout",
     "output_type": "stream",
     "text": [
      "background model (exponential+constant):\n",
      "total signal+background model:\n",
      "Formula based function:     bkg \n",
      "                  bkg : pol0+expo(1) Ndim= 1, Npar= 3, Number= 0 \n",
      " Formula expression: \n",
      "\t[p0]+exp([p1]+[p2]*x) \n",
      "Formula based function:     model \n",
      "                model : fBW+bkg Ndim= 1, Npar= 6, Number= 0 \n",
      " Formula expression: \n",
      "\t([p0]*TMath::BreitWigner(x,[p1],[p2]))+([p3]+exp([p4]+[p5]*x)) \n"
     ]
    }
   ],
   "source": [
    "#### DEFINE SOME BREIT-WIGNER FUNCTIONS\n",
    "xlow_fit=30.; xup_fit=140.;\n",
    "#foo=ROOT.TMath.BreitWigner(4., 3., 3.)\n",
    "fBW = ROOT.TF1(\"fBW\", \"[0]*TMath::BreitWigner(x, [1], [2])\", xlow_fit, xup_fit)\n",
    "setBWLims(fBW)\n",
    "# declare its own function for signal\n",
    "fSig = ROOT.TF1(\"fSig\", \"[0]*TMath::BreitWigner(x, [1], [2])\", xlow_fit, xup_fit)\n",
    "# first order polynomial as background\n",
    "fFit1 = ROOT.TF1(\"fit1\", \"fBW+pol1(3)\", xlow_fit, xup_fit)\n",
    "setBWLims(fFit1)\n",
    "# second order polynomial as background\n",
    "fFit2 = ROOT.TF1(\"fit2\", \"fBW+pol2(3)\", xlow_fit, xup_fit)\n",
    "# second order polynomial only\n",
    "fBkg2 = ROOT.TF1(\"bkg2\", \"pol2\", xlow_fit, xup_fit)\n",
    "setBWLims(fFit2)\n",
    "# third order polynomial as background\n",
    "fFit3 = ROOT.TF1(\"fit3\", \"fBW+pol3(3)\", xlow_fit, xup_fit)\n",
    "setBWLims(fFit3)\n",
    "# constant plus exponential for bkg\n",
    "fBkg = ROOT.TF1(\"bkg\", \"pol0+expo(1)\", xlow_fit, xup_fit)\n",
    "print(\"background model (exponential+constant):\")\n",
    "fBkg.Print()\n",
    "fModel = ROOT.TF1(\"model\", \"fBW+bkg\", xlow_fit, xup_fit)\n",
    "setBWLims(fModel)\n",
    "print(\"total signal+background model:\")\n",
    "fModel.Print()\n",
    "# set color\n",
    "setColor(fBkg, ROOT.kRed)\n",
    "setColor(fFit1); setColor(fFit2); setColor(fFit3);\n",
    "setColor(fBW, ROOT.kBlue)\n",
    "#setColor(fBkg2, ROOT.kBlue)"
   ]
  },
  {
   "cell_type": "code",
   "execution_count": null,
   "metadata": {},
   "outputs": [],
   "source": [
    "# %jsroot on"
   ]
  },
  {
   "cell_type": "code",
   "execution_count": 40,
   "metadata": {
    "scrolled": false
   },
   "outputs": [
    {
     "name": "stdout",
     "output_type": "stream",
     "text": [
      "\n",
      "*** Goodness of fit. Breit-Wigner + exponential, muons, fitoption 'SL'\n",
      "Chi2 = 113.9, Ndof = 40\n",
      "Reduced chi2 = 2.8\n",
      "\n",
      "\n",
      "*** Fit result. Breit-Wigner + exponential, muons, fitoption 'SL'\n",
      "Mass = 90.58 +/- 0.07 \n",
      "\n",
      " FCN=40.6276 FROM MIGRAD    STATUS=CONVERGED     461 CALLS         462 TOTAL\n",
      "                     EDM=8.18995e-08    STRATEGY= 1      ERROR MATRIX ACCURATE \n",
      "  EXT PARAMETER                                   STEP         FIRST   \n",
      "  NO.   NAME      VALUE            ERROR          SIZE      DERIVATIVE \n",
      "   1  p0           4.93914e+03   1.20426e+02   7.06623e-05  -5.02354e-03\n",
      "   2  p1           9.05837e+01   7.40132e-02   3.24626e-05  -9.13653e-03\n",
      "   3  p2           4.58157e+00   1.61712e-01   5.12305e-05   9.92967e-03\n",
      "   4  p3          -2.25882e+00   1.06310e+00   1.18489e-03  -4.53456e-04\n",
      "   5  p4           3.38199e+00   2.62077e-01   3.20489e-04  -2.65610e-03\n",
      "   6  p5          -2.30024e-02   7.40075e-03   4.89865e-06  -1.31821e-01\n",
      "                               ERR DEF= 0.5\n"
     ]
    },
    {
     "data": {
      "image/png": "[encoded data removed]",
      "text/plain": [
       "<IPython.core.display.Image object>"
      ]
     },
     "metadata": {},
     "output_type": "display_data"
    }
   ],
   "source": [
    "### fit with muons\n",
    "fitoption=\"SL\"\n",
    "fitresult=h_mass_muons.Fit(\"model\", fitoption, \"e1p\", xlow_fit, xup_fit) # store fit result\n",
    "printGOF(fitresult, \"Breit-Wigner + exponential, muons, fitoption '{}'\".format(fitoption))\n",
    "printFitResult(fitresult, \"Breit-Wigner + exponential, muons, fitoption '{}'\".format(fitoption))\n",
    "\n",
    "# Draw signal and bkg on top, using fit result\n",
    "fBW.Draw(\"SAME\") # signal\n",
    "fBkg.Draw(\"SAME\") # background\n",
    "\n",
    "# h_mass_muons.SetMaximum(50.)\n",
    "canvas.Draw()"
   ]
  },
  {
   "cell_type": "code",
   "execution_count": 32,
   "metadata": {},
   "outputs": [
    {
     "name": "stdout",
     "output_type": "stream",
     "text": [
      "\n",
      "*** Goodness of fit. Breit-Wigner + exponential, electrons, fitoption 'SL'\n",
      "Chi2 = 136.3, Ndof = 40\n",
      "Reduced chi2 = 3.4\n",
      "\n",
      "\n",
      "*** Fit result. Breit-Wigner + exponential, electrons, fitoption 'SL'\n",
      "Mass = 89.84 +/- 0.11 \n",
      "\n",
      " FCN=43.8285 FROM MIGRAD    STATUS=CONVERGED      91 CALLS          92 TOTAL\n",
      "                     EDM=7.5524e-11    STRATEGY= 1      ERROR MATRIX ACCURATE \n",
      "  EXT PARAMETER                                   STEP         FIRST   \n",
      "  NO.   NAME      VALUE            ERROR          SIZE      DERIVATIVE \n",
      "   1  p0           2.75157e+03   9.07985e+01   6.70758e-05  -9.37850e-05\n",
      "   2  p1           8.98384e+01   1.13027e-01   5.09876e-05  -2.72702e-05\n",
      "   3  p2           5.34621e+00   2.67944e-01   8.04000e-05  -7.54774e-05\n",
      "   4  p3          -7.16453e-01   3.32395e-01   1.03019e-03   6.18577e-06\n",
      "   5  p4           3.69347e+00   4.56011e-01   4.96227e-04  -2.52038e-05\n",
      "   6  p5          -4.10136e-02   1.10123e-02   1.06859e-05  -1.62270e-03\n",
      "                               ERR DEF= 0.5\n"
     ]
    },
    {
     "data": {
      "image/png": "[encoded data removed]",
      "text/plain": [
       "<IPython.core.display.Image object>"
      ]
     },
     "metadata": {},
     "output_type": "display_data"
    }
   ],
   "source": [
    "### Same thing for electrons\n",
    "fitresult=h_mass_electrons.Fit(\"model\", fitoption, \"e1p\", xlow_fit, xup_fit) # store fit result\n",
    "printGOF(fitresult, \"Breit-Wigner + exponential, electrons, fitoption '{}'\".format(fitoption))\n",
    "printFitResult(fitresult, \"Breit-Wigner + exponential, electrons, fitoption '{}'\".format(fitoption))\n",
    "\n",
    "# Draw signal and bkg on top\n",
    "fBW.Draw(\"SAME\") # signal\n",
    "fBkg.Draw(\"SAME\") # background\n",
    "\n",
    "# h_mass_muons.SetMaximum(50.)\n",
    "canvas.Draw()"
   ]
  },
  {
   "cell_type": "markdown",
   "metadata": {},
   "source": [
    "### Fit #2b: Breit-Wigner in smaller range around peak"
   ]
  },
  {
   "cell_type": "code",
   "execution_count": 45,
   "metadata": {},
   "outputs": [
    {
     "name": "stdout",
     "output_type": "stream",
     "text": [
      "\n",
      "*** Goodness of fit. Breit-Wigner + exponential, tight fit range, muons, fitoption 'SL'\n",
      "Chi2 = 5.4, Ndof = 3\n",
      "Reduced chi2 = 1.8\n",
      "\n",
      "\n",
      "*** Fit result. Breit-Wigner + exponential, tight fit range, muons, fitoption 'SL'\n",
      "Mass = 90.68 +/- 0.08 \n",
      "\n",
      " FCN=2.5962 FROM MIGRAD    STATUS=CONVERGED      36 CALLS          37 TOTAL\n",
      "                     EDM=3.65276e-10    STRATEGY= 1      ERROR MATRIX ACCURATE \n",
      "  EXT PARAMETER                                   STEP         FIRST   \n",
      "  NO.   NAME      VALUE            ERROR          SIZE      DERIVATIVE \n",
      "   1  p0           5.28563e+03   1.39602e+02   2.18121e-05   1.63943e-04\n",
      "   2  p1           9.06842e+01   8.25167e-02   9.94873e-06  -1.14959e-04\n",
      "   3  p2           5.16171e+00   2.12215e-01   1.75677e-05   1.10604e-03\n",
      "                               ERR DEF= 0.5\n"
     ]
    },
    {
     "data": {
      "image/png": "[encoded data removed]",
      "text/plain": [
       "<IPython.core.display.Image object>"
      ]
     },
     "metadata": {},
     "output_type": "display_data"
    }
   ],
   "source": [
    "### fit with muons\n",
    "canvas.Clear()\n",
    "fitoption=\"SL\"\n",
    "fitresult=h_mass_muons.Fit(\"fBW\", fitoption, \"e1p\", 82., 98.) # store fit result\n",
    "printGOF(fitresult, \"Breit-Wigner + exponential, tight fit range, muons, fitoption '{}'\".format(fitoption))\n",
    "printFitResult(fitresult, \"Breit-Wigner + exponential, tight fit range, muons, fitoption '{}'\".format(fitoption))\n",
    "\n",
    "# h_mass_muons.SetMaximum(50.)\n",
    "canvas.Draw()"
   ]
  },
  {
   "cell_type": "code",
   "execution_count": 46,
   "metadata": {},
   "outputs": [
    {
     "name": "stdout",
     "output_type": "stream",
     "text": [
      "\n",
      "*** Goodness of fit. Breit-Wigner + exponential, tight fit range, electrons, fitoption 'SL'\n",
      "Chi2 = 14.8, Ndof = 3\n",
      "Reduced chi2 = 4.9\n",
      "\n",
      "\n",
      "*** Fit result. Breit-Wigner + exponential, tight fit range, electrons, fitoption 'SL'\n",
      "Mass = 89.89 +/- 0.13 \n",
      "\n",
      " FCN=6.75632 FROM MIGRAD    STATUS=CONVERGED      68 CALLS          69 TOTAL\n",
      "                     EDM=8.59098e-08    STRATEGY= 1      ERROR MATRIX ACCURATE \n",
      "  EXT PARAMETER                                   STEP         FIRST   \n",
      "  NO.   NAME      VALUE            ERROR          SIZE      DERIVATIVE \n",
      "   1  p0           2.99128e+03   1.13633e+02   3.10468e-05   1.32871e-02\n",
      "   2  p1           8.98853e+01   1.29870e-01   2.39800e-05   5.29939e-04\n",
      "   3  p2           6.20428e+00   3.87432e-01   4.31935e-05  -1.18271e-02\n",
      "                               ERR DEF= 0.5\n"
     ]
    },
    {
     "data": {
      "image/png": "[encoded data removed]",
      "text/plain": [
       "<IPython.core.display.Image object>"
      ]
     },
     "metadata": {},
     "output_type": "display_data"
    }
   ],
   "source": [
    "### fit with electrons\n",
    "canvas.Clear()\n",
    "fitoption=\"SL\"\n",
    "fitresult=h_mass_electrons.Fit(\"fBW\", fitoption, \"e1p\", 82., 98.) # store fit result\n",
    "printGOF(fitresult, \"Breit-Wigner + exponential, tight fit range, electrons, fitoption '{}'\".format(fitoption))\n",
    "printFitResult(fitresult, \"Breit-Wigner + exponential, tight fit range, electrons, fitoption '{}'\".format(fitoption))\n",
    "\n",
    "# h_mass_muons.SetMaximum(50.)\n",
    "canvas.Draw()"
   ]
  },
  {
   "cell_type": "markdown",
   "metadata": {},
   "source": [
    "### Conclusion: Difficult to get mean exactly right. Works better if smaller range is used.\n",
    "\n",
    "Electrons and muons behave a bit differently. Due to Bremsstrahlung?\n",
    "\n",
    "Width larger than it should be, I think due to ISR and possibly other instrumental effects not accounted for."
   ]
  }
 ],
 "metadata": {
  "kernelspec": {
   "display_name": "Python 3",
   "language": "python",
   "name": "python3"
  },
  "language_info": {
   "codemirror_mode": {
    "name": "ipython",
    "version": 3
   },
   "file_extension": ".py",
   "mimetype": "text/x-python",
   "name": "python",
   "nbconvert_exporter": "python",
   "pygments_lexer": "ipython3",
   "version": "3.7.0"
  }
 },
 "nbformat": 4,
 "nbformat_minor": 2
}
