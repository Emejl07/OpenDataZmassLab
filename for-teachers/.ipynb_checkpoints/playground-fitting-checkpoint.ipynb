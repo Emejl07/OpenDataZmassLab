{
 "cells": [
  {
   "cell_type": "code",
   "execution_count": 1,
   "metadata": {},
   "outputs": [
    {
     "name": "stdout",
     "output_type": "stream",
     "text": [
      "Welcome to JupyROOT 6.14/04\n"
     ]
    }
   ],
   "source": [
    "import ROOT\n",
    "data_file_electrons = ROOT.TFile.Open(\"http://opendata.atlas.cern/release/samples/Data/DataEgamma.root\")\n",
    "data_file_muons = ROOT.TFile.Open(\"http://opendata.atlas.cern/release/samples/Data/DataMuons.root\")\n",
    "tree_electrons = data_file_electrons.Get(\"mini\")\n",
    "tree_muons = data_file_muons.Get(\"mini\")"
   ]
  },
  {
   "cell_type": "code",
   "execution_count": 2,
   "metadata": {},
   "outputs": [],
   "source": [
    "def getInvMass(lep1_pt, lep1_eta, lep1_phi, lep2_pt, lep2_eta, lep2_phi):\n",
    "    ''' get invariant mass '''\n",
    "    import math\n",
    "    msq = 2*lep1_pt*lep2_pt*(math.cosh(lep1_eta-lep2_eta) - math.cos(lep1_phi-lep2_phi))\n",
    "    return math.sqrt(msq)"
   ]
  },
  {
   "cell_type": "code",
   "execution_count": 3,
   "metadata": {},
   "outputs": [],
   "source": [
    "# histos\n",
    "nbins=60; lowedge=30.; upedge=140.\n",
    "h_mass_electrons = ROOT.TH1F(\"h_mass_electrons\", \"; Invariant mass [GeV]; Number of events\", nbins, lowedge, upedge)\n",
    "h_mass_muons = ROOT.TH1F(\"h_mass_muons\", \"; Invariant mass [GeV]; Number of events\", nbins, lowedge, upedge)\n",
    "# electron histo style\n",
    "h_mass_electrons.SetMarkerColor(ROOT.kBlack)\n",
    "h_mass_electrons.SetLineColor(ROOT.kBlack)\n",
    "# muon histo style\n",
    "h_mass_muons.SetLineColor(ROOT.kRed)\n",
    "h_mass_muons.SetMarkerColor(ROOT.kRed)"
   ]
  },
  {
   "cell_type": "markdown",
   "metadata": {},
   "source": [
    "### event loop"
   ]
  },
  {
   "cell_type": "code",
   "execution_count": 4,
   "metadata": {},
   "outputs": [],
   "source": [
    "def analyseMuonEvt(evt, hmass):\n",
    "\n",
    "    if evt.lep_n != 2: return\n",
    "    if not (evt.lep_type[0]==13 and evt.lep_type[1]==13): return # 13=muon\n",
    "    if (evt.lep_charge[0] + evt.lep_charge[1]) != 0: return\n",
    "    # passed all cuts, fill histogram\n",
    "    hmass.Fill(getInvMass(evt.lep_pt[0]*1e-3, evt.lep_eta[0], evt.lep_phi[0], evt.lep_pt[1]*1e-3, evt.lep_eta[1], evt.lep_phi[1]))\n",
    "    \n",
    "def analyseElectronEvt(evt, hmass):\n",
    "    if evt.lep_n != 2: return\n",
    "    if not (evt.lep_type[0]==11 and evt.lep_type[1]==11): return # 11=electron\n",
    "    if (evt.lep_charge[0] + evt.lep_charge[1]) != 0: return\n",
    "    # passed all cuts, fill histogram\n",
    "    hmass.Fill(getInvMass(evt.lep_pt[0]*1e-3, evt.lep_eta[0], evt.lep_phi[0], evt.lep_pt[1]*1e-3, evt.lep_eta[1], evt.lep_phi[1]))"
   ]
  },
  {
   "cell_type": "code",
   "execution_count": 5,
   "metadata": {},
   "outputs": [
    {
     "name": "stdout",
     "output_type": "stream",
     "text": [
      "Analysed 30000 events\n"
     ]
    }
   ],
   "source": [
    "nevents=30000\n",
    "for ievt in range(nevents):\n",
    "    if ievt>nevents: break\n",
    "    tree_muons.GetEntry(ievt); tree_electrons.GetEntry(ievt)\n",
    "    analyseMuonEvt(tree_muons, h_mass_muons)\n",
    "    analyseElectronEvt(tree_electrons, h_mass_electrons)\n",
    "    ievt+=1\n",
    "print(\"Analysed {} events\".format(nevents))\n"
   ]
  },
  {
   "cell_type": "code",
   "execution_count": 8,
   "metadata": {},
   "outputs": [
    {
     "name": "stdout",
     "output_type": "stream",
     "text": [
      "Analysed more events for electrons, now the two histos have the same nr of events\n"
     ]
    }
   ],
   "source": [
    "# If you want the same nr of entries in the two histos, execute this cell\n",
    "nentries_ele=h_mass_electrons.GetEntries()\n",
    "nentries_muon=h_mass_muons.GetEntries()\n",
    "fillMu=True if nentries_muon < nentries_ele else False\n",
    "h_keepfilling=h_mass_muons if fillMu else h_mass_electrons\n",
    "nentries = nentries_ele if fillMu else nentries_muon\n",
    "tree = tree_muons if fillMu else tree_electrons\n",
    "while h_keepfilling.GetEntries() < nentries and ievt < tree.GetEntries():\n",
    "    tree.GetEntry(ievt)\n",
    "    analyseMuonEvt(tree, h_keepfilling) if fillMu else analyseElectronEvt(tree, h_keepfilling)\n",
    "    ievt+=1\n",
    "print(\"Analysed more events for {}, now the two histos have the same nr of events\".format(\"muons\" if fillMu else \"electrons\"))\n",
    "    "
   ]
  },
  {
   "cell_type": "code",
   "execution_count": 9,
   "metadata": {},
   "outputs": [
    {
     "name": "stdout",
     "output_type": "stream",
     "text": [
      "nentries electron histogram = 2603.0\n",
      "nentries muon histogram = 2603.0\n"
     ]
    }
   ],
   "source": [
    "print(\"nentries electron histogram = {}\".format(h_mass_electrons.GetEntries()))\n",
    "print(\"nentries muon histogram = {}\".format(h_mass_muons.GetEntries()))"
   ]
  },
  {
   "cell_type": "code",
   "execution_count": 10,
   "metadata": {},
   "outputs": [],
   "source": [
    "#ievt=0\n",
    "#for evt in tree_electrons:\n",
    "#    if evt.lep_n != 2: continue\n",
    "#    if not (evt.lep_type[0]==11 and evt.lep_type[1]==11): continue # 11=electron\n",
    "#    if (evt.lep_charge[0] + evt.lep_charge[1]) != 0: continue"
   ]
  },
  {
   "cell_type": "markdown",
   "metadata": {},
   "source": [
    "### Draw"
   ]
  },
  {
   "cell_type": "code",
   "execution_count": 11,
   "metadata": {},
   "outputs": [],
   "source": [
    "%jsroot on"
   ]
  },
  {
   "cell_type": "code",
   "execution_count": 12,
   "metadata": {},
   "outputs": [],
   "source": [
    "canvas = ROOT.TCanvas(\"canvas\", \"\", 800, 600)"
   ]
  },
  {
   "cell_type": "code",
   "execution_count": 13,
   "metadata": {},
   "outputs": [],
   "source": [
    "#### Prepare: setting Breit-Wigner limits, colors on functions etc.\n",
    "norm_low = 100; norm_up = 15e3\n",
    "mean_low = 80; mean_up = 100\n",
    "width_low = 0.1; width_up = 8.\n",
    "def setBWLims(func):\n",
    "    ''' Set limits on BW parameters '''\n",
    "    func.SetParameters(0.5*(norm_low+norm_up), 0.5*(mean_low+mean_up), 0.5*(width_low+width_up))\n",
    "    func.SetParLimits(0, norm_low, norm_up)\n",
    "    func.SetParLimits(1, mean_low, mean_up)\n",
    "    func.SetParLimits(2, width_low, width_up)\n",
    "def setColor(ROOT_obj, color=ROOT.kBlack):\n",
    "    ''' set (line) color'''\n",
    "    ROOT_obj.SetLineColor(color)\n",
    "### bkg limits\n",
    "const_low = 0.\n",
    "def setBkgLimits(func):\n",
    "    ''' set limits on fcn p0+e^{p1+p2*x}'''\n",
    "    #func.SetParLimits(0, const_low, 1e6)\n",
    "    #func.SetParameter(0, 10)\n",
    "    pass\n",
    "    "
   ]
  },
  {
   "cell_type": "code",
   "execution_count": 14,
   "metadata": {},
   "outputs": [],
   "source": [
    "def myBW(x, params):\n",
    "    import math\n",
    "    mean=params[1]; gamma=params[2]\n",
    "    x=x[0]\n",
    "    bw = gamma/((x-mean)*(x-mean) + gamma*gamma/4)\n",
    "    return params[0]*bw/(2*math.pi);"
   ]
  },
  {
   "cell_type": "code",
   "execution_count": 15,
   "metadata": {},
   "outputs": [],
   "source": [
    "# fBW = ROOT.TF1(\"BW\", myBW, xlow_fit, xup_fit, 3)\n",
    "# setBWLims(fBW)\n",
    "# fBW.Eval(80)\n",
    "# fBW.SetParameter(0, )"
   ]
  },
  {
   "cell_type": "code",
   "execution_count": 16,
   "metadata": {
    "slideshow": {
     "slide_type": "slide"
    }
   },
   "outputs": [
    {
     "name": "stdout",
     "output_type": "stream",
     "text": [
      "Formula based function:     BW \n",
      "                   BW : [0]*TMath::BreitWigner(x, [1], [2]) Ndim= 1, Npar= 3, Number= 0 \n",
      " Formula expression: \n",
      "\t[p0]*TMath::BreitWigner(x,[p1],[p2]) \n",
      "Formula based function:     bkg \n",
      "                  bkg : pol0+expo(1) Ndim= 1, Npar= 3, Number= 0 \n",
      " Formula expression: \n",
      "\t[p0]+exp([p1]+[p2]*x) \n",
      "Formula based function:     model \n",
      "                model : BW+bkg Ndim= 1, Npar= 6, Number= 0 \n",
      " Formula expression: \n",
      "\t([p0]*TMath::BreitWigner(x,[p1],[p2]))+([p3]+exp([p4]+[p5]*x)) \n"
     ]
    }
   ],
   "source": [
    "#### DEFINE SOME BREIT-WIGNER FUNCTIONS\n",
    "xlow_fit=40.; xup_fit=140.;\n",
    "#foo=ROOT.TMath.BreitWigner(4., 3., 3.)\n",
    "fBW = ROOT.TF1(\"BW\", \"[0]*TMath::BreitWigner(x, [1], [2])\", xlow_fit, xup_fit)\n",
    "setBWLims(fBW)\n",
    "fBW.Print()\n",
    "# constant plus exponential for bkg\n",
    "fBkg = ROOT.TF1(\"bkg\", \"pol0+expo(1)\", xlow_fit, xup_fit)\n",
    "setBkgLimits(fBkg)\n",
    "fBkg.Print()\n",
    "fModel = ROOT.TF1(\"model\", \"BW+bkg\", xlow_fit, xup_fit)\n",
    "setBWLims(fModel)\n",
    "fModel.Print()\n",
    "# fModel.SetParLimits(3, 0., 1e6) # hard-code\n",
    "# set color\n",
    "setColor(fModel); \n",
    "setColor(fBW, ROOT.kRed)\n",
    "setColor(fBkg, ROOT.kBlue)\n",
    "# things needed for JSROOT\n",
    "fBW.Save(xlow_fit, xup_fit,0,0,0,0);\n",
    "fBkg.Save(xlow_fit, xup_fit,0,0,0,0);\n",
    "fModel.Save(xlow_fit, xup_fit,0,0,0,0);"
   ]
  },
  {
   "cell_type": "markdown",
   "metadata": {
    "slideshow": {
     "slide_type": "slide"
    }
   },
   "source": [
    "### Fit"
   ]
  },
  {
   "cell_type": "markdown",
   "metadata": {},
   "source": [
    "#### Breit-Wigner around peak only"
   ]
  },
  {
   "cell_type": "markdown",
   "metadata": {},
   "source": [
    "fitresult=h_mass_electrons.Fit(\"BW\", \"SLM\", \"e1p\", 87., 94.) # store fit result\n",
    "## draw signal and bkg separately\n",
    "#fitresult_parameters={}\n",
    "#for i_p,p in enumerate(fitresult.Parameters()):\n",
    "#    fitresult_parameters[i_p]=(p, fitresult.ParError(i_p))\n",
    "\n",
    "print(\"###########\\nZ boson mass from BW fit around peak = {:.2f} +/- {:.2f}\".format(fitresult.Parameter(1), fitresult.ParError(1)))\n",
    "print(\"###########\\n\")\n",
    "\n",
    "print(\"###########\\nZ boson width from BW fit around peak = {:.2f} +/- {:.2f}\".format(fitresult.Parameter(2), fitresult.ParError(2)))\n",
    "print(\"###########\\n\")\n",
    "canvas.Draw()\n"
   ]
  },
  {
   "cell_type": "code",
   "execution_count": 17,
   "metadata": {
    "scrolled": false,
    "slideshow": {
     "slide_type": "slide"
    }
   },
   "outputs": [
    {
     "name": "stdout",
     "output_type": "stream",
     "text": [
      "###########\n",
      "[Z->ee] Z boson mass from BW fit around peak = 89.87 +/- 0.09\n",
      "[Z->ee] Z boson width from BW fit around peak = 5.44 +/- 0.19\n",
      "###########\n",
      "\n",
      "###########\n",
      "[Z->mm]Z boson mass from BW fit around peak = 90.71 +/- 0.07\n",
      "[Z->mm]Z boson width from BW fit around peak = 4.46 +/- 0.16\n",
      "###########\n",
      "\n",
      " FCN=61.1333 FROM HESSE     STATUS=OK             40 CALLS         497 TOTAL\n",
      "                     EDM=6.97874e-10    STRATEGY= 1      ERROR MATRIX ACCURATE \n",
      "  EXT PARAMETER                                   STEP         FIRST   \n",
      "  NO.   NAME      VALUE            ERROR          SIZE      DERIVATIVE \n",
      "   1  p0           4.06524e+03   9.86198e+01   1.45447e-05   1.14652e-03\n",
      "   2  p1           8.98739e+01   8.70767e-02   9.31200e-06  -1.39931e-03\n",
      "   3  p2           5.44209e+00   1.85526e-01   9.56490e-06  -5.47566e-05\n",
      "   4  p3          -1.55347e+00   5.70578e-01   5.11752e-05  -3.27782e-05\n",
      "   5  p4           3.80757e+00   4.53340e-01   1.95743e-05  -5.89155e-05\n",
      "   6  p5          -3.29327e-02   9.82066e-03   3.28234e-07  -4.78030e-03\n",
      "                               ERR DEF= 0.5\n",
      " FCN=41.6388 FROM HESSE     STATUS=OK             40 CALLS         356 TOTAL\n",
      "                     EDM=7.0391e-08    STRATEGY= 1      ERROR MATRIX ACCURATE \n",
      "  EXT PARAMETER                                   STEP         FIRST   \n",
      "  NO.   NAME      VALUE            ERROR          SIZE      DERIVATIVE \n",
      "   1  p0           4.04785e+03   9.54794e+01   1.20088e-05   1.99460e-04\n",
      "   2  p1           9.07057e+01   6.75332e-02   6.05605e-06  -1.16813e-02\n",
      "   3  p2           4.46348e+00   1.55073e-01   3.19742e-05  -5.33074e-03\n",
      "   4  p3          -1.00321e+00   4.34373e-01   2.04935e-04  -5.72467e-04\n",
      "   5  p4           3.84482e+00   4.85944e-01   1.74759e-05   7.25966e-05\n",
      "   6  p5          -3.60237e-02   1.01792e-02   1.53819e-06  -3.21323e-02\n",
      "                               ERR DEF= 0.5\n"
     ]
    },
    {
     "name": "stderr",
     "output_type": "stream",
     "text": [
      "Info in <TCanvas::Print>: png file ./fit_eleplusmu.png has been created\n"
     ]
    },
    {
     "data": {
      "text/html": [
       "\n",
       "<div id=\"root_plot_1\"\n",
       "     style=\"width: 796px; height: 572px\">\n",
       "</div>\n",
       "\n",
       "<script>\n",
       " requirejs.config({\n",
       "     paths: {\n",
       "       'JSRootCore' : 'https://root.cern.ch/js/notebook//scripts/JSRootCore',\n",
       "     }\n",
       "   });\n",
       " require(['JSRootCore'],\n",
       "     function(Core) {\n",
       "       var obj = Core.JSONR_unref({\"_typename\":\"TCanvas\",\"fUniqueID\":0,\"fBits\":53673992,\"fLineColor\":1,\"fLineStyle\":1,\"fLineWidth\":1,\"fFillColor\":0,\"fFillStyle\":1001,\"fLeftMargin\":0.1,\"fRightMargin\":0.1,\"fBottomMargin\":0.1,\"fTopMargin\":0.1,\"fXfile\":2,\"fYfile\":2,\"fAfile\":1,\"fXstat\":0.99,\"fYstat\":0.99,\"fAstat\":2,\"fFrameFillColor\":0,\"fFrameLineColor\":1,\"fFrameFillStyle\":1001,\"fFrameLineStyle\":1,\"fFrameLineWidth\":1,\"fFrameBorderSize\":1,\"fFrameBorderMode\":0,\"fX1\":16.2499989755451,\"fY1\":-71.63750533741,\"fX2\":153.750001024455,\"fY2\":644.73750533741,\"fXtoAbsPixelk\":-94.0726699402719,\"fXtoPixelk\":-94.0726699402719,\"fXtoPixel\":5.78909082282673,\"fYtoAbsPixelk\":514.800046590614,\"fYtoPixelk\":514.800046590614,\"fYtoPixel\":-0.798464479464715,\"fUtoAbsPixelk\":5e-5,\"fUtoPixelk\":5e-5,\"fUtoPixel\":796,\"fVtoAbsPixelk\":572.00005,\"fVtoPixelk\":572,\"fVtoPixel\":-572,\"fAbsPixeltoXk\":16.2499989755451,\"fPixeltoXk\":16.2499989755451,\"fPixeltoX\":0.172738696041344,\"fAbsPixeltoYk\":644.73750533741,\"fPixeltoYk\":-71.63750533741,\"fPixeltoY\":-1.25240386481612,\"fXlowNDC\":0,\"fYlowNDC\":0,\"fXUpNDC\":0,\"fYUpNDC\":0,\"fWNDC\":1,\"fHNDC\":1,\"fAbsXlowNDC\":0,\"fAbsYlowNDC\":0,\"fAbsWNDC\":1,\"fAbsHNDC\":1,\"fUxmin\":30,\"fUymin\":0,\"fUxmax\":140,\"fUymax\":573.1,\"fTheta\":30,\"fPhi\":30,\"fAspectRatio\":0,\"fNumber\":0,\"fTickx\":0,\"fTicky\":0,\"fLogx\":0,\"fLogy\":0,\"fLogz\":0,\"fPadPaint\":0,\"fCrosshair\":0,\"fCrosshairPos\":0,\"fBorderSize\":2,\"fBorderMode\":0,\"fModified\":false,\"fGridx\":false,\"fGridy\":false,\"fAbsCoord\":false,\"fEditable\":true,\"fFixedAspectRatio\":false,\"fPrimitives\":{\"_typename\":\"TList\",\"name\":\"TList\",\"arr\":[{\"_typename\":\"TFrame\",\"fUniqueID\":0,\"fBits\":50331656,\"fLineColor\":1,\"fLineStyle\":1,\"fLineWidth\":1,\"fFillColor\":0,\"fFillStyle\":1001,\"fX1\":30,\"fY1\":0,\"fX2\":140,\"fY2\":573.1,\"fBorderSize\":1,\"fBorderMode\":0},{\"_typename\":\"TH1F\",\"fUniqueID\":0,\"fBits\":50331656,\"fName\":\"h_mass_electrons\",\"fTitle\":\"\",\"fLineColor\":1,\"fLineStyle\":1,\"fLineWidth\":1,\"fFillColor\":0,\"fFillStyle\":1001,\"fMarkerColor\":1,\"fMarkerStyle\":1,\"fMarkerSize\":1,\"fNcells\":62,\"fXaxis\":{\"_typename\":\"TAxis\",\"fUniqueID\":0,\"fBits\":50331648,\"fName\":\"xaxis\",\"fTitle\":\" Invariant mass [GeV]\",\"fNdivisions\":510,\"fAxisColor\":1,\"fLabelColor\":1,\"fLabelFont\":42,\"fLabelOffset\":0.005,\"fLabelSize\":0.035,\"fTickLength\":0.03,\"fTitleOffset\":1,\"fTitleSize\":0.035,\"fTitleColor\":1,\"fTitleFont\":42,\"fNbins\":60,\"fXmin\":30,\"fXmax\":140,\"fXbins\":[],\"fFirst\":0,\"fLast\":0,\"fBits2\":0,\"fTimeDisplay\":false,\"fTimeFormat\":\"\",\"fLabels\":null,\"fModLabs\":null},\"fYaxis\":{\"_typename\":\"TAxis\",\"fUniqueID\":0,\"fBits\":50331648,\"fName\":\"yaxis\",\"fTitle\":\" Number of events\",\"fNdivisions\":510,\"fAxisColor\":1,\"fLabelColor\":1,\"fLabelFont\":42,\"fLabelOffset\":0.005,\"fLabelSize\":0.035,\"fTickLength\":0.03,\"fTitleOffset\":0,\"fTitleSize\":0.035,\"fTitleColor\":1,\"fTitleFont\":42,\"fNbins\":1,\"fXmin\":0,\"fXmax\":1,\"fXbins\":[],\"fFirst\":0,\"fLast\":0,\"fBits2\":0,\"fTimeDisplay\":false,\"fTimeFormat\":\"\",\"fLabels\":null,\"fModLabs\":null},\"fZaxis\":{\"_typename\":\"TAxis\",\"fUniqueID\":0,\"fBits\":50331648,\"fName\":\"zaxis\",\"fTitle\":\"\",\"fNdivisions\":510,\"fAxisColor\":1,\"fLabelColor\":1,\"fLabelFont\":42,\"fLabelOffset\":0.005,\"fLabelSize\":0.035,\"fTickLength\":0.03,\"fTitleOffset\":1,\"fTitleSize\":0.035,\"fTitleColor\":1,\"fTitleFont\":42,\"fNbins\":1,\"fXmin\":0,\"fXmax\":1,\"fXbins\":[],\"fFirst\":0,\"fLast\":0,\"fBits2\":0,\"fTimeDisplay\":false,\"fTimeFormat\":\"\",\"fLabels\":null,\"fModLabs\":null},\"fBarOffset\":0,\"fBarWidth\":1000,\"fEntries\":2603,\"fTsumw\":2321,\"fTsumw2\":2321,\"fTsumwx\":198850.284332823,\"fTsumwx2\":17513721.2954262,\"fMaximum\":573.1,\"fMinimum\":-1111,\"fNormFactor\":0,\"fContour\":[],\"fSumw2\":[],\"fOption\":\"\",\"fFunctions\":{\"_typename\":\"TList\",\"name\":\"TList\",\"arr\":[{\"_typename\":\"TF1\",\"fUniqueID\":0,\"fBits\":50332680,\"fName\":\"model\",\"fTitle\":\"BW+bkg\",\"fLineColor\":1,\"fLineStyle\":1,\"fLineWidth\":2,\"fFillColor\":19,\"fFillStyle\":0,\"fMarkerColor\":1,\"fMarkerStyle\":1,\"fMarkerSize\":1,\"fXmin\":40,\"fXmax\":140,\"fNpar\":6,\"fNdim\":1,\"fNpx\":100,\"fType\":0,\"fNpfits\":55,\"fNDF\":49,\"fChisquare\":172.204771028165,\"fMinimum\":-1111,\"fMaximum\":-1111,\"fParErrors\":[98.6198178480622,0.0870767006675592,0.185525757444226,0.570577620994256,0.453339598028534,0.00982066493374112],\"fParMin\":[100,80,0.1,0,0,0],\"fParMax\":[15000,100,8,0,0,0],\"fSave\":[11.9222942230372,11.5896163503642,11.2732675529011,10.9731521518548,10.6892221723242,10.4214815266693,10.1699909489626,9.93487381760575,9.71632303272162,9.51460915165616,9.3300900318171,9.1632222877247,9.01457494193864,8.8848457419446,8.77488073310499,8.6856978294081,8.61851531979721,8.574786503036,8.55624197853495,8.56494156221781,8.60333838425425,8.67435851410865,8.78150052574954,8.92896087393228,9.12179296373548,9.36611059878979,9.66935044406005,10.040613771816,10.4911158922141,11.0347835704218,11.6890583968712,12.4759907027976,13.4237494099258,14.5687368241313,15.9585984887361,17.6565821710203,19.7479717357622,22.3497822509285,25.6257024499145,29.8096938107327,35.2442487529823,42.4441334218805,52.2055110117529,65.797178937759,85.2994038742985,114.188963079606,158.208113074972,225.80497813389,323.496955050619,431.936413256897,475.308409155933,406.716431690835,295.908344986695,205.546475621331,144.621338767608,104.960622820308,78.7171046803793,60.8075015467413,48.1793704857002,39.0004587798889,32.1456246394564,26.9034223088945,22.8103817375972,19.5559509327876,16.9265971743081,14.7720225980123,12.9841837592928,11.4839228195831,10.2122424128076,9.12448409973028,8.18636461767094,7.37122643105631,6.6580977834999,6.03030230774338,5.47444804405302,4.97968249748973,4.53713694063494,4.13950714108165,3.78073366079492,3.4557556716667,3.16031963594235,2.89082934507012,2.64422742971966,2.41790102924463,2.20960616168613,2.01740668199754,1.83962470429077,1.67480009559069,1.52165719504977,1.3790773240296,1.24607596464379,1.12178372295923,1.00543037667997,0.896331449389922,0.793876864321789,0.69752131758132,0.60677607934139,0.521201985907473,0.440403428908815,0.364023182598921,0.291737938203009,40,140],\"fNormalized\":false,\"fNormIntegral\":0,\"fFormula\":{\"_typename\":\"TFormula\",\"fUniqueID\":0,\"fBits\":50332672,\"fName\":\"model\",\"fTitle\":\"BW+bkg\",\"fClingParameters\":[4065.24378816529,89.8739338682172,5.4420852625179,-1.55346576585732,3.80756953901412,-0.0329327387529965],\"fAllParametersSetted\":true,\"fParams\":[{\"$pair\":\"pair<TString,int,TFormulaParamOrder>\",\"first\":\"p0\",\"second\":0},{\"$pair\":\"pair<TString,int,TFormulaParamOrder>\",\"first\":\"p1\",\"second\":1},{\"$pair\":\"pair<TString,int,TFormulaParamOrder>\",\"first\":\"p2\",\"second\":2},{\"$pair\":\"pair<TString,int,TFormulaParamOrder>\",\"first\":\"p3\",\"second\":3},{\"$pair\":\"pair<TString,int,TFormulaParamOrder>\",\"first\":\"p4\",\"second\":4},{\"$pair\":\"pair<TString,int,TFormulaParamOrder>\",\"first\":\"p5\",\"second\":5}],\"fFormula\":\"([p0]*TMath::BreitWigner(x,[p1],[p2]))+([p3]+exp([p4]+[p5]*x))\",\"fNdim\":1,\"fLinearParts\":[],\"fVectorized\":false},\"fParams\":null,\"fComposition_ptr\":null},{\"_typename\":\"TPaveStats\",\"fUniqueID\":0,\"fBits\":50331657,\"fLineColor\":1,\"fLineStyle\":1,\"fLineWidth\":1,\"fFillColor\":0,\"fFillStyle\":1001,\"fX1\":123.500002786517,\"fY1\":483.553132205503,\"fX2\":151.000003606081,\"fY2\":598.173131351518,\"fX1NDC\":0.780000016093254,\"fY1NDC\":0.775000005960464,\"fX2NDC\":0.980000019073486,\"fY2NDC\":0.935000002384186,\"fBorderSize\":1,\"fInit\":1,\"fShadowColor\":1,\"fCornerRadius\":0,\"fOption\":\"brNDC\",\"fName\":\"stats\",\"fTextAngle\":0,\"fTextSize\":0,\"fTextAlign\":12,\"fTextColor\":1,\"fTextFont\":42,\"fLabel\":\"\",\"fLongest\":18,\"fMargin\":0.05,\"fLines\":{\"_typename\":\"TList\",\"name\":\"TList\",\"arr\":[{\"_typename\":\"TLatex\",\"fUniqueID\":0,\"fBits\":50331648,\"fName\":\"\",\"fTitle\":\"h_mass_electrons\",\"fTextAngle\":0,\"fTextSize\":0.0368,\"fTextAlign\":0,\"fTextColor\":0,\"fTextFont\":0,\"fX\":0,\"fY\":0,\"fLineColor\":1,\"fLineStyle\":1,\"fLineWidth\":2,\"fLimitFactorSize\":3,\"fOriginSize\":0.0322694959551443},{\"_typename\":\"TLatex\",\"fUniqueID\":0,\"fBits\":50331648,\"fName\":\"\",\"fTitle\":\"Entries = 2603   \",\"fTextAngle\":0,\"fTextSize\":0,\"fTextAlign\":0,\"fTextColor\":0,\"fTextFont\":0,\"fX\":0,\"fY\":0,\"fLineColor\":1,\"fLineStyle\":1,\"fLineWidth\":2,\"fLimitFactorSize\":3,\"fOriginSize\":0.0319107882678509},{\"_typename\":\"TLatex\",\"fUniqueID\":0,\"fBits\":50331648,\"fName\":\"\",\"fTitle\":\"Mean  =  85.67\",\"fTextAngle\":0,\"fTextSize\":0,\"fTextAlign\":0,\"fTextColor\":0,\"fTextFont\":0,\"fX\":0,\"fY\":0,\"fLineColor\":1,\"fLineStyle\":1,\"fLineWidth\":2,\"fLimitFactorSize\":3,\"fOriginSize\":0.0319107882678509},{\"_typename\":\"TLatex\",\"fUniqueID\":0,\"fBits\":50331648,\"fName\":\"\",\"fTitle\":\"Std Dev   =  14.34\",\"fTextAngle\":0,\"fTextSize\":0,\"fTextAlign\":0,\"fTextColor\":0,\"fTextFont\":0,\"fX\":0,\"fY\":0,\"fLineColor\":1,\"fLineStyle\":1,\"fLineWidth\":2,\"fLimitFactorSize\":3,\"fOriginSize\":0.0319107882678509}],\"opt\":[\"\",\"\",\"\",\"\"]},\"fOptFit\":0,\"fOptStat\":1111,\"fFitFormat\":\"5.4g\",\"fStatFormat\":\"6.4g\",\"fParent\":{\"$ref\":3}}],\"opt\":[\"\",\"brNDC\"]},\"fBufferSize\":0,\"fBuffer\":[],\"fBinStatErrOpt\":0,\"fStatOverflows\":2,\"fArray\":[264,15,13,11,14,14,11,10,7,6,10,11,12,14,8,7,12,8,9,8,12,13,16,12,16,16,19,34,45,59,106,176,303,405,415,232,85,48,27,11,10,6,10,3,8,2,2,5,3,4,3,4,0,0,3,2,2,2,1,1,0,18]},{\"_typename\":\"TH1F\",\"fUniqueID\":0,\"fBits\":50331656,\"fName\":\"h_mass_muons\",\"fTitle\":\"\",\"fLineColor\":632,\"fLineStyle\":1,\"fLineWidth\":1,\"fFillColor\":0,\"fFillStyle\":1001,\"fMarkerColor\":632,\"fMarkerStyle\":1,\"fMarkerSize\":1,\"fNcells\":62,\"fXaxis\":{\"_typename\":\"TAxis\",\"fUniqueID\":0,\"fBits\":50331648,\"fName\":\"xaxis\",\"fTitle\":\" Invariant mass [GeV]\",\"fNdivisions\":510,\"fAxisColor\":1,\"fLabelColor\":1,\"fLabelFont\":42,\"fLabelOffset\":0.005,\"fLabelSize\":0.035,\"fTickLength\":0.03,\"fTitleOffset\":1,\"fTitleSize\":0.035,\"fTitleColor\":1,\"fTitleFont\":42,\"fNbins\":60,\"fXmin\":30,\"fXmax\":140,\"fXbins\":[],\"fFirst\":0,\"fLast\":0,\"fBits2\":0,\"fTimeDisplay\":false,\"fTimeFormat\":\"\",\"fLabels\":null,\"fModLabs\":null},\"fYaxis\":{\"_typename\":\"TAxis\",\"fUniqueID\":0,\"fBits\":50331648,\"fName\":\"yaxis\",\"fTitle\":\" Number of events\",\"fNdivisions\":510,\"fAxisColor\":1,\"fLabelColor\":1,\"fLabelFont\":42,\"fLabelOffset\":0.005,\"fLabelSize\":0.035,\"fTickLength\":0.03,\"fTitleOffset\":0,\"fTitleSize\":0.035,\"fTitleColor\":1,\"fTitleFont\":42,\"fNbins\":1,\"fXmin\":0,\"fXmax\":1,\"fXbins\":[],\"fFirst\":0,\"fLast\":0,\"fBits2\":0,\"fTimeDisplay\":false,\"fTimeFormat\":\"\",\"fLabels\":null,\"fModLabs\":null},\"fZaxis\":{\"_typename\":\"TAxis\",\"fUniqueID\":0,\"fBits\":50331648,\"fName\":\"zaxis\",\"fTitle\":\"\",\"fNdivisions\":510,\"fAxisColor\":1,\"fLabelColor\":1,\"fLabelFont\":42,\"fLabelOffset\":0.005,\"fLabelSize\":0.035,\"fTickLength\":0.03,\"fTitleOffset\":1,\"fTitleSize\":0.035,\"fTitleColor\":1,\"fTitleFont\":42,\"fNbins\":1,\"fXmin\":0,\"fXmax\":1,\"fXbins\":[],\"fFirst\":0,\"fLast\":0,\"fBits2\":0,\"fTimeDisplay\":false,\"fTimeFormat\":\"\",\"fLabels\":null,\"fModLabs\":null},\"fBarOffset\":0,\"fBarWidth\":1000,\"fEntries\":2603,\"fTsumw\":2300,\"fTsumw2\":2300,\"fTsumwx\":200879.992980052,\"fTsumwx2\":17943434.7012975,\"fMaximum\":-1111,\"fMinimum\":-1111,\"fNormFactor\":0,\"fContour\":[],\"fSumw2\":[],\"fOption\":\"\",\"fFunctions\":{\"_typename\":\"TList\",\"name\":\"TList\",\"arr\":[{\"_typename\":\"TF1\",\"fUniqueID\":0,\"fBits\":50332680,\"fName\":\"model\",\"fTitle\":\"BW+bkg\",\"fLineColor\":632,\"fLineStyle\":1,\"fLineWidth\":2,\"fFillColor\":19,\"fFillStyle\":0,\"fMarkerColor\":1,\"fMarkerStyle\":1,\"fMarkerSize\":1,\"fXmin\":40,\"fXmax\":140,\"fNpar\":6,\"fNdim\":1,\"fNpx\":100,\"fType\":0,\"fNpfits\":55,\"fNDF\":49,\"fChisquare\":102.971629872169,\"fMinimum\":-1111,\"fMaximum\":-1111,\"fParErrors\":[95.4794325424364,0.0675332254537366,0.155072661665281,0.434373255889772,0.485944265339852,0.0101792397508159],\"fParMin\":[100,80,0.1,0,0,0],\"fParMax\":[15000,100,8,0,0,0],\"fSave\":[11.1789840867632,10.8327182425901,10.5031155525195,10.1899230037067,9.89293047219346,9.61197348076176,9.34693650884648,9.09775695118128,8.86442984247088,8.64701349095126,8.44563619554967,8.26050426123358,8.09191157732298,7.94025108704001,7.80602855737461,7.68987916177924,7.59258752143601,7.51511202357124,7.45861446078329,7.42449633184977,7.41444353734094,7.43048172811489,7.47504527168956,7.55106376246238,7.66207132067665,7.81234575380262,8.00708721738489,8.25264964739195,8.55684345493565,8.92933556718241,9.38218410398623,9.93056177283656,10.593747650878,11.3965067096002,12.3710392004462,13.5597833851011,15.0195225941443,16.8275313641676,19.0909893736572,21.9617775786936,25.6604106582388,30.51600170432,37.0353960041695,46.0274598444401,58.835788776112,77.7917110763518,107.119162861296,154.696506946786,234.712289039247,365.335299890095,525.678680765233,568.232409989505,432.731435192667,281.331825511879,182.196689497059,123.29646863815,87.5798607645922,64.8926811910796,49.785210197532,39.2947085929783,31.7445247359859,26.1428544380958,21.8779883458529,18.5582252131869,15.9242903823973,13.7994849262947,12.0602509881297,10.6182038344846,9.40882979924141,8.38418288923244,7.5080493863165,6.75267556193857,6.09650886731681,5.52261038391017,5.01752059526274,4.57043678671042,4.17260818650579,3.81688554430044,3.49738177141897,3.20921347709175,2.94830213059074,2.7112196585012,2.49506749806198,2.29738108278057,2.11605383503734,1.94927624723419,1.79548672641451,1.65333167847771,1.52163290066961,1.39936079312278,1.28561223278774,1.17959220522894,1.08059848233071,0.988008782072394,0.901269961213016,0.819888881084971,0.743424656745078,0.671482054959769,0.603705850283834,0.539775983383522,0.479403393700222,40,140],\"fNormalized\":false,\"fNormIntegral\":0,\"fFormula\":{\"_typename\":\"TFormula\",\"fUniqueID\":0,\"fBits\":50332672,\"fName\":\"model\",\"fTitle\":\"BW+bkg\",\"fClingParameters\":[4047.85364704127,90.7057315881979,4.46348192303222,-1.00320782481828,3.84481867019817,-0.0360236796821238],\"fAllParametersSetted\":true,\"fParams\":[{\"$pair\":\"pair<TString,int,TFormulaParamOrder>\",\"first\":\"p0\",\"second\":0},{\"$pair\":\"pair<TString,int,TFormulaParamOrder>\",\"first\":\"p1\",\"second\":1},{\"$pair\":\"pair<TString,int,TFormulaParamOrder>\",\"first\":\"p2\",\"second\":2},{\"$pair\":\"pair<TString,int,TFormulaParamOrder>\",\"first\":\"p3\",\"second\":3},{\"$pair\":\"pair<TString,int,TFormulaParamOrder>\",\"first\":\"p4\",\"second\":4},{\"$pair\":\"pair<TString,int,TFormulaParamOrder>\",\"first\":\"p5\",\"second\":5}],\"fFormula\":\"([p0]*TMath::BreitWigner(x,[p1],[p2]))+([p3]+exp([p4]+[p5]*x))\",\"fNdim\":1,\"fLinearParts\":[],\"fVectorized\":false},\"fParams\":null,\"fComposition_ptr\":null}],\"opt\":[\"\"]},\"fBufferSize\":0,\"fBuffer\":[],\"fBinStatErrOpt\":0,\"fStatOverflows\":2,\"fArray\":[280,6,10,13,5,9,7,12,6,7,13,11,11,6,7,8,8,9,9,9,8,4,13,9,10,26,16,19,32,38,58,125,230,434,521,292,118,65,28,19,10,12,4,6,3,3,2,6,6,2,2,2,1,0,3,1,1,2,0,1,2,23]}],\"opt\":[\"\",\"e1p\",\"SAME e1p \"]},\"fExecs\":null,\"fName\":\"canvas\",\"fTitle\":\"\",\"fNumPaletteColor\":0,\"fNextPaletteColor\":0,\"fDISPLAY\":\"$DISPLAY\",\"fDoubleBuffer\":0,\"fRetained\":true,\"fXsizeUser\":0,\"fYsizeUser\":0,\"fXsizeReal\":20,\"fYsizeReal\":15,\"fWindowTopX\":0,\"fWindowTopY\":0,\"fWindowWidth\":0,\"fWindowHeight\":0,\"fCw\":796,\"fCh\":572,\"fCatt\":{\"_typename\":\"TAttCanvas\",\"fXBetween\":2,\"fYBetween\":2,\"fTitleFromTop\":1.2,\"fXdate\":0.2,\"fYdate\":0.3,\"fAdate\":1},\"kMoveOpaque\":true,\"kResizeOpaque\":true,\"fHighLightColor\":2,\"fBatch\":true,\"kShowEventStatus\":false,\"kAutoExec\":true,\"kMenuBar\":true});\n",
       "       Core.draw(\"root_plot_1\", obj, \"\");\n",
       "     }\n",
       " );\n",
       "</script>\n"
      ],
      "text/plain": [
       "<IPython.core.display.HTML object>"
      ]
     },
     "metadata": {},
     "output_type": "display_data"
    }
   ],
   "source": [
    "### fit electron\n",
    "fitresult_el=h_mass_electrons.Fit(\"model\", \"SLM\", \"e1p\", xlow_fit, xup_fit) # store fit result\n",
    "# set fit line color\n",
    "h_mass_electrons.GetFunction(\"model\").SetLineColor( h_mass_electrons.GetMarkerColor() )\n",
    "\n",
    "### fit muon\n",
    "fitresult_mu=h_mass_muons.Fit(\"model\", \"SLM\", \"SAME e1p \", xlow_fit, xup_fit) # store fit result\n",
    "# set fit line color\n",
    "h_mass_muons.GetFunction(\"model\").SetLineColor( h_mass_muons.GetLineColor() )\n",
    "\n",
    "## draw signal and bkg separately\n",
    "#fitresult_parameters={}\n",
    "#for i_p,p in enumerate(fitresult.Parameters()):\n",
    "#    fitresult_parameters[i_p]=(p, fitresult.ParError(i_p))\n",
    "### signal\n",
    "#for ipar in range(3): fBW.SetParameter(ipar, fitresult_parameters[ipar][0])\n",
    "# fBW.SetParameter(1, 81.)\n",
    "# print(\"fBW.GetParameter(1) = {:.3f}\".format(fBW.GetParameter(1)))\n",
    "### bkg\n",
    "#for ipar in range(3): fBkg.SetParameter(ipar, fitresult_parameters[ipar+3][0])\n",
    "\n",
    "#for ipar in range(3): print(\"par {} = {}\".format(ipar, fBkg.GetParameter(ipar)))\n",
    "\n",
    "### DRAW\n",
    "\n",
    "# fBW.Print(\"all\")\n",
    "# test: some text\n",
    "#text=ROOT.TLatex()\n",
    "#text.DrawLatexNDC(0.4,0.4,\"foobar\")\n",
    "\n",
    "#fBkg.Draw(\"SAME\")\n",
    "#fBW.Draw(\"SAME\") ## COMMENTING THIS OUT MAKES THE PLOT INTERACTIVE AS IS SHOULD\n",
    "#print(\"fBW.GetParameter(1) = {:.3f}\".format(fBW.GetParameter(1)))\n",
    "\n",
    "print(\"###########\\n[Z->ee] Z boson mass from BW fit around peak = {:.2f} +/- {:.2f}\".format(fitresult_el.Parameter(1), fitresult_el.ParError(1)))\n",
    "print(\"[Z->ee] Z boson width from BW fit around peak = {:.2f} +/- {:.2f}\".format(fitresult_el.Parameter(2), fitresult_el.ParError(2)))\n",
    "print(\"###########\\n\")\n",
    "\n",
    "print(\"###########\\n[Z->mm]Z boson mass from BW fit around peak = {:.2f} +/- {:.2f}\".format(fitresult_mu.Parameter(1), fitresult_mu.ParError(1)))\n",
    "print(\"[Z->mm]Z boson width from BW fit around peak = {:.2f} +/- {:.2f}\".format(fitresult_mu.Parameter(2), fitresult_mu.ParError(2)))\n",
    "print(\"###########\\n\")\n",
    "\n",
    "canvas.GetPrimitive(\"h_mass_electrons\").SetMaximum( 1.1*max(h_mass_electrons.GetMaximum(), h_mass_muons.GetMaximum() ) )\n",
    "canvas.Draw()\n",
    "canvas.SaveAs(\"./fit_eleplusmu.png\") \n",
    "#canvas.SaveAs(\"./jsproblem.root\")\n"
   ]
  },
  {
   "cell_type": "code",
   "execution_count": null,
   "metadata": {},
   "outputs": [],
   "source": []
  }
 ],
 "metadata": {
  "kernelspec": {
   "display_name": "Python 3",
   "language": "python",
   "name": "python3"
  },
  "language_info": {
   "codemirror_mode": {
    "name": "ipython",
    "version": 3
   },
   "file_extension": ".py",
   "mimetype": "text/x-python",
   "name": "python",
   "nbconvert_exporter": "python",
   "pygments_lexer": "ipython3",
   "version": "3.7.0"
  }
 },
 "nbformat": 4,
 "nbformat_minor": 2
}
