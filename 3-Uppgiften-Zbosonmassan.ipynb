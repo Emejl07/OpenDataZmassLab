{
 "cells": [
  {
   "cell_type": "markdown",
   "metadata": {},
   "source": [
    "## <CENTER>  Mätning av $Z$-bosonens massa med ATLAS-data"
   ]
  },
  {
   "cell_type": "markdown",
   "metadata": {},
   "source": [
    "### Börja med att hämta datan och ladda in de i ROOT-träd."
   ]
  },
  {
   "cell_type": "code",
   "execution_count": 1,
   "metadata": {},
   "outputs": [
    {
     "name": "stdout",
     "output_type": "stream",
     "text": [
      "Welcome to JupyROOT 6.14/04\n"
     ]
    }
   ],
   "source": [
    "import ROOT"
   ]
  },
  {
   "cell_type": "code",
   "execution_count": 35,
   "metadata": {},
   "outputs": [],
   "source": [
    "# Leta på följande webbadress, där ni bör hitta två filer, en för händelser med elektroner och en för myoner\n",
    "# http://opendata.atlas.cern/release/samples\n",
    "data_file_electrons = ROOT.TFile.Open(\"http://opendata.atlas.cern/release/samples/Data/DataEgamma.root\")\n",
    "data_file_electrons_simulation = ROOT.TFile.Open(\"http://opendata.atlas.cern/release/samples/MC/mc_147770.Zee.root\")\n",
    "data_file_muons = ROOT.TFile.Open(\"http://opendata.atlas.cern/release/samples/Data/DataMuons.root\")\n",
    "data_file_muons_simulation = ROOT.TFile.Open(\"http://opendata.atlas.cern/release/samples/MC/mc_147771.Zmumu.root\")"
   ]
  },
  {
   "cell_type": "code",
   "execution_count": 36,
   "metadata": {},
   "outputs": [],
   "source": [
    "# Ladda in i träd (TFile::ls() kan användas för att lista filens innehåll)\n",
    "tree_electrons = data_file_electrons.Get(\"mini\")\n",
    "tree_electrons_simulation = data_file_electrons_simulation.Get(\"mini\")\n",
    "tree_muons = data_file_muons.Get(\"mini\")\n",
    "tree_muons_simulation = data_file_muons_simulation.Get(\"mini\")"
   ]
  },
  {
   "cell_type": "code",
   "execution_count": 28,
   "metadata": {},
   "outputs": [
    {
     "name": "stdout",
     "output_type": "stream",
     "text": [
      "******************************************************************************\n",
      "*Tree    :mini      : 4-vectors + variables required for scaling factors     *\n",
      "*Entries :  7500000 : Total =      2134734254 bytes  File  Size =  966057844 *\n",
      "*        :          : Tree compression factor =   2.21                       *\n",
      "******************************************************************************\n",
      "*Br    0 :runNumber : runNumber/I                                            *\n",
      "*Entries :  7500000 : Total  Size=   30006373 bytes  File Size  =     152653 *\n",
      "*Baskets :       63 : Basket Size=     808960 bytes  Compression= 196.56     *\n",
      "*............................................................................*\n",
      "*Br    1 :eventNumber : eventNumber/I                                        *\n",
      "*Entries :  7500000 : Total  Size=   30006507 bytes  File Size  =   16864535 *\n",
      "*Baskets :       63 : Basket Size=     808960 bytes  Compression=   1.78     *\n",
      "*............................................................................*\n",
      "*Br    2 :channelNumber : channelNumber/I                                    *\n",
      "*Entries :  7500000 : Total  Size=   30006641 bytes  File Size  =     152905 *\n",
      "*Baskets :       63 : Basket Size=     808960 bytes  Compression= 196.23     *\n",
      "*............................................................................*\n",
      "*Br    3 :mcWeight  : mcWeight/F                                             *\n",
      "*Entries :  7500000 : Total  Size=   30006306 bytes  File Size  =   17450564 *\n",
      "*Baskets :       63 : Basket Size=     808960 bytes  Compression=   1.72     *\n",
      "*............................................................................*\n",
      "*Br    4 :pvxp_n    : pvxp_n/I                                               *\n",
      "*Entries :  7500000 : Total  Size=   30006172 bytes  File Size  =    6797884 *\n",
      "*Baskets :       63 : Basket Size=     808960 bytes  Compression=   4.41     *\n",
      "*............................................................................*\n",
      "*Br    5 :vxp_z     : vxp_z/F                                                *\n",
      "*Entries :  7500000 : Total  Size=   30006105 bytes  File Size  =   27871732 *\n",
      "*Baskets :       63 : Basket Size=     808960 bytes  Compression=   1.08     *\n",
      "*............................................................................*\n",
      "*Br    6 :scaleFactor_PILEUP : scaleFactor_PILEUP/F                          *\n",
      "*Entries :  7500000 : Total  Size=   30006976 bytes  File Size  =    2007112 *\n",
      "*Baskets :       63 : Basket Size=     808960 bytes  Compression=  14.95     *\n",
      "*............................................................................*\n",
      "*Br    7 :scaleFactor_ELE : scaleFactor_ELE/F                                *\n",
      "*Entries :  7500000 : Total  Size=   30006775 bytes  File Size  =   18190282 *\n",
      "*Baskets :       63 : Basket Size=     808960 bytes  Compression=   1.65     *\n",
      "*............................................................................*\n",
      "*Br    8 :scaleFactor_MUON : scaleFactor_MUON/F                              *\n",
      "*Entries :  7500000 : Total  Size=   30006842 bytes  File Size  =     450217 *\n",
      "*Baskets :       63 : Basket Size=     808960 bytes  Compression=  66.65     *\n",
      "*............................................................................*\n",
      "*Br    9 :scaleFactor_BTAG : scaleFactor_BTAG/F                              *\n",
      "*Entries :  7500000 : Total  Size=   30006842 bytes  File Size  =   14053069 *\n",
      "*Baskets :       63 : Basket Size=     808960 bytes  Compression=   2.14     *\n",
      "*............................................................................*\n",
      "*Br   10 :scaleFactor_TRIGGER : scaleFactor_TRIGGER/F                        *\n",
      "*Entries :  7500000 : Total  Size=   30007043 bytes  File Size  =   18422368 *\n",
      "*Baskets :       63 : Basket Size=     808960 bytes  Compression=   1.63     *\n",
      "*............................................................................*\n",
      "*Br   11 :scaleFactor_JVFSF : scaleFactor_JVFSF/F                            *\n",
      "*Entries :  7500000 : Total  Size=   30006909 bytes  File Size  =     153032 *\n",
      "*Baskets :       63 : Basket Size=     808960 bytes  Compression= 196.07     *\n",
      "*............................................................................*\n",
      "*Br   12 :scaleFactor_ZVERTEX : scaleFactor_ZVERTEX/F                        *\n",
      "*Entries :  7500000 : Total  Size=   30007043 bytes  File Size  =   14123690 *\n",
      "*Baskets :       63 : Basket Size=     808960 bytes  Compression=   2.12     *\n",
      "*............................................................................*\n",
      "*Br   13 :trigE     : trigE/O                                                *\n",
      "*Entries :  7500000 : Total  Size=    7546027 bytes  File Size  =      85107 *\n",
      "*Baskets :      497 : Basket Size=      15872 bytes  Compression=  88.54     *\n",
      "*............................................................................*\n",
      "*Br   14 :trigM     : trigM/O                                                *\n",
      "*Entries :  7500000 : Total  Size=    7546027 bytes  File Size  =      89933 *\n",
      "*Baskets :      497 : Basket Size=      15872 bytes  Compression=  83.79     *\n",
      "*............................................................................*\n",
      "*Br   15 :passGRL   : passGRL/O                                              *\n",
      "*Entries :  7500000 : Total  Size=    7547029 bytes  File Size  =      85940 *\n",
      "*Baskets :      497 : Basket Size=      15872 bytes  Compression=  87.70     *\n",
      "*............................................................................*\n",
      "*Br   16 :hasGoodVertex : hasGoodVertex/O                                    *\n",
      "*Entries :  7500000 : Total  Size=    7550035 bytes  File Size  =     486816 *\n",
      "*Baskets :      497 : Basket Size=      15872 bytes  Compression=  15.49     *\n",
      "*............................................................................*\n",
      "*Br   17 :lep_n     : lep_n/i                                                *\n",
      "*Entries :  7500000 : Total  Size=   30006105 bytes  File Size  =    3118041 *\n",
      "*Baskets :       63 : Basket Size=     808960 bytes  Compression=   9.62     *\n",
      "*............................................................................*\n",
      "*Br   18 :lep_truthMatched : lep_truthMatched[lep_n]/O                       *\n",
      "*Entries :  7500000 : Total  Size=   41641781 bytes  File Size  =   12066422 *\n",
      "*Baskets :      125 : Basket Size=     808960 bytes  Compression=   3.45     *\n",
      "*............................................................................*\n",
      "*Br   19 :lep_trigMatched : lep_trigMatched[lep_n]/s                         *\n",
      "*Entries :  7500000 : Total  Size=   53269232 bytes  File Size  =   14640066 *\n",
      "*Baskets :      126 : Basket Size=     808960 bytes  Compression=   3.64     *\n",
      "*............................................................................*\n",
      "*Br   20 :lep_pt    : lep_pt[lep_n]/F                                        *\n",
      "*Entries :  7500000 : Total  Size=   76529264 bytes  File Size  =   51727096 *\n",
      "*Baskets :      188 : Basket Size=     808960 bytes  Compression=   1.48     *\n",
      "*............................................................................*\n",
      "*Br   21 :lep_eta   : lep_eta[lep_n]/F                                       *\n",
      "*Entries :  7500000 : Total  Size=   76529456 bytes  File Size  =   53826429 *\n",
      "*Baskets :      188 : Basket Size=     808960 bytes  Compression=   1.42     *\n",
      "*............................................................................*\n",
      "*Br   22 :lep_phi   : lep_phi[lep_n]/F                                       *\n",
      "*Entries :  7500000 : Total  Size=   76529456 bytes  File Size  =   53731856 *\n",
      "*Baskets :      188 : Basket Size=     808960 bytes  Compression=   1.42     *\n",
      "*............................................................................*\n",
      "*Br   23 :lep_E     : lep_E[lep_n]/F                                         *\n",
      "*Entries :  7500000 : Total  Size=   76529072 bytes  File Size  =   52157297 *\n",
      "*Baskets :      188 : Basket Size=     808960 bytes  Compression=   1.47     *\n",
      "*............................................................................*\n",
      "*Br   24 :lep_z0    : lep_z0[lep_n]/F                                        *\n",
      "*Entries :  7500000 : Total  Size=   76529264 bytes  File Size  =   54073355 *\n",
      "*Baskets :      188 : Basket Size=     808960 bytes  Compression=   1.42     *\n",
      "*............................................................................*\n",
      "*Br   25 :lep_charge : lep_charge[lep_n]/F                                   *\n",
      "*Entries :  7500000 : Total  Size=   76530032 bytes  File Size  =   15643819 *\n",
      "*Baskets :      188 : Basket Size=     808960 bytes  Compression=   4.89     *\n",
      "*............................................................................*\n",
      "*Br   26 :lep_type  : lep_type[lep_n]/i                                      *\n",
      "*Entries :  7500000 : Total  Size=   76529641 bytes  File Size  =   11046889 *\n",
      "*Baskets :      188 : Basket Size=     808960 bytes  Compression=   6.93     *\n",
      "*............................................................................*\n",
      "*Br   27 :lep_flag  : lep_flag[lep_n]/i                                      *\n",
      "*Entries :  7500000 : Total  Size=   76529641 bytes  File Size  =   21070837 *\n",
      "*Baskets :      188 : Basket Size=     808960 bytes  Compression=   3.63     *\n",
      "*............................................................................*\n",
      "*Br   28 :lep_ptcone30 : lep_ptcone30[lep_n]/F                               *\n",
      "*Entries :  7500000 : Total  Size=   76530416 bytes  File Size  =   26568297 *\n",
      "*Baskets :      188 : Basket Size=     808960 bytes  Compression=   2.88     *\n",
      "*............................................................................*\n",
      "*Br   29 :lep_etcone20 : lep_etcone20[lep_n]/F                               *\n",
      "*Entries :  7500000 : Total  Size=   76530416 bytes  File Size  =   53298378 *\n",
      "*Baskets :      188 : Basket Size=     808960 bytes  Compression=   1.44     *\n",
      "*............................................................................*\n",
      "*Br   30 :lep_trackd0pvunbiased : lep_trackd0pvunbiased[lep_n]/F             *\n",
      "*Entries :  7500000 : Total  Size=   76532144 bytes  File Size  =   54112082 *\n",
      "*Baskets :      188 : Basket Size=     808960 bytes  Compression=   1.41     *\n",
      "*............................................................................*\n",
      "*Br   31 :lep_tracksigd0pvunbiased : lep_tracksigd0pvunbiased[lep_n]/F       *\n",
      "*Entries :  7500000 : Total  Size=   76532720 bytes  File Size  =   51551681 *\n",
      "*Baskets :      188 : Basket Size=     808960 bytes  Compression=   1.48     *\n",
      "*............................................................................*\n",
      "*Br   32 :met_et    : met_et/F                                               *\n",
      "*Entries :  7500000 : Total  Size=   30006172 bytes  File Size  =   26919495 *\n",
      "*Baskets :       63 : Basket Size=     808960 bytes  Compression=   1.11     *\n",
      "*............................................................................*\n",
      "*Br   33 :met_phi   : met_phi/F                                              *\n",
      "*Entries :  7500000 : Total  Size=   30006239 bytes  File Size  =   27805880 *\n",
      "*Baskets :       63 : Basket Size=     808960 bytes  Compression=   1.08     *\n",
      "*............................................................................*\n",
      "*Br   34 :jet_n     : jet_n/i                                                *\n",
      "*Entries :  7500000 : Total  Size=   30006105 bytes  File Size  =    4188287 *\n",
      "*Baskets :       63 : Basket Size=     808960 bytes  Compression=   7.16     *\n",
      "*............................................................................*\n",
      "*Br   35 :alljet_n  : alljet_n/i                                             *\n",
      "*Entries :  7500000 : Total  Size=   30006306 bytes  File Size  =    4446992 *\n",
      "*Baskets :       63 : Basket Size=     808960 bytes  Compression=   6.75     *\n",
      "*............................................................................*\n",
      "*Br   36 :jet_pt    : jet_pt[alljet_n]/F                                     *\n",
      "*Entries :  7500000 : Total  Size=   55115326 bytes  File Size  =   30128817 *\n",
      "*Baskets :      126 : Basket Size=     808960 bytes  Compression=   1.83     *\n",
      "*............................................................................*\n",
      "*Br   37 :jet_eta   : jet_eta[alljet_n]/F                                    *\n",
      "*Entries :  7500000 : Total  Size=   55115456 bytes  File Size  =   31068560 *\n",
      "*Baskets :      126 : Basket Size=     808960 bytes  Compression=   1.77     *\n",
      "*............................................................................*\n",
      "*Br   38 :jet_phi   : jet_phi[alljet_n]/F                                    *\n",
      "*Entries :  7500000 : Total  Size=   55115456 bytes  File Size  =   31128460 *\n",
      "*Baskets :      126 : Basket Size=     808960 bytes  Compression=   1.77     *\n",
      "*............................................................................*\n",
      "*Br   39 :jet_E     : jet_E[alljet_n]/F                                      *\n",
      "*Entries :  7500000 : Total  Size=   55115196 bytes  File Size  =   30305052 *\n",
      "*Baskets :      126 : Basket Size=     808960 bytes  Compression=   1.82     *\n",
      "*............................................................................*\n",
      "*Br   40 :jet_m     : jet_m[alljet_n]/F                                      *\n",
      "*Entries :  7500000 : Total  Size=   55115196 bytes  File Size  =   30102708 *\n",
      "*Baskets :      126 : Basket Size=     808960 bytes  Compression=   1.83     *\n",
      "*............................................................................*\n",
      "*Br   41 :jet_jvf   : jet_jvf[alljet_n]/F                                    *\n",
      "*Entries :  7500000 : Total  Size=   55115456 bytes  File Size  =   26725836 *\n",
      "*Baskets :      126 : Basket Size=     808960 bytes  Compression=   2.06     *\n",
      "*............................................................................*\n",
      "*Br   42 :jet_trueflav : jet_trueflav[alljet_n]/I                            *\n",
      "*Entries :  7500000 : Total  Size=   55116099 bytes  File Size  =    9620773 *\n",
      "*Baskets :      126 : Basket Size=     808960 bytes  Compression=   5.73     *\n",
      "*............................................................................*\n",
      "*Br   43 :jet_truthMatched : jet_truthMatched[alljet_n]/I                    *\n",
      "*Entries :  7500000 : Total  Size=   55116619 bytes  File Size  =    9826796 *\n",
      "*Baskets :      126 : Basket Size=     808960 bytes  Compression=   5.61     *\n",
      "*............................................................................*\n",
      "*Br   44 :jet_SV0   : jet_SV0[alljet_n]/F                                    *\n",
      "*Entries :  7500000 : Total  Size=   55115456 bytes  File Size  =    9638925 *\n",
      "*Baskets :      126 : Basket Size=     808960 bytes  Compression=   5.72     *\n",
      "*............................................................................*\n",
      "*Br   45 :jet_MV1   : jet_MV1[alljet_n]/F                                    *\n",
      "*Entries :  7500000 : Total  Size=   55115456 bytes  File Size  =   28016793 *\n",
      "*Baskets :      126 : Basket Size=     808960 bytes  Compression=   1.97     *\n",
      "*............................................................................*\n"
     ]
    }
   ],
   "source": [
    "tree_electrons_simulation.Print()"
   ]
  },
  {
   "cell_type": "markdown",
   "metadata": {},
   "source": [
    "### Funktioner för invariant massa"
   ]
  },
  {
   "cell_type": "code",
   "execution_count": 4,
   "metadata": {},
   "outputs": [],
   "source": [
    "def getInvMass(lep1_pt, lep1_eta, lep1_phi, lep2_pt, lep2_eta, lep2_phi):\n",
    "    ''' räkna ut invarianta massan med formeln i Introduktions-notboken (antar masslösa partiklar) '''\n",
    "    import math\n",
    "    msq = 2*lep1_pt*lep2_pt*(math.cosh(lep1_eta-lep2_eta) - math.cos(lep1_phi-lep2_phi))\n",
    "    return math.sqrt(msq)"
   ]
  },
  {
   "cell_type": "code",
   "execution_count": 5,
   "metadata": {},
   "outputs": [],
   "source": [
    "def getInvMassTL(lep1_pt, lep1_eta, lep1_phi, lep1_e, lep2_pt, lep2_eta, lep2_phi, lep2_e):\n",
    "    ''' räkna ut invarianta massan med TLorentzVectors '''\n",
    "    lep1=ROOT.TLorentzVector()\n",
    "    lep2=ROOT.TLorentzVector()\n",
    "    lep1.SetPtEtaPhiE(lep1_pt, lep1_eta, lep1_phi, lep1_e)\n",
    "    lep2.SetPtEtaPhiE(lep2_pt, lep2_eta, lep2_phi, lep2_e)\n",
    "    invmass=lep1+lep2\n",
    "    return invmass.M()"
   ]
  },
  {
   "cell_type": "markdown",
   "metadata": {},
   "source": [
    "### Funktion för att analysera event"
   ]
  },
  {
   "cell_type": "code",
   "execution_count": 39,
   "metadata": {},
   "outputs": [],
   "source": [
    "# funktion för att analysera event\n",
    "def analyseEvt(evt, hmass, particle_type):\n",
    "    if evt.lep_n != 2: return\n",
    "    if not (evt.lep_type[0]==particle_type and evt.lep_type[1]==particle_type): return \n",
    "    if (evt.lep_charge[0] + evt.lep_charge[1]) != 0: return\n",
    "    # passed all cuts, fill histogram\n",
    "    hmass.Fill(getInvMass(evt.lep_pt[0]*1e-3, evt.lep_eta[0], evt.lep_phi[0], evt.lep_pt[1]*1e-3, evt.lep_eta[1], evt.lep_phi[1]))"
   ]
  },
  {
   "cell_type": "markdown",
   "metadata": {},
   "source": [
    "### Förbered histogram"
   ]
  },
  {
   "cell_type": "code",
   "execution_count": 40,
   "metadata": {},
   "outputs": [],
   "source": [
    "# Definiera binnar\n",
    "nbins=50\n",
    "lowedge=30.\n",
    "upedge=150.\n",
    "# histogram för elektron-händelser och myon-händelser\n",
    "h_mass_electrons = ROOT.TH1F(\"h_mass_electrons\", \"; Invariant mass [GeV]; Number of events\", nbins, lowedge, upedge)\n",
    "h_mass_muons = ROOT.TH1F(\"h_mass_muons\", \"; Invariant mass [GeV]; Number of events\", nbins, lowedge, upedge)\n",
    "h_mass_electrons_simulation = ROOT.TH1F(\"h_mass_electrons_simulation\", \"; Invariant mass [GeV]; Number of events\", nbins, lowedge, upedge)\n",
    "h_mass_muons_simulation = ROOT.TH1F(\"h_mass_muons_simulation\", \"; Invariant mass [GeV]; Number of events\", nbins, lowedge, upedge)\n",
    "h_mass_muons_simulation"
   ]
  },
  {
   "cell_type": "markdown",
   "metadata": {},
   "source": [
    "### Kör event-loopen, fyll histogram"
   ]
  },
  {
   "cell_type": "code",
   "execution_count": 44,
   "metadata": {},
   "outputs": [],
   "source": [
    "# Loopa över alla händelser, räkna ut den invarianta massan av elektron-positron-par och myon-antimyon-par\n",
    "# Detta kan t.ex. göras med hjälp av ROOT-klassen TLorentzVector eller genom att skriva en egen funktion.\n",
    "# Fyll histogram med den invarianta massan.\n",
    "# Använd vad ni lärde dig i första Introduktion-notebook.\n",
    "# Nu tittar ni på data, så varje händelse kommer inte att innehålla en Z-boson.\n",
    "# Ni måste själva sortera ut de händelser som har de karakteristiska drag man förväntar sig för Z-bosoner.\n",
    "\n",
    "nevents=4000\n",
    "for ievt in range(nevents):\n",
    "    tree_electrons.GetEntry(ievt)\n",
    "    tree_muons.GetEntry(ievt)\n",
    "\n",
    "    analyseEvt(tree_electrons, h_mass_electrons, 11) # 11 and 13 are electrons and muons, respectively\n",
    "    analyseEvt(tree_muons, h_mass_muons,     13) # 11 and 13 are electrons and muons, respectively    \n",
    "    ievt += 1\n",
    "    "
   ]
  },
  {
   "cell_type": "code",
   "execution_count": 45,
   "metadata": {},
   "outputs": [],
   "source": [
    "# Gör samma sak för MC, så kan vi rita upp den med\n",
    "nevents=4000\n",
    "for ievt in range(nevents):\n",
    "    tree_electrons_simulation.GetEntry(ievt)\n",
    "    tree_muons_simulation.GetEntry(ievt)\n",
    "\n",
    "    analyseEvt(tree_electrons_simulation, h_mass_electrons_simulation, 11) # 11 and 13 are electrons and muons, respectively\n",
    "    analyseEvt(tree_muons_simulation, h_mass_muons_simulation,     13) # 11 and 13 are electrons and muons, respectively    \n",
    "    ievt += 1"
   ]
  },
  {
   "cell_type": "markdown",
   "metadata": {},
   "source": [
    "### Jämför invariant-mass-peak för elektroner och myoner"
   ]
  },
  {
   "cell_type": "code",
   "execution_count": 46,
   "metadata": {},
   "outputs": [
    {
     "data": {
      "text/html": [
       "\n",
       "<div id=\"root_plot_8\"\n",
       "     style=\"width: 796px; height: 572px\">\n",
       "</div>\n",
       "\n",
       "<script>\n",
       " requirejs.config({\n",
       "     paths: {\n",
       "       'JSRootCore' : 'https://root.cern.ch/js/notebook//scripts/JSRootCore',\n",
       "     }\n",
       "   });\n",
       " require(['JSRootCore'],\n",
       "     function(Core) {\n",
       "       var obj = Core.JSONR_unref({\"_typename\":\"TCanvas\",\"fUniqueID\":0,\"fBits\":53673992,\"fLineColor\":1,\"fLineStyle\":1,\"fLineWidth\":1,\"fFillColor\":0,\"fFillStyle\":1001,\"fLeftMargin\":0.1,\"fRightMargin\":0.1,\"fBottomMargin\":0.1,\"fTopMargin\":0.1,\"fXfile\":2,\"fYfile\":2,\"fAfile\":1,\"fXstat\":0.99,\"fYstat\":0.99,\"fAstat\":2,\"fFrameFillColor\":0,\"fFrameLineColor\":1,\"fFrameFillStyle\":1001,\"fFrameLineStyle\":1,\"fFrameLineWidth\":1,\"fFrameBorderSize\":1,\"fFrameBorderMode\":0,\"fX1\":14.9999988824128,\"fY1\":-138.333406739468,\"fX2\":165.000001117587,\"fY2\":1245.00057820207,\"fXtoAbsPixelk\":-79.5999428832051,\"fXtoPixelk\":-79.5999428832051,\"fXtoPixel\":5.30666658759117,\"fYtoAbsPixelk\":514.800046590614,\"fYtoPixelk\":514.800046590614,\"fYtoPixel\":-0.413493781130645,\"fUtoAbsPixelk\":5e-5,\"fUtoPixelk\":5e-5,\"fUtoPixel\":796,\"fVtoAbsPixelk\":572.00005,\"fVtoPixelk\":572,\"fVtoPixel\":-572,\"fAbsPixeltoXk\":14.9999988824128,\"fPixeltoXk\":14.9999988824128,\"fPixeltoX\":0.188442213863284,\"fAbsPixeltoYk\":1245.00057820207,\"fPixeltoYk\":-138.333406739468,\"fPixeltoY\":-2.41841605759011,\"fXlowNDC\":0,\"fYlowNDC\":0,\"fXUpNDC\":0,\"fYUpNDC\":0,\"fWNDC\":1,\"fHNDC\":1,\"fAbsXlowNDC\":0,\"fAbsYlowNDC\":0,\"fAbsWNDC\":1,\"fAbsHNDC\":1,\"fUxmin\":30,\"fUymin\":0,\"fUxmax\":150,\"fUymax\":1106.66717146261,\"fTheta\":30,\"fPhi\":30,\"fAspectRatio\":0,\"fNumber\":0,\"fTickx\":0,\"fTicky\":0,\"fLogx\":0,\"fLogy\":0,\"fLogz\":0,\"fPadPaint\":0,\"fCrosshair\":0,\"fCrosshairPos\":0,\"fBorderSize\":2,\"fBorderMode\":0,\"fModified\":false,\"fGridx\":false,\"fGridy\":false,\"fAbsCoord\":false,\"fEditable\":true,\"fFixedAspectRatio\":false,\"fPrimitives\":{\"_typename\":\"TList\",\"name\":\"TList\",\"arr\":[{\"_typename\":\"TFrame\",\"fUniqueID\":0,\"fBits\":50331656,\"fLineColor\":1,\"fLineStyle\":1,\"fLineWidth\":1,\"fFillColor\":0,\"fFillStyle\":1001,\"fX1\":30,\"fY1\":0,\"fX2\":150,\"fY2\":1106.66717146261,\"fBorderSize\":1,\"fBorderMode\":0},{\"_typename\":\"TH1F\",\"fUniqueID\":0,\"fBits\":50331656,\"fName\":\"h_mass_electrons_simulation\",\"fTitle\":\"\",\"fLineColor\":602,\"fLineStyle\":1,\"fLineWidth\":1,\"fFillColor\":0,\"fFillStyle\":1001,\"fMarkerColor\":1,\"fMarkerStyle\":1,\"fMarkerSize\":1,\"fNcells\":52,\"fXaxis\":{\"_typename\":\"TAxis\",\"fUniqueID\":0,\"fBits\":50331648,\"fName\":\"xaxis\",\"fTitle\":\" Invariant mass [GeV]\",\"fNdivisions\":510,\"fAxisColor\":1,\"fLabelColor\":1,\"fLabelFont\":42,\"fLabelOffset\":0.005,\"fLabelSize\":0.035,\"fTickLength\":0.03,\"fTitleOffset\":1,\"fTitleSize\":0.035,\"fTitleColor\":1,\"fTitleFont\":42,\"fNbins\":50,\"fXmin\":30,\"fXmax\":150,\"fXbins\":[],\"fFirst\":0,\"fLast\":0,\"fBits2\":0,\"fTimeDisplay\":false,\"fTimeFormat\":\"\",\"fLabels\":null,\"fModLabs\":null},\"fYaxis\":{\"_typename\":\"TAxis\",\"fUniqueID\":0,\"fBits\":50331648,\"fName\":\"yaxis\",\"fTitle\":\" Number of events\",\"fNdivisions\":510,\"fAxisColor\":1,\"fLabelColor\":1,\"fLabelFont\":42,\"fLabelOffset\":0.005,\"fLabelSize\":0.035,\"fTickLength\":0.03,\"fTitleOffset\":0,\"fTitleSize\":0.035,\"fTitleColor\":1,\"fTitleFont\":42,\"fNbins\":1,\"fXmin\":0,\"fXmax\":1,\"fXbins\":[],\"fFirst\":0,\"fLast\":0,\"fBits2\":0,\"fTimeDisplay\":false,\"fTimeFormat\":\"\",\"fLabels\":null,\"fModLabs\":null},\"fZaxis\":{\"_typename\":\"TAxis\",\"fUniqueID\":0,\"fBits\":50331648,\"fName\":\"zaxis\",\"fTitle\":\"\",\"fNdivisions\":510,\"fAxisColor\":1,\"fLabelColor\":1,\"fLabelFont\":42,\"fLabelOffset\":0.005,\"fLabelSize\":0.035,\"fTickLength\":0.03,\"fTitleOffset\":1,\"fTitleSize\":0.035,\"fTitleColor\":1,\"fTitleFont\":42,\"fNbins\":1,\"fXmin\":0,\"fXmax\":1,\"fXbins\":[],\"fFirst\":0,\"fLast\":0,\"fBits2\":0,\"fTimeDisplay\":false,\"fTimeFormat\":\"\",\"fLabels\":null,\"fModLabs\":null},\"fBarOffset\":0,\"fBarWidth\":1000,\"fEntries\":4192,\"fTsumw\":4160,\"fTsumw2\":4160,\"fTsumwx\":364891.587283742,\"fTsumwx2\":32434271.8216735,\"fMaximum\":-1111,\"fMinimum\":-1111,\"fNormFactor\":0,\"fContour\":[],\"fSumw2\":[],\"fOption\":\"\",\"fFunctions\":{\"_typename\":\"TList\",\"name\":\"TList\",\"arr\":[{\"_typename\":\"TPaveStats\",\"fUniqueID\":0,\"fBits\":50331657,\"fLineColor\":1,\"fLineStyle\":1,\"fLineWidth\":1,\"fFillColor\":0,\"fFillStyle\":1001,\"fX1\":132.000003039837,\"fY1\":933.75043983554,\"fX2\":162.000003933907,\"fY2\":1155.083872479,\"fX1NDC\":0.780000016093254,\"fY1NDC\":0.775000005960464,\"fX2NDC\":0.980000019073486,\"fY2NDC\":0.935000002384186,\"fBorderSize\":1,\"fInit\":1,\"fShadowColor\":1,\"fCornerRadius\":0,\"fOption\":\"brNDC\",\"fName\":\"stats\",\"fTextAngle\":0,\"fTextSize\":0,\"fTextAlign\":12,\"fTextColor\":1,\"fTextFont\":42,\"fLabel\":\"\",\"fLongest\":27,\"fMargin\":0.05,\"fLines\":{\"_typename\":\"TList\",\"name\":\"TList\",\"arr\":[{\"_typename\":\"TLatex\",\"fUniqueID\":0,\"fBits\":50331648,\"fName\":\"\",\"fTitle\":\"h_mass_electrons_simulation\",\"fTextAngle\":0,\"fTextSize\":0.0368,\"fTextAlign\":0,\"fTextColor\":0,\"fTextFont\":0,\"fX\":0,\"fY\":0,\"fLineColor\":1,\"fLineStyle\":1,\"fLineWidth\":2,\"fLimitFactorSize\":3,\"fOriginSize\":0.0368000008165836},{\"_typename\":\"TLatex\",\"fUniqueID\":0,\"fBits\":50331648,\"fName\":\"\",\"fTitle\":\"Entries = 4192   \",\"fTextAngle\":0,\"fTextSize\":0,\"fTextAlign\":0,\"fTextColor\":0,\"fTextFont\":0,\"fX\":0,\"fY\":0,\"fLineColor\":1,\"fLineStyle\":1,\"fLineWidth\":2,\"fLimitFactorSize\":3,\"fOriginSize\":0.04},{\"_typename\":\"TLatex\",\"fUniqueID\":0,\"fBits\":50331648,\"fName\":\"\",\"fTitle\":\"Mean  =  87.71\",\"fTextAngle\":0,\"fTextSize\":0,\"fTextAlign\":0,\"fTextColor\":0,\"fTextFont\":0,\"fX\":0,\"fY\":0,\"fLineColor\":1,\"fLineStyle\":1,\"fLineWidth\":2,\"fLimitFactorSize\":3,\"fOriginSize\":0.04},{\"_typename\":\"TLatex\",\"fUniqueID\":0,\"fBits\":50331648,\"fName\":\"\",\"fTitle\":\"Std Dev   =  10.14\",\"fTextAngle\":0,\"fTextSize\":0,\"fTextAlign\":0,\"fTextColor\":0,\"fTextFont\":0,\"fX\":0,\"fY\":0,\"fLineColor\":1,\"fLineStyle\":1,\"fLineWidth\":2,\"fLimitFactorSize\":3,\"fOriginSize\":0.04}],\"opt\":[\"\",\"\",\"\",\"\"]},\"fOptFit\":0,\"fOptStat\":1111,\"fFitFormat\":\"5.4g\",\"fStatFormat\":\"6.4g\",\"fParent\":{\"$ref\":3}}],\"opt\":[\"brNDC\"]},\"fBufferSize\":0,\"fBuffer\":[],\"fBinStatErrOpt\":0,\"fStatOverflows\":2,\"fArray\":[2,0,2,0,8,14,12,18,20,14,14,14,14,20,18,18,16,22,36,42,52,66,154,312,512,908,1022,490,158,56,36,16,18,12,12,4,4,0,2,4,0,2,4,4,2,0,0,2,4,0,2,30]},{\"_typename\":\"TH1F\",\"fUniqueID\":0,\"fBits\":50331656,\"fName\":\"h_mass_muons_simulation\",\"fTitle\":\"\",\"fLineColor\":602,\"fLineStyle\":1,\"fLineWidth\":1,\"fFillColor\":0,\"fFillStyle\":1001,\"fMarkerColor\":1,\"fMarkerStyle\":1,\"fMarkerSize\":1,\"fNcells\":52,\"fXaxis\":{\"_typename\":\"TAxis\",\"fUniqueID\":0,\"fBits\":50331648,\"fName\":\"xaxis\",\"fTitle\":\" Invariant mass [GeV]\",\"fNdivisions\":510,\"fAxisColor\":1,\"fLabelColor\":1,\"fLabelFont\":42,\"fLabelOffset\":0.005,\"fLabelSize\":0.035,\"fTickLength\":0.03,\"fTitleOffset\":1,\"fTitleSize\":0.035,\"fTitleColor\":1,\"fTitleFont\":42,\"fNbins\":50,\"fXmin\":30,\"fXmax\":150,\"fXbins\":[],\"fFirst\":0,\"fLast\":0,\"fBits2\":0,\"fTimeDisplay\":false,\"fTimeFormat\":\"\",\"fLabels\":null,\"fModLabs\":null},\"fYaxis\":{\"_typename\":\"TAxis\",\"fUniqueID\":0,\"fBits\":50331648,\"fName\":\"yaxis\",\"fTitle\":\" Number of events\",\"fNdivisions\":510,\"fAxisColor\":1,\"fLabelColor\":1,\"fLabelFont\":42,\"fLabelOffset\":0.005,\"fLabelSize\":0.035,\"fTickLength\":0.03,\"fTitleOffset\":0,\"fTitleSize\":0.035,\"fTitleColor\":1,\"fTitleFont\":42,\"fNbins\":1,\"fXmin\":0,\"fXmax\":1,\"fXbins\":[],\"fFirst\":0,\"fLast\":0,\"fBits2\":0,\"fTimeDisplay\":false,\"fTimeFormat\":\"\",\"fLabels\":null,\"fModLabs\":null},\"fZaxis\":{\"_typename\":\"TAxis\",\"fUniqueID\":0,\"fBits\":50331648,\"fName\":\"zaxis\",\"fTitle\":\"\",\"fNdivisions\":510,\"fAxisColor\":1,\"fLabelColor\":1,\"fLabelFont\":42,\"fLabelOffset\":0.005,\"fLabelSize\":0.035,\"fTickLength\":0.03,\"fTitleOffset\":1,\"fTitleSize\":0.035,\"fTitleColor\":1,\"fTitleFont\":42,\"fNbins\":1,\"fXmin\":0,\"fXmax\":1,\"fXbins\":[],\"fFirst\":0,\"fLast\":0,\"fBits2\":0,\"fTimeDisplay\":false,\"fTimeFormat\":\"\",\"fLabels\":null,\"fModLabs\":null},\"fBarOffset\":0,\"fBarWidth\":1000,\"fEntries\":2761,\"fTsumw\":2741,\"fTsumw2\":2741,\"fTsumwx\":244133.971086481,\"fTsumwx2\":22064950.7289272,\"fMaximum\":-1111,\"fMinimum\":-1111,\"fNormFactor\":0,\"fContour\":[],\"fSumw2\":[],\"fOption\":\"\",\"fFunctions\":{\"_typename\":\"TList\",\"name\":\"TList\",\"arr\":[],\"opt\":[]},\"fBufferSize\":0,\"fBuffer\":[],\"fBinStatErrOpt\":0,\"fStatOverflows\":2,\"fArray\":[3,2,0,2,4,6,9,11,12,11,12,11,12,15,10,7,17,11,9,25,26,30,57,97,231,587,766,422,161,57,30,17,10,10,10,4,7,7,3,2,3,2,2,0,2,4,2,0,2,0,4,17]}],\"opt\":[\"\",\"e1p\",\"e1p SAME\"]},\"fExecs\":null,\"fName\":\"canvas\",\"fTitle\":\"\",\"fNumPaletteColor\":0,\"fNextPaletteColor\":0,\"fDISPLAY\":\"$DISPLAY\",\"fDoubleBuffer\":0,\"fRetained\":true,\"fXsizeUser\":0,\"fYsizeUser\":0,\"fXsizeReal\":20,\"fYsizeReal\":15,\"fWindowTopX\":0,\"fWindowTopY\":0,\"fWindowWidth\":0,\"fWindowHeight\":0,\"fCw\":796,\"fCh\":572,\"fCatt\":{\"_typename\":\"TAttCanvas\",\"fXBetween\":2,\"fYBetween\":2,\"fTitleFromTop\":1.2,\"fXdate\":0.2,\"fYdate\":0.3,\"fAdate\":1},\"kMoveOpaque\":true,\"kResizeOpaque\":true,\"fHighLightColor\":2,\"fBatch\":true,\"kShowEventStatus\":false,\"kAutoExec\":true,\"kMenuBar\":true});\n",
       "       Core.draw(\"root_plot_8\", obj, \"\");\n",
       "     }\n",
       " );\n",
       "</script>\n"
      ],
      "text/plain": [
       "<IPython.core.display.HTML object>"
      ]
     },
     "metadata": {},
     "output_type": "display_data"
    }
   ],
   "source": [
    "h_mass_electrons_simulation.Draw(\"e1p\")\n",
    "h_mass_muons_simulation.Draw(\"e1p SAME\")\n",
    "canvas.Draw()\n",
    "\n"
   ]
  },
  {
   "cell_type": "code",
   "execution_count": 33,
   "metadata": {},
   "outputs": [
    {
     "name": "stderr",
     "output_type": "stream",
     "text": [
      "Warning in <TDavixFile::Append>: Replacing existing TH1: MET_simu (Potential memory leak).\n"
     ]
    }
   ],
   "source": [
    "# Draw MET\n",
    "met = ROOT.TH1F(\"MET_simu\", \"; Missing transverse energy [GeV]; Number of events\", 30, 0., 90.)\n",
    "tree_electrons_simulation.Draw(\"met_et*1e-3 >> MET_simu\", \"\", \"e1p\", 5000)\n",
    "met.Draw(\"e1p\")"
   ]
  },
  {
   "cell_type": "code",
   "execution_count": 34,
   "metadata": {},
   "outputs": [
    {
     "data": {
      "text/html": [
       "\n",
       "<div id=\"root_plot_6\"\n",
       "     style=\"width: 796px; height: 572px\">\n",
       "</div>\n",
       "\n",
       "<script>\n",
       " requirejs.config({\n",
       "     paths: {\n",
       "       'JSRootCore' : 'https://root.cern.ch/js/notebook//scripts/JSRootCore',\n",
       "     }\n",
       "   });\n",
       " require(['JSRootCore'],\n",
       "     function(Core) {\n",
       "       var obj = Core.JSONR_unref({\"_typename\":\"TCanvas\",\"fUniqueID\":0,\"fBits\":53673992,\"fLineColor\":1,\"fLineStyle\":1,\"fLineWidth\":1,\"fFillColor\":0,\"fFillStyle\":1001,\"fLeftMargin\":0.1,\"fRightMargin\":0.1,\"fBottomMargin\":0.1,\"fTopMargin\":0.1,\"fXfile\":2,\"fYfile\":2,\"fAfile\":1,\"fXstat\":0.99,\"fYstat\":0.99,\"fAstat\":2,\"fFrameFillColor\":0,\"fFrameLineColor\":1,\"fFrameFillStyle\":1001,\"fFrameLineStyle\":1,\"fFrameLineWidth\":1,\"fFrameBorderSize\":1,\"fFrameBorderMode\":0,\"fX1\":-11.2500008381904,\"fY1\":-70.8405697407705,\"fX2\":101.25000083819,\"fY2\":637.565085442665,\"fXtoAbsPixelk\":79.6000547445299,\"fXtoPixelk\":79.6000547445299,\"fXtoPixel\":7.07555545012156,\"fYtoAbsPixelk\":514.800046590614,\"fYtoPixelk\":514.800046590614,\"fYtoPixel\":-0.807446970270001,\"fUtoAbsPixelk\":5e-5,\"fUtoPixelk\":5e-5,\"fUtoPixel\":796,\"fVtoAbsPixelk\":572.00005,\"fVtoPixelk\":572,\"fVtoPixel\":-572,\"fAbsPixeltoXk\":-11.2500008381904,\"fPixeltoXk\":-11.2500008381904,\"fPixeltoX\":0.141331660397463,\"fAbsPixeltoYk\":637.565085442665,\"fPixeltoYk\":-70.8405697407705,\"fPixeltoY\":-1.23847142514587,\"fXlowNDC\":0,\"fYlowNDC\":0,\"fXUpNDC\":0,\"fYUpNDC\":0,\"fWNDC\":1,\"fHNDC\":1,\"fAbsXlowNDC\":0,\"fAbsYlowNDC\":0,\"fAbsWNDC\":1,\"fAbsHNDC\":1,\"fUxmin\":0,\"fUymin\":0,\"fUxmax\":90,\"fUymax\":566.724515701894,\"fTheta\":30,\"fPhi\":30,\"fAspectRatio\":0,\"fNumber\":0,\"fTickx\":0,\"fTicky\":0,\"fLogx\":0,\"fLogy\":0,\"fLogz\":0,\"fPadPaint\":0,\"fCrosshair\":0,\"fCrosshairPos\":0,\"fBorderSize\":2,\"fBorderMode\":0,\"fModified\":false,\"fGridx\":false,\"fGridy\":false,\"fAbsCoord\":false,\"fEditable\":true,\"fFixedAspectRatio\":false,\"fPrimitives\":{\"_typename\":\"TList\",\"name\":\"TList\",\"arr\":[{\"_typename\":\"TFrame\",\"fUniqueID\":0,\"fBits\":50331656,\"fLineColor\":1,\"fLineStyle\":1,\"fLineWidth\":1,\"fFillColor\":0,\"fFillStyle\":1001,\"fX1\":0,\"fY1\":0,\"fX2\":90,\"fY2\":566.724515701894,\"fBorderSize\":1,\"fBorderMode\":0},{\"_typename\":\"TH1F\",\"fUniqueID\":0,\"fBits\":50331656,\"fName\":\"MET_simu\",\"fTitle\":\"\",\"fLineColor\":602,\"fLineStyle\":1,\"fLineWidth\":1,\"fFillColor\":0,\"fFillStyle\":1001,\"fMarkerColor\":1,\"fMarkerStyle\":1,\"fMarkerSize\":1,\"fNcells\":32,\"fXaxis\":{\"_typename\":\"TAxis\",\"fUniqueID\":0,\"fBits\":50331648,\"fName\":\"xaxis\",\"fTitle\":\"\",\"fNdivisions\":510,\"fAxisColor\":1,\"fLabelColor\":1,\"fLabelFont\":42,\"fLabelOffset\":0.005,\"fLabelSize\":0.035,\"fTickLength\":0.03,\"fTitleOffset\":1,\"fTitleSize\":0.035,\"fTitleColor\":1,\"fTitleFont\":42,\"fNbins\":30,\"fXmin\":0,\"fXmax\":90,\"fXbins\":[],\"fFirst\":0,\"fLast\":0,\"fBits2\":0,\"fTimeDisplay\":false,\"fTimeFormat\":\"\",\"fLabels\":null,\"fModLabs\":null},\"fYaxis\":{\"_typename\":\"TAxis\",\"fUniqueID\":0,\"fBits\":50331648,\"fName\":\"yaxis\",\"fTitle\":\"\",\"fNdivisions\":510,\"fAxisColor\":1,\"fLabelColor\":1,\"fLabelFont\":42,\"fLabelOffset\":0.005,\"fLabelSize\":0.035,\"fTickLength\":0.03,\"fTitleOffset\":0,\"fTitleSize\":0.035,\"fTitleColor\":1,\"fTitleFont\":42,\"fNbins\":1,\"fXmin\":0,\"fXmax\":1,\"fXbins\":[],\"fFirst\":0,\"fLast\":0,\"fBits2\":0,\"fTimeDisplay\":false,\"fTimeFormat\":\"\",\"fLabels\":null,\"fModLabs\":null},\"fZaxis\":{\"_typename\":\"TAxis\",\"fUniqueID\":0,\"fBits\":50331648,\"fName\":\"zaxis\",\"fTitle\":\"\",\"fNdivisions\":510,\"fAxisColor\":1,\"fLabelColor\":1,\"fLabelFont\":42,\"fLabelOffset\":0.005,\"fLabelSize\":0.035,\"fTickLength\":0.03,\"fTitleOffset\":1,\"fTitleSize\":0.035,\"fTitleColor\":1,\"fTitleFont\":42,\"fNbins\":1,\"fXmin\":0,\"fXmax\":1,\"fXbins\":[],\"fFirst\":0,\"fLast\":0,\"fBits2\":0,\"fTimeDisplay\":false,\"fTimeFormat\":\"\",\"fLabels\":null,\"fModLabs\":null},\"fBarOffset\":0,\"fBarWidth\":1000,\"fEntries\":5000,\"fTsumw\":4995,\"fTsumw2\":4995,\"fTsumwx\":114159.664718857,\"fTsumwx2\":3541335.1790205,\"fMaximum\":-1111,\"fMinimum\":-1111,\"fNormFactor\":0,\"fContour\":[],\"fSumw2\":[],\"fOption\":\"\",\"fFunctions\":{\"_typename\":\"TList\",\"name\":\"TList\",\"arr\":[{\"_typename\":\"TPaveStats\",\"fUniqueID\":0,\"fBits\":50331657,\"fLineColor\":1,\"fLineStyle\":1,\"fLineWidth\":1,\"fFillColor\":0,\"fFillStyle\":1001,\"fX1\":76.5000022798777,\"fY1\":478.173817248819,\"fX2\":99.00000295043,\"fY2\":591.518719544712,\"fX1NDC\":0.780000016093254,\"fY1NDC\":0.775000005960464,\"fX2NDC\":0.980000019073486,\"fY2NDC\":0.935000002384186,\"fBorderSize\":1,\"fInit\":1,\"fShadowColor\":1,\"fCornerRadius\":0,\"fOption\":\"brNDC\",\"fName\":\"stats\",\"fTextAngle\":0,\"fTextSize\":0,\"fTextAlign\":12,\"fTextColor\":1,\"fTextFont\":42,\"fLabel\":\"\",\"fLongest\":18,\"fMargin\":0.05,\"fLines\":{\"_typename\":\"TList\",\"name\":\"TList\",\"arr\":[{\"_typename\":\"TLatex\",\"fUniqueID\":0,\"fBits\":50331648,\"fName\":\"\",\"fTitle\":\"MET_simu\",\"fTextAngle\":0,\"fTextSize\":0.0368,\"fTextAlign\":0,\"fTextColor\":0,\"fTextFont\":0,\"fX\":0,\"fY\":0,\"fLineColor\":1,\"fLineStyle\":1,\"fLineWidth\":2,\"fLimitFactorSize\":3,\"fOriginSize\":0.0368000008165836},{\"_typename\":\"TLatex\",\"fUniqueID\":0,\"fBits\":50331648,\"fName\":\"\",\"fTitle\":\"Entries = 5000   \",\"fTextAngle\":0,\"fTextSize\":0,\"fTextAlign\":0,\"fTextColor\":0,\"fTextFont\":0,\"fX\":0,\"fY\":0,\"fLineColor\":1,\"fLineStyle\":1,\"fLineWidth\":2,\"fLimitFactorSize\":3,\"fOriginSize\":0.04},{\"_typename\":\"TLatex\",\"fUniqueID\":0,\"fBits\":50331648,\"fName\":\"\",\"fTitle\":\"Mean  =  22.85\",\"fTextAngle\":0,\"fTextSize\":0,\"fTextAlign\":0,\"fTextColor\":0,\"fTextFont\":0,\"fX\":0,\"fY\":0,\"fLineColor\":1,\"fLineStyle\":1,\"fLineWidth\":2,\"fLimitFactorSize\":3,\"fOriginSize\":0.04},{\"_typename\":\"TLatex\",\"fUniqueID\":0,\"fBits\":50331648,\"fName\":\"\",\"fTitle\":\"Std Dev   =  13.66\",\"fTextAngle\":0,\"fTextSize\":0,\"fTextAlign\":0,\"fTextColor\":0,\"fTextFont\":0,\"fX\":0,\"fY\":0,\"fLineColor\":1,\"fLineStyle\":1,\"fLineWidth\":2,\"fLimitFactorSize\":3,\"fOriginSize\":0.04}],\"opt\":[\"\",\"\",\"\",\"\"]},\"fOptFit\":0,\"fOptStat\":1111,\"fFitFormat\":\"5.4g\",\"fStatFormat\":\"6.4g\",\"fParent\":{\"$ref\":3}}],\"opt\":[\"brNDC\"]},\"fBufferSize\":0,\"fBuffer\":[],\"fBinStatErrOpt\":0,\"fStatOverflows\":2,\"fArray\":[0,88,220,356,444,517,501,458,459,355,328,277,208,188,118,104,85,68,53,54,30,27,14,10,10,9,6,3,3,2,0,5]}],\"opt\":[\"\",\"e1p\"]},\"fExecs\":null,\"fName\":\"canvas\",\"fTitle\":\"\",\"fNumPaletteColor\":0,\"fNextPaletteColor\":0,\"fDISPLAY\":\"$DISPLAY\",\"fDoubleBuffer\":0,\"fRetained\":true,\"fXsizeUser\":0,\"fYsizeUser\":0,\"fXsizeReal\":20,\"fYsizeReal\":15,\"fWindowTopX\":0,\"fWindowTopY\":0,\"fWindowWidth\":0,\"fWindowHeight\":0,\"fCw\":796,\"fCh\":572,\"fCatt\":{\"_typename\":\"TAttCanvas\",\"fXBetween\":2,\"fYBetween\":2,\"fTitleFromTop\":1.2,\"fXdate\":0.2,\"fYdate\":0.3,\"fAdate\":1},\"kMoveOpaque\":true,\"kResizeOpaque\":true,\"fHighLightColor\":2,\"fBatch\":true,\"kShowEventStatus\":false,\"kAutoExec\":true,\"kMenuBar\":true});\n",
       "       Core.draw(\"root_plot_6\", obj, \"\");\n",
       "     }\n",
       " );\n",
       "</script>\n"
      ],
      "text/plain": [
       "<IPython.core.display.HTML object>"
      ]
     },
     "metadata": {},
     "output_type": "display_data"
    }
   ],
   "source": [
    "canvas.Draw()"
   ]
  },
  {
   "cell_type": "markdown",
   "metadata": {},
   "source": [
    "### Rita upp den invarianta massan"
   ]
  },
  {
   "cell_type": "code",
   "execution_count": 9,
   "metadata": {},
   "outputs": [],
   "source": [
    "# %jsroot on"
   ]
  },
  {
   "cell_type": "code",
   "execution_count": 26,
   "metadata": {},
   "outputs": [
    {
     "name": "stderr",
     "output_type": "stream",
     "text": [
      "Warning in <TCanvas::Constructor>: Deleting canvas with same name: canvas\n"
     ]
    }
   ],
   "source": [
    "canvas = ROOT.TCanvas(\"canvas\", \"\", 800, 600)\n",
    "# Draw data\n",
    "h_mass_electrons_simulation.Draw(\"e1p\")"
   ]
  },
  {
   "cell_type": "code",
   "execution_count": null,
   "metadata": {},
   "outputs": [],
   "source": [
    "# Draw MC\n",
    "h_mass_electrons_simulation.Scale(0.5)\n",
    "h_mass_electrons_simulation.SetFillColor(ROOT.kRed)\n",
    "h_mass_electrons_simulation.SetMarkerColor(ROOT.kRed)\n",
    "h_mass_electrons_simulation.SetLineColor(ROOT.kRed)\n",
    "h_mass_electrons_simulation.Draw(\"he1 SAME\")"
   ]
  },
  {
   "cell_type": "code",
   "execution_count": 27,
   "metadata": {
    "scrolled": false
   },
   "outputs": [
    {
     "data": {
      "text/html": [
       "\n",
       "<div id=\"root_plot_3\"\n",
       "     style=\"width: 796px; height: 572px\">\n",
       "</div>\n",
       "\n",
       "<script>\n",
       " requirejs.config({\n",
       "     paths: {\n",
       "       'JSRootCore' : 'https://root.cern.ch/js/notebook//scripts/JSRootCore',\n",
       "     }\n",
       "   });\n",
       " require(['JSRootCore'],\n",
       "     function(Core) {\n",
       "       var obj = Core.JSONR_unref({\"_typename\":\"TCanvas\",\"fUniqueID\":0,\"fBits\":53673992,\"fLineColor\":1,\"fLineStyle\":1,\"fLineWidth\":1,\"fFillColor\":0,\"fFillStyle\":1001,\"fLeftMargin\":0.1,\"fRightMargin\":0.1,\"fBottomMargin\":0.1,\"fTopMargin\":0.1,\"fXfile\":2,\"fYfile\":2,\"fAfile\":1,\"fXstat\":0.99,\"fYstat\":0.99,\"fAstat\":2,\"fFrameFillColor\":0,\"fFrameLineColor\":1,\"fFrameFillStyle\":1001,\"fFrameLineStyle\":1,\"fFrameLineWidth\":1,\"fFrameBorderSize\":1,\"fFrameBorderMode\":0,\"fX1\":14.9999988824128,\"fY1\":-197.304900242724,\"fX2\":165.000001117587,\"fY2\":1775.74398458163,\"fXtoAbsPixelk\":-79.5999428832051,\"fXtoPixelk\":-79.5999428832051,\"fXtoPixel\":5.30666658759117,\"fYtoAbsPixelk\":514.800046590614,\"fYtoPixelk\":514.800046590614,\"fYtoPixel\":-0.289906653808489,\"fUtoAbsPixelk\":5e-5,\"fUtoPixelk\":5e-5,\"fUtoPixel\":796,\"fVtoAbsPixelk\":572.00005,\"fVtoPixelk\":572,\"fVtoPixel\":-572,\"fAbsPixeltoXk\":14.9999988824128,\"fPixeltoXk\":14.9999988824128,\"fPixeltoX\":0.188442213863284,\"fAbsPixeltoYk\":1775.74398458163,\"fPixeltoYk\":-197.304900242724,\"fPixeltoY\":-3.44938616228035,\"fXlowNDC\":0,\"fYlowNDC\":0,\"fXUpNDC\":0,\"fYUpNDC\":0,\"fWNDC\":1,\"fHNDC\":1,\"fAbsXlowNDC\":0,\"fAbsYlowNDC\":0,\"fAbsWNDC\":1,\"fAbsHNDC\":1,\"fUxmin\":30,\"fUymin\":0,\"fUxmax\":150,\"fUymax\":1578.43908433891,\"fTheta\":30,\"fPhi\":30,\"fAspectRatio\":0,\"fNumber\":0,\"fTickx\":0,\"fTicky\":0,\"fLogx\":0,\"fLogy\":0,\"fLogz\":0,\"fPadPaint\":0,\"fCrosshair\":0,\"fCrosshairPos\":0,\"fBorderSize\":2,\"fBorderMode\":0,\"fModified\":false,\"fGridx\":false,\"fGridy\":false,\"fAbsCoord\":false,\"fEditable\":true,\"fFixedAspectRatio\":false,\"fPrimitives\":{\"_typename\":\"TList\",\"name\":\"TList\",\"arr\":[{\"_typename\":\"TFrame\",\"fUniqueID\":0,\"fBits\":50331656,\"fLineColor\":1,\"fLineStyle\":1,\"fLineWidth\":1,\"fFillColor\":0,\"fFillStyle\":1001,\"fX1\":30,\"fY1\":0,\"fX2\":150,\"fY2\":1578.43908433891,\"fBorderSize\":1,\"fBorderMode\":0},{\"_typename\":\"TH1F\",\"fUniqueID\":0,\"fBits\":50331656,\"fName\":\"h_mass_electrons_simulation\",\"fTitle\":\"\",\"fLineColor\":602,\"fLineStyle\":1,\"fLineWidth\":1,\"fFillColor\":0,\"fFillStyle\":1001,\"fMarkerColor\":1,\"fMarkerStyle\":1,\"fMarkerSize\":1,\"fNcells\":52,\"fXaxis\":{\"_typename\":\"TAxis\",\"fUniqueID\":0,\"fBits\":50331648,\"fName\":\"xaxis\",\"fTitle\":\" Invariant mass [GeV]\",\"fNdivisions\":510,\"fAxisColor\":1,\"fLabelColor\":1,\"fLabelFont\":42,\"fLabelOffset\":0.005,\"fLabelSize\":0.035,\"fTickLength\":0.03,\"fTitleOffset\":1,\"fTitleSize\":0.035,\"fTitleColor\":1,\"fTitleFont\":42,\"fNbins\":50,\"fXmin\":30,\"fXmax\":150,\"fXbins\":[],\"fFirst\":0,\"fLast\":0,\"fBits2\":0,\"fTimeDisplay\":false,\"fTimeFormat\":\"\",\"fLabels\":null,\"fModLabs\":null},\"fYaxis\":{\"_typename\":\"TAxis\",\"fUniqueID\":0,\"fBits\":50331648,\"fName\":\"yaxis\",\"fTitle\":\" Number of events\",\"fNdivisions\":510,\"fAxisColor\":1,\"fLabelColor\":1,\"fLabelFont\":42,\"fLabelOffset\":0.005,\"fLabelSize\":0.035,\"fTickLength\":0.03,\"fTitleOffset\":0,\"fTitleSize\":0.035,\"fTitleColor\":1,\"fTitleFont\":42,\"fNbins\":1,\"fXmin\":0,\"fXmax\":1,\"fXbins\":[],\"fFirst\":0,\"fLast\":0,\"fBits2\":0,\"fTimeDisplay\":false,\"fTimeFormat\":\"\",\"fLabels\":null,\"fModLabs\":null},\"fZaxis\":{\"_typename\":\"TAxis\",\"fUniqueID\":0,\"fBits\":50331648,\"fName\":\"zaxis\",\"fTitle\":\"\",\"fNdivisions\":510,\"fAxisColor\":1,\"fLabelColor\":1,\"fLabelFont\":42,\"fLabelOffset\":0.005,\"fLabelSize\":0.035,\"fTickLength\":0.03,\"fTitleOffset\":1,\"fTitleSize\":0.035,\"fTitleColor\":1,\"fTitleFont\":42,\"fNbins\":1,\"fXmin\":0,\"fXmax\":1,\"fXbins\":[],\"fFirst\":0,\"fLast\":0,\"fBits2\":0,\"fTimeDisplay\":false,\"fTimeFormat\":\"\",\"fLabels\":null,\"fModLabs\":null},\"fBarOffset\":0,\"fBarWidth\":1000,\"fEntries\":6001,\"fTsumw\":5957,\"fTsumw2\":5957,\"fTsumwx\":523329.548669365,\"fTsumwx2\":46618507.4163304,\"fMaximum\":-1111,\"fMinimum\":-1111,\"fNormFactor\":0,\"fContour\":[],\"fSumw2\":[],\"fOption\":\"\",\"fFunctions\":{\"_typename\":\"TList\",\"name\":\"TList\",\"arr\":[{\"_typename\":\"TPaveStats\",\"fUniqueID\":0,\"fBits\":50331657,\"fLineColor\":1,\"fLineStyle\":1,\"fLineWidth\":1,\"fFillColor\":0,\"fFillStyle\":1001,\"fX1\":132.000003039837,\"fY1\":1331.80799725644,\"fX2\":162.000003933907,\"fY2\":1647.49581177217,\"fX1NDC\":0.780000016093254,\"fY1NDC\":0.775000005960464,\"fX2NDC\":0.980000019073486,\"fY2NDC\":0.935000002384186,\"fBorderSize\":1,\"fInit\":1,\"fShadowColor\":1,\"fCornerRadius\":0,\"fOption\":\"brNDC\",\"fName\":\"stats\",\"fTextAngle\":0,\"fTextSize\":0,\"fTextAlign\":12,\"fTextColor\":1,\"fTextFont\":42,\"fLabel\":\"\",\"fLongest\":27,\"fMargin\":0.05,\"fLines\":{\"_typename\":\"TList\",\"name\":\"TList\",\"arr\":[{\"_typename\":\"TLatex\",\"fUniqueID\":0,\"fBits\":50331648,\"fName\":\"\",\"fTitle\":\"h_mass_electrons_simulation\",\"fTextAngle\":0,\"fTextSize\":0.0368,\"fTextAlign\":0,\"fTextColor\":0,\"fTextFont\":0,\"fX\":0,\"fY\":0,\"fLineColor\":1,\"fLineStyle\":1,\"fLineWidth\":2,\"fLimitFactorSize\":3,\"fOriginSize\":0.0368000008165836},{\"_typename\":\"TLatex\",\"fUniqueID\":0,\"fBits\":50331648,\"fName\":\"\",\"fTitle\":\"Entries = 6001   \",\"fTextAngle\":0,\"fTextSize\":0,\"fTextAlign\":0,\"fTextColor\":0,\"fTextFont\":0,\"fX\":0,\"fY\":0,\"fLineColor\":1,\"fLineStyle\":1,\"fLineWidth\":2,\"fLimitFactorSize\":3,\"fOriginSize\":0.04},{\"_typename\":\"TLatex\",\"fUniqueID\":0,\"fBits\":50331648,\"fName\":\"\",\"fTitle\":\"Mean  =  87.85\",\"fTextAngle\":0,\"fTextSize\":0,\"fTextAlign\":0,\"fTextColor\":0,\"fTextFont\":0,\"fX\":0,\"fY\":0,\"fLineColor\":1,\"fLineStyle\":1,\"fLineWidth\":2,\"fLimitFactorSize\":3,\"fOriginSize\":0.04},{\"_typename\":\"TLatex\",\"fUniqueID\":0,\"fBits\":50331648,\"fName\":\"\",\"fTitle\":\"Std Dev   =  10.39\",\"fTextAngle\":0,\"fTextSize\":0,\"fTextAlign\":0,\"fTextColor\":0,\"fTextFont\":0,\"fX\":0,\"fY\":0,\"fLineColor\":1,\"fLineStyle\":1,\"fLineWidth\":2,\"fLimitFactorSize\":3,\"fOriginSize\":0.04}],\"opt\":[\"\",\"\",\"\",\"\"]},\"fOptFit\":0,\"fOptStat\":1111,\"fFitFormat\":\"5.4g\",\"fStatFormat\":\"6.4g\",\"fParent\":{\"$ref\":3}},{\"_typename\":\"TF1\",\"fUniqueID\":0,\"fBits\":50332680,\"fName\":\"model\",\"fTitle\":\"fBW+bkg\",\"fLineColor\":2,\"fLineStyle\":1,\"fLineWidth\":2,\"fFillColor\":19,\"fFillStyle\":0,\"fMarkerColor\":1,\"fMarkerStyle\":1,\"fMarkerSize\":1,\"fXmin\":30,\"fXmax\":140,\"fNpar\":6,\"fNdim\":1,\"fNpx\":100,\"fType\":0,\"fNpfits\":46,\"fNDF\":40,\"fChisquare\":397.39792677366,\"fMinimum\":-1111,\"fMaximum\":-1111,\"fParErrors\":[199.267117426407,0.0603692513962528,0.117595144817007,27.6800308158653,1.0927269757521,0.0060984878476397],\"fParMin\":[100,80,0.1,0,0,0],\"fParMax\":[15000,100,40,0,0,0],\"fSave\":[5.45270921164485,5.48742801461342,5.52979467620349,5.58037635768138,5.63979697026775,5.70874410032061,5.78797694012314,5.87833539453128,5.98075056683265,6.09625686756238,6.22600603952333,6.37128345317399,6.53352710183818,6.71434981967196,6.91556536194395,7.13921913339425,7.38762453469671,7.66340613052228,7.96955114022106,8.30947113353957,8.68707630578656,9.10686534570989,9.57403474464097,10.094612495596,10.6756225911454,11.3252886825726,12.0532878995506,12.8710694205642,13.792257322444,14.8331640980658,16.0134508677073,17.3569840034068,18.8929575890108,20.6573798688783,22.6950643337796,25.0623299206837,27.8307122693635,31.0921394847132,34.9662659333826,39.6110460281859,45.2382726686629,52.1368946256722,60.7088233922929,71.5253336763977,85.4184174155854,103.633337499446,128.091879550469,161.862357315142,210.026161619601,281.310459760984,391.121243997534,566.408388614945,847.766141745877,1253.58679440058,1615.3137933084,1554.59118674544,1148.91268615765,768.500562133593,516.186081667194,359.601635497837,260.743034508178,195.90134875325,151.639051549367,120.307443832355,97.4157317420419,80.22809516353,67.0165873613229,56.6529994814543,48.3784019541743,41.668522989894,36.152526366612,31.5625195564219,27.7012963238578,24.4212107301654,21.6100260073135,19.1812394428388,17.0673430736977,15.215048829958,13.5818524499396,12.1335252409047,10.8422589228731,9.6852767725722,8.6437821336546,7.70215401916073,6.8473257607549,6.06830070559574,5.35577154213083,4.70181871424401,4.09966972086929,3.54350567130923,3.02830479989607,2.54971509662622,2.10395003178789,1.68770271652421,1.2980748708485,0.932517753733818,0.588782809842809,0.264880250234304,-0.0409558563276349,-0.330297124159366,-0.604545945675311,30,140],\"fNormalized\":false,\"fNormIntegral\":0,\"fFormula\":{\"_typename\":\"TFormula\",\"fUniqueID\":0,\"fBits\":50332672,\"fName\":\"model\",\"fTitle\":\"fBW+bkg\",\"fClingParameters\":[13990.6201139997,89.8189836936186,5.37544380075935,-19.5259740185416,3.18982060468695,-0.00384188825596947],\"fAllParametersSetted\":true,\"fParams\":[{\"$pair\":\"pair<TString,int,TFormulaParamOrder>\",\"first\":\"p0\",\"second\":0},{\"$pair\":\"pair<TString,int,TFormulaParamOrder>\",\"first\":\"p1\",\"second\":1},{\"$pair\":\"pair<TString,int,TFormulaParamOrder>\",\"first\":\"p2\",\"second\":2},{\"$pair\":\"pair<TString,int,TFormulaParamOrder>\",\"first\":\"p3\",\"second\":3},{\"$pair\":\"pair<TString,int,TFormulaParamOrder>\",\"first\":\"p4\",\"second\":4},{\"$pair\":\"pair<TString,int,TFormulaParamOrder>\",\"first\":\"p5\",\"second\":5}],\"fFormula\":\"([p0]*TMath::BreitWigner(x,[p1],[p2]))+([p3]+exp([p4]+[p5]*x))\",\"fNdim\":1,\"fLinearParts\":[],\"fVectorized\":false},\"fParams\":null,\"fComposition_ptr\":null}],\"opt\":[\"brNDC\",\"\"]},\"fBufferSize\":0,\"fBuffer\":[],\"fBinStatErrOpt\":0,\"fStatOverflows\":2,\"fArray\":[5,2,3,2,11,18,21,26,23,23,21,25,23,25,22,23,28,31,45,49,84,112,196,424,757,1257,1465,704,227,95,54,33,28,15,12,13,11,5,6,6,4,5,7,4,2,1,1,3,2,1,2,39]}],\"opt\":[\"\",\"e1p\"]},\"fExecs\":null,\"fName\":\"canvas\",\"fTitle\":\"\",\"fNumPaletteColor\":0,\"fNextPaletteColor\":0,\"fDISPLAY\":\"$DISPLAY\",\"fDoubleBuffer\":0,\"fRetained\":true,\"fXsizeUser\":0,\"fYsizeUser\":0,\"fXsizeReal\":20,\"fYsizeReal\":15,\"fWindowTopX\":0,\"fWindowTopY\":0,\"fWindowWidth\":0,\"fWindowHeight\":0,\"fCw\":796,\"fCh\":572,\"fCatt\":{\"_typename\":\"TAttCanvas\",\"fXBetween\":2,\"fYBetween\":2,\"fTitleFromTop\":1.2,\"fXdate\":0.2,\"fYdate\":0.3,\"fAdate\":1},\"kMoveOpaque\":true,\"kResizeOpaque\":true,\"fHighLightColor\":2,\"fBatch\":true,\"kShowEventStatus\":false,\"kAutoExec\":true,\"kMenuBar\":true});\n",
       "       Core.draw(\"root_plot_3\", obj, \"\");\n",
       "     }\n",
       " );\n",
       "</script>\n"
      ],
      "text/plain": [
       "<IPython.core.display.HTML object>"
      ]
     },
     "metadata": {},
     "output_type": "display_data"
    }
   ],
   "source": [
    "canvas.Draw()"
   ]
  },
  {
   "cell_type": "markdown",
   "metadata": {},
   "source": [
    "### Anpassning med normalkurva"
   ]
  },
  {
   "cell_type": "code",
   "execution_count": null,
   "metadata": {},
   "outputs": [],
   "source": [
    "# Gör en anpassning till peaken med rätt funktion\n",
    "# prova först dummy Gauss\n",
    "h_mass_electrons.Fit(\"gaus\", \"S\", \"SAME\", 80., 100.)"
   ]
  },
  {
   "cell_type": "code",
   "execution_count": null,
   "metadata": {
    "scrolled": false
   },
   "outputs": [],
   "source": [
    "canvas.Draw()"
   ]
  },
  {
   "cell_type": "markdown",
   "metadata": {},
   "source": [
    "### Normalkurvan ser inte så bra ut, vi provar mer korrekt modell"
   ]
  },
  {
   "cell_type": "code",
   "execution_count": 13,
   "metadata": {},
   "outputs": [],
   "source": [
    "#### Prepare: setting Breit-Wigner limits, colors on functions etc.\n",
    "norm_low = 100; norm_up = 15e3\n",
    "mean_low = 80; mean_up = 100\n",
    "width_low = 0.1; width_up = 40\n",
    "def setBWLims(func):\n",
    "    ''' Set limits on BW parameters '''\n",
    "    func.SetParameters(0.5*(norm_low+norm_up), 0.5*(mean_low+mean_up), 0.5*(width_low+width_up))\n",
    "    func.SetParLimits(0, norm_low, norm_up)\n",
    "    func.SetParLimits(1, mean_low, mean_up)\n",
    "    func.SetParLimits(2, width_low, width_up)\n",
    "def setColor(ROOT_obj, color=ROOT.kBlack):\n",
    "    ''' set (line) color'''\n",
    "    ROOT_obj.SetLineColor(color)"
   ]
  },
  {
   "cell_type": "code",
   "execution_count": 18,
   "metadata": {},
   "outputs": [
    {
     "name": "stdout",
     "output_type": "stream",
     "text": [
      "Formula based function:     bkg \n",
      "                  bkg : pol0+expo(1) Ndim= 1, Npar= 3, Number= 0 \n",
      " Formula expression: \n",
      "\t[p0]+exp([p1]+[p2]*x) \n"
     ]
    }
   ],
   "source": [
    "#### DEFINE SOME BREIT-WIGNER FUNCTIONS\n",
    "\n",
    "xlow_fit=30.; xup_fit=140.;\n",
    "#foo=ROOT.TMath.BreitWigner(4., 3., 3.)\n",
    "fBW = ROOT.TF1(\"fBW\", \"[0]*TMath::BreitWigner(x, [1], [2])\", xlow_fit, xup_fit)\n",
    "setBWLims(fBW)\n",
    "# declare its own function for signal\n",
    "fSig = ROOT.TF1(\"fSig\", \"[0]*TMath::BreitWigner(x, [1], [2])\", xlow_fit, xup_fit)\n",
    "# first order polynomial as background\n",
    "fFit1 = ROOT.TF1(\"fit1\", \"fBW+pol1(3)\", xlow_fit, xup_fit)\n",
    "setBWLims(fFit1)\n",
    "# second order polynomial as background\n",
    "fFit2 = ROOT.TF1(\"fit2\", \"fBW+pol2(3)\", xlow_fit, xup_fit)\n",
    "# second order polynomial only\n",
    "fBkg2 = ROOT.TF1(\"bkg2\", \"pol2\", xlow_fit, xup_fit)\n",
    "setBWLims(fFit2)\n",
    "# third order polynomial as background\n",
    "fFit3 = ROOT.TF1(\"fit3\", \"fBW+pol3(3)\", xlow_fit, xup_fit)\n",
    "setBWLims(fFit3)\n",
    "# constant plus exponential for bkg\n",
    "fBkg = ROOT.TF1(\"bkg\", \"pol0+expo(1)\", xlow_fit, xup_fit)\n",
    "#setBkgLimits(fBkg)\n",
    "fBkg.Print()\n",
    "fModel = ROOT.TF1(\"model\", \"fBW+bkg\", xlow_fit, xup_fit)\n",
    "setBWLims(fModel)\n",
    "# set color\n",
    "setColor(fBkg, ROOT.kRed)\n",
    "setColor(fFit1); setColor(fFit2); setColor(fFit3);\n",
    "setColor(fBW, ROOT.kBlue)\n",
    "#setColor(fBkg2, ROOT.kBlue)"
   ]
  },
  {
   "cell_type": "markdown",
   "metadata": {},
   "source": [
    "### Anpassning med Breit-Wigner"
   ]
  },
  {
   "cell_type": "code",
   "execution_count": 23,
   "metadata": {},
   "outputs": [],
   "source": [
    "%jsroot on"
   ]
  },
  {
   "cell_type": "code",
   "execution_count": 24,
   "metadata": {
    "scrolled": false
   },
   "outputs": [
    {
     "name": "stdout",
     "output_type": "stream",
     "text": [
      " FCN=397.398 FROM MIGRAD    STATUS=CONVERGED      80 CALLS          81 TOTAL\n",
      "                     EDM=2.55918e-07    STRATEGY= 1      ERROR MATRIX ACCURATE \n",
      "  EXT PARAMETER                                   STEP         FIRST   \n",
      "  NO.   NAME      VALUE            ERROR          SIZE      DERIVATIVE \n",
      "   1  p0           1.39906e+04   1.99267e+02   4.76859e-04   6.52480e-04\n",
      "   2  p1           8.98190e+01   6.03693e-02   5.20732e-05   6.23650e-03\n",
      "   3  p2           5.37544e+00   1.17595e-01   6.74770e-05  -1.66100e-03\n",
      "   4  p3          -1.95260e+01   2.76800e+01   3.86776e-03   1.46232e-04\n",
      "   5  p4           3.18982e+00   1.09273e+00   2.28524e-04   2.46254e-06\n",
      "   6  p5          -3.84189e-03   6.09849e-03   2.33992e-06   5.58098e-01\n"
     ]
    },
    {
     "data": {
      "text/html": [
       "\n",
       "<div id=\"root_plot_1\"\n",
       "     style=\"width: 796px; height: 572px\">\n",
       "</div>\n",
       "\n",
       "<script>\n",
       " requirejs.config({\n",
       "     paths: {\n",
       "       'JSRootCore' : 'https://root.cern.ch/js/notebook//scripts/JSRootCore',\n",
       "     }\n",
       "   });\n",
       " require(['JSRootCore'],\n",
       "     function(Core) {\n",
       "       var obj = Core.JSONR_unref({\"_typename\":\"TCanvas\",\"fUniqueID\":0,\"fBits\":53673992,\"fLineColor\":1,\"fLineStyle\":1,\"fLineWidth\":1,\"fFillColor\":0,\"fFillStyle\":1001,\"fLeftMargin\":0.1,\"fRightMargin\":0.1,\"fBottomMargin\":0.1,\"fTopMargin\":0.1,\"fXfile\":2,\"fYfile\":2,\"fAfile\":1,\"fXstat\":0.99,\"fYstat\":0.99,\"fAstat\":2,\"fFrameFillColor\":0,\"fFrameLineColor\":1,\"fFrameFillStyle\":1001,\"fFrameLineStyle\":1,\"fFrameLineWidth\":1,\"fFrameBorderSize\":1,\"fFrameBorderMode\":0,\"fX1\":14.9999988824128,\"fY1\":-197.304900242724,\"fX2\":165.000001117587,\"fY2\":1775.74398458163,\"fXtoAbsPixelk\":-79.5999428832051,\"fXtoPixelk\":-79.5999428832051,\"fXtoPixel\":5.30666658759117,\"fYtoAbsPixelk\":514.800046590614,\"fYtoPixelk\":514.800046590614,\"fYtoPixel\":-0.289906653808489,\"fUtoAbsPixelk\":5e-5,\"fUtoPixelk\":5e-5,\"fUtoPixel\":796,\"fVtoAbsPixelk\":572.00005,\"fVtoPixelk\":572,\"fVtoPixel\":-572,\"fAbsPixeltoXk\":14.9999988824128,\"fPixeltoXk\":14.9999988824128,\"fPixeltoX\":0.188442213863284,\"fAbsPixeltoYk\":1775.74398458163,\"fPixeltoYk\":-197.304900242724,\"fPixeltoY\":-3.44938616228035,\"fXlowNDC\":0,\"fYlowNDC\":0,\"fXUpNDC\":0,\"fYUpNDC\":0,\"fWNDC\":1,\"fHNDC\":1,\"fAbsXlowNDC\":0,\"fAbsYlowNDC\":0,\"fAbsWNDC\":1,\"fAbsHNDC\":1,\"fUxmin\":30,\"fUymin\":0,\"fUxmax\":150,\"fUymax\":1578.43908433891,\"fTheta\":30,\"fPhi\":30,\"fAspectRatio\":0,\"fNumber\":0,\"fTickx\":0,\"fTicky\":0,\"fLogx\":0,\"fLogy\":0,\"fLogz\":0,\"fPadPaint\":0,\"fCrosshair\":0,\"fCrosshairPos\":0,\"fBorderSize\":2,\"fBorderMode\":0,\"fModified\":false,\"fGridx\":false,\"fGridy\":false,\"fAbsCoord\":false,\"fEditable\":true,\"fFixedAspectRatio\":false,\"fPrimitives\":{\"_typename\":\"TList\",\"name\":\"TList\",\"arr\":[{\"_typename\":\"TFrame\",\"fUniqueID\":0,\"fBits\":50331656,\"fLineColor\":1,\"fLineStyle\":1,\"fLineWidth\":1,\"fFillColor\":0,\"fFillStyle\":1001,\"fX1\":30,\"fY1\":0,\"fX2\":150,\"fY2\":1578.43908433891,\"fBorderSize\":1,\"fBorderMode\":0},{\"_typename\":\"TH1F\",\"fUniqueID\":0,\"fBits\":50331656,\"fName\":\"h_mass_electrons_simulation\",\"fTitle\":\"\",\"fLineColor\":602,\"fLineStyle\":1,\"fLineWidth\":1,\"fFillColor\":0,\"fFillStyle\":1001,\"fMarkerColor\":1,\"fMarkerStyle\":1,\"fMarkerSize\":1,\"fNcells\":52,\"fXaxis\":{\"_typename\":\"TAxis\",\"fUniqueID\":0,\"fBits\":50331648,\"fName\":\"xaxis\",\"fTitle\":\" Invariant mass [GeV]\",\"fNdivisions\":510,\"fAxisColor\":1,\"fLabelColor\":1,\"fLabelFont\":42,\"fLabelOffset\":0.005,\"fLabelSize\":0.035,\"fTickLength\":0.03,\"fTitleOffset\":1,\"fTitleSize\":0.035,\"fTitleColor\":1,\"fTitleFont\":42,\"fNbins\":50,\"fXmin\":30,\"fXmax\":150,\"fXbins\":[],\"fFirst\":0,\"fLast\":0,\"fBits2\":0,\"fTimeDisplay\":false,\"fTimeFormat\":\"\",\"fLabels\":null,\"fModLabs\":null},\"fYaxis\":{\"_typename\":\"TAxis\",\"fUniqueID\":0,\"fBits\":50331648,\"fName\":\"yaxis\",\"fTitle\":\" Number of events\",\"fNdivisions\":510,\"fAxisColor\":1,\"fLabelColor\":1,\"fLabelFont\":42,\"fLabelOffset\":0.005,\"fLabelSize\":0.035,\"fTickLength\":0.03,\"fTitleOffset\":0,\"fTitleSize\":0.035,\"fTitleColor\":1,\"fTitleFont\":42,\"fNbins\":1,\"fXmin\":0,\"fXmax\":1,\"fXbins\":[],\"fFirst\":0,\"fLast\":0,\"fBits2\":0,\"fTimeDisplay\":false,\"fTimeFormat\":\"\",\"fLabels\":null,\"fModLabs\":null},\"fZaxis\":{\"_typename\":\"TAxis\",\"fUniqueID\":0,\"fBits\":50331648,\"fName\":\"zaxis\",\"fTitle\":\"\",\"fNdivisions\":510,\"fAxisColor\":1,\"fLabelColor\":1,\"fLabelFont\":42,\"fLabelOffset\":0.005,\"fLabelSize\":0.035,\"fTickLength\":0.03,\"fTitleOffset\":1,\"fTitleSize\":0.035,\"fTitleColor\":1,\"fTitleFont\":42,\"fNbins\":1,\"fXmin\":0,\"fXmax\":1,\"fXbins\":[],\"fFirst\":0,\"fLast\":0,\"fBits2\":0,\"fTimeDisplay\":false,\"fTimeFormat\":\"\",\"fLabels\":null,\"fModLabs\":null},\"fBarOffset\":0,\"fBarWidth\":1000,\"fEntries\":6001,\"fTsumw\":5957,\"fTsumw2\":5957,\"fTsumwx\":523329.548669365,\"fTsumwx2\":46618507.4163304,\"fMaximum\":-1111,\"fMinimum\":-1111,\"fNormFactor\":0,\"fContour\":[],\"fSumw2\":[],\"fOption\":\"\",\"fFunctions\":{\"_typename\":\"TList\",\"name\":\"TList\",\"arr\":[{\"_typename\":\"TPaveStats\",\"fUniqueID\":0,\"fBits\":50331657,\"fLineColor\":1,\"fLineStyle\":1,\"fLineWidth\":1,\"fFillColor\":0,\"fFillStyle\":1001,\"fX1\":132.000003039837,\"fY1\":1331.80799725644,\"fX2\":162.000003933907,\"fY2\":1647.49581177217,\"fX1NDC\":0.780000016093254,\"fY1NDC\":0.775000005960464,\"fX2NDC\":0.980000019073486,\"fY2NDC\":0.935000002384186,\"fBorderSize\":1,\"fInit\":1,\"fShadowColor\":1,\"fCornerRadius\":0,\"fOption\":\"brNDC\",\"fName\":\"stats\",\"fTextAngle\":0,\"fTextSize\":0,\"fTextAlign\":12,\"fTextColor\":1,\"fTextFont\":42,\"fLabel\":\"\",\"fLongest\":27,\"fMargin\":0.05,\"fLines\":{\"_typename\":\"TList\",\"name\":\"TList\",\"arr\":[{\"_typename\":\"TLatex\",\"fUniqueID\":0,\"fBits\":50331648,\"fName\":\"\",\"fTitle\":\"h_mass_electrons_simulation\",\"fTextAngle\":0,\"fTextSize\":0.0368,\"fTextAlign\":0,\"fTextColor\":0,\"fTextFont\":0,\"fX\":0,\"fY\":0,\"fLineColor\":1,\"fLineStyle\":1,\"fLineWidth\":2,\"fLimitFactorSize\":3,\"fOriginSize\":0.0368000008165836},{\"_typename\":\"TLatex\",\"fUniqueID\":0,\"fBits\":50331648,\"fName\":\"\",\"fTitle\":\"Entries = 6001   \",\"fTextAngle\":0,\"fTextSize\":0,\"fTextAlign\":0,\"fTextColor\":0,\"fTextFont\":0,\"fX\":0,\"fY\":0,\"fLineColor\":1,\"fLineStyle\":1,\"fLineWidth\":2,\"fLimitFactorSize\":3,\"fOriginSize\":0.04},{\"_typename\":\"TLatex\",\"fUniqueID\":0,\"fBits\":50331648,\"fName\":\"\",\"fTitle\":\"Mean  =  87.85\",\"fTextAngle\":0,\"fTextSize\":0,\"fTextAlign\":0,\"fTextColor\":0,\"fTextFont\":0,\"fX\":0,\"fY\":0,\"fLineColor\":1,\"fLineStyle\":1,\"fLineWidth\":2,\"fLimitFactorSize\":3,\"fOriginSize\":0.04},{\"_typename\":\"TLatex\",\"fUniqueID\":0,\"fBits\":50331648,\"fName\":\"\",\"fTitle\":\"Std Dev   =  10.39\",\"fTextAngle\":0,\"fTextSize\":0,\"fTextAlign\":0,\"fTextColor\":0,\"fTextFont\":0,\"fX\":0,\"fY\":0,\"fLineColor\":1,\"fLineStyle\":1,\"fLineWidth\":2,\"fLimitFactorSize\":3,\"fOriginSize\":0.04}],\"opt\":[\"\",\"\",\"\",\"\"]},\"fOptFit\":0,\"fOptStat\":1111,\"fFitFormat\":\"5.4g\",\"fStatFormat\":\"6.4g\",\"fParent\":{\"$ref\":3}},{\"_typename\":\"TF1\",\"fUniqueID\":0,\"fBits\":50332680,\"fName\":\"model\",\"fTitle\":\"fBW+bkg\",\"fLineColor\":2,\"fLineStyle\":1,\"fLineWidth\":2,\"fFillColor\":19,\"fFillStyle\":0,\"fMarkerColor\":1,\"fMarkerStyle\":1,\"fMarkerSize\":1,\"fXmin\":30,\"fXmax\":140,\"fNpar\":6,\"fNdim\":1,\"fNpx\":100,\"fType\":0,\"fNpfits\":46,\"fNDF\":40,\"fChisquare\":397.39792677366,\"fMinimum\":-1111,\"fMaximum\":-1111,\"fParErrors\":[199.267117426407,0.0603692513962528,0.117595144817007,27.6800308158653,1.0927269757521,0.0060984878476397],\"fParMin\":[100,80,0.1,0,0,0],\"fParMax\":[15000,100,40,0,0,0],\"fSave\":[5.45270921164485,5.48742801461342,5.52979467620349,5.58037635768138,5.63979697026775,5.70874410032061,5.78797694012314,5.87833539453128,5.98075056683265,6.09625686756238,6.22600603952333,6.37128345317399,6.53352710183818,6.71434981967196,6.91556536194395,7.13921913339425,7.38762453469671,7.66340613052228,7.96955114022106,8.30947113353957,8.68707630578656,9.10686534570989,9.57403474464097,10.094612495596,10.6756225911454,11.3252886825726,12.0532878995506,12.8710694205642,13.792257322444,14.8331640980658,16.0134508677073,17.3569840034068,18.8929575890108,20.6573798688783,22.6950643337796,25.0623299206837,27.8307122693635,31.0921394847132,34.9662659333826,39.6110460281859,45.2382726686629,52.1368946256722,60.7088233922929,71.5253336763977,85.4184174155854,103.633337499446,128.091879550469,161.862357315142,210.026161619601,281.310459760984,391.121243997534,566.408388614945,847.766141745877,1253.58679440058,1615.3137933084,1554.59118674544,1148.91268615765,768.500562133593,516.186081667194,359.601635497837,260.743034508178,195.90134875325,151.639051549367,120.307443832355,97.4157317420419,80.22809516353,67.0165873613229,56.6529994814543,48.3784019541743,41.668522989894,36.152526366612,31.5625195564219,27.7012963238578,24.4212107301654,21.6100260073135,19.1812394428388,17.0673430736977,15.215048829958,13.5818524499396,12.1335252409047,10.8422589228731,9.6852767725722,8.6437821336546,7.70215401916073,6.8473257607549,6.06830070559574,5.35577154213083,4.70181871424401,4.09966972086929,3.54350567130923,3.02830479989607,2.54971509662622,2.10395003178789,1.68770271652421,1.2980748708485,0.932517753733818,0.588782809842809,0.264880250234304,-0.0409558563276349,-0.330297124159366,-0.604545945675311,30,140],\"fNormalized\":false,\"fNormIntegral\":0,\"fFormula\":{\"_typename\":\"TFormula\",\"fUniqueID\":0,\"fBits\":50332672,\"fName\":\"model\",\"fTitle\":\"fBW+bkg\",\"fClingParameters\":[13990.6201139997,89.8189836936186,5.37544380075935,-19.5259740185416,3.18982060468695,-0.00384188825596947],\"fAllParametersSetted\":true,\"fParams\":[{\"$pair\":\"pair<TString,int,TFormulaParamOrder>\",\"first\":\"p0\",\"second\":0},{\"$pair\":\"pair<TString,int,TFormulaParamOrder>\",\"first\":\"p1\",\"second\":1},{\"$pair\":\"pair<TString,int,TFormulaParamOrder>\",\"first\":\"p2\",\"second\":2},{\"$pair\":\"pair<TString,int,TFormulaParamOrder>\",\"first\":\"p3\",\"second\":3},{\"$pair\":\"pair<TString,int,TFormulaParamOrder>\",\"first\":\"p4\",\"second\":4},{\"$pair\":\"pair<TString,int,TFormulaParamOrder>\",\"first\":\"p5\",\"second\":5}],\"fFormula\":\"([p0]*TMath::BreitWigner(x,[p1],[p2]))+([p3]+exp([p4]+[p5]*x))\",\"fNdim\":1,\"fLinearParts\":[],\"fVectorized\":false},\"fParams\":null,\"fComposition_ptr\":null}],\"opt\":[\"brNDC\",\"\"]},\"fBufferSize\":0,\"fBuffer\":[],\"fBinStatErrOpt\":0,\"fStatOverflows\":2,\"fArray\":[5,2,3,2,11,18,21,26,23,23,21,25,23,25,22,23,28,31,45,49,84,112,196,424,757,1257,1465,704,227,95,54,33,28,15,12,13,11,5,6,6,4,5,7,4,2,1,1,3,2,1,2,39]},{\"_typename\":\"TF1\",\"fUniqueID\":0,\"fBits\":50331656,\"fName\":\"fBW\",\"fTitle\":\"[0]*TMath::BreitWigner(x, [1], [2])\",\"fLineColor\":600,\"fLineStyle\":1,\"fLineWidth\":2,\"fFillColor\":19,\"fFillStyle\":0,\"fMarkerColor\":1,\"fMarkerStyle\":1,\"fMarkerSize\":1,\"fXmin\":30,\"fXmax\":140,\"fNpar\":3,\"fNdim\":1,\"fNpx\":100,\"fType\":0,\"fNpfits\":0,\"fNDF\":0,\"fChisquare\":0,\"fMinimum\":-1111,\"fMaximum\":-1111,\"fParErrors\":[0,0,0],\"fParMin\":[100,80,0.1],\"fParMax\":[15000,100,40],\"fSave\":[],\"fNormalized\":false,\"fNormIntegral\":0,\"fFormula\":{\"_typename\":\"TFormula\",\"fUniqueID\":0,\"fBits\":50332672,\"fName\":\"fBW\",\"fTitle\":\"[0]*TMath::BreitWigner(x, [1], [2])\",\"fClingParameters\":[13990.6201139997,89.8189836936186,5.37544380075935],\"fAllParametersSetted\":true,\"fParams\":[{\"$pair\":\"pair<TString,int,TFormulaParamOrder>\",\"first\":\"p0\",\"second\":0},{\"$pair\":\"pair<TString,int,TFormulaParamOrder>\",\"first\":\"p1\",\"second\":1},{\"$pair\":\"pair<TString,int,TFormulaParamOrder>\",\"first\":\"p2\",\"second\":2}],\"fFormula\":\"[p0]*TMath::BreitWigner(x,[p1],[p2])\",\"fNdim\":1,\"fLinearParts\":[],\"fVectorized\":false},\"fParams\":null,\"fComposition_ptr\":null},{\"_typename\":\"TF1\",\"fUniqueID\":0,\"fBits\":50331656,\"fName\":\"bkg\",\"fTitle\":\"pol0+expo(1)\",\"fLineColor\":632,\"fLineStyle\":1,\"fLineWidth\":2,\"fFillColor\":19,\"fFillStyle\":0,\"fMarkerColor\":1,\"fMarkerStyle\":1,\"fMarkerSize\":1,\"fXmin\":30,\"fXmax\":140,\"fNpar\":3,\"fNdim\":1,\"fNpx\":100,\"fType\":0,\"fNpfits\":0,\"fNDF\":0,\"fChisquare\":0,\"fMinimum\":-1111,\"fMaximum\":-1111,\"fParErrors\":[0,0,0],\"fParMin\":[0,0,0],\"fParMax\":[0,0,0],\"fSave\":[],\"fNormalized\":false,\"fNormIntegral\":0,\"fFormula\":{\"_typename\":\"TFormula\",\"fUniqueID\":0,\"fBits\":50332672,\"fName\":\"bkg\",\"fTitle\":\"pol0+expo(1)\",\"fClingParameters\":[0,0,0],\"fAllParametersSetted\":true,\"fParams\":[{\"$pair\":\"pair<TString,int,TFormulaParamOrder>\",\"first\":\"p0\",\"second\":0},{\"$pair\":\"pair<TString,int,TFormulaParamOrder>\",\"first\":\"p1\",\"second\":1},{\"$pair\":\"pair<TString,int,TFormulaParamOrder>\",\"first\":\"p2\",\"second\":2}],\"fFormula\":\"[p0]+exp([p1]+[p2]*x)\",\"fNdim\":1,\"fLinearParts\":[],\"fVectorized\":false},\"fParams\":null,\"fComposition_ptr\":null},{\"$ref\":16},{\"$ref\":18},{\"$ref\":16},{\"$ref\":18},{\"$ref\":16},{\"$ref\":18}],\"opt\":[\"\",\"e1p\",\"SAME\",\"SAME\",\"SAME\",\"SAME\",\"SAME\",\"SAME\",\"SAME\",\"SAME\"]},\"fExecs\":null,\"fName\":\"canvas\",\"fTitle\":\"\",\"fNumPaletteColor\":0,\"fNextPaletteColor\":0,\"fDISPLAY\":\"$DISPLAY\",\"fDoubleBuffer\":0,\"fRetained\":true,\"fXsizeUser\":0,\"fYsizeUser\":0,\"fXsizeReal\":20,\"fYsizeReal\":15,\"fWindowTopX\":0,\"fWindowTopY\":0,\"fWindowWidth\":0,\"fWindowHeight\":0,\"fCw\":796,\"fCh\":572,\"fCatt\":{\"_typename\":\"TAttCanvas\",\"fXBetween\":2,\"fYBetween\":2,\"fTitleFromTop\":1.2,\"fXdate\":0.2,\"fYdate\":0.3,\"fAdate\":1},\"kMoveOpaque\":true,\"kResizeOpaque\":true,\"fHighLightColor\":2,\"fBatch\":true,\"kShowEventStatus\":false,\"kAutoExec\":true,\"kMenuBar\":true});\n",
       "       Core.draw(\"root_plot_1\", obj, \"\");\n",
       "     }\n",
       " );\n",
       "</script>\n"
      ],
      "text/plain": [
       "<IPython.core.display.HTML object>"
      ]
     },
     "metadata": {},
     "output_type": "display_data"
    }
   ],
   "source": [
    "#canvas_fit = ROOT.TCanvas(\"canvas_fit\", \"\", 800, 600) # open a new canvas\n",
    "# canvas_fit.cd()\n",
    "#canvas.Clear()\n",
    "# h_mass_electrons.Draw(\"e1p\")\n",
    "\n",
    "#fitresult=h_mass_electrons.Fit(\"fit2\", \"S+\", \"SAME\", xlow_fit, xup_fit) # store fit result\n",
    "fitresult=h_mass_electrons_simulation.Fit(\"model\", \"S\", \"e1p\", xlow_fit, xup_fit) # store fit result\n",
    "# Draw signal and bkg on top, using fit result\n",
    "fitresult_parameters={}\n",
    "for i_p,p in enumerate(fitresult.Parameters()):\n",
    "    fitresult_parameters[i_p]=(p, fitresult.ParError(i_p))\n",
    "    \n",
    "### signal\n",
    "# for ipar in range(3): fSig.SetParameter(ipar, fitresult_parameters[ipar][0])\n",
    "# fSig.Draw(\"SAME\")\n",
    "for ipar in range(3): fBW.SetParameter(ipar, fitresult_parameters[ipar][0])\n",
    "fBW.Draw(\"SAME\")\n",
    "\n",
    "### bkg\n",
    "for ipar in range(2): fBkg2.SetParameter(ipar, fitresult_parameters[ipar+3][0])\n",
    "fBkg.Draw(\"SAME\")\n",
    "#fBkg2.Draw(\"SAME\")\n",
    "#ROOT.disableJSVis()\n",
    "#ROOT.enableJSVis()\n",
    "canvas.Draw()\n",
    "#ROOT.disableJSVis()\n",
    "#canvas.SaveAs(\"figures/fit.pdf\")\n",
    "#for obj in canvas.GetListOfPrimitives():\n",
    "#    print(obj)"
   ]
  },
  {
   "cell_type": "code",
   "execution_count": null,
   "metadata": {
    "scrolled": true
   },
   "outputs": [],
   "source": [
    "# Draw signal and bkg on top, using fit result\n",
    "fitresult_parameters={}\n",
    "for i_p,p in enumerate(fitresult.Parameters()):\n",
    "    fitresult_parameters[i_p]=(p, fitresult.ParError(i_p))\n",
    "# signal\n",
    "fBW.SetParameter(0, fitresult_parameters[0][0])\n",
    "fBW.SetParameter(1, fitresult_parameters[1][0])\n",
    "fBW.SetParameter(2, fitresult_parameters[2][0])\n",
    "fBW.Draw(\"SAME\")\n",
    "fBW.Print()\n",
    "print([fBW.GetParameter(i) for i in range(3)])\n",
    "# bkg\n",
    "fBkg2.SetParameter(0, fitresult_parameters[0+3][0])\n",
    "fBkg2.SetParameter(1, fitresult_parameters[1+3][1])\n",
    "fBkg2.Draw(\"SAME\")"
   ]
  },
  {
   "cell_type": "code",
   "execution_count": null,
   "metadata": {},
   "outputs": [],
   "source": [
    "canvas.Draw()"
   ]
  },
  {
   "cell_type": "code",
   "execution_count": null,
   "metadata": {},
   "outputs": [],
   "source": [
    "### doesn't seem to work\n",
    "#def getNumpyArrFromBuffer(buffer,size_buffer):\n",
    "#    ''' get numpy array from buffer '''\n",
    "#    import numpy\n",
    "#    buffer.SetSize(size_buffer)\n",
    "#    return numpy.array(buffer, copy=True)"
   ]
  },
  {
   "cell_type": "code",
   "execution_count": null,
   "metadata": {},
   "outputs": [],
   "source": []
  }
 ],
 "metadata": {
  "kernelspec": {
   "display_name": "Python 3",
   "language": "python",
   "name": "python3"
  },
  "language_info": {
   "codemirror_mode": {
    "name": "ipython",
    "version": 3
   },
   "file_extension": ".py",
   "mimetype": "text/x-python",
   "name": "python",
   "nbconvert_exporter": "python",
   "pygments_lexer": "ipython3",
   "version": "3.7.0"
  }
 },
 "nbformat": 4,
 "nbformat_minor": 2
}
