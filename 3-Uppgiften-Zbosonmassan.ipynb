{
 "cells": [
  {
   "cell_type": "markdown",
   "metadata": {},
   "source": [
    "## <CENTER>  Mätning av $Z$-bosonens massa med ATLAS-data"
   ]
  },
  {
   "cell_type": "markdown",
   "metadata": {},
   "source": [
    "Börja med att hämta datan och ladda in de i ROOT-träd."
   ]
  },
  {
   "cell_type": "code",
   "execution_count": null,
   "metadata": {},
   "outputs": [],
   "source": [
    "import ROOT"
   ]
  },
  {
   "cell_type": "code",
   "execution_count": null,
   "metadata": {},
   "outputs": [],
   "source": [
    "# Leta på följande webbadress, där ni bör hitta två filer, en för händelser med elektroner och en för myoner\n",
    "# http://opendata.atlas.cern/release/samples\n",
    "data_file_electrons = ROOT.TFile.Open(\"...\")\n",
    "data_file_electrons_simulation = ROOT.TFile.Open(\"...\")\n",
    "data_file_muons = ROOT.TFile.Open(\"http://opendata.atlas.cern/release/samples/Data/DataMuons.root\")"
   ]
  },
  {
   "cell_type": "code",
   "execution_count": null,
   "metadata": {},
   "outputs": [],
   "source": [
    "# Ladda in i träd (TFile::ls() kan användas för att lista filens innehåll)\n",
    "tree_electrons = data_file_electrons.Get(\"mini\")\n",
    "tree_electrons_simulation = data_file_electrons_simulation.Get(\"mini\")\n",
    "tree_muons = data_file_muons.Get(\"mini\")"
   ]
  },
  {
   "cell_type": "code",
   "execution_count": null,
   "metadata": {},
   "outputs": [],
   "source": [
    "def getInvMass(lep1_pt, lep1_eta, lep1_phi, lep2_pt, lep2_eta, lep2_phi):\n",
    "    ''' räkna ut invarianta massan med formeln i Introduktions-notboken (antar masslösa partiklar) '''\n",
    "    import math\n",
    "    msq = 2*lep1_pt*lep2_pt*(math.cosh(lep1_eta-lep2_eta) - math.cos(lep1_phi-lep2_phi))\n",
    "    return math.sqrt(msq)"
   ]
  },
  {
   "cell_type": "code",
   "execution_count": null,
   "metadata": {},
   "outputs": [],
   "source": [
    "def getInvMassTL(lep1_pt, lep1_eta, lep1_phi, lep1_e, lep2_pt, lep2_eta, lep2_phi, lep2_e):\n",
    "    ''' räkna ut invarianta massan med TLorentzVectors '''\n",
    "    lep1=ROOT.TLorentzVector()\n",
    "    lep2=ROOT.TLorentzVector()\n",
    "    lep1.SetPtEtaPhiE(lep1_pt, lep1_eta, lep1_phi, lep1_e)\n",
    "    lep2.SetPtEtaPhiE(lep2_pt, lep2_eta, lep2_phi, lep2_e)\n",
    "    invmass=lep1+lep2\n",
    "    return invmass.M()"
   ]
  },
  {
   "cell_type": "code",
   "execution_count": null,
   "metadata": {},
   "outputs": [],
   "source": [
    "# Definiera binnar\n",
    "nbins=50\n",
    "lowedge=30.\n",
    "upedge=150."
   ]
  },
  {
   "cell_type": "code",
   "execution_count": null,
   "metadata": {},
   "outputs": [],
   "source": [
    "# Loopa över alla händelser, räkna ut den invarianta massan av elektron-positron-par och myon-antimyon-par\n",
    "# Detta kan t.ex. göras med hjälp av ROOT-klassen TLorentzVector eller genom att skriva en egen funktion.\n",
    "# Fyll histogram med den invarianta massan.\n",
    "# Använd vad ni lärde dig i första Introduktion-notebook.\n",
    "# Nu tittar ni på data, så varje händelse kommer inte att innehålla en Z-boson.\n",
    "# Ni måste själva sortera ut de händelser som har de karakteristiska drag man förväntar sig för Z-bosoner.\n",
    "h_mass_electrons = ROOT.TH1F(\"h_mass_electrons\", \"; Invariant mass [GeV]; Number of events\", nbins, lowedge, upedge)\n",
    "h_mass_muons = ROOT.TH1F(\"h_mass_muons\", \"; Invariant mass [GeV]; Number of events\", nbins, lowedge, upedge)\n",
    "ievt = 0\n",
    "for evt in tree_electrons:\n",
    "    if evt.lep_n != 2: continue\n",
    "    if not (evt.lep_type[0]==11 and evt.lep_type[1]==11): continue\n",
    "    if (evt.lep_charge[0] + evt.lep_charge[1]) != 0: continue \n",
    "    if ievt > 4000:\n",
    "        break\n",
    "        \n",
    "    # invmass_func =     getInvMass(evt.lep_pt[0]*1e-3, evt.lep_eta[0], evt.lep_phi[0],                    evt.lep_pt[1]*1e-3, evt.lep_eta[1], evt.lep_phi[1])\n",
    "    # invmass_tlorentz=getInvMassTL(evt.lep_pt[0]*1e-3, evt.lep_eta[0], evt.lep_phi[0], evt.lep_E[0]*1e-3, evt.lep_pt[1]*1e-3, evt.lep_eta[1], evt.lep_phi[1], evt.lep_E[1]*1e-3)\n",
    "    # print(\"invmass1 = {}, invmass2 = {}\".format(invmass_func, invmass_tlorentz))\n",
    "    h_mass_electrons.Fill(getInvMass(evt.lep_pt[0]*1e-3, evt.lep_eta[0], evt.lep_phi[0], evt.lep_pt[1]*1e-3, evt.lep_eta[1], evt.lep_phi[1]))\n",
    "    \n",
    "    ievt += 1\n",
    "    "
   ]
  },
  {
   "cell_type": "code",
   "execution_count": null,
   "metadata": {},
   "outputs": [],
   "source": [
    "# Gör samma sak för MC, så kan vi rita upp den med\n",
    "h_mass_electrons_simulation = ROOT.TH1F(\"h_mass_electrons_simulation\", \"; Invariant mass [GeV]; Number of events\", nbins, lowedge, upedge)\n",
    "h_mass_muons_simulation = ROOT.TH1F(\"h_mass_muons_simulation\", \"; Invariant mass [GeV]; Number of events\", nbins, lowedge, upedge)\n",
    "ievt = 0\n",
    "for evt in tree_electrons_simulation:\n",
    "    if evt.lep_n != 2: continue\n",
    "    if not (evt.lep_type[0]==11 and evt.lep_type[1]==11): continue\n",
    "    if (evt.lep_charge[0] + evt.lep_charge[1]) != 0: continue \n",
    "    if ievt > 6000:\n",
    "        break\n",
    "        \n",
    "    # invmass_func =     getInvMass(evt.lep_pt[0]*1e-3, evt.lep_eta[0], evt.lep_phi[0],                    evt.lep_pt[1]*1e-3, evt.lep_eta[1], evt.lep_phi[1])\n",
    "    # invmass_tlorentz=getInvMassTL(evt.lep_pt[0]*1e-3, evt.lep_eta[0], evt.lep_phi[0], evt.lep_E[0]*1e-3, evt.lep_pt[1]*1e-3, evt.lep_eta[1], evt.lep_phi[1], evt.lep_E[1]*1e-3)\n",
    "    # print(\"invmass1 = {}, invmass2 = {}\".format(invmass_func, invmass_tlorentz))\n",
    "    h_mass_electrons_simulation.Fill(getInvMass(evt.lep_pt[0]*1e-3, evt.lep_eta[0], evt.lep_phi[0], evt.lep_pt[1]*1e-3, evt.lep_eta[1], evt.lep_phi[1]))\n",
    "    \n",
    "    ievt += 1"
   ]
  },
  {
   "cell_type": "code",
   "execution_count": null,
   "metadata": {},
   "outputs": [],
   "source": [
    "%jsroot on"
   ]
  },
  {
   "cell_type": "code",
   "execution_count": null,
   "metadata": {},
   "outputs": [],
   "source": [
    "canvas = ROOT.TCanvas(\"canvas\", \"\", 800, 600)\n",
    "h_mass_electrons.Draw(\"e1p\")\n",
    "h_mass_electrons_simulation.Scale(0.5)\n",
    "h_mass_electrons_simulation.SetFillColor(ROOT.kRed)\n",
    "h_mass_electrons_simulation.SetMarkerColor(ROOT.kRed)\n",
    "h_mass_electrons_simulation.SetLineColor(ROOT.kRed)\n",
    "h_mass_electrons_simulation.Draw(\"he1 SAME\")\n",
    "canvas.Draw()"
   ]
  },
  {
   "cell_type": "code",
   "execution_count": null,
   "metadata": {},
   "outputs": [],
   "source": [
    "# Gör en anpassning till peaken med rätt funktion\n",
    "# prova först dummy Gauss\n",
    "h_mass_electrons.Fit(\"gaus\", \"S\", \"SAME\", 80., 100.)"
   ]
  },
  {
   "cell_type": "code",
   "execution_count": null,
   "metadata": {
    "scrolled": false
   },
   "outputs": [],
   "source": [
    "canvas.Draw()"
   ]
  },
  {
   "cell_type": "code",
   "execution_count": null,
   "metadata": {},
   "outputs": [],
   "source": [
    "# Set Breit-Wigner limits\n",
    "norm_low = 100; norm_up = 15e3\n",
    "mean_low = 80; mean_up = 100\n",
    "width_low = 0.1; width_up = 40\n",
    "def setBWLims(func):\n",
    "    ''' Set limits on BW parameters '''\n",
    "    func.SetParameters(0.5*(norm_low+norm_up), 0.5*(mean_low+mean_up), 0.5*(width_low+width_up))\n",
    "    func.SetParLimits(0, norm_low, norm_up)\n",
    "    func.SetParLimits(1, mean_low, mean_up)\n",
    "    func.SetParLimits(2, width_low, width_up)"
   ]
  },
  {
   "cell_type": "code",
   "execution_count": null,
   "metadata": {},
   "outputs": [],
   "source": [
    "#foo=ROOT.TMath.BreitWigner(4., 3., 3.)\n",
    "fBW = ROOT.TF1(\"fBW\", \"[0]*TMath::BreitWigner(x, [1], [2])\", 50., 120.)\n",
    "setBWLims(fBW)\n",
    "# first order polynomial as background\n",
    "fFit1 = ROOT.TF1(\"fit1\", \"fBW(0)+pol1(3)\", 50., 120.)\n",
    "setBWLims(fFit1)\n",
    "# second order polynomial as background\n",
    "fFit2 = ROOT.TF1(\"fit2\", \"fBW(0)+pol2(3)\", 50., 120.)\n",
    "setBWLims(fFit2)\n",
    "# third order polynomial as background\n",
    "fFit3 = ROOT.TF1(\"fit3\", \"fBW(0)+pol3(3)\", 50., 120.)\n",
    "setBWLims(fFit3)\n",
    "fFull = ROOT.TF1(\"fullManual\", \"[0]*[2]/((x-[1])*(x-[1]) + [2]*[2]/4) + [3]*x + [4]\", 50., 120.)\n",
    "setBWLims(fFull)"
   ]
  },
  {
   "cell_type": "code",
   "execution_count": null,
   "metadata": {
    "scrolled": true
   },
   "outputs": [],
   "source": [
    "h_mass_electrons.Fit(\"fit3\", \"S\", \"SAME\", 80., 100.)"
   ]
  },
  {
   "cell_type": "code",
   "execution_count": null,
   "metadata": {},
   "outputs": [],
   "source": [
    "#fFit1.Draw(\"SAME\")\n",
    "canvas.Draw()"
   ]
  },
  {
   "cell_type": "code",
   "execution_count": null,
   "metadata": {},
   "outputs": [],
   "source": []
  }
 ],
 "metadata": {
  "kernelspec": {
   "display_name": "Python 3",
   "language": "python",
   "name": "python3"
  },
  "language_info": {
   "codemirror_mode": {
    "name": "ipython",
    "version": 3
   },
   "file_extension": ".py",
   "mimetype": "text/x-python",
   "name": "python",
   "nbconvert_exporter": "python",
   "pygments_lexer": "ipython3",
   "version": "3.7.0"
  }
 },
 "nbformat": 4,
 "nbformat_minor": 2
}
