{
 "cells": [
  {
   "cell_type": "markdown",
   "metadata": {},
   "source": [
    "## <CENTER>  Labbrapport"
   ]
  },
  {
   "cell_type": "markdown",
   "metadata": {},
   "source": [
    "Ni ska skriva en fullständig rapport. Mycket information om att skriva en bra rapport (se t.ex. checklistan) finns redan i föreläsningsmaterialet, som hittas på Canvas-sidan. \n",
    "Här följer några specifika saker att tänka gällande denna labb:\n",
    "* Tänk att mottagare är en kurskamrat som inte gjort labben. Denne ska alltså kunna läsa och förstå vad ni gjort och varför.\n",
    "* Förklara från var data kommer.\n",
    "* Förklara kort hur ATLAS-detektorn är uppbyggd och hur olika partiklar kan identifieras.\n",
    "* Förklara hur data filtreras (görs några snitt i data?) för att hitta $Z$-bosoner. Kräver också en kort genomgång av $Z$-bosonen (livslängd, sönderfall...)\n",
    "* Glöm inte att alla figurer och tabeller ska ha en tillhörande bild-/tabelltext och ska refereras till i själva rapporttexten.\n",
    "* Förklara noga hur invariant-massa-distributionen ritas upp och hur anpassningen görs. Vilken funktion anpassas? Vad har använts för att modellera sidbanden på sidan om själva toppen?\n",
    "* Presentera era resultat, gärna i tabellform, och jämför med referensvärden. Stämmer de överens (inom osäkerhetsmarginaler)? Om ja, bra! Om nej, varför inte? Diskutera."
   ]
  }
 ],
 "metadata": {
  "kernelspec": {
   "display_name": "Python 3",
   "language": "python",
   "name": "python3"
  },
  "language_info": {
   "codemirror_mode": {
    "name": "ipython",
    "version": 3
   },
   "file_extension": ".py",
   "mimetype": "text/x-python",
   "name": "python",
   "nbconvert_exporter": "python",
   "pygments_lexer": "ipython3",
   "version": "3.7.0"
  }
 },
 "nbformat": 4,
 "nbformat_minor": 2
}
