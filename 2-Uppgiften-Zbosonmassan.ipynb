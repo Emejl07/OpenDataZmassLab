{
 "cells": [
  {
   "cell_type": "markdown",
   "metadata": {},
   "source": [
    "## <CENTER>  Mätning av $Z$-bosonens massa med ATLAS-data"
   ]
  },
  {
   "cell_type": "markdown",
   "metadata": {},
   "source": [
    "Börja med att hämta datan och ladda in de i ROOT-träd."
   ]
  },
  {
   "cell_type": "code",
   "execution_count": 2,
   "metadata": {},
   "outputs": [
    {
     "name": "stdout",
     "output_type": "stream",
     "text": [
      "Welcome to JupyROOT 6.14/04\n"
     ]
    }
   ],
   "source": [
    "import ROOT"
   ]
  },
  {
   "cell_type": "code",
   "execution_count": 4,
   "metadata": {},
   "outputs": [],
   "source": [
    "# Leta på följande webbadress, där ni bör hitta två filer, en för händelser med elektroner och en för myoner\n",
    "# http://opendata.atlas.cern/release/samples\n",
    "data_file_electrons = ROOT.TFile.Open(\"http://opendata.atlas.cern/release/samples/Data/DataEgamma.root\")\n",
    "data_file_electrons_simulation = ROOT.TFile.Open(\"http://opendata.atlas.cern/release/samples/MC/mc_147770.Zee.root\")\n",
    "data_file_muons = ROOT.TFile.Open(\"http://opendata.atlas.cern/release/samples/Data/DataMuons.root\")"
   ]
  },
  {
   "cell_type": "code",
   "execution_count": 5,
   "metadata": {},
   "outputs": [],
   "source": [
    "# Ladda in i träd (TFile::ls() kan användas för att lista filens innehåll)\n",
    "tree_electrons = data_file_electrons.Get(\"mini\")\n",
    "tree_electrons_simulation = data_file_electrons_simulation.Get(\"mini\")\n",
    "tree_muons = data_file_muons.Get(\"mini\")"
   ]
  },
  {
   "cell_type": "code",
   "execution_count": 6,
   "metadata": {},
   "outputs": [],
   "source": [
    "def getInvMass(lep1_pt, lep1_eta, lep1_phi, lep2_pt, lep2_eta, lep2_phi):\n",
    "    ''' räkna ut invarianta massan med formeln i Introduktions-notboken (antar masslösa partiklar) '''\n",
    "    import math\n",
    "    msq = 2*lep1_pt*lep2_pt*(math.cosh(lep1_eta-lep2_eta) - math.cos(lep1_phi-lep2_phi))\n",
    "    return math.sqrt(msq)"
   ]
  },
  {
   "cell_type": "code",
   "execution_count": 7,
   "metadata": {},
   "outputs": [],
   "source": [
    "def getInvMassTL(lep1_pt, lep1_eta, lep1_phi, lep1_e, lep2_pt, lep2_eta, lep2_phi, lep2_e):\n",
    "    ''' räkna ut invarianta massan med TLorentzVectors '''\n",
    "    lep1=ROOT.TLorentzVector()\n",
    "    lep2=ROOT.TLorentzVector()\n",
    "    lep1.SetPtEtaPhiE(lep1_pt, lep1_eta, lep1_phi, lep1_e)\n",
    "    lep2.SetPtEtaPhiE(lep2_pt, lep2_eta, lep2_phi, lep2_e)\n",
    "    invmass=lep1+lep2\n",
    "    return invmass.M()"
   ]
  },
  {
   "cell_type": "code",
   "execution_count": 8,
   "metadata": {},
   "outputs": [],
   "source": [
    "# Definiera binnar\n",
    "nbins=50\n",
    "lowedge=30.\n",
    "upedge=150."
   ]
  },
  {
   "cell_type": "code",
   "execution_count": 9,
   "metadata": {},
   "outputs": [],
   "source": [
    "# Loopa över alla händelser, räkna ut den invarianta massan av elektron-positron-par och myon-antimyon-par\n",
    "# Detta kan t.ex. göras med hjälp av ROOT-klassen TLorentzVector eller genom att skriva en egen funktion.\n",
    "# Fyll histogram med den invarianta massan.\n",
    "# Använd vad ni lärde dig i första Introduktion-notebook.\n",
    "# Nu tittar ni på data, så varje händelse kommer inte att innehålla en Z-boson.\n",
    "# Ni måste själva sortera ut de händelser som har de karakteristiska drag man förväntar sig för Z-bosoner.\n",
    "h_mass_electrons = ROOT.TH1F(\"h_mass_electrons\", \"; Invariant mass [GeV]; Number of events\", nbins, lowedge, upedge)\n",
    "h_mass_muons = ROOT.TH1F(\"h_mass_muons\", \"; Invariant mass [GeV]; Number of events\", nbins, lowedge, upedge)\n",
    "ievt = 0\n",
    "for evt in tree_electrons:\n",
    "    if evt.lep_n != 2: continue\n",
    "    if not (evt.lep_type[0]==11 and evt.lep_type[1]==11): continue\n",
    "    if (evt.lep_charge[0] + evt.lep_charge[1]) != 0: continue \n",
    "    if ievt > 4000:\n",
    "        break\n",
    "        \n",
    "    # invmass_func =     getInvMass(evt.lep_pt[0]*1e-3, evt.lep_eta[0], evt.lep_phi[0],                    evt.lep_pt[1]*1e-3, evt.lep_eta[1], evt.lep_phi[1])\n",
    "    # invmass_tlorentz=getInvMassTL(evt.lep_pt[0]*1e-3, evt.lep_eta[0], evt.lep_phi[0], evt.lep_E[0]*1e-3, evt.lep_pt[1]*1e-3, evt.lep_eta[1], evt.lep_phi[1], evt.lep_E[1]*1e-3)\n",
    "    # print(\"invmass1 = {}, invmass2 = {}\".format(invmass_func, invmass_tlorentz))\n",
    "    h_mass_electrons.Fill(getInvMass(evt.lep_pt[0]*1e-3, evt.lep_eta[0], evt.lep_phi[0], evt.lep_pt[1]*1e-3, evt.lep_eta[1], evt.lep_phi[1]))\n",
    "    \n",
    "    ievt += 1\n",
    "    "
   ]
  },
  {
   "cell_type": "code",
   "execution_count": 10,
   "metadata": {},
   "outputs": [],
   "source": [
    "# Gör samma sak för MC, så kan vi rita upp den med\n",
    "h_mass_electrons_simulation = ROOT.TH1F(\"h_mass_electrons_simulation\", \"; Invariant mass [GeV]; Number of events\", nbins, lowedge, upedge)\n",
    "h_mass_muons_simulation = ROOT.TH1F(\"h_mass_muons_simulation\", \"; Invariant mass [GeV]; Number of events\", nbins, lowedge, upedge)\n",
    "ievt = 0\n",
    "for evt in tree_electrons_simulation:\n",
    "    if evt.lep_n != 2: continue\n",
    "    if not (evt.lep_type[0]==11 and evt.lep_type[1]==11): continue\n",
    "    if (evt.lep_charge[0] + evt.lep_charge[1]) != 0: continue \n",
    "    if ievt > 6000:\n",
    "        break\n",
    "        \n",
    "    # invmass_func =     getInvMass(evt.lep_pt[0]*1e-3, evt.lep_eta[0], evt.lep_phi[0],                    evt.lep_pt[1]*1e-3, evt.lep_eta[1], evt.lep_phi[1])\n",
    "    # invmass_tlorentz=getInvMassTL(evt.lep_pt[0]*1e-3, evt.lep_eta[0], evt.lep_phi[0], evt.lep_E[0]*1e-3, evt.lep_pt[1]*1e-3, evt.lep_eta[1], evt.lep_phi[1], evt.lep_E[1]*1e-3)\n",
    "    # print(\"invmass1 = {}, invmass2 = {}\".format(invmass_func, invmass_tlorentz))\n",
    "    h_mass_electrons_simulation.Fill(getInvMass(evt.lep_pt[0]*1e-3, evt.lep_eta[0], evt.lep_phi[0], evt.lep_pt[1]*1e-3, evt.lep_eta[1], evt.lep_phi[1]))\n",
    "    \n",
    "    ievt += 1"
   ]
  },
  {
   "cell_type": "code",
   "execution_count": 11,
   "metadata": {},
   "outputs": [],
   "source": [
    "%jsroot on"
   ]
  },
  {
   "cell_type": "code",
   "execution_count": 12,
   "metadata": {},
   "outputs": [
    {
     "data": {
      "text/html": [
       "\n",
       "<div id=\"root_plot_1\"\n",
       "     style=\"width: 796px; height: 572px\">\n",
       "</div>\n",
       "\n",
       "<script>\n",
       " requirejs.config({\n",
       "     paths: {\n",
       "       'JSRootCore' : 'https://root.cern.ch/js/notebook//scripts/JSRootCore',\n",
       "     }\n",
       "   });\n",
       " require(['JSRootCore'],\n",
       "     function(Core) {\n",
       "       var obj = Core.JSONR_unref({\"_typename\":\"TCanvas\",\"fUniqueID\":0,\"fBits\":53673992,\"fLineColor\":1,\"fLineStyle\":1,\"fLineWidth\":1,\"fFillColor\":0,\"fFillStyle\":1001,\"fLeftMargin\":0.1,\"fRightMargin\":0.1,\"fBottomMargin\":0.1,\"fTopMargin\":0.1,\"fXfile\":2,\"fYfile\":2,\"fAfile\":1,\"fXstat\":0.99,\"fYstat\":0.99,\"fAstat\":2,\"fFrameFillColor\":0,\"fFrameLineColor\":1,\"fFrameFillStyle\":1001,\"fFrameLineStyle\":1,\"fFrameLineWidth\":1,\"fFrameBorderSize\":1,\"fFrameBorderMode\":0,\"fX1\":14.9999988824128,\"fY1\":-113.786963619648,\"fX2\":165.000001117587,\"fY2\":1024.08260475452,\"fXtoAbsPixelk\":-79.5999428832051,\"fXtoPixelk\":-79.5999428832051,\"fXtoPixel\":5.30666658759117,\"fYtoAbsPixelk\":514.800046590614,\"fYtoPixelk\":514.800046590614,\"fYtoPixel\":-0.502693820010754,\"fUtoAbsPixelk\":5e-5,\"fUtoPixelk\":5e-5,\"fUtoPixel\":796,\"fVtoAbsPixelk\":572.00005,\"fVtoPixelk\":572,\"fVtoPixel\":-572,\"fAbsPixeltoXk\":14.9999988824128,\"fPixeltoXk\":14.9999988824128,\"fPixeltoX\":0.188442213863284,\"fAbsPixeltoYk\":1024.08260475452,\"fPixeltoYk\":-113.786963619648,\"fPixeltoY\":-1.98928246219261,\"fXlowNDC\":0,\"fYlowNDC\":0,\"fXUpNDC\":0,\"fYUpNDC\":0,\"fWNDC\":1,\"fHNDC\":1,\"fAbsXlowNDC\":0,\"fAbsYlowNDC\":0,\"fAbsWNDC\":1,\"fAbsHNDC\":1,\"fUxmin\":30,\"fUymin\":0,\"fUxmax\":150,\"fUymax\":910.295641134873,\"fTheta\":30,\"fPhi\":30,\"fAspectRatio\":0,\"fNumber\":0,\"fTickx\":0,\"fTicky\":0,\"fLogx\":0,\"fLogy\":0,\"fLogz\":0,\"fPadPaint\":0,\"fCrosshair\":0,\"fCrosshairPos\":0,\"fBorderSize\":2,\"fBorderMode\":0,\"fModified\":false,\"fGridx\":false,\"fGridy\":false,\"fAbsCoord\":false,\"fEditable\":true,\"fFixedAspectRatio\":false,\"fPrimitives\":{\"_typename\":\"TList\",\"name\":\"TList\",\"arr\":[{\"_typename\":\"TFrame\",\"fUniqueID\":0,\"fBits\":50331656,\"fLineColor\":1,\"fLineStyle\":1,\"fLineWidth\":1,\"fFillColor\":0,\"fFillStyle\":1001,\"fX1\":30,\"fY1\":0,\"fX2\":150,\"fY2\":910.295641134873,\"fBorderSize\":1,\"fBorderMode\":0},{\"_typename\":\"TH1F\",\"fUniqueID\":0,\"fBits\":50331656,\"fName\":\"h_mass_electrons\",\"fTitle\":\"\",\"fLineColor\":602,\"fLineStyle\":1,\"fLineWidth\":1,\"fFillColor\":0,\"fFillStyle\":1001,\"fMarkerColor\":1,\"fMarkerStyle\":1,\"fMarkerSize\":1,\"fNcells\":52,\"fXaxis\":{\"_typename\":\"TAxis\",\"fUniqueID\":0,\"fBits\":50331648,\"fName\":\"xaxis\",\"fTitle\":\" Invariant mass [GeV]\",\"fNdivisions\":510,\"fAxisColor\":1,\"fLabelColor\":1,\"fLabelFont\":42,\"fLabelOffset\":0.005,\"fLabelSize\":0.035,\"fTickLength\":0.03,\"fTitleOffset\":1,\"fTitleSize\":0.035,\"fTitleColor\":1,\"fTitleFont\":42,\"fNbins\":50,\"fXmin\":30,\"fXmax\":150,\"fXbins\":[],\"fFirst\":0,\"fLast\":0,\"fBits2\":0,\"fTimeDisplay\":false,\"fTimeFormat\":\"\",\"fLabels\":null,\"fModLabs\":null},\"fYaxis\":{\"_typename\":\"TAxis\",\"fUniqueID\":0,\"fBits\":50331648,\"fName\":\"yaxis\",\"fTitle\":\" Number of events\",\"fNdivisions\":510,\"fAxisColor\":1,\"fLabelColor\":1,\"fLabelFont\":42,\"fLabelOffset\":0.005,\"fLabelSize\":0.035,\"fTickLength\":0.03,\"fTitleOffset\":0,\"fTitleSize\":0.035,\"fTitleColor\":1,\"fTitleFont\":42,\"fNbins\":1,\"fXmin\":0,\"fXmax\":1,\"fXbins\":[],\"fFirst\":0,\"fLast\":0,\"fBits2\":0,\"fTimeDisplay\":false,\"fTimeFormat\":\"\",\"fLabels\":null,\"fModLabs\":null},\"fZaxis\":{\"_typename\":\"TAxis\",\"fUniqueID\":0,\"fBits\":50331648,\"fName\":\"zaxis\",\"fTitle\":\"\",\"fNdivisions\":510,\"fAxisColor\":1,\"fLabelColor\":1,\"fLabelFont\":42,\"fLabelOffset\":0.005,\"fLabelSize\":0.035,\"fTickLength\":0.03,\"fTitleOffset\":1,\"fTitleSize\":0.035,\"fTitleColor\":1,\"fTitleFont\":42,\"fNbins\":1,\"fXmin\":0,\"fXmax\":1,\"fXbins\":[],\"fFirst\":0,\"fLast\":0,\"fBits2\":0,\"fTimeDisplay\":false,\"fTimeFormat\":\"\",\"fLabels\":null,\"fModLabs\":null},\"fBarOffset\":0,\"fBarWidth\":1000,\"fEntries\":4001,\"fTsumw\":3579,\"fTsumw2\":3579,\"fTsumwx\":306294.792083041,\"fTsumwx2\":26983924.8168749,\"fMaximum\":-1111,\"fMinimum\":-1111,\"fNormFactor\":0,\"fContour\":[],\"fSumw2\":[],\"fOption\":\"\",\"fFunctions\":{\"_typename\":\"TList\",\"name\":\"TList\",\"arr\":[{\"_typename\":\"TPaveStats\",\"fUniqueID\":0,\"fBits\":50331657,\"fLineColor\":1,\"fLineStyle\":1,\"fLineWidth\":1,\"fFillColor\":0,\"fFillStyle\":1001,\"fX1\":132.000003039837,\"fY1\":768.061958652565,\"fX2\":162.000003933907,\"fY2\":950.121085523093,\"fX1NDC\":0.780000016093254,\"fY1NDC\":0.775000005960464,\"fX2NDC\":0.980000019073486,\"fY2NDC\":0.935000002384186,\"fBorderSize\":1,\"fInit\":1,\"fShadowColor\":1,\"fCornerRadius\":0,\"fOption\":\"brNDC\",\"fName\":\"stats\",\"fTextAngle\":0,\"fTextSize\":0,\"fTextAlign\":12,\"fTextColor\":1,\"fTextFont\":42,\"fLabel\":\"\",\"fLongest\":18,\"fMargin\":0.05,\"fLines\":{\"_typename\":\"TList\",\"name\":\"TList\",\"arr\":[{\"_typename\":\"TLatex\",\"fUniqueID\":0,\"fBits\":50331648,\"fName\":\"\",\"fTitle\":\"h_mass_electrons\",\"fTextAngle\":0,\"fTextSize\":0.0368,\"fTextAlign\":0,\"fTextColor\":0,\"fTextFont\":0,\"fX\":0,\"fY\":0,\"fLineColor\":1,\"fLineStyle\":1,\"fLineWidth\":2,\"fLimitFactorSize\":3,\"fOriginSize\":0.0368000008165836},{\"_typename\":\"TLatex\",\"fUniqueID\":0,\"fBits\":50331648,\"fName\":\"\",\"fTitle\":\"Entries = 4001   \",\"fTextAngle\":0,\"fTextSize\":0,\"fTextAlign\":0,\"fTextColor\":0,\"fTextFont\":0,\"fX\":0,\"fY\":0,\"fLineColor\":1,\"fLineStyle\":1,\"fLineWidth\":2,\"fLimitFactorSize\":3,\"fOriginSize\":0.04},{\"_typename\":\"TLatex\",\"fUniqueID\":0,\"fBits\":50331648,\"fName\":\"\",\"fTitle\":\"Mean  =  85.58\",\"fTextAngle\":0,\"fTextSize\":0,\"fTextAlign\":0,\"fTextColor\":0,\"fTextFont\":0,\"fX\":0,\"fY\":0,\"fLineColor\":1,\"fLineStyle\":1,\"fLineWidth\":2,\"fLimitFactorSize\":3,\"fOriginSize\":0.04},{\"_typename\":\"TLatex\",\"fUniqueID\":0,\"fBits\":50331648,\"fName\":\"\",\"fTitle\":\"Std Dev   =  14.68\",\"fTextAngle\":0,\"fTextSize\":0,\"fTextAlign\":0,\"fTextColor\":0,\"fTextFont\":0,\"fX\":0,\"fY\":0,\"fLineColor\":1,\"fLineStyle\":1,\"fLineWidth\":2,\"fLimitFactorSize\":3,\"fOriginSize\":0.04}],\"opt\":[\"\",\"\",\"\",\"\"]},\"fOptFit\":0,\"fOptStat\":1111,\"fFitFormat\":\"5.4g\",\"fStatFormat\":\"6.4g\",\"fParent\":{\"$ref\":3}}],\"opt\":[\"brNDC\"]},\"fBufferSize\":0,\"fBuffer\":[],\"fBinStatErrOpt\":0,\"fStatOverflows\":2,\"fArray\":[403,29,29,27,30,25,12,14,24,21,26,13,19,23,14,28,25,27,28,36,45,78,115,203,419,711,838,396,127,63,25,15,20,12,11,8,5,10,4,4,1,2,3,3,3,3,0,0,1,2,2,19]},{\"_typename\":\"TH1F\",\"fUniqueID\":0,\"fBits\":50331656,\"fName\":\"h_mass_electrons_simulation\",\"fTitle\":\"\",\"fLineColor\":632,\"fLineStyle\":1,\"fLineWidth\":1,\"fFillColor\":632,\"fFillStyle\":1001,\"fMarkerColor\":632,\"fMarkerStyle\":1,\"fMarkerSize\":1,\"fNcells\":52,\"fXaxis\":{\"_typename\":\"TAxis\",\"fUniqueID\":0,\"fBits\":50331648,\"fName\":\"xaxis\",\"fTitle\":\" Invariant mass [GeV]\",\"fNdivisions\":510,\"fAxisColor\":1,\"fLabelColor\":1,\"fLabelFont\":42,\"fLabelOffset\":0.005,\"fLabelSize\":0.035,\"fTickLength\":0.03,\"fTitleOffset\":1,\"fTitleSize\":0.035,\"fTitleColor\":1,\"fTitleFont\":42,\"fNbins\":50,\"fXmin\":30,\"fXmax\":150,\"fXbins\":[],\"fFirst\":0,\"fLast\":0,\"fBits2\":0,\"fTimeDisplay\":false,\"fTimeFormat\":\"\",\"fLabels\":null,\"fModLabs\":null},\"fYaxis\":{\"_typename\":\"TAxis\",\"fUniqueID\":0,\"fBits\":50331648,\"fName\":\"yaxis\",\"fTitle\":\" Number of events\",\"fNdivisions\":510,\"fAxisColor\":1,\"fLabelColor\":1,\"fLabelFont\":42,\"fLabelOffset\":0.005,\"fLabelSize\":0.035,\"fTickLength\":0.03,\"fTitleOffset\":0,\"fTitleSize\":0.035,\"fTitleColor\":1,\"fTitleFont\":42,\"fNbins\":1,\"fXmin\":0,\"fXmax\":1,\"fXbins\":[],\"fFirst\":0,\"fLast\":0,\"fBits2\":0,\"fTimeDisplay\":false,\"fTimeFormat\":\"\",\"fLabels\":null,\"fModLabs\":null},\"fZaxis\":{\"_typename\":\"TAxis\",\"fUniqueID\":0,\"fBits\":50331648,\"fName\":\"zaxis\",\"fTitle\":\"\",\"fNdivisions\":510,\"fAxisColor\":1,\"fLabelColor\":1,\"fLabelFont\":42,\"fLabelOffset\":0.005,\"fLabelSize\":0.035,\"fTickLength\":0.03,\"fTitleOffset\":1,\"fTitleSize\":0.035,\"fTitleColor\":1,\"fTitleFont\":42,\"fNbins\":1,\"fXmin\":0,\"fXmax\":1,\"fXbins\":[],\"fFirst\":0,\"fLast\":0,\"fBits2\":0,\"fTimeDisplay\":false,\"fTimeFormat\":\"\",\"fLabels\":null,\"fModLabs\":null},\"fBarOffset\":0,\"fBarWidth\":1000,\"fEntries\":6001,\"fTsumw\":5957,\"fTsumw2\":5957,\"fTsumwx\":523329.548669365,\"fTsumwx2\":46618507.4163304,\"fMaximum\":-1111,\"fMinimum\":-1111,\"fNormFactor\":0,\"fContour\":[],\"fSumw2\":[1.25,0.5,0.75,0.5,2.75,4.5,5.25,6.5,5.75,5.75,5.25,6.25,5.75,6.25,5.5,5.75,7,7.75,11.25,12.25,21,28,49,106,189.25,314.25,366.25,176,56.75,23.75,13.5,8.25,7,3.75,3,3.25,2.75,1.25,1.5,1.5,1,1.25,1.75,1,0.5,0.25,0.25,0.75,0.5,0.25,0.5,9.75],\"fOption\":\"\",\"fFunctions\":{\"_typename\":\"TList\",\"name\":\"TList\",\"arr\":[],\"opt\":[]},\"fBufferSize\":0,\"fBuffer\":[],\"fBinStatErrOpt\":0,\"fStatOverflows\":2,\"fArray\":[2.5,1,1.5,1,5.5,9,10.5,13,11.5,11.5,10.5,12.5,11.5,12.5,11,11.5,14,15.5,22.5,24.5,42,56,98,212,378.5,628.5,732.5,352,113.5,47.5,27,16.5,14,7.5,6,6.5,5.5,2.5,3,3,2,2.5,3.5,2,1,0.5,0.5,1.5,1,0.5,1,19.5]}],\"opt\":[\"\",\"e1p\",\"he1 SAME\"]},\"fExecs\":null,\"fName\":\"canvas\",\"fTitle\":\"\",\"fNumPaletteColor\":0,\"fNextPaletteColor\":0,\"fDISPLAY\":\"$DISPLAY\",\"fDoubleBuffer\":0,\"fRetained\":true,\"fXsizeUser\":0,\"fYsizeUser\":0,\"fXsizeReal\":20,\"fYsizeReal\":15,\"fWindowTopX\":0,\"fWindowTopY\":0,\"fWindowWidth\":0,\"fWindowHeight\":0,\"fCw\":796,\"fCh\":572,\"fCatt\":{\"_typename\":\"TAttCanvas\",\"fXBetween\":2,\"fYBetween\":2,\"fTitleFromTop\":1.2,\"fXdate\":0.2,\"fYdate\":0.3,\"fAdate\":1},\"kMoveOpaque\":true,\"kResizeOpaque\":true,\"fHighLightColor\":2,\"fBatch\":true,\"kShowEventStatus\":false,\"kAutoExec\":true,\"kMenuBar\":true});\n",
       "       Core.draw(\"root_plot_1\", obj, \"\");\n",
       "     }\n",
       " );\n",
       "</script>\n"
      ],
      "text/plain": [
       "<IPython.core.display.HTML object>"
      ]
     },
     "metadata": {},
     "output_type": "display_data"
    }
   ],
   "source": [
    "canvas = ROOT.TCanvas(\"canvas\", \"\", 800, 600)\n",
    "h_mass_electrons.Draw(\"e1p\")\n",
    "h_mass_electrons_simulation.Scale(0.5)\n",
    "h_mass_electrons_simulation.SetFillColor(ROOT.kRed)\n",
    "h_mass_electrons_simulation.SetMarkerColor(ROOT.kRed)\n",
    "h_mass_electrons_simulation.SetLineColor(ROOT.kRed)\n",
    "h_mass_electrons_simulation.Draw(\"he1 SAME\")\n",
    "canvas.Draw()"
   ]
  },
  {
   "cell_type": "code",
   "execution_count": 13,
   "metadata": {},
   "outputs": [
    {
     "data": {
      "text/plain": [
       "<ROOT.TFitResultPtr object at 0x7fa848d338b0>"
      ]
     },
     "execution_count": 13,
     "metadata": {},
     "output_type": "execute_result"
    },
    {
     "name": "stdout",
     "output_type": "stream",
     "text": [
      " FCN=86.2196 FROM MIGRAD    STATUS=CONVERGED      61 CALLS          62 TOTAL\n",
      "                     EDM=6.18525e-08    STRATEGY= 1      ERROR MATRIX ACCURATE \n",
      "  EXT PARAMETER                                   STEP         FIRST   \n",
      "  NO.   NAME      VALUE            ERROR          SIZE      DERIVATIVE \n",
      "   1  Constant     7.47756e+02   1.96828e+01   6.46060e-02  -2.02831e-05\n",
      "   2  Mean         8.97312e+01   7.23979e-02   3.19402e-04  -7.79677e-04\n",
      "   3  Sigma        3.59076e+00   6.95907e-02   2.08346e-05  -7.53853e-02\n"
     ]
    }
   ],
   "source": [
    "# Gör en anpassning till peaken med rätt funktion\n",
    "# prova först dummy Gauss\n",
    "h_mass_electrons.Fit(\"gaus\", \"S\", \"SAME\", 80., 100.)"
   ]
  },
  {
   "cell_type": "code",
   "execution_count": 14,
   "metadata": {
    "scrolled": true
   },
   "outputs": [
    {
     "data": {
      "text/html": [
       "\n",
       "<div id=\"root_plot_2\"\n",
       "     style=\"width: 796px; height: 572px\">\n",
       "</div>\n",
       "\n",
       "<script>\n",
       " requirejs.config({\n",
       "     paths: {\n",
       "       'JSRootCore' : 'https://root.cern.ch/js/notebook//scripts/JSRootCore',\n",
       "     }\n",
       "   });\n",
       " require(['JSRootCore'],\n",
       "     function(Core) {\n",
       "       var obj = Core.JSONR_unref({\"_typename\":\"TCanvas\",\"fUniqueID\":0,\"fBits\":53673992,\"fLineColor\":1,\"fLineStyle\":1,\"fLineWidth\":1,\"fFillColor\":0,\"fFillStyle\":1001,\"fLeftMargin\":0.1,\"fRightMargin\":0.1,\"fBottomMargin\":0.1,\"fTopMargin\":0.1,\"fXfile\":2,\"fYfile\":2,\"fAfile\":1,\"fXstat\":0.99,\"fYstat\":0.99,\"fAstat\":2,\"fFrameFillColor\":0,\"fFrameLineColor\":1,\"fFrameFillStyle\":1001,\"fFrameLineStyle\":1,\"fFrameLineWidth\":1,\"fFrameBorderSize\":1,\"fFrameBorderMode\":0,\"fX1\":14.9999988824128,\"fY1\":-113.786963619648,\"fX2\":165.000001117587,\"fY2\":1024.08260475452,\"fXtoAbsPixelk\":-79.5999428832051,\"fXtoPixelk\":-79.5999428832051,\"fXtoPixel\":5.30666658759117,\"fYtoAbsPixelk\":514.800046590614,\"fYtoPixelk\":514.800046590614,\"fYtoPixel\":-0.502693820010754,\"fUtoAbsPixelk\":5e-5,\"fUtoPixelk\":5e-5,\"fUtoPixel\":796,\"fVtoAbsPixelk\":572.00005,\"fVtoPixelk\":572,\"fVtoPixel\":-572,\"fAbsPixeltoXk\":14.9999988824128,\"fPixeltoXk\":14.9999988824128,\"fPixeltoX\":0.188442213863284,\"fAbsPixeltoYk\":1024.08260475452,\"fPixeltoYk\":-113.786963619648,\"fPixeltoY\":-1.98928246219261,\"fXlowNDC\":0,\"fYlowNDC\":0,\"fXUpNDC\":0,\"fYUpNDC\":0,\"fWNDC\":1,\"fHNDC\":1,\"fAbsXlowNDC\":0,\"fAbsYlowNDC\":0,\"fAbsWNDC\":1,\"fAbsHNDC\":1,\"fUxmin\":30,\"fUymin\":0,\"fUxmax\":150,\"fUymax\":910.295641134873,\"fTheta\":30,\"fPhi\":30,\"fAspectRatio\":0,\"fNumber\":0,\"fTickx\":0,\"fTicky\":0,\"fLogx\":0,\"fLogy\":0,\"fLogz\":0,\"fPadPaint\":0,\"fCrosshair\":0,\"fCrosshairPos\":0,\"fBorderSize\":2,\"fBorderMode\":0,\"fModified\":false,\"fGridx\":false,\"fGridy\":false,\"fAbsCoord\":false,\"fEditable\":true,\"fFixedAspectRatio\":false,\"fPrimitives\":{\"_typename\":\"TList\",\"name\":\"TList\",\"arr\":[{\"_typename\":\"TFrame\",\"fUniqueID\":0,\"fBits\":50331656,\"fLineColor\":1,\"fLineStyle\":1,\"fLineWidth\":1,\"fFillColor\":0,\"fFillStyle\":1001,\"fX1\":30,\"fY1\":0,\"fX2\":150,\"fY2\":910.295641134873,\"fBorderSize\":1,\"fBorderMode\":0},{\"_typename\":\"TH1F\",\"fUniqueID\":0,\"fBits\":50331656,\"fName\":\"h_mass_electrons\",\"fTitle\":\"\",\"fLineColor\":602,\"fLineStyle\":1,\"fLineWidth\":1,\"fFillColor\":0,\"fFillStyle\":1001,\"fMarkerColor\":1,\"fMarkerStyle\":1,\"fMarkerSize\":1,\"fNcells\":52,\"fXaxis\":{\"_typename\":\"TAxis\",\"fUniqueID\":0,\"fBits\":50331648,\"fName\":\"xaxis\",\"fTitle\":\" Invariant mass [GeV]\",\"fNdivisions\":510,\"fAxisColor\":1,\"fLabelColor\":1,\"fLabelFont\":42,\"fLabelOffset\":0.005,\"fLabelSize\":0.035,\"fTickLength\":0.03,\"fTitleOffset\":1,\"fTitleSize\":0.035,\"fTitleColor\":1,\"fTitleFont\":42,\"fNbins\":50,\"fXmin\":30,\"fXmax\":150,\"fXbins\":[],\"fFirst\":0,\"fLast\":0,\"fBits2\":0,\"fTimeDisplay\":false,\"fTimeFormat\":\"\",\"fLabels\":null,\"fModLabs\":null},\"fYaxis\":{\"_typename\":\"TAxis\",\"fUniqueID\":0,\"fBits\":50331648,\"fName\":\"yaxis\",\"fTitle\":\" Number of events\",\"fNdivisions\":510,\"fAxisColor\":1,\"fLabelColor\":1,\"fLabelFont\":42,\"fLabelOffset\":0.005,\"fLabelSize\":0.035,\"fTickLength\":0.03,\"fTitleOffset\":0,\"fTitleSize\":0.035,\"fTitleColor\":1,\"fTitleFont\":42,\"fNbins\":1,\"fXmin\":0,\"fXmax\":1,\"fXbins\":[],\"fFirst\":0,\"fLast\":0,\"fBits2\":0,\"fTimeDisplay\":false,\"fTimeFormat\":\"\",\"fLabels\":null,\"fModLabs\":null},\"fZaxis\":{\"_typename\":\"TAxis\",\"fUniqueID\":0,\"fBits\":50331648,\"fName\":\"zaxis\",\"fTitle\":\"\",\"fNdivisions\":510,\"fAxisColor\":1,\"fLabelColor\":1,\"fLabelFont\":42,\"fLabelOffset\":0.005,\"fLabelSize\":0.035,\"fTickLength\":0.03,\"fTitleOffset\":1,\"fTitleSize\":0.035,\"fTitleColor\":1,\"fTitleFont\":42,\"fNbins\":1,\"fXmin\":0,\"fXmax\":1,\"fXbins\":[],\"fFirst\":0,\"fLast\":0,\"fBits2\":0,\"fTimeDisplay\":false,\"fTimeFormat\":\"\",\"fLabels\":null,\"fModLabs\":null},\"fBarOffset\":0,\"fBarWidth\":1000,\"fEntries\":4001,\"fTsumw\":3579,\"fTsumw2\":3579,\"fTsumwx\":306294.792083041,\"fTsumwx2\":26983924.8168749,\"fMaximum\":-1111,\"fMinimum\":-1111,\"fNormFactor\":0,\"fContour\":[],\"fSumw2\":[],\"fOption\":\"\",\"fFunctions\":{\"_typename\":\"TList\",\"name\":\"TList\",\"arr\":[{\"_typename\":\"TPaveStats\",\"fUniqueID\":0,\"fBits\":50331657,\"fLineColor\":1,\"fLineStyle\":1,\"fLineWidth\":1,\"fFillColor\":0,\"fFillStyle\":1001,\"fX1\":132.000003039837,\"fY1\":768.061958652565,\"fX2\":162.000003933907,\"fY2\":950.121085523093,\"fX1NDC\":0.780000016093254,\"fY1NDC\":0.775000005960464,\"fX2NDC\":0.980000019073486,\"fY2NDC\":0.935000002384186,\"fBorderSize\":1,\"fInit\":1,\"fShadowColor\":1,\"fCornerRadius\":0,\"fOption\":\"brNDC\",\"fName\":\"stats\",\"fTextAngle\":0,\"fTextSize\":0,\"fTextAlign\":12,\"fTextColor\":1,\"fTextFont\":42,\"fLabel\":\"\",\"fLongest\":18,\"fMargin\":0.05,\"fLines\":{\"_typename\":\"TList\",\"name\":\"TList\",\"arr\":[{\"_typename\":\"TLatex\",\"fUniqueID\":0,\"fBits\":50331648,\"fName\":\"\",\"fTitle\":\"h_mass_electrons\",\"fTextAngle\":0,\"fTextSize\":0.0368,\"fTextAlign\":0,\"fTextColor\":0,\"fTextFont\":0,\"fX\":0,\"fY\":0,\"fLineColor\":1,\"fLineStyle\":1,\"fLineWidth\":2,\"fLimitFactorSize\":3,\"fOriginSize\":0.0368000008165836},{\"_typename\":\"TLatex\",\"fUniqueID\":0,\"fBits\":50331648,\"fName\":\"\",\"fTitle\":\"Entries = 4001   \",\"fTextAngle\":0,\"fTextSize\":0,\"fTextAlign\":0,\"fTextColor\":0,\"fTextFont\":0,\"fX\":0,\"fY\":0,\"fLineColor\":1,\"fLineStyle\":1,\"fLineWidth\":2,\"fLimitFactorSize\":3,\"fOriginSize\":0.04},{\"_typename\":\"TLatex\",\"fUniqueID\":0,\"fBits\":50331648,\"fName\":\"\",\"fTitle\":\"Mean  =  85.58\",\"fTextAngle\":0,\"fTextSize\":0,\"fTextAlign\":0,\"fTextColor\":0,\"fTextFont\":0,\"fX\":0,\"fY\":0,\"fLineColor\":1,\"fLineStyle\":1,\"fLineWidth\":2,\"fLimitFactorSize\":3,\"fOriginSize\":0.04},{\"_typename\":\"TLatex\",\"fUniqueID\":0,\"fBits\":50331648,\"fName\":\"\",\"fTitle\":\"Std Dev   =  14.68\",\"fTextAngle\":0,\"fTextSize\":0,\"fTextAlign\":0,\"fTextColor\":0,\"fTextFont\":0,\"fX\":0,\"fY\":0,\"fLineColor\":1,\"fLineStyle\":1,\"fLineWidth\":2,\"fLimitFactorSize\":3,\"fOriginSize\":0.04}],\"opt\":[\"\",\"\",\"\",\"\"]},\"fOptFit\":0,\"fOptStat\":1111,\"fFitFormat\":\"5.4g\",\"fStatFormat\":\"6.4g\",\"fParent\":{\"$ref\":3}},{\"_typename\":\"TF1\",\"fUniqueID\":0,\"fBits\":50332672,\"fName\":\"gaus\",\"fTitle\":\"gaus\",\"fLineColor\":2,\"fLineStyle\":1,\"fLineWidth\":2,\"fFillColor\":19,\"fFillStyle\":0,\"fMarkerColor\":1,\"fMarkerStyle\":1,\"fMarkerSize\":1,\"fXmin\":80,\"fXmax\":100,\"fNpar\":3,\"fNdim\":1,\"fNpx\":100,\"fType\":0,\"fNpfits\":8,\"fNDF\":5,\"fChisquare\":86.2195510516438,\"fMinimum\":-1111,\"fMaximum\":-1111,\"fParErrors\":[19.6828416469281,0.0723979287709432,0.0695907071298911],\"fParMin\":[0,0,0],\"fParMax\":[0,0,35.8913006961612],\"fSave\":[19.007562809533,22.0702956769047,25.5471552306141,29.4801453536266,33.9132469498874,38.892136595884,44.4638342673368,50.6762765076803,57.5778125958651,65.2166227010034,73.6400586725344,82.893909990227,93.0215994623021,104.063315476446,116.055089931862,129.027833355764,143.00634107136,158.008286565322,174.043220324484,191.111594293698,209.203833668051,228.299478893188,248.366421432162,269.360256998809,291.223779499636,313.886637826474,337.26517587516,361.262473725008,385.768604814865,410.661120231232,435.805766942377,461.057442052077,486.261380011092,511.254564336366,535.86734988577,559.925276270452,583.25104771584,605.666649766446,626.995568826593,647.065076787916,665.708540049679,682.767710204984,698.094952635655,711.555369293914,723.028773081026,732.411473459958,739.617836224319,744.581584619261,747.256814169271,747.618699481404,745.663877803781,741.410501051391,734.897955173507,726.186252930553,715.355113173257,702.502746379413,687.744372321528,671.210501148795,653.045013729148,633.403080699905,612.448962238254,590.353732038423,567.292969358233,543.444462294731,518.985963720088,494.09303863745,468.937038210067,443.683231505161,418.489121221545,393.502964492603,368.862514434125,344.693992598997,321.111297061561,298.215445626113,276.094248764499,254.822202446943,234.460587127201,215.057755845161,196.649591761379,179.260113460495,162.902205054358,147.578447461168,133.282027196824,119.9976995366,107.702783925025,96.368170956476,85.9593220396822,76.437244915088,67.7594304336847,59.8807383516878,52.75422227427,46.3318862274418,40.565367592389,35.4065432524468,30.8080577405751,26.7237739055265,23.1091481182889,19.9215333062528,17.1204141284754,14.6675793962254,12.5272374096483,80,100],\"fNormalized\":false,\"fNormIntegral\":0,\"fFormula\":{\"_typename\":\"TFormula\",\"fUniqueID\":0,\"fBits\":50332672,\"fName\":\"gaus\",\"fTitle\":\"gaus\",\"fClingParameters\":[747.755890819355,89.7312132439774,3.59076087925584],\"fAllParametersSetted\":true,\"fParams\":[{\"$pair\":\"pair<TString,int,TFormulaParamOrder>\",\"first\":\"Constant\",\"second\":0},{\"$pair\":\"pair<TString,int,TFormulaParamOrder>\",\"first\":\"Mean\",\"second\":1},{\"$pair\":\"pair<TString,int,TFormulaParamOrder>\",\"first\":\"Sigma\",\"second\":2}],\"fFormula\":\"[Constant]*exp(-0.5*((x-[Mean])\\/[Sigma])*((x-[Mean])\\/[Sigma]))\",\"fNdim\":1,\"fLinearParts\":[],\"fVectorized\":false},\"fParams\":null,\"fComposition_ptr\":null}],\"opt\":[\"brNDC\",\"\"]},\"fBufferSize\":0,\"fBuffer\":[],\"fBinStatErrOpt\":0,\"fStatOverflows\":2,\"fArray\":[403,29,29,27,30,25,12,14,24,21,26,13,19,23,14,28,25,27,28,36,45,78,115,203,419,711,838,396,127,63,25,15,20,12,11,8,5,10,4,4,1,2,3,3,3,3,0,0,1,2,2,19]},{\"_typename\":\"TH1F\",\"fUniqueID\":0,\"fBits\":50331656,\"fName\":\"h_mass_electrons_simulation\",\"fTitle\":\"\",\"fLineColor\":632,\"fLineStyle\":1,\"fLineWidth\":1,\"fFillColor\":632,\"fFillStyle\":1001,\"fMarkerColor\":632,\"fMarkerStyle\":1,\"fMarkerSize\":1,\"fNcells\":52,\"fXaxis\":{\"_typename\":\"TAxis\",\"fUniqueID\":0,\"fBits\":50331648,\"fName\":\"xaxis\",\"fTitle\":\" Invariant mass [GeV]\",\"fNdivisions\":510,\"fAxisColor\":1,\"fLabelColor\":1,\"fLabelFont\":42,\"fLabelOffset\":0.005,\"fLabelSize\":0.035,\"fTickLength\":0.03,\"fTitleOffset\":1,\"fTitleSize\":0.035,\"fTitleColor\":1,\"fTitleFont\":42,\"fNbins\":50,\"fXmin\":30,\"fXmax\":150,\"fXbins\":[],\"fFirst\":0,\"fLast\":0,\"fBits2\":0,\"fTimeDisplay\":false,\"fTimeFormat\":\"\",\"fLabels\":null,\"fModLabs\":null},\"fYaxis\":{\"_typename\":\"TAxis\",\"fUniqueID\":0,\"fBits\":50331648,\"fName\":\"yaxis\",\"fTitle\":\" Number of events\",\"fNdivisions\":510,\"fAxisColor\":1,\"fLabelColor\":1,\"fLabelFont\":42,\"fLabelOffset\":0.005,\"fLabelSize\":0.035,\"fTickLength\":0.03,\"fTitleOffset\":0,\"fTitleSize\":0.035,\"fTitleColor\":1,\"fTitleFont\":42,\"fNbins\":1,\"fXmin\":0,\"fXmax\":1,\"fXbins\":[],\"fFirst\":0,\"fLast\":0,\"fBits2\":0,\"fTimeDisplay\":false,\"fTimeFormat\":\"\",\"fLabels\":null,\"fModLabs\":null},\"fZaxis\":{\"_typename\":\"TAxis\",\"fUniqueID\":0,\"fBits\":50331648,\"fName\":\"zaxis\",\"fTitle\":\"\",\"fNdivisions\":510,\"fAxisColor\":1,\"fLabelColor\":1,\"fLabelFont\":42,\"fLabelOffset\":0.005,\"fLabelSize\":0.035,\"fTickLength\":0.03,\"fTitleOffset\":1,\"fTitleSize\":0.035,\"fTitleColor\":1,\"fTitleFont\":42,\"fNbins\":1,\"fXmin\":0,\"fXmax\":1,\"fXbins\":[],\"fFirst\":0,\"fLast\":0,\"fBits2\":0,\"fTimeDisplay\":false,\"fTimeFormat\":\"\",\"fLabels\":null,\"fModLabs\":null},\"fBarOffset\":0,\"fBarWidth\":1000,\"fEntries\":6001,\"fTsumw\":5957,\"fTsumw2\":5957,\"fTsumwx\":523329.548669365,\"fTsumwx2\":46618507.4163304,\"fMaximum\":-1111,\"fMinimum\":-1111,\"fNormFactor\":0,\"fContour\":[],\"fSumw2\":[1.25,0.5,0.75,0.5,2.75,4.5,5.25,6.5,5.75,5.75,5.25,6.25,5.75,6.25,5.5,5.75,7,7.75,11.25,12.25,21,28,49,106,189.25,314.25,366.25,176,56.75,23.75,13.5,8.25,7,3.75,3,3.25,2.75,1.25,1.5,1.5,1,1.25,1.75,1,0.5,0.25,0.25,0.75,0.5,0.25,0.5,9.75],\"fOption\":\"\",\"fFunctions\":{\"_typename\":\"TList\",\"name\":\"TList\",\"arr\":[],\"opt\":[]},\"fBufferSize\":0,\"fBuffer\":[],\"fBinStatErrOpt\":0,\"fStatOverflows\":2,\"fArray\":[2.5,1,1.5,1,5.5,9,10.5,13,11.5,11.5,10.5,12.5,11.5,12.5,11,11.5,14,15.5,22.5,24.5,42,56,98,212,378.5,628.5,732.5,352,113.5,47.5,27,16.5,14,7.5,6,6.5,5.5,2.5,3,3,2,2.5,3.5,2,1,0.5,0.5,1.5,1,0.5,1,19.5]}],\"opt\":[\"\",\"e1p\",\"he1 SAME\"]},\"fExecs\":null,\"fName\":\"canvas\",\"fTitle\":\"\",\"fNumPaletteColor\":0,\"fNextPaletteColor\":0,\"fDISPLAY\":\"$DISPLAY\",\"fDoubleBuffer\":0,\"fRetained\":true,\"fXsizeUser\":0,\"fYsizeUser\":0,\"fXsizeReal\":20,\"fYsizeReal\":15,\"fWindowTopX\":0,\"fWindowTopY\":0,\"fWindowWidth\":0,\"fWindowHeight\":0,\"fCw\":796,\"fCh\":572,\"fCatt\":{\"_typename\":\"TAttCanvas\",\"fXBetween\":2,\"fYBetween\":2,\"fTitleFromTop\":1.2,\"fXdate\":0.2,\"fYdate\":0.3,\"fAdate\":1},\"kMoveOpaque\":true,\"kResizeOpaque\":true,\"fHighLightColor\":2,\"fBatch\":true,\"kShowEventStatus\":false,\"kAutoExec\":true,\"kMenuBar\":true});\n",
       "       Core.draw(\"root_plot_2\", obj, \"\");\n",
       "     }\n",
       " );\n",
       "</script>\n"
      ],
      "text/plain": [
       "<IPython.core.display.HTML object>"
      ]
     },
     "metadata": {},
     "output_type": "display_data"
    }
   ],
   "source": [
    "canvas.Draw()"
   ]
  },
  {
   "cell_type": "code",
   "execution_count": 33,
   "metadata": {},
   "outputs": [],
   "source": [
    "# Set Breit-Wigner limits\n",
    "norm_low = 100; norm_up = 15e3\n",
    "mean_low = 80; mean_up = 90\n",
    "width_low = 0.1; width_up = 40\n",
    "def setBWLims(func):\n",
    "    ''' Set limits on BW parameters '''\n",
    "    func.SetParLimits(0, norm_low, norm_up)\n",
    "    func.SetParLimits(1, mean_low, mean_up)\n",
    "    func.SetParLimits(2, width_low, width_up)"
   ]
  },
  {
   "cell_type": "code",
   "execution_count": 50,
   "metadata": {},
   "outputs": [
    {
     "name": "stdout",
     "output_type": "stream",
     "text": [
      "The history saving thread hit an unexpected error (OperationalError('unable to open database file')).History will not be written to the database."
     ]
    },
    {
     "name": "stderr",
     "output_type": "stream",
     "text": [
      "Exception in thread IPythonHistorySavingThread:\n",
      "Traceback (most recent call last):\n",
      "  File \"/usr/local/lib/python3.7/site-packages/IPython/core/history.py\", line 834, in run\n",
      "  File \"<decorator-gen-23>\", line 2, in writeout_cache\n",
      "  File \"/usr/local/lib/python3.7/site-packages/IPython/core/history.py\", line 58, in needs_sqlite\n",
      "  File \"/usr/local/lib/python3.7/site-packages/IPython/core/history.py\", line 780, in writeout_cache\n",
      "  File \"/usr/local/lib/python3.7/site-packages/IPython/core/history.py\", line 764, in _writeout_input_cache\n",
      "sqlite3.OperationalError: unable to open database file\n",
      "\n",
      "During handling of the above exception, another exception occurred:\n",
      "\n",
      "Traceback (most recent call last):\n",
      "  File \"/usr/local/lib/python3.7/site-packages/ipykernel/iostream.py\", line 97, in _event_pipe\n",
      "AttributeError: '_thread._local' object has no attribute 'event_pipe'\n",
      "\n",
      "During handling of the above exception, another exception occurred:\n",
      "\n",
      "Traceback (most recent call last):\n",
      "  File \"/usr/local/Cellar/python/3.7.0/Frameworks/Python.framework/Versions/3.7/lib/python3.7/threading.py\", line 917, in _bootstrap_inner\n",
      "  File \"<decorator-gen-24>\", line 2, in run\n",
      "  File \"/usr/local/lib/python3.7/site-packages/IPython/core/history.py\", line 58, in needs_sqlite\n",
      "  File \"/usr/local/lib/python3.7/site-packages/IPython/core/history.py\", line 837, in run\n",
      "  File \"/usr/local/lib/python3.7/site-packages/ipykernel/iostream.py\", line 400, in write\n",
      "  File \"/usr/local/lib/python3.7/site-packages/ipykernel/iostream.py\", line 203, in schedule\n",
      "  File \"/usr/local/lib/python3.7/site-packages/ipykernel/iostream.py\", line 101, in _event_pipe\n",
      "  File \"/usr/local/lib/python3.7/site-packages/zmq/sugar/context.py\", line 146, in socket\n",
      "  File \"/usr/local/lib/python3.7/site-packages/zmq/sugar/socket.py\", line 59, in __init__\n",
      "  File \"zmq/backend/cython/socket.pyx\", line 328, in zmq.backend.cython.socket.Socket.__init__\n",
      "zmq.error.ZMQError: Too many open files\n",
      "Unhandled exception in thread started by <bound method Thread._bootstrap of <HistorySavingThread(IPythonHistorySavingThread, started 123145320214528)>>\n"
     ]
    }
   ],
   "source": [
    "#foo=ROOT.TMath.BreitWigner(4., 3., 3.)\n",
    "fBW = ROOT.TF1(\"fBW\", \"[0]*TMath::BreitWigner(x, [1], [2])\", 50., 120.)\n",
    "fBW.SetParameters(5000, 90, 5)\n",
    "fBW.SetParLimits(0, 100, 10000)\n",
    "fBW.SetParLimits(1, 80, 100)\n",
    "fBW.SetParLimits(2, 0.1, 40)\n",
    "# first order polynomial as background\n",
    "fFit1 = ROOT.TF1(\"fit1\", \"fBW(0)+pol1(3)\", 50., 120.)\n",
    "setBWLims(fFit1)\n",
    "fFit2 = ROOT.TF1(\"fit2\", \"fBW(0)+pol2(3)\", 50., 120.)\n",
    "setBWLims(fFit2)\n",
    "fFull = ROOT.TF1(\"fullManual\", \"[0]*[2]/((x-[1])*(x-[1]) + [2]*[2]/4) + [3]*x + [4]\", 50., 120.)\n",
    "setBWLims(fFull)"
   ]
  },
  {
   "cell_type": "code",
   "execution_count": 49,
   "metadata": {
    "scrolled": true
   },
   "outputs": [
    {
     "data": {
      "text/plain": [
       "<ROOT.TFitResultPtr object at 0x7fa84888b1f0>"
      ]
     },
     "execution_count": 49,
     "metadata": {},
     "output_type": "execute_result"
    },
    {
     "name": "stdout",
     "output_type": "stream",
     "text": [
      " FCN=2404.01 FROM MIGRAD    STATUS=CALL LIMIT   1627 CALLS        1628 TOTAL\n",
      "                     EDM=0.80512    STRATEGY= 1  ERROR MATRIX UNCERTAINTY  21.6 per cent\n",
      "  EXT PARAMETER                APPROXIMATE        STEP         FIRST   \n",
      "  NO.   NAME      VALUE            ERROR          SIZE      DERIVATIVE \n",
      "   1  p0          -1.47145e+06   1.45596e+00  -1.59779e-01   3.29157e-04\n",
      "   2  p1          -1.18152e+02   4.86196e+00  -2.15189e+00  -5.10493e+00\n",
      "   3  p2           1.55088e+01   1.26924e+00   5.81454e-01  -3.11277e+01\n",
      "   4  p3          -5.76564e+00   2.58484e-01  -3.46596e-02   5.71235e+01\n",
      "   5  p4           1.09228e+03   4.92940e+01   1.21334e+01   7.56676e-01\n"
     ]
    },
    {
     "name": "stderr",
     "output_type": "stream",
     "text": [
      "Warning in <Fit>: Abnormal termination of minimization.\n"
     ]
    }
   ],
   "source": [
    "h_mass_electrons.Fit(\"fullManual\", \"S+\", \"SAME\", 50., 120.)"
   ]
  },
  {
   "cell_type": "code",
   "execution_count": 45,
   "metadata": {},
   "outputs": [
    {
     "data": {
      "text/html": [
       "\n",
       "<div id=\"root_plot_11\"\n",
       "     style=\"width: 796px; height: 572px\">\n",
       "</div>\n",
       "\n",
       "<script>\n",
       " requirejs.config({\n",
       "     paths: {\n",
       "       'JSRootCore' : 'https://root.cern.ch/js/notebook//scripts/JSRootCore',\n",
       "     }\n",
       "   });\n",
       " require(['JSRootCore'],\n",
       "     function(Core) {\n",
       "       var obj = Core.JSONR_unref({\"_typename\":\"TCanvas\",\"fUniqueID\":0,\"fBits\":53673992,\"fLineColor\":1,\"fLineStyle\":1,\"fLineWidth\":1,\"fFillColor\":0,\"fFillStyle\":1001,\"fLeftMargin\":0.1,\"fRightMargin\":0.1,\"fBottomMargin\":0.1,\"fTopMargin\":0.1,\"fXfile\":2,\"fYfile\":2,\"fAfile\":1,\"fXstat\":0.99,\"fYstat\":0.99,\"fAstat\":2,\"fFrameFillColor\":0,\"fFrameLineColor\":1,\"fFrameFillStyle\":1001,\"fFrameLineStyle\":1,\"fFrameLineWidth\":1,\"fFrameBorderSize\":1,\"fFrameBorderMode\":0,\"fX1\":14.9999988824128,\"fY1\":-113.786963619648,\"fX2\":165.000001117587,\"fY2\":1024.08260475452,\"fXtoAbsPixelk\":-79.5999428832051,\"fXtoPixelk\":-79.5999428832051,\"fXtoPixel\":5.30666658759117,\"fYtoAbsPixelk\":514.800046590614,\"fYtoPixelk\":514.800046590614,\"fYtoPixel\":-0.502693820010754,\"fUtoAbsPixelk\":5e-5,\"fUtoPixelk\":5e-5,\"fUtoPixel\":796,\"fVtoAbsPixelk\":572.00005,\"fVtoPixelk\":572,\"fVtoPixel\":-572,\"fAbsPixeltoXk\":14.9999988824128,\"fPixeltoXk\":14.9999988824128,\"fPixeltoX\":0.188442213863284,\"fAbsPixeltoYk\":1024.08260475452,\"fPixeltoYk\":-113.786963619648,\"fPixeltoY\":-1.98928246219261,\"fXlowNDC\":0,\"fYlowNDC\":0,\"fXUpNDC\":0,\"fYUpNDC\":0,\"fWNDC\":1,\"fHNDC\":1,\"fAbsXlowNDC\":0,\"fAbsYlowNDC\":0,\"fAbsWNDC\":1,\"fAbsHNDC\":1,\"fUxmin\":30,\"fUymin\":0,\"fUxmax\":150,\"fUymax\":910.295641134873,\"fTheta\":30,\"fPhi\":30,\"fAspectRatio\":0,\"fNumber\":0,\"fTickx\":0,\"fTicky\":0,\"fLogx\":0,\"fLogy\":0,\"fLogz\":0,\"fPadPaint\":0,\"fCrosshair\":0,\"fCrosshairPos\":0,\"fBorderSize\":2,\"fBorderMode\":0,\"fModified\":false,\"fGridx\":false,\"fGridy\":false,\"fAbsCoord\":false,\"fEditable\":true,\"fFixedAspectRatio\":false,\"fPrimitives\":{\"_typename\":\"TList\",\"name\":\"TList\",\"arr\":[{\"_typename\":\"TFrame\",\"fUniqueID\":0,\"fBits\":50331656,\"fLineColor\":1,\"fLineStyle\":1,\"fLineWidth\":1,\"fFillColor\":0,\"fFillStyle\":1001,\"fX1\":30,\"fY1\":0,\"fX2\":150,\"fY2\":910.295641134873,\"fBorderSize\":1,\"fBorderMode\":0},{\"_typename\":\"TH1F\",\"fUniqueID\":0,\"fBits\":50331656,\"fName\":\"h_mass_electrons\",\"fTitle\":\"\",\"fLineColor\":602,\"fLineStyle\":1,\"fLineWidth\":1,\"fFillColor\":0,\"fFillStyle\":1001,\"fMarkerColor\":1,\"fMarkerStyle\":1,\"fMarkerSize\":1,\"fNcells\":52,\"fXaxis\":{\"_typename\":\"TAxis\",\"fUniqueID\":0,\"fBits\":50331648,\"fName\":\"xaxis\",\"fTitle\":\" Invariant mass [GeV]\",\"fNdivisions\":510,\"fAxisColor\":1,\"fLabelColor\":1,\"fLabelFont\":42,\"fLabelOffset\":0.005,\"fLabelSize\":0.035,\"fTickLength\":0.03,\"fTitleOffset\":1,\"fTitleSize\":0.035,\"fTitleColor\":1,\"fTitleFont\":42,\"fNbins\":50,\"fXmin\":30,\"fXmax\":150,\"fXbins\":[],\"fFirst\":0,\"fLast\":0,\"fBits2\":0,\"fTimeDisplay\":false,\"fTimeFormat\":\"\",\"fLabels\":null,\"fModLabs\":null},\"fYaxis\":{\"_typename\":\"TAxis\",\"fUniqueID\":0,\"fBits\":50331648,\"fName\":\"yaxis\",\"fTitle\":\" Number of events\",\"fNdivisions\":510,\"fAxisColor\":1,\"fLabelColor\":1,\"fLabelFont\":42,\"fLabelOffset\":0.005,\"fLabelSize\":0.035,\"fTickLength\":0.03,\"fTitleOffset\":0,\"fTitleSize\":0.035,\"fTitleColor\":1,\"fTitleFont\":42,\"fNbins\":1,\"fXmin\":0,\"fXmax\":1,\"fXbins\":[],\"fFirst\":0,\"fLast\":0,\"fBits2\":0,\"fTimeDisplay\":false,\"fTimeFormat\":\"\",\"fLabels\":null,\"fModLabs\":null},\"fZaxis\":{\"_typename\":\"TAxis\",\"fUniqueID\":0,\"fBits\":50331648,\"fName\":\"zaxis\",\"fTitle\":\"\",\"fNdivisions\":510,\"fAxisColor\":1,\"fLabelColor\":1,\"fLabelFont\":42,\"fLabelOffset\":0.005,\"fLabelSize\":0.035,\"fTickLength\":0.03,\"fTitleOffset\":1,\"fTitleSize\":0.035,\"fTitleColor\":1,\"fTitleFont\":42,\"fNbins\":1,\"fXmin\":0,\"fXmax\":1,\"fXbins\":[],\"fFirst\":0,\"fLast\":0,\"fBits2\":0,\"fTimeDisplay\":false,\"fTimeFormat\":\"\",\"fLabels\":null,\"fModLabs\":null},\"fBarOffset\":0,\"fBarWidth\":1000,\"fEntries\":4001,\"fTsumw\":3579,\"fTsumw2\":3579,\"fTsumwx\":306294.792083041,\"fTsumwx2\":26983924.8168749,\"fMaximum\":-1111,\"fMinimum\":-1111,\"fNormFactor\":0,\"fContour\":[],\"fSumw2\":[],\"fOption\":\"\",\"fFunctions\":{\"_typename\":\"TList\",\"name\":\"TList\",\"arr\":[{\"_typename\":\"TPaveStats\",\"fUniqueID\":0,\"fBits\":50331657,\"fLineColor\":1,\"fLineStyle\":1,\"fLineWidth\":1,\"fFillColor\":0,\"fFillStyle\":1001,\"fX1\":132.000003039837,\"fY1\":768.061958652565,\"fX2\":162.000003933907,\"fY2\":950.121085523093,\"fX1NDC\":0.780000016093254,\"fY1NDC\":0.775000005960464,\"fX2NDC\":0.980000019073486,\"fY2NDC\":0.935000002384186,\"fBorderSize\":1,\"fInit\":1,\"fShadowColor\":1,\"fCornerRadius\":0,\"fOption\":\"brNDC\",\"fName\":\"stats\",\"fTextAngle\":0,\"fTextSize\":0,\"fTextAlign\":12,\"fTextColor\":1,\"fTextFont\":42,\"fLabel\":\"\",\"fLongest\":18,\"fMargin\":0.05,\"fLines\":{\"_typename\":\"TList\",\"name\":\"TList\",\"arr\":[{\"_typename\":\"TLatex\",\"fUniqueID\":0,\"fBits\":50331648,\"fName\":\"\",\"fTitle\":\"h_mass_electrons\",\"fTextAngle\":0,\"fTextSize\":0.0368,\"fTextAlign\":0,\"fTextColor\":0,\"fTextFont\":0,\"fX\":0,\"fY\":0,\"fLineColor\":1,\"fLineStyle\":1,\"fLineWidth\":2,\"fLimitFactorSize\":3,\"fOriginSize\":0.0368000008165836},{\"_typename\":\"TLatex\",\"fUniqueID\":0,\"fBits\":50331648,\"fName\":\"\",\"fTitle\":\"Entries = 4001   \",\"fTextAngle\":0,\"fTextSize\":0,\"fTextAlign\":0,\"fTextColor\":0,\"fTextFont\":0,\"fX\":0,\"fY\":0,\"fLineColor\":1,\"fLineStyle\":1,\"fLineWidth\":2,\"fLimitFactorSize\":3,\"fOriginSize\":0.04},{\"_typename\":\"TLatex\",\"fUniqueID\":0,\"fBits\":50331648,\"fName\":\"\",\"fTitle\":\"Mean  =  85.58\",\"fTextAngle\":0,\"fTextSize\":0,\"fTextAlign\":0,\"fTextColor\":0,\"fTextFont\":0,\"fX\":0,\"fY\":0,\"fLineColor\":1,\"fLineStyle\":1,\"fLineWidth\":2,\"fLimitFactorSize\":3,\"fOriginSize\":0.04},{\"_typename\":\"TLatex\",\"fUniqueID\":0,\"fBits\":50331648,\"fName\":\"\",\"fTitle\":\"Std Dev   =  14.68\",\"fTextAngle\":0,\"fTextSize\":0,\"fTextAlign\":0,\"fTextColor\":0,\"fTextFont\":0,\"fX\":0,\"fY\":0,\"fLineColor\":1,\"fLineStyle\":1,\"fLineWidth\":2,\"fLimitFactorSize\":3,\"fOriginSize\":0.04}],\"opt\":[\"\",\"\",\"\",\"\"]},\"fOptFit\":0,\"fOptStat\":1111,\"fFitFormat\":\"5.4g\",\"fStatFormat\":\"6.4g\",\"fParent\":{\"$ref\":3}},{\"_typename\":\"TF1\",\"fUniqueID\":0,\"fBits\":50332680,\"fName\":\"fit1\",\"fTitle\":\"fBW(0)+pol1(3)\",\"fLineColor\":2,\"fLineStyle\":1,\"fLineWidth\":2,\"fFillColor\":19,\"fFillStyle\":0,\"fMarkerColor\":1,\"fMarkerStyle\":1,\"fMarkerSize\":1,\"fXmin\":50,\"fXmax\":120,\"fNpar\":5,\"fNdim\":1,\"fNpx\":100,\"fType\":0,\"fNpfits\":30,\"fNDF\":25,\"fChisquare\":2705.44673272837,\"fMinimum\":-1111,\"fMaximum\":-1111,\"fParErrors\":[8539.00029668938,5.05885018678335,38.4076266570394,3.7021562078033,0.031313862992204],\"fParMin\":[100,80,0.1,0,0],\"fParMax\":[15000,90,40,0,0],\"fSave\":[32.8330809033825,32.6173544853731,32.4016280673637,32.1859016493543,31.9701752313449,31.7544488133355,31.5387223953261,31.3229959773167,31.1072695593073,30.8915431412979,30.6758167232885,30.4600903052791,30.2443638872696,30.0286374692602,29.8129110512508,29.5971846332414,29.381458215232,29.1657317972226,28.9500053792132,28.7342789612038,28.5185525431944,28.302826125185,28.0870997071756,27.8713732891662,27.6556468711568,27.4399204531474,27.224194035138,27.0084676171286,26.7927411991192,26.5770147811098,26.3612883631004,26.145561945091,25.9298355270816,25.7141091090722,25.4983826910628,25.2826562730534,25.066929855044,24.8512034370345,24.6354770190251,24.4197506010157,24.2040241830063,23.9882977649969,23.7725713469875,23.5568449289781,23.3411185109687,23.1253920929593,22.9096656749499,22.6939392569405,22.4782128389311,22.2624864209217,22.0467600029123,21.8310335849029,21.6153071668935,21.3995807488841,21.1838543308747,20.9681279128653,20.7524014948559,20.5366750768465,20.3209486588371,20.1052222408277,19.8894958228183,19.6737694048089,19.4580429867994,19.24231656879,19.0265901507806,18.8108637327712,18.5951373147618,18.3794108967524,18.163684478743,17.9479580607336,17.7322316427242,17.5165052247148,17.3007788067054,17.085052388696,16.8693259706866,16.6535995526772,16.4378731346678,16.2221467166584,16.006420298649,15.7906938806396,15.5749674626302,15.3592410446208,15.1435146266114,14.927788208602,14.7120617905926,14.4963353725831,14.2806089545737,14.0648825365643,13.8491561185549,13.6334297005455,13.4177032825361,13.2019768645267,12.9862504465173,12.7705240285079,12.5547976104985,12.3390711924891,12.1233447744797,11.9076183564703,11.6918919384609,11.4761655204515,11.2604391024421,50,120],\"fNormalized\":false,\"fNormIntegral\":0,\"fFormula\":{\"_typename\":\"TFormula\",\"fUniqueID\":0,\"fBits\":50332672,\"fName\":\"fit1\",\"fTitle\":\"fBW(0)+pol1(3)\",\"fClingParameters\":[14988.5774636335,80.1653089850462,39.8842603579545,34.2998708497443,-0.308180597156292],\"fAllParametersSetted\":true,\"fParams\":[{\"$pair\":\"pair<TString,int,TFormulaParamOrder>\",\"first\":\"p0\",\"second\":0},{\"$pair\":\"pair<TString,int,TFormulaParamOrder>\",\"first\":\"p1\",\"second\":1},{\"$pair\":\"pair<TString,int,TFormulaParamOrder>\",\"first\":\"p2\",\"second\":2},{\"$pair\":\"pair<TString,int,TFormulaParamOrder>\",\"first\":\"p3\",\"second\":3},{\"$pair\":\"pair<TString,int,TFormulaParamOrder>\",\"first\":\"p4\",\"second\":4}],\"fFormula\":\"[p0]*TMath::BreitWigner((0),[p1],[p2])+([p3]+[p4]*x)\",\"fNdim\":1,\"fLinearParts\":[],\"fVectorized\":false},\"fParams\":null,\"fComposition_ptr\":null},{\"_typename\":\"TF1\",\"fUniqueID\":0,\"fBits\":50332680,\"fName\":\"fit1\",\"fTitle\":\"fBW(0)+pol1(3)\",\"fLineColor\":2,\"fLineStyle\":1,\"fLineWidth\":2,\"fFillColor\":19,\"fFillStyle\":0,\"fMarkerColor\":1,\"fMarkerStyle\":1,\"fMarkerSize\":1,\"fXmin\":50,\"fXmax\":120,\"fNpar\":5,\"fNdim\":1,\"fNpx\":100,\"fType\":0,\"fNpfits\":30,\"fNDF\":25,\"fChisquare\":2705.44673272837,\"fMinimum\":-1111,\"fMaximum\":-1111,\"fParErrors\":[2374.57884524404,9.67327089047471,21.7695415678966,9.15614254415866,0.0301415595998775],\"fParMin\":[100,80,0.1,0,0],\"fParMax\":[15000,90,40,0,0],\"fSave\":[32.8330809033825,32.6173544853731,32.4016280673637,32.1859016493543,31.9701752313449,31.7544488133355,31.5387223953261,31.3229959773167,31.1072695593073,30.8915431412979,30.6758167232885,30.4600903052791,30.2443638872696,30.0286374692602,29.8129110512508,29.5971846332414,29.381458215232,29.1657317972226,28.9500053792132,28.7342789612038,28.5185525431944,28.302826125185,28.0870997071756,27.8713732891662,27.6556468711568,27.4399204531474,27.224194035138,27.0084676171286,26.7927411991192,26.5770147811098,26.3612883631004,26.145561945091,25.9298355270816,25.7141091090722,25.4983826910628,25.2826562730534,25.066929855044,24.8512034370345,24.6354770190251,24.4197506010157,24.2040241830063,23.9882977649969,23.7725713469875,23.5568449289781,23.3411185109687,23.1253920929593,22.9096656749499,22.6939392569405,22.4782128389311,22.2624864209217,22.0467600029123,21.8310335849029,21.6153071668935,21.3995807488841,21.1838543308747,20.9681279128653,20.7524014948559,20.5366750768465,20.3209486588371,20.1052222408277,19.8894958228183,19.6737694048089,19.4580429867994,19.24231656879,19.0265901507806,18.8108637327712,18.5951373147618,18.3794108967524,18.163684478743,17.9479580607336,17.7322316427242,17.5165052247148,17.3007788067054,17.085052388696,16.8693259706866,16.6535995526772,16.4378731346678,16.2221467166584,16.006420298649,15.7906938806396,15.5749674626302,15.3592410446208,15.1435146266114,14.927788208602,14.7120617905926,14.4963353725831,14.2806089545737,14.0648825365643,13.8491561185549,13.6334297005455,13.4177032825361,13.2019768645267,12.9862504465173,12.7705240285079,12.5547976104985,12.3390711924891,12.1233447744797,11.9076183564703,11.6918919384609,11.4761655204515,11.2604391024421,50,120],\"fNormalized\":false,\"fNormIntegral\":0,\"fFormula\":{\"_typename\":\"TFormula\",\"fUniqueID\":0,\"fBits\":50332672,\"fName\":\"fit1\",\"fTitle\":\"fBW(0)+pol1(3)\",\"fClingParameters\":[14988.5774636335,80.1653089850462,39.8842603579545,34.2998708497443,-0.308180597156292],\"fAllParametersSetted\":true,\"fParams\":[{\"$pair\":\"pair<TString,int,TFormulaParamOrder>\",\"first\":\"p0\",\"second\":0},{\"$pair\":\"pair<TString,int,TFormulaParamOrder>\",\"first\":\"p1\",\"second\":1},{\"$pair\":\"pair<TString,int,TFormulaParamOrder>\",\"first\":\"p2\",\"second\":2},{\"$pair\":\"pair<TString,int,TFormulaParamOrder>\",\"first\":\"p3\",\"second\":3},{\"$pair\":\"pair<TString,int,TFormulaParamOrder>\",\"first\":\"p4\",\"second\":4}],\"fFormula\":\"[p0]*TMath::BreitWigner((0),[p1],[p2])+([p3]+[p4]*x)\",\"fNdim\":1,\"fLinearParts\":[],\"fVectorized\":false},\"fParams\":null,\"fComposition_ptr\":null},{\"_typename\":\"TF1\",\"fUniqueID\":0,\"fBits\":50332680,\"fName\":\"fit1\",\"fTitle\":\"fBW(0)+pol1(3)\",\"fLineColor\":2,\"fLineStyle\":1,\"fLineWidth\":2,\"fFillColor\":19,\"fFillStyle\":0,\"fMarkerColor\":1,\"fMarkerStyle\":1,\"fMarkerSize\":1,\"fXmin\":50,\"fXmax\":120,\"fNpar\":5,\"fNdim\":1,\"fNpx\":100,\"fType\":0,\"fNpfits\":30,\"fNDF\":25,\"fChisquare\":2705.44673272837,\"fMinimum\":-1111,\"fMaximum\":-1111,\"fParErrors\":[2379.21515512701,9.70558017448523,20.345458388304,9.27706568091219,0.0301843092836299],\"fParMin\":[100,80,0.1,0,0],\"fParMax\":[15000,90,40,0,0],\"fSave\":[32.8330809033825,32.6173544853731,32.4016280673637,32.1859016493543,31.9701752313449,31.7544488133355,31.5387223953261,31.3229959773167,31.1072695593073,30.8915431412979,30.6758167232885,30.4600903052791,30.2443638872696,30.0286374692602,29.8129110512508,29.5971846332414,29.381458215232,29.1657317972226,28.9500053792132,28.7342789612038,28.5185525431944,28.302826125185,28.0870997071756,27.8713732891662,27.6556468711568,27.4399204531474,27.224194035138,27.0084676171286,26.7927411991192,26.5770147811098,26.3612883631004,26.145561945091,25.9298355270816,25.7141091090722,25.4983826910628,25.2826562730534,25.066929855044,24.8512034370345,24.6354770190251,24.4197506010157,24.2040241830063,23.9882977649969,23.7725713469875,23.5568449289781,23.3411185109687,23.1253920929593,22.9096656749499,22.6939392569405,22.4782128389311,22.2624864209217,22.0467600029123,21.8310335849029,21.6153071668935,21.3995807488841,21.1838543308747,20.9681279128653,20.7524014948559,20.5366750768465,20.3209486588371,20.1052222408277,19.8894958228183,19.6737694048089,19.4580429867994,19.24231656879,19.0265901507806,18.8108637327712,18.5951373147618,18.3794108967524,18.163684478743,17.9479580607336,17.7322316427242,17.5165052247148,17.3007788067054,17.085052388696,16.8693259706866,16.6535995526772,16.4378731346678,16.2221467166584,16.006420298649,15.7906938806396,15.5749674626302,15.3592410446208,15.1435146266114,14.927788208602,14.7120617905926,14.4963353725831,14.2806089545737,14.0648825365643,13.8491561185549,13.6334297005455,13.4177032825361,13.2019768645267,12.9862504465173,12.7705240285079,12.5547976104985,12.3390711924891,12.1233447744797,11.9076183564703,11.6918919384609,11.4761655204515,11.2604391024421,50,120],\"fNormalized\":false,\"fNormIntegral\":0,\"fFormula\":{\"_typename\":\"TFormula\",\"fUniqueID\":0,\"fBits\":50332672,\"fName\":\"fit1\",\"fTitle\":\"fBW(0)+pol1(3)\",\"fClingParameters\":[14988.5774636335,80.1653089850462,39.8842603579545,34.2998708497443,-0.308180597156292],\"fAllParametersSetted\":true,\"fParams\":[{\"$pair\":\"pair<TString,int,TFormulaParamOrder>\",\"first\":\"p0\",\"second\":0},{\"$pair\":\"pair<TString,int,TFormulaParamOrder>\",\"first\":\"p1\",\"second\":1},{\"$pair\":\"pair<TString,int,TFormulaParamOrder>\",\"first\":\"p2\",\"second\":2},{\"$pair\":\"pair<TString,int,TFormulaParamOrder>\",\"first\":\"p3\",\"second\":3},{\"$pair\":\"pair<TString,int,TFormulaParamOrder>\",\"first\":\"p4\",\"second\":4}],\"fFormula\":\"[p0]*TMath::BreitWigner((0),[p1],[p2])+([p3]+[p4]*x)\",\"fNdim\":1,\"fLinearParts\":[],\"fVectorized\":false},\"fParams\":null,\"fComposition_ptr\":null},{\"_typename\":\"TF1\",\"fUniqueID\":0,\"fBits\":50332680,\"fName\":\"fit2\",\"fTitle\":\"fBW(0)+pol2(3)\",\"fLineColor\":2,\"fLineStyle\":1,\"fLineWidth\":2,\"fFillColor\":19,\"fFillStyle\":0,\"fMarkerColor\":1,\"fMarkerStyle\":1,\"fMarkerSize\":1,\"fXmin\":50,\"fXmax\":120,\"fNpar\":6,\"fNdim\":1,\"fNpx\":100,\"fType\":0,\"fNpfits\":30,\"fNDF\":24,\"fChisquare\":2390.84757055421,\"fMinimum\":-1111,\"fMaximum\":-1111,\"fParErrors\":[13287.3027476082,8.82923948032182,26.8937814227184,7.623068186001,0.0760565528465096,4.5233527683623e-4],\"fParMin\":[100,80,0.1,0,0,0],\"fParMax\":[15000,90,40,0,0,0],\"fSave\":[2.25580488338977,4.23614922663186,6.17519159533681,8.0729319895046,9.92937040913521,11.7445068542286,13.5183413247849,15.2508738208039,16.9421043422858,18.5920328892305,20.200659461638,21.7679840595083,23.2940066828415,24.7787273316375,26.2221460058963,27.6242627056179,28.9850774308024,30.3045901814497,31.5828009575598,32.8197097591326,34.0153165861684,35.169621438667,36.2826243166283,37.3543252200525,38.3847241489395,39.3738211032894,40.321616083102,41.2281090883775,42.0933001191158,42.917189175317,43.6997762569809,44.4410613641077,45.1410444966973,45.7997256547496,46.4171048382649,46.9931820472429,47.5279572816838,48.0214305415875,48.473601826954,48.8844711377833,49.2540384740755,49.5823038358305,49.8692672230483,50.1149286357289,50.3192880738723,50.4823455374787,50.6041010265477,50.6845545410796,50.7237060810744,50.7215556465319,50.6781032374522,50.5933488538355,50.4672924956815,50.2999341629903,50.091273855762,49.8413115739964,49.5500473176938,49.2174810868539,48.8436128814768,48.4284427015627,47.9719705471112,47.4741964181225,46.9351203145968,46.3547422365338,45.7330621839337,45.0700801567964,44.3657961551219,43.6202101789102,42.8333222281614,42.0051323028753,41.1356404030522,40.2248465286918,39.2727506797942,38.2793528563595,37.2446530583876,36.1686512858784,35.0513475388322,33.8927418172488,32.6928341211281,31.4516244504703,30.1691128052753,28.8452991855432,27.4801835912739,26.0737660224673,24.6260464791237,23.1370249612426,21.6067014688246,20.0350760018695,18.422148560377,16.7679191443473,15.0723877537805,13.3355543886766,11.5574190490355,9.73798173485729,7.87724244614165,5.97520118288903,4.03185794509911,2.04721273277212,0.0212655459080456,-2.04598361549356,-4.15453475143202,50,120],\"fNormalized\":false,\"fNormIntegral\":0,\"fFormula\":{\"_typename\":\"TFormula\",\"fUniqueID\":0,\"fBits\":50332672,\"fName\":\"fit2\",\"fTitle\":\"fBW(0)+pol2(3)\",\"fClingParameters\":[2966.62881797079,87.7228644366852,16.1480561036448,-247.017071871609,7.07305195554376,-0.042144871976713],\"fAllParametersSetted\":true,\"fParams\":[{\"$pair\":\"pair<TString,int,TFormulaParamOrder>\",\"first\":\"p0\",\"second\":0},{\"$pair\":\"pair<TString,int,TFormulaParamOrder>\",\"first\":\"p1\",\"second\":1},{\"$pair\":\"pair<TString,int,TFormulaParamOrder>\",\"first\":\"p2\",\"second\":2},{\"$pair\":\"pair<TString,int,TFormulaParamOrder>\",\"first\":\"p3\",\"second\":3},{\"$pair\":\"pair<TString,int,TFormulaParamOrder>\",\"first\":\"p4\",\"second\":4},{\"$pair\":\"pair<TString,int,TFormulaParamOrder>\",\"first\":\"p5\",\"second\":5}],\"fFormula\":\"[p0]*TMath::BreitWigner((0),[p1],[p2])+([p3]+[p4]*x+[p5]*pow(x,2))\",\"fNdim\":1,\"fLinearParts\":[],\"fVectorized\":false},\"fParams\":null,\"fComposition_ptr\":null}],\"opt\":[\"brNDC\",\"\",\"\",\"\",\"\"]},\"fBufferSize\":0,\"fBuffer\":[],\"fBinStatErrOpt\":0,\"fStatOverflows\":2,\"fArray\":[403,29,29,27,30,25,12,14,24,21,26,13,19,23,14,28,25,27,28,36,45,78,115,203,419,711,838,396,127,63,25,15,20,12,11,8,5,10,4,4,1,2,3,3,3,3,0,0,1,2,2,19]},{\"_typename\":\"TH1F\",\"fUniqueID\":0,\"fBits\":50331656,\"fName\":\"h_mass_electrons_simulation\",\"fTitle\":\"\",\"fLineColor\":632,\"fLineStyle\":1,\"fLineWidth\":1,\"fFillColor\":632,\"fFillStyle\":1001,\"fMarkerColor\":632,\"fMarkerStyle\":1,\"fMarkerSize\":1,\"fNcells\":52,\"fXaxis\":{\"_typename\":\"TAxis\",\"fUniqueID\":0,\"fBits\":50331648,\"fName\":\"xaxis\",\"fTitle\":\" Invariant mass [GeV]\",\"fNdivisions\":510,\"fAxisColor\":1,\"fLabelColor\":1,\"fLabelFont\":42,\"fLabelOffset\":0.005,\"fLabelSize\":0.035,\"fTickLength\":0.03,\"fTitleOffset\":1,\"fTitleSize\":0.035,\"fTitleColor\":1,\"fTitleFont\":42,\"fNbins\":50,\"fXmin\":30,\"fXmax\":150,\"fXbins\":[],\"fFirst\":0,\"fLast\":0,\"fBits2\":0,\"fTimeDisplay\":false,\"fTimeFormat\":\"\",\"fLabels\":null,\"fModLabs\":null},\"fYaxis\":{\"_typename\":\"TAxis\",\"fUniqueID\":0,\"fBits\":50331648,\"fName\":\"yaxis\",\"fTitle\":\" Number of events\",\"fNdivisions\":510,\"fAxisColor\":1,\"fLabelColor\":1,\"fLabelFont\":42,\"fLabelOffset\":0.005,\"fLabelSize\":0.035,\"fTickLength\":0.03,\"fTitleOffset\":0,\"fTitleSize\":0.035,\"fTitleColor\":1,\"fTitleFont\":42,\"fNbins\":1,\"fXmin\":0,\"fXmax\":1,\"fXbins\":[],\"fFirst\":0,\"fLast\":0,\"fBits2\":0,\"fTimeDisplay\":false,\"fTimeFormat\":\"\",\"fLabels\":null,\"fModLabs\":null},\"fZaxis\":{\"_typename\":\"TAxis\",\"fUniqueID\":0,\"fBits\":50331648,\"fName\":\"zaxis\",\"fTitle\":\"\",\"fNdivisions\":510,\"fAxisColor\":1,\"fLabelColor\":1,\"fLabelFont\":42,\"fLabelOffset\":0.005,\"fLabelSize\":0.035,\"fTickLength\":0.03,\"fTitleOffset\":1,\"fTitleSize\":0.035,\"fTitleColor\":1,\"fTitleFont\":42,\"fNbins\":1,\"fXmin\":0,\"fXmax\":1,\"fXbins\":[],\"fFirst\":0,\"fLast\":0,\"fBits2\":0,\"fTimeDisplay\":false,\"fTimeFormat\":\"\",\"fLabels\":null,\"fModLabs\":null},\"fBarOffset\":0,\"fBarWidth\":1000,\"fEntries\":6001,\"fTsumw\":5957,\"fTsumw2\":5957,\"fTsumwx\":523329.548669365,\"fTsumwx2\":46618507.4163304,\"fMaximum\":-1111,\"fMinimum\":-1111,\"fNormFactor\":0,\"fContour\":[],\"fSumw2\":[1.25,0.5,0.75,0.5,2.75,4.5,5.25,6.5,5.75,5.75,5.25,6.25,5.75,6.25,5.5,5.75,7,7.75,11.25,12.25,21,28,49,106,189.25,314.25,366.25,176,56.75,23.75,13.5,8.25,7,3.75,3,3.25,2.75,1.25,1.5,1.5,1,1.25,1.75,1,0.5,0.25,0.25,0.75,0.5,0.25,0.5,9.75],\"fOption\":\"\",\"fFunctions\":{\"_typename\":\"TList\",\"name\":\"TList\",\"arr\":[],\"opt\":[]},\"fBufferSize\":0,\"fBuffer\":[],\"fBinStatErrOpt\":0,\"fStatOverflows\":2,\"fArray\":[2.5,1,1.5,1,5.5,9,10.5,13,11.5,11.5,10.5,12.5,11.5,12.5,11,11.5,14,15.5,22.5,24.5,42,56,98,212,378.5,628.5,732.5,352,113.5,47.5,27,16.5,14,7.5,6,6.5,5.5,2.5,3,3,2,2.5,3.5,2,1,0.5,0.5,1.5,1,0.5,1,19.5]}],\"opt\":[\"\",\"e1p\",\"he1 SAME\"]},\"fExecs\":null,\"fName\":\"canvas\",\"fTitle\":\"\",\"fNumPaletteColor\":0,\"fNextPaletteColor\":0,\"fDISPLAY\":\"$DISPLAY\",\"fDoubleBuffer\":0,\"fRetained\":true,\"fXsizeUser\":0,\"fYsizeUser\":0,\"fXsizeReal\":20,\"fYsizeReal\":15,\"fWindowTopX\":0,\"fWindowTopY\":0,\"fWindowWidth\":0,\"fWindowHeight\":0,\"fCw\":796,\"fCh\":572,\"fCatt\":{\"_typename\":\"TAttCanvas\",\"fXBetween\":2,\"fYBetween\":2,\"fTitleFromTop\":1.2,\"fXdate\":0.2,\"fYdate\":0.3,\"fAdate\":1},\"kMoveOpaque\":true,\"kResizeOpaque\":true,\"fHighLightColor\":2,\"fBatch\":true,\"kShowEventStatus\":false,\"kAutoExec\":true,\"kMenuBar\":true});\n",
       "       Core.draw(\"root_plot_11\", obj, \"\");\n",
       "     }\n",
       " );\n",
       "</script>\n"
      ],
      "text/plain": [
       "<IPython.core.display.HTML object>"
      ]
     },
     "metadata": {},
     "output_type": "display_data"
    }
   ],
   "source": [
    "#fFit1.Draw(\"SAME\")\n",
    "canvas.Draw()"
   ]
  },
  {
   "cell_type": "code",
   "execution_count": null,
   "metadata": {},
   "outputs": [],
   "source": []
  }
 ],
 "metadata": {
  "kernelspec": {
   "display_name": "Python 3",
   "language": "python",
   "name": "python3"
  },
  "language_info": {
   "codemirror_mode": {
    "name": "ipython",
    "version": 3
   },
   "file_extension": ".py",
   "mimetype": "text/x-python",
   "name": "python",
   "nbconvert_exporter": "python",
   "pygments_lexer": "ipython3",
   "version": "3.7.0"
  }
 },
 "nbformat": 4,
 "nbformat_minor": 2
}
