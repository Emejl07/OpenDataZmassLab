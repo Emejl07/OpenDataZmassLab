{
 "cells": [
  {
   "cell_type": "markdown",
   "metadata": {},
   "source": [
    "# <CENTER> Labb SH1015: Mätning av Z-bosonens massa med data från ATLAS-experimentet\n",
    "<img src=\"https://cds.cern.ch/record/1631395/files/vp1_Htautau_1muon1electron_run204153_evt35369265.png\">"
   ]
  },
  {
   "cell_type": "markdown",
   "metadata": {},
   "source": [
    "## <CENTER> Introduktion\n",
    "   \n",
    "I denna labb får ni titta på riktig data från ATLAS! Experimentet har gjort en liten del av datan insamlad under 2012 tillgänglig för alla. \n",
    "Ni kommer att analysera data med python, interaktivt, i denna notebook-miljö.\n",
    "Målet är att mäta $Z$-bosonens massa genom att rekonstruera den *invarianta massan* av elektron-positron-par och myon-antimyon-par."
   ]
  },
  {
   "cell_type": "markdown",
   "metadata": {},
   "source": [
    "## <CENTER> $Z$-bosonen\n",
    "\n",
    "Z-bosonen är en av Standardmodellens *kraftbärarpartiklar*, som tillsammans med $W$-bosonen förmedlar den svaga kärnkraften.\n",
    "Den upptäcktes vid CERN 1983 m.h.a. acceleratorn Super-Proton-Synchrotron (då den starkaste acceleratorn, idag används den används som \"föraccelerator\" till Large Hadron Collider).\n",
    "\n",
    "Det är en tung partikel (väger nästan lika mycket som en silveratom). \n",
    "Vi sparar ett referensvärde på dess massa (den bästa uppskattningen vi har idag), för att sedan kunna jämföra värdet det med ert uppmätta värde."
   ]
  },
  {
   "cell_type": "code",
   "execution_count": 3,
   "metadata": {},
   "outputs": [],
   "source": [
    "# referensvärden för Z-bosonens massa, från http://pdg.lbl.gov/2018/listings/rpp2018-list-z-boson.pdf\n",
    "mZ_reference = 91.1876 # massa i GeV\n",
    "mZ_unc_reference = 0.0021 # osäkerhet"
   ]
  },
  {
   "cell_type": "markdown",
   "metadata": {},
   "source": [
    "Bosonen sönderfaller till två fermioner, t.ex. till en elektron och en positron, vilket representeras i följande Feynmandiagram:"
   ]
  },
  {
   "cell_type": "code",
   "execution_count": null,
   "metadata": {},
   "outputs": [],
   "source": []
  },
  {
   "cell_type": "markdown",
   "metadata": {},
   "source": [
    "## <CENTER> Händelser i ATLAS\n",
    "    \n",
    "Varje gång två protonhopar ($10^{11}$ protoner/hop) korsar varandra i ATLAS (var 25:e nanosekund) kolliderar ca 40 par. Partiklar kan skapas ur energin i krocken (t.ex. en $Z$-boson) och sönderfaller sedan om de är instabila. De stabila partiklarna flyger sedan ut genom detektorn och registreras av ATLAS. Varje sådan \"bild\" är ca 1 MB och kallas för ett \"event\" eller på svenska en \"händelse\". Datafilerna ni ska analysera är organiserade som tabeller där varje rad motsvarar en händelse och varje kolumn innehåller någon särkild information, t.ex. antalet registrerade elektroner och deras respektive energi."
   ]
  },
  {
   "cell_type": "markdown",
   "metadata": {},
   "source": [
    "## <CENTER> Invariant massa"
   ]
  },
  {
   "cell_type": "markdown",
   "metadata": {},
   "source": [
    "Om en händelse innehåller t.ex. två elektroner, kan man beräkna den invarianta massan för dem. \n",
    "Om vi gör approximationen att elektronerna är masslösa fås invarianta massan som\n",
    "$$\n",
    "M^2 = 2 p_1 p_2 (1 - \\cos\\theta),\n",
    "$$\n",
    "där $p$ står för rörelsemängd och $\\theta$ är vinkeln mellan dem. "
   ]
  },
  {
   "cell_type": "markdown",
   "metadata": {},
   "source": [
    "Vi importerar C++-biblioteket ROOT som innehåller verktyg för att analysera och visualisera data."
   ]
  },
  {
   "cell_type": "code",
   "execution_count": 1,
   "metadata": {},
   "outputs": [
    {
     "name": "stdout",
     "output_type": "stream",
     "text": [
      "Welcome to JupyROOT 6.14/04\n"
     ]
    }
   ],
   "source": [
    "import ROOT"
   ]
  },
  {
   "cell_type": "markdown",
   "metadata": {},
   "source": [
    "## <CENTER> Data\n",
    "\n",
    "Vi hämtar data från internet och laddar in det i ett ROOT-träd."
   ]
  },
  {
   "cell_type": "code",
   "execution_count": 6,
   "metadata": {},
   "outputs": [
    {
     "name": "stdout",
     "output_type": "stream",
     "text": [
      "Händelse 0 :: Antalet leptoner = 1\n",
      "Händelse 1 :: Antalet leptoner = 2\n",
      "Händelse 2 :: Antalet leptoner = 2\n"
     ]
    }
   ],
   "source": [
    "f = ROOT.TFile.Open(\"http://opendata.atlas.cern/release/samples/MC/mc_147770.Zee.root\")\n",
    "tree = f.Get(\"mini\") # varje \"rad\" i ett träd är en händelse\n",
    "# tree.Print(\"all\") # denna rad visar varje gren \"kolumn\" i trädet, alltså olika data som karaktäriserar händelsen\n",
    "for ievt in range(3): # kolla närmare på de tre första händelserna i trädet\n",
    "    tree.GetEntry(ievt) # ladda händelse nr ievt\n",
    "    print(\"Händelse {} :: Antalet leptoner = {}\".format(ievt, tree.lep_n))"
   ]
  },
  {
   "cell_type": "code",
   "execution_count": 3,
   "metadata": {},
   "outputs": [
    {
     "name": "stdout",
     "output_type": "stream",
     "text": [
      "TDavixFile**\t\thttp://opendata.atlas.cern/release/samples/MC/mc_147770.Zee.root\t\n",
      " TDavixFile*\t\thttp://opendata.atlas.cern/release/samples/MC/mc_147770.Zee.root\t\n",
      "  KEY: TTree\tmini;1\t4-vectors + variables required for scaling factors\n"
     ]
    }
   ],
   "source": [
    "f.ls()"
   ]
  },
  {
   "cell_type": "code",
   "execution_count": null,
   "metadata": {},
   "outputs": [],
   "source": []
  }
 ],
 "metadata": {
  "kernelspec": {
   "display_name": "Python 3",
   "language": "python",
   "name": "python3"
  },
  "language_info": {
   "codemirror_mode": {
    "name": "ipython",
    "version": 3
   },
   "file_extension": ".py",
   "mimetype": "text/x-python",
   "name": "python",
   "nbconvert_exporter": "python",
   "pygments_lexer": "ipython3",
   "version": "3.7.0"
  }
 },
 "nbformat": 4,
 "nbformat_minor": 2
}
