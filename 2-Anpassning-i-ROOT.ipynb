{
 "cells": [
  {
   "cell_type": "markdown",
   "metadata": {},
   "source": [
    "## <CENTER>  Anpassningar i ROOT: tips och exempel"
   ]
  },
  {
   "cell_type": "code",
   "execution_count": null,
   "metadata": {},
   "outputs": [],
   "source": [
    "from ROOT import TH1F,TCanvas,TF1,TLegend,kRed,kBlue,kGreen,kBlack"
   ]
  },
  {
   "cell_type": "code",
   "execution_count": null,
   "metadata": {},
   "outputs": [],
   "source": [
    "# Gör ett histogram \n",
    "histo = TH1F(\"histo\", \"; x; Number of events\", 20, -3., 3.)\n",
    "# antal entries\n",
    "N = 500\n",
    "# fyll histogrammet med slumpade tal från en funktion\n",
    "fname=\"expo\" # ta t.ex. \"expo\", en fördefinierad funktion med två parametrar = e^([parameter0] + [parameter1]*x). Andra exempel: \"gaus\", \"landau\"...\n",
    "histo.FillRandom(fname, N) # fyll N gånger"
   ]
  },
  {
   "cell_type": "code",
   "execution_count": null,
   "metadata": {},
   "outputs": [],
   "source": [
    "# Förbered för att rita histogrammet\n",
    "%jsroot on"
   ]
  },
  {
   "cell_type": "code",
   "execution_count": null,
   "metadata": {},
   "outputs": [],
   "source": [
    "canvas = TCanvas(\"canvas\", \"\", 800, 600)"
   ]
  },
  {
   "cell_type": "code",
   "execution_count": null,
   "metadata": {},
   "outputs": [],
   "source": [
    "# Rita histogrammet\n",
    "histo.Draw(\"e1p\")\n",
    "canvas.Draw()"
   ]
  },
  {
   "cell_type": "markdown",
   "metadata": {},
   "source": [
    "### Gör en anpassning \n",
    "Nu ska vi göra en anpassningen till data i histogrammet ovan. Syntax är `TH1F::Fit(fcn, \"fit_opt\", \"draw_opt\", xlow, xup)`\n",
    "där \n",
    "* `fcn` är antingen en sträng med namnet på en funktion (ROOT::TF1-objekt), eller själva funktionsobjektet.\n",
    "* sedan kommer anpassnings- och grafik-alternativ\n",
    "* sist är range i vilken anpassning ska göras\n",
    "\n",
    "Se vidare dokumentation här https://root.cern.ch/doc/master/classTH1.html#a7e7d34c91d5ebab4fc9bba3ca47dabdd. Framförallt kan man läsa om de olika alternativen för att kontrollera anpassningen (mer om detta snart).\n",
    "\n",
    "Vi testar först att helt enkelt att anpassa till den fördefinierade funktionen \"expo\" som användes för att fylla histogrammet (borde per definition ge en bra anpassning).\n",
    "Genom att ropa på Fit görs anpassningen och den resulterande kurvan ritas upp. \n",
    "Per default används en viktad minska-kvadrat-anpassning, även kallad $\\chi^2$-anpassning (se \"Statistik för fysikexperiment.pdf\" på Canvas)"
   ]
  },
  {
   "cell_type": "code",
   "execution_count": null,
   "metadata": {},
   "outputs": [],
   "source": [
    "# Gör anpassning med samma funktion som histogrammet fylldes \n",
    "histo.Fit(fname) # gör anpassningen. \n",
    "print(\"\\n****** Fit results: \")\n",
    "canvas.Draw() # titta på den resulterande kurvan\n"
   ]
  },
  {
   "cell_type": "markdown",
   "metadata": {},
   "source": [
    "Ovan ser ni resultaten från anpassningen. Titta t.ex. på `STATUS` som visar om anpassningen konvergerat (hittat minimum) eller inte. Ni ser de resulterade best-fit-värdena på parametrarna och deras respektive osäkerheter.\n",
    "\n",
    "Skriv ut den relativa osäkerheten på Slope-parametern nedan:"
   ]
  },
  {
   "cell_type": "code",
   "execution_count": null,
   "metadata": {},
   "outputs": [],
   "source": [
    "# print(\"Relative uncertainty Slope = ...\"\n",
    "print(\"Relative uncertainty Slope = {:.3f}\".format(abs(histo.GetFunction(fname).GetParError(0) / histo.GetFunction(fname).GetParameter(0) )))"
   ]
  },
  {
   "cell_type": "markdown",
   "metadata": {},
   "source": [
    "### Testa nu att gå tillbaka och öka antalet entries i histogrammet till det dubbla. Kör om anpassningen. Vad händer med osäkerheten? Om ni ökar med en faktor fyra? Förklara."
   ]
  },
  {
   "cell_type": "markdown",
   "metadata": {},
   "source": [
    "___________________________________________________________________________"
   ]
  },
  {
   "cell_type": "markdown",
   "metadata": {},
   "source": [
    "### Konfigurering av anpassning\n",
    "Default är som sagt att anpassa genom minimering av den viktade minsta-kvadrat-summan. Detta bygger på antagandet att mätvärdena kommer från normalfördelningen. I vårt fall gäller att de är Poissonfördelade–men vi vet att Poissonfördelningen närmar sig normalfördelningen då väntevärdet är stort.\n",
    "\n",
    "Man kan också ge fit option = \"L\" för att göra en maximum likelihood-anpassning. I denna maximeras istället en likelihood som är lika med en produkt av Poisson-termer där varje term representerar antal counts i en bin.\n",
    "\n",
    "Låt oss jämföra de två alternativen med ett exempel. Betrakta en modell som är en rät linje. Vi genererar ett antal event och ritar upp ett histogram, som motsvarar observationen av ett experiment. Målet är att mäta linjens lutning genom att göra en anpassning."
   ]
  },
  {
   "cell_type": "code",
   "execution_count": null,
   "metadata": {
    "scrolled": false
   },
   "outputs": [],
   "source": [
    "# modell\n",
    "fmodel = TF1(\"lin\", \"[0]*x+[1]\", 3., 10.)\n",
    "# sätt parametervärden\n",
    "fmodel.SetParameters(1., 1.)\n",
    "# skapa ett histogram\n",
    "hist = TH1F(\"exp\", \"; x; Number of events\", 10, 3., 10.)\n",
    "n=30\n",
    "hist.FillRandom(\"lin\", n) # fyll n gånger med slumpade värden från linjen\n",
    "\n",
    "# anpassa med default minsta-kvadrat-metod\n",
    "hist.Fit(\"lin\", \"\", \"e1\")\n",
    "# spara funktionen och rita upp den i blått (så att den inte försvinner när vi anpassar samma funktion igen senare)\n",
    "fresultLeastSquares=hist.GetFunction(\"lin\").Clone(\"linLeastSquares\") # \"Clone\" skapar en kopia av funktionen\n",
    "fresultLeastSquares.SetLineColor(kBlue)\n",
    "fresultLeastSquares.Draw(\"SAME\")\n",
    "print(\"\\nSlope least squares = {:.3f}\".format(fresultLeastSquares.GetParameter(0)))\n",
    "\n",
    "# anpassa igen men denna gång med option \"L\". Den resulterande kurvan kommer att visas i rött\n",
    "hist.Fit(\"lin\", \"L\", \"e1 SAME\")\n",
    "print(\"Slope likelihood = {:.3f}\\n\".format(hist.GetFunction(\"lin\").GetParameter(0)))\n",
    "canvas.Draw()"
   ]
  },
  {
   "cell_type": "markdown",
   "metadata": {},
   "source": [
    "### Som ni ser får vi inte samma lutning med de olika alternativen för anpassning. Testa vad som händer om ni ökar antalet event i histogrammet. Förklara."
   ]
  },
  {
   "cell_type": "markdown",
   "metadata": {},
   "source": [
    "_________________\n"
   ]
  },
  {
   "cell_type": "markdown",
   "metadata": {},
   "source": [
    "### Definiera egna funktioner"
   ]
  },
  {
   "cell_type": "code",
   "execution_count": null,
   "metadata": {},
   "outputs": [],
   "source": [
    "# OBS interaktivitet funkar tyvärr inte för alla funktioner. Stäng av för att vara säker på att allt ritas som det ska.\n",
    "%jsroot off"
   ]
  },
  {
   "cell_type": "code",
   "execution_count": null,
   "metadata": {},
   "outputs": [],
   "source": [
    "# definiera en egen funktion, utgå från a*(x-b)^2\n",
    "### Alternativ 1: skriv formeln direkt med \"TFormula\"-syntax\n",
    "f1 = TF1(\"f1\", \"[0]*(x-[1])*(x-[1])\", -10., 10.) # [0] är första parametern, [1] är andra osv.\n",
    "                                                 # de två sista argumenten är range för funktionen\n",
    "### Alternativ 2: skriv m.h.a. redan existerande funktioner (fördefinierade eller egendefinierade)\n",
    "f2 = TF1(\"f2\", \"gaus + f1\", -10., 10.)\n",
    "### Alternativ 3: med hjälp av egen-definierad python-funktion\n",
    "def myfunc(x, params):\n",
    "    x=x[0]\n",
    "    a=params[0]; b=params[1]\n",
    "    return a*(x-b)**2\n",
    "f3 = TF1(\"f3\", myfunc, -10., 10., 2) # det sista argumentet anger antal parametrar\n",
    "### sätt parameter-värden\n",
    "f1.SetParameters(1., 2.)\n",
    "f2.SetParameters(100., -2., 4., 1., 2.) # första tre parametrarna är normalfördelningen, de sista f1-parametrarna\n",
    "f3.SetParameters(1., 3.)\n",
    "### sätt tvingande gränser för parametrarna (användbart vid anpassningar)\n",
    "f1.SetParLimits(0, -3., 5.) # parameter0 måste ligga inom [-3., 5.] \n",
    "### sätt grafik\n",
    "f1.SetLineColor(kBlue)\n",
    "f2.SetLineColor(kBlack)\n",
    "f3.SetLineColor(kRed)\n",
    "### rita\n",
    "f1.Draw()\n",
    "f2.Draw(\"SAME\")\n",
    "f3.Draw(\"SAME\")\n",
    "canvas.Draw()"
   ]
  },
  {
   "cell_type": "markdown",
   "metadata": {},
   "source": [
    "___________________________________________________"
   ]
  },
  {
   "cell_type": "markdown",
   "metadata": {},
   "source": [
    "### Rita en legend\n",
    "Generellt ska figurer ha en \"legend\" som visar vad de olika uppritade kurvorna/datapunkterna representerar. Nedan följer ett exempel. Se t.ex. https://root.cern.ch/doc/master/classTLegend.html för ytterligare dokumentation "
   ]
  },
  {
   "cell_type": "code",
   "execution_count": null,
   "metadata": {},
   "outputs": [],
   "source": [
    "# skapa legend-objektet\n",
    "leg = TLegend(0.5, 0.5, 0.8, 0.8) # argumenten är x1,y1,x2,y2-koordinater, givna som andel av canvas\n",
    "# lägg till kurvorna vi ritade ovan. Syntax är TLegend::AddEntry(drawn_object, title, plot_style)\n",
    "leg.AddEntry(f1, \"Parabola, defined with TFormula\", \"l\") # \"l\" står för \"line\", alltså kurva\n",
    "leg.AddEntry(f2, \"Parabola + Gaussian\", \"l\")\n",
    "leg.AddEntry(f3, \"Parabola, user defined\", \"l\") # hade vi ritat ett histogram kan vi istället använda \"p\" \n",
    "# gör legend snyggare\n",
    "# ...\n",
    "# rita legenden\n",
    "leg.Draw()\n",
    "canvas.Draw()\n",
    "\n"
   ]
  },
  {
   "cell_type": "markdown",
   "metadata": {},
   "source": [
    "Se till att texten i legenden inte är för liten. Kan styras med `leg.SetTextSize(x)` där `x` är andel av canvas-storleken. Testa att förstora texten. Kanten kan tas bort med `leg.SetLegendBorderSize(0)`."
   ]
  },
  {
   "cell_type": "markdown",
   "metadata": {},
   "source": [
    "______________"
   ]
  },
  {
   "cell_type": "markdown",
   "metadata": {},
   "source": [
    "\n",
    "### Besvara följande frågor. Ni kommer att behöva dem för att i rapporten förklara hur anpassningen görs. \n",
    "* För histogram ser ni osäkerheter på varje datapunkt. ROOT har automatiskt räknat ut dem till... vadå?\n",
    "* Vad bestämmer osäkerheten på de anpassade parametrarna? Hur kan de minskas?\n",
    "* ROOT anpassar per default med viktad minsta-kvadrat-metoden ($\\chi^2$-anpassning). När är detta korrekt? Vad händer om vi anpassar med option \"L\"?\n"
   ]
  }
 ],
 "metadata": {
  "kernelspec": {
   "display_name": "Python 3",
   "language": "python",
   "name": "python3"
  },
  "language_info": {
   "codemirror_mode": {
    "name": "ipython",
    "version": 3
   },
   "file_extension": ".py",
   "mimetype": "text/x-python",
   "name": "python",
   "nbconvert_exporter": "python",
   "pygments_lexer": "ipython3",
   "version": "3.7.0"
  }
 },
 "nbformat": 4,
 "nbformat_minor": 2
}
