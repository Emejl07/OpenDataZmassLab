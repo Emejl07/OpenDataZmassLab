{
 "cells": [
  {
   "cell_type": "markdown",
   "metadata": {},
   "source": [
    "## <CENTER>  [SWE] Anpassningar i ROOT: tips och exempel\n",
    "    _________________________________________________\n",
    "    \n",
    "## <CENTER> [ENG] Fits in ROOT: tips and examples"
   ]
  },
  {
   "cell_type": "code",
   "execution_count": null,
   "metadata": {},
   "outputs": [],
   "source": [
    "from ROOT import TH1F,TCanvas,TF1,TLegend,kRed,kBlue,kGreen,kBlack"
   ]
  },
  {
   "cell_type": "code",
   "execution_count": null,
   "metadata": {},
   "outputs": [],
   "source": [
    "# [SWE]: Skapa ett histogram \n",
    "# [ENG]: Create a histogram\n",
    "histo = TH1F(\"histo\", \"; x; Number of events\", 20, -3., 3.)\n",
    "# [SWE]: antal entries\n",
    "# [ENG]: number of entries\n",
    "N = 500\n",
    "# [SWE]: fyll histogrammet med slumpade tal från en funktion\n",
    "# [ENG]: fill the histogram with randomised values from a function\n",
    "fname=\"expo\" # [SWE]: ta t.ex. \"expo\", en fördefinierad funktion med två parametrar = e^([parameter0] + [parameter1]*x). Andra exempel: \"gaus\", \"landau\"...\n",
    "             # [ENG]: for example the pre-defined function \"expo\", with two parameters, = e^([parameter0] + [parameter1]*x). Other examples: \"gaus\", \"landau\"...\n",
    "histo.FillRandom(fname, N) # [SWE]: fyll N gånger\n",
    "                           # [ENG]: fill N times"
   ]
  },
  {
   "cell_type": "code",
   "execution_count": null,
   "metadata": {},
   "outputs": [],
   "source": [
    "# [SWE]: aktivera interaktiv visualisering\n",
    "# [ENG]: activate interactive visualisation\n",
    "%jsroot on"
   ]
  },
  {
   "cell_type": "code",
   "execution_count": null,
   "metadata": {},
   "outputs": [],
   "source": [
    "canvas = TCanvas(\"canvas\", \"\", 800, 600)"
   ]
  },
  {
   "cell_type": "code",
   "execution_count": null,
   "metadata": {},
   "outputs": [],
   "source": [
    "# [SWE]: Rita histogrammet\n",
    "# [ENG]: Draw the histogram\n",
    "histo.Draw(\"e1p\")\n",
    "canvas.Draw()"
   ]
  },
  {
   "cell_type": "markdown",
   "metadata": {},
   "source": [
    "#### [SWE] Ni ser att varje datapunkt har en osäkerhet. Ta reda på vad denna osäkerhet är lika med.\n",
    "\n",
    "#### [ENG] Note that each point is drawn with an uncertainty. Find out what this uncertainty is equal to. "
   ]
  },
  {
   "cell_type": "code",
   "execution_count": null,
   "metadata": {},
   "outputs": [],
   "source": [
    "%run hints/hint2.py"
   ]
  },
  {
   "cell_type": "markdown",
   "metadata": {},
   "source": [
    "___________________________________________\n",
    "### [SWE]: Gör en anpassning \n",
    "Nu ska vi göra en anpassningen till data i histogrammet ovan. Syntax är `TH1F::Fit(fcn, \"fit_opt\", \"draw_opt\", xlow, xup)`\n",
    "där \n",
    "* `fcn` är antingen en sträng med namnet på en funktion (ROOT::TF1-objekt), eller själva funktionsobjektet.\n",
    "* sedan kommer anpassnings- och plot-alternativ\n",
    "* sist är range (nedre och övre gräns) i vilken anpassningen ska göras\n",
    "\n",
    "Se vidare dokumentation här https://root.cern.ch/doc/master/classTH1.html#a7e7d34c91d5ebab4fc9bba3ca47dabdd. Framförallt kan man läsa om de olika alternativen för att kontrollera anpassningen (mer om detta snart).\n",
    "\n",
    "Vi testar först att helt enkelt att anpassa till den fördefinierade funktionen \"expo\" som användes för att fylla histogrammet (borde per definition ge en bra anpassning).\n",
    "Genom att ropa på Fit görs anpassningen och den resulterande kurvan ritas upp. \n",
    "Per default används en viktad minska-kvadrat-anpassning, även kallad $\\chi^2$-anpassning (se \"Statistik för fysikexperiment.pdf\" på Canvas)\n",
    "____________________________________________________________________________________\n",
    "\n",
    "### [ENG]: Make a fit\n",
    "Now let's fit the data in the histogram. The syntax is `TH1F::Fit(fcn, \"fit_opt\", \"draw_opt\", xlow, xup)`\n",
    "where\n",
    "* `fcn` is either a string with the name of a function or a pointer to the function object itself. By function we mean a TF object (TF1 for a 1-dimensional fit)\n",
    "* `\"fit_opt\"` are fit options, `\"draw_opt\"` are draw options. \n",
    "* `x_low` and `x_up` define the range to be used for the fit. \n",
    "\n",
    "See further documentation at https://root.cern.ch/doc/master/classTH1.html#a7e7d34c91d5ebab4fc9bba3ca47dabdd. You can read e.g. about the different fit options to control the fit (more on this soon)\n",
    "\n",
    "\n",
    "We try to fit the same function we used to fill the histogram (should by definition work well).\n",
    "By calling `histo.Fit` the fit is performed and the resulting curve is drawn in the canvas on top of the histogram.\n",
    "By default a weighted least squares fit is used, also denoted $\\chi^2$-fit.\n",
    "___________________________________________"
   ]
  },
  {
   "cell_type": "code",
   "execution_count": null,
   "metadata": {},
   "outputs": [],
   "source": [
    "histo.Fit(fname)\n",
    "print(\"\\n****** Fit results: \")\n",
    "canvas.Draw() "
   ]
  },
  {
   "cell_type": "markdown",
   "metadata": {},
   "source": [
    "[SWE] Ovan ser ni resultaten från anpassningen. Titta t.ex. på `STATUS` som visar om anpassningen konvergerat (hittat minimum) eller inte. Ni ser de resulterade best-fit-värdena på parametrarna och deras respektive osäkerheter. Med fit option \"V\" skrivs mer detaljerad information ut.\n",
    "\n",
    "\n",
    "Skriv ut den relativa osäkerheten på Slope-parametern nedan:\n",
    "_____________________________________________________________\n",
    "[ENG]: Above is the result from the fit. Look for example the `STATUS` which shows if the fit converged (found the minimum) or not. The best-fit values of the parameters and their corresponding uncertainties are printed. By passing fit option \"V\" more verbose output will be given.\n",
    "\n",
    "Print out the relative uncertainty on the Slope parameter below:"
   ]
  },
  {
   "cell_type": "code",
   "execution_count": null,
   "metadata": {},
   "outputs": [],
   "source": [
    "# print(\"Relative uncertainty Slope = ...\""
   ]
  },
  {
   "cell_type": "markdown",
   "metadata": {},
   "source": [
    "### [SWE]: Testa nu att gå tillbaka och öka antalet entries i histogrammet till det dubbla. Kör om anpassningen. Vad händer med osäkerheten? Om ni ökar med en faktor fyra? Förklara.\n",
    "_____________________________________________________________\n",
    "### [ENG]: Now go back and increase the number of entries in the histogram to double and rerun the fit. What happens to the uncertainty? What if you increase by a factor of four? Explain."
   ]
  },
  {
   "cell_type": "markdown",
   "metadata": {},
   "source": [
    "___________________________________________________________________________"
   ]
  },
  {
   "cell_type": "markdown",
   "metadata": {},
   "source": [
    "____________________________________________________________________________\n",
    "### [SWE] Konfigurering av anpassning\n",
    "Default är som sagt att anpassa genom minimering av den viktade minsta-kvadrat-summan ($\\chi^2$). Detta bygger på antagandet att mätvärdena kommer från normalfördelningen. I vårt fall gäller att de är Poissonfördelade–men vi vet att Poissonfördelningen närmar sig normalfördelningen då väntevärdet är stort.\n",
    "\n",
    "Man kan också ge fit option = \"L\" för att göra en maximum likelihood-anpassning. I denna maximeras istället en likelihood som är lika med en produkt av Poisson-termer där varje term representerar antal counts i en bin.\n",
    "\n",
    "Låt oss jämföra de två alternativen med ett exempel. Betrakta en modell som är en rät linje. Vi genererar ett antal event och ritar upp ett histogram, som motsvarar observationen av ett experiment. Målet är att mäta linjens lutning genom att göra en anpassning.\n",
    "____________________________________________________________________________\n",
    "### [ENG] Configuring the fit\n",
    "By default, the fit is done by minimising the sum of weighted least squares ($\\chi^2$). This is based on the assumption that the measured values come from a Gaussian distribution. In our case, they are counts, and come from the Poisson distribution. We know however that the Poisson distribution becomes increasingly Gaussian-like with increasing expectation value. \n",
    "\n",
    "You can give the fit option \"L\" to instead make a maximum likelihood fit. In this case, a likelihood function is maximised, where the function is equal to the product of Poisson terms. There is one term for each bin.  \n",
    "\n",
    "Let's compare the two alternatives using an example. Consider a model equal to a straight line. We generate a number of events from the model and draw the histogram, corresponding to the observation made by an experiment. The goal is to measure the model's slope by performing a fit.\n",
    "_______________________________________________________________________________"
   ]
  },
  {
   "cell_type": "code",
   "execution_count": null,
   "metadata": {
    "scrolled": false
   },
   "outputs": [],
   "source": [
    "# [SWE]: modell\n",
    "# [ENG]: model\n",
    "xlow=3.; xup=10.\n",
    "fmodel = TF1(\"lin\", \"[0]*x+[1]\", xlow, xup)\n",
    "# [SWE]: fixera parametervärden\n",
    "# [ENG]: set the parameter values\n",
    "fmodel.SetParameters(1., 1.)\n",
    "# [SWE]: skapa ett histogram\n",
    "# [ENG]: create a histogram\n",
    "hist = TH1F(\"exp\", \"; x; Number of events\", 10, xlow, xup)\n",
    "n=30\n",
    "hist.FillRandom(\"lin\", n) # SWE: fyll n gånger med slumpade värden från linjen\n",
    "                          # ENG: fill histogram with n randomly generated numbers from the function\n",
    "\n",
    "# [SWE]: anpassa med default minsta-kvadrat-method\n",
    "# [ENG]: fit with the default least squares method\n",
    "hist.Fit(\"lin\", \"\", \"e1\")\n",
    "# [SWE]: spara funktionen och rita upp den i blått (så att den inte försvinner när vi anpassar samma funktion igen senare)\n",
    "# [ENG]: save the function and draw it again in blue (to prevent it from disappearing when drawing the same function again later)\n",
    "fresultLeastSquares=hist.GetFunction(\"lin\").Clone(\"linLeastSquares\") # [SWE]: \"Clone\" skapar en kopia av funktionen\n",
    "                                                                     # [ENG]: \"Clone\" creates a copy of the function\n",
    "fresultLeastSquares.SetLineColor(kBlue)\n",
    "fresultLeastSquares.Draw(\"SAME\")\n",
    "print(\"\\nSlope least squares = {:.3f}\".format(fresultLeastSquares.GetParameter(0)))\n",
    "\n",
    "# [SWE]: anpassa igen men denna gång med option \"L\". Den resulterande kurvan kommer att visas i rött\n",
    "# [ENG]: fit again, this time with option \"L\". The resulting curve is shown in red\n",
    "hist.Fit(\"lin\", \"L\", \"e1 SAME\")\n",
    "print(\"Slope likelihood = {:.3f}\\n\".format(hist.GetFunction(\"lin\").GetParameter(0)))\n",
    "canvas.Draw()"
   ]
  },
  {
   "cell_type": "markdown",
   "metadata": {},
   "source": [
    "_______________________________________________________________\n",
    "### [SWE]: Som ni ser får vi inte samma lutning med de olika alternativen för anpassning. Testa vad som händer om ni ökar antalet event i histogrammet. Förklara."
   ]
  },
  {
   "cell_type": "markdown",
   "metadata": {},
   "source": [
    "_________________\n",
    "### [ENG]: Note that the two curves to do not overlap. Try what happens if you increase the number of events. Explain.\n",
    "_______________________________________________________________________________\n",
    "_______________________________________________________________________________\n"
   ]
  },
  {
   "cell_type": "markdown",
   "metadata": {},
   "source": [
    "### [SWE] Definiera egna funktioner\n",
    "____________________________________________________________________\n",
    "### [ENG] Define your own functions\n",
    "______________________________________________________________________"
   ]
  },
  {
   "cell_type": "code",
   "execution_count": null,
   "metadata": {},
   "outputs": [],
   "source": [
    "# [SWE] OBS interaktivitet funkar tyvärr inte för alla funktioner. Stäng av för att vara säker på att allt ritas som det ska.\n",
    "# [ENG] NB the interactive feature unfortunately does not work for all functions. Turn off to make sure everything is drawn correctly.\n",
    "%jsroot off"
   ]
  },
  {
   "cell_type": "code",
   "execution_count": null,
   "metadata": {},
   "outputs": [],
   "source": [
    "# [SWE] definiera en egen funktion, utgå från a*(x-b)^2\n",
    "# [ENG] define your own function, starting with a*(x-b)^2\n",
    "\n",
    "### [SWE] Alternativ 1: skriv formeln direkt som en sträng med \"TFormula\"-syntax\n",
    "### [ENG] Alternative 1: write the formula as a string using \"TFormula\"-syntax\n",
    "f1 = TF1(\"f1\", \"[0]*(x-[1])*(x-[1])\", -10., 10.) # [SWE]: [i] representerar parametrar, de två sista argumenten är range för funktionen\n",
    "                                                 # [ENG]: [i] represent parameters, the last two arguments are the range for the function\n",
    "\n",
    "### [SWE] Alternativ 2: skriv m.h.a. redan existerande funktioner (fördefinierade eller egendefinierade)\n",
    "### [ENG] Alternative 2: write with already existing functions (pre-defined eller user defined)\n",
    "f2 = TF1(\"f2\", \"gaus + f1\", -10., 10.)\n",
    "\n",
    "### [SWE]: Alternativ 3: med hjälp av egen-definierad python-funktion\n",
    "### [ENG]: Alternative 3: using your own python function\n",
    "def myfunc(x, params):\n",
    "    x=x[0]\n",
    "    a=params[0]; b=params[1]\n",
    "    return a*(x-b)**2\n",
    "f3 = TF1(\"f3\", myfunc, -10., 10., 2) # [SWE] det sista argumentet anger antal parametrar\n",
    "                                     # [ENG] the last argument specifies the number of parameters\n",
    "### [SWE] sätt parameter-värden\n",
    "### [ENG] set parameter values\n",
    "f1.SetParameters(1., 2.)\n",
    "f2.SetParameters(100., -2., 4., 1., 2.) # [SWE] första tre parametrarna är normalfördelningen, de sista f1-parametrarna\n",
    "                                        # [ENG] the first three parameters are for the Gaussian, the last for the f1 function\n",
    "f3.SetParameters(1., 3.)\n",
    "### [SWE] sätt tvingande gränser för parametrarna (användbart vid anpassningar)\n",
    "### [ENG] set limits for the parameters (that they are forced to stay inside) Useful to fitting\n",
    "f1.SetParLimits(0, -3., 5.) # [SWE] parameter0 måste ligga inom [-3., 5.] \n",
    "                            # [ENG] parameter0 must lie inside [-3., 5.] \n",
    "### [SWE] function colors for drawing\n",
    "### [ENG] colors for drawing\n",
    "f1.SetLineColor(kBlue)\n",
    "f2.SetLineColor(kBlack)\n",
    "f3.SetLineColor(kRed)\n",
    "\n",
    "### [SWE] Rita\n",
    "### [ENG] Draw\n",
    "f1.Draw()\n",
    "f2.Draw(\"SAME\")\n",
    "f3.Draw(\"SAME\")\n",
    "canvas.Draw()"
   ]
  },
  {
   "cell_type": "markdown",
   "metadata": {},
   "source": [
    "___________________________________________________"
   ]
  },
  {
   "cell_type": "markdown",
   "metadata": {},
   "source": [
    "### [SWE] Rita en legend\n",
    "Generellt ska figurer ha en \"legend\" som visar vad de olika uppritade kurvorna/datapunkterna representerar. Nedan följer ett exempel. Se https://root.cern.ch/doc/master/classTLegend.html för ytterligare dokumentation.\n",
    "_________________________________________________________________________________\n",
    "### [ENG] Draw a legend\n",
    "In general, a figure should have a legend specifying what the different curves/histograms represent. Below is an example. See https://root.cern.ch/doc/master/classTLegend.html for further documentation."
   ]
  },
  {
   "cell_type": "code",
   "execution_count": null,
   "metadata": {},
   "outputs": [],
   "source": [
    "### [SWE] skapa legend-objektet\n",
    "### [ENG] create the legend object\n",
    "leg = TLegend(0.5, 0.5, 0.8, 0.8) # [SWE] argumenten är x1,y1,x2,y2-koordinater, givna som andel av canvas\n",
    "                                  # [ENG] the arguments are x1,y1,x2,y2-coordinates, given as fraction of canvas\n",
    "### [SWE] lägg till kurvorna vi ritade ovan. Syntax är TLegend::AddEntry(drawn_object, title, plot_style)\n",
    "### [ENG] add the curves we drew above to the legend. Syntax is TLegend::AddEntry(drawn_object, title, plot_style)\n",
    "leg.AddEntry(f1, \"Parabola, defined with TFormula\", \"l\") # \"l\" står för \"line\", alltså kurva\n",
    "leg.AddEntry(f2, \"Parabola + Gaussian\", \"l\")\n",
    "leg.AddEntry(f3, \"Parabola, user defined\", \"l\") # hade vi ritat ett histogram kan vi istället använda \"p\" \n",
    "\n",
    "## [SWE] gör legend snyggare\n",
    "## [ENG] make legend prettier\n",
    "# ...\n",
    "\n",
    "## [SWE] rita legenden\n",
    "## [ENG] draw legend\n",
    "leg.Draw()\n",
    "canvas.Draw()\n",
    "\n"
   ]
  },
  {
   "cell_type": "markdown",
   "metadata": {},
   "source": [
    "_______________________________________________________________\n",
    "[SWE] Se till att texten i legenden inte är för liten. Kan styras med `leg.SetTextSize(x)` där `x` är andel av canvas-storleken. Kanten kan tas bort med `leg.SetLegendBorderSize(0)`. Ändra i kodblocket ovan för att göra legenden snyggare.\n",
    "_______________________________________________________________\n",
    "[ENG] Make sure the font in the legend is not too small. This can be set with `leg.SetTextSize(x)` where `x` is fraction of canvas size. The legend border can be removed with `leg.SetLegendBorderSize(0)`. Change the code block above to make the legend prettier.\n",
    "_______________________________________________________________"
   ]
  },
  {
   "cell_type": "markdown",
   "metadata": {},
   "source": [
    "### [SWE] Goodness-of-fit för en anpassning\n",
    "Ett mått på hur bra en minsta-kvadrat-anpassning är kan fås genom att använda att $\\chi^2$-summan följer en $\\chi^2$-fördelning (givet vissa villkor). Lite mer grovt kan man jämföra $\\chi^2$ med antal frihetsgrader $N_rm{DOF}$, där antal frihetsgrader är lika med antal termer minus antal parametrar som ska bestämmas. Då varje term i summan i snitt bör bidra med 1, och antal termer är ungefär lika med antal frihetsgrader, bör kvoten $\\chi^2/N_{\\rm{DOF}}$ vara i närheten av 1 för en bra anpassning. \n",
    "\n",
    "### [ENG] Goodness-of-fit \n",
    "A \"goodness-of-fit\" is a measure of how well a model is describing the data. "
   ]
  },
  {
   "cell_type": "markdown",
   "metadata": {},
   "source": [
    "______________"
   ]
  },
  {
   "cell_type": "markdown",
   "metadata": {},
   "source": [
    "\n",
    "### [SWE] Besvara följande frågor. Ni kommer att behöva dem för att i rapporten förklara hur anpassningen görs. \n",
    "* För histogram som ritats med något av `e`-alternativen har osäkerheter på varje datapunkt. ROOT har automatiskt räknat ut osäkerheterna till... vadå?\n",
    "* Vad bestämmer osäkerheten på de anpassade parametrarna? Hur kan de minskas?\n",
    "* ROOT anpassar per default med viktad minsta-kvadrat-metoden ($\\chi^2$-anpassning). När är detta korrekt? Vad händer om vi anpassar med option \"L\"?\n",
    "\n",
    "________________________________________________________________________________\n",
    "### [ENG] Answer the following questions. You will need to understand them to properly explain the fit procedure when writing the report. \n",
    "* In a histogram, if drawn with with some `e` option, data points will be displayed with an uncertainty. ROOT has automatically evaluated the uncertainty to... what?\n",
    "* What determines the uncertainty on the fitted parameters? How can they be reduced?\n",
    "* ROOT uses the weighted least squares ($\\chi^2$) fit by default. When is this appropriate? What happens if we use the option \"L\"?\n"
   ]
  },
  {
   "cell_type": "code",
   "execution_count": null,
   "metadata": {},
   "outputs": [],
   "source": []
  }
 ],
 "metadata": {
  "kernelspec": {
   "display_name": "Python 3",
   "language": "python",
   "name": "python3"
  },
  "language_info": {
   "codemirror_mode": {
    "name": "ipython",
    "version": 3
   },
   "file_extension": ".py",
   "mimetype": "text/x-python",
   "name": "python",
   "nbconvert_exporter": "python",
   "pygments_lexer": "ipython3",
   "version": "3.7.0"
  }
 },
 "nbformat": 4,
 "nbformat_minor": 2
}
