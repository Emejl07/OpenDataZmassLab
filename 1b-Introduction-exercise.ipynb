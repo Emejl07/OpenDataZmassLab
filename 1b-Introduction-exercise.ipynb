{
 "cells": [
  {
   "cell_type": "markdown",
   "metadata": {},
   "source": [
    "# Labbuppgift: mäta Z-bosonens massa\n",
    "\n",
    "## 1.1 Introduktion\n",
    "   \n",
    "Börja med att läsa igenom introduktionsmaterialet om ATLAS-experimentet och hur dess detektorer används för att mäta och rekonstruera vad som händer i proton-proton-kollisionerna som Large Hadron Collider skapar. Om inte [notebook 1a](1a-Introduction-information.ipynb) fungerar så finns informationen även som pdf [här](images/1-Introduction.pdf) (högerklicka och spara om den inte öppnas).\n",
    "___________________________________________________________"
   ]
  },
  {
   "cell_type": "markdown",
   "metadata": {},
   "source": [
    "## 1.2 Dataanalys med ROOT\n",
    "Vi importerar C++-biblioteket [ROOT](https://root.cern.ch) som är en kraftfull verktygslåda för att effektivt analysera stora datamängder och visualisera resultaten. I övningarna som följer kommer ni att bekanta er med flertalet ROOT-klasser, och utförlig dokumentation finns i ROOT:s dokumentation som vi ofta länkar direkt till.\n",
    "\n",
    "Obs! Då python är populärt har python-bindningar utvecklats för C++-klasserna, men dokumentationen hänvisar nästan uteslutande till C++-syntaxen.\n",
    "\n",
    "Den första rutan nedan kommer att installera ROOT-biblioteken om denna notebook körs via Google Colab. Om du kör via docker så finns ROOT redan tillgängligt och rutan nedan gör ingenting."
   ]
  },
  {
   "cell_type": "code",
   "execution_count": null,
   "metadata": {},
   "outputs": [],
   "source": [
    "# install the ROOT libraries if you're using Google Colab - this usually takes a minute or two\n",
    "# if not we assume we're running in the docker container where it is already available\n",
    "try:\n",
    "    import google.colab\n",
    "    IN_COLAB = True\n",
    "except:\n",
    "    IN_COLAB = False\n",
    "\n",
    "if IN_COLAB:\n",
    "    # Here we install the ROOT libraries and dependencies using a python wheel package\n",
    "    # that is based on an already built version of ROOT\n",
    "    !pip install ROOT -i https://root-experimental-python-wheels.web.cern.ch\n",
    "else:\n",
    "    print(\"Not running the notebook in Google Colab, so assuming ROOT is already available\")"
   ]
  },
  {
   "cell_type": "code",
   "execution_count": null,
   "metadata": {},
   "outputs": [],
   "source": [
    "# import the ROOT module in python\n",
    "import ROOT"
   ]
  },
  {
   "cell_type": "markdown",
   "metadata": {},
   "source": [
    "### Vår första loop över kollisioner\n",
    "Vi hämtar öppet tillgänglig mätdata (sk \"open data\") från ATLAS-experimentet från internet och laddar in det i ett [ROOT-träd](https://root.cern.ch/doc/master/classTTree.html). Vi börjar med simulerad data från så kallade Monte Carlo-program, där en datormodell har genererat proton-proton-kollisioner där $Z$-bosoner skapats och sönderfallit till ett elektron-positron-par. I det som följer används förkortningen \"MC\" används för simuleringar och \"Data\" betyder experimentell data tagen med ATLAS-detektorn vid riktiga experiment."
   ]
  },
  {
   "cell_type": "markdown",
   "metadata": {},
   "source": [
    "För att hämta datan använder vi oss av python paketet [atlasopenmagic](https://opendata.atlas.cern/docs/atlasopenmagic) och specificerar sedan att vi vill kolla på data från 2016 med en total kollisionsenergi på 8 TeV. Vi väljer sedan trädnamnet *mini* vilket laddar 7.5 miljoner separata proton-proton kollisioner."
   ]
  },
  {
   "cell_type": "code",
   "execution_count": null,
   "metadata": {},
   "outputs": [],
   "source": [
    "!pip install atlasopenmagic"
   ]
  },
  {
   "cell_type": "code",
   "execution_count": null,
   "metadata": {},
   "outputs": [],
   "source": [
    "import atlasopenmagic as atom\n",
    "\n",
    "# This version will load 2016-07-29/MC/mc_147770.Zee.root\n",
    "# This is a MC data set with Z->ee events at 8 TeV.\n",
    "atom.set_release('2016e-8tev')\n",
    "\n",
    "file_urls = atom.get_urls('147770') # if you try 147771, what do you get?\n",
    "\n",
    "print(\"Available file URLs:\", file_urls)\n",
    "\n",
    "file_url = file_urls[0]\n",
    "f = ROOT.TFile.Open(file_url)\n",
    "print(\"Opened file:\", f.GetName())\n",
    "\n",
    "# Load the mini tree containing 7500000 events \n",
    "tree_name = \"mini\"\n",
    "tree = f.Get(tree_name)\n",
    "print(f\"The loaded tree '{tree_name}' contains {tree.GetEntries()} events\")"
   ]
  },
  {
   "cell_type": "markdown",
   "metadata": {},
   "source": [
    "#### Vad för typ av data finns tillgänglig för kollisionerna?\n",
    "Innan vi kör vår loop över kollisionerna tittar vi på vilka variabler som finns tillgängliga för varje händelse (event). Nedan ser ni trädets olika variabler, lagrade som sk grenar (branches). För varje gren listas datatyp och en kort beskrivning. En variabel hämtas med `tree.<branch_name>`. \n",
    "\n",
    "I denna labb ska ni titta på elektroner och/eller myoner, som är leptoner, så variablerna med namn `lep_*` kommer att vara speciellt intressanta. I kollisionshändelserna finns det olika antal leptoner, och därför finns deras variabler sparade i vektorer för varje kollisionshändelse.\n",
    "\n",
    "| Branch name                                  | Type            | Description     | \n",
    "| -------------------------------------------- | --------------- | --------------- |\n",
    " <b id=\"runNumber\">runNumber</b>               | `int`           | run number |\n",
    " <b id=\"eventNumber\">eventNumber</b>           | `int`           | event number |\n",
    " <b id=\"channelNumber\">channelNumber</b>       | `int`           | channel number, relevant for MC ||\n",
    " <b id=\"mcWeight\">mcWeight</b>                 | `float`         | weight of an MC event |\n",
    " <b id=\"pvxp_n\">pvxp_n</b>                     | `int`           | number of reconstructed primary pp vertices |\n",
    " <b id=\"scaleFactor\">scaleFactor</b>           | `float`         | overall scale factor for the preselected event |\n",
    " <b id=\"trigE\">trigE</b>                       | `bool`          | indicates whether a standard trigger has fired in the egamma stream |\n",
    " <b id=\"trigM\">trigM</b>                       | `bool`          | indicates whether a standard trigger has fired in the muon stream |\n",
    " <b id=\"passGRL\">passGRL</b>                   | `bool`          | indicates whether event passes the GRL may be put in isGoodEvent |\n",
    " <b id=\"lep_n\">lep_n</b>                       | `int`           | number of preselected leptons |\n",
    " <b id=\"lep_truthMatched\">lep_truthMatched</b> | `vector<bool>`  | indicates whether the lepton is matched to a truth lepton |\n",
    " <b id=\"lep_trigMatched\">lep_trigMatched</b>   | `vector<bool>`  | indicates whether the lepton is the one triggering the event |\n",
    " <b id=\"lep_pt\">lep_pt</b>                    | `vector<float>` | transverse momentum of the lepton [MeV] |\n",
    " <b id=\"lep_eta\">lep_eta</b>                  | `vector<float>` | pseudorapidity of the lepton |\n",
    " <b id=\"lep_phi\">lep_phi</b>                  | `vector<float>` | azimuthal angle of the lepton |\n",
    " <b id=\"lep_E\">lep_E</b>                      | `vector<float>` | energy of the lepton [MeV] |\n",
    " <b id=\"lep_z0\">lep_z0</b>                    | `vector<float>` | z-coordinate of the track associated to the lepton wrt. the primary vertex [mm] |\n",
    " <b id=\"lep_charge\">lep_charge</b>            | `vector<float>` | charge of the lepton (in unit charge) |\n",
    " <b id=\"lep_isTight\">lep_isTight</b>          | `vector<bool>`  | boolean indicating whether the lepton is of tight quality |\n",
    " <b id=\"lep_flag\">lep_flag</b>                | `vector<int>`   | bitmask implementing object cuts of the top group |\n",
    " <b id=\"lep_type\">lep_type</b>                | `vector<int>`   | number signifying the lepton type (e = 11, mu = 13, tau = 15) of the lepton |\n",
    " <b id=\"lep_ptcone30\">lep_ptcone30</b>        | `vector<float>` | ptcone30 isolation for the lepton |\n",
    " <b id=\"lep_etcone20\">lep_etcone20</b>        | `vector<float>` | etcone20 isolation for the lepton |\n",
    " <b id=\"lep_trackd0pvunbiased\">lep_trackd0pvunbiased</b> | `vector<float>`  | d0 of the track associated to the lepton at the point of closest approach (p.o.a.) [mm] |\n",
    " <b id=\"lep_tracksigd0pvunbiased\">lep_tracksigd0pvunbiased</b> | `vector<float>`  | d0 signifcance of the track associated to the lepton at the p.o.a. |\n",
    " <b id=\"met_et\">met_et                        | `float`         | transverse energy of the missing momentum vector [MeV] |\n",
    " <b id=\"met_phi\">met_phi                      | `float`         | azimuthal angle of the missing momentum vector |\n",
    " <b id=\"jet_n\">jet_n                          | `int`           | number of selected jets |\n",
    " <b id=\"jet_pt\">jet_pt                        | `vector<float>` | transverse momentum of the jet [MeV] |\n",
    " <b id=\"jet_eta\">jet_eta                      | `vector<float>` | pseudorapidity of the jet |\n",
    " <b id=\"jet_phi\">jet_phi                      | `vector<float>` | azimuthal angle of the jet |\n",
    " <b id=\"jet_E\">jet_E                          | `vector<float>` | energy of the jet [MeV] |\n",
    " <b id=\"jet_m\">jet_m                          | `vector<float>` | invariant mass of the jet [MeV] |\n",
    " <b id=\"jet_jvf\">jet_jvf                      | `vector<float>` | JetVertexFraction of the jet |\n",
    " <b id=\"jet_flag\">jet_flag                    | `vector<int>`   | bitmask implementing object cuts of the top group |\n",
    " <b id=\"jet_trueflav\">jet_trueflav            | `vector<int>`   | true flavor of the jet |\n",
    " <b id=\"jet_truthMatched\">jet_truthMatched    | `vector<int>`   | information whether the jet matches a jet on truth level |\n",
    " <b id=\"jet_SV0\">jet_SV0                      | `vector<float>` | SV0 weight of the jet (for tagging heavy-flavor hadrons) |\n",
    " <b id=\"jet_MV1\">jet_MV1                      | `vector<float>` | MV1 weight of the jet (for tagging heavy-flavor hadrons)|\n",
    " <b id=\"scaleFactor_BTAG\">scaleFactor_BTAG    | `float`         | scale factor for btagging |\n",
    " <b id=\"scaleFactor_ELE\">scaleFactor_ELE      | `float`         | scale factor for electron efficiency |\n",
    " <b id=\"scaleFactor_JVFSF\">scaleFactor_JVFSF  | `float`         | scale factor for jet vertex fraction |\n",
    " <b id=\"scaleFactor_MUON\">scaleFactor_MUON    | `float`         | scale factor for muon efficiency |\n",
    " <b id=\"scaleFactor_PILEUP\">scaleFactor_PILEUP   | `float`      | scale factor for pileup reweighting |\n",
    " <b id=\"scaleFactor_TRIGGER\">scaleFactor_TRIGGER | `float`      | scale factor for trigger |\n",
    " <b id=\"scaleFactor_ZVERTEX\">scaleFactor_ZVERTEX | `float`      | scale factor for z-vertex reweighting |"
   ]
  },
  {
   "cell_type": "markdown",
   "metadata": {},
   "source": [
    "#### Iterera över de tre första kollisionerna (en liten \"event loop\")\n",
    "Titta på koden nedan, kör den och se till att ni förstår vad den gör - ni kommer att behöva skriva liknande kod snart."
   ]
  },
  {
   "cell_type": "code",
   "execution_count": null,
   "metadata": {},
   "outputs": [],
   "source": [
    "for ievt in range(3): # let's look closer at the first three events in the tree, indexed 0, 1 and 2\n",
    "    tree.GetEntry(ievt) # load event with index ievt\n",
    "    print(\"Event {}: Number of leptons = {}\".format(ievt, tree.lep_n))   #\"lep_n\" is the number of leptons, by leptons we here mean electrons and muons\n",
    "    for ilep in range(tree.lep_n): # loop over the leptons in the event\n",
    "        print(\"         Lepton {} is of type {} and has a transverse momentum of {:.1f} GeV\".format(\n",
    "            ilep+1, \n",
    "            tree.lep_type[ilep], \n",
    "            tree.lep_pt[ilep]*1e-3) # the 1e-3 factor converts from MeV to GeV\n",
    "        )\n",
    "print(\"\\nType==11: electron/positron, type==13: muon/anti-muon\")"
   ]
  },
  {
   "cell_type": "markdown",
   "metadata": {},
   "source": [
    "**Tips:** Ett annat sätt att loopa över händelser i ett träd är att skriva `for evt in tree: evt.branch...`. Nedan används detta sätt företrädesvis."
   ]
  },
  {
   "cell_type": "markdown",
   "metadata": {},
   "source": [
    "#### Nu testar vi att göra en distribution för de transversella rörelsemängderna uppmätta för elektroner i de första 1000 händelserna.\n",
    "\n",
    "För mer info om hur histogram-klassen `TH1F` i ROOT fungerar, se [TH1-dokumentationen](https://root.cern.ch/doc/master/classTH1.html)."
   ]
  },
  {
   "cell_type": "code",
   "execution_count": null,
   "metadata": {},
   "outputs": [],
   "source": [
    "# create a histogram with 15 bins, ranging from 15 to 90 GeV\n",
    "h_pt = ROOT.TH1F(\"h_pt\", \"Electron pT; Electron transverse momentum [GeV]; Number of electrons\", 15, 15., 90.) \n",
    "nevents = 10000\n",
    "ievt = 0\n",
    "for evt in tree: # loop over the events\n",
    "    ievt += 1\n",
    "    if ievt >= nevents: break # terminate the loop after 1000 events\n",
    "        \n",
    "    for ilep in range(evt.lep_n):  # loop over leptons (lepton means electron or muon)\n",
    "        if evt.lep_type[ilep] == 11: # consider only electrons (type 11)\n",
    "            h_pt.Fill(evt.lep_pt[ilep]*1e-3) # fill histogram (file stores momentum in MeV)"
   ]
  },
  {
   "cell_type": "code",
   "execution_count": null,
   "metadata": {},
   "outputs": [],
   "source": [
    "from ROOT import TCanvas\n",
    "\n",
    "if IN_COLAB:\n",
    "    # jsroot must be turned off in Colab\n",
    "    %jsroot off\n",
    "\n",
    "canvas = ROOT.TCanvas()\n",
    "h_pt.Draw()  # \"e1\" = histogram with error bars\n",
    "canvas.Draw()"
   ]
  },
  {
   "cell_type": "code",
   "execution_count": null,
   "metadata": {},
   "outputs": [],
   "source": [
    "# You can also create a canvas where you sepcify the size and canvas name\n",
    "# OBS: You can only have one canvas with the same name open at the same time\n",
    "# If you try and rerun this more than once you will get an error\n",
    "# And you will need to rerun the entire notebook!\n",
    "canvas = ROOT.TCanvas(\"Canvas\", \"Title\", 800, 600)\n",
    "# draw the histogram\n",
    "h_pt.Draw(\"e1\") # draw option \"e1\" will draw error bars\n",
    "# open the canvas\n",
    "canvas.Draw()"
   ]
  },
  {
   "cell_type": "markdown",
   "metadata": {},
   "source": [
    "<b> OBS! </b> Om du kör via docker är den uppritade figuren interaktiv: testa att klicka runt (använd högerklick) och scrolla. Ni kan ändra stil och färg på histogrammet, titel på axlarna etc. Figuren kan sparas i png-format genom att högerklicka mitt på canvasen, eller i vektorbaserat PDF-format via kodraden `canvas.SaveAs(\"figure.pdf\")`\n",
    "___________________________________________________"
   ]
  },
  {
   "cell_type": "markdown",
   "metadata": {},
   "source": [
    "#### I nästa notebook lär vi oss om hur vi kan använda ROOT-biblioteket för att visualisera mätdatan och anpassa en matematisk modell till uppmätta distributioner för att bestämma modellens parametrar i sin modell! Vidare till [2-Fitting-with-ROOT](2-Fitting-with-ROOT.ipynb)!\n",
    "________________________________________________________"
   ]
  }
 ],
 "metadata": {
  "kernelspec": {
   "display_name": "Python 3",
   "language": "python",
   "name": "python3"
  },
  "language_info": {
   "codemirror_mode": {
    "name": "ipython",
    "version": 3
   },
   "file_extension": ".py",
   "mimetype": "text/x-python",
   "name": "python",
   "nbconvert_exporter": "python",
   "pygments_lexer": "ipython3",
   "version": "3.6.6"
  }
 },
 "nbformat": 4,
 "nbformat_minor": 2
}
