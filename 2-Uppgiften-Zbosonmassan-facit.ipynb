{
 "cells": [
  {
   "cell_type": "markdown",
   "metadata": {},
   "source": [
    "## <CENTER>  Mätning av $Z$-bosonens massa med ATLAS-data"
   ]
  },
  {
   "cell_type": "markdown",
   "metadata": {},
   "source": [
    "### Börja med att hämta datan och ladda in de i ROOT-träd."
   ]
  },
  {
   "cell_type": "code",
   "execution_count": 1,
   "metadata": {},
   "outputs": [
    {
     "name": "stdout",
     "output_type": "stream",
     "text": [
      "Welcome to JupyROOT 6.14/04\n"
     ]
    }
   ],
   "source": [
    "import ROOT"
   ]
  },
  {
   "cell_type": "code",
   "execution_count": 2,
   "metadata": {},
   "outputs": [],
   "source": [
    "# Leta på följande webbadress, där ni bör hitta två filer, en för händelser med elektroner och en för myoner\n",
    "# http://opendata.atlas.cern/release/samples\n",
    "data_file_electrons = ROOT.TFile.Open(\"http://opendata.atlas.cern/release/samples/Data/DataEgamma.root\")\n",
    "data_file_electrons_simulation = ROOT.TFile.Open(\"http://opendata.atlas.cern/release/samples/MC/mc_147770.Zee.root\")\n",
    "data_file_muons = ROOT.TFile.Open(\"http://opendata.atlas.cern/release/samples/Data/DataMuons.root\")"
   ]
  },
  {
   "cell_type": "code",
   "execution_count": 3,
   "metadata": {},
   "outputs": [],
   "source": [
    "# Ladda in i träd (TFile::ls() kan användas för att lista filens innehåll)\n",
    "tree_electrons = data_file_electrons.Get(\"mini\")\n",
    "tree_electrons_simulation = data_file_electrons_simulation.Get(\"mini\")\n",
    "tree_muons = data_file_muons.Get(\"mini\")"
   ]
  },
  {
   "cell_type": "markdown",
   "metadata": {},
   "source": [
    "### Funktioner för invariant massa"
   ]
  },
  {
   "cell_type": "code",
   "execution_count": 4,
   "metadata": {},
   "outputs": [],
   "source": [
    "def getInvMass(lep1_pt, lep1_eta, lep1_phi, lep2_pt, lep2_eta, lep2_phi):\n",
    "    ''' räkna ut invarianta massan med formeln i Introduktions-notboken (antar masslösa partiklar) '''\n",
    "    import math\n",
    "    msq = 2*lep1_pt*lep2_pt*(math.cosh(lep1_eta-lep2_eta) - math.cos(lep1_phi-lep2_phi))\n",
    "    return math.sqrt(msq)"
   ]
  },
  {
   "cell_type": "code",
   "execution_count": 5,
   "metadata": {},
   "outputs": [],
   "source": [
    "def getInvMassTL(lep1_pt, lep1_eta, lep1_phi, lep1_e, lep2_pt, lep2_eta, lep2_phi, lep2_e):\n",
    "    ''' räkna ut invarianta massan med TLorentzVectors '''\n",
    "    lep1=ROOT.TLorentzVector()\n",
    "    lep2=ROOT.TLorentzVector()\n",
    "    lep1.SetPtEtaPhiE(lep1_pt, lep1_eta, lep1_phi, lep1_e)\n",
    "    lep2.SetPtEtaPhiE(lep2_pt, lep2_eta, lep2_phi, lep2_e)\n",
    "    invmass=lep1+lep2\n",
    "    return invmass.M()"
   ]
  },
  {
   "cell_type": "markdown",
   "metadata": {},
   "source": [
    "### Förbered histogram"
   ]
  },
  {
   "cell_type": "code",
   "execution_count": 6,
   "metadata": {},
   "outputs": [],
   "source": [
    "# Definiera binnar\n",
    "nbins=50\n",
    "lowedge=30.\n",
    "upedge=150.\n",
    "# histogram för elektron-händelser och myon-händelser\n",
    "h_mass_electrons = ROOT.TH1F(\"h_mass_electrons\", \"; Invariant mass [GeV]; Number of events\", nbins, lowedge, upedge)\n",
    "h_mass_muons = ROOT.TH1F(\"h_mass_muons\", \"; Invariant mass [GeV]; Number of events\", nbins, lowedge, upedge)"
   ]
  },
  {
   "cell_type": "markdown",
   "metadata": {},
   "source": [
    "### Kör event-loopen, fyll histogram"
   ]
  },
  {
   "cell_type": "code",
   "execution_count": 7,
   "metadata": {},
   "outputs": [],
   "source": [
    "# Loopa över alla händelser, räkna ut den invarianta massan av elektron-positron-par och myon-antimyon-par\n",
    "# Detta kan t.ex. göras med hjälp av ROOT-klassen TLorentzVector eller genom att skriva en egen funktion.\n",
    "# Fyll histogram med den invarianta massan.\n",
    "# Använd vad ni lärde dig i första Introduktion-notebook.\n",
    "# Nu tittar ni på data, så varje händelse kommer inte att innehålla en Z-boson.\n",
    "# Ni måste själva sortera ut de händelser som har de karakteristiska drag man förväntar sig för Z-bosoner.\n",
    "\n",
    "ievt = 0\n",
    "for evt in tree_electrons:\n",
    "    if evt.lep_n != 2: continue\n",
    "    if not (evt.lep_type[0]==11 and evt.lep_type[1]==11): continue\n",
    "    if (evt.lep_charge[0] + evt.lep_charge[1]) != 0: continue \n",
    "    if ievt > 4000:\n",
    "        break\n",
    "        \n",
    "    # invmass_func =     getInvMass(evt.lep_pt[0]*1e-3, evt.lep_eta[0], evt.lep_phi[0],                    evt.lep_pt[1]*1e-3, evt.lep_eta[1], evt.lep_phi[1])\n",
    "    # invmass_tlorentz=getInvMassTL(evt.lep_pt[0]*1e-3, evt.lep_eta[0], evt.lep_phi[0], evt.lep_E[0]*1e-3, evt.lep_pt[1]*1e-3, evt.lep_eta[1], evt.lep_phi[1], evt.lep_E[1]*1e-3)\n",
    "    # print(\"invmass1 = {}, invmass2 = {}\".format(invmass_func, invmass_tlorentz))\n",
    "    h_mass_electrons.Fill(getInvMass(evt.lep_pt[0]*1e-3, evt.lep_eta[0], evt.lep_phi[0], evt.lep_pt[1]*1e-3, evt.lep_eta[1], evt.lep_phi[1]))\n",
    "    \n",
    "    ievt += 1\n",
    "    "
   ]
  },
  {
   "cell_type": "code",
   "execution_count": 8,
   "metadata": {},
   "outputs": [],
   "source": [
    "# Gör samma sak för MC, så kan vi rita upp den med\n",
    "h_mass_electrons_simulation = ROOT.TH1F(\"h_mass_electrons_simulation\", \"; Invariant mass [GeV]; Number of events\", nbins, lowedge, upedge)\n",
    "h_mass_muons_simulation = ROOT.TH1F(\"h_mass_muons_simulation\", \"; Invariant mass [GeV]; Number of events\", nbins, lowedge, upedge)\n",
    "ievt = 0\n",
    "for evt in tree_electrons_simulation:\n",
    "    if evt.lep_n != 2: continue\n",
    "    if not (evt.lep_type[0]==11 and evt.lep_type[1]==11): continue\n",
    "    if (evt.lep_charge[0] + evt.lep_charge[1]) != 0: continue \n",
    "    if ievt > 6000:\n",
    "        break\n",
    "        \n",
    "    # invmass_func =     getInvMass(evt.lep_pt[0]*1e-3, evt.lep_eta[0], evt.lep_phi[0],                    evt.lep_pt[1]*1e-3, evt.lep_eta[1], evt.lep_phi[1])\n",
    "    # invmass_tlorentz=getInvMassTL(evt.lep_pt[0]*1e-3, evt.lep_eta[0], evt.lep_phi[0], evt.lep_E[0]*1e-3, evt.lep_pt[1]*1e-3, evt.lep_eta[1], evt.lep_phi[1], evt.lep_E[1]*1e-3)\n",
    "    # print(\"invmass1 = {}, invmass2 = {}\".format(invmass_func, invmass_tlorentz))\n",
    "    h_mass_electrons_simulation.Fill(getInvMass(evt.lep_pt[0]*1e-3, evt.lep_eta[0], evt.lep_phi[0], evt.lep_pt[1]*1e-3, evt.lep_eta[1], evt.lep_phi[1]))\n",
    "    \n",
    "    ievt += 1"
   ]
  },
  {
   "cell_type": "markdown",
   "metadata": {},
   "source": [
    "### Rita upp den invarianta massan"
   ]
  },
  {
   "cell_type": "code",
   "execution_count": 17,
   "metadata": {},
   "outputs": [],
   "source": [
    "%jsroot on"
   ]
  },
  {
   "cell_type": "code",
   "execution_count": 18,
   "metadata": {},
   "outputs": [
    {
     "name": "stderr",
     "output_type": "stream",
     "text": [
      "Warning in <TCanvas::Constructor>: Deleting canvas with same name: canvas\n"
     ]
    }
   ],
   "source": [
    "canvas = ROOT.TCanvas(\"canvas\", \"\", 800, 600)\n",
    "# Draw data\n",
    "h_mass_electrons.Draw(\"e1p\")"
   ]
  },
  {
   "cell_type": "code",
   "execution_count": null,
   "metadata": {
    "scrolled": false
   },
   "outputs": [],
   "source": [
    "# Draw MC\n",
    "h_mass_electrons_simulation.Scale(0.5)\n",
    "h_mass_electrons_simulation.SetFillColor(ROOT.kRed)\n",
    "h_mass_electrons_simulation.SetMarkerColor(ROOT.kRed)\n",
    "h_mass_electrons_simulation.SetLineColor(ROOT.kRed)\n",
    "h_mass_electrons_simulation.Draw(\"he1 SAME\")\n",
    "canvas.Draw()"
   ]
  },
  {
   "cell_type": "markdown",
   "metadata": {},
   "source": [
    "### Anpassning med normalkurva"
   ]
  },
  {
   "cell_type": "code",
   "execution_count": null,
   "metadata": {},
   "outputs": [],
   "source": [
    "# Gör en anpassning till peaken med rätt funktion\n",
    "# prova först dummy Gauss\n",
    "h_mass_electrons.Fit(\"gaus\", \"S\", \"SAME\", 80., 100.)"
   ]
  },
  {
   "cell_type": "code",
   "execution_count": null,
   "metadata": {
    "scrolled": false
   },
   "outputs": [],
   "source": [
    "canvas.Draw()"
   ]
  },
  {
   "cell_type": "markdown",
   "metadata": {},
   "source": [
    "### Normalkurvan ser inte så bra ut, vi provar mer korrekt modell"
   ]
  },
  {
   "cell_type": "code",
   "execution_count": 11,
   "metadata": {},
   "outputs": [],
   "source": [
    "#### Prepare: setting Breit-Wigner limits, colors on functions etc.\n",
    "norm_low = 100; norm_up = 15e3\n",
    "mean_low = 80; mean_up = 100\n",
    "width_low = 0.1; width_up = 40\n",
    "def setBWLims(func):\n",
    "    ''' Set limits on BW parameters '''\n",
    "    func.SetParameters(0.5*(norm_low+norm_up), 0.5*(mean_low+mean_up), 0.5*(width_low+width_up))\n",
    "    func.SetParLimits(0, norm_low, norm_up)\n",
    "    func.SetParLimits(1, mean_low, mean_up)\n",
    "    func.SetParLimits(2, width_low, width_up)\n",
    "def setColor(ROOT_obj, color=ROOT.kBlack):\n",
    "    ''' set (line) color'''\n",
    "    ROOT_obj.SetLineColor(color)"
   ]
  },
  {
   "cell_type": "code",
   "execution_count": 19,
   "metadata": {},
   "outputs": [],
   "source": [
    "#### DEFINE SOME BREIT-WIGNER FUNCTIONS\n",
    "\n",
    "xlow_fit=30.; xup_fit=140.;\n",
    "#foo=ROOT.TMath.BreitWigner(4., 3., 3.)\n",
    "fBW = ROOT.TF1(\"fBW\", \"[0]*TMath::BreitWigner(x, [1], [2])\", xlow_fit, xup_fit)\n",
    "setBWLims(fBW)\n",
    "# declare its own function for signal\n",
    "fSig = ROOT.TF1(\"fSig\", \"[0]*TMath::BreitWigner(x, [1], [2])\", xlow_fit, xup_fit)\n",
    "# first order polynomial as background\n",
    "fFit1 = ROOT.TF1(\"fit1\", \"fBW+pol1(3)\", xlow_fit, xup_fit)\n",
    "setBWLims(fFit1)\n",
    "# second order polynomial as background\n",
    "fFit2 = ROOT.TF1(\"fit2\", \"fBW+pol2(3)\", xlow_fit, xup_fit)\n",
    "# second order polynomial only\n",
    "fBkg2 = ROOT.TF1(\"bkg2\", \"pol2\", xlow_fit, xup_fit)\n",
    "setBWLims(fFit2)\n",
    "# third order polynomial as background\n",
    "fFit3 = ROOT.TF1(\"fit3\", \"fBW+pol3(3)\", xlow_fit, xup_fit)\n",
    "setBWLims(fFit3)\n",
    "fFull = ROOT.TF1(\"fullManual\", \"[0]*[2]/((x-[1])*(x-[1]) + [2]*[2]/4) + [3]*x + [4]\", xlow_fit, xup_fit)\n",
    "setBWLims(fFull)\n",
    "# set color\n",
    "setColor(fFit1); setColor(fFit2); setColor(fFit3);\n",
    "setColor(fBW, ROOT.kRed)\n",
    "setColor(fBkg2, ROOT.kBlue)"
   ]
  },
  {
   "cell_type": "markdown",
   "metadata": {},
   "source": [
    "### Anpassning med Breit-Wigner"
   ]
  },
  {
   "cell_type": "code",
   "execution_count": 35,
   "metadata": {
    "scrolled": false
   },
   "outputs": [
    {
     "name": "stdout",
     "output_type": "stream",
     "text": [
      " FCN=158.147 FROM MIGRAD    STATUS=CONVERGED      82 CALLS          83 TOTAL\n",
      "                     EDM=2.662e-08    STRATEGY= 1      ERROR MATRIX ACCURATE \n",
      "  EXT PARAMETER                                   STEP         FIRST   \n",
      "  NO.   NAME      VALUE            ERROR          SIZE      DERIVATIVE \n",
      "   1  p0           8.12972e+03   1.73597e+02   1.15672e-04  -6.95017e-05\n",
      "   2  p1           8.98723e+01   7.77877e-02   4.28234e-05  -1.06349e-04\n",
      "   3  p2           5.53945e+00   1.81854e-01   5.85813e-05  -1.56175e-04\n",
      "   4  p3           6.52715e+01   5.63674e+00   2.74062e-03  -8.12552e-06\n",
      "   5  p4          -1.34171e+00   1.51971e-01   2.37609e-05   2.38600e-04\n",
      "   6  p5           6.30960e-03   8.52827e-04   1.91665e-07  -1.74881e-01\n"
     ]
    },
    {
     "data": {
      "text/html": [
       "\n",
       "<div id=\"root_plot_15\"\n",
       "     style=\"width: 796px; height: 572px\">\n",
       "</div>\n",
       "\n",
       "<script>\n",
       " requirejs.config({\n",
       "     paths: {\n",
       "       'JSRootCore' : 'https://root.cern.ch/js/notebook//scripts/JSRootCore',\n",
       "     }\n",
       "   });\n",
       " require(['JSRootCore'],\n",
       "     function(Core) {\n",
       "       var obj = Core.JSONR_unref({\"_typename\":\"TCanvas\",\"fUniqueID\":0,\"fBits\":53673992,\"fLineColor\":1,\"fLineStyle\":1,\"fLineWidth\":1,\"fFillColor\":0,\"fFillStyle\":1001,\"fLeftMargin\":0.1,\"fRightMargin\":0.1,\"fBottomMargin\":0.1,\"fTopMargin\":0.1,\"fXfile\":2,\"fYfile\":2,\"fAfile\":1,\"fXstat\":0.99,\"fYstat\":0.99,\"fAstat\":2,\"fFrameFillColor\":0,\"fFrameLineColor\":1,\"fFrameFillStyle\":1001,\"fFrameLineStyle\":1,\"fFrameLineWidth\":1,\"fFrameBorderSize\":1,\"fFrameBorderMode\":0,\"fX1\":14.9999988824128,\"fY1\":-113.786963619648,\"fX2\":165.000001117587,\"fY2\":1024.08260475452,\"fXtoAbsPixelk\":-79.5999428832051,\"fXtoPixelk\":-79.5999428832051,\"fXtoPixel\":5.30666658759117,\"fYtoAbsPixelk\":514.800046590614,\"fYtoPixelk\":514.800046590614,\"fYtoPixel\":-0.502693820010754,\"fUtoAbsPixelk\":5e-5,\"fUtoPixelk\":5e-5,\"fUtoPixel\":796,\"fVtoAbsPixelk\":572.00005,\"fVtoPixelk\":572,\"fVtoPixel\":-572,\"fAbsPixeltoXk\":14.9999988824128,\"fPixeltoXk\":14.9999988824128,\"fPixeltoX\":0.188442213863284,\"fAbsPixeltoYk\":1024.08260475452,\"fPixeltoYk\":-113.786963619648,\"fPixeltoY\":-1.98928246219261,\"fXlowNDC\":0,\"fYlowNDC\":0,\"fXUpNDC\":0,\"fYUpNDC\":0,\"fWNDC\":1,\"fHNDC\":1,\"fAbsXlowNDC\":0,\"fAbsYlowNDC\":0,\"fAbsWNDC\":1,\"fAbsHNDC\":1,\"fUxmin\":30,\"fUymin\":0,\"fUxmax\":150,\"fUymax\":910.295641134873,\"fTheta\":30,\"fPhi\":30,\"fAspectRatio\":0,\"fNumber\":0,\"fTickx\":0,\"fTicky\":0,\"fLogx\":0,\"fLogy\":0,\"fLogz\":0,\"fPadPaint\":0,\"fCrosshair\":0,\"fCrosshairPos\":0,\"fBorderSize\":2,\"fBorderMode\":0,\"fModified\":false,\"fGridx\":false,\"fGridy\":false,\"fAbsCoord\":false,\"fEditable\":true,\"fFixedAspectRatio\":false,\"fPrimitives\":{\"_typename\":\"TList\",\"name\":\"TList\",\"arr\":[{\"_typename\":\"TFrame\",\"fUniqueID\":0,\"fBits\":50331656,\"fLineColor\":1,\"fLineStyle\":1,\"fLineWidth\":1,\"fFillColor\":0,\"fFillStyle\":1001,\"fX1\":30,\"fY1\":0,\"fX2\":150,\"fY2\":910.295641134873,\"fBorderSize\":1,\"fBorderMode\":0},{\"_typename\":\"TH1F\",\"fUniqueID\":0,\"fBits\":50331656,\"fName\":\"h_mass_electrons\",\"fTitle\":\"\",\"fLineColor\":602,\"fLineStyle\":1,\"fLineWidth\":1,\"fFillColor\":0,\"fFillStyle\":1001,\"fMarkerColor\":1,\"fMarkerStyle\":1,\"fMarkerSize\":1,\"fNcells\":52,\"fXaxis\":{\"_typename\":\"TAxis\",\"fUniqueID\":0,\"fBits\":50331648,\"fName\":\"xaxis\",\"fTitle\":\" Invariant mass [GeV]\",\"fNdivisions\":510,\"fAxisColor\":1,\"fLabelColor\":1,\"fLabelFont\":42,\"fLabelOffset\":0.005,\"fLabelSize\":0.035,\"fTickLength\":0.03,\"fTitleOffset\":1,\"fTitleSize\":0.035,\"fTitleColor\":1,\"fTitleFont\":42,\"fNbins\":50,\"fXmin\":30,\"fXmax\":150,\"fXbins\":[],\"fFirst\":0,\"fLast\":0,\"fBits2\":0,\"fTimeDisplay\":false,\"fTimeFormat\":\"\",\"fLabels\":null,\"fModLabs\":null},\"fYaxis\":{\"_typename\":\"TAxis\",\"fUniqueID\":0,\"fBits\":50331648,\"fName\":\"yaxis\",\"fTitle\":\" Number of events\",\"fNdivisions\":510,\"fAxisColor\":1,\"fLabelColor\":1,\"fLabelFont\":42,\"fLabelOffset\":0.005,\"fLabelSize\":0.035,\"fTickLength\":0.03,\"fTitleOffset\":0,\"fTitleSize\":0.035,\"fTitleColor\":1,\"fTitleFont\":42,\"fNbins\":1,\"fXmin\":0,\"fXmax\":1,\"fXbins\":[],\"fFirst\":0,\"fLast\":0,\"fBits2\":0,\"fTimeDisplay\":false,\"fTimeFormat\":\"\",\"fLabels\":null,\"fModLabs\":null},\"fZaxis\":{\"_typename\":\"TAxis\",\"fUniqueID\":0,\"fBits\":50331648,\"fName\":\"zaxis\",\"fTitle\":\"\",\"fNdivisions\":510,\"fAxisColor\":1,\"fLabelColor\":1,\"fLabelFont\":42,\"fLabelOffset\":0.005,\"fLabelSize\":0.035,\"fTickLength\":0.03,\"fTitleOffset\":1,\"fTitleSize\":0.035,\"fTitleColor\":1,\"fTitleFont\":42,\"fNbins\":1,\"fXmin\":0,\"fXmax\":1,\"fXbins\":[],\"fFirst\":0,\"fLast\":0,\"fBits2\":0,\"fTimeDisplay\":false,\"fTimeFormat\":\"\",\"fLabels\":null,\"fModLabs\":null},\"fBarOffset\":0,\"fBarWidth\":1000,\"fEntries\":4001,\"fTsumw\":3579,\"fTsumw2\":3579,\"fTsumwx\":306294.792083041,\"fTsumwx2\":26983924.8168749,\"fMaximum\":-1111,\"fMinimum\":-1111,\"fNormFactor\":0,\"fContour\":[],\"fSumw2\":[],\"fOption\":\"\",\"fFunctions\":{\"_typename\":\"TList\",\"name\":\"TList\",\"arr\":[{\"_typename\":\"TPaveStats\",\"fUniqueID\":0,\"fBits\":50331657,\"fLineColor\":1,\"fLineStyle\":1,\"fLineWidth\":1,\"fFillColor\":0,\"fFillStyle\":1001,\"fX1\":132.000003039837,\"fY1\":768.061958652565,\"fX2\":162.000003933907,\"fY2\":950.121085523093,\"fX1NDC\":0.780000016093254,\"fY1NDC\":0.775000005960464,\"fX2NDC\":0.980000019073486,\"fY2NDC\":0.935000002384186,\"fBorderSize\":1,\"fInit\":1,\"fShadowColor\":1,\"fCornerRadius\":0,\"fOption\":\"brNDC\",\"fName\":\"stats\",\"fTextAngle\":0,\"fTextSize\":0,\"fTextAlign\":12,\"fTextColor\":1,\"fTextFont\":42,\"fLabel\":\"\",\"fLongest\":18,\"fMargin\":0.05,\"fLines\":{\"_typename\":\"TList\",\"name\":\"TList\",\"arr\":[{\"_typename\":\"TLatex\",\"fUniqueID\":0,\"fBits\":50331648,\"fName\":\"\",\"fTitle\":\"h_mass_electrons\",\"fTextAngle\":0,\"fTextSize\":0.0368,\"fTextAlign\":0,\"fTextColor\":0,\"fTextFont\":0,\"fX\":0,\"fY\":0,\"fLineColor\":1,\"fLineStyle\":1,\"fLineWidth\":2,\"fLimitFactorSize\":3,\"fOriginSize\":0.0368000008165836},{\"_typename\":\"TLatex\",\"fUniqueID\":0,\"fBits\":50331648,\"fName\":\"\",\"fTitle\":\"Entries = 4001   \",\"fTextAngle\":0,\"fTextSize\":0,\"fTextAlign\":0,\"fTextColor\":0,\"fTextFont\":0,\"fX\":0,\"fY\":0,\"fLineColor\":1,\"fLineStyle\":1,\"fLineWidth\":2,\"fLimitFactorSize\":3,\"fOriginSize\":0.04},{\"_typename\":\"TLatex\",\"fUniqueID\":0,\"fBits\":50331648,\"fName\":\"\",\"fTitle\":\"Mean  =  85.58\",\"fTextAngle\":0,\"fTextSize\":0,\"fTextAlign\":0,\"fTextColor\":0,\"fTextFont\":0,\"fX\":0,\"fY\":0,\"fLineColor\":1,\"fLineStyle\":1,\"fLineWidth\":2,\"fLimitFactorSize\":3,\"fOriginSize\":0.04},{\"_typename\":\"TLatex\",\"fUniqueID\":0,\"fBits\":50331648,\"fName\":\"\",\"fTitle\":\"Std Dev   =  14.68\",\"fTextAngle\":0,\"fTextSize\":0,\"fTextAlign\":0,\"fTextColor\":0,\"fTextFont\":0,\"fX\":0,\"fY\":0,\"fLineColor\":1,\"fLineStyle\":1,\"fLineWidth\":2,\"fLimitFactorSize\":3,\"fOriginSize\":0.04}],\"opt\":[\"\",\"\",\"\",\"\"]},\"fOptFit\":0,\"fOptStat\":1111,\"fFitFormat\":\"5.4g\",\"fStatFormat\":\"6.4g\",\"fParent\":{\"$ref\":3}},{\"_typename\":\"TF1\",\"fUniqueID\":0,\"fBits\":50332680,\"fName\":\"fit2\",\"fTitle\":\"fBW+pol2(3)\",\"fLineColor\":1,\"fLineStyle\":1,\"fLineWidth\":2,\"fFillColor\":19,\"fFillStyle\":0,\"fMarkerColor\":1,\"fMarkerStyle\":1,\"fMarkerSize\":1,\"fXmin\":30,\"fXmax\":140,\"fNpar\":6,\"fNdim\":1,\"fNpx\":100,\"fType\":0,\"fNpfits\":45,\"fNDF\":39,\"fChisquare\":158.146623510653,\"fMinimum\":-1111,\"fMaximum\":-1111,\"fParErrors\":[173.597211597687,0.0777877487204037,0.18185418065009,5.63675969597084,0.151971488339797,8.52831394071382e-4],\"fParMin\":[100,80,0.1,0,0,0],\"fParMax\":[15000,100,40,0,0,0],\"fSave\":[32.6939385426793,31.7173392698565,30.760340844538,29.8232820884945,28.9065355830144,28.0105117836463,27.1356637316022,26.2824924626901,25.4515532342234,24.6434627142374,23.8589073066085,23.0986528216709,22.3635557464023,21.6545764234533,20.9727945171376,20.3194272307713,19.6958508484268,19.1036263118039,18.5445297182363,18.0205888504683,17.5341271384357,17.0878168290988,16.6847436314463,16.3284857501257,16.0232110783715,15.7737974670141,15.5859825318446,15.4665515645672,15.4235750016284,15.4667109148047,15.6075936127829,15.8603374267761,16.2421962247975,16.7744359008644,17.4835017473642,18.4025995911661,19.5738659120167,21.0513895276616,22.9054854980818,25.2288445907269,28.1455488105314,31.8245633676778,36.5003888812217,42.5054673409006,50.3224301767573,60.6708569969669,74.6559346179571,94.0314699044714,121.67898117224,162.495239506934,224.998964425149,323.78288411682,480.130784631483,702.601791331542,903.660561765834,884.183224382779,667.902268345981,452.586988302059,305.232063489452,212.294867795998,153.115732984314,114.11413074042,87.4164482162592,68.4877641671846,54.6475440851354,44.2561958163248,36.2755571386405,30.0267178490355,25.0525238020118,21.0369694975092,17.7564454315071,15.0493795207998,12.79681905554,10.9097027931762,9.32033022865163,7.9765267573749,6.83757823012522,5.87135003227111,5.05221369161193,4.35953328438075,3.77654593070776,3.28952369814572,2.88713911431064,2.55997980905215,2.30017363147719,2.10109647739952,1.95714265560945,1.86354298019243,1.8162196017709,1.81166935112721,1.84686938090197,1.91920037181969,2.02638366935508,2.1664295400391,2.33759435804441,2.53834500533737,2.76732913076187,3.02335019269333,3.30534642670951,3.61237304908334,3.94358713997863,30,140],\"fNormalized\":false,\"fNormIntegral\":0,\"fFormula\":{\"_typename\":\"TFormula\",\"fUniqueID\":0,\"fBits\":50332672,\"fName\":\"fit2\",\"fTitle\":\"fBW+pol2(3)\",\"fClingParameters\":[8129.72371408145,89.8722690446147,5.53945039670172,65.2715086686941,-1.34171322405972,0.00630960393988676],\"fAllParametersSetted\":true,\"fParams\":[{\"$pair\":\"pair<TString,int,TFormulaParamOrder>\",\"first\":\"p0\",\"second\":0},{\"$pair\":\"pair<TString,int,TFormulaParamOrder>\",\"first\":\"p1\",\"second\":1},{\"$pair\":\"pair<TString,int,TFormulaParamOrder>\",\"first\":\"p2\",\"second\":2},{\"$pair\":\"pair<TString,int,TFormulaParamOrder>\",\"first\":\"p3\",\"second\":3},{\"$pair\":\"pair<TString,int,TFormulaParamOrder>\",\"first\":\"p4\",\"second\":4},{\"$pair\":\"pair<TString,int,TFormulaParamOrder>\",\"first\":\"p5\",\"second\":5}],\"fFormula\":\"([p0]*TMath::BreitWigner(x,[p1],[p2]))+([p3]+[p4]*x+[p5]*pow(x,2))\",\"fNdim\":1,\"fLinearParts\":[],\"fVectorized\":false},\"fParams\":null,\"fComposition_ptr\":null},{\"_typename\":\"TF1\",\"fUniqueID\":0,\"fBits\":50332680,\"fName\":\"fit2\",\"fTitle\":\"fBW+pol2(3)\",\"fLineColor\":1,\"fLineStyle\":1,\"fLineWidth\":2,\"fFillColor\":19,\"fFillStyle\":0,\"fMarkerColor\":1,\"fMarkerStyle\":1,\"fMarkerSize\":1,\"fXmin\":30,\"fXmax\":140,\"fNpar\":6,\"fNdim\":1,\"fNpx\":100,\"fType\":0,\"fNpfits\":45,\"fNDF\":39,\"fChisquare\":158.146623510646,\"fMinimum\":-1111,\"fMaximum\":-1111,\"fParErrors\":[173.597046337926,0.0777877428838138,0.181854015250082,5.63673543024218,0.151970784821031,8.5282746218203e-4],\"fParMin\":[100,80,0.1,0,0,0],\"fParMax\":[15000,100,40,0,0,0],\"fSave\":[32.6939380771054,31.7173387952517,30.7603403608712,29.8232815957308,28.9065350811158,28.0105112725707,27.1356632113032,26.2824919331167,25.4515526953194,24.6434621659407,23.8589067488507,23.0986522543765,22.3635551694881,21.6545758368271,20.9727939206973,20.3194266244041,19.6958502320072,19.1036256851926,18.5445290812781,18.0205882029903,17.5341264802447,17.0878161599783,16.6847429511535,16.3284850583871,16.0232103748787,15.7737967514181,15.5859818037493,15.4665508235215,15.4235742471168,15.466710146236,15.6075928294761,15.8603366279436,16.2421954095245,16.7744350680831,17.4835008958219,18.4025987193857,19.5738650182471,21.0513886098154,22.9054845536571,25.2288436167092,28.1455478032722,31.8245623227469,36.5003877932363,42.505466203348,50.322428981867,60.6708557357823,74.6559332810007,94.0314684840218,121.678979668879,162.495237947367,224.998962909385,323.782882934908,480.130784476713,702.60179314896,903.660564203258,884.1832226587,667.90226298857,452.586982714347,305.232058860748,212.294864107587,153.115729994593,114.114128240832,87.4164460599523,68.487762254975,54.6475423498791,44.2561942118062,36.2755556323776,30.0267164177056,25.0525224285239,21.0369681691005,17.7564441384818,15.0493782556755,12.7968178124603,10.9097015674981,9.32032901665093,7.97652555603254,6.83757703696999,5.87134884526231,5.0522125090507,4.35953210484225,3.77654475298877,3.28952252122379,2.8871379373119,2.55997863122564,2.30017245217439,2.10109529605775,1.95714147173844,1.86354179336335,1.8162184116072,1.81166815729718,1.84686818311238,1.91919916981069,2.0263824628956,2.1664283289233,2.33759314208842,2.53834378437654,2.76732790464861,3.02334896129494,3.3053451899066,3.61237180676826,3.94358589205416,30,140],\"fNormalized\":false,\"fNormIntegral\":0,\"fFormula\":{\"_typename\":\"TFormula\",\"fUniqueID\":0,\"fBits\":50332672,\"fName\":\"fit2\",\"fTitle\":\"fBW+pol2(3)\",\"fClingParameters\":[8129.72367793253,89.8722690289092,5.53945036020935,65.2715084538153,-1.34171323185992,0.00630960394458183],\"fAllParametersSetted\":true,\"fParams\":[{\"$pair\":\"pair<TString,int,TFormulaParamOrder>\",\"first\":\"p0\",\"second\":0},{\"$pair\":\"pair<TString,int,TFormulaParamOrder>\",\"first\":\"p1\",\"second\":1},{\"$pair\":\"pair<TString,int,TFormulaParamOrder>\",\"first\":\"p2\",\"second\":2},{\"$pair\":\"pair<TString,int,TFormulaParamOrder>\",\"first\":\"p3\",\"second\":3},{\"$pair\":\"pair<TString,int,TFormulaParamOrder>\",\"first\":\"p4\",\"second\":4},{\"$pair\":\"pair<TString,int,TFormulaParamOrder>\",\"first\":\"p5\",\"second\":5}],\"fFormula\":\"([p0]*TMath::BreitWigner(x,[p1],[p2]))+([p3]+[p4]*x+[p5]*pow(x,2))\",\"fNdim\":1,\"fLinearParts\":[],\"fVectorized\":false},\"fParams\":null,\"fComposition_ptr\":null}],\"opt\":[\"brNDC\",\"\",\"\"]},\"fBufferSize\":0,\"fBuffer\":[],\"fBinStatErrOpt\":0,\"fStatOverflows\":2,\"fArray\":[403,29,29,27,30,25,12,14,24,21,26,13,19,23,14,28,25,27,28,36,45,78,115,203,419,711,838,396,127,63,25,15,20,12,11,8,5,10,4,4,1,2,3,3,3,3,0,0,1,2,2,19]},{\"_typename\":\"TF1\",\"fUniqueID\":0,\"fBits\":50331656,\"fName\":\"fSig\",\"fTitle\":\"[0]*TMath::BreitWigner(x, [1], [2])\",\"fLineColor\":2,\"fLineStyle\":1,\"fLineWidth\":2,\"fFillColor\":19,\"fFillStyle\":0,\"fMarkerColor\":1,\"fMarkerStyle\":1,\"fMarkerSize\":1,\"fXmin\":30,\"fXmax\":140,\"fNpar\":3,\"fNdim\":1,\"fNpx\":100,\"fType\":0,\"fNpfits\":0,\"fNDF\":0,\"fChisquare\":0,\"fMinimum\":-1111,\"fMaximum\":-1111,\"fParErrors\":[0,0,0],\"fParMin\":[0,0,0],\"fParMax\":[0,0,0],\"fSave\":[],\"fNormalized\":false,\"fNormIntegral\":0,\"fFormula\":{\"_typename\":\"TFormula\",\"fUniqueID\":0,\"fBits\":50332672,\"fName\":\"fSig\",\"fTitle\":\"[0]*TMath::BreitWigner(x, [1], [2])\",\"fClingParameters\":[8129.72367793253,89.8722690289092,5.53945036020935],\"fAllParametersSetted\":true,\"fParams\":[{\"$pair\":\"pair<TString,int,TFormulaParamOrder>\",\"first\":\"p0\",\"second\":0},{\"$pair\":\"pair<TString,int,TFormulaParamOrder>\",\"first\":\"p1\",\"second\":1},{\"$pair\":\"pair<TString,int,TFormulaParamOrder>\",\"first\":\"p2\",\"second\":2}],\"fFormula\":\"[p0]*TMath::BreitWigner(x,[p1],[p2])\",\"fNdim\":1,\"fLinearParts\":[],\"fVectorized\":false},\"fParams\":null,\"fComposition_ptr\":null},{\"$ref\":18},{\"$ref\":18}],\"opt\":[\"\",\"e1p\",\"SAME\",\"SAME\",\"SAME\"]},\"fExecs\":null,\"fName\":\"canvas\",\"fTitle\":\"\",\"fNumPaletteColor\":0,\"fNextPaletteColor\":0,\"fDISPLAY\":\"$DISPLAY\",\"fDoubleBuffer\":0,\"fRetained\":true,\"fXsizeUser\":0,\"fYsizeUser\":0,\"fXsizeReal\":20,\"fYsizeReal\":15,\"fWindowTopX\":0,\"fWindowTopY\":0,\"fWindowWidth\":0,\"fWindowHeight\":0,\"fCw\":796,\"fCh\":572,\"fCatt\":{\"_typename\":\"TAttCanvas\",\"fXBetween\":2,\"fYBetween\":2,\"fTitleFromTop\":1.2,\"fXdate\":0.2,\"fYdate\":0.3,\"fAdate\":1},\"kMoveOpaque\":true,\"kResizeOpaque\":true,\"fHighLightColor\":2,\"fBatch\":true,\"kShowEventStatus\":false,\"kAutoExec\":true,\"kMenuBar\":true});\n",
       "       Core.draw(\"root_plot_15\", obj, \"\");\n",
       "     }\n",
       " );\n",
       "</script>\n"
      ],
      "text/plain": [
       "<IPython.core.display.HTML object>"
      ]
     },
     "metadata": {},
     "output_type": "display_data"
    }
   ],
   "source": [
    "#canvas_fit = ROOT.TCanvas(\"canvas_fit\", \"\", 800, 600) # open a new canvas\n",
    "# canvas_fit.cd()\n",
    "#canvas.Clear()\n",
    "# h_mass_electrons.Draw(\"e1p\")\n",
    "\n",
    "#canvas.Draw()\n",
    "#canvas_fit.Draw()\n",
    "fitresult=h_mass_electrons.Fit(\"fit2\", \"S+\", \"SAME\", xlow_fit, xup_fit) # store fit result\n",
    "# Draw signal and bkg on top, using fit result\n",
    "fitresult_parameters={}\n",
    "for i_p,p in enumerate(fitresult.Parameters()):\n",
    "    fitresult_parameters[i_p]=(p, fitresult.ParError(i_p))\n",
    "### signal\n",
    "for ipar in range(3): fSig.SetParameter(ipar, fitresult_parameters[ipar][0])\n",
    "# fSig.Draw(\"SAME\")\n",
    "\n",
    "### bkg\n",
    "for ipar in range(2): fBkg2.SetParameter(ipar, fitresult_parameters[ipar+3][0])\n",
    "#fBkg2.Draw(\"SAME\")\n",
    "#ROOT.disableJSVis()\n",
    "#ROOT.enableJSVis()\n",
    "canvas.Draw()\n",
    "#ROOT.disableJSVis()\n",
    "#canvas.SaveAs(\"figures/fit.pdf\")\n",
    "#for obj in canvas.GetListOfPrimitives():\n",
    "#    print(obj)"
   ]
  },
  {
   "cell_type": "code",
   "execution_count": null,
   "metadata": {
    "scrolled": true
   },
   "outputs": [],
   "source": [
    "# Draw signal and bkg on top, using fit result\n",
    "fitresult_parameters={}\n",
    "for i_p,p in enumerate(fitresult.Parameters()):\n",
    "    fitresult_parameters[i_p]=(p, fitresult.ParError(i_p))\n",
    "# signal\n",
    "fBW.SetParameter(0, fitresult_parameters[0][0])\n",
    "fBW.SetParameter(1, fitresult_parameters[1][0])\n",
    "fBW.SetParameter(2, fitresult_parameters[2][0])\n",
    "fBW.Draw(\"SAME\")\n",
    "fBW.Print()\n",
    "print([fBW.GetParameter(i) for i in range(3)])\n",
    "# bkg\n",
    "fBkg2.SetParameter(0, fitresult_parameters[0+3][0])\n",
    "fBkg2.SetParameter(1, fitresult_parameters[1+3][1])\n",
    "fBkg2.Draw(\"SAME\")"
   ]
  },
  {
   "cell_type": "code",
   "execution_count": null,
   "metadata": {},
   "outputs": [],
   "source": [
    "canvas.Draw()"
   ]
  },
  {
   "cell_type": "code",
   "execution_count": null,
   "metadata": {},
   "outputs": [],
   "source": [
    "### doesn't seem to work\n",
    "#def getNumpyArrFromBuffer(buffer,size_buffer):\n",
    "#    ''' get numpy array from buffer '''\n",
    "#    import numpy\n",
    "#    buffer.SetSize(size_buffer)\n",
    "#    return numpy.array(buffer, copy=True)"
   ]
  },
  {
   "cell_type": "code",
   "execution_count": null,
   "metadata": {},
   "outputs": [],
   "source": []
  }
 ],
 "metadata": {
  "kernelspec": {
   "display_name": "Python 3",
   "language": "python",
   "name": "python3"
  },
  "language_info": {
   "codemirror_mode": {
    "name": "ipython",
    "version": 3
   },
   "file_extension": ".py",
   "mimetype": "text/x-python",
   "name": "python",
   "nbconvert_exporter": "python",
   "pygments_lexer": "ipython3",
   "version": "3.7.0"
  }
 },
 "nbformat": 4,
 "nbformat_minor": 2
}
