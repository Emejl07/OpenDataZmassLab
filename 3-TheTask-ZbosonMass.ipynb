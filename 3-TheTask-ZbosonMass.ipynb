{
 "cells": [
  {
   "cell_type": "markdown",
   "metadata": {},
   "source": [
    "## <CENTER> Mätning av $Z$-bosonens massa med ATLAS-data\n",
    "______________________________________________"
   ]
  },
  {
   "cell_type": "markdown",
   "metadata": {},
   "source": [
    "### Med hjälp av det ni lärt er hittills får ni nu själva mäta $Z$-bosonens massa i med riktig mätdata från protonkollisioner skapade av partikelacceleratorn LHC. Nedan finns lite påbörjade förslag på kodbitar som kan vara användbara. Använd dem om ni vill. Vi finns till hands under labben, så be om hjälp om ni kör fast. \n",
    "\n",
    "### Lycka till! \n",
    "_____________________________________________"
   ]
  },
  {
   "cell_type": "code",
   "execution_count": null,
   "metadata": {},
   "outputs": [],
   "source": [
    "# install the ROOT libraries if you're using Google Colab - this usually takes a minute or two\n",
    "# if not we assume we're running in the docker container where it is already available\n",
    "try:\n",
    "  import google.colab\n",
    "  IN_COLAB = True\n",
    "except:\n",
    "  IN_COLAB = False\n",
    "\n",
    "if IN_COLAB:\n",
    "    # install ROOT and update a few other packages\n",
    "    !wget https://github.com/MohamedElashri/ROOT/releases/download/ubuntu/root_v6.28.04_Ubuntu_20.04.zip\n",
    "    !unzip /content/root_v6.28.04_Ubuntu_20.04.zip\n",
    "    !apt-get install git dpkg-dev cmake g++ gcc binutils libx11-dev libxpm-dev libxft-dev libxext-dev tar gfortran subversion\n",
    "    #!apt-get install libpython3.6-dev # seems to not be needed\n",
    "    # the following is needed because colab upgraded the openssl library\n",
    "    !wget http://archive.ubuntu.com/ubuntu/pool/main/o/openssl/libssl1.1_1.1.1f-1ubuntu2_amd64.deb\n",
    "    !sudo dpkg -i libssl1.1_1.1.1f-1ubuntu2_amd64.deb\n",
    "    # add some paths etc so that libraries can be found\n",
    "    import sys\n",
    "    sys.path.append(\"/content/root_build/\")\n",
    "    sys.path.append(\"/content/root_build/bin/\")\n",
    "    sys.path.append(\"/content/root_build/include/\")\n",
    "    sys.path.append(\"/content/root_build/lib/\")\n",
    "    import ctypes\n",
    "    ctypes.cdll.LoadLibrary('/content/root_build/lib//libCore.so')\n",
    "    ctypes.cdll.LoadLibrary('/content/root_build/lib//libThread.so')\n",
    "    ctypes.cdll.LoadLibrary('/content/root_build/lib//libTreePlayer.so')\n",
    "    print(\"Done installing ROOT - check that there were no error messages above!\")\n",
    "else:\n",
    "    print(\"Not running the notebook in Google Colab, so assuming ROOT is already available\")"
   ]
  },
  {
   "cell_type": "code",
   "execution_count": null,
   "metadata": {},
   "outputs": [],
   "source": [
    "# To use math functions like sqrt\n",
    "import math\n",
    "\n",
    "# In order to use ROOT you need to... what?\n",
    "\n",
    "# ..."
   ]
  },
  {
   "cell_type": "markdown",
   "metadata": {},
   "source": [
    "### Hämta data"
   ]
  },
  {
   "cell_type": "code",
   "execution_count": null,
   "metadata": {},
   "outputs": [],
   "source": [
    "# Visit http://opendata.atlas.cern/release/samples - you will find the Monte Carlo (MC) simulations \n",
    "# (used in previous exercise) and real data recorded by the ATLAS detector.\n",
    "# For the latter you should find two files in the \"Data\" directory, \n",
    "# one with electrons/positrons and one with muons/antimuons.\n",
    "# Complete the snippet below to load the data you want to use\n",
    "datafile = ROOT.TFile.Open(\"http://opendata.atlas.cern/release/samples/Data/...\") \n",
    "# ...\n",
    "# NB! You can use datafile.ls() to list the contents of the file"
   ]
  },
  {
   "cell_type": "code",
   "execution_count": null,
   "metadata": {},
   "outputs": [],
   "source": [
    "# load the tree object containing the data from the file\n",
    "tree = datafile.Get(\"mini\")"
   ]
  },
  {
   "cell_type": "markdown",
   "metadata": {},
   "source": [
    "### Funktion för invariant massa\n",
    "_________________________________________"
   ]
  },
  {
   "cell_type": "code",
   "execution_count": null,
   "metadata": {},
   "outputs": [],
   "source": [
    "def getInvMass(lep1_pt, lep1_eta, lep1_phi, lep2_pt, lep2_eta, lep2_phi):\n",
    "    ''' compute the invariant mass using the formula from the Introduction notebook (assume massless particles)'''\n",
    "    ...\n",
    "    return ... "
   ]
  },
  {
   "cell_type": "markdown",
   "metadata": {},
   "source": [
    "### Förbered histogram\n",
    "_______________________________"
   ]
  },
  {
   "cell_type": "code",
   "execution_count": null,
   "metadata": {},
   "outputs": [],
   "source": [
    "# create histogram for invariant mass with the desired number of bins and range\n",
    "nBins = ..\n",
    "lowerEdge = ..\n",
    "upperEdge = ..\n",
    "\n",
    "h_mass = ROOT.TH1F(\"h_mass\", \"Dilepton mass; Invariant mass [GeV]; Number of events\", nBins, lowerEdge, upperEdge)\n"
   ]
  },
  {
   "cell_type": "markdown",
   "metadata": {},
   "source": [
    "### Kör event-loopen, hitta elektron-positron/myon-antimyon-par, räkna ut invarianta massan, fyll histogram. Ni tittar på data, så alla händelser innehåller inte en $Z$-boson. Vilka krav/snitt bör ni göra i data för att hitta så \"$Z$-lika\" händelser som möjligt? Titta i notebook 1 för att se vilka variabler som finns tillgängliga.\n",
    "___________________________________________"
   ]
  },
  {
   "cell_type": "code",
   "execution_count": null,
   "metadata": {},
   "outputs": [],
   "source": [
    "for evt in tree:\n",
    "    ..."
   ]
  },
  {
   "cell_type": "markdown",
   "metadata": {},
   "source": [
    "**Tips:** För att arbeta mer effektivt, inför ett stoppkriterium så att ni under utveckligen använder ett mindre antal händelser (att köra över all data tar lång tid). När ni sedan är nöjda kan ni köra över fler händelser."
   ]
  },
  {
   "cell_type": "markdown",
   "metadata": {},
   "source": [
    "### Rita den erhållna distributionen över den invarianta massan för leptonparen. Ser ni $Z$-toppen?\n"
   ]
  },
  {
   "cell_type": "code",
   "execution_count": null,
   "metadata": {},
   "outputs": [],
   "source": [
    "canvas = ...\n",
    "h_mass.Draw(\"...\")\n",
    "canvas.Draw()"
   ]
  },
  {
   "cell_type": "markdown",
   "metadata": {},
   "source": [
    "### Gör anpassning för att kunna hitta centralvärdet, dvs det mest sannolika värdet. Vilken funktion ska anpassas? Behövs en summa av en modell som beskriver signalen ni söker ($Z$-bosoner) och en modell som beskriver bakgrunden? Prova er fram med olika funktioner och intervall för anpassningen. Titta på notebook [2-Fitting-with-ROOT](2-Fitting-with-ROOT.ipynb) igen för tips och hjälp.\n",
    "____________________________________________________"
   ]
  },
  {
   "cell_type": "markdown",
   "metadata": {},
   "source": [
    "**Tips:** Titta på dessa länkar för tips på en bra funktion att använda:\n",
    "* Lite bakgrundsinformation om sk resonanspartiklar ($Z$-bosonen är en sådan): [Wikipedia](https://en.wikipedia.org/wiki/Resonance_(particle_physics))\n",
    "* Funktioner som finns implementerade i ROOTs [TMath-klass](https://root.cern.ch/root/html524/TMath.html#TMath:BreitWigner)\n",
    "\n",
    "**Ett ytterligare tips**: se till att funktionen ni anpassar har en parameter som tillåter att funktionen kan skalas till distributionen gjord ifrån datan - annars kommer datorns möjligheter att få funktionen att passa mätdatan bero på hur många events ni loopat över, och det är bara *formen* på distributionen vi vill åt!"
   ]
  },
  {
   "cell_type": "code",
   "execution_count": null,
   "metadata": {},
   "outputs": [],
   "source": [
    "# declare function for the model you want to fit to the data\n",
    "func = ROOT.TF1(\"functionName\", ...)"
   ]
  },
  {
   "cell_type": "code",
   "execution_count": null,
   "metadata": {},
   "outputs": [],
   "source": [
    "h_mass.Fit(\"functionName\", \"S\", ...)\n",
    "canvas.Draw()"
   ]
  },
  {
   "cell_type": "markdown",
   "metadata": {},
   "source": [
    "#### Rapportskrivning\n",
    "\n",
    "Läs nu igenom instruktionerna för rapportskrivningen noggrant i [4-LabReport](4-LabReport.ipynb)."
   ]
  }
 ],
 "metadata": {
  "kernelspec": {
   "display_name": "Python 3",
   "language": "python",
   "name": "python3"
  },
  "language_info": {
   "codemirror_mode": {
    "name": "ipython",
    "version": 3
   },
   "file_extension": ".py",
   "mimetype": "text/x-python",
   "name": "python",
   "nbconvert_exporter": "python",
   "pygments_lexer": "ipython3",
   "version": "3.6.6"
  }
 },
 "nbformat": 4,
 "nbformat_minor": 2
}
